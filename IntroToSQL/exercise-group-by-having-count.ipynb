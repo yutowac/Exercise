{
 "cells": [
  {
   "cell_type": "markdown",
   "id": "c532a24b",
   "metadata": {
    "papermill": {
     "duration": 0.007654,
     "end_time": "2024-05-09T14:35:20.936830",
     "exception": false,
     "start_time": "2024-05-09T14:35:20.929176",
     "status": "completed"
    },
    "tags": []
   },
   "source": [
    "**This notebook is an exercise in the [SQL](https://www.kaggle.com/learn/intro-to-sql) course.  You can reference the tutorial at [this link](https://www.kaggle.com/dansbecker/group-by-having-count).**\n",
    "\n",
    "---\n"
   ]
  },
  {
   "cell_type": "markdown",
   "id": "2dd53d9c",
   "metadata": {
    "papermill": {
     "duration": 0.004281,
     "end_time": "2024-05-09T14:35:20.948398",
     "exception": false,
     "start_time": "2024-05-09T14:35:20.944117",
     "status": "completed"
    },
    "tags": []
   },
   "source": [
    "# Introduction\n",
    "\n",
    "Queries with **GROUP BY** can be powerful. There are many small things that can trip you up (like the order of the clauses), but it will start to feel natural once you've done it a few times. Here, you'll write queries using **GROUP BY** to answer questions from the Hacker News dataset.\n",
    "\n",
    "Before you get started, run the following cell to set everything up:"
   ]
  },
  {
   "cell_type": "code",
   "execution_count": 1,
   "id": "70b43bea",
   "metadata": {
    "execution": {
     "iopub.execute_input": "2024-05-09T14:35:20.959422Z",
     "iopub.status.busy": "2024-05-09T14:35:20.958547Z",
     "iopub.status.idle": "2024-05-09T14:35:28.018748Z",
     "shell.execute_reply": "2024-05-09T14:35:28.017637Z"
    },
    "papermill": {
     "duration": 7.068834,
     "end_time": "2024-05-09T14:35:28.021611",
     "exception": false,
     "start_time": "2024-05-09T14:35:20.952777",
     "status": "completed"
    },
    "tags": []
   },
   "outputs": [
    {
     "name": "stdout",
     "output_type": "stream",
     "text": [
      "Using Kaggle's public dataset BigQuery integration.\n",
      "Setup Complete\n"
     ]
    }
   ],
   "source": [
    "# Set up feedback system\n",
    "from learntools.core import binder\n",
    "binder.bind(globals())\n",
    "from learntools.sql.ex3 import *\n",
    "print(\"Setup Complete\")"
   ]
  },
  {
   "cell_type": "markdown",
   "id": "f65a300d",
   "metadata": {
    "papermill": {
     "duration": 0.004543,
     "end_time": "2024-05-09T14:35:28.030790",
     "exception": false,
     "start_time": "2024-05-09T14:35:28.026247",
     "status": "completed"
    },
    "tags": []
   },
   "source": [
    "The code cell below fetches the `comments` table from the `hacker_news` dataset.  We also preview the first five rows of the table."
   ]
  },
  {
   "cell_type": "code",
   "execution_count": 2,
   "id": "ec6e3b86",
   "metadata": {
    "execution": {
     "iopub.execute_input": "2024-05-09T14:35:28.042579Z",
     "iopub.status.busy": "2024-05-09T14:35:28.041462Z",
     "iopub.status.idle": "2024-05-09T14:35:28.534433Z",
     "shell.execute_reply": "2024-05-09T14:35:28.533351Z"
    },
    "papermill": {
     "duration": 0.500948,
     "end_time": "2024-05-09T14:35:28.536615",
     "exception": false,
     "start_time": "2024-05-09T14:35:28.035667",
     "status": "completed"
    },
    "tags": []
   },
   "outputs": [
    {
     "name": "stdout",
     "output_type": "stream",
     "text": [
      "Using Kaggle's public dataset BigQuery integration.\n",
      "full\n"
     ]
    },
    {
     "data": {
      "text/plain": [
       "[None]"
      ]
     },
     "execution_count": 2,
     "metadata": {},
     "output_type": "execute_result"
    }
   ],
   "source": [
    "from google.cloud import bigquery\n",
    "\n",
    "# Create a \"Client\" object\n",
    "client = bigquery.Client()\n",
    "\n",
    "# Construct a reference to the \"hacker_news\" dataset\n",
    "dataset_ref = client.dataset(\"hacker_news\", project=\"bigquery-public-data\")\n",
    "\n",
    "# API request - fetch the dataset\n",
    "dataset = client.get_dataset(dataset_ref)\n",
    "\n",
    "tables = list(client.list_tables(dataset))\n",
    "[print(table.table_id) for table in tables]"
   ]
  },
  {
   "cell_type": "code",
   "execution_count": 3,
   "id": "56136b2d",
   "metadata": {
    "execution": {
     "iopub.execute_input": "2024-05-09T14:35:28.548049Z",
     "iopub.status.busy": "2024-05-09T14:35:28.547599Z",
     "iopub.status.idle": "2024-05-09T14:35:29.466098Z",
     "shell.execute_reply": "2024-05-09T14:35:29.465015Z"
    },
    "papermill": {
     "duration": 0.926882,
     "end_time": "2024-05-09T14:35:29.468375",
     "exception": false,
     "start_time": "2024-05-09T14:35:28.541493",
     "status": "completed"
    },
    "tags": []
   },
   "outputs": [
    {
     "name": "stdout",
     "output_type": "stream",
     "text": [
      "Using Kaggle's public dataset BigQuery integration.\n"
     ]
    },
    {
     "data": {
      "text/html": [
       "<div>\n",
       "<style scoped>\n",
       "    .dataframe tbody tr th:only-of-type {\n",
       "        vertical-align: middle;\n",
       "    }\n",
       "\n",
       "    .dataframe tbody tr th {\n",
       "        vertical-align: top;\n",
       "    }\n",
       "\n",
       "    .dataframe thead th {\n",
       "        text-align: right;\n",
       "    }\n",
       "</style>\n",
       "<table border=\"1\" class=\"dataframe\">\n",
       "  <thead>\n",
       "    <tr style=\"text-align: right;\">\n",
       "      <th></th>\n",
       "      <th>title</th>\n",
       "      <th>url</th>\n",
       "      <th>text</th>\n",
       "      <th>dead</th>\n",
       "      <th>by</th>\n",
       "      <th>score</th>\n",
       "      <th>time</th>\n",
       "      <th>timestamp</th>\n",
       "      <th>type</th>\n",
       "      <th>id</th>\n",
       "      <th>parent</th>\n",
       "      <th>descendants</th>\n",
       "      <th>ranking</th>\n",
       "      <th>deleted</th>\n",
       "    </tr>\n",
       "  </thead>\n",
       "  <tbody>\n",
       "    <tr>\n",
       "      <th>0</th>\n",
       "      <td>None</td>\n",
       "      <td>None</td>\n",
       "      <td>If the crocodile looked him up on Google, we b...</td>\n",
       "      <td>None</td>\n",
       "      <td>raxxorrax</td>\n",
       "      <td>NaN</td>\n",
       "      <td>1633421535</td>\n",
       "      <td>2021-10-05 08:12:15+00:00</td>\n",
       "      <td>comment</td>\n",
       "      <td>28756662</td>\n",
       "      <td>28750122</td>\n",
       "      <td>NaN</td>\n",
       "      <td>NaN</td>\n",
       "      <td>None</td>\n",
       "    </tr>\n",
       "    <tr>\n",
       "      <th>1</th>\n",
       "      <td>None</td>\n",
       "      <td>None</td>\n",
       "      <td>What exactly are you looking for? I think Pyto...</td>\n",
       "      <td>None</td>\n",
       "      <td>abiro</td>\n",
       "      <td>NaN</td>\n",
       "      <td>1569141387</td>\n",
       "      <td>2019-09-22 08:36:27+00:00</td>\n",
       "      <td>comment</td>\n",
       "      <td>21040311</td>\n",
       "      <td>21040141</td>\n",
       "      <td>NaN</td>\n",
       "      <td>NaN</td>\n",
       "      <td>None</td>\n",
       "    </tr>\n",
       "    <tr>\n",
       "      <th>2</th>\n",
       "      <td>None</td>\n",
       "      <td>None</td>\n",
       "      <td>Ironically, this very project might help out w...</td>\n",
       "      <td>None</td>\n",
       "      <td>mjevans</td>\n",
       "      <td>NaN</td>\n",
       "      <td>1505769703</td>\n",
       "      <td>2017-09-18 21:21:43+00:00</td>\n",
       "      <td>comment</td>\n",
       "      <td>15279716</td>\n",
       "      <td>15276626</td>\n",
       "      <td>NaN</td>\n",
       "      <td>NaN</td>\n",
       "      <td>None</td>\n",
       "    </tr>\n",
       "    <tr>\n",
       "      <th>3</th>\n",
       "      <td>None</td>\n",
       "      <td>None</td>\n",
       "      <td>As you start to gain some experience it can be...</td>\n",
       "      <td>None</td>\n",
       "      <td>every_other</td>\n",
       "      <td>NaN</td>\n",
       "      <td>1538575027</td>\n",
       "      <td>2018-10-03 13:57:07+00:00</td>\n",
       "      <td>comment</td>\n",
       "      <td>18130207</td>\n",
       "      <td>18128477</td>\n",
       "      <td>NaN</td>\n",
       "      <td>NaN</td>\n",
       "      <td>None</td>\n",
       "    </tr>\n",
       "    <tr>\n",
       "      <th>4</th>\n",
       "      <td>None</td>\n",
       "      <td>None</td>\n",
       "      <td>That’s what I was referring to, yes. I heard o...</td>\n",
       "      <td>None</td>\n",
       "      <td>manmal</td>\n",
       "      <td>NaN</td>\n",
       "      <td>1615664155</td>\n",
       "      <td>2021-03-13 19:35:55+00:00</td>\n",
       "      <td>comment</td>\n",
       "      <td>26449260</td>\n",
       "      <td>26449237</td>\n",
       "      <td>NaN</td>\n",
       "      <td>NaN</td>\n",
       "      <td>None</td>\n",
       "    </tr>\n",
       "  </tbody>\n",
       "</table>\n",
       "</div>"
      ],
      "text/plain": [
       "  title   url                                               text  dead  \\\n",
       "0  None  None  If the crocodile looked him up on Google, we b...  None   \n",
       "1  None  None  What exactly are you looking for? I think Pyto...  None   \n",
       "2  None  None  Ironically, this very project might help out w...  None   \n",
       "3  None  None  As you start to gain some experience it can be...  None   \n",
       "4  None  None  That’s what I was referring to, yes. I heard o...  None   \n",
       "\n",
       "            by  score        time                 timestamp     type  \\\n",
       "0    raxxorrax    NaN  1633421535 2021-10-05 08:12:15+00:00  comment   \n",
       "1        abiro    NaN  1569141387 2019-09-22 08:36:27+00:00  comment   \n",
       "2      mjevans    NaN  1505769703 2017-09-18 21:21:43+00:00  comment   \n",
       "3  every_other    NaN  1538575027 2018-10-03 13:57:07+00:00  comment   \n",
       "4       manmal    NaN  1615664155 2021-03-13 19:35:55+00:00  comment   \n",
       "\n",
       "         id    parent  descendants  ranking deleted  \n",
       "0  28756662  28750122          NaN      NaN    None  \n",
       "1  21040311  21040141          NaN      NaN    None  \n",
       "2  15279716  15276626          NaN      NaN    None  \n",
       "3  18130207  18128477          NaN      NaN    None  \n",
       "4  26449260  26449237          NaN      NaN    None  "
      ]
     },
     "execution_count": 3,
     "metadata": {},
     "output_type": "execute_result"
    }
   ],
   "source": [
    "from google.cloud import bigquery\n",
    "\n",
    "# Create a \"Client\" object\n",
    "client = bigquery.Client()\n",
    "\n",
    "# Construct a reference to the \"hacker_news\" dataset\n",
    "dataset_ref = client.dataset(\"hacker_news\", project=\"bigquery-public-data\")\n",
    "\n",
    "# API request - fetch the dataset\n",
    "dataset = client.get_dataset(dataset_ref)\n",
    "\n",
    "# Construct a reference to the \"comments\" table\n",
    "# table_ref = dataset_ref.table(\"comments\")\n",
    "table_ref = dataset_ref.table(\"full\")\n",
    "\n",
    "# API request - fetch the table\n",
    "table = client.get_table(table_ref)\n",
    "\n",
    "# Preview the first five lines of the \"comments\" table\n",
    "client.list_rows(table, max_results=5).to_dataframe()"
   ]
  },
  {
   "cell_type": "markdown",
   "id": "7c5a7161",
   "metadata": {
    "papermill": {
     "duration": 0.004889,
     "end_time": "2024-05-09T14:35:29.478547",
     "exception": false,
     "start_time": "2024-05-09T14:35:29.473658",
     "status": "completed"
    },
    "tags": []
   },
   "source": [
    "# Exercises\n",
    "\n",
    "### 1) Prolific commenters\n",
    "\n",
    "Hacker News would like to send awards to everyone who has written more than 10,000 posts. Write a query that returns all authors with more than 10,000 posts as well as their post counts. Call the column with post counts `NumPosts`.\n",
    "\n",
    "In case sample query is helpful, here is a query you saw in the tutorial to answer a similar question:\n",
    "```\n",
    "query = \"\"\"\n",
    "        SELECT parent, COUNT(1) AS NumPosts\n",
    "        FROM `bigquery-public-data.hacker_news.comments`\n",
    "        GROUP BY parent\n",
    "        HAVING COUNT(1) > 10\n",
    "        \"\"\"\n",
    "```"
   ]
  },
  {
   "cell_type": "code",
   "execution_count": 4,
   "id": "cd6692b7",
   "metadata": {
    "execution": {
     "iopub.execute_input": "2024-05-09T14:35:29.492090Z",
     "iopub.status.busy": "2024-05-09T14:35:29.491326Z",
     "iopub.status.idle": "2024-05-09T14:35:30.342126Z",
     "shell.execute_reply": "2024-05-09T14:35:30.340916Z"
    },
    "papermill": {
     "duration": 0.860101,
     "end_time": "2024-05-09T14:35:30.344490",
     "exception": false,
     "start_time": "2024-05-09T14:35:29.484389",
     "status": "completed"
    },
    "tags": []
   },
   "outputs": [
    {
     "name": "stdout",
     "output_type": "stream",
     "text": [
      "       author  NumPosts\n",
      "0  jessaustin     12311\n",
      "1         api     10368\n",
      "2   saagarjha     18240\n",
      "3      derefr     11806\n",
      "4       pjmlp     43943\n"
     ]
    },
    {
     "data": {
      "application/javascript": [
       "parent.postMessage({\"jupyterEvent\": \"custom.exercise_interaction\", \"data\": {\"outcomeType\": 1, \"valueTowardsCompletion\": 0.5, \"interactionType\": 1, \"questionType\": 2, \"questionId\": \"1_ProlificCommenters\", \"learnToolsVersion\": \"0.3.4\", \"failureMessage\": \"\", \"exceptionClass\": \"\", \"trace\": \"\"}}, \"*\")"
      ],
      "text/plain": [
       "<IPython.core.display.Javascript object>"
      ]
     },
     "metadata": {},
     "output_type": "display_data"
    },
    {
     "data": {
      "text/markdown": [
       "<span style=\"color:#33cc33\">Correct</span>"
      ],
      "text/plain": [
       "Correct"
      ]
     },
     "metadata": {},
     "output_type": "display_data"
    }
   ],
   "source": [
    "# Query to select prolific commenters and post counts\n",
    "prolific_commenters_query = \"\"\"\n",
    "SELECT `by` AS author, COUNT(1) AS NumPosts\n",
    "FROM `bigquery-public-data.hacker_news.full`\n",
    "GROUP By author\n",
    "HAVING COUNT(1) > 10000\n",
    "\"\"\" # Your code goes here\n",
    "\n",
    "# Set up the query (cancel the query if it would use too much of \n",
    "# your quota, with the limit set to 1 GB)\n",
    "safe_config = bigquery.QueryJobConfig(maximum_bytes_billed=10**10)\n",
    "query_job = client.query(prolific_commenters_query, job_config=safe_config)\n",
    "\n",
    "# API request - run the query, and return a pandas DataFrame\n",
    "prolific_commenters = query_job.to_dataframe()\n",
    "\n",
    "# View top few rows of results\n",
    "print(prolific_commenters.head())\n",
    "\n",
    "# Check your answer\n",
    "q_1.check()"
   ]
  },
  {
   "cell_type": "markdown",
   "id": "17ba0e29",
   "metadata": {
    "papermill": {
     "duration": 0.005412,
     "end_time": "2024-05-09T14:35:30.355464",
     "exception": false,
     "start_time": "2024-05-09T14:35:30.350052",
     "status": "completed"
    },
    "tags": []
   },
   "source": [
    "For the solution, uncomment the line below."
   ]
  },
  {
   "cell_type": "code",
   "execution_count": 5,
   "id": "5c42d0d6",
   "metadata": {
    "execution": {
     "iopub.execute_input": "2024-05-09T14:35:30.368693Z",
     "iopub.status.busy": "2024-05-09T14:35:30.368059Z",
     "iopub.status.idle": "2024-05-09T14:35:30.376582Z",
     "shell.execute_reply": "2024-05-09T14:35:30.375629Z"
    },
    "papermill": {
     "duration": 0.017504,
     "end_time": "2024-05-09T14:35:30.378554",
     "exception": false,
     "start_time": "2024-05-09T14:35:30.361050",
     "status": "completed"
    },
    "tags": []
   },
   "outputs": [
    {
     "data": {
      "application/javascript": [
       "parent.postMessage({\"jupyterEvent\": \"custom.exercise_interaction\", \"data\": {\"interactionType\": 3, \"questionType\": 2, \"questionId\": \"1_ProlificCommenters\", \"learnToolsVersion\": \"0.3.4\", \"valueTowardsCompletion\": 0.0, \"failureMessage\": \"\", \"exceptionClass\": \"\", \"trace\": \"\", \"outcomeType\": 4}}, \"*\")"
      ],
      "text/plain": [
       "<IPython.core.display.Javascript object>"
      ]
     },
     "metadata": {},
     "output_type": "display_data"
    },
    {
     "data": {
      "text/markdown": [
       "<span style=\"color:#33cc99\">Solution:</span> \n",
       "```python\n",
       "\n",
       "prolific_commenters_query = \"\"\"\n",
       "                            SELECT `by` AS author, COUNT(1) AS NumPosts\n",
       "                            FROM `bigquery-public-data.hacker_news.full`\n",
       "                            GROUP BY author\n",
       "                            HAVING COUNT(1) > 10000\n",
       "                            \"\"\"\n",
       "\n",
       "```"
      ],
      "text/plain": [
       "Solution: \n",
       "```python\n",
       "\n",
       "prolific_commenters_query = \"\"\"\n",
       "                            SELECT `by` AS author, COUNT(1) AS NumPosts\n",
       "                            FROM `bigquery-public-data.hacker_news.full`\n",
       "                            GROUP BY author\n",
       "                            HAVING COUNT(1) > 10000\n",
       "                            \"\"\"\n",
       "\n",
       "```"
      ]
     },
     "metadata": {},
     "output_type": "display_data"
    }
   ],
   "source": [
    "q_1.solution()"
   ]
  },
  {
   "cell_type": "markdown",
   "id": "e4b1e8b5",
   "metadata": {
    "papermill": {
     "duration": 0.005505,
     "end_time": "2024-05-09T14:35:30.389803",
     "exception": false,
     "start_time": "2024-05-09T14:35:30.384298",
     "status": "completed"
    },
    "tags": []
   },
   "source": [
    "### 2) Deleted comments\n",
    "\n",
    "How many comments have been deleted? (If a comment was deleted, the `deleted` column in the comments table will have the value `True`.)"
   ]
  },
  {
   "cell_type": "code",
   "execution_count": 6,
   "id": "6356286e",
   "metadata": {
    "execution": {
     "iopub.execute_input": "2024-05-09T14:35:30.404148Z",
     "iopub.status.busy": "2024-05-09T14:35:30.403523Z",
     "iopub.status.idle": "2024-05-09T14:35:31.377240Z",
     "shell.execute_reply": "2024-05-09T14:35:31.375998Z"
    },
    "papermill": {
     "duration": 0.984515,
     "end_time": "2024-05-09T14:35:31.380013",
     "exception": false,
     "start_time": "2024-05-09T14:35:30.395498",
     "status": "completed"
    },
    "tags": []
   },
   "outputs": [],
   "source": [
    "# Write your query here and figure out the answer\n",
    "query = \"\"\"\n",
    "SELECT COUNT(1) AS num_deleted_posts\n",
    "FROM `bigquery-public-data.hacker_news.full`\n",
    "WHERE deleted = True\n",
    "\"\"\"\n",
    "query_job = client.query(query)\n",
    "deleted_posts = query_job.to_dataframe()"
   ]
  },
  {
   "cell_type": "code",
   "execution_count": 7,
   "id": "797ca546",
   "metadata": {
    "execution": {
     "iopub.execute_input": "2024-05-09T14:35:31.393596Z",
     "iopub.status.busy": "2024-05-09T14:35:31.392992Z",
     "iopub.status.idle": "2024-05-09T14:35:31.401568Z",
     "shell.execute_reply": "2024-05-09T14:35:31.400499Z"
    },
    "papermill": {
     "duration": 0.017834,
     "end_time": "2024-05-09T14:35:31.403571",
     "exception": false,
     "start_time": "2024-05-09T14:35:31.385737",
     "status": "completed"
    },
    "tags": []
   },
   "outputs": [
    {
     "data": {
      "text/html": [
       "<div>\n",
       "<style scoped>\n",
       "    .dataframe tbody tr th:only-of-type {\n",
       "        vertical-align: middle;\n",
       "    }\n",
       "\n",
       "    .dataframe tbody tr th {\n",
       "        vertical-align: top;\n",
       "    }\n",
       "\n",
       "    .dataframe thead th {\n",
       "        text-align: right;\n",
       "    }\n",
       "</style>\n",
       "<table border=\"1\" class=\"dataframe\">\n",
       "  <thead>\n",
       "    <tr style=\"text-align: right;\">\n",
       "      <th></th>\n",
       "      <th>num_deleted_posts</th>\n",
       "    </tr>\n",
       "  </thead>\n",
       "  <tbody>\n",
       "    <tr>\n",
       "      <th>0</th>\n",
       "      <td>859401</td>\n",
       "    </tr>\n",
       "  </tbody>\n",
       "</table>\n",
       "</div>"
      ],
      "text/plain": [
       "   num_deleted_posts\n",
       "0             859401"
      ]
     },
     "execution_count": 7,
     "metadata": {},
     "output_type": "execute_result"
    }
   ],
   "source": [
    "deleted_posts"
   ]
  },
  {
   "cell_type": "code",
   "execution_count": 8,
   "id": "fbafd562",
   "metadata": {
    "execution": {
     "iopub.execute_input": "2024-05-09T14:35:31.417105Z",
     "iopub.status.busy": "2024-05-09T14:35:31.416691Z",
     "iopub.status.idle": "2024-05-09T14:35:31.424557Z",
     "shell.execute_reply": "2024-05-09T14:35:31.423431Z"
    },
    "papermill": {
     "duration": 0.017209,
     "end_time": "2024-05-09T14:35:31.426764",
     "exception": false,
     "start_time": "2024-05-09T14:35:31.409555",
     "status": "completed"
    },
    "tags": []
   },
   "outputs": [
    {
     "data": {
      "application/javascript": [
       "parent.postMessage({\"jupyterEvent\": \"custom.exercise_interaction\", \"data\": {\"outcomeType\": 1, \"valueTowardsCompletion\": 0.5, \"interactionType\": 1, \"questionType\": 1, \"questionId\": \"2_NumDeletedPosts\", \"learnToolsVersion\": \"0.3.4\", \"failureMessage\": \"\", \"exceptionClass\": \"\", \"trace\": \"\"}}, \"*\")"
      ],
      "text/plain": [
       "<IPython.core.display.Javascript object>"
      ]
     },
     "metadata": {},
     "output_type": "display_data"
    },
    {
     "data": {
      "text/markdown": [
       "<span style=\"color:#33cc33\">Correct</span>"
      ],
      "text/plain": [
       "Correct"
      ]
     },
     "metadata": {},
     "output_type": "display_data"
    }
   ],
   "source": [
    "num_deleted_posts = 859401\n",
    "\n",
    "# Check your answer\n",
    "q_2.check()"
   ]
  },
  {
   "cell_type": "markdown",
   "id": "805a337c",
   "metadata": {
    "papermill": {
     "duration": 0.005854,
     "end_time": "2024-05-09T14:35:31.438996",
     "exception": false,
     "start_time": "2024-05-09T14:35:31.433142",
     "status": "completed"
    },
    "tags": []
   },
   "source": [
    "For the solution, uncomment the line below."
   ]
  },
  {
   "cell_type": "code",
   "execution_count": 9,
   "id": "da972e5e",
   "metadata": {
    "execution": {
     "iopub.execute_input": "2024-05-09T14:35:31.453271Z",
     "iopub.status.busy": "2024-05-09T14:35:31.452864Z",
     "iopub.status.idle": "2024-05-09T14:35:31.461878Z",
     "shell.execute_reply": "2024-05-09T14:35:31.460617Z"
    },
    "papermill": {
     "duration": 0.019007,
     "end_time": "2024-05-09T14:35:31.464122",
     "exception": false,
     "start_time": "2024-05-09T14:35:31.445115",
     "status": "completed"
    },
    "tags": []
   },
   "outputs": [
    {
     "data": {
      "application/javascript": [
       "parent.postMessage({\"jupyterEvent\": \"custom.exercise_interaction\", \"data\": {\"interactionType\": 3, \"questionType\": 1, \"questionId\": \"2_NumDeletedPosts\", \"learnToolsVersion\": \"0.3.4\", \"valueTowardsCompletion\": 0.0, \"failureMessage\": \"\", \"exceptionClass\": \"\", \"trace\": \"\", \"outcomeType\": 4}}, \"*\")"
      ],
      "text/plain": [
       "<IPython.core.display.Javascript object>"
      ]
     },
     "metadata": {},
     "output_type": "display_data"
    },
    {
     "data": {
      "text/markdown": [
       "<span style=\"color:#33cc99\">Solution:</span> \n",
       "```python\n",
       "\n",
       "# Query to determine how many posts were deleted\n",
       "deleted_posts_query = \"\"\"\n",
       "                      SELECT COUNT(1) AS num_deleted_posts\n",
       "                      FROM `bigquery-public-data.hacker_news.full`\n",
       "                      WHERE deleted = True\n",
       "                      \"\"\"\n",
       "                      \n",
       "# Set up the query\n",
       "query_job = client.query(deleted_posts_query)\n",
       "\n",
       "# API request - run the query, and return a pandas DataFrame\n",
       "deleted_posts = query_job.to_dataframe()\n",
       "\n",
       "# View results\n",
       "print(deleted_posts)\n",
       "\n",
       "num_deleted_posts = 859401\n",
       "\n",
       "```"
      ],
      "text/plain": [
       "Solution: \n",
       "```python\n",
       "\n",
       "# Query to determine how many posts were deleted\n",
       "deleted_posts_query = \"\"\"\n",
       "                      SELECT COUNT(1) AS num_deleted_posts\n",
       "                      FROM `bigquery-public-data.hacker_news.full`\n",
       "                      WHERE deleted = True\n",
       "                      \"\"\"\n",
       "                      \n",
       "# Set up the query\n",
       "query_job = client.query(deleted_posts_query)\n",
       "\n",
       "# API request - run the query, and return a pandas DataFrame\n",
       "deleted_posts = query_job.to_dataframe()\n",
       "\n",
       "# View results\n",
       "print(deleted_posts)\n",
       "\n",
       "num_deleted_posts = 859401\n",
       "\n",
       "```"
      ]
     },
     "metadata": {},
     "output_type": "display_data"
    }
   ],
   "source": [
    "q_2.solution()"
   ]
  },
  {
   "cell_type": "markdown",
   "id": "2eb9c666",
   "metadata": {
    "papermill": {
     "duration": 0.006381,
     "end_time": "2024-05-09T14:35:31.477075",
     "exception": false,
     "start_time": "2024-05-09T14:35:31.470694",
     "status": "completed"
    },
    "tags": []
   },
   "source": [
    "# Keep Going\n",
    "**[Click here](https://www.kaggle.com/dansbecker/order-by)** to move on and learn about the **ORDER BY** clause."
   ]
  },
  {
   "cell_type": "markdown",
   "id": "470e87c3",
   "metadata": {
    "papermill": {
     "duration": 0.006225,
     "end_time": "2024-05-09T14:35:31.490430",
     "exception": false,
     "start_time": "2024-05-09T14:35:31.484205",
     "status": "completed"
    },
    "tags": []
   },
   "source": [
    "---\n",
    "\n",
    "\n",
    "\n",
    "\n",
    "*Have questions or comments? Visit the [course discussion forum](https://www.kaggle.com/learn/intro-to-sql/discussion) to chat with other learners.*"
   ]
  }
 ],
 "metadata": {
  "kaggle": {
   "accelerator": "none",
   "dataSources": [
    {
     "datasetId": 6057,
     "sourceId": 285982,
     "sourceType": "datasetVersion"
    }
   ],
   "isGpuEnabled": false,
   "isInternetEnabled": false,
   "language": "python",
   "sourceType": "notebook"
  },
  "kernelspec": {
   "display_name": "Python 3",
   "language": "python",
   "name": "python3"
  },
  "language_info": {
   "codemirror_mode": {
    "name": "ipython",
    "version": 3
   },
   "file_extension": ".py",
   "mimetype": "text/x-python",
   "name": "python",
   "nbconvert_exporter": "python",
   "pygments_lexer": "ipython3",
   "version": "3.10.13"
  },
  "papermill": {
   "default_parameters": {},
   "duration": 14.262606,
   "end_time": "2024-05-09T14:35:32.320025",
   "environment_variables": {},
   "exception": null,
   "input_path": "__notebook__.ipynb",
   "output_path": "__notebook__.ipynb",
   "parameters": {},
   "start_time": "2024-05-09T14:35:18.057419",
   "version": "2.5.0"
  }
 },
 "nbformat": 4,
 "nbformat_minor": 5
}
