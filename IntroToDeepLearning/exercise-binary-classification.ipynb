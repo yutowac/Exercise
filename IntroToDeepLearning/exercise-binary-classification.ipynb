{
 "cells": [
  {
   "cell_type": "markdown",
   "id": "c7437892",
   "metadata": {
    "papermill": {
     "duration": 0.004915,
     "end_time": "2024-06-18T14:28:44.188365",
     "exception": false,
     "start_time": "2024-06-18T14:28:44.183450",
     "status": "completed"
    },
    "tags": []
   },
   "source": [
    "**This notebook is an exercise in the [Intro to Deep Learning](https://www.kaggle.com/learn/intro-to-deep-learning) course.  You can reference the tutorial at [this link](https://www.kaggle.com/ryanholbrook/binary-classification).**\n",
    "\n",
    "---\n"
   ]
  },
  {
   "cell_type": "markdown",
   "id": "fe496556",
   "metadata": {
    "papermill": {
     "duration": 0.004553,
     "end_time": "2024-06-18T14:28:44.197651",
     "exception": false,
     "start_time": "2024-06-18T14:28:44.193098",
     "status": "completed"
    },
    "tags": []
   },
   "source": [
    "# Introduction #\n",
    "\n",
    "In this exercise, you'll build a model to predict hotel cancellations with a binary classifier."
   ]
  },
  {
   "cell_type": "code",
   "execution_count": 1,
   "id": "0c24c37a",
   "metadata": {
    "execution": {
     "iopub.execute_input": "2024-06-18T14:28:44.208287Z",
     "iopub.status.busy": "2024-06-18T14:28:44.207402Z",
     "iopub.status.idle": "2024-06-18T14:28:45.012062Z",
     "shell.execute_reply": "2024-06-18T14:28:45.011196Z"
    },
    "lines_to_next_cell": 0,
    "papermill": {
     "duration": 0.812794,
     "end_time": "2024-06-18T14:28:45.014750",
     "exception": false,
     "start_time": "2024-06-18T14:28:44.201956",
     "status": "completed"
    },
    "tags": []
   },
   "outputs": [
    {
     "name": "stderr",
     "output_type": "stream",
     "text": [
      "/tmp/ipykernel_27/3338970720.py:3: MatplotlibDeprecationWarning: The seaborn styles shipped by Matplotlib are deprecated since 3.6, as they no longer correspond to the styles shipped by seaborn. However, they will remain available as 'seaborn-v0_8-<style>'. Alternatively, directly use the seaborn API instead.\n",
      "  plt.style.use('seaborn-whitegrid')\n"
     ]
    }
   ],
   "source": [
    "# Setup plotting\n",
    "import matplotlib.pyplot as plt\n",
    "plt.style.use('seaborn-whitegrid')\n",
    "# Set Matplotlib defaults\n",
    "plt.rc('figure', autolayout=True)\n",
    "plt.rc('axes', labelweight='bold', labelsize='large',\n",
    "       titleweight='bold', titlesize=18, titlepad=10)\n",
    "plt.rc('animation', html='html5')\n",
    "\n",
    "# Setup feedback system\n",
    "from learntools.core import binder\n",
    "binder.bind(globals())\n",
    "from learntools.deep_learning_intro.ex6 import *"
   ]
  },
  {
   "cell_type": "markdown",
   "id": "e039d7ac",
   "metadata": {
    "papermill": {
     "duration": 0.004521,
     "end_time": "2024-06-18T14:28:45.024167",
     "exception": false,
     "start_time": "2024-06-18T14:28:45.019646",
     "status": "completed"
    },
    "tags": []
   },
   "source": [
    "First, load the *Hotel Cancellations* dataset."
   ]
  },
  {
   "cell_type": "code",
   "execution_count": 2,
   "id": "accc25f7",
   "metadata": {
    "execution": {
     "iopub.execute_input": "2024-06-18T14:28:45.035448Z",
     "iopub.status.busy": "2024-06-18T14:28:45.034573Z",
     "iopub.status.idle": "2024-06-18T14:28:47.656194Z",
     "shell.execute_reply": "2024-06-18T14:28:47.655081Z"
    },
    "lines_to_next_cell": 2,
    "papermill": {
     "duration": 2.630028,
     "end_time": "2024-06-18T14:28:47.658874",
     "exception": false,
     "start_time": "2024-06-18T14:28:45.028846",
     "status": "completed"
    },
    "tags": []
   },
   "outputs": [],
   "source": [
    "import pandas as pd\n",
    "\n",
    "from sklearn.model_selection import train_test_split\n",
    "from sklearn.preprocessing import StandardScaler, OneHotEncoder\n",
    "from sklearn.impute import SimpleImputer\n",
    "from sklearn.pipeline import make_pipeline\n",
    "from sklearn.compose import make_column_transformer\n",
    "\n",
    "hotel = pd.read_csv('../input/dl-course-data/hotel.csv')\n",
    "\n",
    "X = hotel.copy()\n",
    "y = X.pop('is_canceled')\n",
    "\n",
    "X['arrival_date_month'] = \\\n",
    "    X['arrival_date_month'].map(\n",
    "        {'January':1, 'February': 2, 'March':3,\n",
    "         'April':4, 'May':5, 'June':6, 'July':7,\n",
    "         'August':8, 'September':9, 'October':10,\n",
    "         'November':11, 'December':12}\n",
    "    )\n",
    "\n",
    "features_num = [\n",
    "    \"lead_time\", \"arrival_date_week_number\",\n",
    "    \"arrival_date_day_of_month\", \"stays_in_weekend_nights\",\n",
    "    \"stays_in_week_nights\", \"adults\", \"children\", \"babies\",\n",
    "    \"is_repeated_guest\", \"previous_cancellations\",\n",
    "    \"previous_bookings_not_canceled\", \"required_car_parking_spaces\",\n",
    "    \"total_of_special_requests\", \"adr\",\n",
    "]\n",
    "features_cat = [\n",
    "    \"hotel\", \"arrival_date_month\", \"meal\",\n",
    "    \"market_segment\", \"distribution_channel\",\n",
    "    \"reserved_room_type\", \"deposit_type\", \"customer_type\",\n",
    "]\n",
    "\n",
    "transformer_num = make_pipeline(\n",
    "    SimpleImputer(strategy=\"constant\"), # there are a few missing values\n",
    "    StandardScaler(),\n",
    ")\n",
    "transformer_cat = make_pipeline(\n",
    "    SimpleImputer(strategy=\"constant\", fill_value=\"NA\"),\n",
    "    OneHotEncoder(handle_unknown='ignore'),\n",
    ")\n",
    "\n",
    "preprocessor = make_column_transformer(\n",
    "    (transformer_num, features_num),\n",
    "    (transformer_cat, features_cat),\n",
    ")\n",
    "\n",
    "# stratify - make sure classes are evenlly represented across splits\n",
    "X_train, X_valid, y_train, y_valid = \\\n",
    "    train_test_split(X, y, stratify=y, train_size=0.75)\n",
    "\n",
    "X_train = preprocessor.fit_transform(X_train)\n",
    "X_valid = preprocessor.transform(X_valid)\n",
    "\n",
    "input_shape = [X_train.shape[1]]"
   ]
  },
  {
   "cell_type": "markdown",
   "id": "de40bb53",
   "metadata": {
    "papermill": {
     "duration": 0.004487,
     "end_time": "2024-06-18T14:28:47.668145",
     "exception": false,
     "start_time": "2024-06-18T14:28:47.663658",
     "status": "completed"
    },
    "tags": []
   },
   "source": [
    "# 1) Define Model #\n",
    "\n",
    "The model we'll use this time will have both batch normalization and dropout layers. To ease reading we've broken the diagram into blocks, but you can define it layer by layer as usual.\n",
    "\n",
    "Define a model with an architecture given by this diagram:\n",
    "\n",
    "<figure style=\"padding: 1em;\">\n",
    "<img src=\"https://storage.googleapis.com/kaggle-media/learn/images/V04o59Z.png\" width=\"400\" alt=\"Diagram of network architecture: BatchNorm, Dense, BatchNorm, Dropout, Dense, BatchNorm, Dropout, Dense.\">\n",
    "<figcaption style=\"textalign: center; font-style: italic\"><center>Diagram of a binary classifier.</center></figcaption>\n",
    "</figure>\n"
   ]
  },
  {
   "cell_type": "code",
   "execution_count": 3,
   "id": "9e5d03fc",
   "metadata": {
    "execution": {
     "iopub.execute_input": "2024-06-18T14:28:47.679330Z",
     "iopub.status.busy": "2024-06-18T14:28:47.678472Z",
     "iopub.status.idle": "2024-06-18T14:29:00.465368Z",
     "shell.execute_reply": "2024-06-18T14:29:00.464197Z"
    },
    "lines_to_next_cell": 2,
    "papermill": {
     "duration": 12.80912,
     "end_time": "2024-06-18T14:29:00.481831",
     "exception": false,
     "start_time": "2024-06-18T14:28:47.672711",
     "status": "completed"
    },
    "tags": []
   },
   "outputs": [
    {
     "name": "stderr",
     "output_type": "stream",
     "text": [
      "2024-06-18 14:28:49.401389: E external/local_xla/xla/stream_executor/cuda/cuda_dnn.cc:9261] Unable to register cuDNN factory: Attempting to register factory for plugin cuDNN when one has already been registered\n",
      "2024-06-18 14:28:49.401499: E external/local_xla/xla/stream_executor/cuda/cuda_fft.cc:607] Unable to register cuFFT factory: Attempting to register factory for plugin cuFFT when one has already been registered\n",
      "2024-06-18 14:28:49.523015: E external/local_xla/xla/stream_executor/cuda/cuda_blas.cc:1515] Unable to register cuBLAS factory: Attempting to register factory for plugin cuBLAS when one has already been registered\n"
     ]
    },
    {
     "data": {
      "application/javascript": [
       "parent.postMessage({\"jupyterEvent\": \"custom.exercise_interaction\", \"data\": {\"outcomeType\": 2, \"failureMessage\": \"Your model doesn't have the correct kinds of layers. You should have layers with classes: ['BatchNormalization', 'Dense', 'BatchNormalization', 'Dropout', 'Dense', 'BatchNormalization', 'Dropout', 'Dense'].\", \"interactionType\": 1, \"questionType\": 2, \"questionId\": \"1_Q1\", \"learnToolsVersion\": \"0.3.4\", \"valueTowardsCompletion\": 0.0, \"exceptionClass\": \"\", \"trace\": \"\"}}, \"*\")"
      ],
      "text/plain": [
       "<IPython.core.display.Javascript object>"
      ]
     },
     "metadata": {},
     "output_type": "display_data"
    },
    {
     "data": {
      "text/markdown": [
       "<span style=\"color:#cc3333\">Incorrect:</span> Your model doesn't have the correct kinds of layers. You should have layers with classes: ['BatchNormalization', 'Dense', 'BatchNormalization', 'Dropout', 'Dense', 'BatchNormalization', 'Dropout', 'Dense']."
      ],
      "text/plain": [
       "Incorrect: Your model doesn't have the correct kinds of layers. You should have layers with classes: ['BatchNormalization', 'Dense', 'BatchNormalization', 'Dropout', 'Dense', 'BatchNormalization', 'Dropout', 'Dense']."
      ]
     },
     "metadata": {},
     "output_type": "display_data"
    }
   ],
   "source": [
    "from tensorflow import keras\n",
    "from tensorflow.keras import layers\n",
    "\n",
    "# YOUR CODE HERE: define the model given in the diagram\n",
    "model = keras.Sequential([\n",
    "    layers.BatchNormalization(input_shape=input_shape),\n",
    "    layers.Dense(256, activation='relu'),\n",
    "    layers.Dropout(0.3),\n",
    "    layers.Dense(256, activation='relu'),\n",
    "    layers.BatchNormalization(input_shape=input_shape),\n",
    "    layers.Dropout(0.3),\n",
    "    layers.Dense(1, activation='sigmoid'),\n",
    "])\n",
    "\n",
    "\n",
    "# Check your answer\n",
    "q_1.check()"
   ]
  },
  {
   "cell_type": "markdown",
   "id": "525a3fcb",
   "metadata": {
    "papermill": {
     "duration": 0.00558,
     "end_time": "2024-06-18T14:29:00.492663",
     "exception": false,
     "start_time": "2024-06-18T14:29:00.487083",
     "status": "completed"
    },
    "tags": []
   },
   "source": [
    "# 2) Add Optimizer, Loss, and Metric #\n",
    "\n",
    "Now compile the model with the Adam optimizer and binary versions of the cross-entropy loss and accuracy metric."
   ]
  },
  {
   "cell_type": "code",
   "execution_count": 4,
   "id": "f15c3a98",
   "metadata": {
    "execution": {
     "iopub.execute_input": "2024-06-18T14:29:00.504451Z",
     "iopub.status.busy": "2024-06-18T14:29:00.504091Z",
     "iopub.status.idle": "2024-06-18T14:29:00.527327Z",
     "shell.execute_reply": "2024-06-18T14:29:00.526469Z"
    },
    "lines_to_next_cell": 0,
    "papermill": {
     "duration": 0.031066,
     "end_time": "2024-06-18T14:29:00.529255",
     "exception": false,
     "start_time": "2024-06-18T14:29:00.498189",
     "status": "completed"
    },
    "tags": []
   },
   "outputs": [
    {
     "data": {
      "application/javascript": [
       "parent.postMessage({\"jupyterEvent\": \"custom.exercise_interaction\", \"data\": {\"outcomeType\": 1, \"valueTowardsCompletion\": 0.3333333333333333, \"interactionType\": 1, \"questionType\": 2, \"questionId\": \"2_Q2\", \"learnToolsVersion\": \"0.3.4\", \"failureMessage\": \"\", \"exceptionClass\": \"\", \"trace\": \"\"}}, \"*\")"
      ],
      "text/plain": [
       "<IPython.core.display.Javascript object>"
      ]
     },
     "metadata": {},
     "output_type": "display_data"
    },
    {
     "data": {
      "text/markdown": [
       "<span style=\"color:#33cc33\">Correct</span>"
      ],
      "text/plain": [
       "Correct"
      ]
     },
     "metadata": {},
     "output_type": "display_data"
    }
   ],
   "source": [
    "# YOUR CODE HERE\n",
    "model.compile(\n",
    "    optimizer='adam',\n",
    "    loss='binary_crossentropy',\n",
    "    metrics=['binary_accuracy']\n",
    ")\n",
    "\n",
    "# Check your answer\n",
    "q_2.check()"
   ]
  },
  {
   "cell_type": "code",
   "execution_count": 5,
   "id": "d9003926",
   "metadata": {
    "execution": {
     "iopub.execute_input": "2024-06-18T14:29:00.541309Z",
     "iopub.status.busy": "2024-06-18T14:29:00.540945Z",
     "iopub.status.idle": "2024-06-18T14:29:00.544716Z",
     "shell.execute_reply": "2024-06-18T14:29:00.543922Z"
    },
    "lines_to_next_cell": 0,
    "papermill": {
     "duration": 0.01225,
     "end_time": "2024-06-18T14:29:00.546716",
     "exception": false,
     "start_time": "2024-06-18T14:29:00.534466",
     "status": "completed"
    },
    "tags": []
   },
   "outputs": [],
   "source": [
    "# Lines below will give you a hint or solution code\n",
    "#q_2.hint()\n",
    "#q_2.solution()"
   ]
  },
  {
   "cell_type": "markdown",
   "id": "fa760e1e",
   "metadata": {
    "papermill": {
     "duration": 0.005027,
     "end_time": "2024-06-18T14:29:00.556874",
     "exception": false,
     "start_time": "2024-06-18T14:29:00.551847",
     "status": "completed"
    },
    "tags": []
   },
   "source": [
    "Finally, run this cell to train the model and view the learning curves. It may run for around 60 to 70 epochs, which could take a minute or two."
   ]
  },
  {
   "cell_type": "code",
   "execution_count": 6,
   "id": "31b361c0",
   "metadata": {
    "execution": {
     "iopub.execute_input": "2024-06-18T14:29:00.568512Z",
     "iopub.status.busy": "2024-06-18T14:29:00.568160Z",
     "iopub.status.idle": "2024-06-18T14:29:44.473070Z",
     "shell.execute_reply": "2024-06-18T14:29:44.472068Z"
    },
    "papermill": {
     "duration": 43.91365,
     "end_time": "2024-06-18T14:29:44.475562",
     "exception": false,
     "start_time": "2024-06-18T14:29:00.561912",
     "status": "completed"
    },
    "tags": []
   },
   "outputs": [
    {
     "name": "stdout",
     "output_type": "stream",
     "text": [
      "Epoch 1/200\n"
     ]
    },
    {
     "name": "stderr",
     "output_type": "stream",
     "text": [
      "WARNING: All log messages before absl::InitializeLog() is called are written to STDERR\n",
      "I0000 00:00:1718720944.572915      70 device_compiler.h:186] Compiled cluster using XLA!  This line is logged at most once for the lifetime of the process.\n"
     ]
    },
    {
     "name": "stdout",
     "output_type": "stream",
     "text": [
      "175/175 [==============================] - 6s 6ms/step - loss: 0.4832 - binary_accuracy: 0.7700 - val_loss: 0.4432 - val_binary_accuracy: 0.8043\n",
      "Epoch 2/200\n",
      "175/175 [==============================] - 1s 5ms/step - loss: 0.4267 - binary_accuracy: 0.8000 - val_loss: 0.4082 - val_binary_accuracy: 0.8087\n",
      "Epoch 3/200\n",
      "175/175 [==============================] - 1s 5ms/step - loss: 0.4113 - binary_accuracy: 0.8071 - val_loss: 0.3996 - val_binary_accuracy: 0.8129\n",
      "Epoch 4/200\n",
      "175/175 [==============================] - 1s 5ms/step - loss: 0.4038 - binary_accuracy: 0.8117 - val_loss: 0.3942 - val_binary_accuracy: 0.8173\n",
      "Epoch 5/200\n",
      "175/175 [==============================] - 1s 5ms/step - loss: 0.3982 - binary_accuracy: 0.8148 - val_loss: 0.3893 - val_binary_accuracy: 0.8212\n",
      "Epoch 6/200\n",
      "175/175 [==============================] - 1s 5ms/step - loss: 0.3928 - binary_accuracy: 0.8172 - val_loss: 0.3838 - val_binary_accuracy: 0.8223\n",
      "Epoch 7/200\n",
      "175/175 [==============================] - 1s 5ms/step - loss: 0.3884 - binary_accuracy: 0.8190 - val_loss: 0.3815 - val_binary_accuracy: 0.8241\n",
      "Epoch 8/200\n",
      "175/175 [==============================] - 1s 5ms/step - loss: 0.3858 - binary_accuracy: 0.8208 - val_loss: 0.3787 - val_binary_accuracy: 0.8268\n",
      "Epoch 9/200\n",
      "175/175 [==============================] - 1s 5ms/step - loss: 0.3817 - binary_accuracy: 0.8236 - val_loss: 0.3755 - val_binary_accuracy: 0.8290\n",
      "Epoch 10/200\n",
      "175/175 [==============================] - 1s 5ms/step - loss: 0.3792 - binary_accuracy: 0.8252 - val_loss: 0.3730 - val_binary_accuracy: 0.8296\n",
      "Epoch 11/200\n",
      "175/175 [==============================] - 1s 5ms/step - loss: 0.3761 - binary_accuracy: 0.8264 - val_loss: 0.3699 - val_binary_accuracy: 0.8307\n",
      "Epoch 12/200\n",
      "175/175 [==============================] - 1s 5ms/step - loss: 0.3739 - binary_accuracy: 0.8265 - val_loss: 0.3691 - val_binary_accuracy: 0.8309\n",
      "Epoch 13/200\n",
      "175/175 [==============================] - 1s 5ms/step - loss: 0.3724 - binary_accuracy: 0.8285 - val_loss: 0.3682 - val_binary_accuracy: 0.8312\n",
      "Epoch 14/200\n",
      "175/175 [==============================] - 1s 5ms/step - loss: 0.3698 - binary_accuracy: 0.8294 - val_loss: 0.3664 - val_binary_accuracy: 0.8348\n",
      "Epoch 15/200\n",
      "175/175 [==============================] - 1s 5ms/step - loss: 0.3680 - binary_accuracy: 0.8297 - val_loss: 0.3648 - val_binary_accuracy: 0.8342\n",
      "Epoch 16/200\n",
      "175/175 [==============================] - 1s 5ms/step - loss: 0.3668 - binary_accuracy: 0.8292 - val_loss: 0.3638 - val_binary_accuracy: 0.8329\n",
      "Epoch 17/200\n",
      "175/175 [==============================] - 1s 5ms/step - loss: 0.3640 - binary_accuracy: 0.8319 - val_loss: 0.3613 - val_binary_accuracy: 0.8335\n",
      "Epoch 18/200\n",
      "175/175 [==============================] - 1s 5ms/step - loss: 0.3638 - binary_accuracy: 0.8312 - val_loss: 0.3622 - val_binary_accuracy: 0.8334\n",
      "Epoch 19/200\n",
      "175/175 [==============================] - 1s 5ms/step - loss: 0.3612 - binary_accuracy: 0.8334 - val_loss: 0.3619 - val_binary_accuracy: 0.8327\n",
      "Epoch 20/200\n",
      "175/175 [==============================] - 1s 5ms/step - loss: 0.3601 - binary_accuracy: 0.8346 - val_loss: 0.3595 - val_binary_accuracy: 0.8358\n",
      "Epoch 21/200\n",
      "175/175 [==============================] - 1s 5ms/step - loss: 0.3593 - binary_accuracy: 0.8346 - val_loss: 0.3594 - val_binary_accuracy: 0.8357\n",
      "Epoch 22/200\n",
      "175/175 [==============================] - 1s 5ms/step - loss: 0.3562 - binary_accuracy: 0.8349 - val_loss: 0.3575 - val_binary_accuracy: 0.8364\n",
      "Epoch 23/200\n",
      "175/175 [==============================] - 1s 5ms/step - loss: 0.3563 - binary_accuracy: 0.8352 - val_loss: 0.3573 - val_binary_accuracy: 0.8372\n",
      "Epoch 24/200\n",
      "175/175 [==============================] - 1s 5ms/step - loss: 0.3550 - binary_accuracy: 0.8362 - val_loss: 0.3562 - val_binary_accuracy: 0.8374\n",
      "Epoch 25/200\n",
      "175/175 [==============================] - 1s 5ms/step - loss: 0.3540 - binary_accuracy: 0.8374 - val_loss: 0.3553 - val_binary_accuracy: 0.8374\n",
      "Epoch 26/200\n",
      "175/175 [==============================] - 1s 5ms/step - loss: 0.3520 - binary_accuracy: 0.8384 - val_loss: 0.3552 - val_binary_accuracy: 0.8377\n",
      "Epoch 27/200\n",
      "175/175 [==============================] - 1s 5ms/step - loss: 0.3507 - binary_accuracy: 0.8380 - val_loss: 0.3528 - val_binary_accuracy: 0.8376\n",
      "Epoch 28/200\n",
      "175/175 [==============================] - 1s 5ms/step - loss: 0.3504 - binary_accuracy: 0.8382 - val_loss: 0.3530 - val_binary_accuracy: 0.8381\n",
      "Epoch 29/200\n",
      "175/175 [==============================] - 1s 5ms/step - loss: 0.3499 - binary_accuracy: 0.8385 - val_loss: 0.3512 - val_binary_accuracy: 0.8395\n",
      "Epoch 30/200\n",
      "175/175 [==============================] - 1s 5ms/step - loss: 0.3491 - binary_accuracy: 0.8387 - val_loss: 0.3524 - val_binary_accuracy: 0.8402\n",
      "Epoch 31/200\n",
      "175/175 [==============================] - 1s 5ms/step - loss: 0.3474 - binary_accuracy: 0.8395 - val_loss: 0.3530 - val_binary_accuracy: 0.8383\n",
      "Epoch 32/200\n",
      "175/175 [==============================] - 1s 5ms/step - loss: 0.3480 - binary_accuracy: 0.8398 - val_loss: 0.3540 - val_binary_accuracy: 0.8397\n",
      "Epoch 33/200\n",
      "175/175 [==============================] - 1s 5ms/step - loss: 0.3444 - binary_accuracy: 0.8404 - val_loss: 0.3525 - val_binary_accuracy: 0.8380\n",
      "Epoch 34/200\n",
      "175/175 [==============================] - 1s 5ms/step - loss: 0.3457 - binary_accuracy: 0.8411 - val_loss: 0.3502 - val_binary_accuracy: 0.8414\n",
      "Epoch 35/200\n",
      "175/175 [==============================] - 1s 5ms/step - loss: 0.3430 - binary_accuracy: 0.8426 - val_loss: 0.3524 - val_binary_accuracy: 0.8393\n",
      "Epoch 36/200\n",
      "175/175 [==============================] - 1s 5ms/step - loss: 0.3427 - binary_accuracy: 0.8412 - val_loss: 0.3507 - val_binary_accuracy: 0.8397\n",
      "Epoch 37/200\n",
      "175/175 [==============================] - 1s 5ms/step - loss: 0.3416 - binary_accuracy: 0.8420 - val_loss: 0.3499 - val_binary_accuracy: 0.8417\n",
      "Epoch 38/200\n",
      "175/175 [==============================] - 1s 5ms/step - loss: 0.3408 - binary_accuracy: 0.8430 - val_loss: 0.3488 - val_binary_accuracy: 0.8401\n",
      "Epoch 39/200\n",
      "175/175 [==============================] - 1s 5ms/step - loss: 0.3410 - binary_accuracy: 0.8425 - val_loss: 0.3487 - val_binary_accuracy: 0.8422\n",
      "Epoch 40/200\n",
      "175/175 [==============================] - 1s 5ms/step - loss: 0.3393 - binary_accuracy: 0.8434 - val_loss: 0.3467 - val_binary_accuracy: 0.8422\n",
      "Epoch 41/200\n",
      "175/175 [==============================] - 1s 5ms/step - loss: 0.3395 - binary_accuracy: 0.8435 - val_loss: 0.3479 - val_binary_accuracy: 0.8427\n",
      "Epoch 42/200\n",
      "175/175 [==============================] - 1s 5ms/step - loss: 0.3401 - binary_accuracy: 0.8428 - val_loss: 0.3509 - val_binary_accuracy: 0.8401\n",
      "Epoch 43/200\n",
      "175/175 [==============================] - 1s 5ms/step - loss: 0.3384 - binary_accuracy: 0.8433 - val_loss: 0.3463 - val_binary_accuracy: 0.8429\n",
      "Epoch 44/200\n",
      "175/175 [==============================] - 1s 5ms/step - loss: 0.3368 - binary_accuracy: 0.8439 - val_loss: 0.3490 - val_binary_accuracy: 0.8418\n",
      "Epoch 45/200\n",
      "175/175 [==============================] - 1s 5ms/step - loss: 0.3365 - binary_accuracy: 0.8443 - val_loss: 0.3459 - val_binary_accuracy: 0.8430\n"
     ]
    },
    {
     "data": {
      "text/plain": [
       "<Axes: title={'center': 'Accuracy'}>"
      ]
     },
     "execution_count": 6,
     "metadata": {},
     "output_type": "execute_result"
    },
    {
     "data": {
      "image/png": "[encoded data removed]",
      "text/plain": [
       "<Figure size 640x480 with 1 Axes>"
      ]
     },
     "metadata": {},
     "output_type": "display_data"
    },
    {
     "data": {
      "image/png": "[encoded data removed]",
      "text/plain": [
       "<Figure size 640x480 with 1 Axes>"
      ]
     },
     "metadata": {},
     "output_type": "display_data"
    }
   ],
   "source": [
    "early_stopping = keras.callbacks.EarlyStopping(\n",
    "    patience=5,\n",
    "    min_delta=0.001,\n",
    "    restore_best_weights=True,\n",
    ")\n",
    "history = model.fit(\n",
    "    X_train, y_train,\n",
    "    validation_data=(X_valid, y_valid),\n",
    "    batch_size=512,\n",
    "    epochs=200,\n",
    "    callbacks=[early_stopping],\n",
    ")\n",
    "\n",
    "history_df = pd.DataFrame(history.history)\n",
    "history_df.loc[:, ['loss', 'val_loss']].plot(title=\"Cross-entropy\")\n",
    "history_df.loc[:, ['binary_accuracy', 'val_binary_accuracy']].plot(title=\"Accuracy\")"
   ]
  },
  {
   "cell_type": "markdown",
   "id": "0003c726",
   "metadata": {
    "papermill": {
     "duration": 0.06306,
     "end_time": "2024-06-18T14:29:44.605742",
     "exception": false,
     "start_time": "2024-06-18T14:29:44.542682",
     "status": "completed"
    },
    "tags": []
   },
   "source": [
    "# 3) Train and Evaluate #\n",
    "\n",
    "\n",
    "What do you think about the learning curves? Does it look like the model underfit or overfit? Was the cross-entropy loss a good stand-in for accuracy?"
   ]
  },
  {
   "cell_type": "code",
   "execution_count": 7,
   "id": "1188839a",
   "metadata": {
    "execution": {
     "iopub.execute_input": "2024-06-18T14:29:44.735101Z",
     "iopub.status.busy": "2024-06-18T14:29:44.734308Z",
     "iopub.status.idle": "2024-06-18T14:29:44.742078Z",
     "shell.execute_reply": "2024-06-18T14:29:44.741253Z"
    },
    "papermill": {
     "duration": 0.074837,
     "end_time": "2024-06-18T14:29:44.743994",
     "exception": false,
     "start_time": "2024-06-18T14:29:44.669157",
     "status": "completed"
    },
    "tags": []
   },
   "outputs": [
    {
     "data": {
      "application/javascript": [
       "parent.postMessage({\"jupyterEvent\": \"custom.exercise_interaction\", \"data\": {\"outcomeType\": 1, \"valueTowardsCompletion\": 0.3333333333333333, \"interactionType\": 1, \"questionType\": 4, \"questionId\": \"3_Q3\", \"learnToolsVersion\": \"0.3.4\", \"failureMessage\": \"\", \"exceptionClass\": \"\", \"trace\": \"\"}}, \"*\")"
      ],
      "text/plain": [
       "<IPython.core.display.Javascript object>"
      ]
     },
     "metadata": {},
     "output_type": "display_data"
    },
    {
     "data": {
      "text/markdown": [
       "<span style=\"color:#33cc33\">Correct:</span> \n",
       "\n",
       "Though we can see the training loss continuing to fall, the early stopping callback prevented any overfitting. Moreover, the accuracy rose at the same rate as the cross-entropy fell, so it appears that minimizing cross-entropy was a good stand-in. All in all, it looks like this training was a success!"
      ],
      "text/plain": [
       "Correct: \n",
       "\n",
       "Though we can see the training loss continuing to fall, the early stopping callback prevented any overfitting. Moreover, the accuracy rose at the same rate as the cross-entropy fell, so it appears that minimizing cross-entropy was a good stand-in. All in all, it looks like this training was a success!"
      ]
     },
     "metadata": {},
     "output_type": "display_data"
    }
   ],
   "source": [
    "# View the solution (Run this cell to receive credit!)\n",
    "q_3.check()"
   ]
  },
  {
   "cell_type": "markdown",
   "id": "b9b2545c",
   "metadata": {
    "papermill": {
     "duration": 0.064386,
     "end_time": "2024-06-18T14:29:44.872767",
     "exception": false,
     "start_time": "2024-06-18T14:29:44.808381",
     "status": "completed"
    },
    "tags": []
   },
   "source": [
    "# Conclusion #\n",
    "\n",
    "Congratulations! You've completed Kaggle's *Introduction to Deep Learning* course!\n",
    "\n",
    "With your new skills you're ready to take on more advanced applications like computer vision and sentiment classification. What would you like to do next?\n",
    "\n",
    "Why not try one of our *Getting Started* competitions?\n",
    "\n",
    "- Classify images with TPUs in [**Petals to the Metal**](https://www.kaggle.com/c/tpu-getting-started)\n",
    "- Create art with GANs in [**I'm Something of a Painter Myself**](https://www.kaggle.com/c/gan-getting-started)\n",
    "- Classify Tweets in [**Real or Not? NLP with Disaster Tweets**](https://www.kaggle.com/c/nlp-getting-started)\n",
    "- Detect contradiction and entailment in [**Contradictory, My Dear Watson**](https://www.kaggle.com/c/contradictory-my-dear-watson)\n",
    "\n",
    "Until next time, Kagglers!"
   ]
  },
  {
   "cell_type": "markdown",
   "id": "fb2a9aa0",
   "metadata": {
    "papermill": {
     "duration": 0.062615,
     "end_time": "2024-06-18T14:29:44.998619",
     "exception": false,
     "start_time": "2024-06-18T14:29:44.936004",
     "status": "completed"
    },
    "tags": []
   },
   "source": [
    "---\n",
    "\n",
    "\n",
    "\n",
    "\n",
    "*Have questions or comments? Visit the [course discussion forum](https://www.kaggle.com/learn/intro-to-deep-learning/discussion) to chat with other learners.*"
   ]
  }
 ],
 "metadata": {
  "jupytext": {
   "cell_metadata_filter": "-all",
   "formats": "ipynb"
  },
  "kaggle": {
   "accelerator": "gpu",
   "dataSources": [
    {
     "datasetId": 829369,
     "sourceId": 1480608,
     "sourceType": "datasetVersion"
    }
   ],
   "dockerImageVersionId": 30648,
   "isGpuEnabled": true,
   "isInternetEnabled": false,
   "language": "python",
   "sourceType": "notebook"
  },
  "kernelspec": {
   "display_name": "Python 3",
   "language": "python",
   "name": "python3"
  },
  "language_info": {
   "codemirror_mode": {
    "name": "ipython",
    "version": 3
   },
   "file_extension": ".py",
   "mimetype": "text/x-python",
   "name": "python",
   "nbconvert_exporter": "python",
   "pygments_lexer": "ipython3",
   "version": "3.10.13"
  },
  "papermill": {
   "default_parameters": {},
   "duration": 66.157681,
   "end_time": "2024-06-18T14:29:47.648175",
   "environment_variables": {},
   "exception": null,
   "input_path": "__notebook__.ipynb",
   "output_path": "__notebook__.ipynb",
   "parameters": {},
   "start_time": "2024-06-18T14:28:41.490494",
   "version": "2.5.0"
  }
 },
 "nbformat": 4,
 "nbformat_minor": 5
}
