{
 "cells": [
  {
   "cell_type": "markdown",
   "id": "ab85a0af",
   "metadata": {
    "papermill": {
     "duration": 0.004844,
     "end_time": "2024-06-19T02:28:26.675292",
     "exception": false,
     "start_time": "2024-06-19T02:28:26.670448",
     "status": "completed"
    },
    "tags": []
   },
   "source": [
    "**This notebook is an exercise in the [Intro to Deep Learning](https://www.kaggle.com/learn/intro-to-deep-learning) course.  You can reference the tutorial at [this link](https://www.kaggle.com/ryanholbrook/binary-classification).**\n",
    "\n",
    "---\n"
   ]
  },
  {
   "cell_type": "markdown",
   "id": "99dfe7fa",
   "metadata": {
    "papermill": {
     "duration": 0.004073,
     "end_time": "2024-06-19T02:28:26.683909",
     "exception": false,
     "start_time": "2024-06-19T02:28:26.679836",
     "status": "completed"
    },
    "tags": []
   },
   "source": [
    "# Introduction #\n",
    "\n",
    "In this exercise, you'll build a model to predict hotel cancellations with a binary classifier."
   ]
  },
  {
   "cell_type": "code",
   "execution_count": 1,
   "id": "4997370b",
   "metadata": {
    "execution": {
     "iopub.execute_input": "2024-06-19T02:28:26.694148Z",
     "iopub.status.busy": "2024-06-19T02:28:26.693503Z",
     "iopub.status.idle": "2024-06-19T02:28:27.486671Z",
     "shell.execute_reply": "2024-06-19T02:28:27.485489Z"
    },
    "lines_to_next_cell": 0,
    "papermill": {
     "duration": 0.801105,
     "end_time": "2024-06-19T02:28:27.489249",
     "exception": false,
     "start_time": "2024-06-19T02:28:26.688144",
     "status": "completed"
    },
    "tags": []
   },
   "outputs": [
    {
     "name": "stderr",
     "output_type": "stream",
     "text": [
      "/tmp/ipykernel_25/3338970720.py:3: MatplotlibDeprecationWarning: The seaborn styles shipped by Matplotlib are deprecated since 3.6, as they no longer correspond to the styles shipped by seaborn. However, they will remain available as 'seaborn-v0_8-<style>'. Alternatively, directly use the seaborn API instead.\n",
      "  plt.style.use('seaborn-whitegrid')\n"
     ]
    }
   ],
   "source": [
    "# Setup plotting\n",
    "import matplotlib.pyplot as plt\n",
    "plt.style.use('seaborn-whitegrid')\n",
    "# Set Matplotlib defaults\n",
    "plt.rc('figure', autolayout=True)\n",
    "plt.rc('axes', labelweight='bold', labelsize='large',\n",
    "       titleweight='bold', titlesize=18, titlepad=10)\n",
    "plt.rc('animation', html='html5')\n",
    "\n",
    "# Setup feedback system\n",
    "from learntools.core import binder\n",
    "binder.bind(globals())\n",
    "from learntools.deep_learning_intro.ex6 import *"
   ]
  },
  {
   "cell_type": "markdown",
   "id": "2afdaae8",
   "metadata": {
    "papermill": {
     "duration": 0.004481,
     "end_time": "2024-06-19T02:28:27.499124",
     "exception": false,
     "start_time": "2024-06-19T02:28:27.494643",
     "status": "completed"
    },
    "tags": []
   },
   "source": [
    "First, load the *Hotel Cancellations* dataset."
   ]
  },
  {
   "cell_type": "code",
   "execution_count": 2,
   "id": "ac89d756",
   "metadata": {
    "execution": {
     "iopub.execute_input": "2024-06-19T02:28:27.509615Z",
     "iopub.status.busy": "2024-06-19T02:28:27.508901Z",
     "iopub.status.idle": "2024-06-19T02:28:30.225246Z",
     "shell.execute_reply": "2024-06-19T02:28:30.224432Z"
    },
    "lines_to_next_cell": 2,
    "papermill": {
     "duration": 2.724569,
     "end_time": "2024-06-19T02:28:30.228040",
     "exception": false,
     "start_time": "2024-06-19T02:28:27.503471",
     "status": "completed"
    },
    "tags": []
   },
   "outputs": [],
   "source": [
    "import pandas as pd\n",
    "\n",
    "from sklearn.model_selection import train_test_split\n",
    "from sklearn.preprocessing import StandardScaler, OneHotEncoder\n",
    "from sklearn.impute import SimpleImputer\n",
    "from sklearn.pipeline import make_pipeline\n",
    "from sklearn.compose import make_column_transformer\n",
    "\n",
    "hotel = pd.read_csv('../input/dl-course-data/hotel.csv')\n",
    "\n",
    "X = hotel.copy()\n",
    "y = X.pop('is_canceled')\n",
    "\n",
    "X['arrival_date_month'] = \\\n",
    "    X['arrival_date_month'].map(\n",
    "        {'January':1, 'February': 2, 'March':3,\n",
    "         'April':4, 'May':5, 'June':6, 'July':7,\n",
    "         'August':8, 'September':9, 'October':10,\n",
    "         'November':11, 'December':12}\n",
    "    )\n",
    "\n",
    "features_num = [\n",
    "    \"lead_time\", \"arrival_date_week_number\",\n",
    "    \"arrival_date_day_of_month\", \"stays_in_weekend_nights\",\n",
    "    \"stays_in_week_nights\", \"adults\", \"children\", \"babies\",\n",
    "    \"is_repeated_guest\", \"previous_cancellations\",\n",
    "    \"previous_bookings_not_canceled\", \"required_car_parking_spaces\",\n",
    "    \"total_of_special_requests\", \"adr\",\n",
    "]\n",
    "features_cat = [\n",
    "    \"hotel\", \"arrival_date_month\", \"meal\",\n",
    "    \"market_segment\", \"distribution_channel\",\n",
    "    \"reserved_room_type\", \"deposit_type\", \"customer_type\",\n",
    "]\n",
    "\n",
    "transformer_num = make_pipeline(\n",
    "    SimpleImputer(strategy=\"constant\"), # there are a few missing values\n",
    "    StandardScaler(),\n",
    ")\n",
    "transformer_cat = make_pipeline(\n",
    "    SimpleImputer(strategy=\"constant\", fill_value=\"NA\"),\n",
    "    OneHotEncoder(handle_unknown='ignore'),\n",
    ")\n",
    "\n",
    "preprocessor = make_column_transformer(\n",
    "    (transformer_num, features_num),\n",
    "    (transformer_cat, features_cat),\n",
    ")\n",
    "\n",
    "# stratify - make sure classes are evenlly represented across splits\n",
    "X_train, X_valid, y_train, y_valid = \\\n",
    "    train_test_split(X, y, stratify=y, train_size=0.75)\n",
    "\n",
    "X_train = preprocessor.fit_transform(X_train)\n",
    "X_valid = preprocessor.transform(X_valid)\n",
    "\n",
    "input_shape = [X_train.shape[1]]"
   ]
  },
  {
   "cell_type": "markdown",
   "id": "26ac2fbd",
   "metadata": {
    "papermill": {
     "duration": 0.004404,
     "end_time": "2024-06-19T02:28:30.237181",
     "exception": false,
     "start_time": "2024-06-19T02:28:30.232777",
     "status": "completed"
    },
    "tags": []
   },
   "source": [
    "# 1) Define Model #\n",
    "\n",
    "The model we'll use this time will have both batch normalization and dropout layers. To ease reading we've broken the diagram into blocks, but you can define it layer by layer as usual.\n",
    "\n",
    "Define a model with an architecture given by this diagram:\n",
    "\n",
    "<figure style=\"padding: 1em;\">\n",
    "<img src=\"https://storage.googleapis.com/kaggle-media/learn/images/V04o59Z.png\" width=\"400\" alt=\"Diagram of network architecture: BatchNorm, Dense, BatchNorm, Dropout, Dense, BatchNorm, Dropout, Dense.\">\n",
    "<figcaption style=\"textalign: center; font-style: italic\"><center>Diagram of a binary classifier.</center></figcaption>\n",
    "</figure>\n"
   ]
  },
  {
   "cell_type": "code",
   "execution_count": 3,
   "id": "a741582c",
   "metadata": {
    "execution": {
     "iopub.execute_input": "2024-06-19T02:28:30.247167Z",
     "iopub.status.busy": "2024-06-19T02:28:30.246865Z",
     "iopub.status.idle": "2024-06-19T02:28:43.219891Z",
     "shell.execute_reply": "2024-06-19T02:28:43.218981Z"
    },
    "lines_to_next_cell": 2,
    "papermill": {
     "duration": 12.998366,
     "end_time": "2024-06-19T02:28:43.239934",
     "exception": false,
     "start_time": "2024-06-19T02:28:30.241568",
     "status": "completed"
    },
    "tags": []
   },
   "outputs": [
    {
     "name": "stderr",
     "output_type": "stream",
     "text": [
      "2024-06-19 02:28:31.951175: E external/local_xla/xla/stream_executor/cuda/cuda_dnn.cc:9261] Unable to register cuDNN factory: Attempting to register factory for plugin cuDNN when one has already been registered\n",
      "2024-06-19 02:28:31.951286: E external/local_xla/xla/stream_executor/cuda/cuda_fft.cc:607] Unable to register cuFFT factory: Attempting to register factory for plugin cuFFT when one has already been registered\n",
      "2024-06-19 02:28:32.079422: E external/local_xla/xla/stream_executor/cuda/cuda_blas.cc:1515] Unable to register cuBLAS factory: Attempting to register factory for plugin cuBLAS when one has already been registered\n"
     ]
    },
    {
     "data": {
      "application/javascript": [
       "parent.postMessage({\"jupyterEvent\": \"custom.exercise_interaction\", \"data\": {\"outcomeType\": 1, \"valueTowardsCompletion\": 0.3333333333333333, \"interactionType\": 1, \"questionType\": 2, \"questionId\": \"1_Q1\", \"learnToolsVersion\": \"0.3.4\", \"failureMessage\": \"\", \"exceptionClass\": \"\", \"trace\": \"\"}}, \"*\")"
      ],
      "text/plain": [
       "<IPython.core.display.Javascript object>"
      ]
     },
     "metadata": {},
     "output_type": "display_data"
    },
    {
     "data": {
      "text/markdown": [
       "<span style=\"color:#33cc33\">Correct</span>"
      ],
      "text/plain": [
       "Correct"
      ]
     },
     "metadata": {},
     "output_type": "display_data"
    }
   ],
   "source": [
    "from tensorflow import keras\n",
    "from tensorflow.keras import layers\n",
    "\n",
    "# YOUR CODE HERE: define the model given in the diagram\n",
    "model = keras.Sequential([\n",
    "    layers.BatchNormalization(input_shape=input_shape),\n",
    "    layers.Dense(256, activation='relu'),\n",
    "    layers.BatchNormalization(),\n",
    "    layers.Dropout(0.3),\n",
    "    layers.Dense(256, activation='relu'),\n",
    "    layers.BatchNormalization(),\n",
    "    layers.Dropout(0.3),\n",
    "    layers.Dense(1, activation='sigmoid'),\n",
    "])\n",
    "\n",
    "\n",
    "# Check your answer\n",
    "q_1.check()"
   ]
  },
  {
   "cell_type": "markdown",
   "id": "854810db",
   "metadata": {
    "papermill": {
     "duration": 0.004746,
     "end_time": "2024-06-19T02:28:43.249687",
     "exception": false,
     "start_time": "2024-06-19T02:28:43.244941",
     "status": "completed"
    },
    "tags": []
   },
   "source": [
    "# 2) Add Optimizer, Loss, and Metric #\n",
    "\n",
    "Now compile the model with the Adam optimizer and binary versions of the cross-entropy loss and accuracy metric."
   ]
  },
  {
   "cell_type": "code",
   "execution_count": 4,
   "id": "6adeccaf",
   "metadata": {
    "execution": {
     "iopub.execute_input": "2024-06-19T02:28:43.260473Z",
     "iopub.status.busy": "2024-06-19T02:28:43.260153Z",
     "iopub.status.idle": "2024-06-19T02:28:43.282550Z",
     "shell.execute_reply": "2024-06-19T02:28:43.281654Z"
    },
    "lines_to_next_cell": 0,
    "papermill": {
     "duration": 0.030187,
     "end_time": "2024-06-19T02:28:43.284635",
     "exception": false,
     "start_time": "2024-06-19T02:28:43.254448",
     "status": "completed"
    },
    "tags": []
   },
   "outputs": [
    {
     "data": {
      "application/javascript": [
       "parent.postMessage({\"jupyterEvent\": \"custom.exercise_interaction\", \"data\": {\"outcomeType\": 1, \"valueTowardsCompletion\": 0.3333333333333333, \"interactionType\": 1, \"questionType\": 2, \"questionId\": \"2_Q2\", \"learnToolsVersion\": \"0.3.4\", \"failureMessage\": \"\", \"exceptionClass\": \"\", \"trace\": \"\"}}, \"*\")"
      ],
      "text/plain": [
       "<IPython.core.display.Javascript object>"
      ]
     },
     "metadata": {},
     "output_type": "display_data"
    },
    {
     "data": {
      "text/markdown": [
       "<span style=\"color:#33cc33\">Correct</span>"
      ],
      "text/plain": [
       "Correct"
      ]
     },
     "metadata": {},
     "output_type": "display_data"
    }
   ],
   "source": [
    "# YOUR CODE HERE\n",
    "model.compile(\n",
    "    optimizer='adam',\n",
    "    loss='binary_crossentropy',\n",
    "    metrics=['binary_accuracy']\n",
    ")\n",
    "\n",
    "# Check your answer\n",
    "q_2.check()"
   ]
  },
  {
   "cell_type": "code",
   "execution_count": 5,
   "id": "b58a220c",
   "metadata": {
    "execution": {
     "iopub.execute_input": "2024-06-19T02:28:43.296628Z",
     "iopub.status.busy": "2024-06-19T02:28:43.296345Z",
     "iopub.status.idle": "2024-06-19T02:28:43.300136Z",
     "shell.execute_reply": "2024-06-19T02:28:43.299295Z"
    },
    "lines_to_next_cell": 0,
    "papermill": {
     "duration": 0.012309,
     "end_time": "2024-06-19T02:28:43.302134",
     "exception": false,
     "start_time": "2024-06-19T02:28:43.289825",
     "status": "completed"
    },
    "tags": []
   },
   "outputs": [],
   "source": [
    "# Lines below will give you a hint or solution code\n",
    "#q_2.hint()\n",
    "#q_2.solution()"
   ]
  },
  {
   "cell_type": "markdown",
   "id": "cca1e7f9",
   "metadata": {
    "papermill": {
     "duration": 0.004975,
     "end_time": "2024-06-19T02:28:43.312398",
     "exception": false,
     "start_time": "2024-06-19T02:28:43.307423",
     "status": "completed"
    },
    "tags": []
   },
   "source": [
    "Finally, run this cell to train the model and view the learning curves. It may run for around 60 to 70 epochs, which could take a minute or two."
   ]
  },
  {
   "cell_type": "code",
   "execution_count": 6,
   "id": "61bdb212",
   "metadata": {
    "execution": {
     "iopub.execute_input": "2024-06-19T02:28:43.324066Z",
     "iopub.status.busy": "2024-06-19T02:28:43.323768Z",
     "iopub.status.idle": "2024-06-19T02:29:25.665432Z",
     "shell.execute_reply": "2024-06-19T02:29:25.664498Z"
    },
    "papermill": {
     "duration": 42.349704,
     "end_time": "2024-06-19T02:29:25.667533",
     "exception": false,
     "start_time": "2024-06-19T02:28:43.317829",
     "status": "completed"
    },
    "tags": []
   },
   "outputs": [
    {
     "name": "stdout",
     "output_type": "stream",
     "text": [
      "Epoch 1/200\n"
     ]
    },
    {
     "name": "stderr",
     "output_type": "stream",
     "text": [
      "WARNING: All log messages before absl::InitializeLog() is called are written to STDERR\n",
      "I0000 00:00:1718764127.613618      67 device_compiler.h:186] Compiled cluster using XLA!  This line is logged at most once for the lifetime of the process.\n"
     ]
    },
    {
     "name": "stdout",
     "output_type": "stream",
     "text": [
      "175/175 [==============================] - 6s 7ms/step - loss: 0.4800 - binary_accuracy: 0.7734 - val_loss: 0.4288 - val_binary_accuracy: 0.7994\n",
      "Epoch 2/200\n",
      "175/175 [==============================] - 1s 5ms/step - loss: 0.4244 - binary_accuracy: 0.8007 - val_loss: 0.4004 - val_binary_accuracy: 0.8100\n",
      "Epoch 3/200\n",
      "175/175 [==============================] - 1s 5ms/step - loss: 0.4109 - binary_accuracy: 0.8069 - val_loss: 0.3896 - val_binary_accuracy: 0.8178\n",
      "Epoch 4/200\n",
      "175/175 [==============================] - 1s 5ms/step - loss: 0.4034 - binary_accuracy: 0.8101 - val_loss: 0.3864 - val_binary_accuracy: 0.8199\n",
      "Epoch 5/200\n",
      "175/175 [==============================] - 1s 5ms/step - loss: 0.3987 - binary_accuracy: 0.8141 - val_loss: 0.3833 - val_binary_accuracy: 0.8220\n",
      "Epoch 6/200\n",
      "175/175 [==============================] - 1s 5ms/step - loss: 0.3948 - binary_accuracy: 0.8170 - val_loss: 0.3787 - val_binary_accuracy: 0.8260\n",
      "Epoch 7/200\n",
      "175/175 [==============================] - 1s 5ms/step - loss: 0.3909 - binary_accuracy: 0.8184 - val_loss: 0.3782 - val_binary_accuracy: 0.8273\n",
      "Epoch 8/200\n",
      "175/175 [==============================] - 1s 5ms/step - loss: 0.3870 - binary_accuracy: 0.8202 - val_loss: 0.3738 - val_binary_accuracy: 0.8273\n",
      "Epoch 9/200\n",
      "175/175 [==============================] - 1s 5ms/step - loss: 0.3846 - binary_accuracy: 0.8223 - val_loss: 0.3696 - val_binary_accuracy: 0.8312\n",
      "Epoch 10/200\n",
      "175/175 [==============================] - 1s 5ms/step - loss: 0.3814 - binary_accuracy: 0.8239 - val_loss: 0.3733 - val_binary_accuracy: 0.8297\n",
      "Epoch 11/200\n",
      "175/175 [==============================] - 1s 6ms/step - loss: 0.3782 - binary_accuracy: 0.8252 - val_loss: 0.3684 - val_binary_accuracy: 0.8303\n",
      "Epoch 12/200\n",
      "175/175 [==============================] - 1s 5ms/step - loss: 0.3769 - binary_accuracy: 0.8244 - val_loss: 0.3625 - val_binary_accuracy: 0.8358\n",
      "Epoch 13/200\n",
      "175/175 [==============================] - 1s 5ms/step - loss: 0.3743 - binary_accuracy: 0.8269 - val_loss: 0.3631 - val_binary_accuracy: 0.8351\n",
      "Epoch 14/200\n",
      "175/175 [==============================] - 1s 6ms/step - loss: 0.3728 - binary_accuracy: 0.8271 - val_loss: 0.3620 - val_binary_accuracy: 0.8336\n",
      "Epoch 15/200\n",
      "175/175 [==============================] - 1s 5ms/step - loss: 0.3714 - binary_accuracy: 0.8281 - val_loss: 0.3593 - val_binary_accuracy: 0.8346\n",
      "Epoch 16/200\n",
      "175/175 [==============================] - 1s 5ms/step - loss: 0.3675 - binary_accuracy: 0.8308 - val_loss: 0.3591 - val_binary_accuracy: 0.8352\n",
      "Epoch 17/200\n",
      "175/175 [==============================] - 1s 6ms/step - loss: 0.3653 - binary_accuracy: 0.8299 - val_loss: 0.3581 - val_binary_accuracy: 0.8362\n",
      "Epoch 18/200\n",
      "175/175 [==============================] - 1s 5ms/step - loss: 0.3638 - binary_accuracy: 0.8312 - val_loss: 0.3549 - val_binary_accuracy: 0.8368\n",
      "Epoch 19/200\n",
      "175/175 [==============================] - 1s 5ms/step - loss: 0.3625 - binary_accuracy: 0.8324 - val_loss: 0.3537 - val_binary_accuracy: 0.8378\n",
      "Epoch 20/200\n",
      "175/175 [==============================] - 1s 5ms/step - loss: 0.3605 - binary_accuracy: 0.8336 - val_loss: 0.3543 - val_binary_accuracy: 0.8377\n",
      "Epoch 21/200\n",
      "175/175 [==============================] - 1s 5ms/step - loss: 0.3598 - binary_accuracy: 0.8326 - val_loss: 0.3530 - val_binary_accuracy: 0.8382\n",
      "Epoch 22/200\n",
      "175/175 [==============================] - 1s 5ms/step - loss: 0.3581 - binary_accuracy: 0.8347 - val_loss: 0.3555 - val_binary_accuracy: 0.8374\n",
      "Epoch 23/200\n",
      "175/175 [==============================] - 1s 5ms/step - loss: 0.3572 - binary_accuracy: 0.8346 - val_loss: 0.3512 - val_binary_accuracy: 0.8402\n",
      "Epoch 24/200\n",
      "175/175 [==============================] - 1s 5ms/step - loss: 0.3564 - binary_accuracy: 0.8354 - val_loss: 0.3526 - val_binary_accuracy: 0.8388\n",
      "Epoch 25/200\n",
      "175/175 [==============================] - 1s 5ms/step - loss: 0.3547 - binary_accuracy: 0.8360 - val_loss: 0.3501 - val_binary_accuracy: 0.8399\n",
      "Epoch 26/200\n",
      "175/175 [==============================] - 1s 5ms/step - loss: 0.3550 - binary_accuracy: 0.8356 - val_loss: 0.3528 - val_binary_accuracy: 0.8371\n",
      "Epoch 27/200\n",
      "175/175 [==============================] - 1s 5ms/step - loss: 0.3535 - binary_accuracy: 0.8374 - val_loss: 0.3510 - val_binary_accuracy: 0.8384\n",
      "Epoch 28/200\n",
      "175/175 [==============================] - 1s 5ms/step - loss: 0.3527 - binary_accuracy: 0.8374 - val_loss: 0.3487 - val_binary_accuracy: 0.8408\n",
      "Epoch 29/200\n",
      "175/175 [==============================] - 1s 5ms/step - loss: 0.3495 - binary_accuracy: 0.8386 - val_loss: 0.3478 - val_binary_accuracy: 0.8419\n",
      "Epoch 30/200\n",
      "175/175 [==============================] - 1s 5ms/step - loss: 0.3500 - binary_accuracy: 0.8382 - val_loss: 0.3476 - val_binary_accuracy: 0.8412\n",
      "Epoch 31/200\n",
      "175/175 [==============================] - 1s 5ms/step - loss: 0.3492 - binary_accuracy: 0.8398 - val_loss: 0.3517 - val_binary_accuracy: 0.8391\n",
      "Epoch 32/200\n",
      "175/175 [==============================] - 1s 6ms/step - loss: 0.3475 - binary_accuracy: 0.8397 - val_loss: 0.3466 - val_binary_accuracy: 0.8427\n",
      "Epoch 33/200\n",
      "175/175 [==============================] - 1s 5ms/step - loss: 0.3471 - binary_accuracy: 0.8407 - val_loss: 0.3455 - val_binary_accuracy: 0.8431\n",
      "Epoch 34/200\n",
      "175/175 [==============================] - 1s 5ms/step - loss: 0.3452 - binary_accuracy: 0.8400 - val_loss: 0.3452 - val_binary_accuracy: 0.8410\n",
      "Epoch 35/200\n",
      "175/175 [==============================] - 1s 6ms/step - loss: 0.3461 - binary_accuracy: 0.8401 - val_loss: 0.3469 - val_binary_accuracy: 0.8411\n",
      "Epoch 36/200\n",
      "175/175 [==============================] - 1s 5ms/step - loss: 0.3446 - binary_accuracy: 0.8402 - val_loss: 0.3452 - val_binary_accuracy: 0.8418\n",
      "Epoch 37/200\n",
      "175/175 [==============================] - 1s 5ms/step - loss: 0.3434 - binary_accuracy: 0.8418 - val_loss: 0.3475 - val_binary_accuracy: 0.8407\n",
      "Epoch 38/200\n",
      "175/175 [==============================] - 1s 6ms/step - loss: 0.3426 - binary_accuracy: 0.8411 - val_loss: 0.3462 - val_binary_accuracy: 0.8419\n"
     ]
    },
    {
     "data": {
      "text/plain": [
       "<Axes: title={'center': 'Accuracy'}>"
      ]
     },
     "execution_count": 6,
     "metadata": {},
     "output_type": "execute_result"
    },
    {
     "data": {
      "image/png": "[encoded data removed]",
      "text/plain": [
       "<Figure size 640x480 with 1 Axes>"
      ]
     },
     "metadata": {},
     "output_type": "display_data"
    },
    {
     "data": {
      "image/png": "[encoded data removed]",
      "text/plain": [
       "<Figure size 640x480 with 1 Axes>"
      ]
     },
     "metadata": {},
     "output_type": "display_data"
    }
   ],
   "source": [
    "early_stopping = keras.callbacks.EarlyStopping(\n",
    "    patience=5,\n",
    "    min_delta=0.001,\n",
    "    restore_best_weights=True,\n",
    ")\n",
    "history = model.fit(\n",
    "    X_train, y_train,\n",
    "    validation_data=(X_valid, y_valid),\n",
    "    batch_size=512,\n",
    "    epochs=200,\n",
    "    callbacks=[early_stopping],\n",
    ")\n",
    "\n",
    "history_df = pd.DataFrame(history.history)\n",
    "history_df.loc[:, ['loss', 'val_loss']].plot(title=\"Cross-entropy\")\n",
    "history_df.loc[:, ['binary_accuracy', 'val_binary_accuracy']].plot(title=\"Accuracy\")"
   ]
  },
  {
   "cell_type": "markdown",
   "id": "1caa3bb7",
   "metadata": {
    "papermill": {
     "duration": 0.058823,
     "end_time": "2024-06-19T02:29:25.786714",
     "exception": false,
     "start_time": "2024-06-19T02:29:25.727891",
     "status": "completed"
    },
    "tags": []
   },
   "source": [
    "# 3) Train and Evaluate #\n",
    "\n",
    "\n",
    "What do you think about the learning curves? Does it look like the model underfit or overfit? Was the cross-entropy loss a good stand-in for accuracy?"
   ]
  },
  {
   "cell_type": "code",
   "execution_count": 7,
   "id": "c3a4a808",
   "metadata": {
    "execution": {
     "iopub.execute_input": "2024-06-19T02:29:25.906230Z",
     "iopub.status.busy": "2024-06-19T02:29:25.905879Z",
     "iopub.status.idle": "2024-06-19T02:29:25.913665Z",
     "shell.execute_reply": "2024-06-19T02:29:25.912850Z"
    },
    "papermill": {
     "duration": 0.0698,
     "end_time": "2024-06-19T02:29:25.915619",
     "exception": false,
     "start_time": "2024-06-19T02:29:25.845819",
     "status": "completed"
    },
    "tags": []
   },
   "outputs": [
    {
     "data": {
      "application/javascript": [
       "parent.postMessage({\"jupyterEvent\": \"custom.exercise_interaction\", \"data\": {\"outcomeType\": 1, \"valueTowardsCompletion\": 0.3333333333333333, \"interactionType\": 1, \"questionType\": 4, \"questionId\": \"3_Q3\", \"learnToolsVersion\": \"0.3.4\", \"failureMessage\": \"\", \"exceptionClass\": \"\", \"trace\": \"\"}}, \"*\")"
      ],
      "text/plain": [
       "<IPython.core.display.Javascript object>"
      ]
     },
     "metadata": {},
     "output_type": "display_data"
    },
    {
     "data": {
      "text/markdown": [
       "<span style=\"color:#33cc33\">Correct:</span> \n",
       "\n",
       "Though we can see the training loss continuing to fall, the early stopping callback prevented any overfitting. Moreover, the accuracy rose at the same rate as the cross-entropy fell, so it appears that minimizing cross-entropy was a good stand-in. All in all, it looks like this training was a success!"
      ],
      "text/plain": [
       "Correct: \n",
       "\n",
       "Though we can see the training loss continuing to fall, the early stopping callback prevented any overfitting. Moreover, the accuracy rose at the same rate as the cross-entropy fell, so it appears that minimizing cross-entropy was a good stand-in. All in all, it looks like this training was a success!"
      ]
     },
     "metadata": {},
     "output_type": "display_data"
    }
   ],
   "source": [
    "# View the solution (Run this cell to receive credit!)\n",
    "q_3.check()"
   ]
  },
  {
   "cell_type": "markdown",
   "id": "22447946",
   "metadata": {
    "papermill": {
     "duration": 0.058507,
     "end_time": "2024-06-19T02:29:26.033336",
     "exception": false,
     "start_time": "2024-06-19T02:29:25.974829",
     "status": "completed"
    },
    "tags": []
   },
   "source": [
    "# Conclusion #\n",
    "\n",
    "Congratulations! You've completed Kaggle's *Introduction to Deep Learning* course!\n",
    "\n",
    "With your new skills you're ready to take on more advanced applications like computer vision and sentiment classification. What would you like to do next?\n",
    "\n",
    "Why not try one of our *Getting Started* competitions?\n",
    "\n",
    "- Classify images with TPUs in [**Petals to the Metal**](https://www.kaggle.com/c/tpu-getting-started)\n",
    "- Create art with GANs in [**I'm Something of a Painter Myself**](https://www.kaggle.com/c/gan-getting-started)\n",
    "- Classify Tweets in [**Real or Not? NLP with Disaster Tweets**](https://www.kaggle.com/c/nlp-getting-started)\n",
    "- Detect contradiction and entailment in [**Contradictory, My Dear Watson**](https://www.kaggle.com/c/contradictory-my-dear-watson)\n",
    "\n",
    "Until next time, Kagglers!"
   ]
  },
  {
   "cell_type": "markdown",
   "id": "6aacbc28",
   "metadata": {
    "papermill": {
     "duration": 0.058831,
     "end_time": "2024-06-19T02:29:26.150954",
     "exception": false,
     "start_time": "2024-06-19T02:29:26.092123",
     "status": "completed"
    },
    "tags": []
   },
   "source": [
    "---\n",
    "\n",
    "\n",
    "\n",
    "\n",
    "*Have questions or comments? Visit the [course discussion forum](https://www.kaggle.com/learn/intro-to-deep-learning/discussion) to chat with other learners.*"
   ]
  }
 ],
 "metadata": {
  "jupytext": {
   "cell_metadata_filter": "-all",
   "formats": "ipynb"
  },
  "kaggle": {
   "accelerator": "gpu",
   "dataSources": [
    {
     "datasetId": 829369,
     "sourceId": 1480608,
     "sourceType": "datasetVersion"
    }
   ],
   "dockerImageVersionId": 30648,
   "isGpuEnabled": true,
   "isInternetEnabled": false,
   "language": "python",
   "sourceType": "notebook"
  },
  "kernelspec": {
   "display_name": "Python 3",
   "language": "python",
   "name": "python3"
  },
  "language_info": {
   "codemirror_mode": {
    "name": "ipython",
    "version": 3
   },
   "file_extension": ".py",
   "mimetype": "text/x-python",
   "name": "python",
   "nbconvert_exporter": "python",
   "pygments_lexer": "ipython3",
   "version": "3.10.13"
  },
  "papermill": {
   "default_parameters": {},
   "duration": 65.205415,
   "end_time": "2024-06-19T02:29:29.109427",
   "environment_variables": {},
   "exception": null,
   "input_path": "__notebook__.ipynb",
   "output_path": "__notebook__.ipynb",
   "parameters": {},
   "start_time": "2024-06-19T02:28:23.904012",
   "version": "2.5.0"
  }
 },
 "nbformat": 4,
 "nbformat_minor": 5
}
