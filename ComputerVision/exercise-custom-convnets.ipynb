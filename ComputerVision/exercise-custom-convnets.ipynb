{
 "cells": [
  {
   "cell_type": "markdown",
   "id": "7da944e0",
   "metadata": {
    "papermill": {
     "duration": 0.005567,
     "end_time": "2023-10-21T13:03:47.224404",
     "exception": false,
     "start_time": "2023-10-21T13:03:47.218837",
     "status": "completed"
    },
    "tags": []
   },
   "source": [
    "**This notebook is an exercise in the [Computer Vision](https://www.kaggle.com/learn/computer-vision) course.  You can reference the tutorial at [this link](https://www.kaggle.com/ryanholbrook/custom-convnets).**\n",
    "\n",
    "---\n"
   ]
  },
  {
   "cell_type": "markdown",
   "id": "df23919e",
   "metadata": {
    "papermill": {
     "duration": 0.004445,
     "end_time": "2023-10-21T13:03:47.233945",
     "exception": false,
     "start_time": "2023-10-21T13:03:47.229500",
     "status": "completed"
    },
    "tags": []
   },
   "source": [
    "# Introduction #\n",
    "\n",
    "In these exercises, you'll build a custom convnet with performance competitive to the VGG16 model from Lesson 1.\n",
    "\n",
    "Get started by running the code cell below."
   ]
  },
  {
   "cell_type": "code",
   "execution_count": 1,
   "id": "12e08e41",
   "metadata": {
    "execution": {
     "iopub.execute_input": "2023-10-21T13:03:47.245635Z",
     "iopub.status.busy": "2023-10-21T13:03:47.244916Z",
     "iopub.status.idle": "2023-10-21T13:04:07.806777Z",
     "shell.execute_reply": "2023-10-21T13:04:07.805728Z"
    },
    "papermill": {
     "duration": 20.570132,
     "end_time": "2023-10-21T13:04:07.809102",
     "exception": false,
     "start_time": "2023-10-21T13:03:47.238970",
     "status": "completed"
    },
    "tags": []
   },
   "outputs": [
    {
     "name": "stderr",
     "output_type": "stream",
     "text": [
      "/opt/conda/lib/python3.10/site-packages/scipy/__init__.py:146: UserWarning: A NumPy version >=1.16.5 and <1.23.0 is required for this version of SciPy (detected version 1.23.5\n",
      "  warnings.warn(f\"A NumPy version >={np_minversion} and <{np_maxversion}\"\n"
     ]
    },
    {
     "name": "stdout",
     "output_type": "stream",
     "text": [
      "Found 5117 files belonging to 2 classes.\n",
      "Found 5051 files belonging to 2 classes.\n"
     ]
    }
   ],
   "source": [
    "# Setup feedback system\n",
    "from learntools.core import binder\n",
    "binder.bind(globals())\n",
    "from learntools.computer_vision.ex5 import *\n",
    "\n",
    "# Imports\n",
    "import os, warnings\n",
    "import matplotlib.pyplot as plt\n",
    "from matplotlib import gridspec\n",
    "\n",
    "import numpy as np\n",
    "import tensorflow as tf\n",
    "from tensorflow.keras.preprocessing import image_dataset_from_directory\n",
    "\n",
    "# Reproducability\n",
    "def set_seed(seed=31415):\n",
    "    np.random.seed(seed)\n",
    "    tf.random.set_seed(seed)\n",
    "    os.environ['PYTHONHASHSEED'] = str(seed)\n",
    "    os.environ['TF_DETERMINISTIC_OPS'] = '1'\n",
    "set_seed()\n",
    "\n",
    "# Set Matplotlib defaults\n",
    "plt.rc('figure', autolayout=True)\n",
    "plt.rc('axes', labelweight='bold', labelsize='large',\n",
    "       titleweight='bold', titlesize=18, titlepad=10)\n",
    "plt.rc('image', cmap='magma')\n",
    "warnings.filterwarnings(\"ignore\") # to clean up output cells\n",
    "\n",
    "\n",
    "# Load training and validation sets\n",
    "ds_train_ = image_dataset_from_directory(\n",
    "    '../input/car-or-truck/train',\n",
    "    labels='inferred',\n",
    "    label_mode='binary',\n",
    "    image_size=[128, 128],\n",
    "    interpolation='nearest',\n",
    "    batch_size=64,\n",
    "    shuffle=True,\n",
    ")\n",
    "ds_valid_ = image_dataset_from_directory(\n",
    "    '../input/car-or-truck/valid',\n",
    "    labels='inferred',\n",
    "    label_mode='binary',\n",
    "    image_size=[128, 128],\n",
    "    interpolation='nearest',\n",
    "    batch_size=64,\n",
    "    shuffle=False,\n",
    ")\n",
    "\n",
    "# Data Pipeline\n",
    "def convert_to_float(image, label):\n",
    "    image = tf.image.convert_image_dtype(image, dtype=tf.float32)\n",
    "    return image, label\n",
    "\n",
    "AUTOTUNE = tf.data.experimental.AUTOTUNE\n",
    "ds_train = (\n",
    "    ds_train_\n",
    "    .map(convert_to_float)\n",
    "    .cache()\n",
    "    .prefetch(buffer_size=AUTOTUNE)\n",
    ")\n",
    "ds_valid = (\n",
    "    ds_valid_\n",
    "    .map(convert_to_float)\n",
    "    .cache()\n",
    "    .prefetch(buffer_size=AUTOTUNE)\n",
    ")\n"
   ]
  },
  {
   "cell_type": "markdown",
   "id": "ada454c4",
   "metadata": {
    "papermill": {
     "duration": 0.004932,
     "end_time": "2023-10-21T13:04:07.819669",
     "exception": false,
     "start_time": "2023-10-21T13:04:07.814737",
     "status": "completed"
    },
    "tags": []
   },
   "source": [
    "# Design a Convnet #\n",
    "\n",
    "Let's design a convolutional network with a block architecture like we saw in the tutorial. The model from the example had three blocks, each with a single convolutional layer. Its performance on the \"Car or Truck\" problem was okay, but far from what the pretrained VGG16 could achieve. It might be that our simple network lacks the ability to extract sufficiently complex features. We could try improving the model either by adding more blocks or by adding convolutions to the blocks we have.\n",
    "\n",
    "Let's go with the second approach. We'll keep the three block structure, but increase the number of `Conv2D` layer in the second block to two, and in the third block to three.\n",
    "\n",
    "<figure>\n",
    "<!-- <img src=\"./images/2-convmodel-2.png\" width=\"250\" alt=\"Diagram of a convolutional model.\"> -->\n",
    "<img src=\"https://storage.googleapis.com/kaggle-media/learn/images/Vko6nCK.png\" width=\"250\" alt=\"Diagram of a convolutional model.\">\n",
    "</figure>\n",
    "\n",
    "# 1) Define Model #\n",
    "\n",
    "Given the diagram above, complete the model by defining the layers of the third block."
   ]
  },
  {
   "cell_type": "code",
   "execution_count": 2,
   "id": "7a0f929e",
   "metadata": {
    "execution": {
     "iopub.execute_input": "2023-10-21T13:04:07.832294Z",
     "iopub.status.busy": "2023-10-21T13:04:07.831421Z",
     "iopub.status.idle": "2023-10-21T13:04:07.993061Z",
     "shell.execute_reply": "2023-10-21T13:04:07.992096Z"
    },
    "lines_to_next_cell": 0,
    "papermill": {
     "duration": 0.170276,
     "end_time": "2023-10-21T13:04:07.995138",
     "exception": false,
     "start_time": "2023-10-21T13:04:07.824862",
     "status": "completed"
    },
    "tags": []
   },
   "outputs": [
    {
     "data": {
      "application/javascript": [
       "parent.postMessage({\"jupyterEvent\": \"custom.exercise_interaction\", \"data\": {\"outcomeType\": 1, \"valueTowardsCompletion\": 0.3333333333333333, \"interactionType\": 1, \"questionType\": 2, \"questionId\": \"1_Q1\", \"learnToolsVersion\": \"0.3.4\", \"failureMessage\": \"\", \"exceptionClass\": \"\", \"trace\": \"\"}}, \"*\")"
      ],
      "text/plain": [
       "<IPython.core.display.Javascript object>"
      ]
     },
     "metadata": {},
     "output_type": "display_data"
    },
    {
     "data": {
      "text/markdown": [
       "<span style=\"color:#33cc33\">Correct</span>"
      ],
      "text/plain": [
       "Correct"
      ]
     },
     "metadata": {},
     "output_type": "display_data"
    }
   ],
   "source": [
    "from tensorflow import keras\n",
    "from tensorflow.keras import layers\n",
    "\n",
    "model = keras.Sequential([\n",
    "    # Block One\n",
    "    layers.Conv2D(filters=32, kernel_size=3, activation='relu', padding='same',\n",
    "                  input_shape=[128, 128, 3]),\n",
    "    layers.MaxPool2D(),\n",
    "\n",
    "    # Block Two\n",
    "    layers.Conv2D(filters=64, kernel_size=3, activation='relu', padding='same'),\n",
    "    layers.MaxPool2D(),\n",
    "\n",
    "    # Block Three\n",
    "    # YOUR CODE HERE\n",
    "    layers.Conv2D(filters=128, kernel_size=3, activation='relu', padding='same'),\n",
    "    layers.Conv2D(filters=128, kernel_size=3, activation='relu', padding='same'),\n",
    "    layers.MaxPool2D(),#\n",
    "\n",
    "    # Head\n",
    "    layers.Flatten(),\n",
    "    layers.Dense(6, activation='relu'),\n",
    "    layers.Dropout(0.2),\n",
    "    layers.Dense(1, activation='sigmoid'),\n",
    "])\n",
    "\n",
    "# Check your answer\n",
    "q_1.check()"
   ]
  },
  {
   "cell_type": "code",
   "execution_count": 3,
   "id": "d2a26884",
   "metadata": {
    "execution": {
     "iopub.execute_input": "2023-10-21T13:04:08.007604Z",
     "iopub.status.busy": "2023-10-21T13:04:08.007230Z",
     "iopub.status.idle": "2023-10-21T13:04:08.011458Z",
     "shell.execute_reply": "2023-10-21T13:04:08.010597Z"
    },
    "papermill": {
     "duration": 0.012786,
     "end_time": "2023-10-21T13:04:08.013388",
     "exception": false,
     "start_time": "2023-10-21T13:04:08.000602",
     "status": "completed"
    },
    "tags": []
   },
   "outputs": [],
   "source": [
    "# Lines below will give you a hint or solution code\n",
    "#q_1.hint()\n",
    "#q_1.solution()"
   ]
  },
  {
   "cell_type": "markdown",
   "id": "62763ca7",
   "metadata": {
    "papermill": {
     "duration": 0.005141,
     "end_time": "2023-10-21T13:04:08.024057",
     "exception": false,
     "start_time": "2023-10-21T13:04:08.018916",
     "status": "completed"
    },
    "tags": []
   },
   "source": [
    "# 2) Compile #\n",
    "\n",
    "To prepare for training, compile the model with an appropriate loss and accuracy metric for the \"Car or Truck\" dataset."
   ]
  },
  {
   "cell_type": "code",
   "execution_count": 4,
   "id": "43a00f4b",
   "metadata": {
    "execution": {
     "iopub.execute_input": "2023-10-21T13:04:08.036799Z",
     "iopub.status.busy": "2023-10-21T13:04:08.035848Z",
     "iopub.status.idle": "2023-10-21T13:04:08.057723Z",
     "shell.execute_reply": "2023-10-21T13:04:08.056722Z"
    },
    "lines_to_next_cell": 0,
    "papermill": {
     "duration": 0.030495,
     "end_time": "2023-10-21T13:04:08.059860",
     "exception": false,
     "start_time": "2023-10-21T13:04:08.029365",
     "status": "completed"
    },
    "tags": []
   },
   "outputs": [
    {
     "data": {
      "application/javascript": [
       "parent.postMessage({\"jupyterEvent\": \"custom.exercise_interaction\", \"data\": {\"outcomeType\": 1, \"valueTowardsCompletion\": 0.3333333333333333, \"interactionType\": 1, \"questionType\": 2, \"questionId\": \"2_Q2\", \"learnToolsVersion\": \"0.3.4\", \"failureMessage\": \"\", \"exceptionClass\": \"\", \"trace\": \"\"}}, \"*\")"
      ],
      "text/plain": [
       "<IPython.core.display.Javascript object>"
      ]
     },
     "metadata": {},
     "output_type": "display_data"
    },
    {
     "data": {
      "text/markdown": [
       "<span style=\"color:#33cc33\">Correct</span>"
      ],
      "text/plain": [
       "Correct"
      ]
     },
     "metadata": {},
     "output_type": "display_data"
    }
   ],
   "source": [
    "model.compile(\n",
    "    optimizer=tf.keras.optimizers.Adam(epsilon=0.01),\n",
    "    # YOUR CODE HERE: Add loss and metric\n",
    "    loss='binary_crossentropy',\n",
    "    metrics=['binary_accuracy']\n",
    ")\n",
    "\n",
    "# Check your answer\n",
    "q_2.check()"
   ]
  },
  {
   "cell_type": "code",
   "execution_count": 5,
   "id": "6d5afa21",
   "metadata": {
    "execution": {
     "iopub.execute_input": "2023-10-21T13:04:08.073744Z",
     "iopub.status.busy": "2023-10-21T13:04:08.073089Z",
     "iopub.status.idle": "2023-10-21T13:04:08.089402Z",
     "shell.execute_reply": "2023-10-21T13:04:08.088341Z"
    },
    "lines_to_next_cell": 0,
    "papermill": {
     "duration": 0.025586,
     "end_time": "2023-10-21T13:04:08.091400",
     "exception": false,
     "start_time": "2023-10-21T13:04:08.065814",
     "status": "completed"
    },
    "tags": []
   },
   "outputs": [
    {
     "data": {
      "application/javascript": [
       "parent.postMessage({\"jupyterEvent\": \"custom.exercise_interaction\", \"data\": {\"outcomeType\": 1, \"valueTowardsCompletion\": 0.3333333333333333, \"interactionType\": 1, \"questionType\": 2, \"questionId\": \"2_Q2\", \"learnToolsVersion\": \"0.3.4\", \"failureMessage\": \"\", \"exceptionClass\": \"\", \"trace\": \"\"}}, \"*\")"
      ],
      "text/plain": [
       "<IPython.core.display.Javascript object>"
      ]
     },
     "metadata": {},
     "output_type": "display_data"
    },
    {
     "data": {
      "text/markdown": [
       "<span style=\"color:#33cc33\">Correct</span>"
      ],
      "text/plain": [
       "Correct"
      ]
     },
     "metadata": {},
     "output_type": "display_data"
    }
   ],
   "source": [
    "model.compile(\n",
    "    optimizer=tf.keras.optimizers.Adam(epsilon=0.01),\n",
    "    loss='binary_crossentropy',\n",
    "    metrics=['binary_accuracy'],\n",
    ")\n",
    "q_2.assert_check_passed()"
   ]
  },
  {
   "cell_type": "code",
   "execution_count": 6,
   "id": "f6617662",
   "metadata": {
    "execution": {
     "iopub.execute_input": "2023-10-21T13:04:08.105836Z",
     "iopub.status.busy": "2023-10-21T13:04:08.105176Z",
     "iopub.status.idle": "2023-10-21T13:04:08.109382Z",
     "shell.execute_reply": "2023-10-21T13:04:08.108466Z"
    },
    "lines_to_next_cell": 0,
    "papermill": {
     "duration": 0.013799,
     "end_time": "2023-10-21T13:04:08.111454",
     "exception": false,
     "start_time": "2023-10-21T13:04:08.097655",
     "status": "completed"
    },
    "tags": []
   },
   "outputs": [],
   "source": [
    "# Lines below will give you a hint or solution code\n",
    "#q_2.hint()\n",
    "#q_2.solution()"
   ]
  },
  {
   "cell_type": "markdown",
   "id": "5357f5d6",
   "metadata": {
    "papermill": {
     "duration": 0.005968,
     "end_time": "2023-10-21T13:04:08.123766",
     "exception": false,
     "start_time": "2023-10-21T13:04:08.117798",
     "status": "completed"
    },
    "tags": []
   },
   "source": [
    "Finally, let's test the performance of this new model. First run this cell to fit the model to the training set."
   ]
  },
  {
   "cell_type": "code",
   "execution_count": 7,
   "id": "930183f7",
   "metadata": {
    "execution": {
     "iopub.execute_input": "2023-10-21T13:04:08.138186Z",
     "iopub.status.busy": "2023-10-21T13:04:08.137219Z",
     "iopub.status.idle": "2023-10-21T13:07:16.336670Z",
     "shell.execute_reply": "2023-10-21T13:07:16.335371Z"
    },
    "papermill": {
     "duration": 188.209356,
     "end_time": "2023-10-21T13:07:16.339236",
     "exception": false,
     "start_time": "2023-10-21T13:04:08.129880",
     "status": "completed"
    },
    "tags": []
   },
   "outputs": [
    {
     "name": "stdout",
     "output_type": "stream",
     "text": [
      "Epoch 1/50\n",
      "80/80 [==============================] - 23s 164ms/step - loss: 0.6781 - binary_accuracy: 0.5701 - val_loss: 0.6667 - val_binary_accuracy: 0.6139\n",
      "Epoch 2/50\n",
      "80/80 [==============================] - 3s 42ms/step - loss: 0.6669 - binary_accuracy: 0.5994 - val_loss: 0.6553 - val_binary_accuracy: 0.6131\n",
      "Epoch 3/50\n",
      "80/80 [==============================] - 3s 42ms/step - loss: 0.6642 - binary_accuracy: 0.5945 - val_loss: 0.6604 - val_binary_accuracy: 0.6278\n",
      "Epoch 4/50\n",
      "80/80 [==============================] - 3s 42ms/step - loss: 0.6562 - binary_accuracy: 0.6074 - val_loss: 0.6450 - val_binary_accuracy: 0.6112\n",
      "Epoch 5/50\n",
      "80/80 [==============================] - 3s 42ms/step - loss: 0.6507 - binary_accuracy: 0.6056 - val_loss: 0.6390 - val_binary_accuracy: 0.6421\n",
      "Epoch 6/50\n",
      "80/80 [==============================] - 3s 42ms/step - loss: 0.6373 - binary_accuracy: 0.6211 - val_loss: 0.6277 - val_binary_accuracy: 0.6371\n",
      "Epoch 7/50\n",
      "80/80 [==============================] - 3s 42ms/step - loss: 0.6313 - binary_accuracy: 0.6394 - val_loss: 0.6162 - val_binary_accuracy: 0.6557\n",
      "Epoch 8/50\n",
      "80/80 [==============================] - 3s 42ms/step - loss: 0.6235 - binary_accuracy: 0.6418 - val_loss: 0.6111 - val_binary_accuracy: 0.6575\n",
      "Epoch 9/50\n",
      "80/80 [==============================] - 3s 42ms/step - loss: 0.6138 - binary_accuracy: 0.6482 - val_loss: 0.5951 - val_binary_accuracy: 0.6799\n",
      "Epoch 10/50\n",
      "80/80 [==============================] - 3s 42ms/step - loss: 0.5962 - binary_accuracy: 0.6629 - val_loss: 0.5893 - val_binary_accuracy: 0.6923\n",
      "Epoch 11/50\n",
      "80/80 [==============================] - 3s 42ms/step - loss: 0.5887 - binary_accuracy: 0.6758 - val_loss: 0.5723 - val_binary_accuracy: 0.7044\n",
      "Epoch 12/50\n",
      "80/80 [==============================] - 3s 41ms/step - loss: 0.5779 - binary_accuracy: 0.6920 - val_loss: 0.5626 - val_binary_accuracy: 0.7141\n",
      "Epoch 13/50\n",
      "80/80 [==============================] - 3s 41ms/step - loss: 0.5600 - binary_accuracy: 0.7180 - val_loss: 0.5482 - val_binary_accuracy: 0.7208\n",
      "Epoch 14/50\n",
      "80/80 [==============================] - 3s 41ms/step - loss: 0.5449 - binary_accuracy: 0.7309 - val_loss: 0.5314 - val_binary_accuracy: 0.7315\n",
      "Epoch 15/50\n",
      "80/80 [==============================] - 3s 41ms/step - loss: 0.5289 - binary_accuracy: 0.7436 - val_loss: 0.5217 - val_binary_accuracy: 0.7436\n",
      "Epoch 16/50\n",
      "80/80 [==============================] - 3s 41ms/step - loss: 0.4970 - binary_accuracy: 0.7553 - val_loss: 0.5065 - val_binary_accuracy: 0.7531\n",
      "Epoch 17/50\n",
      "80/80 [==============================] - 3s 42ms/step - loss: 0.4725 - binary_accuracy: 0.7714 - val_loss: 0.5431 - val_binary_accuracy: 0.7446\n",
      "Epoch 18/50\n",
      "80/80 [==============================] - 3s 42ms/step - loss: 0.4520 - binary_accuracy: 0.7882 - val_loss: 0.4696 - val_binary_accuracy: 0.7763\n",
      "Epoch 19/50\n",
      "80/80 [==============================] - 3s 42ms/step - loss: 0.4135 - binary_accuracy: 0.8114 - val_loss: 0.4895 - val_binary_accuracy: 0.7682\n",
      "Epoch 20/50\n",
      "80/80 [==============================] - 3s 42ms/step - loss: 0.3915 - binary_accuracy: 0.8194 - val_loss: 0.4453 - val_binary_accuracy: 0.7975\n",
      "Epoch 21/50\n",
      "80/80 [==============================] - 3s 42ms/step - loss: 0.3774 - binary_accuracy: 0.8280 - val_loss: 0.5067 - val_binary_accuracy: 0.7438\n",
      "Epoch 22/50\n",
      "80/80 [==============================] - 3s 42ms/step - loss: 0.3521 - binary_accuracy: 0.8427 - val_loss: 0.4905 - val_binary_accuracy: 0.7769\n",
      "Epoch 23/50\n",
      "80/80 [==============================] - 3s 42ms/step - loss: 0.3208 - binary_accuracy: 0.8566 - val_loss: 0.4631 - val_binary_accuracy: 0.7987\n",
      "Epoch 24/50\n",
      "80/80 [==============================] - 3s 41ms/step - loss: 0.2769 - binary_accuracy: 0.8806 - val_loss: 0.4569 - val_binary_accuracy: 0.8139\n",
      "Epoch 25/50\n",
      "80/80 [==============================] - 3s 42ms/step - loss: 0.2795 - binary_accuracy: 0.8767 - val_loss: 0.4490 - val_binary_accuracy: 0.8129\n",
      "Epoch 26/50\n",
      "80/80 [==============================] - 3s 42ms/step - loss: 0.2615 - binary_accuracy: 0.8849 - val_loss: 0.4029 - val_binary_accuracy: 0.8177\n",
      "Epoch 27/50\n",
      "80/80 [==============================] - 3s 42ms/step - loss: 0.2474 - binary_accuracy: 0.8870 - val_loss: 0.4131 - val_binary_accuracy: 0.8335\n",
      "Epoch 28/50\n",
      "80/80 [==============================] - 3s 42ms/step - loss: 0.2442 - binary_accuracy: 0.8890 - val_loss: 0.4069 - val_binary_accuracy: 0.8284\n",
      "Epoch 29/50\n",
      "80/80 [==============================] - 3s 42ms/step - loss: 0.2377 - binary_accuracy: 0.8886 - val_loss: 0.4016 - val_binary_accuracy: 0.8349\n",
      "Epoch 30/50\n",
      "80/80 [==============================] - 3s 41ms/step - loss: 0.2018 - binary_accuracy: 0.9072 - val_loss: 0.4360 - val_binary_accuracy: 0.8212\n",
      "Epoch 31/50\n",
      "80/80 [==============================] - 3s 42ms/step - loss: 0.1899 - binary_accuracy: 0.9113 - val_loss: 0.5253 - val_binary_accuracy: 0.8179\n",
      "Epoch 32/50\n",
      "80/80 [==============================] - 3s 42ms/step - loss: 0.1500 - binary_accuracy: 0.9271 - val_loss: 0.6032 - val_binary_accuracy: 0.8181\n",
      "Epoch 33/50\n",
      "80/80 [==============================] - 3s 41ms/step - loss: 0.1368 - binary_accuracy: 0.9373 - val_loss: 0.6724 - val_binary_accuracy: 0.8101\n",
      "Epoch 34/50\n",
      "80/80 [==============================] - 3s 42ms/step - loss: 0.1531 - binary_accuracy: 0.9289 - val_loss: 0.5687 - val_binary_accuracy: 0.8252\n",
      "Epoch 35/50\n",
      "80/80 [==============================] - 3s 42ms/step - loss: 0.1270 - binary_accuracy: 0.9410 - val_loss: 0.6053 - val_binary_accuracy: 0.8289\n",
      "Epoch 36/50\n",
      "80/80 [==============================] - 3s 42ms/step - loss: 0.1116 - binary_accuracy: 0.9492 - val_loss: 0.4992 - val_binary_accuracy: 0.8377\n",
      "Epoch 37/50\n",
      "80/80 [==============================] - 3s 41ms/step - loss: 0.1077 - binary_accuracy: 0.9490 - val_loss: 0.7276 - val_binary_accuracy: 0.8179\n",
      "Epoch 38/50\n",
      "80/80 [==============================] - 3s 42ms/step - loss: 0.1064 - binary_accuracy: 0.9480 - val_loss: 0.7100 - val_binary_accuracy: 0.8161\n",
      "Epoch 39/50\n",
      "80/80 [==============================] - 3s 42ms/step - loss: 0.1015 - binary_accuracy: 0.9513 - val_loss: 0.7331 - val_binary_accuracy: 0.8157\n",
      "Epoch 40/50\n",
      "80/80 [==============================] - 3s 42ms/step - loss: 0.0929 - binary_accuracy: 0.9592 - val_loss: 0.7270 - val_binary_accuracy: 0.8194\n",
      "Epoch 41/50\n",
      "80/80 [==============================] - 3s 42ms/step - loss: 0.1030 - binary_accuracy: 0.9551 - val_loss: 0.6285 - val_binary_accuracy: 0.8234\n",
      "Epoch 42/50\n",
      "80/80 [==============================] - 3s 42ms/step - loss: 0.1132 - binary_accuracy: 0.9465 - val_loss: 0.6806 - val_binary_accuracy: 0.8143\n",
      "Epoch 43/50\n",
      "80/80 [==============================] - 3s 42ms/step - loss: 0.1068 - binary_accuracy: 0.9488 - val_loss: 0.4725 - val_binary_accuracy: 0.8375\n",
      "Epoch 44/50\n",
      "80/80 [==============================] - 3s 42ms/step - loss: 0.1135 - binary_accuracy: 0.9494 - val_loss: 0.5618 - val_binary_accuracy: 0.8390\n",
      "Epoch 45/50\n",
      "80/80 [==============================] - 3s 42ms/step - loss: 0.1161 - binary_accuracy: 0.9455 - val_loss: 0.5918 - val_binary_accuracy: 0.8414\n",
      "Epoch 46/50\n",
      "80/80 [==============================] - 3s 42ms/step - loss: 0.0994 - binary_accuracy: 0.9570 - val_loss: 0.7150 - val_binary_accuracy: 0.7812\n",
      "Epoch 47/50\n",
      "80/80 [==============================] - 3s 42ms/step - loss: 0.0956 - binary_accuracy: 0.9549 - val_loss: 0.6091 - val_binary_accuracy: 0.8357\n",
      "Epoch 48/50\n",
      "80/80 [==============================] - 3s 42ms/step - loss: 0.0575 - binary_accuracy: 0.9707 - val_loss: 0.6538 - val_binary_accuracy: 0.8555\n",
      "Epoch 49/50\n",
      "80/80 [==============================] - 3s 42ms/step - loss: 0.0534 - binary_accuracy: 0.9744 - val_loss: 0.7346 - val_binary_accuracy: 0.8571\n",
      "Epoch 50/50\n",
      "80/80 [==============================] - 3s 42ms/step - loss: 0.0427 - binary_accuracy: 0.9812 - val_loss: 0.7978 - val_binary_accuracy: 0.8584\n"
     ]
    }
   ],
   "source": [
    "history = model.fit(\n",
    "    ds_train,\n",
    "    validation_data=ds_valid,\n",
    "    epochs=50,\n",
    ")"
   ]
  },
  {
   "cell_type": "markdown",
   "id": "8179a9e2",
   "metadata": {
    "papermill": {
     "duration": 0.170462,
     "end_time": "2023-10-21T13:07:16.683656",
     "exception": false,
     "start_time": "2023-10-21T13:07:16.513194",
     "status": "completed"
    },
    "tags": []
   },
   "source": [
    "And now run the cell below to plot the loss and metric curves for this training run."
   ]
  },
  {
   "cell_type": "code",
   "execution_count": 8,
   "id": "c157bed8",
   "metadata": {
    "execution": {
     "iopub.execute_input": "2023-10-21T13:07:17.023152Z",
     "iopub.status.busy": "2023-10-21T13:07:17.022241Z",
     "iopub.status.idle": "2023-10-21T13:07:17.983950Z",
     "shell.execute_reply": "2023-10-21T13:07:17.982989Z"
    },
    "papermill": {
     "duration": 1.133486,
     "end_time": "2023-10-21T13:07:17.986143",
     "exception": false,
     "start_time": "2023-10-21T13:07:16.852657",
     "status": "completed"
    },
    "tags": []
   },
   "outputs": [
    {
     "data": {
      "image/png": "[encoded data removed]",
      "text/plain": [
       "<Figure size 640x480 with 1 Axes>"
      ]
     },
     "metadata": {},
     "output_type": "display_data"
    },
    {
     "data": {
      "image/png": "[encoded data removed]",
      "text/plain": [
       "<Figure size 640x480 with 1 Axes>"
      ]
     },
     "metadata": {},
     "output_type": "display_data"
    }
   ],
   "source": [
    "import pandas as pd\n",
    "history_frame = pd.DataFrame(history.history)\n",
    "history_frame.loc[:, ['loss', 'val_loss']].plot()\n",
    "history_frame.loc[:, ['binary_accuracy', 'val_binary_accuracy']].plot();"
   ]
  },
  {
   "cell_type": "markdown",
   "id": "7349f010",
   "metadata": {
    "papermill": {
     "duration": 0.17204,
     "end_time": "2023-10-21T13:07:18.329291",
     "exception": false,
     "start_time": "2023-10-21T13:07:18.157251",
     "status": "completed"
    },
    "tags": []
   },
   "source": [
    "# 3) Train the Model #\n",
    "\n",
    "How would you interpret these training curves? Did this model improve upon the model from the tutorial?"
   ]
  },
  {
   "cell_type": "code",
   "execution_count": 9,
   "id": "e71f375e",
   "metadata": {
    "execution": {
     "iopub.execute_input": "2023-10-21T13:07:18.677404Z",
     "iopub.status.busy": "2023-10-21T13:07:18.677011Z",
     "iopub.status.idle": "2023-10-21T13:07:18.684996Z",
     "shell.execute_reply": "2023-10-21T13:07:18.684119Z"
    },
    "lines_to_next_cell": 0,
    "papermill": {
     "duration": 0.186053,
     "end_time": "2023-10-21T13:07:18.687099",
     "exception": false,
     "start_time": "2023-10-21T13:07:18.501046",
     "status": "completed"
    },
    "tags": []
   },
   "outputs": [
    {
     "data": {
      "application/javascript": [
       "parent.postMessage({\"jupyterEvent\": \"custom.exercise_interaction\", \"data\": {\"outcomeType\": 1, \"valueTowardsCompletion\": 0.3333333333333333, \"interactionType\": 1, \"questionType\": 4, \"questionId\": \"3_Q3\", \"learnToolsVersion\": \"0.3.4\", \"failureMessage\": \"\", \"exceptionClass\": \"\", \"trace\": \"\"}}, \"*\")"
      ],
      "text/plain": [
       "<IPython.core.display.Javascript object>"
      ]
     },
     "metadata": {},
     "output_type": "display_data"
    },
    {
     "data": {
      "text/markdown": [
       "<span style=\"color:#33cc33\">Correct:</span> \n",
       "\n",
       "\n",
       "The learning curves for the model from the tutorial diverged fairly rapidly. This would indicate that it was prone to overfitting and in need of some regularization. The additional layer in our new model would make it even more prone to overfitting. However, adding some regularization with the `Dropout` layer helped prevent this. These changes improved the validation accuracy of the model by several points.\n"
      ],
      "text/plain": [
       "Correct: \n",
       "\n",
       "\n",
       "The learning curves for the model from the tutorial diverged fairly rapidly. This would indicate that it was prone to overfitting and in need of some regularization. The additional layer in our new model would make it even more prone to overfitting. However, adding some regularization with the `Dropout` layer helped prevent this. These changes improved the validation accuracy of the model by several points."
      ]
     },
     "metadata": {},
     "output_type": "display_data"
    }
   ],
   "source": [
    "# View the solution (Run this code cell to receive credit!)\n",
    "q_3.check()"
   ]
  },
  {
   "cell_type": "markdown",
   "id": "26d9f59b",
   "metadata": {
    "papermill": {
     "duration": 0.175071,
     "end_time": "2023-10-21T13:07:19.033121",
     "exception": false,
     "start_time": "2023-10-21T13:07:18.858050",
     "status": "completed"
    },
    "tags": []
   },
   "source": [
    "# Conclusion #\n",
    "\n",
    "These exercises showed you how to design a custom convolutional network to solve a specific classification problem. Though most models these days will be built on top of a pretrained base, it certain circumstances a smaller custom convnet might still be preferable -- such as with a smaller or unusual dataset or when computing resources are very limited. As you saw here, for certain problems they can perform just as well as a pretrained model.\n",
    "\n",
    "# Keep Going #\n",
    "\n",
    "Continue on to [**Lesson 6**](https://www.kaggle.com/ryanholbrook/data-augmentation), where you'll learn a widely-used technique that can give a boost to your training data: **data augmentation**."
   ]
  },
  {
   "cell_type": "markdown",
   "id": "9b00e36d",
   "metadata": {
    "papermill": {
     "duration": 0.171178,
     "end_time": "2023-10-21T13:07:19.377664",
     "exception": false,
     "start_time": "2023-10-21T13:07:19.206486",
     "status": "completed"
    },
    "tags": []
   },
   "source": [
    "---\n",
    "\n",
    "\n",
    "\n",
    "\n",
    "*Have questions or comments? Visit the [course discussion forum](https://www.kaggle.com/learn/computer-vision/discussion) to chat with other learners.*"
   ]
  }
 ],
 "metadata": {
  "kernelspec": {
   "display_name": "Python 3",
   "language": "python",
   "name": "python3"
  },
  "language_info": {
   "codemirror_mode": {
    "name": "ipython",
    "version": 3
   },
   "file_extension": ".py",
   "mimetype": "text/x-python",
   "name": "python",
   "nbconvert_exporter": "python",
   "pygments_lexer": "ipython3",
   "version": "3.10.12"
  },
  "papermill": {
   "default_parameters": {},
   "duration": 219.761815,
   "end_time": "2023-10-21T13:07:23.435326",
   "environment_variables": {},
   "exception": null,
   "input_path": "__notebook__.ipynb",
   "output_path": "__notebook__.ipynb",
   "parameters": {},
   "start_time": "2023-10-21T13:03:43.673511",
   "version": "2.4.0"
  }
 },
 "nbformat": 4,
 "nbformat_minor": 5
}
