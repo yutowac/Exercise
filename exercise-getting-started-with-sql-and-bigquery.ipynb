{
 "cells": [
  {
   "cell_type": "markdown",
   "id": "5aecbc84",
   "metadata": {
    "papermill": {
     "duration": 0.006485,
     "end_time": "2023-10-18T14:35:24.056905",
     "exception": false,
     "start_time": "2023-10-18T14:35:24.050420",
     "status": "completed"
    },
    "tags": []
   },
   "source": [
    "**This notebook is an exercise in the [SQL](https://www.kaggle.com/learn/intro-to-sql) course.  You can reference the tutorial at [this link](https://www.kaggle.com/dansbecker/getting-started-with-sql-and-bigquery).**\n",
    "\n",
    "---\n"
   ]
  },
  {
   "cell_type": "markdown",
   "id": "3a2e7ded",
   "metadata": {
    "papermill": {
     "duration": 0.003899,
     "end_time": "2023-10-18T14:35:24.065216",
     "exception": false,
     "start_time": "2023-10-18T14:35:24.061317",
     "status": "completed"
    },
    "tags": []
   },
   "source": [
    "# Introduction\n",
    "\n",
    "The first test of your new data exploration skills uses data describing crime in the city of Chicago.\n",
    "\n",
    "Before you get started, run the following cell. It sets up the automated feedback system to review your answers."
   ]
  },
  {
   "cell_type": "code",
   "execution_count": 1,
   "id": "bd7e2dad",
   "metadata": {
    "execution": {
     "iopub.execute_input": "2023-10-18T14:35:24.075942Z",
     "iopub.status.busy": "2023-10-18T14:35:24.075180Z",
     "iopub.status.idle": "2023-10-18T14:35:28.829192Z",
     "shell.execute_reply": "2023-10-18T14:35:28.828485Z"
    },
    "papermill": {
     "duration": 4.762049,
     "end_time": "2023-10-18T14:35:28.831503",
     "exception": false,
     "start_time": "2023-10-18T14:35:24.069454",
     "status": "completed"
    },
    "tags": []
   },
   "outputs": [
    {
     "name": "stdout",
     "output_type": "stream",
     "text": [
      "Using Kaggle's public dataset BigQuery integration.\n",
      "Setup Complete\n"
     ]
    }
   ],
   "source": [
    "# Set up feedack system\n",
    "from learntools.core import binder\n",
    "binder.bind(globals())\n",
    "from learntools.sql.ex1 import *\n",
    "print(\"Setup Complete\")"
   ]
  },
  {
   "cell_type": "markdown",
   "id": "0744517a",
   "metadata": {
    "papermill": {
     "duration": 0.004014,
     "end_time": "2023-10-18T14:35:28.840086",
     "exception": false,
     "start_time": "2023-10-18T14:35:28.836072",
     "status": "completed"
    },
    "tags": []
   },
   "source": [
    "Use the next code cell to fetch the dataset."
   ]
  },
  {
   "cell_type": "code",
   "execution_count": 2,
   "id": "59a86706",
   "metadata": {
    "execution": {
     "iopub.execute_input": "2023-10-18T14:35:28.850867Z",
     "iopub.status.busy": "2023-10-18T14:35:28.849632Z",
     "iopub.status.idle": "2023-10-18T14:35:29.169418Z",
     "shell.execute_reply": "2023-10-18T14:35:29.168601Z"
    },
    "papermill": {
     "duration": 0.327569,
     "end_time": "2023-10-18T14:35:29.171813",
     "exception": false,
     "start_time": "2023-10-18T14:35:28.844244",
     "status": "completed"
    },
    "tags": []
   },
   "outputs": [
    {
     "name": "stdout",
     "output_type": "stream",
     "text": [
      "Using Kaggle's public dataset BigQuery integration.\n"
     ]
    }
   ],
   "source": [
    "from google.cloud import bigquery\n",
    "\n",
    "# Create a \"Client\" object\n",
    "client = bigquery.Client()\n",
    "\n",
    "# Construct a reference to the \"chicago_crime\" dataset\n",
    "dataset_ref = client.dataset(\"chicago_crime\", project=\"bigquery-public-data\")\n",
    "\n",
    "# API request - fetch the dataset\n",
    "dataset = client.get_dataset(dataset_ref)"
   ]
  },
  {
   "cell_type": "markdown",
   "id": "b4a5965e",
   "metadata": {
    "papermill": {
     "duration": 0.004174,
     "end_time": "2023-10-18T14:35:29.180642",
     "exception": false,
     "start_time": "2023-10-18T14:35:29.176468",
     "status": "completed"
    },
    "tags": []
   },
   "source": [
    "# Exercises\n",
    "\n",
    "### 1) Count tables in the dataset\n",
    "\n",
    "How many tables are in the Chicago Crime dataset?"
   ]
  },
  {
   "cell_type": "code",
   "execution_count": 3,
   "id": "0a5cd5b3",
   "metadata": {
    "execution": {
     "iopub.execute_input": "2023-10-18T14:35:29.191014Z",
     "iopub.status.busy": "2023-10-18T14:35:29.190677Z",
     "iopub.status.idle": "2023-10-18T14:35:29.473457Z",
     "shell.execute_reply": "2023-10-18T14:35:29.472313Z"
    },
    "papermill": {
     "duration": 0.290245,
     "end_time": "2023-10-18T14:35:29.475265",
     "exception": false,
     "start_time": "2023-10-18T14:35:29.185020",
     "status": "completed"
    },
    "tags": []
   },
   "outputs": [
    {
     "name": "stdout",
     "output_type": "stream",
     "text": [
      "crime\n"
     ]
    },
    {
     "data": {
      "text/plain": [
       "[None]"
      ]
     },
     "execution_count": 3,
     "metadata": {},
     "output_type": "execute_result"
    }
   ],
   "source": [
    "# Write the code you need here to figure out the answer\n",
    "[print(table.table_id) for table in list(client.list_tables(dataset))]"
   ]
  },
  {
   "cell_type": "code",
   "execution_count": 4,
   "id": "bd0fd3e2",
   "metadata": {
    "execution": {
     "iopub.execute_input": "2023-10-18T14:35:29.485575Z",
     "iopub.status.busy": "2023-10-18T14:35:29.485285Z",
     "iopub.status.idle": "2023-10-18T14:35:29.492640Z",
     "shell.execute_reply": "2023-10-18T14:35:29.491780Z"
    },
    "papermill": {
     "duration": 0.014821,
     "end_time": "2023-10-18T14:35:29.494428",
     "exception": false,
     "start_time": "2023-10-18T14:35:29.479607",
     "status": "completed"
    },
    "tags": []
   },
   "outputs": [
    {
     "data": {
      "application/javascript": [
       "parent.postMessage({\"jupyterEvent\": \"custom.exercise_interaction\", \"data\": {\"outcomeType\": 1, \"valueTowardsCompletion\": 0.3333333333333333, \"interactionType\": 1, \"questionType\": 1, \"questionId\": \"1_CountTables\", \"learnToolsVersion\": \"0.3.4\", \"failureMessage\": \"\", \"exceptionClass\": \"\", \"trace\": \"\"}}, \"*\")"
      ],
      "text/plain": [
       "<IPython.core.display.Javascript object>"
      ]
     },
     "metadata": {},
     "output_type": "display_data"
    },
    {
     "data": {
      "text/markdown": [
       "<span style=\"color:#33cc33\">Correct</span>"
      ],
      "text/plain": [
       "Correct"
      ]
     },
     "metadata": {},
     "output_type": "display_data"
    }
   ],
   "source": [
    "num_tables = 1  # Store the answer as num_tables and then run this cell\n",
    "\n",
    "# Check your answer\n",
    "q_1.check()"
   ]
  },
  {
   "cell_type": "markdown",
   "id": "1a20884a",
   "metadata": {
    "papermill": {
     "duration": 0.004455,
     "end_time": "2023-10-18T14:35:29.503474",
     "exception": false,
     "start_time": "2023-10-18T14:35:29.499019",
     "status": "completed"
    },
    "tags": []
   },
   "source": [
    "For a hint or the solution, uncomment the appropriate line below."
   ]
  },
  {
   "cell_type": "code",
   "execution_count": 5,
   "id": "17c31c72",
   "metadata": {
    "execution": {
     "iopub.execute_input": "2023-10-18T14:35:29.518281Z",
     "iopub.status.busy": "2023-10-18T14:35:29.517432Z",
     "iopub.status.idle": "2023-10-18T14:35:29.521893Z",
     "shell.execute_reply": "2023-10-18T14:35:29.520757Z"
    },
    "papermill": {
     "duration": 0.016127,
     "end_time": "2023-10-18T14:35:29.524174",
     "exception": false,
     "start_time": "2023-10-18T14:35:29.508047",
     "status": "completed"
    },
    "tags": []
   },
   "outputs": [],
   "source": [
    "#q_1.hint()\n",
    "#q_1.solution()"
   ]
  },
  {
   "cell_type": "markdown",
   "id": "059aca46",
   "metadata": {
    "papermill": {
     "duration": 0.007784,
     "end_time": "2023-10-18T14:35:29.540162",
     "exception": false,
     "start_time": "2023-10-18T14:35:29.532378",
     "status": "completed"
    },
    "tags": []
   },
   "source": [
    "### 2) Explore the table schema\n",
    "\n",
    "How many columns in the `crime` table have `TIMESTAMP` data?"
   ]
  },
  {
   "cell_type": "code",
   "execution_count": 6,
   "id": "22d95720",
   "metadata": {
    "execution": {
     "iopub.execute_input": "2023-10-18T14:35:29.556924Z",
     "iopub.status.busy": "2023-10-18T14:35:29.556565Z",
     "iopub.status.idle": "2023-10-18T14:35:29.820748Z",
     "shell.execute_reply": "2023-10-18T14:35:29.819616Z"
    },
    "papermill": {
     "duration": 0.275468,
     "end_time": "2023-10-18T14:35:29.823355",
     "exception": false,
     "start_time": "2023-10-18T14:35:29.547887",
     "status": "completed"
    },
    "tags": []
   },
   "outputs": [
    {
     "data": {
      "text/plain": [
       "[SchemaField('unique_key', 'INTEGER', 'REQUIRED', None, (), None),\n",
       " SchemaField('case_number', 'STRING', 'NULLABLE', None, (), None),\n",
       " SchemaField('date', 'TIMESTAMP', 'NULLABLE', None, (), None),\n",
       " SchemaField('block', 'STRING', 'NULLABLE', None, (), None),\n",
       " SchemaField('iucr', 'STRING', 'NULLABLE', None, (), None),\n",
       " SchemaField('primary_type', 'STRING', 'NULLABLE', None, (), None),\n",
       " SchemaField('description', 'STRING', 'NULLABLE', None, (), None),\n",
       " SchemaField('location_description', 'STRING', 'NULLABLE', None, (), None),\n",
       " SchemaField('arrest', 'BOOLEAN', 'NULLABLE', None, (), None),\n",
       " SchemaField('domestic', 'BOOLEAN', 'NULLABLE', None, (), None),\n",
       " SchemaField('beat', 'INTEGER', 'NULLABLE', None, (), None),\n",
       " SchemaField('district', 'INTEGER', 'NULLABLE', None, (), None),\n",
       " SchemaField('ward', 'INTEGER', 'NULLABLE', None, (), None),\n",
       " SchemaField('community_area', 'INTEGER', 'NULLABLE', None, (), None),\n",
       " SchemaField('fbi_code', 'STRING', 'NULLABLE', None, (), None),\n",
       " SchemaField('x_coordinate', 'FLOAT', 'NULLABLE', None, (), None),\n",
       " SchemaField('y_coordinate', 'FLOAT', 'NULLABLE', None, (), None),\n",
       " SchemaField('year', 'INTEGER', 'NULLABLE', None, (), None),\n",
       " SchemaField('updated_on', 'TIMESTAMP', 'NULLABLE', None, (), None),\n",
       " SchemaField('latitude', 'FLOAT', 'NULLABLE', None, (), None),\n",
       " SchemaField('longitude', 'FLOAT', 'NULLABLE', None, (), None),\n",
       " SchemaField('location', 'STRING', 'NULLABLE', None, (), None)]"
      ]
     },
     "execution_count": 6,
     "metadata": {},
     "output_type": "execute_result"
    }
   ],
   "source": [
    "# Write the code to figure out the answer\n",
    "table = client.get_table(dataset.table(\"crime\"))\n",
    "table.schema"
   ]
  },
  {
   "cell_type": "code",
   "execution_count": 7,
   "id": "55a7b38a",
   "metadata": {
    "execution": {
     "iopub.execute_input": "2023-10-18T14:35:29.842011Z",
     "iopub.status.busy": "2023-10-18T14:35:29.841164Z",
     "iopub.status.idle": "2023-10-18T14:35:29.851143Z",
     "shell.execute_reply": "2023-10-18T14:35:29.850329Z"
    },
    "papermill": {
     "duration": 0.021733,
     "end_time": "2023-10-18T14:35:29.853127",
     "exception": false,
     "start_time": "2023-10-18T14:35:29.831394",
     "status": "completed"
    },
    "tags": []
   },
   "outputs": [
    {
     "data": {
      "application/javascript": [
       "parent.postMessage({\"jupyterEvent\": \"custom.exercise_interaction\", \"data\": {\"outcomeType\": 1, \"valueTowardsCompletion\": 0.3333333333333333, \"interactionType\": 1, \"questionType\": 1, \"questionId\": \"2_CountTimestampFields\", \"learnToolsVersion\": \"0.3.4\", \"failureMessage\": \"\", \"exceptionClass\": \"\", \"trace\": \"\"}}, \"*\")"
      ],
      "text/plain": [
       "<IPython.core.display.Javascript object>"
      ]
     },
     "metadata": {},
     "output_type": "display_data"
    },
    {
     "data": {
      "text/markdown": [
       "<span style=\"color:#33cc33\">Correct</span>"
      ],
      "text/plain": [
       "Correct"
      ]
     },
     "metadata": {},
     "output_type": "display_data"
    }
   ],
   "source": [
    "num_timestamp_fields = 2 # Put your answer here\n",
    "\n",
    "# Check your answer\n",
    "q_2.check()"
   ]
  },
  {
   "cell_type": "markdown",
   "id": "24936c79",
   "metadata": {
    "papermill": {
     "duration": 0.004875,
     "end_time": "2023-10-18T14:35:29.863219",
     "exception": false,
     "start_time": "2023-10-18T14:35:29.858344",
     "status": "completed"
    },
    "tags": []
   },
   "source": [
    "For a hint or the solution, uncomment the appropriate line below."
   ]
  },
  {
   "cell_type": "code",
   "execution_count": 8,
   "id": "88dd1c54",
   "metadata": {
    "execution": {
     "iopub.execute_input": "2023-10-18T14:35:29.875841Z",
     "iopub.status.busy": "2023-10-18T14:35:29.875342Z",
     "iopub.status.idle": "2023-10-18T14:35:29.879120Z",
     "shell.execute_reply": "2023-10-18T14:35:29.878476Z"
    },
    "papermill": {
     "duration": 0.01236,
     "end_time": "2023-10-18T14:35:29.880727",
     "exception": false,
     "start_time": "2023-10-18T14:35:29.868367",
     "status": "completed"
    },
    "tags": []
   },
   "outputs": [],
   "source": [
    "#q_2.hint()\n",
    "#q_2.solution()"
   ]
  },
  {
   "cell_type": "markdown",
   "id": "d60a8237",
   "metadata": {
    "papermill": {
     "duration": 0.004859,
     "end_time": "2023-10-18T14:35:29.890783",
     "exception": false,
     "start_time": "2023-10-18T14:35:29.885924",
     "status": "completed"
    },
    "tags": []
   },
   "source": [
    "### 3) Create a crime map\n",
    "\n",
    "If you wanted to create a map with a dot at the location of each crime, what are the names of the two fields you likely need to pull out of the `crime` table to plot the crimes on a map?"
   ]
  },
  {
   "cell_type": "code",
   "execution_count": 9,
   "id": "d7491226",
   "metadata": {
    "execution": {
     "iopub.execute_input": "2023-10-18T14:35:29.902417Z",
     "iopub.status.busy": "2023-10-18T14:35:29.901945Z",
     "iopub.status.idle": "2023-10-18T14:35:29.905998Z",
     "shell.execute_reply": "2023-10-18T14:35:29.905085Z"
    },
    "papermill": {
     "duration": 0.012047,
     "end_time": "2023-10-18T14:35:29.907737",
     "exception": false,
     "start_time": "2023-10-18T14:35:29.895690",
     "status": "completed"
    },
    "tags": []
   },
   "outputs": [],
   "source": [
    "# Write the code here to explore the data so you can find the answer"
   ]
  },
  {
   "cell_type": "code",
   "execution_count": 10,
   "id": "c06823a1",
   "metadata": {
    "execution": {
     "iopub.execute_input": "2023-10-18T14:35:29.919503Z",
     "iopub.status.busy": "2023-10-18T14:35:29.919181Z",
     "iopub.status.idle": "2023-10-18T14:35:29.926694Z",
     "shell.execute_reply": "2023-10-18T14:35:29.925617Z"
    },
    "papermill": {
     "duration": 0.015682,
     "end_time": "2023-10-18T14:35:29.928548",
     "exception": false,
     "start_time": "2023-10-18T14:35:29.912866",
     "status": "completed"
    },
    "tags": []
   },
   "outputs": [
    {
     "data": {
      "application/javascript": [
       "parent.postMessage({\"jupyterEvent\": \"custom.exercise_interaction\", \"data\": {\"outcomeType\": 1, \"valueTowardsCompletion\": 0.3333333333333333, \"interactionType\": 1, \"questionType\": 2, \"questionId\": \"3_IdentifyFieldsForPlotting\", \"learnToolsVersion\": \"0.3.4\", \"failureMessage\": \"\", \"exceptionClass\": \"\", \"trace\": \"\"}}, \"*\")"
      ],
      "text/plain": [
       "<IPython.core.display.Javascript object>"
      ]
     },
     "metadata": {},
     "output_type": "display_data"
    },
    {
     "data": {
      "text/markdown": [
       "<span style=\"color:#33cc33\">Correct</span>"
      ],
      "text/plain": [
       "Correct"
      ]
     },
     "metadata": {},
     "output_type": "display_data"
    }
   ],
   "source": [
    "fields_for_plotting = [\"latitude\", \"longitude\"] # Put your answers here\n",
    "\n",
    "# Check your answer\n",
    "q_3.check()"
   ]
  },
  {
   "cell_type": "markdown",
   "id": "e2c3e9f5",
   "metadata": {
    "papermill": {
     "duration": 0.004925,
     "end_time": "2023-10-18T14:35:29.938871",
     "exception": false,
     "start_time": "2023-10-18T14:35:29.933946",
     "status": "completed"
    },
    "tags": []
   },
   "source": [
    "For a hint or the solution, uncomment the appropriate line below."
   ]
  },
  {
   "cell_type": "code",
   "execution_count": 11,
   "id": "547bf302",
   "metadata": {
    "execution": {
     "iopub.execute_input": "2023-10-18T14:35:29.950755Z",
     "iopub.status.busy": "2023-10-18T14:35:29.950387Z",
     "iopub.status.idle": "2023-10-18T14:35:29.955087Z",
     "shell.execute_reply": "2023-10-18T14:35:29.953984Z"
    },
    "papermill": {
     "duration": 0.012982,
     "end_time": "2023-10-18T14:35:29.957017",
     "exception": false,
     "start_time": "2023-10-18T14:35:29.944035",
     "status": "completed"
    },
    "tags": []
   },
   "outputs": [],
   "source": [
    "#q_3.hint()\n",
    "#q_3.solution()"
   ]
  },
  {
   "cell_type": "markdown",
   "id": "9fc65b97",
   "metadata": {
    "papermill": {
     "duration": 0.005015,
     "end_time": "2023-10-18T14:35:29.967550",
     "exception": false,
     "start_time": "2023-10-18T14:35:29.962535",
     "status": "completed"
    },
    "tags": []
   },
   "source": [
    "Thinking about the question above, there are a few columns that appear to have geographic data. Look at a few values (with the `list_rows()` command) to see if you can determine their relationship.  Two columns will still be hard to interpret. But it should be obvious how the `location` column relates to `latitude` and `longitude`."
   ]
  },
  {
   "cell_type": "code",
   "execution_count": 12,
   "id": "6e210755",
   "metadata": {
    "execution": {
     "iopub.execute_input": "2023-10-18T14:35:29.979417Z",
     "iopub.status.busy": "2023-10-18T14:35:29.979048Z",
     "iopub.status.idle": "2023-10-18T14:35:30.674590Z",
     "shell.execute_reply": "2023-10-18T14:35:30.673931Z"
    },
    "papermill": {
     "duration": 0.703778,
     "end_time": "2023-10-18T14:35:30.676461",
     "exception": false,
     "start_time": "2023-10-18T14:35:29.972683",
     "status": "completed"
    },
    "tags": []
   },
   "outputs": [
    {
     "data": {
      "text/html": [
       "<div>\n",
       "<style scoped>\n",
       "    .dataframe tbody tr th:only-of-type {\n",
       "        vertical-align: middle;\n",
       "    }\n",
       "\n",
       "    .dataframe tbody tr th {\n",
       "        vertical-align: top;\n",
       "    }\n",
       "\n",
       "    .dataframe thead th {\n",
       "        text-align: right;\n",
       "    }\n",
       "</style>\n",
       "<table border=\"1\" class=\"dataframe\">\n",
       "  <thead>\n",
       "    <tr style=\"text-align: right;\">\n",
       "      <th></th>\n",
       "      <th>latitude</th>\n",
       "      <th>longitude</th>\n",
       "    </tr>\n",
       "  </thead>\n",
       "  <tbody>\n",
       "    <tr>\n",
       "      <th>0</th>\n",
       "      <td>41.704335</td>\n",
       "      <td>-87.631084</td>\n",
       "    </tr>\n",
       "    <tr>\n",
       "      <th>1</th>\n",
       "      <td>41.705373</td>\n",
       "      <td>-87.621441</td>\n",
       "    </tr>\n",
       "    <tr>\n",
       "      <th>2</th>\n",
       "      <td>41.705607</td>\n",
       "      <td>-87.605860</td>\n",
       "    </tr>\n",
       "    <tr>\n",
       "      <th>3</th>\n",
       "      <td>41.704641</td>\n",
       "      <td>-87.609313</td>\n",
       "    </tr>\n",
       "    <tr>\n",
       "      <th>4</th>\n",
       "      <td>41.706319</td>\n",
       "      <td>-87.619618</td>\n",
       "    </tr>\n",
       "    <tr>\n",
       "      <th>5</th>\n",
       "      <td>41.700882</td>\n",
       "      <td>-87.617250</td>\n",
       "    </tr>\n",
       "    <tr>\n",
       "      <th>6</th>\n",
       "      <td>41.705962</td>\n",
       "      <td>-87.623485</td>\n",
       "    </tr>\n",
       "    <tr>\n",
       "      <th>7</th>\n",
       "      <td>41.707157</td>\n",
       "      <td>-87.620074</td>\n",
       "    </tr>\n",
       "    <tr>\n",
       "      <th>8</th>\n",
       "      <td>41.703569</td>\n",
       "      <td>-87.613815</td>\n",
       "    </tr>\n",
       "    <tr>\n",
       "      <th>9</th>\n",
       "      <td>41.706987</td>\n",
       "      <td>-87.628590</td>\n",
       "    </tr>\n",
       "    <tr>\n",
       "      <th>10</th>\n",
       "      <td>41.702998</td>\n",
       "      <td>-87.623404</td>\n",
       "    </tr>\n",
       "    <tr>\n",
       "      <th>11</th>\n",
       "      <td>41.706875</td>\n",
       "      <td>-87.628266</td>\n",
       "    </tr>\n",
       "    <tr>\n",
       "      <th>12</th>\n",
       "      <td>41.707068</td>\n",
       "      <td>-87.631146</td>\n",
       "    </tr>\n",
       "    <tr>\n",
       "      <th>13</th>\n",
       "      <td>41.704444</td>\n",
       "      <td>-87.607188</td>\n",
       "    </tr>\n",
       "    <tr>\n",
       "      <th>14</th>\n",
       "      <td>41.699822</td>\n",
       "      <td>-87.627394</td>\n",
       "    </tr>\n",
       "    <tr>\n",
       "      <th>15</th>\n",
       "      <td>41.707182</td>\n",
       "      <td>-87.607523</td>\n",
       "    </tr>\n",
       "    <tr>\n",
       "      <th>16</th>\n",
       "      <td>41.706560</td>\n",
       "      <td>-87.632466</td>\n",
       "    </tr>\n",
       "    <tr>\n",
       "      <th>17</th>\n",
       "      <td>41.700703</td>\n",
       "      <td>-87.618461</td>\n",
       "    </tr>\n",
       "    <tr>\n",
       "      <th>18</th>\n",
       "      <td>41.707519</td>\n",
       "      <td>-87.601839</td>\n",
       "    </tr>\n",
       "    <tr>\n",
       "      <th>19</th>\n",
       "      <td>41.707127</td>\n",
       "      <td>-87.626428</td>\n",
       "    </tr>\n",
       "    <tr>\n",
       "      <th>20</th>\n",
       "      <td>41.699772</td>\n",
       "      <td>-87.631683</td>\n",
       "    </tr>\n",
       "    <tr>\n",
       "      <th>21</th>\n",
       "      <td>41.702507</td>\n",
       "      <td>-87.622201</td>\n",
       "    </tr>\n",
       "    <tr>\n",
       "      <th>22</th>\n",
       "      <td>41.703578</td>\n",
       "      <td>-87.603898</td>\n",
       "    </tr>\n",
       "    <tr>\n",
       "      <th>23</th>\n",
       "      <td>41.704890</td>\n",
       "      <td>-87.622270</td>\n",
       "    </tr>\n",
       "    <tr>\n",
       "      <th>24</th>\n",
       "      <td>41.706820</td>\n",
       "      <td>-87.616195</td>\n",
       "    </tr>\n",
       "    <tr>\n",
       "      <th>25</th>\n",
       "      <td>41.706106</td>\n",
       "      <td>-87.610077</td>\n",
       "    </tr>\n",
       "    <tr>\n",
       "      <th>26</th>\n",
       "      <td>41.699822</td>\n",
       "      <td>-87.627361</td>\n",
       "    </tr>\n",
       "    <tr>\n",
       "      <th>27</th>\n",
       "      <td>41.707456</td>\n",
       "      <td>-87.605637</td>\n",
       "    </tr>\n",
       "    <tr>\n",
       "      <th>28</th>\n",
       "      <td>41.701140</td>\n",
       "      <td>-87.622162</td>\n",
       "    </tr>\n",
       "    <tr>\n",
       "      <th>29</th>\n",
       "      <td>41.707397</td>\n",
       "      <td>-87.608451</td>\n",
       "    </tr>\n",
       "    <tr>\n",
       "      <th>30</th>\n",
       "      <td>41.700686</td>\n",
       "      <td>-87.631336</td>\n",
       "    </tr>\n",
       "    <tr>\n",
       "      <th>31</th>\n",
       "      <td>41.704467</td>\n",
       "      <td>-87.618715</td>\n",
       "    </tr>\n",
       "    <tr>\n",
       "      <th>32</th>\n",
       "      <td>41.704120</td>\n",
       "      <td>-87.618558</td>\n",
       "    </tr>\n",
       "    <tr>\n",
       "      <th>33</th>\n",
       "      <td>41.703447</td>\n",
       "      <td>-87.629131</td>\n",
       "    </tr>\n",
       "    <tr>\n",
       "      <th>34</th>\n",
       "      <td>41.706951</td>\n",
       "      <td>-87.603999</td>\n",
       "    </tr>\n",
       "    <tr>\n",
       "      <th>35</th>\n",
       "      <td>41.700679</td>\n",
       "      <td>-87.622148</td>\n",
       "    </tr>\n",
       "    <tr>\n",
       "      <th>36</th>\n",
       "      <td>41.705302</td>\n",
       "      <td>-87.626441</td>\n",
       "    </tr>\n",
       "    <tr>\n",
       "      <th>37</th>\n",
       "      <td>41.706875</td>\n",
       "      <td>-87.628266</td>\n",
       "    </tr>\n",
       "    <tr>\n",
       "      <th>38</th>\n",
       "      <td>41.704358</td>\n",
       "      <td>-87.629124</td>\n",
       "    </tr>\n",
       "    <tr>\n",
       "      <th>39</th>\n",
       "      <td>41.704891</td>\n",
       "      <td>-87.628214</td>\n",
       "    </tr>\n",
       "    <tr>\n",
       "      <th>40</th>\n",
       "      <td>41.707112</td>\n",
       "      <td>-87.627556</td>\n",
       "    </tr>\n",
       "    <tr>\n",
       "      <th>41</th>\n",
       "      <td>41.707388</td>\n",
       "      <td>-87.603177</td>\n",
       "    </tr>\n",
       "    <tr>\n",
       "      <th>42</th>\n",
       "      <td>41.701407</td>\n",
       "      <td>-87.628128</td>\n",
       "    </tr>\n",
       "    <tr>\n",
       "      <th>43</th>\n",
       "      <td>41.701620</td>\n",
       "      <td>-87.629634</td>\n",
       "    </tr>\n",
       "    <tr>\n",
       "      <th>44</th>\n",
       "      <td>41.703230</td>\n",
       "      <td>-87.628174</td>\n",
       "    </tr>\n",
       "    <tr>\n",
       "      <th>45</th>\n",
       "      <td>41.707456</td>\n",
       "      <td>-87.605637</td>\n",
       "    </tr>\n",
       "    <tr>\n",
       "      <th>46</th>\n",
       "      <td>41.702992</td>\n",
       "      <td>-87.626975</td>\n",
       "    </tr>\n",
       "    <tr>\n",
       "      <th>47</th>\n",
       "      <td>41.706875</td>\n",
       "      <td>-87.628266</td>\n",
       "    </tr>\n",
       "    <tr>\n",
       "      <th>48</th>\n",
       "      <td>41.707519</td>\n",
       "      <td>-87.601839</td>\n",
       "    </tr>\n",
       "    <tr>\n",
       "      <th>49</th>\n",
       "      <td>41.702921</td>\n",
       "      <td>-87.623402</td>\n",
       "    </tr>\n",
       "  </tbody>\n",
       "</table>\n",
       "</div>"
      ],
      "text/plain": [
       "     latitude  longitude\n",
       "0   41.704335 -87.631084\n",
       "1   41.705373 -87.621441\n",
       "2   41.705607 -87.605860\n",
       "3   41.704641 -87.609313\n",
       "4   41.706319 -87.619618\n",
       "5   41.700882 -87.617250\n",
       "6   41.705962 -87.623485\n",
       "7   41.707157 -87.620074\n",
       "8   41.703569 -87.613815\n",
       "9   41.706987 -87.628590\n",
       "10  41.702998 -87.623404\n",
       "11  41.706875 -87.628266\n",
       "12  41.707068 -87.631146\n",
       "13  41.704444 -87.607188\n",
       "14  41.699822 -87.627394\n",
       "15  41.707182 -87.607523\n",
       "16  41.706560 -87.632466\n",
       "17  41.700703 -87.618461\n",
       "18  41.707519 -87.601839\n",
       "19  41.707127 -87.626428\n",
       "20  41.699772 -87.631683\n",
       "21  41.702507 -87.622201\n",
       "22  41.703578 -87.603898\n",
       "23  41.704890 -87.622270\n",
       "24  41.706820 -87.616195\n",
       "25  41.706106 -87.610077\n",
       "26  41.699822 -87.627361\n",
       "27  41.707456 -87.605637\n",
       "28  41.701140 -87.622162\n",
       "29  41.707397 -87.608451\n",
       "30  41.700686 -87.631336\n",
       "31  41.704467 -87.618715\n",
       "32  41.704120 -87.618558\n",
       "33  41.703447 -87.629131\n",
       "34  41.706951 -87.603999\n",
       "35  41.700679 -87.622148\n",
       "36  41.705302 -87.626441\n",
       "37  41.706875 -87.628266\n",
       "38  41.704358 -87.629124\n",
       "39  41.704891 -87.628214\n",
       "40  41.707112 -87.627556\n",
       "41  41.707388 -87.603177\n",
       "42  41.701407 -87.628128\n",
       "43  41.701620 -87.629634\n",
       "44  41.703230 -87.628174\n",
       "45  41.707456 -87.605637\n",
       "46  41.702992 -87.626975\n",
       "47  41.706875 -87.628266\n",
       "48  41.707519 -87.601839\n",
       "49  41.702921 -87.623402"
      ]
     },
     "execution_count": 12,
     "metadata": {},
     "output_type": "execute_result"
    }
   ],
   "source": [
    "# Scratch space for your code\n",
    "client.list_rows(table, selected_fields=table.schema[-3:-1], max_results=50).to_dataframe()"
   ]
  },
  {
   "cell_type": "markdown",
   "id": "e2554e99",
   "metadata": {
    "papermill": {
     "duration": 0.00526,
     "end_time": "2023-10-18T14:35:30.687496",
     "exception": false,
     "start_time": "2023-10-18T14:35:30.682236",
     "status": "completed"
    },
    "tags": []
   },
   "source": [
    "# Keep going\n",
    "\n",
    "You've looked at the schema, but you haven't yet done anything exciting with the data itself. Things get more interesting when you get to the data, so keep going to **[write your first SQL query](https://www.kaggle.com/dansbecker/select-from-where).**"
   ]
  },
  {
   "cell_type": "markdown",
   "id": "fd514737",
   "metadata": {
    "papermill": {
     "duration": 0.00525,
     "end_time": "2023-10-18T14:35:30.698043",
     "exception": false,
     "start_time": "2023-10-18T14:35:30.692793",
     "status": "completed"
    },
    "tags": []
   },
   "source": [
    "---\n",
    "\n",
    "\n",
    "\n",
    "\n",
    "*Have questions or comments? Visit the [course discussion forum](https://www.kaggle.com/learn/intro-to-sql/discussion) to chat with other learners.*"
   ]
  }
 ],
 "metadata": {
  "kernelspec": {
   "display_name": "Python 3",
   "language": "python",
   "name": "python3"
  },
  "language_info": {
   "codemirror_mode": {
    "name": "ipython",
    "version": 3
   },
   "file_extension": ".py",
   "mimetype": "text/x-python",
   "name": "python",
   "nbconvert_exporter": "python",
   "pygments_lexer": "ipython3",
   "version": "3.10.12"
  },
  "papermill": {
   "default_parameters": {},
   "duration": 10.600771,
   "end_time": "2023-10-18T14:35:31.424082",
   "environment_variables": {},
   "exception": null,
   "input_path": "__notebook__.ipynb",
   "output_path": "__notebook__.ipynb",
   "parameters": {},
   "start_time": "2023-10-18T14:35:20.823311",
   "version": "2.4.0"
  }
 },
 "nbformat": 4,
 "nbformat_minor": 5
}
