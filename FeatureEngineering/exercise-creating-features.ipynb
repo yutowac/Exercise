{
 "cells": [
  {
   "cell_type": "markdown",
   "id": "c395c1b2",
   "metadata": {
    "papermill": {
     "duration": 0.006101,
     "end_time": "2024-04-02T12:15:49.324266",
     "exception": false,
     "start_time": "2024-04-02T12:15:49.318165",
     "status": "completed"
    },
    "tags": []
   },
   "source": [
    "**This notebook is an exercise in the [Feature Engineering](https://www.kaggle.com/learn/feature-engineering) course.  You can reference the tutorial at [this link](https://www.kaggle.com/ryanholbrook/creating-features).**\n",
    "\n",
    "---\n"
   ]
  },
  {
   "cell_type": "markdown",
   "id": "3ec7673e",
   "metadata": {
    "papermill": {
     "duration": 0.005439,
     "end_time": "2024-04-02T12:15:49.335763",
     "exception": false,
     "start_time": "2024-04-02T12:15:49.330324",
     "status": "completed"
    },
    "tags": []
   },
   "source": [
    "# Introduction #\n",
    "\n",
    "In this exercise you'll start developing the features you identified in Exercise 2 as having the most potential. As you work through this exercise, you might take a moment to look at the data documentation again and consider whether the features we're creating make sense from a real-world perspective, and whether there are any useful combinations that stand out to you.\n",
    "\n",
    "Run this cell to set everything up!"
   ]
  },
  {
   "cell_type": "code",
   "execution_count": 1,
   "id": "e018fd70",
   "metadata": {
    "execution": {
     "iopub.execute_input": "2024-04-02T12:15:49.349916Z",
     "iopub.status.busy": "2024-04-02T12:15:49.348808Z",
     "iopub.status.idle": "2024-04-02T12:15:52.078573Z",
     "shell.execute_reply": "2024-04-02T12:15:52.077508Z"
    },
    "papermill": {
     "duration": 2.739404,
     "end_time": "2024-04-02T12:15:52.080938",
     "exception": false,
     "start_time": "2024-04-02T12:15:49.341534",
     "status": "completed"
    },
    "tags": []
   },
   "outputs": [],
   "source": [
    "# Setup feedback system\n",
    "from learntools.core import binder\n",
    "binder.bind(globals())\n",
    "from learntools.feature_engineering_new.ex3 import *\n",
    "\n",
    "import numpy as np\n",
    "import pandas as pd\n",
    "from sklearn.model_selection import cross_val_score\n",
    "from xgboost import XGBRegressor\n",
    "\n",
    "\n",
    "def score_dataset(X, y, model=XGBRegressor()):\n",
    "    # Label encoding for categoricals\n",
    "    for colname in X.select_dtypes([\"category\", \"object\"]):\n",
    "        X[colname], _ = X[colname].factorize()\n",
    "    # Metric for Housing competition is RMSLE (Root Mean Squared Log Error)\n",
    "    score = cross_val_score(\n",
    "        model, X, y, cv=5, scoring=\"neg_mean_squared_log_error\",\n",
    "    )\n",
    "    score = -1 * score.mean()\n",
    "    score = np.sqrt(score)\n",
    "    return score\n",
    "\n",
    "\n",
    "# Prepare data\n",
    "df = pd.read_csv(\"../input/fe-course-data/ames.csv\")\n",
    "X = df.copy()\n",
    "y = X.pop(\"SalePrice\")"
   ]
  },
  {
   "cell_type": "markdown",
   "id": "872b8aee",
   "metadata": {
    "papermill": {
     "duration": 0.005393,
     "end_time": "2024-04-02T12:15:52.092036",
     "exception": false,
     "start_time": "2024-04-02T12:15:52.086643",
     "status": "completed"
    },
    "tags": []
   },
   "source": [
    "-------------------------------------------------------------------------------\n",
    "\n",
    "Let's start with a few mathematical combinations. We'll focus on features describing areas -- having the same units (square-feet) makes it easy to combine them in sensible ways. Since we're using XGBoost (a tree-based model), we'll focus on ratios and sums.\n",
    "\n",
    "# 1) Create Mathematical Transforms\n",
    "\n",
    "Create the following features:\n",
    "\n",
    "- `LivLotRatio`: the ratio of `GrLivArea` to `LotArea`\n",
    "- `Spaciousness`: the sum of `FirstFlrSF` and `SecondFlrSF` divided by `TotRmsAbvGrd`\n",
    "- `TotalOutsideSF`: the sum of `WoodDeckSF`, `OpenPorchSF`, `EnclosedPorch`, `Threeseasonporch`, and `ScreenPorch`"
   ]
  },
  {
   "cell_type": "code",
   "execution_count": 2,
   "id": "951d91c5",
   "metadata": {
    "execution": {
     "iopub.execute_input": "2024-04-02T12:15:52.105431Z",
     "iopub.status.busy": "2024-04-02T12:15:52.104726Z",
     "iopub.status.idle": "2024-04-02T12:15:52.128082Z",
     "shell.execute_reply": "2024-04-02T12:15:52.126325Z"
    },
    "lines_to_next_cell": 0,
    "papermill": {
     "duration": 0.033468,
     "end_time": "2024-04-02T12:15:52.131122",
     "exception": false,
     "start_time": "2024-04-02T12:15:52.097654",
     "status": "completed"
    },
    "tags": []
   },
   "outputs": [
    {
     "data": {
      "application/javascript": [
       "parent.postMessage({\"jupyterEvent\": \"custom.exercise_interaction\", \"data\": {\"outcomeType\": 1, \"valueTowardsCompletion\": 0.2, \"interactionType\": 1, \"questionType\": 2, \"questionId\": \"1_Q1\", \"learnToolsVersion\": \"0.3.4\", \"failureMessage\": \"\", \"exceptionClass\": \"\", \"trace\": \"\"}}, \"*\")"
      ],
      "text/plain": [
       "<IPython.core.display.Javascript object>"
      ]
     },
     "metadata": {},
     "output_type": "display_data"
    },
    {
     "data": {
      "text/markdown": [
       "<span style=\"color:#33cc33\">Correct</span>"
      ],
      "text/plain": [
       "Correct"
      ]
     },
     "metadata": {},
     "output_type": "display_data"
    }
   ],
   "source": [
    "# YOUR CODE HERE\n",
    "X_1 = pd.DataFrame()  # dataframe to hold new features\n",
    "\n",
    "X_1[\"LivLotRatio\"] = df['GrLivArea'] / df['LotArea']\n",
    "X_1[\"Spaciousness\"] = (df['FirstFlrSF'] + df['SecondFlrSF']) / df['TotRmsAbvGrd']\n",
    "X_1[\"TotalOutsideSF\"] = df['WoodDeckSF'] + df['OpenPorchSF'] + df['EnclosedPorch'] + df['Threeseasonporch'] + df['ScreenPorch']\n",
    "\n",
    "\n",
    "# Check your answer\n",
    "q_1.check()"
   ]
  },
  {
   "cell_type": "code",
   "execution_count": 3,
   "id": "51a0e5c2",
   "metadata": {
    "execution": {
     "iopub.execute_input": "2024-04-02T12:15:52.145328Z",
     "iopub.status.busy": "2024-04-02T12:15:52.144756Z",
     "iopub.status.idle": "2024-04-02T12:15:52.148779Z",
     "shell.execute_reply": "2024-04-02T12:15:52.147691Z"
    },
    "lines_to_next_cell": 0,
    "papermill": {
     "duration": 0.013686,
     "end_time": "2024-04-02T12:15:52.151041",
     "exception": false,
     "start_time": "2024-04-02T12:15:52.137355",
     "status": "completed"
    },
    "tags": []
   },
   "outputs": [],
   "source": [
    "# Lines below will give you a hint or solution code\n",
    "#q_1.hint()\n",
    "#q_1.solution()"
   ]
  },
  {
   "cell_type": "markdown",
   "id": "43619816",
   "metadata": {
    "papermill": {
     "duration": 0.005812,
     "end_time": "2024-04-02T12:15:52.162776",
     "exception": false,
     "start_time": "2024-04-02T12:15:52.156964",
     "status": "completed"
    },
    "tags": []
   },
   "source": [
    "-------------------------------------------------------------------------------\n",
    "\n",
    "If you've discovered an interaction effect between a numeric feature and a categorical feature, you might want to model it explicitly using a one-hot encoding, like so:\n",
    "\n",
    "```\n",
    "# One-hot encode Categorical feature, adding a column prefix \"Cat\"\n",
    "X_new = pd.get_dummies(df.Categorical, prefix=\"Cat\")\n",
    "\n",
    "# Multiply row-by-row\n",
    "X_new = X_new.mul(df.Continuous, axis=0)\n",
    "\n",
    "# Join the new features to the feature set\n",
    "X = X.join(X_new)\n",
    "```\n",
    "\n",
    "# 2) Interaction with a Categorical\n",
    "\n",
    "We discovered an interaction between `BldgType` and `GrLivArea` in Exercise 2. Now create their interaction features."
   ]
  },
  {
   "cell_type": "code",
   "execution_count": 4,
   "id": "87f0f09f",
   "metadata": {
    "execution": {
     "iopub.execute_input": "2024-04-02T12:15:52.176138Z",
     "iopub.status.busy": "2024-04-02T12:15:52.175751Z",
     "iopub.status.idle": "2024-04-02T12:15:52.194143Z",
     "shell.execute_reply": "2024-04-02T12:15:52.193103Z"
    },
    "lines_to_next_cell": 0,
    "papermill": {
     "duration": 0.027786,
     "end_time": "2024-04-02T12:15:52.196392",
     "exception": false,
     "start_time": "2024-04-02T12:15:52.168606",
     "status": "completed"
    },
    "tags": []
   },
   "outputs": [
    {
     "data": {
      "application/javascript": [
       "parent.postMessage({\"jupyterEvent\": \"custom.exercise_interaction\", \"data\": {\"outcomeType\": 1, \"valueTowardsCompletion\": 0.2, \"interactionType\": 1, \"questionType\": 2, \"questionId\": \"2_Q2\", \"learnToolsVersion\": \"0.3.4\", \"failureMessage\": \"\", \"exceptionClass\": \"\", \"trace\": \"\"}}, \"*\")"
      ],
      "text/plain": [
       "<IPython.core.display.Javascript object>"
      ]
     },
     "metadata": {},
     "output_type": "display_data"
    },
    {
     "data": {
      "text/markdown": [
       "<span style=\"color:#33cc33\">Correct</span>"
      ],
      "text/plain": [
       "Correct"
      ]
     },
     "metadata": {},
     "output_type": "display_data"
    }
   ],
   "source": [
    "# YOUR CODE HERE\n",
    "# One-hot encode BldgType. Use `prefix=\"Bldg\"` in `get_dummies`\n",
    "X_2 = pd.get_dummies(df['BldgType'], prefix=\"Bldg\")\n",
    "# Multiply\n",
    "X_2 = X_2.mul(df['GrLivArea'], axis=0)\n",
    "\n",
    "\n",
    "# Check your answer\n",
    "q_2.check()"
   ]
  },
  {
   "cell_type": "code",
   "execution_count": 5,
   "id": "12eaa112",
   "metadata": {
    "execution": {
     "iopub.execute_input": "2024-04-02T12:15:52.210530Z",
     "iopub.status.busy": "2024-04-02T12:15:52.210105Z",
     "iopub.status.idle": "2024-04-02T12:15:52.214688Z",
     "shell.execute_reply": "2024-04-02T12:15:52.213576Z"
    },
    "lines_to_next_cell": 0,
    "papermill": {
     "duration": 0.014198,
     "end_time": "2024-04-02T12:15:52.216913",
     "exception": false,
     "start_time": "2024-04-02T12:15:52.202715",
     "status": "completed"
    },
    "tags": []
   },
   "outputs": [],
   "source": [
    "# Lines below will give you a hint or solution code\n",
    "#q_2.hint()\n",
    "#q_2.solution()"
   ]
  },
  {
   "cell_type": "markdown",
   "id": "dd961011",
   "metadata": {
    "lines_to_next_cell": 0,
    "papermill": {
     "duration": 0.00611,
     "end_time": "2024-04-02T12:15:52.229261",
     "exception": false,
     "start_time": "2024-04-02T12:15:52.223151",
     "status": "completed"
    },
    "tags": []
   },
   "source": [
    "# 3) Count Feature\n",
    "\n",
    "Let's try creating a feature that describes how many kinds of outdoor areas a dwelling has. Create a feature `PorchTypes` that counts how many of the following are greater than 0.0:\n",
    "\n",
    "```\n",
    "WoodDeckSF\n",
    "OpenPorchSF\n",
    "EnclosedPorch\n",
    "Threeseasonporch\n",
    "ScreenPorch\n",
    "```"
   ]
  },
  {
   "cell_type": "code",
   "execution_count": 6,
   "id": "04b4a1fd",
   "metadata": {
    "execution": {
     "iopub.execute_input": "2024-04-02T12:15:52.243061Z",
     "iopub.status.busy": "2024-04-02T12:15:52.242663Z",
     "iopub.status.idle": "2024-04-02T12:15:52.260232Z",
     "shell.execute_reply": "2024-04-02T12:15:52.259336Z"
    },
    "lines_to_next_cell": 0,
    "papermill": {
     "duration": 0.026707,
     "end_time": "2024-04-02T12:15:52.262171",
     "exception": false,
     "start_time": "2024-04-02T12:15:52.235464",
     "status": "completed"
    },
    "tags": []
   },
   "outputs": [
    {
     "data": {
      "application/javascript": [
       "parent.postMessage({\"jupyterEvent\": \"custom.exercise_interaction\", \"data\": {\"outcomeType\": 1, \"valueTowardsCompletion\": 0.2, \"interactionType\": 1, \"questionType\": 2, \"questionId\": \"3_Q3\", \"learnToolsVersion\": \"0.3.4\", \"failureMessage\": \"\", \"exceptionClass\": \"\", \"trace\": \"\"}}, \"*\")"
      ],
      "text/plain": [
       "<IPython.core.display.Javascript object>"
      ]
     },
     "metadata": {},
     "output_type": "display_data"
    },
    {
     "data": {
      "text/markdown": [
       "<span style=\"color:#33cc33\">Correct</span>"
      ],
      "text/plain": [
       "Correct"
      ]
     },
     "metadata": {},
     "output_type": "display_data"
    }
   ],
   "source": [
    "X_3 = pd.DataFrame()\n",
    "\n",
    "# YOUR CODE HERE\n",
    "X_3[\"PorchTypes\"] = df[\n",
    "    [\n",
    "        'WoodDeckSF',\n",
    "        'OpenPorchSF',\n",
    "        'EnclosedPorch',\n",
    "        'Threeseasonporch',\n",
    "        'ScreenPorch'\n",
    "    ]\n",
    "].gt(0.0).sum(axis=1)\n",
    "\n",
    "\n",
    "# Check your answer\n",
    "q_3.check()"
   ]
  },
  {
   "cell_type": "code",
   "execution_count": 7,
   "id": "7a5d6a2a",
   "metadata": {
    "execution": {
     "iopub.execute_input": "2024-04-02T12:15:52.277517Z",
     "iopub.status.busy": "2024-04-02T12:15:52.277100Z",
     "iopub.status.idle": "2024-04-02T12:15:52.281482Z",
     "shell.execute_reply": "2024-04-02T12:15:52.280505Z"
    },
    "lines_to_next_cell": 0,
    "papermill": {
     "duration": 0.014969,
     "end_time": "2024-04-02T12:15:52.283490",
     "exception": false,
     "start_time": "2024-04-02T12:15:52.268521",
     "status": "completed"
    },
    "tags": []
   },
   "outputs": [],
   "source": [
    "# Lines below will give you a hint or solution code\n",
    "#q_3.hint()\n",
    "#q_3.solution()"
   ]
  },
  {
   "cell_type": "markdown",
   "id": "fe461342",
   "metadata": {
    "papermill": {
     "duration": 0.006102,
     "end_time": "2024-04-02T12:15:52.296004",
     "exception": false,
     "start_time": "2024-04-02T12:15:52.289902",
     "status": "completed"
    },
    "tags": []
   },
   "source": [
    "# 4) Break Down a Categorical Feature\n",
    "\n",
    "`MSSubClass` describes the type of a dwelling:"
   ]
  },
  {
   "cell_type": "code",
   "execution_count": 8,
   "id": "8079a0f0",
   "metadata": {
    "execution": {
     "iopub.execute_input": "2024-04-02T12:15:52.310564Z",
     "iopub.status.busy": "2024-04-02T12:15:52.310126Z",
     "iopub.status.idle": "2024-04-02T12:15:52.317814Z",
     "shell.execute_reply": "2024-04-02T12:15:52.316752Z"
    },
    "papermill": {
     "duration": 0.017618,
     "end_time": "2024-04-02T12:15:52.319983",
     "exception": false,
     "start_time": "2024-04-02T12:15:52.302365",
     "status": "completed"
    },
    "tags": []
   },
   "outputs": [
    {
     "data": {
      "text/plain": [
       "array(['One_Story_1946_and_Newer_All_Styles', 'Two_Story_1946_and_Newer',\n",
       "       'One_Story_PUD_1946_and_Newer',\n",
       "       'One_and_Half_Story_Finished_All_Ages', 'Split_Foyer',\n",
       "       'Two_Story_PUD_1946_and_Newer', 'Split_or_Multilevel',\n",
       "       'One_Story_1945_and_Older', 'Duplex_All_Styles_and_Ages',\n",
       "       'Two_Family_conversion_All_Styles_and_Ages',\n",
       "       'One_and_Half_Story_Unfinished_All_Ages',\n",
       "       'Two_Story_1945_and_Older', 'Two_and_Half_Story_All_Ages',\n",
       "       'One_Story_with_Finished_Attic_All_Ages',\n",
       "       'PUD_Multilevel_Split_Level_Foyer',\n",
       "       'One_and_Half_Story_PUD_All_Ages'], dtype=object)"
      ]
     },
     "execution_count": 8,
     "metadata": {},
     "output_type": "execute_result"
    }
   ],
   "source": [
    "df.MSSubClass.unique()"
   ]
  },
  {
   "cell_type": "markdown",
   "id": "ce8d2acf",
   "metadata": {
    "papermill": {
     "duration": 0.006263,
     "end_time": "2024-04-02T12:15:52.332931",
     "exception": false,
     "start_time": "2024-04-02T12:15:52.326668",
     "status": "completed"
    },
    "tags": []
   },
   "source": [
    "You can see that there is a more general categorization described (roughly) by the first word of each category. Create a feature containing only these first words by splitting `MSSubClass` at the first underscore `_`. (Hint: In the `split` method use an argument `n=1`.)"
   ]
  },
  {
   "cell_type": "code",
   "execution_count": 9,
   "id": "983a85f8",
   "metadata": {
    "execution": {
     "iopub.execute_input": "2024-04-02T12:15:52.347883Z",
     "iopub.status.busy": "2024-04-02T12:15:52.347496Z",
     "iopub.status.idle": "2024-04-02T12:15:52.360932Z",
     "shell.execute_reply": "2024-04-02T12:15:52.359883Z"
    },
    "papermill": {
     "duration": 0.023647,
     "end_time": "2024-04-02T12:15:52.363133",
     "exception": false,
     "start_time": "2024-04-02T12:15:52.339486",
     "status": "completed"
    },
    "tags": []
   },
   "outputs": [
    {
     "data": {
      "text/plain": [
       "0         One\n",
       "1         One\n",
       "2         One\n",
       "3         One\n",
       "4         Two\n",
       "        ...  \n",
       "2925    Split\n",
       "2926      One\n",
       "2927    Split\n",
       "2928      One\n",
       "2929      Two\n",
       "Name: 0, Length: 2930, dtype: object"
      ]
     },
     "execution_count": 9,
     "metadata": {},
     "output_type": "execute_result"
    }
   ],
   "source": [
    "df['MSSubClass'].str.split('_',n=1,expand=True)[0]"
   ]
  },
  {
   "cell_type": "code",
   "execution_count": 10,
   "id": "92557c40",
   "metadata": {
    "execution": {
     "iopub.execute_input": "2024-04-02T12:15:52.378656Z",
     "iopub.status.busy": "2024-04-02T12:15:52.378225Z",
     "iopub.status.idle": "2024-04-02T12:15:52.479996Z",
     "shell.execute_reply": "2024-04-02T12:15:52.478838Z"
    },
    "lines_to_next_cell": 0,
    "papermill": {
     "duration": 0.112226,
     "end_time": "2024-04-02T12:15:52.482256",
     "exception": false,
     "start_time": "2024-04-02T12:15:52.370030",
     "status": "completed"
    },
    "tags": []
   },
   "outputs": [
    {
     "data": {
      "application/javascript": [
       "parent.postMessage({\"jupyterEvent\": \"custom.exercise_interaction\", \"data\": {\"outcomeType\": 1, \"valueTowardsCompletion\": 0.2, \"interactionType\": 1, \"questionType\": 2, \"questionId\": \"4_Q4\", \"learnToolsVersion\": \"0.3.4\", \"failureMessage\": \"\", \"exceptionClass\": \"\", \"trace\": \"\"}}, \"*\")"
      ],
      "text/plain": [
       "<IPython.core.display.Javascript object>"
      ]
     },
     "metadata": {},
     "output_type": "display_data"
    },
    {
     "data": {
      "text/markdown": [
       "<span style=\"color:#33cc33\">Correct</span>"
      ],
      "text/plain": [
       "Correct"
      ]
     },
     "metadata": {},
     "output_type": "display_data"
    }
   ],
   "source": [
    "X_4 = pd.DataFrame()\n",
    "\n",
    "# YOUR CODE HERE\n",
    "X_4['MSClass'] = df['MSSubClass'].str.split('_',n=1,expand=True)[0]\n",
    "\n",
    "# Check your answer\n",
    "q_4.check()"
   ]
  },
  {
   "cell_type": "code",
   "execution_count": 11,
   "id": "8c2aa4de",
   "metadata": {
    "execution": {
     "iopub.execute_input": "2024-04-02T12:15:52.497870Z",
     "iopub.status.busy": "2024-04-02T12:15:52.497481Z",
     "iopub.status.idle": "2024-04-02T12:15:52.501580Z",
     "shell.execute_reply": "2024-04-02T12:15:52.500529Z"
    },
    "lines_to_next_cell": 0,
    "papermill": {
     "duration": 0.014611,
     "end_time": "2024-04-02T12:15:52.503794",
     "exception": false,
     "start_time": "2024-04-02T12:15:52.489183",
     "status": "completed"
    },
    "tags": []
   },
   "outputs": [],
   "source": [
    "# Lines below will give you a hint or solution code\n",
    "#q_4.hint()\n",
    "#q_4.solution()"
   ]
  },
  {
   "cell_type": "markdown",
   "id": "19cf890f",
   "metadata": {
    "papermill": {
     "duration": 0.006432,
     "end_time": "2024-04-02T12:15:52.517057",
     "exception": false,
     "start_time": "2024-04-02T12:15:52.510625",
     "status": "completed"
    },
    "tags": []
   },
   "source": [
    "# 5) Use a Grouped Transform\n",
    "\n",
    "The value of a home often depends on how it compares to typical homes in its neighborhood. Create a feature `MedNhbdArea` that describes the *median* of `GrLivArea` grouped on `Neighborhood`."
   ]
  },
  {
   "cell_type": "code",
   "execution_count": 12,
   "id": "6cfc4ffb",
   "metadata": {
    "execution": {
     "iopub.execute_input": "2024-04-02T12:15:52.532900Z",
     "iopub.status.busy": "2024-04-02T12:15:52.532478Z",
     "iopub.status.idle": "2024-04-02T12:15:52.552093Z",
     "shell.execute_reply": "2024-04-02T12:15:52.550929Z"
    },
    "lines_to_next_cell": 0,
    "papermill": {
     "duration": 0.030214,
     "end_time": "2024-04-02T12:15:52.554330",
     "exception": false,
     "start_time": "2024-04-02T12:15:52.524116",
     "status": "completed"
    },
    "tags": []
   },
   "outputs": [
    {
     "data": {
      "application/javascript": [
       "parent.postMessage({\"jupyterEvent\": \"custom.exercise_interaction\", \"data\": {\"outcomeType\": 1, \"valueTowardsCompletion\": 0.2, \"interactionType\": 1, \"questionType\": 2, \"questionId\": \"5_Q5\", \"learnToolsVersion\": \"0.3.4\", \"failureMessage\": \"\", \"exceptionClass\": \"\", \"trace\": \"\"}}, \"*\")"
      ],
      "text/plain": [
       "<IPython.core.display.Javascript object>"
      ]
     },
     "metadata": {},
     "output_type": "display_data"
    },
    {
     "data": {
      "text/markdown": [
       "<span style=\"color:#33cc33\">Correct</span>"
      ],
      "text/plain": [
       "Correct"
      ]
     },
     "metadata": {},
     "output_type": "display_data"
    }
   ],
   "source": [
    "X_5 = pd.DataFrame()\n",
    "\n",
    "# YOUR CODE HERE\n",
    "X_5[\"MedNhbdArea\"] = df.groupby('Neighborhood')['GrLivArea'].transform('median')\n",
    "\n",
    "# Check your answer\n",
    "q_5.check()"
   ]
  },
  {
   "cell_type": "code",
   "execution_count": 13,
   "id": "a7e899d3",
   "metadata": {
    "execution": {
     "iopub.execute_input": "2024-04-02T12:15:52.570677Z",
     "iopub.status.busy": "2024-04-02T12:15:52.570265Z",
     "iopub.status.idle": "2024-04-02T12:15:52.574672Z",
     "shell.execute_reply": "2024-04-02T12:15:52.573529Z"
    },
    "lines_to_next_cell": 0,
    "papermill": {
     "duration": 0.01534,
     "end_time": "2024-04-02T12:15:52.576734",
     "exception": false,
     "start_time": "2024-04-02T12:15:52.561394",
     "status": "completed"
    },
    "tags": []
   },
   "outputs": [],
   "source": [
    "# Lines below will give you a hint or solution code\n",
    "#q_5.hint()\n",
    "#q_5.solution()"
   ]
  },
  {
   "cell_type": "markdown",
   "id": "3a9fd8f4",
   "metadata": {
    "papermill": {
     "duration": 0.007054,
     "end_time": "2024-04-02T12:15:52.591259",
     "exception": false,
     "start_time": "2024-04-02T12:15:52.584205",
     "status": "completed"
    },
    "tags": []
   },
   "source": [
    "Now you've made your first new feature set! If you like, you can run the cell below to score the model with all of your new features added:"
   ]
  },
  {
   "cell_type": "code",
   "execution_count": 14,
   "id": "d8ef2507",
   "metadata": {
    "execution": {
     "iopub.execute_input": "2024-04-02T12:15:52.609215Z",
     "iopub.status.busy": "2024-04-02T12:15:52.608848Z",
     "iopub.status.idle": "2024-04-02T12:15:55.201439Z",
     "shell.execute_reply": "2024-04-02T12:15:55.200594Z"
    },
    "papermill": {
     "duration": 2.605101,
     "end_time": "2024-04-02T12:15:55.203736",
     "exception": false,
     "start_time": "2024-04-02T12:15:52.598635",
     "status": "completed"
    },
    "tags": []
   },
   "outputs": [
    {
     "data": {
      "text/plain": [
       "0.13954039591355258"
      ]
     },
     "execution_count": 14,
     "metadata": {},
     "output_type": "execute_result"
    }
   ],
   "source": [
    "X_new = X.join([X_1, X_2, X_3, X_4, X_5])\n",
    "score_dataset(X_new, y)"
   ]
  },
  {
   "cell_type": "markdown",
   "id": "da6ddb7a",
   "metadata": {
    "papermill": {
     "duration": 0.007696,
     "end_time": "2024-04-02T12:15:55.219350",
     "exception": false,
     "start_time": "2024-04-02T12:15:55.211654",
     "status": "completed"
    },
    "tags": []
   },
   "source": [
    "# Keep Going #\n",
    "\n",
    "[**Untangle spatial relationships**](https://www.kaggle.com/ryanholbrook/clustering-with-k-means) by adding cluster labels to your dataset."
   ]
  },
  {
   "cell_type": "markdown",
   "id": "2f4a5c17",
   "metadata": {
    "papermill": {
     "duration": 0.007318,
     "end_time": "2024-04-02T12:15:55.234911",
     "exception": false,
     "start_time": "2024-04-02T12:15:55.227593",
     "status": "completed"
    },
    "tags": []
   },
   "source": [
    "---\n",
    "\n",
    "\n",
    "\n",
    "\n",
    "*Have questions or comments? Visit the [course discussion forum](https://www.kaggle.com/learn/feature-engineering/discussion) to chat with other learners.*"
   ]
  }
 ],
 "metadata": {
  "jupytext": {
   "cell_metadata_filter": "-all",
   "formats": "ipynb"
  },
  "kaggle": {
   "accelerator": "none",
   "dataSources": [
    {
     "datasetId": 933090,
     "sourceId": 1828856,
     "sourceType": "datasetVersion"
    }
   ],
   "isGpuEnabled": false,
   "isInternetEnabled": false,
   "language": "python",
   "sourceType": "notebook"
  },
  "kernelspec": {
   "display_name": "Python 3",
   "language": "python",
   "name": "python3"
  },
  "language_info": {
   "codemirror_mode": {
    "name": "ipython",
    "version": 3
   },
   "file_extension": ".py",
   "mimetype": "text/x-python",
   "name": "python",
   "nbconvert_exporter": "python",
   "pygments_lexer": "ipython3",
   "version": "3.10.13"
  },
  "papermill": {
   "default_parameters": {},
   "duration": 9.317384,
   "end_time": "2024-04-02T12:15:55.863767",
   "environment_variables": {},
   "exception": null,
   "input_path": "__notebook__.ipynb",
   "output_path": "__notebook__.ipynb",
   "parameters": {},
   "start_time": "2024-04-02T12:15:46.546383",
   "version": "2.5.0"
  }
 },
 "nbformat": 4,
 "nbformat_minor": 5
}
