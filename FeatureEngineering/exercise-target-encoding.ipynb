{
 "cells": [
  {
   "cell_type": "markdown",
   "id": "fcbd1c91",
   "metadata": {
    "papermill": {
     "duration": 0.008871,
     "end_time": "2024-04-06T13:16:23.758316",
     "exception": false,
     "start_time": "2024-04-06T13:16:23.749445",
     "status": "completed"
    },
    "tags": []
   },
   "source": [
    "**This notebook is an exercise in the [Feature Engineering](https://www.kaggle.com/learn/feature-engineering) course.  You can reference the tutorial at [this link](https://www.kaggle.com/ryanholbrook/target-encoding).**\n",
    "\n",
    "---\n"
   ]
  },
  {
   "cell_type": "markdown",
   "id": "230d2de6",
   "metadata": {
    "papermill": {
     "duration": 0.007809,
     "end_time": "2024-04-06T13:16:23.774346",
     "exception": false,
     "start_time": "2024-04-06T13:16:23.766537",
     "status": "completed"
    },
    "tags": []
   },
   "source": [
    "# Introduction #\n",
    "\n",
    "In this exercise, you'll apply target encoding to features in the [*Ames*](https://www.kaggle.com/c/house-prices-advanced-regression-techniques/data) dataset.\n",
    "\n",
    "Run this cell to set everything up!"
   ]
  },
  {
   "cell_type": "code",
   "execution_count": 1,
   "id": "f10caf81",
   "metadata": {
    "execution": {
     "iopub.execute_input": "2024-04-06T13:16:23.795635Z",
     "iopub.status.busy": "2024-04-06T13:16:23.795282Z",
     "iopub.status.idle": "2024-04-06T13:16:27.273869Z",
     "shell.execute_reply": "2024-04-06T13:16:27.272461Z"
    },
    "papermill": {
     "duration": 3.495087,
     "end_time": "2024-04-06T13:16:27.277450",
     "exception": false,
     "start_time": "2024-04-06T13:16:23.782363",
     "status": "completed"
    },
    "tags": []
   },
   "outputs": [
    {
     "name": "stderr",
     "output_type": "stream",
     "text": [
      "/tmp/ipykernel_18/3788892820.py:16: MatplotlibDeprecationWarning: The seaborn styles shipped by Matplotlib are deprecated since 3.6, as they no longer correspond to the styles shipped by seaborn. However, they will remain available as 'seaborn-v0_8-<style>'. Alternatively, directly use the seaborn API instead.\n",
      "  plt.style.use(\"seaborn-whitegrid\")\n"
     ]
    }
   ],
   "source": [
    "# Setup feedback system\n",
    "from learntools.core import binder\n",
    "binder.bind(globals())\n",
    "from learntools.feature_engineering_new.ex6 import *\n",
    "\n",
    "import matplotlib.pyplot as plt\n",
    "import numpy as np\n",
    "import pandas as pd\n",
    "import seaborn as sns\n",
    "import warnings\n",
    "from category_encoders import MEstimateEncoder\n",
    "from sklearn.model_selection import cross_val_score\n",
    "from xgboost import XGBRegressor\n",
    "\n",
    "# Set Matplotlib defaults\n",
    "plt.style.use(\"seaborn-whitegrid\")\n",
    "plt.rc(\"figure\", autolayout=True)\n",
    "plt.rc(\n",
    "    \"axes\",\n",
    "    labelweight=\"bold\",\n",
    "    labelsize=\"large\",\n",
    "    titleweight=\"bold\",\n",
    "    titlesize=14,\n",
    "    titlepad=10,\n",
    ")\n",
    "warnings.filterwarnings('ignore')\n",
    "\n",
    "\n",
    "def score_dataset(X, y, model=XGBRegressor()):\n",
    "    # Label encoding for categoricals\n",
    "    for colname in X.select_dtypes([\"category\", \"object\"]):\n",
    "        X[colname], _ = X[colname].factorize()\n",
    "    # Metric for Housing competition is RMSLE (Root Mean Squared Log Error)\n",
    "    score = cross_val_score(\n",
    "        model, X, y, cv=5, scoring=\"neg_mean_squared_log_error\",\n",
    "    )\n",
    "    score = -1 * score.mean()\n",
    "    score = np.sqrt(score)\n",
    "    return score\n",
    "\n",
    "\n",
    "df = pd.read_csv(\"../input/fe-course-data/ames.csv\")"
   ]
  },
  {
   "cell_type": "markdown",
   "id": "c95d9400",
   "metadata": {
    "papermill": {
     "duration": 0.007932,
     "end_time": "2024-04-06T13:16:27.293917",
     "exception": false,
     "start_time": "2024-04-06T13:16:27.285985",
     "status": "completed"
    },
    "tags": []
   },
   "source": [
    "-------------------------------------------------------------------------------\n",
    "\n",
    "First you'll need to choose which features you want to apply a target encoding to. Categorical features with a large number of categories are often good candidates. Run this cell to see how many categories each categorical feature in the *Ames* dataset has."
   ]
  },
  {
   "cell_type": "code",
   "execution_count": 2,
   "id": "90df732c",
   "metadata": {
    "execution": {
     "iopub.execute_input": "2024-04-06T13:16:27.312490Z",
     "iopub.status.busy": "2024-04-06T13:16:27.311457Z",
     "iopub.status.idle": "2024-04-06T13:16:27.340846Z",
     "shell.execute_reply": "2024-04-06T13:16:27.340071Z"
    },
    "papermill": {
     "duration": 0.04075,
     "end_time": "2024-04-06T13:16:27.342947",
     "exception": false,
     "start_time": "2024-04-06T13:16:27.302197",
     "status": "completed"
    },
    "tags": []
   },
   "outputs": [
    {
     "data": {
      "text/plain": [
       "MSSubClass       16\n",
       "MSZoning          7\n",
       "Street            2\n",
       "Alley             3\n",
       "LotShape          4\n",
       "LandContour       4\n",
       "Utilities         3\n",
       "LotConfig         5\n",
       "LandSlope         3\n",
       "Neighborhood     28\n",
       "Condition1        9\n",
       "Condition2        8\n",
       "BldgType          5\n",
       "HouseStyle        8\n",
       "OverallQual      10\n",
       "OverallCond       9\n",
       "RoofStyle         6\n",
       "RoofMatl          8\n",
       "Exterior1st      16\n",
       "Exterior2nd      17\n",
       "MasVnrType        4\n",
       "ExterQual         4\n",
       "ExterCond         5\n",
       "Foundation        6\n",
       "BsmtQual          6\n",
       "BsmtCond          6\n",
       "BsmtExposure      5\n",
       "BsmtFinType1      7\n",
       "BsmtFinType2      7\n",
       "Heating           6\n",
       "HeatingQC         5\n",
       "CentralAir        2\n",
       "Electrical        6\n",
       "KitchenQual       5\n",
       "Functional        8\n",
       "FireplaceQu       6\n",
       "GarageType        7\n",
       "GarageFinish      4\n",
       "GarageQual        6\n",
       "GarageCond        6\n",
       "PavedDrive        3\n",
       "PoolQC            5\n",
       "Fence             5\n",
       "MiscFeature       5\n",
       "SaleType         10\n",
       "SaleCondition     6\n",
       "dtype: int64"
      ]
     },
     "execution_count": 2,
     "metadata": {},
     "output_type": "execute_result"
    }
   ],
   "source": [
    "df.select_dtypes([\"object\"]).nunique()"
   ]
  },
  {
   "cell_type": "markdown",
   "id": "329d8996",
   "metadata": {
    "papermill": {
     "duration": 0.007963,
     "end_time": "2024-04-06T13:16:27.359183",
     "exception": false,
     "start_time": "2024-04-06T13:16:27.351220",
     "status": "completed"
    },
    "tags": []
   },
   "source": [
    "We talked about how the M-estimate encoding uses smoothing to improve estimates for rare categories. To see how many times a category occurs in the dataset, you can use the `value_counts` method. This cell shows the counts for `SaleType`, but you might want to consider others as well."
   ]
  },
  {
   "cell_type": "code",
   "execution_count": 3,
   "id": "1bb9dea8",
   "metadata": {
    "execution": {
     "iopub.execute_input": "2024-04-06T13:16:27.377932Z",
     "iopub.status.busy": "2024-04-06T13:16:27.377504Z",
     "iopub.status.idle": "2024-04-06T13:16:27.388921Z",
     "shell.execute_reply": "2024-04-06T13:16:27.387845Z"
    },
    "papermill": {
     "duration": 0.023792,
     "end_time": "2024-04-06T13:16:27.391359",
     "exception": false,
     "start_time": "2024-04-06T13:16:27.367567",
     "status": "completed"
    },
    "tags": []
   },
   "outputs": [
    {
     "data": {
      "text/plain": [
       "SaleType\n",
       "WD       2536\n",
       "New       239\n",
       "COD        87\n",
       "ConLD      26\n",
       "CWD        12\n",
       "ConLI       9\n",
       "ConLw       8\n",
       "Oth         7\n",
       "Con         5\n",
       "VWD         1\n",
       "Name: count, dtype: int64"
      ]
     },
     "execution_count": 3,
     "metadata": {},
     "output_type": "execute_result"
    }
   ],
   "source": [
    "df[\"SaleType\"].value_counts()"
   ]
  },
  {
   "cell_type": "markdown",
   "id": "7e003531",
   "metadata": {
    "papermill": {
     "duration": 0.009803,
     "end_time": "2024-04-06T13:16:27.409712",
     "exception": false,
     "start_time": "2024-04-06T13:16:27.399909",
     "status": "completed"
    },
    "tags": []
   },
   "source": [
    "# 1) Choose Features for Encoding\n",
    "\n",
    "Which features did you identify for target encoding? After you've thought about your answer, run the next cell for some discussion."
   ]
  },
  {
   "cell_type": "code",
   "execution_count": 4,
   "id": "8b8fc4ce",
   "metadata": {
    "execution": {
     "iopub.execute_input": "2024-04-06T13:16:27.428617Z",
     "iopub.status.busy": "2024-04-06T13:16:27.427856Z",
     "iopub.status.idle": "2024-04-06T13:16:27.436609Z",
     "shell.execute_reply": "2024-04-06T13:16:27.435750Z"
    },
    "papermill": {
     "duration": 0.020591,
     "end_time": "2024-04-06T13:16:27.438683",
     "exception": false,
     "start_time": "2024-04-06T13:16:27.418092",
     "status": "completed"
    },
    "tags": []
   },
   "outputs": [
    {
     "data": {
      "application/javascript": [
       "parent.postMessage({\"jupyterEvent\": \"custom.exercise_interaction\", \"data\": {\"outcomeType\": 1, \"valueTowardsCompletion\": 0.3333333333333333, \"interactionType\": 1, \"questionType\": 4, \"questionId\": \"1_Q1\", \"learnToolsVersion\": \"0.3.4\", \"failureMessage\": \"\", \"exceptionClass\": \"\", \"trace\": \"\"}}, \"*\")"
      ],
      "text/plain": [
       "<IPython.core.display.Javascript object>"
      ]
     },
     "metadata": {},
     "output_type": "display_data"
    },
    {
     "data": {
      "text/markdown": [
       "<span style=\"color:#33cc33\">Correct:</span> \n",
       "\n",
       " The `Neighborhood` feature looks promising. It has the most categories of any feature, and several categories are rare. Others that could be worth considering are `SaleType`, `MSSubClass`, `Exterior1st`, `Exterior2nd`. In fact, almost any of the nominal features would be worth trying because of the prevalence of rare categories."
      ],
      "text/plain": [
       "Correct: \n",
       "\n",
       " The `Neighborhood` feature looks promising. It has the most categories of any feature, and several categories are rare. Others that could be worth considering are `SaleType`, `MSSubClass`, `Exterior1st`, `Exterior2nd`. In fact, almost any of the nominal features would be worth trying because of the prevalence of rare categories."
      ]
     },
     "metadata": {},
     "output_type": "display_data"
    }
   ],
   "source": [
    "# View the solution (Run this cell to receive credit!)\n",
    "q_1.check()"
   ]
  },
  {
   "cell_type": "markdown",
   "id": "d4b0b702",
   "metadata": {
    "papermill": {
     "duration": 0.023393,
     "end_time": "2024-04-06T13:16:27.470778",
     "exception": false,
     "start_time": "2024-04-06T13:16:27.447385",
     "status": "completed"
    },
    "tags": []
   },
   "source": [
    "-------------------------------------------------------------------------------\n",
    "\n",
    "Now you'll apply a target encoding to your choice of feature. As we discussed in the tutorial, to avoid overfitting, we need to fit the encoder on data heldout from the training set. Run this cell to create the encoding and training splits:"
   ]
  },
  {
   "cell_type": "code",
   "execution_count": 5,
   "id": "b5b9e5f8",
   "metadata": {
    "execution": {
     "iopub.execute_input": "2024-04-06T13:16:27.489440Z",
     "iopub.status.busy": "2024-04-06T13:16:27.489062Z",
     "iopub.status.idle": "2024-04-06T13:16:27.505690Z",
     "shell.execute_reply": "2024-04-06T13:16:27.504903Z"
    },
    "lines_to_next_cell": 2,
    "papermill": {
     "duration": 0.028555,
     "end_time": "2024-04-06T13:16:27.507867",
     "exception": false,
     "start_time": "2024-04-06T13:16:27.479312",
     "status": "completed"
    },
    "tags": []
   },
   "outputs": [],
   "source": [
    "# Encoding split\n",
    "X_encode = df.sample(frac=0.20, random_state=0)\n",
    "y_encode = X_encode.pop(\"SalePrice\")\n",
    "\n",
    "# Training split\n",
    "X_pretrain = df.drop(X_encode.index)\n",
    "y_train = X_pretrain.pop(\"SalePrice\")"
   ]
  },
  {
   "cell_type": "markdown",
   "id": "8b37cd40",
   "metadata": {
    "papermill": {
     "duration": 0.008243,
     "end_time": "2024-04-06T13:16:27.525749",
     "exception": false,
     "start_time": "2024-04-06T13:16:27.517506",
     "status": "completed"
    },
    "tags": []
   },
   "source": [
    "# 2) Apply M-Estimate Encoding\n",
    "\n",
    "Apply a target encoding to your choice of categorical features. Also choose a value for the smoothing parameter `m` (any value is okay for a correct answer)."
   ]
  },
  {
   "cell_type": "code",
   "execution_count": 6,
   "id": "545f0881",
   "metadata": {
    "execution": {
     "iopub.execute_input": "2024-04-06T13:16:27.545364Z",
     "iopub.status.busy": "2024-04-06T13:16:27.544620Z",
     "iopub.status.idle": "2024-04-06T13:16:27.621315Z",
     "shell.execute_reply": "2024-04-06T13:16:27.620273Z"
    },
    "lines_to_next_cell": 0,
    "papermill": {
     "duration": 0.089326,
     "end_time": "2024-04-06T13:16:27.623856",
     "exception": false,
     "start_time": "2024-04-06T13:16:27.534530",
     "status": "completed"
    },
    "tags": []
   },
   "outputs": [
    {
     "data": {
      "application/javascript": [
       "parent.postMessage({\"jupyterEvent\": \"custom.exercise_interaction\", \"data\": {\"outcomeType\": 1, \"valueTowardsCompletion\": 0.3333333333333333, \"interactionType\": 1, \"questionType\": 2, \"questionId\": \"2_Q2\", \"learnToolsVersion\": \"0.3.4\", \"failureMessage\": \"\", \"exceptionClass\": \"\", \"trace\": \"\"}}, \"*\")"
      ],
      "text/plain": [
       "<IPython.core.display.Javascript object>"
      ]
     },
     "metadata": {},
     "output_type": "display_data"
    },
    {
     "data": {
      "text/markdown": [
       "<span style=\"color:#33cc33\">Correct</span>"
      ],
      "text/plain": [
       "Correct"
      ]
     },
     "metadata": {},
     "output_type": "display_data"
    }
   ],
   "source": [
    "# YOUR CODE HERE: Create the MEstimateEncoder\n",
    "# Choose a set of features to encode and a value for m\n",
    "encoder = MEstimateEncoder(\n",
    "    cols = ['Neighborhood'],\n",
    "    m = 2.0\n",
    ")\n",
    "\n",
    "\n",
    "# Fit the encoder on the encoding split\n",
    "encoder.fit(X_encode, y_encode)\n",
    "\n",
    "# Encode the training split\n",
    "X_train = encoder.transform(X_pretrain, y_train)\n",
    "\n",
    "\n",
    "# Check your answer\n",
    "q_2.check()"
   ]
  },
  {
   "cell_type": "code",
   "execution_count": 7,
   "id": "94d5f4c1",
   "metadata": {
    "execution": {
     "iopub.execute_input": "2024-04-06T13:16:27.644214Z",
     "iopub.status.busy": "2024-04-06T13:16:27.643650Z",
     "iopub.status.idle": "2024-04-06T13:16:27.648003Z",
     "shell.execute_reply": "2024-04-06T13:16:27.647069Z"
    },
    "lines_to_next_cell": 0,
    "papermill": {
     "duration": 0.016929,
     "end_time": "2024-04-06T13:16:27.650099",
     "exception": false,
     "start_time": "2024-04-06T13:16:27.633170",
     "status": "completed"
    },
    "tags": []
   },
   "outputs": [],
   "source": [
    "# Lines below will give you a hint or solution code\n",
    "# q_2.hint()\n",
    "# q_2.solution()"
   ]
  },
  {
   "cell_type": "markdown",
   "id": "2ba0828c",
   "metadata": {
    "papermill": {
     "duration": 0.008931,
     "end_time": "2024-04-06T13:16:27.668178",
     "exception": false,
     "start_time": "2024-04-06T13:16:27.659247",
     "status": "completed"
    },
    "tags": []
   },
   "source": [
    "If you'd like to see how the encoded feature compares to the target, you can run this cell:"
   ]
  },
  {
   "cell_type": "code",
   "execution_count": 8,
   "id": "b5018899",
   "metadata": {
    "execution": {
     "iopub.execute_input": "2024-04-06T13:16:27.687925Z",
     "iopub.status.busy": "2024-04-06T13:16:27.687457Z",
     "iopub.status.idle": "2024-04-06T13:16:28.226202Z",
     "shell.execute_reply": "2024-04-06T13:16:28.224952Z"
    },
    "papermill": {
     "duration": 0.551536,
     "end_time": "2024-04-06T13:16:28.228878",
     "exception": false,
     "start_time": "2024-04-06T13:16:27.677342",
     "status": "completed"
    },
    "tags": []
   },
   "outputs": [
    {
     "data": {
      "image/png": "[encoded data removed]",
      "text/plain": [
       "<Figure size 576x432 with 1 Axes>"
      ]
     },
     "metadata": {},
     "output_type": "display_data"
    }
   ],
   "source": [
    "feature = encoder.cols\n",
    "\n",
    "plt.figure(dpi=90)\n",
    "ax = sns.distplot(y_train, kde=True, hist=False)\n",
    "ax = sns.distplot(X_train[feature], color='r', ax=ax, hist=True, kde=False, norm_hist=True)\n",
    "ax.set_xlabel(\"SalePrice\");"
   ]
  },
  {
   "cell_type": "markdown",
   "id": "25e9044d",
   "metadata": {
    "papermill": {
     "duration": 0.009286,
     "end_time": "2024-04-06T13:16:28.247846",
     "exception": false,
     "start_time": "2024-04-06T13:16:28.238560",
     "status": "completed"
    },
    "tags": []
   },
   "source": [
    "From the distribution plots, does it seem like the encoding is informative?\n",
    "\n",
    "And this cell will show you the score of the encoded set compared to the original set:"
   ]
  },
  {
   "cell_type": "code",
   "execution_count": 9,
   "id": "1a7affcc",
   "metadata": {
    "execution": {
     "iopub.execute_input": "2024-04-06T13:16:28.269290Z",
     "iopub.status.busy": "2024-04-06T13:16:28.268394Z",
     "iopub.status.idle": "2024-04-06T13:16:32.518640Z",
     "shell.execute_reply": "2024-04-06T13:16:32.517420Z"
    },
    "papermill": {
     "duration": 4.263531,
     "end_time": "2024-04-06T13:16:32.520905",
     "exception": false,
     "start_time": "2024-04-06T13:16:28.257374",
     "status": "completed"
    },
    "tags": []
   },
   "outputs": [
    {
     "name": "stdout",
     "output_type": "stream",
     "text": [
      "Baseline Score: 0.1434 RMSLE\n",
      "Score with Encoding: 0.1458 RMSLE\n"
     ]
    }
   ],
   "source": [
    "X = df.copy()\n",
    "y = X.pop(\"SalePrice\")\n",
    "score_base = score_dataset(X, y)\n",
    "score_new = score_dataset(X_train, y_train)\n",
    "\n",
    "print(f\"Baseline Score: {score_base:.4f} RMSLE\")\n",
    "print(f\"Score with Encoding: {score_new:.4f} RMSLE\")"
   ]
  },
  {
   "cell_type": "markdown",
   "id": "c7eb6066",
   "metadata": {
    "papermill": {
     "duration": 0.009198,
     "end_time": "2024-04-06T13:16:32.540892",
     "exception": false,
     "start_time": "2024-04-06T13:16:32.531694",
     "status": "completed"
    },
    "tags": []
   },
   "source": [
    "Do you think that target encoding was worthwhile in this case? Depending on which feature or features you chose, you may have ended up with a score significantly worse than the baseline. In that case, it's likely the extra information gained by the encoding couldn't make up for the loss of data used for the encoding."
   ]
  },
  {
   "cell_type": "markdown",
   "id": "8070af04",
   "metadata": {
    "papermill": {
     "duration": 0.009492,
     "end_time": "2024-04-06T13:16:32.559879",
     "exception": false,
     "start_time": "2024-04-06T13:16:32.550387",
     "status": "completed"
    },
    "tags": []
   },
   "source": [
    "-------------------------------------------------------------------------------\n",
    "\n",
    "In this question, you'll explore the problem of overfitting with target encodings. This will illustrate this importance of training fitting target encoders on data held-out from the training set.\n",
    "\n",
    "So let's see what happens when we fit the encoder and the model on the *same* dataset. To emphasize how dramatic the overfitting can be, we'll mean-encode a feature that should have no relationship with `SalePrice`, a count: `0, 1, 2, 3, 4, 5, ...`."
   ]
  },
  {
   "cell_type": "code",
   "execution_count": 10,
   "id": "ef25752c",
   "metadata": {
    "execution": {
     "iopub.execute_input": "2024-04-06T13:16:32.581255Z",
     "iopub.status.busy": "2024-04-06T13:16:32.580854Z",
     "iopub.status.idle": "2024-04-06T13:16:34.617615Z",
     "shell.execute_reply": "2024-04-06T13:16:34.616403Z"
    },
    "papermill": {
     "duration": 2.05045,
     "end_time": "2024-04-06T13:16:34.620094",
     "exception": false,
     "start_time": "2024-04-06T13:16:32.569644",
     "status": "completed"
    },
    "tags": []
   },
   "outputs": [
    {
     "name": "stdout",
     "output_type": "stream",
     "text": [
      "Score: 0.0375 RMSLE\n"
     ]
    }
   ],
   "source": [
    "# Try experimenting with the smoothing parameter m\n",
    "# Try 0, 1, 5, 50\n",
    "m = 0\n",
    "\n",
    "X = df.copy()\n",
    "y = X.pop('SalePrice')\n",
    "\n",
    "# Create an uninformative feature\n",
    "X[\"Count\"] = range(len(X))\n",
    "X[\"Count\"][1] = 0  # actually need one duplicate value to circumvent error-checking in MEstimateEncoder\n",
    "\n",
    "# fit and transform on the same dataset\n",
    "encoder = MEstimateEncoder(cols=\"Count\", m=m)\n",
    "X = encoder.fit_transform(X, y)\n",
    "\n",
    "# Results\n",
    "score =  score_dataset(X, y)\n",
    "print(f\"Score: {score:.4f} RMSLE\")"
   ]
  },
  {
   "cell_type": "markdown",
   "id": "1d4787f9",
   "metadata": {
    "papermill": {
     "duration": 0.009549,
     "end_time": "2024-04-06T13:16:34.640910",
     "exception": false,
     "start_time": "2024-04-06T13:16:34.631361",
     "status": "completed"
    },
    "tags": []
   },
   "source": [
    "Almost a perfect score!"
   ]
  },
  {
   "cell_type": "code",
   "execution_count": 11,
   "id": "5a7555fa",
   "metadata": {
    "execution": {
     "iopub.execute_input": "2024-04-06T13:16:34.662322Z",
     "iopub.status.busy": "2024-04-06T13:16:34.661944Z",
     "iopub.status.idle": "2024-04-06T13:16:35.180987Z",
     "shell.execute_reply": "2024-04-06T13:16:35.179818Z"
    },
    "papermill": {
     "duration": 0.532682,
     "end_time": "2024-04-06T13:16:35.183489",
     "exception": false,
     "start_time": "2024-04-06T13:16:34.650807",
     "status": "completed"
    },
    "tags": []
   },
   "outputs": [
    {
     "data": {
      "image/png": "[encoded data removed]",
      "text/plain": [
       "<Figure size 576x432 with 1 Axes>"
      ]
     },
     "metadata": {},
     "output_type": "display_data"
    }
   ],
   "source": [
    "plt.figure(dpi=90)\n",
    "ax = sns.distplot(y, kde=True, hist=False)\n",
    "ax = sns.distplot(X[\"Count\"], color='r', ax=ax, hist=True, kde=False, norm_hist=True)\n",
    "ax.set_xlabel(\"SalePrice\");"
   ]
  },
  {
   "cell_type": "markdown",
   "id": "40decbfe",
   "metadata": {
    "papermill": {
     "duration": 0.010192,
     "end_time": "2024-04-06T13:16:35.204267",
     "exception": false,
     "start_time": "2024-04-06T13:16:35.194075",
     "status": "completed"
    },
    "tags": []
   },
   "source": [
    "And the distributions are almost exactly the same, too.\n",
    "\n",
    "# 3) Overfitting with Target Encoders\n",
    "\n",
    "Based on your understanding of how mean-encoding works, can you explain how XGBoost was able to get an almost a perfect fit after mean-encoding the count feature?"
   ]
  },
  {
   "cell_type": "code",
   "execution_count": 12,
   "id": "be46ce1e",
   "metadata": {
    "execution": {
     "iopub.execute_input": "2024-04-06T13:16:35.227105Z",
     "iopub.status.busy": "2024-04-06T13:16:35.226165Z",
     "iopub.status.idle": "2024-04-06T13:16:35.235663Z",
     "shell.execute_reply": "2024-04-06T13:16:35.234615Z"
    },
    "lines_to_next_cell": 0,
    "papermill": {
     "duration": 0.023426,
     "end_time": "2024-04-06T13:16:35.237979",
     "exception": false,
     "start_time": "2024-04-06T13:16:35.214553",
     "status": "completed"
    },
    "tags": []
   },
   "outputs": [
    {
     "data": {
      "application/javascript": [
       "parent.postMessage({\"jupyterEvent\": \"custom.exercise_interaction\", \"data\": {\"outcomeType\": 1, \"valueTowardsCompletion\": 0.3333333333333333, \"interactionType\": 1, \"questionType\": 4, \"questionId\": \"3_Q3\", \"learnToolsVersion\": \"0.3.4\", \"failureMessage\": \"\", \"exceptionClass\": \"\", \"trace\": \"\"}}, \"*\")"
      ],
      "text/plain": [
       "<IPython.core.display.Javascript object>"
      ]
     },
     "metadata": {},
     "output_type": "display_data"
    },
    {
     "data": {
      "text/markdown": [
       "<span style=\"color:#33cc33\">Correct:</span> \n",
       "\n",
       "\n",
       "Since `Count` never has any duplicate values, the mean-encoded `Count` is essentially an exact copy of the target. In other words, mean-encoding turned a completely meaningless feature into a perfect feature.\n",
       "\n",
       "Now, the only reason this worked is because we trained XGBoost on the same set we used to train the encoder. If we had used a hold-out set instead, none of this \"fake\" encoding would have transferred to the training data.\n",
       "\n",
       "The lesson is that when using a target encoder it's very important to use separate data sets for training the encoder and training the model. Otherwise the results can be very disappointing!\n"
      ],
      "text/plain": [
       "Correct: \n",
       "\n",
       "\n",
       "Since `Count` never has any duplicate values, the mean-encoded `Count` is essentially an exact copy of the target. In other words, mean-encoding turned a completely meaningless feature into a perfect feature.\n",
       "\n",
       "Now, the only reason this worked is because we trained XGBoost on the same set we used to train the encoder. If we had used a hold-out set instead, none of this \"fake\" encoding would have transferred to the training data.\n",
       "\n",
       "The lesson is that when using a target encoder it's very important to use separate data sets for training the encoder and training the model. Otherwise the results can be very disappointing!"
      ]
     },
     "metadata": {},
     "output_type": "display_data"
    }
   ],
   "source": [
    "# View the solution (Run this cell to receive credit!)\n",
    "q_3.check()"
   ]
  },
  {
   "cell_type": "code",
   "execution_count": 13,
   "id": "e4747dda",
   "metadata": {
    "execution": {
     "iopub.execute_input": "2024-04-06T13:16:35.261414Z",
     "iopub.status.busy": "2024-04-06T13:16:35.261046Z",
     "iopub.status.idle": "2024-04-06T13:16:35.265343Z",
     "shell.execute_reply": "2024-04-06T13:16:35.264320Z"
    },
    "papermill": {
     "duration": 0.018802,
     "end_time": "2024-04-06T13:16:35.267659",
     "exception": false,
     "start_time": "2024-04-06T13:16:35.248857",
     "status": "completed"
    },
    "tags": []
   },
   "outputs": [],
   "source": [
    "# Uncomment this if you'd like a hint before seeing the answer\n",
    "#q_3.hint()"
   ]
  },
  {
   "cell_type": "markdown",
   "id": "f7731b81",
   "metadata": {
    "papermill": {
     "duration": 0.010118,
     "end_time": "2024-04-06T13:16:35.288200",
     "exception": false,
     "start_time": "2024-04-06T13:16:35.278082",
     "status": "completed"
    },
    "tags": []
   },
   "source": [
    "# The End #\n",
    "\n",
    "That's it for *Feature Engineering*! We hope you enjoyed your time with us.\n",
    "\n",
    "Now, are you ready to try out your new skills? Now would be a great time to join our [Housing Prices](https://www.kaggle.com/c/house-prices-advanced-regression-techniques) Getting Started competition. We've even prepared a [Bonus Lesson](https://www.kaggle.com/ryanholbrook/feature-engineering-for-house-prices) that collects all the work we've done together into a starter notebook.\n",
    "\n",
    "# References #\n",
    "Here are some great resources you might like to consult for more information. They all played a part in shaping this course:\n",
    "- *The Art of Feature Engineering*, a book by Pablo Duboue.\n",
    "- *An Empirical Analysis of Feature Engineering for Predictive Modeling*, an article by Jeff Heaton.\n",
    "- *Feature Engineering for Machine Learning*, a book by Alice Zheng and Amanda Casari. The tutorial on clustering was inspired by this excellent book.\n",
    "- *Feature Engineering and Selection*, a book by Max Kuhn and Kjell Johnson."
   ]
  },
  {
   "cell_type": "markdown",
   "id": "543e7df0",
   "metadata": {
    "papermill": {
     "duration": 0.01042,
     "end_time": "2024-04-06T13:16:35.309586",
     "exception": false,
     "start_time": "2024-04-06T13:16:35.299166",
     "status": "completed"
    },
    "tags": []
   },
   "source": [
    "---\n",
    "\n",
    "\n",
    "\n",
    "\n",
    "*Have questions or comments? Visit the [course discussion forum](https://www.kaggle.com/learn/feature-engineering/discussion) to chat with other learners.*"
   ]
  }
 ],
 "metadata": {
  "jupytext": {
   "cell_metadata_filter": "-all",
   "formats": "ipynb"
  },
  "kaggle": {
   "accelerator": "none",
   "dataSources": [
    {
     "datasetId": 933090,
     "sourceId": 1828856,
     "sourceType": "datasetVersion"
    }
   ],
   "isGpuEnabled": false,
   "isInternetEnabled": false,
   "language": "python",
   "sourceType": "notebook"
  },
  "kernelspec": {
   "display_name": "Python 3",
   "language": "python",
   "name": "python3"
  },
  "language_info": {
   "codemirror_mode": {
    "name": "ipython",
    "version": 3
   },
   "file_extension": ".py",
   "mimetype": "text/x-python",
   "name": "python",
   "nbconvert_exporter": "python",
   "pygments_lexer": "ipython3",
   "version": "3.10.13"
  },
  "papermill": {
   "default_parameters": {},
   "duration": 15.068349,
   "end_time": "2024-04-06T13:16:35.940533",
   "environment_variables": {},
   "exception": null,
   "input_path": "__notebook__.ipynb",
   "output_path": "__notebook__.ipynb",
   "parameters": {},
   "start_time": "2024-04-06T13:16:20.872184",
   "version": "2.5.0"
  }
 },
 "nbformat": 4,
 "nbformat_minor": 5
}
