{
 "cells": [
  {
   "cell_type": "markdown",
   "id": "e283f542",
   "metadata": {
    "papermill": {
     "duration": 0.006748,
     "end_time": "2024-06-03T14:40:11.697690",
     "exception": false,
     "start_time": "2024-06-03T14:40:11.690942",
     "status": "completed"
    },
    "tags": []
   },
   "source": [
    "**This notebook is an exercise in the [AI Ethics](https://www.kaggle.com/learn/ai-ethics) course.  You can reference the tutorial at [this link](https://www.kaggle.com/var0101/human-centered-design-for-ai).**\n",
    "\n",
    "---\n"
   ]
  },
  {
   "cell_type": "markdown",
   "id": "50ddf7ed",
   "metadata": {
    "papermill": {
     "duration": 0.005056,
     "end_time": "2024-06-03T14:40:11.708889",
     "exception": false,
     "start_time": "2024-06-03T14:40:11.703833",
     "status": "completed"
    },
    "tags": []
   },
   "source": [
    "In the tutorial, you learned about human-centered design (HCD) and became familiar with six general steps to apply it to AI systems. In this exercise, you will identify and address design issues in six interesting AI use cases. \n",
    "\n",
    "# Introduction\n",
    "\n",
    "Begin by running the next code cell.  \n",
    "- Clicking inside the code cell.\n",
    "- Click on the triangle (in the shape of a \"Play button\") that appears to the left of the code cell.\n",
    "- If your code is run successfully, you will see `Setup Complete` as output below the cell."
   ]
  },
  {
   "cell_type": "code",
   "execution_count": 1,
   "id": "6b51e529",
   "metadata": {
    "execution": {
     "iopub.execute_input": "2024-06-03T14:40:11.721296Z",
     "iopub.status.busy": "2024-06-03T14:40:11.720916Z",
     "iopub.status.idle": "2024-06-03T14:40:12.584700Z",
     "shell.execute_reply": "2024-06-03T14:40:12.583389Z"
    },
    "papermill": {
     "duration": 0.874311,
     "end_time": "2024-06-03T14:40:12.588818",
     "exception": false,
     "start_time": "2024-06-03T14:40:11.714507",
     "status": "completed"
    },
    "tags": []
   },
   "outputs": [
    {
     "name": "stdout",
     "output_type": "stream",
     "text": [
      "Setup Complete\n"
     ]
    }
   ],
   "source": [
    "# Set up feedback system\n",
    "from learntools.core import binder\n",
    "binder.bind(globals())\n",
    "from learntools.ethics.ex2 import *\n",
    "print(\"Setup Complete\")"
   ]
  },
  {
   "cell_type": "markdown",
   "id": "9291d5a8",
   "metadata": {
    "papermill": {
     "duration": 0.005105,
     "end_time": "2024-06-03T14:40:12.600581",
     "exception": false,
     "start_time": "2024-06-03T14:40:12.595476",
     "status": "completed"
    },
    "tags": []
   },
   "source": [
    "# 1) Reducing plastic waste\n",
    "\n",
    "A Cambodian organization wants to help reduce the significant amounts of plastic waste that pollute the Mekong River System. Which of the following would be an appropriate way to start?  (Your answer might use more than one option.)\n",
    " \n",
    "- Watch the people currently addressing the problem as they navigate existing tools and processes.\n",
    "- Conduct individual interviews with the people currently addressing the problem.\n",
    "- Assemble focus groups that consist of people currently addressing the problem.\n",
    "\n",
    "After you have answered the question, view the official solution by running the code cell below."
   ]
  },
  {
   "cell_type": "code",
   "execution_count": 2,
   "id": "32fd26da",
   "metadata": {
    "execution": {
     "iopub.execute_input": "2024-06-03T14:40:12.612766Z",
     "iopub.status.busy": "2024-06-03T14:40:12.612173Z",
     "iopub.status.idle": "2024-06-03T14:40:12.621447Z",
     "shell.execute_reply": "2024-06-03T14:40:12.620454Z"
    },
    "papermill": {
     "duration": 0.017916,
     "end_time": "2024-06-03T14:40:12.623583",
     "exception": false,
     "start_time": "2024-06-03T14:40:12.605667",
     "status": "completed"
    },
    "tags": []
   },
   "outputs": [
    {
     "data": {
      "application/javascript": [
       "parent.postMessage({\"jupyterEvent\": \"custom.exercise_interaction\", \"data\": {\"outcomeType\": 1, \"valueTowardsCompletion\": 0.16666666666666666, \"interactionType\": 1, \"questionType\": 4, \"questionId\": \"1_ReduceWaste\", \"learnToolsVersion\": \"0.3.4\", \"failureMessage\": \"\", \"exceptionClass\": \"\", \"trace\": \"\"}}, \"*\")"
      ],
      "text/plain": [
       "<IPython.core.display.Javascript object>"
      ]
     },
     "metadata": {},
     "output_type": "display_data"
    },
    {
     "data": {
      "text/markdown": [
       "<span style=\"color:#33cc33\">Solution:</span> These are all good ways to start!"
      ],
      "text/plain": [
       "Solution: These are all good ways to start!"
      ]
     },
     "metadata": {},
     "output_type": "display_data"
    }
   ],
   "source": [
    "# Check your answer (Run this code cell to receive credit!)\n",
    "q_1.check()"
   ]
  },
  {
   "cell_type": "markdown",
   "id": "e46c0d30",
   "metadata": {
    "papermill": {
     "duration": 0.005346,
     "end_time": "2024-06-03T14:40:12.634533",
     "exception": false,
     "start_time": "2024-06-03T14:40:12.629187",
     "status": "completed"
    },
    "tags": []
   },
   "source": [
    "# 2) Detecting breast cancer\n",
    "\n",
    "Pathologists try to detect breast cancer by examining cells on tissue slides under microscopes. This tiring and repetitive work requires an expert eye. Your team wants to create a technology solution that helps pathologists with this task in real-time, using a camera. However, due to the complexity of the work, your team has not found rule-based systems to be capable of adding value to the review of images. \n",
    "\n",
    "Would AI add value to a potential solution? Why or why not?"
   ]
  },
  {
   "cell_type": "code",
   "execution_count": 3,
   "id": "ecc02772",
   "metadata": {
    "execution": {
     "iopub.execute_input": "2024-06-03T14:40:12.648166Z",
     "iopub.status.busy": "2024-06-03T14:40:12.647191Z",
     "iopub.status.idle": "2024-06-03T14:40:12.655737Z",
     "shell.execute_reply": "2024-06-03T14:40:12.654778Z"
    },
    "papermill": {
     "duration": 0.01852,
     "end_time": "2024-06-03T14:40:12.658709",
     "exception": false,
     "start_time": "2024-06-03T14:40:12.640189",
     "status": "completed"
    },
    "tags": []
   },
   "outputs": [
    {
     "data": {
      "application/javascript": [
       "parent.postMessage({\"jupyterEvent\": \"custom.exercise_interaction\", \"data\": {\"outcomeType\": 1, \"valueTowardsCompletion\": 0.16666666666666666, \"interactionType\": 1, \"questionType\": 4, \"questionId\": \"2_DetectCancer\", \"learnToolsVersion\": \"0.3.4\", \"failureMessage\": \"\", \"exceptionClass\": \"\", \"trace\": \"\"}}, \"*\")"
      ],
      "text/plain": [
       "<IPython.core.display.Javascript object>"
      ]
     },
     "metadata": {},
     "output_type": "display_data"
    },
    {
     "data": {
      "text/markdown": [
       "<span style=\"color:#33cc33\">Solution:</span> Yes, it would. People would generally agree that the goal is desirable, especially since the AI system will be working with pathologists rather than in their place. AI can help people with repetitive tasks and AI systems have proven effective in similar medical image recognition use cases. That said, it is important to follow current industry best practices and to be thorough in the rest of the design process, including in analyzing harms and in considering how medical practitioners will actually interact with the product in a medical setting."
      ],
      "text/plain": [
       "Solution: Yes, it would. People would generally agree that the goal is desirable, especially since the AI system will be working with pathologists rather than in their place. AI can help people with repetitive tasks and AI systems have proven effective in similar medical image recognition use cases. That said, it is important to follow current industry best practices and to be thorough in the rest of the design process, including in analyzing harms and in considering how medical practitioners will actually interact with the product in a medical setting."
      ]
     },
     "metadata": {},
     "output_type": "display_data"
    }
   ],
   "source": [
    "# Check your answer (Run this code cell to receive credit!)\n",
    "q_2.check()"
   ]
  },
  {
   "cell_type": "markdown",
   "id": "d4b45739",
   "metadata": {
    "papermill": {
     "duration": 0.005971,
     "end_time": "2024-06-03T14:40:12.670811",
     "exception": false,
     "start_time": "2024-06-03T14:40:12.664840",
     "status": "completed"
    },
    "tags": []
   },
   "source": [
    "# 3) Flagging suspicious activity \n",
    "\n",
    "A bank is using AI to flag suspicious international money transfers for potential money laundering, anti-terrorist financing or sanctions concerns. Though the system has proven more effective than the bank’s current processes, it still frequently flags legitimate transactions for review. \n",
    "\n",
    "What are some potential harms that the system could cause, and how can the bank reduce the impacts of these potential harms?"
   ]
  },
  {
   "cell_type": "code",
   "execution_count": 4,
   "id": "e3d63704",
   "metadata": {
    "execution": {
     "iopub.execute_input": "2024-06-03T14:40:12.684816Z",
     "iopub.status.busy": "2024-06-03T14:40:12.684425Z",
     "iopub.status.idle": "2024-06-03T14:40:12.693128Z",
     "shell.execute_reply": "2024-06-03T14:40:12.692054Z"
    },
    "papermill": {
     "duration": 0.018475,
     "end_time": "2024-06-03T14:40:12.695548",
     "exception": false,
     "start_time": "2024-06-03T14:40:12.677073",
     "status": "completed"
    },
    "tags": []
   },
   "outputs": [
    {
     "data": {
      "application/javascript": [
       "parent.postMessage({\"jupyterEvent\": \"custom.exercise_interaction\", \"data\": {\"outcomeType\": 1, \"valueTowardsCompletion\": 0.16666666666666666, \"interactionType\": 1, \"questionType\": 4, \"questionId\": \"3_FlagActivity\", \"learnToolsVersion\": \"0.3.4\", \"failureMessage\": \"\", \"exceptionClass\": \"\", \"trace\": \"\"}}, \"*\")"
      ],
      "text/plain": [
       "<IPython.core.display.Javascript object>"
      ]
     },
     "metadata": {},
     "output_type": "display_data"
    },
    {
     "data": {
      "text/markdown": [
       "<span style=\"color:#33cc33\">Solution:</span> One potential harm is that the AI system could be biased against certain groups, flagging, delaying or denying their legitimate transactions at higher rates than those of other groups. The bank can reduce these harms by selecting data carefully, identifying and mitigating potential bias (see Lessons 3 and 4), not operationalizing the system until potential bias is addressed and ensuring appropriate and continuous human oversight of the system once it is operational."
      ],
      "text/plain": [
       "Solution: One potential harm is that the AI system could be biased against certain groups, flagging, delaying or denying their legitimate transactions at higher rates than those of other groups. The bank can reduce these harms by selecting data carefully, identifying and mitigating potential bias (see Lessons 3 and 4), not operationalizing the system until potential bias is addressed and ensuring appropriate and continuous human oversight of the system once it is operational."
      ]
     },
     "metadata": {},
     "output_type": "display_data"
    }
   ],
   "source": [
    "# Check your answer (Run this code cell to receive credit!)\n",
    "q_3.check()"
   ]
  },
  {
   "cell_type": "markdown",
   "id": "a3da60cc",
   "metadata": {
    "papermill": {
     "duration": 0.005963,
     "end_time": "2024-06-03T14:40:12.708234",
     "exception": false,
     "start_time": "2024-06-03T14:40:12.702271",
     "status": "completed"
    },
    "tags": []
   },
   "source": [
    "# 4) Prototyping a chatbot\n",
    "\n",
    "During an ongoing pandemic outbreak, a country’s public health agency is facing a large volume of phone calls and e-mails from people looking for health information. The agency has determined that an AI-powered interactive chatbot that answers pandemic-related questions would help people get the specific information they want quickly, while reducing the burden on the agency’s employees. How should the agency start prototyping the chatbot?\n",
    "- Build out the AI solution to the best of its ability before testing it with a diverse group of potential users.\n",
    "- Build a non-AI prototype quickly and start testing it with a diverse group of potential users."
   ]
  },
  {
   "cell_type": "code",
   "execution_count": 5,
   "id": "b0709d99",
   "metadata": {
    "execution": {
     "iopub.execute_input": "2024-06-03T14:40:12.722377Z",
     "iopub.status.busy": "2024-06-03T14:40:12.722022Z",
     "iopub.status.idle": "2024-06-03T14:40:12.730675Z",
     "shell.execute_reply": "2024-06-03T14:40:12.729484Z"
    },
    "papermill": {
     "duration": 0.018419,
     "end_time": "2024-06-03T14:40:12.732947",
     "exception": false,
     "start_time": "2024-06-03T14:40:12.714528",
     "status": "completed"
    },
    "tags": []
   },
   "outputs": [
    {
     "data": {
      "application/javascript": [
       "parent.postMessage({\"jupyterEvent\": \"custom.exercise_interaction\", \"data\": {\"outcomeType\": 1, \"valueTowardsCompletion\": 0.16666666666666666, \"interactionType\": 1, \"questionType\": 4, \"questionId\": \"4_PrototypeChatbot\", \"learnToolsVersion\": \"0.3.4\", \"failureMessage\": \"\", \"exceptionClass\": \"\", \"trace\": \"\"}}, \"*\")"
      ],
      "text/plain": [
       "<IPython.core.display.Javascript object>"
      ]
     },
     "metadata": {},
     "output_type": "display_data"
    },
    {
     "data": {
      "text/markdown": [
       "<span style=\"color:#33cc33\">Solution:</span> The correct answer is: Build a non-AI prototype quickly and start testing it with a diverse group of potential users. Iterating on a non-AI prototype is easier, faster and less expensive than iterating on an AI prototype. Iterating on a non-AI prototype also provides early information on user expectations, interactions and needs. This information should inform the eventual design of AI prototypes."
      ],
      "text/plain": [
       "Solution: The correct answer is: Build a non-AI prototype quickly and start testing it with a diverse group of potential users. Iterating on a non-AI prototype is easier, faster and less expensive than iterating on an AI prototype. Iterating on a non-AI prototype also provides early information on user expectations, interactions and needs. This information should inform the eventual design of AI prototypes."
      ]
     },
     "metadata": {},
     "output_type": "display_data"
    }
   ],
   "source": [
    "# Check your answer (Run this code cell to receive credit!)\n",
    "q_4.check()"
   ]
  },
  {
   "cell_type": "markdown",
   "id": "36e015ef",
   "metadata": {
    "papermill": {
     "duration": 0.006478,
     "end_time": "2024-06-03T14:40:12.746351",
     "exception": false,
     "start_time": "2024-06-03T14:40:12.739873",
     "status": "completed"
    },
    "tags": []
   },
   "source": [
    "# 5) Detecting misinformation\n",
    "\n",
    "A social media platform is planning to deploy a new AI system to flag and remove social media messages containing misinformation. Though the system has proven effective in tests, it sometimes flags non-objectionable content as misinformation. \n",
    "\n",
    "What are some ways in which the social media platform could allow someone whose message has been flagged to contest the misinformation designation?"
   ]
  },
  {
   "cell_type": "code",
   "execution_count": 6,
   "id": "c6fd00ad",
   "metadata": {
    "execution": {
     "iopub.execute_input": "2024-06-03T14:40:12.761296Z",
     "iopub.status.busy": "2024-06-03T14:40:12.760903Z",
     "iopub.status.idle": "2024-06-03T14:40:12.769209Z",
     "shell.execute_reply": "2024-06-03T14:40:12.768262Z"
    },
    "papermill": {
     "duration": 0.018786,
     "end_time": "2024-06-03T14:40:12.771793",
     "exception": false,
     "start_time": "2024-06-03T14:40:12.753007",
     "status": "completed"
    },
    "tags": []
   },
   "outputs": [
    {
     "data": {
      "application/javascript": [
       "parent.postMessage({\"jupyterEvent\": \"custom.exercise_interaction\", \"data\": {\"outcomeType\": 1, \"valueTowardsCompletion\": 0.16666666666666666, \"interactionType\": 1, \"questionType\": 4, \"questionId\": \"5_DetectMisinformation\", \"learnToolsVersion\": \"0.3.4\", \"failureMessage\": \"\", \"exceptionClass\": \"\", \"trace\": \"\"}}, \"*\")"
      ],
      "text/plain": [
       "<IPython.core.display.Javascript object>"
      ]
     },
     "metadata": {},
     "output_type": "display_data"
    },
    {
     "data": {
      "text/markdown": [
       "<span style=\"color:#33cc33\">Solution:</span> The social media company should ask customers how they would want to challenge a determination. It could be by easily accessing a challenge form on which a user can describe why their message does not contain misinformation, requesting further review by a human reviewer, requesting an explanation of why the content was flagged or a combination of these and other means."
      ],
      "text/plain": [
       "Solution: The social media company should ask customers how they would want to challenge a determination. It could be by easily accessing a challenge form on which a user can describe why their message does not contain misinformation, requesting further review by a human reviewer, requesting an explanation of why the content was flagged or a combination of these and other means."
      ]
     },
     "metadata": {},
     "output_type": "display_data"
    }
   ],
   "source": [
    "# Check your answer (Run this code cell to receive credit!)\n",
    "q_5.check()"
   ]
  },
  {
   "cell_type": "markdown",
   "id": "86449aba",
   "metadata": {
    "papermill": {
     "duration": 0.006628,
     "end_time": "2024-06-03T14:40:12.785828",
     "exception": false,
     "start_time": "2024-06-03T14:40:12.779200",
     "status": "completed"
    },
    "tags": []
   },
   "source": [
    "# 6) Improving autonomous vehicles\n",
    "\n",
    "What are some of the ways to improve the safety of autonomous vehicles?  (You might pick more than one option.)\n",
    "- Incorporate the safety features of regular vehicles.\n",
    "- Test the system in a variety of environments.\n",
    "- Hire an internal ‘red team’ to play the role of bad actors seeking to manipulate the autonomous driving system. Strengthen the system against the team’s attacks on an ongoing basis."
   ]
  },
  {
   "cell_type": "code",
   "execution_count": 7,
   "id": "5838bb44",
   "metadata": {
    "execution": {
     "iopub.execute_input": "2024-06-03T14:40:12.801752Z",
     "iopub.status.busy": "2024-06-03T14:40:12.801322Z",
     "iopub.status.idle": "2024-06-03T14:40:12.809858Z",
     "shell.execute_reply": "2024-06-03T14:40:12.808842Z"
    },
    "papermill": {
     "duration": 0.019302,
     "end_time": "2024-06-03T14:40:12.812237",
     "exception": false,
     "start_time": "2024-06-03T14:40:12.792935",
     "status": "completed"
    },
    "tags": []
   },
   "outputs": [
    {
     "data": {
      "application/javascript": [
       "parent.postMessage({\"jupyterEvent\": \"custom.exercise_interaction\", \"data\": {\"outcomeType\": 1, \"valueTowardsCompletion\": 0.16666666666666666, \"interactionType\": 1, \"questionType\": 4, \"questionId\": \"6_ImproveVehicles\", \"learnToolsVersion\": \"0.3.4\", \"failureMessage\": \"\", \"exceptionClass\": \"\", \"trace\": \"\"}}, \"*\")"
      ],
      "text/plain": [
       "<IPython.core.display.Javascript object>"
      ]
     },
     "metadata": {},
     "output_type": "display_data"
    },
    {
     "data": {
      "text/markdown": [
       "<span style=\"color:#33cc33\">Solution:</span> All of these are great ways to improve safety."
      ],
      "text/plain": [
       "Solution: All of these are great ways to improve safety."
      ]
     },
     "metadata": {},
     "output_type": "display_data"
    }
   ],
   "source": [
    "# Check your answer (Run this code cell to receive credit!)\n",
    "q_6.check()"
   ]
  },
  {
   "cell_type": "markdown",
   "id": "4d59c4f6",
   "metadata": {
    "papermill": {
     "duration": 0.007015,
     "end_time": "2024-06-03T14:40:12.826381",
     "exception": false,
     "start_time": "2024-06-03T14:40:12.819366",
     "status": "completed"
    },
    "tags": []
   },
   "source": [
    "# Keep going\n",
    "\n",
    "Continue to **[identify bias](https://www.kaggle.com/alexisbcook/identifying-bias-in-ai)** in machine learning applications."
   ]
  },
  {
   "cell_type": "markdown",
   "id": "e4d31d3a",
   "metadata": {
    "papermill": {
     "duration": 0.006664,
     "end_time": "2024-06-03T14:40:12.840250",
     "exception": false,
     "start_time": "2024-06-03T14:40:12.833586",
     "status": "completed"
    },
    "tags": []
   },
   "source": [
    "---\n",
    "\n",
    "\n",
    "\n",
    "\n",
    "*Have questions or comments? Visit the [course discussion forum](https://www.kaggle.com/learn/ai-ethics/discussion) to chat with other learners.*"
   ]
  }
 ],
 "metadata": {
  "kaggle": {
   "accelerator": "none",
   "dataSources": [],
   "isGpuEnabled": false,
   "isInternetEnabled": false,
   "language": "python",
   "sourceType": "notebook"
  },
  "kernelspec": {
   "display_name": "Python 3",
   "language": "python",
   "name": "python3"
  },
  "language_info": {
   "codemirror_mode": {
    "name": "ipython",
    "version": 3
   },
   "file_extension": ".py",
   "mimetype": "text/x-python",
   "name": "python",
   "nbconvert_exporter": "python",
   "pygments_lexer": "ipython3",
   "version": "3.10.13"
  },
  "papermill": {
   "default_parameters": {},
   "duration": 4.414378,
   "end_time": "2024-06-03T14:40:13.267687",
   "environment_variables": {},
   "exception": null,
   "input_path": "__notebook__.ipynb",
   "output_path": "__notebook__.ipynb",
   "parameters": {},
   "start_time": "2024-06-03T14:40:08.853309",
   "version": "2.5.0"
  }
 },
 "nbformat": 4,
 "nbformat_minor": 5
}
