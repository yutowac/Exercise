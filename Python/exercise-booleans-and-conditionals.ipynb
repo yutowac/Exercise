{
 "cells": [
  {
   "cell_type": "markdown",
   "id": "1a9d5b96",
   "metadata": {
    "papermill": {
     "duration": 0.008084,
     "end_time": "2023-11-30T14:29:27.362242",
     "exception": false,
     "start_time": "2023-11-30T14:29:27.354158",
     "status": "completed"
    },
    "tags": []
   },
   "source": [
    "**This notebook is an exercise in the [Python](https://www.kaggle.com/learn/python) course.  You can reference the tutorial at [this link](https://www.kaggle.com/colinmorris/booleans-and-conditionals).**\n",
    "\n",
    "---\n"
   ]
  },
  {
   "cell_type": "markdown",
   "id": "daf304e0",
   "metadata": {
    "papermill": {
     "duration": 0.007274,
     "end_time": "2023-11-30T14:29:27.377238",
     "exception": false,
     "start_time": "2023-11-30T14:29:27.369964",
     "status": "completed"
    },
    "tags": []
   },
   "source": [
    "In this exercise, you'll put to work what you have learned about booleans and conditionals.\n",
    "\n",
    "To get started, **run the setup code below** before writing your own code (and if you leave this notebook and come back later, don't forget to run the setup code again)."
   ]
  },
  {
   "cell_type": "code",
   "execution_count": 1,
   "id": "02a056f9",
   "metadata": {
    "execution": {
     "iopub.execute_input": "2023-11-30T14:29:27.394231Z",
     "iopub.status.busy": "2023-11-30T14:29:27.393853Z",
     "iopub.status.idle": "2023-11-30T14:29:27.750374Z",
     "shell.execute_reply": "2023-11-30T14:29:27.749074Z"
    },
    "papermill": {
     "duration": 0.368083,
     "end_time": "2023-11-30T14:29:27.752947",
     "exception": false,
     "start_time": "2023-11-30T14:29:27.384864",
     "status": "completed"
    },
    "tags": []
   },
   "outputs": [
    {
     "name": "stdout",
     "output_type": "stream",
     "text": [
      "Setup complete.\n"
     ]
    }
   ],
   "source": [
    "from learntools.core import binder; binder.bind(globals())\n",
    "from learntools.python.ex3 import *\n",
    "print('Setup complete.')"
   ]
  },
  {
   "cell_type": "markdown",
   "id": "d31fbcfc",
   "metadata": {
    "papermill": {
     "duration": 0.007011,
     "end_time": "2023-11-30T14:29:27.767917",
     "exception": false,
     "start_time": "2023-11-30T14:29:27.760906",
     "status": "completed"
    },
    "tags": []
   },
   "source": [
    "# 1.\n",
    "\n",
    "Many programming languages have [`sign`](https://en.wikipedia.org/wiki/Sign_function) available as a built-in function. Python doesn't, but we can define our own!\n",
    "\n",
    "In the cell below, define a function called `sign` which takes a numerical argument and returns -1 if it's negative, 1 if it's positive, and 0 if it's 0."
   ]
  },
  {
   "cell_type": "code",
   "execution_count": 2,
   "id": "03b23f68",
   "metadata": {
    "execution": {
     "iopub.execute_input": "2023-11-30T14:29:27.784345Z",
     "iopub.status.busy": "2023-11-30T14:29:27.783815Z",
     "iopub.status.idle": "2023-11-30T14:29:27.795183Z",
     "shell.execute_reply": "2023-11-30T14:29:27.794064Z"
    },
    "papermill": {
     "duration": 0.021995,
     "end_time": "2023-11-30T14:29:27.797253",
     "exception": false,
     "start_time": "2023-11-30T14:29:27.775258",
     "status": "completed"
    },
    "tags": []
   },
   "outputs": [
    {
     "data": {
      "application/javascript": [
       "parent.postMessage({\"jupyterEvent\": \"custom.exercise_interaction\", \"data\": {\"outcomeType\": 1, \"valueTowardsCompletion\": 0.2, \"interactionType\": 1, \"questionType\": 2, \"questionId\": \"1_SignFunctionProblem\", \"learnToolsVersion\": \"0.3.4\", \"failureMessage\": \"\", \"exceptionClass\": \"\", \"trace\": \"\"}}, \"*\")"
      ],
      "text/plain": [
       "<IPython.core.display.Javascript object>"
      ]
     },
     "metadata": {},
     "output_type": "display_data"
    },
    {
     "data": {
      "text/markdown": [
       "<span style=\"color:#33cc33\">Correct</span>"
      ],
      "text/plain": [
       "Correct"
      ]
     },
     "metadata": {},
     "output_type": "display_data"
    }
   ],
   "source": [
    "# Your code goes here. Define a function called 'sign'\n",
    "def sign(num):\n",
    "    if num > 0:\n",
    "        return 1\n",
    "    elif num < 0:\n",
    "        return -1\n",
    "    else:\n",
    "        return 0\n",
    "        \n",
    "# Check your answer\n",
    "q1.check()"
   ]
  },
  {
   "cell_type": "code",
   "execution_count": 3,
   "id": "1d6914ec",
   "metadata": {
    "execution": {
     "iopub.execute_input": "2023-11-30T14:29:27.814049Z",
     "iopub.status.busy": "2023-11-30T14:29:27.813715Z",
     "iopub.status.idle": "2023-11-30T14:29:27.818416Z",
     "shell.execute_reply": "2023-11-30T14:29:27.817348Z"
    },
    "papermill": {
     "duration": 0.015352,
     "end_time": "2023-11-30T14:29:27.820294",
     "exception": false,
     "start_time": "2023-11-30T14:29:27.804942",
     "status": "completed"
    },
    "tags": []
   },
   "outputs": [],
   "source": [
    "#q1.solution()"
   ]
  },
  {
   "cell_type": "markdown",
   "id": "7858d989",
   "metadata": {
    "papermill": {
     "duration": 0.007346,
     "end_time": "2023-11-30T14:29:27.835179",
     "exception": false,
     "start_time": "2023-11-30T14:29:27.827833",
     "status": "completed"
    },
    "tags": []
   },
   "source": [
    "# 2.\n",
    "\n",
    "We've decided to add \"logging\" to our `to_smash` function from the previous exercise."
   ]
  },
  {
   "cell_type": "code",
   "execution_count": 4,
   "id": "5de2d06b",
   "metadata": {
    "execution": {
     "iopub.execute_input": "2023-11-30T14:29:27.851748Z",
     "iopub.status.busy": "2023-11-30T14:29:27.851438Z",
     "iopub.status.idle": "2023-11-30T14:29:27.859298Z",
     "shell.execute_reply": "2023-11-30T14:29:27.858213Z"
    },
    "papermill": {
     "duration": 0.018498,
     "end_time": "2023-11-30T14:29:27.861078",
     "exception": false,
     "start_time": "2023-11-30T14:29:27.842580",
     "status": "completed"
    },
    "tags": []
   },
   "outputs": [
    {
     "name": "stdout",
     "output_type": "stream",
     "text": [
      "Splitting 91 candies\n"
     ]
    },
    {
     "data": {
      "text/plain": [
       "1"
      ]
     },
     "execution_count": 4,
     "metadata": {},
     "output_type": "execute_result"
    }
   ],
   "source": [
    "def to_smash(total_candies):\n",
    "    \"\"\"Return the number of leftover candies that must be smashed after distributing\n",
    "    the given number of candies evenly between 3 friends.\n",
    "    \n",
    "    >>> to_smash(91)\n",
    "    1\n",
    "    \"\"\"\n",
    "    print(\"Splitting\", total_candies, \"candies\")\n",
    "    return total_candies % 3\n",
    "\n",
    "to_smash(91)"
   ]
  },
  {
   "cell_type": "markdown",
   "id": "57c72687",
   "metadata": {
    "papermill": {
     "duration": 0.008324,
     "end_time": "2023-11-30T14:29:27.877637",
     "exception": false,
     "start_time": "2023-11-30T14:29:27.869313",
     "status": "completed"
    },
    "tags": []
   },
   "source": [
    "What happens if we call it with `total_candies = 1`?"
   ]
  },
  {
   "cell_type": "code",
   "execution_count": 5,
   "id": "5008d1d1",
   "metadata": {
    "execution": {
     "iopub.execute_input": "2023-11-30T14:29:27.895482Z",
     "iopub.status.busy": "2023-11-30T14:29:27.895140Z",
     "iopub.status.idle": "2023-11-30T14:29:27.902833Z",
     "shell.execute_reply": "2023-11-30T14:29:27.901382Z"
    },
    "papermill": {
     "duration": 0.019544,
     "end_time": "2023-11-30T14:29:27.905718",
     "exception": false,
     "start_time": "2023-11-30T14:29:27.886174",
     "status": "completed"
    },
    "tags": []
   },
   "outputs": [
    {
     "name": "stdout",
     "output_type": "stream",
     "text": [
      "Splitting 1 candies\n"
     ]
    },
    {
     "data": {
      "text/plain": [
       "1"
      ]
     },
     "execution_count": 5,
     "metadata": {},
     "output_type": "execute_result"
    }
   ],
   "source": [
    "to_smash(1)"
   ]
  },
  {
   "cell_type": "markdown",
   "id": "f69455a8",
   "metadata": {
    "papermill": {
     "duration": 0.00812,
     "end_time": "2023-11-30T14:29:27.922898",
     "exception": false,
     "start_time": "2023-11-30T14:29:27.914778",
     "status": "completed"
    },
    "tags": []
   },
   "source": [
    "That isn't great grammar!\n",
    "\n",
    "Modify the definition in the cell below to correct the grammar of our print statement. (If there's only one candy, we should use the singular \"candy\" instead of the plural \"candies\")"
   ]
  },
  {
   "cell_type": "code",
   "execution_count": 6,
   "id": "0d933639",
   "metadata": {
    "execution": {
     "iopub.execute_input": "2023-11-30T14:29:27.941092Z",
     "iopub.status.busy": "2023-11-30T14:29:27.940727Z",
     "iopub.status.idle": "2023-11-30T14:29:27.948850Z",
     "shell.execute_reply": "2023-11-30T14:29:27.947848Z"
    },
    "papermill": {
     "duration": 0.01937,
     "end_time": "2023-11-30T14:29:27.950584",
     "exception": false,
     "start_time": "2023-11-30T14:29:27.931214",
     "status": "completed"
    },
    "tags": []
   },
   "outputs": [
    {
     "name": "stdout",
     "output_type": "stream",
     "text": [
      "Splitting 91 candies\n",
      "Splitting 1 candies\n"
     ]
    },
    {
     "data": {
      "text/plain": [
       "1"
      ]
     },
     "execution_count": 6,
     "metadata": {},
     "output_type": "execute_result"
    }
   ],
   "source": [
    "def to_smash(total_candies):\n",
    "    \"\"\"Return the number of leftover candies that must be smashed after distributing\n",
    "    the given number of candies evenly between 3 friends.\n",
    "    \n",
    "    >>> to_smash(91)\n",
    "    1\n",
    "    \"\"\"\n",
    "    print(\"Splitting\", total_candies, \"candies\")\n",
    "    return total_candies % 3\n",
    "\n",
    "to_smash(91)\n",
    "to_smash(1)"
   ]
  },
  {
   "cell_type": "markdown",
   "id": "f7c2fe9d",
   "metadata": {
    "papermill": {
     "duration": 0.007761,
     "end_time": "2023-11-30T14:29:27.966894",
     "exception": false,
     "start_time": "2023-11-30T14:29:27.959133",
     "status": "completed"
    },
    "tags": []
   },
   "source": [
    "To get credit for completing this problem, and to see the official answer, run the code cell below."
   ]
  },
  {
   "cell_type": "code",
   "execution_count": 7,
   "id": "86122af2",
   "metadata": {
    "execution": {
     "iopub.execute_input": "2023-11-30T14:29:27.986645Z",
     "iopub.status.busy": "2023-11-30T14:29:27.986310Z",
     "iopub.status.idle": "2023-11-30T14:29:27.995903Z",
     "shell.execute_reply": "2023-11-30T14:29:27.994786Z"
    },
    "papermill": {
     "duration": 0.021574,
     "end_time": "2023-11-30T14:29:27.997928",
     "exception": false,
     "start_time": "2023-11-30T14:29:27.976354",
     "status": "completed"
    },
    "tags": []
   },
   "outputs": [
    {
     "data": {
      "application/javascript": [
       "parent.postMessage({\"jupyterEvent\": \"custom.exercise_interaction\", \"data\": {\"interactionType\": 3, \"questionType\": 4, \"questionId\": \"2_PluralizationProblem\", \"learnToolsVersion\": \"0.3.4\", \"valueTowardsCompletion\": 0.0, \"failureMessage\": \"\", \"exceptionClass\": \"\", \"trace\": \"\", \"outcomeType\": 4}}, \"*\")"
      ],
      "text/plain": [
       "<IPython.core.display.Javascript object>"
      ]
     },
     "metadata": {},
     "output_type": "display_data"
    },
    {
     "data": {
      "text/markdown": [
       "<span style=\"color:#33cc99\">Solution:</span> A straightforward (and totally fine) solution is to replace the original `print` call with:\n",
       "\n",
       "```python\n",
       "if total_candies == 1:\n",
       "    print(\"Splitting 1 candy\")\n",
       "else:\n",
       "    print(\"Splitting\", total_candies, \"candies\")\n",
       "```\n",
       "\n",
       "Here's a slightly more succinct solution using a conditional expression:\n",
       "\n",
       "```python\n",
       "print(\"Splitting\", total_candies, \"candy\" if total_candies == 1 else \"candies\")\n",
       "```"
      ],
      "text/plain": [
       "Solution: A straightforward (and totally fine) solution is to replace the original `print` call with:\n",
       "\n",
       "```python\n",
       "if total_candies == 1:\n",
       "    print(\"Splitting 1 candy\")\n",
       "else:\n",
       "    print(\"Splitting\", total_candies, \"candies\")\n",
       "```\n",
       "\n",
       "Here's a slightly more succinct solution using a conditional expression:\n",
       "\n",
       "```python\n",
       "print(\"Splitting\", total_candies, \"candy\" if total_candies == 1 else \"candies\")\n",
       "```"
      ]
     },
     "metadata": {},
     "output_type": "display_data"
    }
   ],
   "source": [
    "# Check your answer (Run this code cell to receive credit!)\n",
    "q2.solution()"
   ]
  },
  {
   "cell_type": "markdown",
   "id": "d92851dd",
   "metadata": {
    "papermill": {
     "duration": 0.008268,
     "end_time": "2023-11-30T14:29:28.017677",
     "exception": false,
     "start_time": "2023-11-30T14:29:28.009409",
     "status": "completed"
    },
    "tags": []
   },
   "source": [
    "# 3. <span title=\"A bit spicy\" style=\"color: darkgreen \">🌶️</span>\n",
    "\n",
    "In the tutorial, we talked about deciding whether we're prepared for the weather. I said that I'm safe from today's weather if...\n",
    "- I have an umbrella...\n",
    "- or if the rain isn't too heavy and I have a hood...\n",
    "- otherwise, I'm still fine unless it's raining *and* it's a workday\n",
    "\n",
    "The function below uses our first attempt at turning this logic into a Python expression. I claimed that there was a bug in that code. Can you find it?\n",
    "\n",
    "To prove that `prepared_for_weather` is buggy, come up with a set of inputs where either:\n",
    "- the function returns `False` (but should have returned `True`), or\n",
    "- the function returned `True` (but should have returned `False`).\n",
    "\n",
    "To get credit for completing this question, your code should return a <font color='#33cc33'>Correct</font> result."
   ]
  },
  {
   "cell_type": "code",
   "execution_count": 8,
   "id": "687ad569",
   "metadata": {
    "execution": {
     "iopub.execute_input": "2023-11-30T14:29:28.035858Z",
     "iopub.status.busy": "2023-11-30T14:29:28.035481Z",
     "iopub.status.idle": "2023-11-30T14:29:28.046859Z",
     "shell.execute_reply": "2023-11-30T14:29:28.045875Z"
    },
    "papermill": {
     "duration": 0.022748,
     "end_time": "2023-11-30T14:29:28.048849",
     "exception": false,
     "start_time": "2023-11-30T14:29:28.026101",
     "status": "completed"
    },
    "tags": []
   },
   "outputs": [
    {
     "name": "stdout",
     "output_type": "stream",
     "text": [
      "False\n"
     ]
    },
    {
     "data": {
      "application/javascript": [
       "parent.postMessage({\"jupyterEvent\": \"custom.exercise_interaction\", \"data\": {\"outcomeType\": 1, \"valueTowardsCompletion\": 0.2, \"interactionType\": 1, \"questionType\": 1, \"questionId\": \"3_WeatherDebug\", \"learnToolsVersion\": \"0.3.4\", \"failureMessage\": \"\", \"exceptionClass\": \"\", \"trace\": \"\"}}, \"*\")"
      ],
      "text/plain": [
       "<IPython.core.display.Javascript object>"
      ]
     },
     "metadata": {},
     "output_type": "display_data"
    },
    {
     "data": {
      "text/markdown": [
       "<span style=\"color:#33cc33\">Correct:</span> \n",
       "\n",
       "One example of a failing test case is:\n",
       "\n",
       "```python\n",
       "have_umbrella = False\n",
       "rain_level = 0.0\n",
       "have_hood = False\n",
       "is_workday = False\n",
       "```\n",
       "\n",
       "Clearly we're prepared for the weather in this case. It's not raining. Not only that, it's not a workday, so we don't even need to leave the house! But our function will return False on these inputs.\n",
       "\n",
       "The key problem is that Python implictly parenthesizes the last part as:\n",
       "\n",
       "```python\n",
       "(not (rain_level > 0)) and is_workday\n",
       "```\n",
       "\n",
       "Whereas what we were trying to express would look more like:\n",
       "\n",
       "```python\n",
       "not (rain_level > 0 and is_workday)\n",
       "```\n"
      ],
      "text/plain": [
       "Correct: \n",
       "\n",
       "One example of a failing test case is:\n",
       "\n",
       "```python\n",
       "have_umbrella = False\n",
       "rain_level = 0.0\n",
       "have_hood = False\n",
       "is_workday = False\n",
       "```\n",
       "\n",
       "Clearly we're prepared for the weather in this case. It's not raining. Not only that, it's not a workday, so we don't even need to leave the house! But our function will return False on these inputs.\n",
       "\n",
       "The key problem is that Python implictly parenthesizes the last part as:\n",
       "\n",
       "```python\n",
       "(not (rain_level > 0)) and is_workday\n",
       "```\n",
       "\n",
       "Whereas what we were trying to express would look more like:\n",
       "\n",
       "```python\n",
       "not (rain_level > 0 and is_workday)\n",
       "```"
      ]
     },
     "metadata": {},
     "output_type": "display_data"
    }
   ],
   "source": [
    "def prepared_for_weather(have_umbrella, rain_level, have_hood, is_workday):\n",
    "    # Don't change this code. Our goal is just to find the bug, not fix it!\n",
    "    return have_umbrella or rain_level < 5 and have_hood or not rain_level > 0 and is_workday\n",
    "\n",
    "# Change the values of these inputs so they represent a case where prepared_for_weather\n",
    "# returns the wrong answer.\n",
    "have_umbrella = False\n",
    "rain_level = 0.0\n",
    "have_hood = False\n",
    "is_workday = False\n",
    "\n",
    "# Check what the function returns given the current values of the variables above\n",
    "actual = prepared_for_weather(have_umbrella, rain_level, have_hood, is_workday)\n",
    "print(actual)\n",
    "\n",
    "# Check your answer\n",
    "q3.check()"
   ]
  },
  {
   "cell_type": "code",
   "execution_count": 9,
   "id": "a96affbf",
   "metadata": {
    "execution": {
     "iopub.execute_input": "2023-11-30T14:29:28.068623Z",
     "iopub.status.busy": "2023-11-30T14:29:28.068235Z",
     "iopub.status.idle": "2023-11-30T14:29:28.073419Z",
     "shell.execute_reply": "2023-11-30T14:29:28.072217Z"
    },
    "papermill": {
     "duration": 0.017436,
     "end_time": "2023-11-30T14:29:28.075563",
     "exception": false,
     "start_time": "2023-11-30T14:29:28.058127",
     "status": "completed"
    },
    "tags": []
   },
   "outputs": [],
   "source": [
    "#q3.hint()\n",
    "#q3.solution()"
   ]
  },
  {
   "cell_type": "markdown",
   "id": "9ddc5756",
   "metadata": {
    "papermill": {
     "duration": 0.008337,
     "end_time": "2023-11-30T14:29:28.092859",
     "exception": false,
     "start_time": "2023-11-30T14:29:28.084522",
     "status": "completed"
    },
    "tags": []
   },
   "source": [
    "# 4.\n",
    "\n",
    "The function `is_negative` below is implemented correctly - it returns True if the given number is negative and False otherwise.\n",
    "\n",
    "However, it's more verbose than it needs to be. We can actually reduce the number of lines of code in this function by *75%* while keeping the same behaviour. \n",
    "\n",
    "See if you can come up with an equivalent body that uses just **one line** of code, and put it in the function `concise_is_negative`. (HINT: you don't even need Python's ternary syntax)"
   ]
  },
  {
   "cell_type": "code",
   "execution_count": 10,
   "id": "1f03580c",
   "metadata": {
    "execution": {
     "iopub.execute_input": "2023-11-30T14:29:28.112165Z",
     "iopub.status.busy": "2023-11-30T14:29:28.111739Z",
     "iopub.status.idle": "2023-11-30T14:29:28.121955Z",
     "shell.execute_reply": "2023-11-30T14:29:28.120858Z"
    },
    "papermill": {
     "duration": 0.022053,
     "end_time": "2023-11-30T14:29:28.123548",
     "exception": false,
     "start_time": "2023-11-30T14:29:28.101495",
     "status": "completed"
    },
    "tags": []
   },
   "outputs": [
    {
     "data": {
      "application/javascript": [
       "parent.postMessage({\"jupyterEvent\": \"custom.exercise_interaction\", \"data\": {\"outcomeType\": 1, \"valueTowardsCompletion\": 0.2, \"interactionType\": 1, \"questionType\": 2, \"questionId\": \"4_ConciseIsNegative\", \"learnToolsVersion\": \"0.3.4\", \"failureMessage\": \"\", \"exceptionClass\": \"\", \"trace\": \"\"}}, \"*\")"
      ],
      "text/plain": [
       "<IPython.core.display.Javascript object>"
      ]
     },
     "metadata": {},
     "output_type": "display_data"
    },
    {
     "data": {
      "text/markdown": [
       "<span style=\"color:#33cc33\">Correct</span>"
      ],
      "text/plain": [
       "Correct"
      ]
     },
     "metadata": {},
     "output_type": "display_data"
    }
   ],
   "source": [
    "def is_negative(number):\n",
    "    if number < 0:\n",
    "        return True\n",
    "    else:\n",
    "        return False\n",
    "\n",
    "def concise_is_negative(number):\n",
    "    return number<0 # Your code goes here (try to keep it to one line!)\n",
    "\n",
    "# Check your answer\n",
    "q4.check()"
   ]
  },
  {
   "cell_type": "code",
   "execution_count": 11,
   "id": "e7153338",
   "metadata": {
    "execution": {
     "iopub.execute_input": "2023-11-30T14:29:28.143083Z",
     "iopub.status.busy": "2023-11-30T14:29:28.142681Z",
     "iopub.status.idle": "2023-11-30T14:29:28.146691Z",
     "shell.execute_reply": "2023-11-30T14:29:28.145805Z"
    },
    "papermill": {
     "duration": 0.016106,
     "end_time": "2023-11-30T14:29:28.148680",
     "exception": false,
     "start_time": "2023-11-30T14:29:28.132574",
     "status": "completed"
    },
    "tags": []
   },
   "outputs": [],
   "source": [
    "#q4.hint()\n",
    "#q4.solution()"
   ]
  },
  {
   "cell_type": "markdown",
   "id": "5ae1d5b0",
   "metadata": {
    "papermill": {
     "duration": 0.008563,
     "end_time": "2023-11-30T14:29:28.166195",
     "exception": false,
     "start_time": "2023-11-30T14:29:28.157632",
     "status": "completed"
    },
    "tags": []
   },
   "source": [
    "# 5a.\n",
    "\n",
    "The boolean variables `ketchup`, `mustard` and `onion` represent whether a customer wants a particular topping on their hot dog. We want to implement a number of boolean functions that correspond to some yes-or-no questions about the customer's order. For example:"
   ]
  },
  {
   "cell_type": "code",
   "execution_count": 12,
   "id": "189536e2",
   "metadata": {
    "execution": {
     "iopub.execute_input": "2023-11-30T14:29:28.185333Z",
     "iopub.status.busy": "2023-11-30T14:29:28.184914Z",
     "iopub.status.idle": "2023-11-30T14:29:28.189829Z",
     "shell.execute_reply": "2023-11-30T14:29:28.188788Z"
    },
    "papermill": {
     "duration": 0.017359,
     "end_time": "2023-11-30T14:29:28.192323",
     "exception": false,
     "start_time": "2023-11-30T14:29:28.174964",
     "status": "completed"
    },
    "tags": []
   },
   "outputs": [],
   "source": [
    "def onionless(ketchup, mustard, onion):\n",
    "    \"\"\"Return whether the customer doesn't want onions.\n",
    "    \"\"\"\n",
    "    return not onion"
   ]
  },
  {
   "cell_type": "code",
   "execution_count": 13,
   "id": "0429dcc7",
   "metadata": {
    "execution": {
     "iopub.execute_input": "2023-11-30T14:29:28.214529Z",
     "iopub.status.busy": "2023-11-30T14:29:28.213597Z",
     "iopub.status.idle": "2023-11-30T14:29:28.222207Z",
     "shell.execute_reply": "2023-11-30T14:29:28.220742Z"
    },
    "papermill": {
     "duration": 0.022509,
     "end_time": "2023-11-30T14:29:28.224680",
     "exception": false,
     "start_time": "2023-11-30T14:29:28.202171",
     "status": "completed"
    },
    "tags": []
   },
   "outputs": [
    {
     "data": {
      "application/javascript": [
       "parent.postMessage({\"jupyterEvent\": \"custom.exercise_interaction\", \"data\": {\"outcomeType\": 1, \"valueTowardsCompletion\": 0.2, \"interactionType\": 1, \"questionType\": 2, \"questionId\": \"5.1_AllToppings\", \"learnToolsVersion\": \"0.3.4\", \"failureMessage\": \"\", \"exceptionClass\": \"\", \"trace\": \"\"}}, \"*\")"
      ],
      "text/plain": [
       "<IPython.core.display.Javascript object>"
      ]
     },
     "metadata": {},
     "output_type": "display_data"
    },
    {
     "data": {
      "text/markdown": [
       "<span style=\"color:#33cc33\">Correct</span>"
      ],
      "text/plain": [
       "Correct"
      ]
     },
     "metadata": {},
     "output_type": "display_data"
    }
   ],
   "source": [
    "def wants_all_toppings(ketchup, mustard, onion):\n",
    "    \"\"\"Return whether the customer wants \"the works\" (all 3 toppings)\n",
    "    \"\"\"\n",
    "    return ketchup and mustard and onion\n",
    "\n",
    "# Check your answer\n",
    "q5.a.check()"
   ]
  },
  {
   "cell_type": "code",
   "execution_count": 14,
   "id": "c46afb94",
   "metadata": {
    "execution": {
     "iopub.execute_input": "2023-11-30T14:29:28.304673Z",
     "iopub.status.busy": "2023-11-30T14:29:28.304355Z",
     "iopub.status.idle": "2023-11-30T14:29:28.307685Z",
     "shell.execute_reply": "2023-11-30T14:29:28.307068Z"
    },
    "papermill": {
     "duration": 0.017225,
     "end_time": "2023-11-30T14:29:28.309616",
     "exception": false,
     "start_time": "2023-11-30T14:29:28.292391",
     "status": "completed"
    },
    "tags": []
   },
   "outputs": [],
   "source": [
    "#q5.a.hint()\n",
    "#q5.a.solution()"
   ]
  },
  {
   "cell_type": "markdown",
   "id": "ea78c13c",
   "metadata": {
    "papermill": {
     "duration": 0.008972,
     "end_time": "2023-11-30T14:29:28.328152",
     "exception": false,
     "start_time": "2023-11-30T14:29:28.319180",
     "status": "completed"
    },
    "tags": []
   },
   "source": [
    "# 5b.\n",
    "\n",
    "For the next function, fill in the body to match the English description in the docstring. "
   ]
  },
  {
   "cell_type": "code",
   "execution_count": 15,
   "id": "0be282fb",
   "metadata": {
    "execution": {
     "iopub.execute_input": "2023-11-30T14:29:28.351858Z",
     "iopub.status.busy": "2023-11-30T14:29:28.351446Z",
     "iopub.status.idle": "2023-11-30T14:29:28.360532Z",
     "shell.execute_reply": "2023-11-30T14:29:28.359642Z"
    },
    "papermill": {
     "duration": 0.02478,
     "end_time": "2023-11-30T14:29:28.362237",
     "exception": false,
     "start_time": "2023-11-30T14:29:28.337457",
     "status": "completed"
    },
    "tags": []
   },
   "outputs": [
    {
     "data": {
      "application/javascript": [
       "parent.postMessage({\"jupyterEvent\": \"custom.exercise_interaction\", \"data\": {\"outcomeType\": 1, \"valueTowardsCompletion\": 0.2, \"interactionType\": 1, \"questionType\": 2, \"questionId\": \"5.2_PlainDog\", \"learnToolsVersion\": \"0.3.4\", \"failureMessage\": \"\", \"exceptionClass\": \"\", \"trace\": \"\"}}, \"*\")"
      ],
      "text/plain": [
       "<IPython.core.display.Javascript object>"
      ]
     },
     "metadata": {},
     "output_type": "display_data"
    },
    {
     "data": {
      "text/markdown": [
       "<span style=\"color:#33cc33\">Correct:</span> \n",
       "\n",
       "One solution looks like:\n",
       "```python\n",
       "return not ketchup and not mustard and not onion\n",
       "```\n",
       "\n",
       "We can also [\"factor out\" the nots](https://en.wikipedia.org/wiki/De_Morgan%27s_laws) to get:\n",
       "\n",
       "```python\n",
       "return not (ketchup or mustard or onion)\n",
       "```"
      ],
      "text/plain": [
       "Correct: \n",
       "\n",
       "One solution looks like:\n",
       "```python\n",
       "return not ketchup and not mustard and not onion\n",
       "```\n",
       "\n",
       "We can also [\"factor out\" the nots](https://en.wikipedia.org/wiki/De_Morgan%27s_laws) to get:\n",
       "\n",
       "```python\n",
       "return not (ketchup or mustard or onion)\n",
       "```"
      ]
     },
     "metadata": {},
     "output_type": "display_data"
    }
   ],
   "source": [
    "def wants_plain_hotdog(ketchup, mustard, onion):\n",
    "    \"\"\"Return whether the customer wants a plain hot dog with no toppings.\n",
    "    \"\"\"\n",
    "    return not ketchup and not mustard and not onion\n",
    "\n",
    "# Check your answer\n",
    "q5.b.check()"
   ]
  },
  {
   "cell_type": "code",
   "execution_count": 16,
   "id": "ed6cdf73",
   "metadata": {
    "execution": {
     "iopub.execute_input": "2023-11-30T14:29:28.384436Z",
     "iopub.status.busy": "2023-11-30T14:29:28.383771Z",
     "iopub.status.idle": "2023-11-30T14:29:28.387708Z",
     "shell.execute_reply": "2023-11-30T14:29:28.386583Z"
    },
    "papermill": {
     "duration": 0.016935,
     "end_time": "2023-11-30T14:29:28.389710",
     "exception": false,
     "start_time": "2023-11-30T14:29:28.372775",
     "status": "completed"
    },
    "tags": []
   },
   "outputs": [],
   "source": [
    "#q5.b.hint()\n",
    "#q5.b.solution()"
   ]
  },
  {
   "cell_type": "markdown",
   "id": "f010c76f",
   "metadata": {
    "papermill": {
     "duration": 0.010166,
     "end_time": "2023-11-30T14:29:28.410432",
     "exception": false,
     "start_time": "2023-11-30T14:29:28.400266",
     "status": "completed"
    },
    "tags": []
   },
   "source": [
    "# 5c.\n",
    "\n",
    "You know what to do: for the next function, fill in the body to match the English description in the docstring."
   ]
  },
  {
   "cell_type": "code",
   "execution_count": 17,
   "id": "1f4b2132",
   "metadata": {
    "execution": {
     "iopub.execute_input": "2023-11-30T14:29:28.433218Z",
     "iopub.status.busy": "2023-11-30T14:29:28.432703Z",
     "iopub.status.idle": "2023-11-30T14:29:28.438978Z",
     "shell.execute_reply": "2023-11-30T14:29:28.438421Z"
    },
    "papermill": {
     "duration": 0.019323,
     "end_time": "2023-11-30T14:29:28.440487",
     "exception": false,
     "start_time": "2023-11-30T14:29:28.421164",
     "status": "completed"
    },
    "tags": []
   },
   "outputs": [
    {
     "data": {
      "application/javascript": [
       "parent.postMessage({\"jupyterEvent\": \"custom.exercise_interaction\", \"data\": {\"outcomeType\": 1, \"valueTowardsCompletion\": 0.2, \"interactionType\": 1, \"questionType\": 2, \"questionId\": \"5.3_OneSauce\", \"learnToolsVersion\": \"0.3.4\", \"failureMessage\": \"\", \"exceptionClass\": \"\", \"trace\": \"\"}}, \"*\")"
      ],
      "text/plain": [
       "<IPython.core.display.Javascript object>"
      ]
     },
     "metadata": {},
     "output_type": "display_data"
    },
    {
     "data": {
      "text/markdown": [
       "<span style=\"color:#33cc33\">Correct</span>"
      ],
      "text/plain": [
       "Correct"
      ]
     },
     "metadata": {},
     "output_type": "display_data"
    }
   ],
   "source": [
    "def exactly_one_sauce(ketchup, mustard, onion):\n",
    "    \"\"\"Return whether the customer wants either ketchup or mustard, but not both.\n",
    "    (You may be familiar with this operation under the name \"exclusive or\")\n",
    "    \"\"\"\n",
    "    return (ketchup or mustard) and not (ketchup and mustard)\n",
    "\n",
    "# Check your answer\n",
    "q5.c.check()"
   ]
  },
  {
   "cell_type": "code",
   "execution_count": 18,
   "id": "a7b9ca53",
   "metadata": {
    "execution": {
     "iopub.execute_input": "2023-11-30T14:29:28.461841Z",
     "iopub.status.busy": "2023-11-30T14:29:28.461277Z",
     "iopub.status.idle": "2023-11-30T14:29:28.464626Z",
     "shell.execute_reply": "2023-11-30T14:29:28.463898Z"
    },
    "papermill": {
     "duration": 0.015838,
     "end_time": "2023-11-30T14:29:28.466293",
     "exception": false,
     "start_time": "2023-11-30T14:29:28.450455",
     "status": "completed"
    },
    "tags": []
   },
   "outputs": [],
   "source": [
    "#q5.c.hint()\n",
    "#q5.c.solution()"
   ]
  },
  {
   "cell_type": "markdown",
   "id": "2e1b9c9e",
   "metadata": {
    "papermill": {
     "duration": 0.009324,
     "end_time": "2023-11-30T14:29:28.485304",
     "exception": false,
     "start_time": "2023-11-30T14:29:28.475980",
     "status": "completed"
    },
    "tags": []
   },
   "source": [
    "# 6. <span title=\"A bit spicy\" style=\"color: darkgreen \">🌶️</span>\n",
    "\n",
    "We’ve seen that calling `bool()` on an integer returns `False` if it’s equal to 0 and `True` otherwise. What happens if we call `int()` on a bool? Try it out in the notebook cell below.\n",
    "\n",
    "Can you take advantage of this to write a succinct function that corresponds to the English sentence \"does the customer want exactly one topping?\"?"
   ]
  },
  {
   "cell_type": "code",
   "execution_count": 19,
   "id": "d4ec0834",
   "metadata": {
    "execution": {
     "iopub.execute_input": "2023-11-30T14:29:28.505866Z",
     "iopub.status.busy": "2023-11-30T14:29:28.505486Z",
     "iopub.status.idle": "2023-11-30T14:29:28.513596Z",
     "shell.execute_reply": "2023-11-30T14:29:28.512712Z"
    },
    "papermill": {
     "duration": 0.020697,
     "end_time": "2023-11-30T14:29:28.515489",
     "exception": false,
     "start_time": "2023-11-30T14:29:28.494792",
     "status": "completed"
    },
    "tags": []
   },
   "outputs": [
    {
     "data": {
      "application/javascript": [
       "parent.postMessage({\"jupyterEvent\": \"custom.exercise_interaction\", \"data\": {\"outcomeType\": 1, \"valueTowardsCompletion\": 0.2, \"interactionType\": 1, \"questionType\": 2, \"questionId\": \"6_OneTopping\", \"learnToolsVersion\": \"0.3.4\", \"failureMessage\": \"\", \"exceptionClass\": \"\", \"trace\": \"\"}}, \"*\")"
      ],
      "text/plain": [
       "<IPython.core.display.Javascript object>"
      ]
     },
     "metadata": {},
     "output_type": "display_data"
    },
    {
     "data": {
      "text/markdown": [
       "<span style=\"color:#33cc33\">Correct:</span> \n",
       "\n",
       "This condition would be pretty complicated to express using just `and`, `or` and `not`, but using boolean-to-integer conversion gives us this short solution:\n",
       "```python\n",
       "return (int(ketchup) + int(mustard) + int(onion)) == 1\n",
       "```\n",
       "\n",
       "Fun fact: we don't technically need to call `int` on the arguments. Just by doing addition with booleans, Python implicitly does the integer conversion. So we could also write...\n",
       "\n",
       "```python\n",
       "return (ketchup + mustard + onion) == 1\n",
       "```"
      ],
      "text/plain": [
       "Correct: \n",
       "\n",
       "This condition would be pretty complicated to express using just `and`, `or` and `not`, but using boolean-to-integer conversion gives us this short solution:\n",
       "```python\n",
       "return (int(ketchup) + int(mustard) + int(onion)) == 1\n",
       "```\n",
       "\n",
       "Fun fact: we don't technically need to call `int` on the arguments. Just by doing addition with booleans, Python implicitly does the integer conversion. So we could also write...\n",
       "\n",
       "```python\n",
       "return (ketchup + mustard + onion) == 1\n",
       "```"
      ]
     },
     "metadata": {},
     "output_type": "display_data"
    }
   ],
   "source": [
    "def exactly_one_topping(ketchup, mustard, onion):\n",
    "    \"\"\"Return whether the customer wants exactly one of the three available toppings\n",
    "    on their hot dog.\n",
    "    \"\"\"\n",
    "    return (ketchup + mustard + onion) == 1\n",
    "\n",
    "# Check your answer\n",
    "q6.check()"
   ]
  },
  {
   "cell_type": "code",
   "execution_count": 20,
   "id": "2defe10e",
   "metadata": {
    "execution": {
     "iopub.execute_input": "2023-11-30T14:29:28.538161Z",
     "iopub.status.busy": "2023-11-30T14:29:28.537799Z",
     "iopub.status.idle": "2023-11-30T14:29:28.544816Z",
     "shell.execute_reply": "2023-11-30T14:29:28.544032Z"
    },
    "papermill": {
     "duration": 0.02049,
     "end_time": "2023-11-30T14:29:28.546862",
     "exception": false,
     "start_time": "2023-11-30T14:29:28.526372",
     "status": "completed"
    },
    "tags": []
   },
   "outputs": [
    {
     "data": {
      "application/javascript": [
       "parent.postMessage({\"jupyterEvent\": \"custom.exercise_interaction\", \"data\": {\"interactionType\": 3, \"questionType\": 2, \"questionId\": \"6_OneTopping\", \"learnToolsVersion\": \"0.3.4\", \"valueTowardsCompletion\": 0.0, \"failureMessage\": \"\", \"exceptionClass\": \"\", \"trace\": \"\", \"outcomeType\": 4}}, \"*\")"
      ],
      "text/plain": [
       "<IPython.core.display.Javascript object>"
      ]
     },
     "metadata": {},
     "output_type": "display_data"
    },
    {
     "data": {
      "text/markdown": [
       "<span style=\"color:#33cc99\">Solution:</span> This condition would be pretty complicated to express using just `and`, `or` and `not`, but using boolean-to-integer conversion gives us this short solution:\n",
       "```python\n",
       "return (int(ketchup) + int(mustard) + int(onion)) == 1\n",
       "```\n",
       "\n",
       "Fun fact: we don't technically need to call `int` on the arguments. Just by doing addition with booleans, Python implicitly does the integer conversion. So we could also write...\n",
       "\n",
       "```python\n",
       "return (ketchup + mustard + onion) == 1\n",
       "```"
      ],
      "text/plain": [
       "Solution: This condition would be pretty complicated to express using just `and`, `or` and `not`, but using boolean-to-integer conversion gives us this short solution:\n",
       "```python\n",
       "return (int(ketchup) + int(mustard) + int(onion)) == 1\n",
       "```\n",
       "\n",
       "Fun fact: we don't technically need to call `int` on the arguments. Just by doing addition with booleans, Python implicitly does the integer conversion. So we could also write...\n",
       "\n",
       "```python\n",
       "return (ketchup + mustard + onion) == 1\n",
       "```"
      ]
     },
     "metadata": {},
     "output_type": "display_data"
    }
   ],
   "source": [
    "#q6.hint()\n",
    "q6.solution()"
   ]
  },
  {
   "cell_type": "markdown",
   "id": "ca55d81d",
   "metadata": {
    "papermill": {
     "duration": 0.009891,
     "end_time": "2023-11-30T14:29:28.567295",
     "exception": false,
     "start_time": "2023-11-30T14:29:28.557404",
     "status": "completed"
    },
    "tags": []
   },
   "source": [
    "# 7. <span title=\"A bit spicy\" style=\"color: darkgreen \">🌶️</span> (Optional)\n",
    "\n",
    "In this problem we'll be working with a simplified version of [blackjack](https://en.wikipedia.org/wiki/Blackjack) (aka twenty-one). In this version there is one player (who you'll control) and a dealer. Play proceeds as follows:\n",
    "\n",
    "- The player is dealt two face-up cards. The dealer is dealt one face-up card.\n",
    "- The player may ask to be dealt another card ('hit') as many times as they wish. If the sum of their cards exceeds 21, they lose the round immediately.\n",
    "- The dealer then deals additional cards to himself until either:\n",
    "    - the sum of the dealer's cards exceeds 21, in which case the player wins the round\n",
    "    - the sum of the dealer's cards is greater than or equal to 17. If the player's total is greater than the dealer's, the player wins. Otherwise, the dealer wins (even in case of a tie).\n",
    "    \n",
    "When calculating the sum of cards, Jack, Queen, and King count for 10. Aces can count as 1 or 11 (when referring to a player's \"total\" above, we mean the largest total that can be made without exceeding 21. So e.g. A+8 = 19, A+8+8 = 17)\n",
    "\n",
    "For this problem, you'll write a function representing the player's decision-making strategy in this game. We've provided a very unintelligent implementation below:"
   ]
  },
  {
   "cell_type": "code",
   "execution_count": 21,
   "id": "1969c3e3",
   "metadata": {
    "execution": {
     "iopub.execute_input": "2023-11-30T14:29:28.589898Z",
     "iopub.status.busy": "2023-11-30T14:29:28.588852Z",
     "iopub.status.idle": "2023-11-30T14:29:28.593871Z",
     "shell.execute_reply": "2023-11-30T14:29:28.593052Z"
    },
    "papermill": {
     "duration": 0.01805,
     "end_time": "2023-11-30T14:29:28.595584",
     "exception": false,
     "start_time": "2023-11-30T14:29:28.577534",
     "status": "completed"
    },
    "tags": []
   },
   "outputs": [],
   "source": [
    "def should_hit(dealer_total, player_total, player_low_aces, player_high_aces):\n",
    "    \"\"\"Return True if the player should hit (request another card) given the current game\n",
    "    state, or False if the player should stay.\n",
    "    When calculating a hand's total value, we count aces as \"high\" (with value 11) if doing so\n",
    "    doesn't bring the total above 21, otherwise we count them as low (with value 1). \n",
    "    For example, if the player's hand is {A, A, A, 7}, we will count it as 11 + 1 + 1 + 7,\n",
    "    and therefore set player_total=20, player_low_aces=2, player_high_aces=1.\n",
    "    \"\"\"\n",
    "    return False"
   ]
  },
  {
   "cell_type": "markdown",
   "id": "5ebf678f",
   "metadata": {
    "papermill": {
     "duration": 0.010265,
     "end_time": "2023-11-30T14:29:28.616612",
     "exception": false,
     "start_time": "2023-11-30T14:29:28.606347",
     "status": "completed"
    },
    "tags": []
   },
   "source": [
    "This very conservative agent *always* sticks with the hand of two cards that they're dealt.\n",
    "\n",
    "We'll be simulating games between your player agent and our own dealer agent by calling your function.\n",
    "\n",
    "Try running the function below to see an example of a simulated game:"
   ]
  },
  {
   "cell_type": "code",
   "execution_count": 22,
   "id": "5ec0aed6",
   "metadata": {
    "execution": {
     "iopub.execute_input": "2023-11-30T14:29:28.639299Z",
     "iopub.status.busy": "2023-11-30T14:29:28.638918Z",
     "iopub.status.idle": "2023-11-30T14:29:28.643510Z",
     "shell.execute_reply": "2023-11-30T14:29:28.642697Z"
    },
    "papermill": {
     "duration": 0.018183,
     "end_time": "2023-11-30T14:29:28.645320",
     "exception": false,
     "start_time": "2023-11-30T14:29:28.627137",
     "status": "completed"
    },
    "tags": []
   },
   "outputs": [
    {
     "name": "stdout",
     "output_type": "stream",
     "text": [
      "Player starts with Q and 3 (total = 13)\n",
      "Dealer starts with K\n",
      "\n",
      "__Player's turn__\n",
      "Player stays\n",
      "\n",
      "__Dealer's turn__\n",
      "Dealer hits and receives 5. (total = 15)\n",
      "Dealer hits and receives 10. (total = 25)\n",
      "Dealer busts! Player wins.\n"
     ]
    }
   ],
   "source": [
    "q7.simulate_one_game()"
   ]
  },
  {
   "cell_type": "markdown",
   "id": "24ec30dc",
   "metadata": {
    "papermill": {
     "duration": 0.010324,
     "end_time": "2023-11-30T14:29:28.666412",
     "exception": false,
     "start_time": "2023-11-30T14:29:28.656088",
     "status": "completed"
    },
    "tags": []
   },
   "source": [
    "The real test of your agent's mettle is their average win rate over many games. Try calling the function below to simulate 50000 games of blackjack (it may take a couple seconds):"
   ]
  },
  {
   "cell_type": "code",
   "execution_count": 23,
   "id": "cc3d3d3e",
   "metadata": {
    "execution": {
     "iopub.execute_input": "2023-11-30T14:29:28.689479Z",
     "iopub.status.busy": "2023-11-30T14:29:28.689132Z",
     "iopub.status.idle": "2023-11-30T14:29:29.952696Z",
     "shell.execute_reply": "2023-11-30T14:29:29.951303Z"
    },
    "papermill": {
     "duration": 1.277841,
     "end_time": "2023-11-30T14:29:29.955004",
     "exception": false,
     "start_time": "2023-11-30T14:29:28.677163",
     "status": "completed"
    },
    "tags": []
   },
   "outputs": [
    {
     "name": "stdout",
     "output_type": "stream",
     "text": [
      "Player won 19014 out of 50000 games (win rate = 38.0%)\n"
     ]
    }
   ],
   "source": [
    "q7.simulate(n_games=50000)"
   ]
  },
  {
   "cell_type": "markdown",
   "id": "f654096a",
   "metadata": {
    "papermill": {
     "duration": 0.010754,
     "end_time": "2023-11-30T14:29:29.976783",
     "exception": false,
     "start_time": "2023-11-30T14:29:29.966029",
     "status": "completed"
    },
    "tags": []
   },
   "source": [
    "Our dumb agent that completely ignores the game state still manages to win shockingly often!\n",
    "\n",
    "Try adding some more smarts to the `should_hit` function and see how it affects the results."
   ]
  },
  {
   "cell_type": "code",
   "execution_count": 24,
   "id": "3801b5f5",
   "metadata": {
    "execution": {
     "iopub.execute_input": "2023-11-30T14:29:30.000581Z",
     "iopub.status.busy": "2023-11-30T14:29:30.000205Z",
     "iopub.status.idle": "2023-11-30T14:29:31.277579Z",
     "shell.execute_reply": "2023-11-30T14:29:31.276212Z"
    },
    "papermill": {
     "duration": 1.292386,
     "end_time": "2023-11-30T14:29:31.279887",
     "exception": false,
     "start_time": "2023-11-30T14:29:29.987501",
     "status": "completed"
    },
    "tags": []
   },
   "outputs": [
    {
     "name": "stdout",
     "output_type": "stream",
     "text": [
      "Player won 18907 out of 50000 games (win rate = 37.8%)\n"
     ]
    }
   ],
   "source": [
    "def should_hit(dealer_total, player_total, player_low_aces, player_high_aces):\n",
    "    \"\"\"Return True if the player should hit (request another card) given the current game\n",
    "    state, or False if the player should stay.\n",
    "    When calculating a hand's total value, we count aces as \"high\" (with value 11) if doing so\n",
    "    doesn't bring the total above 21, otherwise we count them as low (with value 1). \n",
    "    For example, if the player's hand is {A, A, A, 7}, we will count it as 11 + 1 + 1 + 7,\n",
    "    and therefore set player_total=20, player_low_aces=2, player_high_aces=1.\n",
    "    \"\"\"\n",
    "    return False\n",
    "\n",
    "q7.simulate(n_games=50000)"
   ]
  },
  {
   "cell_type": "markdown",
   "id": "f95e2021",
   "metadata": {
    "papermill": {
     "duration": 0.010782,
     "end_time": "2023-11-30T14:29:31.302444",
     "exception": false,
     "start_time": "2023-11-30T14:29:31.291662",
     "status": "completed"
    },
    "tags": []
   },
   "source": [
    "# Keep Going\n",
    "\n",
    "Learn about **[lists and tuples](https://www.kaggle.com/colinmorris/lists)** to handle multiple items of data in a systematic way."
   ]
  },
  {
   "cell_type": "markdown",
   "id": "27affe94",
   "metadata": {
    "papermill": {
     "duration": 0.010447,
     "end_time": "2023-11-30T14:29:31.323547",
     "exception": false,
     "start_time": "2023-11-30T14:29:31.313100",
     "status": "completed"
    },
    "tags": []
   },
   "source": [
    "---\n",
    "\n",
    "\n",
    "\n",
    "\n",
    "*Have questions or comments? Visit the [course discussion forum](https://www.kaggle.com/learn/python/discussion) to chat with other learners.*"
   ]
  }
 ],
 "metadata": {
  "kaggle": {
   "accelerator": "none",
   "dataSources": [],
   "isGpuEnabled": false,
   "isInternetEnabled": false,
   "language": "python",
   "sourceType": "notebook"
  },
  "kernelspec": {
   "display_name": "Python 3",
   "language": "python",
   "name": "python3"
  },
  "language_info": {
   "codemirror_mode": {
    "name": "ipython",
    "version": 3
   },
   "file_extension": ".py",
   "mimetype": "text/x-python",
   "name": "python",
   "nbconvert_exporter": "python",
   "pygments_lexer": "ipython3",
   "version": "3.10.12"
  },
  "learntools_metadata": {
   "lesson_index": 2,
   "type": "exercise"
  },
  "papermill": {
   "default_parameters": {},
   "duration": 7.068342,
   "end_time": "2023-11-30T14:29:31.755497",
   "environment_variables": {},
   "exception": null,
   "input_path": "__notebook__.ipynb",
   "output_path": "__notebook__.ipynb",
   "parameters": {},
   "start_time": "2023-11-30T14:29:24.687155",
   "version": "2.4.0"
  }
 },
 "nbformat": 4,
 "nbformat_minor": 5
}
