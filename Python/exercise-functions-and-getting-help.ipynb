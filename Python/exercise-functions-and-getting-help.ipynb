{
 "cells": [
  {
   "cell_type": "markdown",
   "id": "f542251d",
   "metadata": {
    "papermill": {
     "duration": 0.005171,
     "end_time": "2023-11-29T09:27:30.977718",
     "exception": false,
     "start_time": "2023-11-29T09:27:30.972547",
     "status": "completed"
    },
    "tags": []
   },
   "source": [
    "**This notebook is an exercise in the [Python](https://www.kaggle.com/learn/python) course.  You can reference the tutorial at [this link](https://www.kaggle.com/colinmorris/functions-and-getting-help).**\n",
    "\n",
    "---\n"
   ]
  },
  {
   "cell_type": "markdown",
   "id": "b51c7741",
   "metadata": {
    "papermill": {
     "duration": 0.004397,
     "end_time": "2023-11-29T09:27:30.989828",
     "exception": false,
     "start_time": "2023-11-29T09:27:30.985431",
     "status": "completed"
    },
    "tags": []
   },
   "source": [
    "Functions are powerful. Try writing some yourself.\n",
    "\n",
    "As before, don't forget to run the setup code below before jumping into question 1."
   ]
  },
  {
   "cell_type": "code",
   "execution_count": 1,
   "id": "a2be4336",
   "metadata": {
    "_kg_hide-input": true,
    "_kg_hide-output": true,
    "execution": {
     "iopub.execute_input": "2023-11-29T09:27:31.002391Z",
     "iopub.status.busy": "2023-11-29T09:27:31.001839Z",
     "iopub.status.idle": "2023-11-29T09:27:31.507695Z",
     "shell.execute_reply": "2023-11-29T09:27:31.506533Z"
    },
    "papermill": {
     "duration": 0.516014,
     "end_time": "2023-11-29T09:27:31.510816",
     "exception": false,
     "start_time": "2023-11-29T09:27:30.994802",
     "status": "completed"
    },
    "tags": []
   },
   "outputs": [
    {
     "name": "stdout",
     "output_type": "stream",
     "text": [
      "Setup complete.\n"
     ]
    }
   ],
   "source": [
    "# SETUP. You don't need to worry for now about what this code does or how it works.\n",
    "from learntools.core import binder; binder.bind(globals())\n",
    "from learntools.python.ex2 import *\n",
    "print('Setup complete.')"
   ]
  },
  {
   "cell_type": "markdown",
   "id": "7a47b259",
   "metadata": {
    "papermill": {
     "duration": 0.004578,
     "end_time": "2023-11-29T09:27:31.522921",
     "exception": false,
     "start_time": "2023-11-29T09:27:31.518343",
     "status": "completed"
    },
    "tags": []
   },
   "source": [
    "# 1.\n",
    "\n",
    "Complete the body of the following function according to its docstring.\n",
    "\n",
    "HINT: Python has a built-in function `round`."
   ]
  },
  {
   "cell_type": "code",
   "execution_count": 2,
   "id": "a7744b15",
   "metadata": {
    "execution": {
     "iopub.execute_input": "2023-11-29T09:27:31.535256Z",
     "iopub.status.busy": "2023-11-29T09:27:31.533999Z",
     "iopub.status.idle": "2023-11-29T09:27:31.547464Z",
     "shell.execute_reply": "2023-11-29T09:27:31.546185Z"
    },
    "papermill": {
     "duration": 0.022322,
     "end_time": "2023-11-29T09:27:31.550040",
     "exception": false,
     "start_time": "2023-11-29T09:27:31.527718",
     "status": "completed"
    },
    "tags": []
   },
   "outputs": [
    {
     "data": {
      "application/javascript": [
       "parent.postMessage({\"jupyterEvent\": \"custom.exercise_interaction\", \"data\": {\"outcomeType\": 1, \"valueTowardsCompletion\": 0.16666666666666666, \"interactionType\": 1, \"questionType\": 2, \"questionId\": \"1_RoundFunctionProblem\", \"learnToolsVersion\": \"0.3.4\", \"failureMessage\": \"\", \"exceptionClass\": \"\", \"trace\": \"\"}}, \"*\")"
      ],
      "text/plain": [
       "<IPython.core.display.Javascript object>"
      ]
     },
     "metadata": {},
     "output_type": "display_data"
    },
    {
     "data": {
      "text/markdown": [
       "<span style=\"color:#33cc33\">Correct</span>"
      ],
      "text/plain": [
       "Correct"
      ]
     },
     "metadata": {},
     "output_type": "display_data"
    }
   ],
   "source": [
    "def round_to_two_places(num):\n",
    "    \"\"\"Return the given number rounded to two decimal places. \n",
    "    \n",
    "    >>> round_to_two_places(3.14159)\n",
    "    3.14\n",
    "    \"\"\"\n",
    "    # Replace this body with your own code.\n",
    "    # (\"pass\" is a keyword that does literally nothing. We used it as a placeholder\n",
    "    # because after we begin a code block, Python requires at least one line of code)\n",
    "    return round(num, 2)\n",
    "\n",
    "# Check your answer\n",
    "q1.check()"
   ]
  },
  {
   "cell_type": "code",
   "execution_count": 3,
   "id": "6a262604",
   "metadata": {
    "execution": {
     "iopub.execute_input": "2023-11-29T09:27:31.563022Z",
     "iopub.status.busy": "2023-11-29T09:27:31.562573Z",
     "iopub.status.idle": "2023-11-29T09:27:31.567496Z",
     "shell.execute_reply": "2023-11-29T09:27:31.566271Z"
    },
    "papermill": {
     "duration": 0.014359,
     "end_time": "2023-11-29T09:27:31.569980",
     "exception": false,
     "start_time": "2023-11-29T09:27:31.555621",
     "status": "completed"
    },
    "tags": []
   },
   "outputs": [],
   "source": [
    "# Uncomment the following for a hint\n",
    "#q1.hint()\n",
    "# Or uncomment the following to peek at the solution\n",
    "#q1.solution()"
   ]
  },
  {
   "cell_type": "markdown",
   "id": "770967d7",
   "metadata": {
    "papermill": {
     "duration": 0.005247,
     "end_time": "2023-11-29T09:27:31.580867",
     "exception": false,
     "start_time": "2023-11-29T09:27:31.575620",
     "status": "completed"
    },
    "tags": []
   },
   "source": [
    "# 2.\n",
    "The help for `round` says that `ndigits` (the second argument) may be negative.\n",
    "What do you think will happen when it is? Try some examples in the following cell."
   ]
  },
  {
   "cell_type": "code",
   "execution_count": 4,
   "id": "2b5583c4",
   "metadata": {
    "execution": {
     "iopub.execute_input": "2023-11-29T09:27:31.593151Z",
     "iopub.status.busy": "2023-11-29T09:27:31.592695Z",
     "iopub.status.idle": "2023-11-29T09:27:31.597893Z",
     "shell.execute_reply": "2023-11-29T09:27:31.596766Z"
    },
    "papermill": {
     "duration": 0.014037,
     "end_time": "2023-11-29T09:27:31.600188",
     "exception": false,
     "start_time": "2023-11-29T09:27:31.586151",
     "status": "completed"
    },
    "tags": []
   },
   "outputs": [],
   "source": [
    "# Put your test code here"
   ]
  },
  {
   "cell_type": "markdown",
   "id": "85c34ac4",
   "metadata": {
    "papermill": {
     "duration": 0.00471,
     "end_time": "2023-11-29T09:27:31.610175",
     "exception": false,
     "start_time": "2023-11-29T09:27:31.605465",
     "status": "completed"
    },
    "tags": []
   },
   "source": [
    "Can you think of a case where this would be useful?  Once you're ready, run the code cell below to see the answer and to receive credit for completing the problem."
   ]
  },
  {
   "cell_type": "code",
   "execution_count": 5,
   "id": "143d6f0c",
   "metadata": {
    "execution": {
     "iopub.execute_input": "2023-11-29T09:27:31.622889Z",
     "iopub.status.busy": "2023-11-29T09:27:31.622479Z",
     "iopub.status.idle": "2023-11-29T09:27:31.630856Z",
     "shell.execute_reply": "2023-11-29T09:27:31.629735Z"
    },
    "papermill": {
     "duration": 0.017128,
     "end_time": "2023-11-29T09:27:31.632960",
     "exception": false,
     "start_time": "2023-11-29T09:27:31.615832",
     "status": "completed"
    },
    "tags": []
   },
   "outputs": [
    {
     "data": {
      "application/javascript": [
       "parent.postMessage({\"jupyterEvent\": \"custom.exercise_interaction\", \"data\": {\"interactionType\": 3, \"questionType\": 4, \"questionId\": \"2_RoundNdigitsProblem\", \"learnToolsVersion\": \"0.3.4\", \"valueTowardsCompletion\": 0.0, \"failureMessage\": \"\", \"exceptionClass\": \"\", \"trace\": \"\", \"outcomeType\": 4}}, \"*\")"
      ],
      "text/plain": [
       "<IPython.core.display.Javascript object>"
      ]
     },
     "metadata": {},
     "output_type": "display_data"
    },
    {
     "data": {
      "text/markdown": [
       "<span style=\"color:#33cc99\">Solution:</span> As you've seen, `ndigits=-1` rounds to the nearest 10, `ndigits=-2` rounds to the nearest 100 and so on. Where might this be useful? Suppose we're dealing with large numbers:\n",
       "\n",
       "> The area of Finland is 338,424 km²  \n",
       "> The area of Greenland is 2,166,086 km²\n",
       "\n",
       "We probably don't care whether it's really 338,424, or 338,425, or 338,177. All those digits of accuracy are just distracting. We can chop them off by calling `round()` with `ndigits=-3`:\n",
       "\n",
       "> The area of Finland is 338,000 km²  \n",
       "> The area of Greenland is 2,166,000 km²\n",
       "\n",
       "(We'll talk about how we would get the commas later when we talk about string formatting :))\n"
      ],
      "text/plain": [
       "Solution: As you've seen, `ndigits=-1` rounds to the nearest 10, `ndigits=-2` rounds to the nearest 100 and so on. Where might this be useful? Suppose we're dealing with large numbers:\n",
       "\n",
       "> The area of Finland is 338,424 km²  \n",
       "> The area of Greenland is 2,166,086 km²\n",
       "\n",
       "We probably don't care whether it's really 338,424, or 338,425, or 338,177. All those digits of accuracy are just distracting. We can chop them off by calling `round()` with `ndigits=-3`:\n",
       "\n",
       "> The area of Finland is 338,000 km²  \n",
       "> The area of Greenland is 2,166,000 km²\n",
       "\n",
       "(We'll talk about how we would get the commas later when we talk about string formatting :))"
      ]
     },
     "metadata": {},
     "output_type": "display_data"
    }
   ],
   "source": [
    "# Check your answer (Run this code cell to receive credit!)\n",
    "q2.solution()"
   ]
  },
  {
   "cell_type": "markdown",
   "id": "2d566ee9",
   "metadata": {
    "papermill": {
     "duration": 0.005123,
     "end_time": "2023-11-29T09:27:31.643700",
     "exception": false,
     "start_time": "2023-11-29T09:27:31.638577",
     "status": "completed"
    },
    "tags": []
   },
   "source": [
    "# 3.\n",
    "\n",
    "In the previous exercise, the candy-sharing friends Alice, Bob and Carol tried to split candies evenly. For the sake of their friendship, any candies left over would be smashed. For example, if they collectively bring home 91 candies, they'll take 30 each and smash 1.\n",
    "\n",
    "Below is a simple function that will calculate the number of candies to smash for *any* number of total candies.\n",
    "\n",
    "Modify it so that it optionally takes a second argument representing the number of friends the candies are being split between. If no second argument is provided, it should assume 3 friends, as before.\n",
    "\n",
    "Update the docstring to reflect this new behaviour."
   ]
  },
  {
   "cell_type": "code",
   "execution_count": 6,
   "id": "32c78027",
   "metadata": {
    "execution": {
     "iopub.execute_input": "2023-11-29T09:27:31.657152Z",
     "iopub.status.busy": "2023-11-29T09:27:31.656284Z",
     "iopub.status.idle": "2023-11-29T09:27:31.666297Z",
     "shell.execute_reply": "2023-11-29T09:27:31.665205Z"
    },
    "papermill": {
     "duration": 0.020015,
     "end_time": "2023-11-29T09:27:31.668972",
     "exception": false,
     "start_time": "2023-11-29T09:27:31.648957",
     "status": "completed"
    },
    "tags": []
   },
   "outputs": [
    {
     "data": {
      "application/javascript": [
       "parent.postMessage({\"jupyterEvent\": \"custom.exercise_interaction\", \"data\": {\"outcomeType\": 1, \"valueTowardsCompletion\": 0.16666666666666666, \"interactionType\": 1, \"questionType\": 2, \"questionId\": \"3_CandySmashingFunctionProblem\", \"learnToolsVersion\": \"0.3.4\", \"failureMessage\": \"\", \"exceptionClass\": \"\", \"trace\": \"\"}}, \"*\")"
      ],
      "text/plain": [
       "<IPython.core.display.Javascript object>"
      ]
     },
     "metadata": {},
     "output_type": "display_data"
    },
    {
     "data": {
      "text/markdown": [
       "<span style=\"color:#33cc33\">Correct</span>"
      ],
      "text/plain": [
       "Correct"
      ]
     },
     "metadata": {},
     "output_type": "display_data"
    }
   ],
   "source": [
    "def to_smash(total_candies, n_friend=3):\n",
    "    \"\"\"Return the number of leftover candies that must be smashed after distributing\n",
    "    the given number of candies evenly between 3 friends.\n",
    "    \n",
    "    >>> to_smash(91)\n",
    "    1\n",
    "    \"\"\"\n",
    "    return total_candies % n_friend\n",
    "\n",
    "# Check your answer\n",
    "q3.check()"
   ]
  },
  {
   "cell_type": "code",
   "execution_count": 7,
   "id": "ddf63be6",
   "metadata": {
    "execution": {
     "iopub.execute_input": "2023-11-29T09:27:31.684145Z",
     "iopub.status.busy": "2023-11-29T09:27:31.683288Z",
     "iopub.status.idle": "2023-11-29T09:27:31.688581Z",
     "shell.execute_reply": "2023-11-29T09:27:31.687566Z"
    },
    "papermill": {
     "duration": 0.016698,
     "end_time": "2023-11-29T09:27:31.691938",
     "exception": false,
     "start_time": "2023-11-29T09:27:31.675240",
     "status": "completed"
    },
    "tags": []
   },
   "outputs": [],
   "source": [
    "#q3.hint()"
   ]
  },
  {
   "cell_type": "code",
   "execution_count": 8,
   "id": "1e3b13ec",
   "metadata": {
    "execution": {
     "iopub.execute_input": "2023-11-29T09:27:31.706425Z",
     "iopub.status.busy": "2023-11-29T09:27:31.705961Z",
     "iopub.status.idle": "2023-11-29T09:27:31.710978Z",
     "shell.execute_reply": "2023-11-29T09:27:31.709665Z"
    },
    "papermill": {
     "duration": 0.01504,
     "end_time": "2023-11-29T09:27:31.713309",
     "exception": false,
     "start_time": "2023-11-29T09:27:31.698269",
     "status": "completed"
    },
    "tags": []
   },
   "outputs": [],
   "source": [
    "# q3.solution()"
   ]
  },
  {
   "cell_type": "markdown",
   "id": "c429fb7c",
   "metadata": {
    "papermill": {
     "duration": 0.005444,
     "end_time": "2023-11-29T09:27:31.725033",
     "exception": false,
     "start_time": "2023-11-29T09:27:31.719589",
     "status": "completed"
    },
    "tags": []
   },
   "source": [
    "# 4. (Optional)\n",
    "\n",
    "It may not be fun, but reading and understanding error messages will be an important part of your Python career.\n",
    "\n",
    "Each code cell below contains some commented buggy code. For each cell...\n",
    "\n",
    "1. Read the code and predict what you think will happen when it's run.\n",
    "2. Then uncomment the code and run it to see what happens. (**Tip**: In the kernel editor, you can highlight several lines and press `ctrl`+`/` to toggle commenting.)\n",
    "3. Fix the code (so that it accomplishes its intended purpose without throwing an exception)\n",
    "\n",
    "<!-- TODO: should this be autochecked? Delta is probably pretty small. -->"
   ]
  },
  {
   "cell_type": "code",
   "execution_count": 9,
   "id": "a23a3e0e",
   "metadata": {
    "execution": {
     "iopub.execute_input": "2023-11-29T09:27:31.738992Z",
     "iopub.status.busy": "2023-11-29T09:27:31.738005Z",
     "iopub.status.idle": "2023-11-29T09:27:31.743104Z",
     "shell.execute_reply": "2023-11-29T09:27:31.741926Z"
    },
    "papermill": {
     "duration": 0.014509,
     "end_time": "2023-11-29T09:27:31.745398",
     "exception": false,
     "start_time": "2023-11-29T09:27:31.730889",
     "status": "completed"
    },
    "tags": []
   },
   "outputs": [],
   "source": [
    "# ruound_to_two_places(9.9999)"
   ]
  },
  {
   "cell_type": "code",
   "execution_count": 10,
   "id": "43ffc030",
   "metadata": {
    "execution": {
     "iopub.execute_input": "2023-11-29T09:27:31.760984Z",
     "iopub.status.busy": "2023-11-29T09:27:31.759918Z",
     "iopub.status.idle": "2023-11-29T09:27:31.765597Z",
     "shell.execute_reply": "2023-11-29T09:27:31.764102Z"
    },
    "papermill": {
     "duration": 0.015791,
     "end_time": "2023-11-29T09:27:31.768155",
     "exception": false,
     "start_time": "2023-11-29T09:27:31.752364",
     "status": "completed"
    },
    "tags": []
   },
   "outputs": [],
   "source": [
    "# x = -10\n",
    "# y = 5\n",
    "# # Which of the two variables above has the smallest absolute value?\n",
    "# smallest_abs = min(abs(x, y))"
   ]
  },
  {
   "cell_type": "code",
   "execution_count": 11,
   "id": "edefcb02",
   "metadata": {
    "execution": {
     "iopub.execute_input": "2023-11-29T09:27:31.782303Z",
     "iopub.status.busy": "2023-11-29T09:27:31.781852Z",
     "iopub.status.idle": "2023-11-29T09:27:31.787112Z",
     "shell.execute_reply": "2023-11-29T09:27:31.785853Z"
    },
    "papermill": {
     "duration": 0.015524,
     "end_time": "2023-11-29T09:27:31.790037",
     "exception": false,
     "start_time": "2023-11-29T09:27:31.774513",
     "status": "completed"
    },
    "tags": []
   },
   "outputs": [],
   "source": [
    "# def f(x):\n",
    "#     y = abs(x)\n",
    "# return y\n",
    "\n",
    "# print(f(5))"
   ]
  },
  {
   "cell_type": "markdown",
   "id": "83a1ac4b",
   "metadata": {
    "papermill": {
     "duration": 0.006079,
     "end_time": "2023-11-29T09:27:31.802522",
     "exception": false,
     "start_time": "2023-11-29T09:27:31.796443",
     "status": "completed"
    },
    "tags": []
   },
   "source": [
    "# Keep Going\n",
    "\n",
    "Nice job with the code. Next up, you'll learn about *conditionals*, which you'll need to **[write interesting programs](https://www.kaggle.com/colinmorris/booleans-and-conditionals)**. "
   ]
  },
  {
   "cell_type": "markdown",
   "id": "e41a8ad0",
   "metadata": {
    "papermill": {
     "duration": 0.005346,
     "end_time": "2023-11-29T09:27:31.813726",
     "exception": false,
     "start_time": "2023-11-29T09:27:31.808380",
     "status": "completed"
    },
    "tags": []
   },
   "source": [
    "---\n",
    "\n",
    "\n",
    "\n",
    "\n",
    "*Have questions or comments? Visit the [course discussion forum](https://www.kaggle.com/learn/python/discussion) to chat with other learners.*"
   ]
  }
 ],
 "metadata": {
  "kaggle": {
   "accelerator": "none",
   "dataSources": [],
   "isGpuEnabled": false,
   "isInternetEnabled": false,
   "language": "python",
   "sourceType": "notebook"
  },
  "kernelspec": {
   "display_name": "Python 3",
   "language": "python",
   "name": "python3"
  },
  "language_info": {
   "codemirror_mode": {
    "name": "ipython",
    "version": 3
   },
   "file_extension": ".py",
   "mimetype": "text/x-python",
   "name": "python",
   "nbconvert_exporter": "python",
   "pygments_lexer": "ipython3",
   "version": "3.10.12"
  },
  "papermill": {
   "default_parameters": {},
   "duration": 5.164748,
   "end_time": "2023-11-29T09:27:32.542259",
   "environment_variables": {},
   "exception": null,
   "input_path": "__notebook__.ipynb",
   "output_path": "__notebook__.ipynb",
   "parameters": {},
   "start_time": "2023-11-29T09:27:27.377511",
   "version": "2.4.0"
  }
 },
 "nbformat": 4,
 "nbformat_minor": 5
}
