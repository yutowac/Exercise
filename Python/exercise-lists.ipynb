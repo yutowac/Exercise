{
 "cells": [
  {
   "cell_type": "markdown",
   "id": "f86a878b",
   "metadata": {
    "papermill": {
     "duration": 0.007046,
     "end_time": "2023-12-01T14:43:07.376111",
     "exception": false,
     "start_time": "2023-12-01T14:43:07.369065",
     "status": "completed"
    },
    "tags": []
   },
   "source": [
    "**This notebook is an exercise in the [Python](https://www.kaggle.com/learn/python) course.  You can reference the tutorial at [this link](https://www.kaggle.com/colinmorris/lists).**\n",
    "\n",
    "---\n"
   ]
  },
  {
   "cell_type": "markdown",
   "id": "cc530111",
   "metadata": {
    "papermill": {
     "duration": 0.006307,
     "end_time": "2023-12-01T14:43:07.391249",
     "exception": false,
     "start_time": "2023-12-01T14:43:07.384942",
     "status": "completed"
    },
    "tags": []
   },
   "source": [
    "Things get more interesting with lists. You'll apply your new knowledge to solve the questions below. Remember to run the following cell first."
   ]
  },
  {
   "cell_type": "code",
   "execution_count": 1,
   "id": "95dfd66a",
   "metadata": {
    "execution": {
     "iopub.execute_input": "2023-12-01T14:43:07.407127Z",
     "iopub.status.busy": "2023-12-01T14:43:07.406394Z",
     "iopub.status.idle": "2023-12-01T14:43:07.901789Z",
     "shell.execute_reply": "2023-12-01T14:43:07.900254Z"
    },
    "papermill": {
     "duration": 0.506729,
     "end_time": "2023-12-01T14:43:07.904655",
     "exception": false,
     "start_time": "2023-12-01T14:43:07.397926",
     "status": "completed"
    },
    "tags": []
   },
   "outputs": [
    {
     "name": "stdout",
     "output_type": "stream",
     "text": [
      "Setup complete.\n"
     ]
    }
   ],
   "source": [
    "from learntools.core import binder; binder.bind(globals())\n",
    "from learntools.python.ex4 import *\n",
    "print('Setup complete.')"
   ]
  },
  {
   "cell_type": "markdown",
   "id": "3ba7b400",
   "metadata": {
    "papermill": {
     "duration": 0.006393,
     "end_time": "2023-12-01T14:43:07.917882",
     "exception": false,
     "start_time": "2023-12-01T14:43:07.911489",
     "status": "completed"
    },
    "tags": []
   },
   "source": [
    "# 1.\n",
    "\n",
    "Complete the function below according to its docstring."
   ]
  },
  {
   "cell_type": "code",
   "execution_count": 2,
   "id": "f6192284",
   "metadata": {
    "execution": {
     "iopub.execute_input": "2023-12-01T14:43:07.933263Z",
     "iopub.status.busy": "2023-12-01T14:43:07.932735Z",
     "iopub.status.idle": "2023-12-01T14:43:07.943998Z",
     "shell.execute_reply": "2023-12-01T14:43:07.943137Z"
    },
    "papermill": {
     "duration": 0.021622,
     "end_time": "2023-12-01T14:43:07.946078",
     "exception": false,
     "start_time": "2023-12-01T14:43:07.924456",
     "status": "completed"
    },
    "tags": []
   },
   "outputs": [
    {
     "data": {
      "application/javascript": [
       "parent.postMessage({\"jupyterEvent\": \"custom.exercise_interaction\", \"data\": {\"outcomeType\": 1, \"valueTowardsCompletion\": 0.2, \"interactionType\": 1, \"questionType\": 2, \"questionId\": \"1_SelectSecondItem\", \"learnToolsVersion\": \"0.3.4\", \"failureMessage\": \"\", \"exceptionClass\": \"\", \"trace\": \"\"}}, \"*\")"
      ],
      "text/plain": [
       "<IPython.core.display.Javascript object>"
      ]
     },
     "metadata": {},
     "output_type": "display_data"
    },
    {
     "data": {
      "text/markdown": [
       "<span style=\"color:#33cc33\">Correct</span>"
      ],
      "text/plain": [
       "Correct"
      ]
     },
     "metadata": {},
     "output_type": "display_data"
    }
   ],
   "source": [
    "def select_second(L):\n",
    "    \"\"\"Return the second element of the given list. If the list has no second\n",
    "    element, return None.\n",
    "    \"\"\"\n",
    "    if len(L)>1:\n",
    "        return L[1]\n",
    "    else:\n",
    "        return None\n",
    "\n",
    "# Check your answer\n",
    "q1.check()"
   ]
  },
  {
   "cell_type": "code",
   "execution_count": 3,
   "id": "b794267b",
   "metadata": {
    "execution": {
     "iopub.execute_input": "2023-12-01T14:43:07.962417Z",
     "iopub.status.busy": "2023-12-01T14:43:07.961496Z",
     "iopub.status.idle": "2023-12-01T14:43:07.966464Z",
     "shell.execute_reply": "2023-12-01T14:43:07.965347Z"
    },
    "papermill": {
     "duration": 0.015749,
     "end_time": "2023-12-01T14:43:07.968786",
     "exception": false,
     "start_time": "2023-12-01T14:43:07.953037",
     "status": "completed"
    },
    "tags": []
   },
   "outputs": [],
   "source": [
    "#q1.hint()\n",
    "#q1.solution()"
   ]
  },
  {
   "cell_type": "markdown",
   "id": "74c918cc",
   "metadata": {
    "papermill": {
     "duration": 0.006685,
     "end_time": "2023-12-01T14:43:07.982594",
     "exception": false,
     "start_time": "2023-12-01T14:43:07.975909",
     "status": "completed"
    },
    "tags": []
   },
   "source": [
    "# 2.\n",
    "\n",
    "You are analyzing sports teams.  Members of each team are stored in a list. The Coach is the first name in the list, the captain is the second name in the list, and other players are listed after that. \n",
    "These lists are stored in another list, which starts with the best team and proceeds through the list to the worst team last.  Complete the function below to select the **captain** of the worst team."
   ]
  },
  {
   "cell_type": "code",
   "execution_count": 4,
   "id": "1db116ad",
   "metadata": {
    "execution": {
     "iopub.execute_input": "2023-12-01T14:43:07.998870Z",
     "iopub.status.busy": "2023-12-01T14:43:07.997897Z",
     "iopub.status.idle": "2023-12-01T14:43:08.009079Z",
     "shell.execute_reply": "2023-12-01T14:43:08.007858Z"
    },
    "papermill": {
     "duration": 0.021951,
     "end_time": "2023-12-01T14:43:08.011504",
     "exception": false,
     "start_time": "2023-12-01T14:43:07.989553",
     "status": "completed"
    },
    "tags": []
   },
   "outputs": [
    {
     "data": {
      "application/javascript": [
       "parent.postMessage({\"jupyterEvent\": \"custom.exercise_interaction\", \"data\": {\"outcomeType\": 1, \"valueTowardsCompletion\": 0.2, \"interactionType\": 1, \"questionType\": 2, \"questionId\": \"2_LosingTeamCaptain\", \"learnToolsVersion\": \"0.3.4\", \"failureMessage\": \"\", \"exceptionClass\": \"\", \"trace\": \"\"}}, \"*\")"
      ],
      "text/plain": [
       "<IPython.core.display.Javascript object>"
      ]
     },
     "metadata": {},
     "output_type": "display_data"
    },
    {
     "data": {
      "text/markdown": [
       "<span style=\"color:#33cc33\">Correct</span>"
      ],
      "text/plain": [
       "Correct"
      ]
     },
     "metadata": {},
     "output_type": "display_data"
    }
   ],
   "source": [
    "def losing_team_captain(teams):\n",
    "    \"\"\"Given a list of teams, where each team is a list of names, return the 2nd player (captain)\n",
    "    from the last listed team\n",
    "    \"\"\"\n",
    "    return teams[-1][1]\n",
    "\n",
    "# Check your answer\n",
    "q2.check()"
   ]
  },
  {
   "cell_type": "code",
   "execution_count": 5,
   "id": "f5df4087",
   "metadata": {
    "execution": {
     "iopub.execute_input": "2023-12-01T14:43:08.028407Z",
     "iopub.status.busy": "2023-12-01T14:43:08.027934Z",
     "iopub.status.idle": "2023-12-01T14:43:08.033148Z",
     "shell.execute_reply": "2023-12-01T14:43:08.031904Z"
    },
    "papermill": {
     "duration": 0.016579,
     "end_time": "2023-12-01T14:43:08.035638",
     "exception": false,
     "start_time": "2023-12-01T14:43:08.019059",
     "status": "completed"
    },
    "tags": []
   },
   "outputs": [],
   "source": [
    "#q2.hint()\n",
    "#q2.solution()"
   ]
  },
  {
   "cell_type": "markdown",
   "id": "bab2192a",
   "metadata": {
    "papermill": {
     "duration": 0.007256,
     "end_time": "2023-12-01T14:43:08.050416",
     "exception": false,
     "start_time": "2023-12-01T14:43:08.043160",
     "status": "completed"
    },
    "tags": []
   },
   "source": [
    "# 3.\n",
    "\n",
    "The next iteration of Mario Kart will feature an extra-infuriating new item, the *Purple Shell*. When used, it warps the last place racer into first place and the first place racer into last place. Complete the function below to implement the Purple Shell's effect."
   ]
  },
  {
   "cell_type": "code",
   "execution_count": 6,
   "id": "7c66e40e",
   "metadata": {
    "execution": {
     "iopub.execute_input": "2023-12-01T14:43:08.067099Z",
     "iopub.status.busy": "2023-12-01T14:43:08.066650Z",
     "iopub.status.idle": "2023-12-01T14:43:08.078193Z",
     "shell.execute_reply": "2023-12-01T14:43:08.077013Z"
    },
    "papermill": {
     "duration": 0.023103,
     "end_time": "2023-12-01T14:43:08.080891",
     "exception": false,
     "start_time": "2023-12-01T14:43:08.057788",
     "status": "completed"
    },
    "tags": []
   },
   "outputs": [
    {
     "data": {
      "application/javascript": [
       "parent.postMessage({\"jupyterEvent\": \"custom.exercise_interaction\", \"data\": {\"outcomeType\": 1, \"valueTowardsCompletion\": 0.2, \"interactionType\": 1, \"questionType\": 2, \"questionId\": \"3_PurpleShell\", \"learnToolsVersion\": \"0.3.4\", \"failureMessage\": \"\", \"exceptionClass\": \"\", \"trace\": \"\"}}, \"*\")"
      ],
      "text/plain": [
       "<IPython.core.display.Javascript object>"
      ]
     },
     "metadata": {},
     "output_type": "display_data"
    },
    {
     "data": {
      "text/markdown": [
       "<span style=\"color:#33cc33\">Correct</span>"
      ],
      "text/plain": [
       "Correct"
      ]
     },
     "metadata": {},
     "output_type": "display_data"
    }
   ],
   "source": [
    "def purple_shell(racers):\n",
    "    \"\"\"Given a list of racers, set the first place racer (at the front of the list) to last\n",
    "    place and vice versa.\n",
    "    \n",
    "    >>> r = [\"Mario\", \"Bowser\", \"Luigi\"]\n",
    "    >>> purple_shell(r)\n",
    "    >>> r\n",
    "    [\"Luigi\", \"Bowser\", \"Mario\"]\n",
    "    \"\"\"\n",
    "    first = racers[0]\n",
    "    last = racers[-1]\n",
    "    racers[0] = last\n",
    "    racers[-1] = first\n",
    "\n",
    "# Check your answer\n",
    "q3.check()"
   ]
  },
  {
   "cell_type": "code",
   "execution_count": 7,
   "id": "7036e5a2",
   "metadata": {
    "execution": {
     "iopub.execute_input": "2023-12-01T14:43:08.101454Z",
     "iopub.status.busy": "2023-12-01T14:43:08.101035Z",
     "iopub.status.idle": "2023-12-01T14:43:08.105900Z",
     "shell.execute_reply": "2023-12-01T14:43:08.104711Z"
    },
    "papermill": {
     "duration": 0.017331,
     "end_time": "2023-12-01T14:43:08.108316",
     "exception": false,
     "start_time": "2023-12-01T14:43:08.090985",
     "status": "completed"
    },
    "tags": []
   },
   "outputs": [],
   "source": [
    "#q3.hint()\n",
    "#q3.solution()"
   ]
  },
  {
   "cell_type": "markdown",
   "id": "a2772c56",
   "metadata": {
    "papermill": {
     "duration": 0.007485,
     "end_time": "2023-12-01T14:43:08.124069",
     "exception": false,
     "start_time": "2023-12-01T14:43:08.116584",
     "status": "completed"
    },
    "tags": []
   },
   "source": [
    "# 4.\n",
    "\n",
    "What are the lengths of the following lists? Fill in the variable `lengths` with your predictions. (Try to make a prediction for each list *without* just calling `len()` on it.)"
   ]
  },
  {
   "cell_type": "code",
   "execution_count": 8,
   "id": "a22c6068",
   "metadata": {
    "execution": {
     "iopub.execute_input": "2023-12-01T14:43:08.143018Z",
     "iopub.status.busy": "2023-12-01T14:43:08.142588Z",
     "iopub.status.idle": "2023-12-01T14:43:08.153762Z",
     "shell.execute_reply": "2023-12-01T14:43:08.152577Z"
    },
    "papermill": {
     "duration": 0.02415,
     "end_time": "2023-12-01T14:43:08.157040",
     "exception": false,
     "start_time": "2023-12-01T14:43:08.132890",
     "status": "completed"
    },
    "tags": []
   },
   "outputs": [
    {
     "data": {
      "application/javascript": [
       "parent.postMessage({\"jupyterEvent\": \"custom.exercise_interaction\", \"data\": {\"outcomeType\": 1, \"valueTowardsCompletion\": 0.2, \"interactionType\": 1, \"questionType\": 1, \"questionId\": \"4_UnderstandLen\", \"learnToolsVersion\": \"0.3.4\", \"failureMessage\": \"\", \"exceptionClass\": \"\", \"trace\": \"\"}}, \"*\")"
      ],
      "text/plain": [
       "<IPython.core.display.Javascript object>"
      ]
     },
     "metadata": {},
     "output_type": "display_data"
    },
    {
     "data": {
      "text/markdown": [
       "<span style=\"color:#33cc33\">Correct:</span> \n",
       "\n",
       "\n",
       "- a: There are three items in this list. Nothing tricky yet.\n",
       "- b: The list `[2, 3]` counts as a single item. It has one item before it. So we have 2 items in the list\n",
       "- c: The empty list has 0 items\n",
       "- d: The expression is the same as the list `[2, 3]`, which has length 2."
      ],
      "text/plain": [
       "Correct: \n",
       "\n",
       "\n",
       "- a: There are three items in this list. Nothing tricky yet.\n",
       "- b: The list `[2, 3]` counts as a single item. It has one item before it. So we have 2 items in the list\n",
       "- c: The empty list has 0 items\n",
       "- d: The expression is the same as the list `[2, 3]`, which has length 2."
      ]
     },
     "metadata": {},
     "output_type": "display_data"
    }
   ],
   "source": [
    "a = [1, 2, 3]\n",
    "b = [1, [2, 3]]\n",
    "c = []\n",
    "d = [1, 2, 3][1:]\n",
    "\n",
    "# Put your predictions in the list below. Lengths should contain 4 numbers, the\n",
    "# first being the length of a, the second being the length of b and so on.\n",
    "lengths = [3,2,0,2]\n",
    "\n",
    "# Check your answer\n",
    "q4.check()"
   ]
  },
  {
   "cell_type": "code",
   "execution_count": 9,
   "id": "d87b0c08",
   "metadata": {
    "execution": {
     "iopub.execute_input": "2023-12-01T14:43:08.176728Z",
     "iopub.status.busy": "2023-12-01T14:43:08.176174Z",
     "iopub.status.idle": "2023-12-01T14:43:08.181822Z",
     "shell.execute_reply": "2023-12-01T14:43:08.180267Z"
    },
    "papermill": {
     "duration": 0.019077,
     "end_time": "2023-12-01T14:43:08.184791",
     "exception": false,
     "start_time": "2023-12-01T14:43:08.165714",
     "status": "completed"
    },
    "tags": []
   },
   "outputs": [],
   "source": [
    "# line below provides some explanation\n",
    "#q4.solution()"
   ]
  },
  {
   "cell_type": "markdown",
   "id": "c448b290",
   "metadata": {
    "papermill": {
     "duration": 0.007944,
     "end_time": "2023-12-01T14:43:08.200981",
     "exception": false,
     "start_time": "2023-12-01T14:43:08.193037",
     "status": "completed"
    },
    "tags": []
   },
   "source": [
    "# 5. <span title=\"A bit spicy\" style=\"color: darkgreen \">🌶️</span>\n",
    "\n",
    "We're using lists to record people who attended our party and what order they arrived in. For example, the following list represents a party with 7 guests, in which Adela showed up first and Ford was the last to arrive:\n",
    "\n",
    "    party_attendees = ['Adela', 'Fleda', 'Owen', 'May', 'Mona', 'Gilbert', 'Ford']\n",
    "\n",
    "A guest is considered 'fashionably late' if they arrived after at least half of the party's guests. However, they must not be the very last guest (that's taking it too far). In the above example, Mona and Gilbert are the only guests who were fashionably late.\n",
    "\n",
    "Complete the function below which takes a list of party attendees as well as a person, and tells us whether that person is fashionably late."
   ]
  },
  {
   "cell_type": "code",
   "execution_count": 10,
   "id": "7a743593",
   "metadata": {
    "execution": {
     "iopub.execute_input": "2023-12-01T14:43:08.219616Z",
     "iopub.status.busy": "2023-12-01T14:43:08.219170Z",
     "iopub.status.idle": "2023-12-01T14:43:08.229779Z",
     "shell.execute_reply": "2023-12-01T14:43:08.228521Z"
    },
    "papermill": {
     "duration": 0.023379,
     "end_time": "2023-12-01T14:43:08.232611",
     "exception": false,
     "start_time": "2023-12-01T14:43:08.209232",
     "status": "completed"
    },
    "tags": []
   },
   "outputs": [
    {
     "data": {
      "application/javascript": [
       "parent.postMessage({\"jupyterEvent\": \"custom.exercise_interaction\", \"data\": {\"outcomeType\": 1, \"valueTowardsCompletion\": 0.2, \"interactionType\": 1, \"questionType\": 2, \"questionId\": \"5_FashionablyLate\", \"learnToolsVersion\": \"0.3.4\", \"failureMessage\": \"\", \"exceptionClass\": \"\", \"trace\": \"\"}}, \"*\")"
      ],
      "text/plain": [
       "<IPython.core.display.Javascript object>"
      ]
     },
     "metadata": {},
     "output_type": "display_data"
    },
    {
     "data": {
      "text/markdown": [
       "<span style=\"color:#33cc33\">Correct</span>"
      ],
      "text/plain": [
       "Correct"
      ]
     },
     "metadata": {},
     "output_type": "display_data"
    }
   ],
   "source": [
    "def fashionably_late(arrivals, name):\n",
    "    \"\"\"Given an ordered list of arrivals to the party and a name, return whether the guest with that\n",
    "    name was fashionably late.\n",
    "    \"\"\"\n",
    "    order = arrivals.index(name)\n",
    "    return order >= len(arrivals) / 2 and len(arrivals)!=order+1\n",
    "\n",
    "# Check your answer\n",
    "q5.check()"
   ]
  },
  {
   "cell_type": "code",
   "execution_count": 11,
   "id": "0e0521b7",
   "metadata": {
    "execution": {
     "iopub.execute_input": "2023-12-01T14:43:08.251409Z",
     "iopub.status.busy": "2023-12-01T14:43:08.251012Z",
     "iopub.status.idle": "2023-12-01T14:43:08.255700Z",
     "shell.execute_reply": "2023-12-01T14:43:08.254539Z"
    },
    "papermill": {
     "duration": 0.017112,
     "end_time": "2023-12-01T14:43:08.258282",
     "exception": false,
     "start_time": "2023-12-01T14:43:08.241170",
     "status": "completed"
    },
    "tags": []
   },
   "outputs": [],
   "source": [
    "#q5.hint()\n",
    "#q5.solution()"
   ]
  },
  {
   "cell_type": "markdown",
   "id": "64791e45",
   "metadata": {
    "papermill": {
     "duration": 0.00844,
     "end_time": "2023-12-01T14:43:08.275522",
     "exception": false,
     "start_time": "2023-12-01T14:43:08.267082",
     "status": "completed"
    },
    "tags": []
   },
   "source": [
    "# Keep Going\n",
    "\n",
    "That's it for lists and tuples! Now you have the baseline knowledge to **[learn about loops](https://www.kaggle.com/colinmorris/loops-and-list-comprehensions)**, which is where lists and tuples get really interesting. "
   ]
  },
  {
   "cell_type": "markdown",
   "id": "6cb41dec",
   "metadata": {
    "papermill": {
     "duration": 0.008138,
     "end_time": "2023-12-01T14:43:08.292095",
     "exception": false,
     "start_time": "2023-12-01T14:43:08.283957",
     "status": "completed"
    },
    "tags": []
   },
   "source": [
    "---\n",
    "\n",
    "\n",
    "\n",
    "\n",
    "*Have questions or comments? Visit the [course discussion forum](https://www.kaggle.com/learn/python/discussion) to chat with other learners.*"
   ]
  }
 ],
 "metadata": {
  "kaggle": {
   "accelerator": "none",
   "dataSources": [],
   "isGpuEnabled": false,
   "isInternetEnabled": false,
   "language": "python",
   "sourceType": "notebook"
  },
  "kernelspec": {
   "display_name": "Python 3",
   "language": "python",
   "name": "python3"
  },
  "language_info": {
   "codemirror_mode": {
    "name": "ipython",
    "version": 3
   },
   "file_extension": ".py",
   "mimetype": "text/x-python",
   "name": "python",
   "nbconvert_exporter": "python",
   "pygments_lexer": "ipython3",
   "version": "3.10.12"
  },
  "learntools_metadata": {
   "lesson_index": 3,
   "type": "exercise"
  },
  "papermill": {
   "default_parameters": {},
   "duration": 5.097284,
   "end_time": "2023-12-01T14:43:08.821917",
   "environment_variables": {},
   "exception": null,
   "input_path": "__notebook__.ipynb",
   "output_path": "__notebook__.ipynb",
   "parameters": {},
   "start_time": "2023-12-01T14:43:03.724633",
   "version": "2.4.0"
  }
 },
 "nbformat": 4,
 "nbformat_minor": 5
}
