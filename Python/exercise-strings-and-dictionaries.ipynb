{
 "cells": [
  {
   "cell_type": "markdown",
   "id": "a00cb7b6",
   "metadata": {
    "papermill": {
     "duration": 0.009309,
     "end_time": "2023-12-03T14:24:15.206583",
     "exception": false,
     "start_time": "2023-12-03T14:24:15.197274",
     "status": "completed"
    },
    "tags": []
   },
   "source": [
    "**This notebook is an exercise in the [Python](https://www.kaggle.com/learn/python) course.  You can reference the tutorial at [this link](https://www.kaggle.com/colinmorris/strings-and-dictionaries).**\n",
    "\n",
    "---\n"
   ]
  },
  {
   "cell_type": "markdown",
   "id": "b8bc8a6f",
   "metadata": {
    "papermill": {
     "duration": 0.005157,
     "end_time": "2023-12-03T14:24:15.217465",
     "exception": false,
     "start_time": "2023-12-03T14:24:15.212308",
     "status": "completed"
    },
    "tags": []
   },
   "source": [
    "You are almost done with the course. Nice job!\n",
    "\n",
    "We have a couple more interesting problems for you before you go. \n",
    "\n",
    "As always, run the setup code below before working on the questions."
   ]
  },
  {
   "cell_type": "code",
   "execution_count": 1,
   "id": "05dcbd98",
   "metadata": {
    "execution": {
     "iopub.execute_input": "2023-12-03T14:24:15.231208Z",
     "iopub.status.busy": "2023-12-03T14:24:15.230657Z",
     "iopub.status.idle": "2023-12-03T14:24:15.742225Z",
     "shell.execute_reply": "2023-12-03T14:24:15.740667Z"
    },
    "papermill": {
     "duration": 0.522344,
     "end_time": "2023-12-03T14:24:15.745473",
     "exception": false,
     "start_time": "2023-12-03T14:24:15.223129",
     "status": "completed"
    },
    "tags": []
   },
   "outputs": [
    {
     "name": "stdout",
     "output_type": "stream",
     "text": [
      "Setup complete.\n"
     ]
    }
   ],
   "source": [
    "from learntools.core import binder; binder.bind(globals())\n",
    "from learntools.python.ex6 import *\n",
    "print('Setup complete.')"
   ]
  },
  {
   "cell_type": "markdown",
   "id": "9c4a8703",
   "metadata": {
    "papermill": {
     "duration": 0.005496,
     "end_time": "2023-12-03T14:24:15.756758",
     "exception": false,
     "start_time": "2023-12-03T14:24:15.751262",
     "status": "completed"
    },
    "tags": []
   },
   "source": [
    "Let's start with a string lightning round to warm up. What are the lengths of the strings below?\n",
    "\n",
    "For each of the five strings below, predict what `len()` would return when passed that string. Use the variable `length` to record your answer, then run the cell to check whether you were right.  \n",
    "\n",
    "# 0a."
   ]
  },
  {
   "cell_type": "code",
   "execution_count": 2,
   "id": "9a2cdb8e",
   "metadata": {
    "execution": {
     "iopub.execute_input": "2023-12-03T14:24:15.771710Z",
     "iopub.status.busy": "2023-12-03T14:24:15.771082Z",
     "iopub.status.idle": "2023-12-03T14:24:15.783603Z",
     "shell.execute_reply": "2023-12-03T14:24:15.782161Z"
    },
    "papermill": {
     "duration": 0.023163,
     "end_time": "2023-12-03T14:24:15.786049",
     "exception": false,
     "start_time": "2023-12-03T14:24:15.762886",
     "status": "completed"
    },
    "tags": []
   },
   "outputs": [
    {
     "data": {
      "application/javascript": [
       "parent.postMessage({\"jupyterEvent\": \"custom.exercise_interaction\", \"data\": {\"outcomeType\": 1, \"valueTowardsCompletion\": 0.3333333333333333, \"interactionType\": 1, \"questionType\": 1, \"questionId\": \"0.1_ZA\", \"learnToolsVersion\": \"0.3.4\", \"failureMessage\": \"\", \"exceptionClass\": \"\", \"trace\": \"\"}}, \"*\")"
      ],
      "text/plain": [
       "<IPython.core.display.Javascript object>"
      ]
     },
     "metadata": {},
     "output_type": "display_data"
    },
    {
     "data": {
      "text/markdown": [
       "<span style=\"color:#33cc33\">Correct:</span> \n",
       "\n",
       "The empty string has length zero. Note that the empty string is also the only string that Python considers as False when converting to boolean."
      ],
      "text/plain": [
       "Correct: \n",
       "\n",
       "The empty string has length zero. Note that the empty string is also the only string that Python considers as False when converting to boolean."
      ]
     },
     "metadata": {},
     "output_type": "display_data"
    }
   ],
   "source": [
    "a = \"\"\n",
    "length = len(a)\n",
    "q0.a.check()"
   ]
  },
  {
   "cell_type": "markdown",
   "id": "77a01ddd",
   "metadata": {
    "papermill": {
     "duration": 0.005698,
     "end_time": "2023-12-03T14:24:15.797928",
     "exception": false,
     "start_time": "2023-12-03T14:24:15.792230",
     "status": "completed"
    },
    "tags": []
   },
   "source": [
    "# 0b."
   ]
  },
  {
   "cell_type": "code",
   "execution_count": 3,
   "id": "6bf0baa8",
   "metadata": {
    "execution": {
     "iopub.execute_input": "2023-12-03T14:24:15.813856Z",
     "iopub.status.busy": "2023-12-03T14:24:15.812347Z",
     "iopub.status.idle": "2023-12-03T14:24:15.822574Z",
     "shell.execute_reply": "2023-12-03T14:24:15.821546Z"
    },
    "papermill": {
     "duration": 0.020323,
     "end_time": "2023-12-03T14:24:15.824662",
     "exception": false,
     "start_time": "2023-12-03T14:24:15.804339",
     "status": "completed"
    },
    "tags": []
   },
   "outputs": [
    {
     "data": {
      "application/javascript": [
       "parent.postMessage({\"jupyterEvent\": \"custom.exercise_interaction\", \"data\": {\"outcomeType\": 1, \"valueTowardsCompletion\": 0.3333333333333333, \"interactionType\": 1, \"questionType\": 1, \"questionId\": \"0.2_ZB\", \"learnToolsVersion\": \"0.3.4\", \"failureMessage\": \"\", \"exceptionClass\": \"\", \"trace\": \"\"}}, \"*\")"
      ],
      "text/plain": [
       "<IPython.core.display.Javascript object>"
      ]
     },
     "metadata": {},
     "output_type": "display_data"
    },
    {
     "data": {
      "text/markdown": [
       "<span style=\"color:#33cc33\">Correct:</span> \n",
       "\n",
       "Keep in mind Python includes spaces (and punctuation) when counting string length."
      ],
      "text/plain": [
       "Correct: \n",
       "\n",
       "Keep in mind Python includes spaces (and punctuation) when counting string length."
      ]
     },
     "metadata": {},
     "output_type": "display_data"
    }
   ],
   "source": [
    "b = \"it's ok\"\n",
    "length = len(b)\n",
    "q0.b.check()"
   ]
  },
  {
   "cell_type": "markdown",
   "id": "bc32ba92",
   "metadata": {
    "papermill": {
     "duration": 0.005799,
     "end_time": "2023-12-03T14:24:15.836513",
     "exception": false,
     "start_time": "2023-12-03T14:24:15.830714",
     "status": "completed"
    },
    "tags": []
   },
   "source": [
    "# 0c."
   ]
  },
  {
   "cell_type": "code",
   "execution_count": 4,
   "id": "c2903d6c",
   "metadata": {
    "execution": {
     "iopub.execute_input": "2023-12-03T14:24:15.851050Z",
     "iopub.status.busy": "2023-12-03T14:24:15.850310Z",
     "iopub.status.idle": "2023-12-03T14:24:15.861229Z",
     "shell.execute_reply": "2023-12-03T14:24:15.860027Z"
    },
    "papermill": {
     "duration": 0.021197,
     "end_time": "2023-12-03T14:24:15.863965",
     "exception": false,
     "start_time": "2023-12-03T14:24:15.842768",
     "status": "completed"
    },
    "tags": []
   },
   "outputs": [
    {
     "data": {
      "application/javascript": [
       "parent.postMessage({\"jupyterEvent\": \"custom.exercise_interaction\", \"data\": {\"outcomeType\": 1, \"valueTowardsCompletion\": 0.3333333333333333, \"interactionType\": 1, \"questionType\": 1, \"questionId\": \"0.3_ZC\", \"learnToolsVersion\": \"0.3.4\", \"failureMessage\": \"\", \"exceptionClass\": \"\", \"trace\": \"\"}}, \"*\")"
      ],
      "text/plain": [
       "<IPython.core.display.Javascript object>"
      ]
     },
     "metadata": {},
     "output_type": "display_data"
    },
    {
     "data": {
      "text/markdown": [
       "<span style=\"color:#33cc33\">Correct:</span> \n",
       "\n",
       "Even though we use different syntax to create it, the string `c` is identical to `b`. In particular, note that the backslash is not part of the string, so it doesn't contribute to its length."
      ],
      "text/plain": [
       "Correct: \n",
       "\n",
       "Even though we use different syntax to create it, the string `c` is identical to `b`. In particular, note that the backslash is not part of the string, so it doesn't contribute to its length."
      ]
     },
     "metadata": {},
     "output_type": "display_data"
    }
   ],
   "source": [
    "c = 'it\\'s ok'\n",
    "length = len(c)\n",
    "q0.c.check()"
   ]
  },
  {
   "cell_type": "markdown",
   "id": "d63c1050",
   "metadata": {
    "papermill": {
     "duration": 0.00612,
     "end_time": "2023-12-03T14:24:15.876588",
     "exception": false,
     "start_time": "2023-12-03T14:24:15.870468",
     "status": "completed"
    },
    "tags": []
   },
   "source": [
    "# 0d."
   ]
  },
  {
   "cell_type": "code",
   "execution_count": 5,
   "id": "e9e87ef6",
   "metadata": {
    "execution": {
     "iopub.execute_input": "2023-12-03T14:24:15.892149Z",
     "iopub.status.busy": "2023-12-03T14:24:15.891695Z",
     "iopub.status.idle": "2023-12-03T14:24:15.901544Z",
     "shell.execute_reply": "2023-12-03T14:24:15.900409Z"
    },
    "papermill": {
     "duration": 0.0202,
     "end_time": "2023-12-03T14:24:15.903842",
     "exception": false,
     "start_time": "2023-12-03T14:24:15.883642",
     "status": "completed"
    },
    "tags": []
   },
   "outputs": [
    {
     "data": {
      "application/javascript": [
       "parent.postMessage({\"jupyterEvent\": \"custom.exercise_interaction\", \"data\": {\"outcomeType\": 1, \"valueTowardsCompletion\": 0.3333333333333333, \"interactionType\": 1, \"questionType\": 1, \"questionId\": \"0.4_ZD\", \"learnToolsVersion\": \"0.3.4\", \"failureMessage\": \"\", \"exceptionClass\": \"\", \"trace\": \"\"}}, \"*\")"
      ],
      "text/plain": [
       "<IPython.core.display.Javascript object>"
      ]
     },
     "metadata": {},
     "output_type": "display_data"
    },
    {
     "data": {
      "text/markdown": [
       "<span style=\"color:#33cc33\">Correct:</span> \n",
       "\n",
       "The fact that this string was created using triple-quote syntax doesn't make any difference in terms of its content or length. This string is exactly the same as `'hey'`."
      ],
      "text/plain": [
       "Correct: \n",
       "\n",
       "The fact that this string was created using triple-quote syntax doesn't make any difference in terms of its content or length. This string is exactly the same as `'hey'`."
      ]
     },
     "metadata": {},
     "output_type": "display_data"
    }
   ],
   "source": [
    "d = \"\"\"hey\"\"\"\n",
    "length = len(d)\n",
    "q0.d.check()"
   ]
  },
  {
   "cell_type": "markdown",
   "id": "9777cd44",
   "metadata": {
    "papermill": {
     "duration": 0.006776,
     "end_time": "2023-12-03T14:24:15.917547",
     "exception": false,
     "start_time": "2023-12-03T14:24:15.910771",
     "status": "completed"
    },
    "tags": []
   },
   "source": [
    "# 0e."
   ]
  },
  {
   "cell_type": "code",
   "execution_count": 6,
   "id": "7040ee6d",
   "metadata": {
    "execution": {
     "iopub.execute_input": "2023-12-03T14:24:15.933222Z",
     "iopub.status.busy": "2023-12-03T14:24:15.932736Z",
     "iopub.status.idle": "2023-12-03T14:24:15.942545Z",
     "shell.execute_reply": "2023-12-03T14:24:15.941163Z"
    },
    "papermill": {
     "duration": 0.020449,
     "end_time": "2023-12-03T14:24:15.944860",
     "exception": false,
     "start_time": "2023-12-03T14:24:15.924411",
     "status": "completed"
    },
    "tags": []
   },
   "outputs": [
    {
     "data": {
      "application/javascript": [
       "parent.postMessage({\"jupyterEvent\": \"custom.exercise_interaction\", \"data\": {\"outcomeType\": 1, \"valueTowardsCompletion\": 0.3333333333333333, \"interactionType\": 1, \"questionType\": 1, \"questionId\": \"0.5_ZE\", \"learnToolsVersion\": \"0.3.4\", \"failureMessage\": \"\", \"exceptionClass\": \"\", \"trace\": \"\"}}, \"*\")"
      ],
      "text/plain": [
       "<IPython.core.display.Javascript object>"
      ]
     },
     "metadata": {},
     "output_type": "display_data"
    },
    {
     "data": {
      "text/markdown": [
       "<span style=\"color:#33cc33\">Correct:</span> \n",
       "\n",
       "The newline character is just a single character! (Even though we represent it to Python using a combination of two characters.)"
      ],
      "text/plain": [
       "Correct: \n",
       "\n",
       "The newline character is just a single character! (Even though we represent it to Python using a combination of two characters.)"
      ]
     },
     "metadata": {},
     "output_type": "display_data"
    }
   ],
   "source": [
    "e = '\\n'\n",
    "length = len(e)\n",
    "q0.e.check()"
   ]
  },
  {
   "cell_type": "markdown",
   "id": "fde8dbb8",
   "metadata": {
    "papermill": {
     "duration": 0.006517,
     "end_time": "2023-12-03T14:24:15.958323",
     "exception": false,
     "start_time": "2023-12-03T14:24:15.951806",
     "status": "completed"
    },
    "tags": []
   },
   "source": [
    "# 1.\n",
    "\n",
    "There is a saying that \"Data scientists spend 80% of their time cleaning data, and 20% of their time complaining about cleaning data.\" Let's see if you can write a function to help clean US zip code data. Given a string, it should return whether or not that string represents a valid zip code. For our purposes, a valid zip code is any string consisting of exactly 5 digits.\n",
    "\n",
    "HINT: `str` has a method that will be useful here. Use `help(str)` to review a list of string methods."
   ]
  },
  {
   "cell_type": "code",
   "execution_count": 7,
   "id": "69e4c85d",
   "metadata": {
    "execution": {
     "iopub.execute_input": "2023-12-03T14:24:15.973673Z",
     "iopub.status.busy": "2023-12-03T14:24:15.973209Z",
     "iopub.status.idle": "2023-12-03T14:24:15.983691Z",
     "shell.execute_reply": "2023-12-03T14:24:15.982501Z"
    },
    "papermill": {
     "duration": 0.021216,
     "end_time": "2023-12-03T14:24:15.986274",
     "exception": false,
     "start_time": "2023-12-03T14:24:15.965058",
     "status": "completed"
    },
    "tags": []
   },
   "outputs": [
    {
     "data": {
      "application/javascript": [
       "parent.postMessage({\"jupyterEvent\": \"custom.exercise_interaction\", \"data\": {\"outcomeType\": 1, \"valueTowardsCompletion\": 0.3333333333333333, \"interactionType\": 1, \"questionType\": 2, \"questionId\": \"1_ZipValidator\", \"learnToolsVersion\": \"0.3.4\", \"failureMessage\": \"\", \"exceptionClass\": \"\", \"trace\": \"\"}}, \"*\")"
      ],
      "text/plain": [
       "<IPython.core.display.Javascript object>"
      ]
     },
     "metadata": {},
     "output_type": "display_data"
    },
    {
     "data": {
      "text/markdown": [
       "<span style=\"color:#33cc33\">Correct</span>"
      ],
      "text/plain": [
       "Correct"
      ]
     },
     "metadata": {},
     "output_type": "display_data"
    }
   ],
   "source": [
    "def is_valid_zip(zip_code):\n",
    "    \"\"\"Returns whether the input string is a valid (5 digit) zip code\n",
    "    \"\"\"\n",
    "    return str.isdigit(zip_code) and len(zip_code) == 5\n",
    "\n",
    "# Check your answer\n",
    "q1.check()"
   ]
  },
  {
   "cell_type": "code",
   "execution_count": 8,
   "id": "4ac3451d",
   "metadata": {
    "execution": {
     "iopub.execute_input": "2023-12-03T14:24:16.003989Z",
     "iopub.status.busy": "2023-12-03T14:24:16.003537Z",
     "iopub.status.idle": "2023-12-03T14:24:16.008720Z",
     "shell.execute_reply": "2023-12-03T14:24:16.007262Z"
    },
    "papermill": {
     "duration": 0.017536,
     "end_time": "2023-12-03T14:24:16.011006",
     "exception": false,
     "start_time": "2023-12-03T14:24:15.993470",
     "status": "completed"
    },
    "tags": []
   },
   "outputs": [],
   "source": [
    "# q1.hint()\n",
    "# q1.solution()"
   ]
  },
  {
   "cell_type": "markdown",
   "id": "0d173f98",
   "metadata": {
    "papermill": {
     "duration": 0.007521,
     "end_time": "2023-12-03T14:24:16.025671",
     "exception": false,
     "start_time": "2023-12-03T14:24:16.018150",
     "status": "completed"
    },
    "tags": []
   },
   "source": [
    "# 2.\n",
    "\n",
    "A researcher has gathered thousands of news articles. But she wants to focus her attention on articles including a specific word. Complete the function below to help her filter her list of articles.\n",
    "\n",
    "Your function should meet the following criteria:\n",
    "\n",
    "- Do not include documents where the keyword string shows up only as a part of a larger word. For example, if she were looking for the keyword “closed”, you would not include the string “enclosed.” \n",
    "- She does not want you to distinguish upper case from lower case letters. So the phrase “Closed the case.” would be included when the keyword is “closed”\n",
    "- Do not let periods or commas affect what is matched. “It is closed.” would be included when the keyword is “closed”. But you can assume there are no other types of punctuation."
   ]
  },
  {
   "cell_type": "code",
   "execution_count": 9,
   "id": "a3354afa",
   "metadata": {
    "execution": {
     "iopub.execute_input": "2023-12-03T14:24:16.043921Z",
     "iopub.status.busy": "2023-12-03T14:24:16.043424Z",
     "iopub.status.idle": "2023-12-03T14:24:16.054002Z",
     "shell.execute_reply": "2023-12-03T14:24:16.053163Z"
    },
    "papermill": {
     "duration": 0.022763,
     "end_time": "2023-12-03T14:24:16.056280",
     "exception": false,
     "start_time": "2023-12-03T14:24:16.033517",
     "status": "completed"
    },
    "tags": []
   },
   "outputs": [
    {
     "data": {
      "application/javascript": [
       "parent.postMessage({\"jupyterEvent\": \"custom.exercise_interaction\", \"data\": {\"outcomeType\": 1, \"valueTowardsCompletion\": 0.3333333333333333, \"interactionType\": 1, \"questionType\": 2, \"questionId\": \"2_WordSearch\", \"learnToolsVersion\": \"0.3.4\", \"failureMessage\": \"\", \"exceptionClass\": \"\", \"trace\": \"\"}}, \"*\")"
      ],
      "text/plain": [
       "<IPython.core.display.Javascript object>"
      ]
     },
     "metadata": {},
     "output_type": "display_data"
    },
    {
     "data": {
      "text/markdown": [
       "<span style=\"color:#33cc33\">Correct</span>"
      ],
      "text/plain": [
       "Correct"
      ]
     },
     "metadata": {},
     "output_type": "display_data"
    }
   ],
   "source": [
    "def word_search(doc_list, keyword):\n",
    "    \"\"\"\n",
    "    Takes a list of documents (each document is a string) and a keyword. \n",
    "    Returns list of the index values into the original list for all documents \n",
    "    containing the keyword.\n",
    "\n",
    "    Example:\n",
    "    doc_list = [\"The Learn Python Challenge Casino.\", \"They bought a car\", \"Casinoville\"]\n",
    "    >>> word_search(doc_list, 'casino')\n",
    "    >>> [0]\n",
    "    \"\"\"\n",
    "    res = []\n",
    "    for i,d_list in enumerate(doc_list):\n",
    "        words = d_list.split()\n",
    "        words = [word.rstrip('.,').lower() for word in words]\n",
    "        if keyword.lower() in words:\n",
    "            res.append(i)\n",
    "    return res\n",
    "\n",
    "# Check your answer\n",
    "q2.check()"
   ]
  },
  {
   "cell_type": "code",
   "execution_count": 10,
   "id": "0d520a2b",
   "metadata": {
    "execution": {
     "iopub.execute_input": "2023-12-03T14:24:16.073189Z",
     "iopub.status.busy": "2023-12-03T14:24:16.072740Z",
     "iopub.status.idle": "2023-12-03T14:24:16.077843Z",
     "shell.execute_reply": "2023-12-03T14:24:16.076467Z"
    },
    "papermill": {
     "duration": 0.016684,
     "end_time": "2023-12-03T14:24:16.080433",
     "exception": false,
     "start_time": "2023-12-03T14:24:16.063749",
     "status": "completed"
    },
    "tags": []
   },
   "outputs": [],
   "source": [
    "# q2.hint()\n",
    "# q2.solution()"
   ]
  },
  {
   "cell_type": "markdown",
   "id": "16bcdd67",
   "metadata": {
    "papermill": {
     "duration": 0.007085,
     "end_time": "2023-12-03T14:24:16.095610",
     "exception": false,
     "start_time": "2023-12-03T14:24:16.088525",
     "status": "completed"
    },
    "tags": []
   },
   "source": [
    "# 3.\n",
    "\n",
    "Now the researcher wants to supply multiple keywords to search for. Complete the function below to help her.\n",
    "\n",
    "(You're encouraged to use the `word_search` function you just wrote when implementing this function. Reusing code in this way makes your programs more robust and readable - and it saves typing!)"
   ]
  },
  {
   "cell_type": "code",
   "execution_count": 11,
   "id": "0be6ea35",
   "metadata": {
    "execution": {
     "iopub.execute_input": "2023-12-03T14:24:16.115136Z",
     "iopub.status.busy": "2023-12-03T14:24:16.113790Z",
     "iopub.status.idle": "2023-12-03T14:24:16.124013Z",
     "shell.execute_reply": "2023-12-03T14:24:16.123214Z"
    },
    "papermill": {
     "duration": 0.021418,
     "end_time": "2023-12-03T14:24:16.126175",
     "exception": false,
     "start_time": "2023-12-03T14:24:16.104757",
     "status": "completed"
    },
    "tags": []
   },
   "outputs": [
    {
     "data": {
      "application/javascript": [
       "parent.postMessage({\"jupyterEvent\": \"custom.exercise_interaction\", \"data\": {\"outcomeType\": 1, \"valueTowardsCompletion\": 0.3333333333333333, \"interactionType\": 1, \"questionType\": 2, \"questionId\": \"3_MultiWordSearch\", \"learnToolsVersion\": \"0.3.4\", \"failureMessage\": \"\", \"exceptionClass\": \"\", \"trace\": \"\"}}, \"*\")"
      ],
      "text/plain": [
       "<IPython.core.display.Javascript object>"
      ]
     },
     "metadata": {},
     "output_type": "display_data"
    },
    {
     "data": {
      "text/markdown": [
       "<span style=\"color:#33cc33\">Correct</span>"
      ],
      "text/plain": [
       "Correct"
      ]
     },
     "metadata": {},
     "output_type": "display_data"
    }
   ],
   "source": [
    "def multi_word_search(doc_list, keywords):\n",
    "    \"\"\"\n",
    "    Takes list of documents (each document is a string) and a list of keywords.  \n",
    "    Returns a dictionary where each key is a keyword, and the value is a list of indices\n",
    "    (from doc_list) of the documents containing that keyword\n",
    "\n",
    "    >>> doc_list = [\"The Learn Python Challenge Casino.\", \"They bought a car and a casino\", \"Casinoville\"]\n",
    "    >>> keywords = ['casino', 'they']\n",
    "    >>> multi_word_search(doc_list, keywords)\n",
    "    {'casino': [0, 1], 'they': [1]}\n",
    "    \"\"\"\n",
    "    dic = {}\n",
    "    for keyword in keywords:\n",
    "        dic[keyword] = word_search(doc_list, keyword)\n",
    "    return dic\n",
    "\n",
    "# Check your answer\n",
    "q3.check()"
   ]
  },
  {
   "cell_type": "code",
   "execution_count": 12,
   "id": "b2ff33e6",
   "metadata": {
    "execution": {
     "iopub.execute_input": "2023-12-03T14:24:16.143844Z",
     "iopub.status.busy": "2023-12-03T14:24:16.143386Z",
     "iopub.status.idle": "2023-12-03T14:24:16.148021Z",
     "shell.execute_reply": "2023-12-03T14:24:16.146864Z"
    },
    "papermill": {
     "duration": 0.016201,
     "end_time": "2023-12-03T14:24:16.150079",
     "exception": false,
     "start_time": "2023-12-03T14:24:16.133878",
     "status": "completed"
    },
    "tags": []
   },
   "outputs": [],
   "source": [
    "#q3.solution()"
   ]
  },
  {
   "cell_type": "markdown",
   "id": "9b1eb938",
   "metadata": {
    "papermill": {
     "duration": 0.007759,
     "end_time": "2023-12-03T14:24:16.165443",
     "exception": false,
     "start_time": "2023-12-03T14:24:16.157684",
     "status": "completed"
    },
    "tags": []
   },
   "source": [
    "# Keep Going\n",
    "\n",
    "You've learned a lot. But even the best programmers rely heavily on \"libraries\" of code from other programmers. You'll learn about that in **[the last lesson](https://www.kaggle.com/colinmorris/working-with-external-libraries)**.\n"
   ]
  },
  {
   "cell_type": "markdown",
   "id": "ed29ff64",
   "metadata": {
    "papermill": {
     "duration": 0.007623,
     "end_time": "2023-12-03T14:24:16.181320",
     "exception": false,
     "start_time": "2023-12-03T14:24:16.173697",
     "status": "completed"
    },
    "tags": []
   },
   "source": [
    "---\n",
    "\n",
    "\n",
    "\n",
    "\n",
    "*Have questions or comments? Visit the [course discussion forum](https://www.kaggle.com/learn/python/discussion) to chat with other learners.*"
   ]
  }
 ],
 "metadata": {
  "kaggle": {
   "accelerator": "none",
   "dataSources": [],
   "isGpuEnabled": false,
   "isInternetEnabled": false,
   "language": "python",
   "sourceType": "notebook"
  },
  "kernelspec": {
   "display_name": "Python 3",
   "language": "python",
   "name": "python3"
  },
  "language_info": {
   "codemirror_mode": {
    "name": "ipython",
    "version": 3
   },
   "file_extension": ".py",
   "mimetype": "text/x-python",
   "name": "python",
   "nbconvert_exporter": "python",
   "pygments_lexer": "ipython3",
   "version": "3.10.12"
  },
  "papermill": {
   "default_parameters": {},
   "duration": 5.166217,
   "end_time": "2023-12-03T14:24:16.911818",
   "environment_variables": {},
   "exception": null,
   "input_path": "__notebook__.ipynb",
   "output_path": "__notebook__.ipynb",
   "parameters": {},
   "start_time": "2023-12-03T14:24:11.745601",
   "version": "2.4.0"
  }
 },
 "nbformat": 4,
 "nbformat_minor": 5
}
