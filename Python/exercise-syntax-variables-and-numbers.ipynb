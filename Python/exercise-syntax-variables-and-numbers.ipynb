{
 "cells": [
  {
   "cell_type": "markdown",
   "id": "c7530402",
   "metadata": {
    "papermill": {
     "duration": 0.011635,
     "end_time": "2023-11-28T04:13:18.222179",
     "exception": false,
     "start_time": "2023-11-28T04:13:18.210544",
     "status": "completed"
    },
    "tags": []
   },
   "source": [
    "**This notebook is an exercise in the [Python](https://www.kaggle.com/learn/python) course.  You can reference the tutorial at [this link](https://www.kaggle.com/colinmorris/hello-python).**\n",
    "\n",
    "---\n"
   ]
  },
  {
   "cell_type": "markdown",
   "id": "8d06ed06",
   "metadata": {
    "papermill": {
     "duration": 0.008716,
     "end_time": "2023-11-28T04:13:18.240111",
     "exception": false,
     "start_time": "2023-11-28T04:13:18.231395",
     "status": "completed"
    },
    "tags": []
   },
   "source": [
    "Welcome to your first set of Python coding problems.  If this is your first time using Kaggle Notebooks, welcome! \n",
    "\n",
    "Notebooks are composed of blocks (called \"cells\") of text and code. Each of these is editable, though you'll mainly be editing the code cells to answer some questions.\n",
    "\n",
    "To get started, try running the code cell below (by pressing the ► button, or clicking on the cell and pressing ctrl+enter on your keyboard)."
   ]
  },
  {
   "cell_type": "code",
   "execution_count": 1,
   "id": "68ad4b2d",
   "metadata": {
    "execution": {
     "iopub.execute_input": "2023-11-28T04:13:18.260154Z",
     "iopub.status.busy": "2023-11-28T04:13:18.259641Z",
     "iopub.status.idle": "2023-11-28T04:13:18.274653Z",
     "shell.execute_reply": "2023-11-28T04:13:18.273367Z"
    },
    "papermill": {
     "duration": 0.028556,
     "end_time": "2023-11-28T04:13:18.277643",
     "exception": false,
     "start_time": "2023-11-28T04:13:18.249087",
     "status": "completed"
    },
    "tags": []
   },
   "outputs": [
    {
     "name": "stdout",
     "output_type": "stream",
     "text": [
      "You've successfully run some Python code\n",
      "Congratulations!\n"
     ]
    }
   ],
   "source": [
    "print(\"You've successfully run some Python code\")\n",
    "print(\"Congratulations!\")"
   ]
  },
  {
   "cell_type": "markdown",
   "id": "55a245f4",
   "metadata": {
    "papermill": {
     "duration": 0.008905,
     "end_time": "2023-11-28T04:13:18.295955",
     "exception": false,
     "start_time": "2023-11-28T04:13:18.287050",
     "status": "completed"
    },
    "tags": []
   },
   "source": [
    "Try adding another line of code in the cell above and re-running it. \n",
    "\n",
    "Now let's get a little fancier:  Add a new code cell by clicking on an existing code cell, hitting the escape key, and then hitting the `a` or `b` key.  The `a` key will add a cell above the current cell, and `b` adds a cell below.\n",
    "\n",
    "Great! Now you know how to use Notebooks.\n",
    "\n",
    "Each hands-on exercise starts by setting up our feedback and code checking mechanism. Run the code cell below to do that. Then you'll be ready to move on to question 0."
   ]
  },
  {
   "cell_type": "code",
   "execution_count": 2,
   "id": "ae6e1903",
   "metadata": {
    "_kg_hide-input": true,
    "_kg_hide-output": true,
    "execution": {
     "iopub.execute_input": "2023-11-28T04:13:18.316370Z",
     "iopub.status.busy": "2023-11-28T04:13:18.315948Z",
     "iopub.status.idle": "2023-11-28T04:13:18.796847Z",
     "shell.execute_reply": "2023-11-28T04:13:18.795551Z"
    },
    "papermill": {
     "duration": 0.49435,
     "end_time": "2023-11-28T04:13:18.799633",
     "exception": false,
     "start_time": "2023-11-28T04:13:18.305283",
     "status": "completed"
    },
    "tags": []
   },
   "outputs": [
    {
     "name": "stdout",
     "output_type": "stream",
     "text": [
      "Setup complete! You're ready to start question 0.\n"
     ]
    }
   ],
   "source": [
    "from learntools.core import binder; binder.bind(globals())\n",
    "from learntools.python.ex1 import *\n",
    "print(\"Setup complete! You're ready to start question 0.\")"
   ]
  },
  {
   "cell_type": "markdown",
   "id": "d700ecaa",
   "metadata": {
    "papermill": {
     "duration": 0.009056,
     "end_time": "2023-11-28T04:13:18.818163",
     "exception": false,
     "start_time": "2023-11-28T04:13:18.809107",
     "status": "completed"
    },
    "tags": []
   },
   "source": [
    "# 0.\n",
    "\n",
    "*This is a silly question intended as an introduction to the format we use for hands-on exercises throughout all Kaggle courses.*\n",
    "\n",
    "**What is your favorite color? **\n",
    "\n",
    "To complete this question, create a variable called `color` in the cell below with an appropriate value. The function call `q0.check()` (which we've already provided in the cell below) will check your answer."
   ]
  },
  {
   "cell_type": "code",
   "execution_count": 3,
   "id": "0e59c99d",
   "metadata": {
    "execution": {
     "iopub.execute_input": "2023-11-28T04:13:18.838891Z",
     "iopub.status.busy": "2023-11-28T04:13:18.838369Z",
     "iopub.status.idle": "2023-11-28T04:13:18.848742Z",
     "shell.execute_reply": "2023-11-28T04:13:18.847684Z"
    },
    "papermill": {
     "duration": 0.02372,
     "end_time": "2023-11-28T04:13:18.851248",
     "exception": false,
     "start_time": "2023-11-28T04:13:18.827528",
     "status": "completed"
    },
    "tags": []
   },
   "outputs": [
    {
     "data": {
      "application/javascript": [
       "parent.postMessage({\"jupyterEvent\": \"custom.exercise_interaction\", \"data\": {\"outcomeType\": 1, \"valueTowardsCompletion\": 0.25, \"interactionType\": 1, \"questionType\": 2, \"questionId\": \"0_ExerciseFormatTutorial\", \"learnToolsVersion\": \"0.3.4\", \"failureMessage\": \"\", \"exceptionClass\": \"\", \"trace\": \"\"}}, \"*\")"
      ],
      "text/plain": [
       "<IPython.core.display.Javascript object>"
      ]
     },
     "metadata": {},
     "output_type": "display_data"
    },
    {
     "data": {
      "text/markdown": [
       "<span style=\"color:#33cc33\">Correct:</span> What?! You got it right without needing a hint or anything? Drats. Well hey, you should still continue to the next step to get some practice asking for a hint and checking solutions. (Even though you obviously don't need any help here.)"
      ],
      "text/plain": [
       "Correct: What?! You got it right without needing a hint or anything? Drats. Well hey, you should still continue to the next step to get some practice asking for a hint and checking solutions. (Even though you obviously don't need any help here.)"
      ]
     },
     "metadata": {},
     "output_type": "display_data"
    }
   ],
   "source": [
    "# create a variable called color with an appropriate value on the line below\n",
    "# (Remember, strings in Python must be enclosed in 'single' or \"double\" quotes)\n",
    "color = \"blue\"\n",
    "\n",
    "# Check your answer\n",
    "q0.check()"
   ]
  },
  {
   "cell_type": "markdown",
   "id": "fce0beed",
   "metadata": {
    "papermill": {
     "duration": 0.009291,
     "end_time": "2023-11-28T04:13:18.870204",
     "exception": false,
     "start_time": "2023-11-28T04:13:18.860913",
     "status": "completed"
    },
    "tags": []
   },
   "source": [
    "Didn't get the right answer? How do you not even know your own favorite color?!\n",
    "\n",
    "Delete the `#` in the line below to make one of the lines run. You can choose between getting a hint or the full answer by choosing which line to remove the `#` from. \n",
    "\n",
    "Removing the `#` is called uncommenting, because it changes that line from a \"comment\" which Python doesn't run to code, which Python does run."
   ]
  },
  {
   "cell_type": "code",
   "execution_count": 4,
   "id": "f9f35059",
   "metadata": {
    "execution": {
     "iopub.execute_input": "2023-11-28T04:13:18.891836Z",
     "iopub.status.busy": "2023-11-28T04:13:18.891164Z",
     "iopub.status.idle": "2023-11-28T04:13:18.895631Z",
     "shell.execute_reply": "2023-11-28T04:13:18.894725Z"
    },
    "papermill": {
     "duration": 0.017864,
     "end_time": "2023-11-28T04:13:18.898061",
     "exception": false,
     "start_time": "2023-11-28T04:13:18.880197",
     "status": "completed"
    },
    "tags": []
   },
   "outputs": [],
   "source": [
    "#q0.hint()\n",
    "#q0.solution()"
   ]
  },
  {
   "cell_type": "markdown",
   "id": "e3f18670",
   "metadata": {
    "papermill": {
     "duration": 0.009322,
     "end_time": "2023-11-28T04:13:18.917041",
     "exception": false,
     "start_time": "2023-11-28T04:13:18.907719",
     "status": "completed"
    },
    "tags": []
   },
   "source": [
    "The upcoming questions work the same way. The only thing that will change are the question numbers. For the next question, you'll call `q1.check()`, `q1.hint()`, `q1.solution()`, for question 2, you'll call `q2.check()`, and so on."
   ]
  },
  {
   "cell_type": "markdown",
   "id": "ecaee3de",
   "metadata": {
    "papermill": {
     "duration": 0.009303,
     "end_time": "2023-11-28T04:13:18.935979",
     "exception": false,
     "start_time": "2023-11-28T04:13:18.926676",
     "status": "completed"
    },
    "tags": []
   },
   "source": [
    "<hr/>\n",
    "\n",
    "# 1.\n",
    "\n",
    "Complete the code below. In case it's helpful, here is the table of available arithmetic operations:\n",
    "\n",
    "\n",
    "\n",
    "| Operator     | Name           | Description                                            |\n",
    "|--------------|----------------|--------------------------------------------------------|\n",
    "| ``a + b``    | Addition       | Sum of ``a`` and ``b``                                 |\n",
    "| ``a - b``    | Subtraction    | Difference of ``a`` and ``b``                          |\n",
    "| ``a * b``    | Multiplication | Product of ``a`` and ``b``                             |\n",
    "| ``a / b``    | True division  | Quotient of ``a`` and ``b``                            |\n",
    "| ``a // b``   | Floor division | Quotient of ``a`` and ``b``, removing fractional parts |\n",
    "| ``a % b``    | Modulus        | Integer remainder after division of ``a`` by ``b``     |\n",
    "| ``a ** b``   | Exponentiation | ``a`` raised to the power of ``b``                     |\n",
    "| ``-a``       | Negation       | The negative of ``a``                                  |\n",
    "\n",
    "<span style=\"display:none\"></span>\n"
   ]
  },
  {
   "cell_type": "code",
   "execution_count": 5,
   "id": "9d623a28",
   "metadata": {
    "execution": {
     "iopub.execute_input": "2023-11-28T04:13:18.957857Z",
     "iopub.status.busy": "2023-11-28T04:13:18.957154Z",
     "iopub.status.idle": "2023-11-28T04:13:18.967000Z",
     "shell.execute_reply": "2023-11-28T04:13:18.965878Z"
    },
    "papermill": {
     "duration": 0.023447,
     "end_time": "2023-11-28T04:13:18.969264",
     "exception": false,
     "start_time": "2023-11-28T04:13:18.945817",
     "status": "completed"
    },
    "tags": []
   },
   "outputs": [
    {
     "data": {
      "application/javascript": [
       "parent.postMessage({\"jupyterEvent\": \"custom.exercise_interaction\", \"data\": {\"outcomeType\": 1, \"valueTowardsCompletion\": 0.25, \"interactionType\": 1, \"questionType\": 1, \"questionId\": \"1_CircleArea\", \"learnToolsVersion\": \"0.3.4\", \"failureMessage\": \"\", \"exceptionClass\": \"\", \"trace\": \"\"}}, \"*\")"
      ],
      "text/plain": [
       "<IPython.core.display.Javascript object>"
      ]
     },
     "metadata": {},
     "output_type": "display_data"
    },
    {
     "data": {
      "text/markdown": [
       "<span style=\"color:#33cc33\">Correct</span>"
      ],
      "text/plain": [
       "Correct"
      ]
     },
     "metadata": {},
     "output_type": "display_data"
    }
   ],
   "source": [
    "pi = 3.14159 # approximate\n",
    "diameter = 3\n",
    "\n",
    "# Create a variable called 'radius' equal to half the diameter\n",
    "radius = diameter / 2\n",
    "\n",
    "# Create a variable called 'area', using the formula for the area of a circle: pi times the radius squared\n",
    "area = radius * radius * pi\n",
    "\n",
    "# Check your answer\n",
    "q1.check()"
   ]
  },
  {
   "cell_type": "code",
   "execution_count": 6,
   "id": "c57cd3d2",
   "metadata": {
    "execution": {
     "iopub.execute_input": "2023-11-28T04:13:18.991225Z",
     "iopub.status.busy": "2023-11-28T04:13:18.990550Z",
     "iopub.status.idle": "2023-11-28T04:13:18.995118Z",
     "shell.execute_reply": "2023-11-28T04:13:18.994232Z"
    },
    "papermill": {
     "duration": 0.018627,
     "end_time": "2023-11-28T04:13:18.997686",
     "exception": false,
     "start_time": "2023-11-28T04:13:18.979059",
     "status": "completed"
    },
    "tags": []
   },
   "outputs": [],
   "source": [
    "# Uncomment and run the lines below if you need help.\n",
    "#q1.hint()\n",
    "#q1.solution()"
   ]
  },
  {
   "cell_type": "markdown",
   "id": "ef971b96",
   "metadata": {
    "papermill": {
     "duration": 0.009839,
     "end_time": "2023-11-28T04:13:19.017661",
     "exception": false,
     "start_time": "2023-11-28T04:13:19.007822",
     "status": "completed"
    },
    "tags": []
   },
   "source": [
    "<hr/>\n",
    "\n",
    "# 2.\n",
    "\n",
    "Add code to the following cell to swap variables `a` and `b` (so that `a` refers to the object previously referred to by `b` and vice versa)."
   ]
  },
  {
   "cell_type": "code",
   "execution_count": 7,
   "id": "54346e9d",
   "metadata": {
    "execution": {
     "iopub.execute_input": "2023-11-28T04:13:19.039310Z",
     "iopub.status.busy": "2023-11-28T04:13:19.038885Z",
     "iopub.status.idle": "2023-11-28T04:13:19.050244Z",
     "shell.execute_reply": "2023-11-28T04:13:19.049055Z"
    },
    "papermill": {
     "duration": 0.025121,
     "end_time": "2023-11-28T04:13:19.052713",
     "exception": false,
     "start_time": "2023-11-28T04:13:19.027592",
     "status": "completed"
    },
    "tags": []
   },
   "outputs": [
    {
     "data": {
      "application/javascript": [
       "parent.postMessage({\"jupyterEvent\": \"custom.exercise_interaction\", \"data\": {\"outcomeType\": 1, \"valueTowardsCompletion\": 0.25, \"interactionType\": 1, \"questionType\": 2, \"questionId\": \"2_VariableSwap\", \"learnToolsVersion\": \"0.3.4\", \"failureMessage\": \"\", \"exceptionClass\": \"\", \"trace\": \"\"}}, \"*\")"
      ],
      "text/plain": [
       "<IPython.core.display.Javascript object>"
      ]
     },
     "metadata": {},
     "output_type": "display_data"
    },
    {
     "data": {
      "text/markdown": [
       "<span style=\"color:#33cc33\">Correct:</span> \n",
       "\n",
       "The most straightforward solution is to use a third variable to temporarily store one of the old values. e.g.:\n",
       "\n",
       "    tmp = a\n",
       "    a = b\n",
       "    b = tmp\n",
       "\n",
       "If you've read lots of Python code, you might have seen the following trick to swap two variables in one line:\n",
       "\n",
       "    a, b = b, a\n",
       "\n",
       "We'll demystify this bit of Python magic later when we talk about *tuples*."
      ],
      "text/plain": [
       "Correct: \n",
       "\n",
       "The most straightforward solution is to use a third variable to temporarily store one of the old values. e.g.:\n",
       "\n",
       "    tmp = a\n",
       "    a = b\n",
       "    b = tmp\n",
       "\n",
       "If you've read lots of Python code, you might have seen the following trick to swap two variables in one line:\n",
       "\n",
       "    a, b = b, a\n",
       "\n",
       "We'll demystify this bit of Python magic later when we talk about *tuples*."
      ]
     },
     "metadata": {},
     "output_type": "display_data"
    }
   ],
   "source": [
    "########### Setup code - don't touch this part ######################\n",
    "# If you're curious, these are examples of lists. We'll talk about \n",
    "# them in depth a few lessons from now. For now, just know that they're\n",
    "# yet another type of Python object, like int or float.\n",
    "a = [1, 2, 3]\n",
    "b = [3, 2, 1]\n",
    "q2.store_original_ids()\n",
    "######################################################################\n",
    "\n",
    "# Your code goes here. Swap the values to which a and b refer.\n",
    "# If you get stuck, you can always uncomment one or both of the lines in\n",
    "# the next cell for a hint, or to peek at the solution.\n",
    "c = a\n",
    "a = b\n",
    "b = c\n",
    "######################################################################\n",
    "\n",
    "# Check your answer\n",
    "q2.check()"
   ]
  },
  {
   "cell_type": "code",
   "execution_count": 8,
   "id": "b79f6611",
   "metadata": {
    "execution": {
     "iopub.execute_input": "2023-11-28T04:13:19.075617Z",
     "iopub.status.busy": "2023-11-28T04:13:19.075228Z",
     "iopub.status.idle": "2023-11-28T04:13:19.079816Z",
     "shell.execute_reply": "2023-11-28T04:13:19.078724Z"
    },
    "papermill": {
     "duration": 0.018979,
     "end_time": "2023-11-28T04:13:19.082351",
     "exception": false,
     "start_time": "2023-11-28T04:13:19.063372",
     "status": "completed"
    },
    "tags": []
   },
   "outputs": [],
   "source": [
    "#q2.hint()"
   ]
  },
  {
   "cell_type": "code",
   "execution_count": 9,
   "id": "98191313",
   "metadata": {
    "execution": {
     "iopub.execute_input": "2023-11-28T04:13:19.105844Z",
     "iopub.status.busy": "2023-11-28T04:13:19.105454Z",
     "iopub.status.idle": "2023-11-28T04:13:19.110320Z",
     "shell.execute_reply": "2023-11-28T04:13:19.108669Z"
    },
    "papermill": {
     "duration": 0.021323,
     "end_time": "2023-11-28T04:13:19.114005",
     "exception": false,
     "start_time": "2023-11-28T04:13:19.092682",
     "status": "completed"
    },
    "tags": []
   },
   "outputs": [],
   "source": [
    "#q2.solution()"
   ]
  },
  {
   "cell_type": "markdown",
   "id": "7a713800",
   "metadata": {
    "papermill": {
     "duration": 0.010121,
     "end_time": "2023-11-28T04:13:19.135100",
     "exception": false,
     "start_time": "2023-11-28T04:13:19.124979",
     "status": "completed"
    },
    "tags": []
   },
   "source": [
    "<hr/>\n",
    "\n",
    "# 3a.\n",
    "\n",
    "Add parentheses to the following expression so that it evaluates to 1."
   ]
  },
  {
   "cell_type": "code",
   "execution_count": 10,
   "id": "0719783e",
   "metadata": {
    "execution": {
     "iopub.execute_input": "2023-11-28T04:13:19.158475Z",
     "iopub.status.busy": "2023-11-28T04:13:19.157512Z",
     "iopub.status.idle": "2023-11-28T04:13:19.164148Z",
     "shell.execute_reply": "2023-11-28T04:13:19.162876Z"
    },
    "papermill": {
     "duration": 0.020867,
     "end_time": "2023-11-28T04:13:19.166424",
     "exception": false,
     "start_time": "2023-11-28T04:13:19.145557",
     "status": "completed"
    },
    "tags": []
   },
   "outputs": [
    {
     "data": {
      "text/plain": [
       "4"
      ]
     },
     "execution_count": 10,
     "metadata": {},
     "output_type": "execute_result"
    }
   ],
   "source": [
    "5 - 3 // 2"
   ]
  },
  {
   "cell_type": "code",
   "execution_count": 11,
   "id": "6fb2d1bc",
   "metadata": {
    "execution": {
     "iopub.execute_input": "2023-11-28T04:13:19.189757Z",
     "iopub.status.busy": "2023-11-28T04:13:19.189069Z",
     "iopub.status.idle": "2023-11-28T04:13:19.193788Z",
     "shell.execute_reply": "2023-11-28T04:13:19.192559Z"
    },
    "papermill": {
     "duration": 0.019658,
     "end_time": "2023-11-28T04:13:19.196492",
     "exception": false,
     "start_time": "2023-11-28T04:13:19.176834",
     "status": "completed"
    },
    "tags": []
   },
   "outputs": [],
   "source": [
    "#q3.a.hint()"
   ]
  },
  {
   "cell_type": "code",
   "execution_count": 12,
   "id": "3b315d2c",
   "metadata": {
    "execution": {
     "iopub.execute_input": "2023-11-28T04:13:19.219552Z",
     "iopub.status.busy": "2023-11-28T04:13:19.219085Z",
     "iopub.status.idle": "2023-11-28T04:13:19.228473Z",
     "shell.execute_reply": "2023-11-28T04:13:19.226970Z"
    },
    "papermill": {
     "duration": 0.024132,
     "end_time": "2023-11-28T04:13:19.231288",
     "exception": false,
     "start_time": "2023-11-28T04:13:19.207156",
     "status": "completed"
    },
    "tags": []
   },
   "outputs": [
    {
     "data": {
      "application/javascript": [
       "parent.postMessage({\"jupyterEvent\": \"custom.exercise_interaction\", \"data\": {\"interactionType\": 3, \"questionType\": 4, \"questionId\": \"3.1_ArithmeticParensEasy\", \"learnToolsVersion\": \"0.3.4\", \"valueTowardsCompletion\": 0.0, \"failureMessage\": \"\", \"exceptionClass\": \"\", \"trace\": \"\", \"outcomeType\": 4}}, \"*\")"
      ],
      "text/plain": [
       "<IPython.core.display.Javascript object>"
      ]
     },
     "metadata": {},
     "output_type": "display_data"
    },
    {
     "data": {
      "text/markdown": [
       "<span style=\"color:#33cc99\">Solution:</span> \n",
       "```python\n",
       "(5 - 3) // 2\n",
       "```"
      ],
      "text/plain": [
       "Solution: \n",
       "```python\n",
       "(5 - 3) // 2\n",
       "```"
      ]
     },
     "metadata": {},
     "output_type": "display_data"
    }
   ],
   "source": [
    "# Check your answer (Run this code cell to receive credit!)\n",
    "q3.a.solution()"
   ]
  },
  {
   "cell_type": "markdown",
   "id": "88c494bf",
   "metadata": {
    "papermill": {
     "duration": 0.01043,
     "end_time": "2023-11-28T04:13:19.252987",
     "exception": false,
     "start_time": "2023-11-28T04:13:19.242557",
     "status": "completed"
    },
    "tags": []
   },
   "source": [
    "# 3b.  <span title=\"A bit spicy\" style=\"color: darkgreen \">🌶️</span>\n",
    "\n",
    "<small>Questions, like this one, marked a spicy pepper are a bit harder.</small>\n",
    "\n",
    "Add parentheses to the following expression so that it evaluates to 0."
   ]
  },
  {
   "cell_type": "code",
   "execution_count": 13,
   "id": "85a69ba3",
   "metadata": {
    "execution": {
     "iopub.execute_input": "2023-11-28T04:13:19.277821Z",
     "iopub.status.busy": "2023-11-28T04:13:19.276980Z",
     "iopub.status.idle": "2023-11-28T04:13:19.283291Z",
     "shell.execute_reply": "2023-11-28T04:13:19.282366Z"
    },
    "papermill": {
     "duration": 0.021734,
     "end_time": "2023-11-28T04:13:19.285507",
     "exception": false,
     "start_time": "2023-11-28T04:13:19.263773",
     "status": "completed"
    },
    "tags": []
   },
   "outputs": [
    {
     "data": {
      "text/plain": [
       "2"
      ]
     },
     "execution_count": 13,
     "metadata": {},
     "output_type": "execute_result"
    }
   ],
   "source": [
    "8 - 3 * 2 - 1 + 1"
   ]
  },
  {
   "cell_type": "code",
   "execution_count": 14,
   "id": "2aefea3f",
   "metadata": {
    "execution": {
     "iopub.execute_input": "2023-11-28T04:13:19.312387Z",
     "iopub.status.busy": "2023-11-28T04:13:19.311639Z",
     "iopub.status.idle": "2023-11-28T04:13:19.316681Z",
     "shell.execute_reply": "2023-11-28T04:13:19.315241Z"
    },
    "papermill": {
     "duration": 0.023163,
     "end_time": "2023-11-28T04:13:19.319798",
     "exception": false,
     "start_time": "2023-11-28T04:13:19.296635",
     "status": "completed"
    },
    "tags": []
   },
   "outputs": [],
   "source": [
    "#q3.b.hint()"
   ]
  },
  {
   "cell_type": "code",
   "execution_count": 15,
   "id": "3b013372",
   "metadata": {
    "execution": {
     "iopub.execute_input": "2023-11-28T04:13:19.344789Z",
     "iopub.status.busy": "2023-11-28T04:13:19.343604Z",
     "iopub.status.idle": "2023-11-28T04:13:19.353776Z",
     "shell.execute_reply": "2023-11-28T04:13:19.352601Z"
    },
    "papermill": {
     "duration": 0.025343,
     "end_time": "2023-11-28T04:13:19.356465",
     "exception": false,
     "start_time": "2023-11-28T04:13:19.331122",
     "status": "completed"
    },
    "tags": []
   },
   "outputs": [
    {
     "data": {
      "application/javascript": [
       "parent.postMessage({\"jupyterEvent\": \"custom.exercise_interaction\", \"data\": {\"interactionType\": 3, \"questionType\": 4, \"questionId\": \"3.2_ArithmeticParensHard\", \"learnToolsVersion\": \"0.3.4\", \"valueTowardsCompletion\": 0.0, \"failureMessage\": \"\", \"exceptionClass\": \"\", \"trace\": \"\", \"outcomeType\": 4}}, \"*\")"
      ],
      "text/plain": [
       "<IPython.core.display.Javascript object>"
      ]
     },
     "metadata": {},
     "output_type": "display_data"
    },
    {
     "data": {
      "text/markdown": [
       "<span style=\"color:#33cc99\">Solution:</span> `(8 - 3) * (2 - (1 + 1))` is one solution. There may be others."
      ],
      "text/plain": [
       "Solution: `(8 - 3) * (2 - (1 + 1))` is one solution. There may be others."
      ]
     },
     "metadata": {},
     "output_type": "display_data"
    }
   ],
   "source": [
    "# Check your answer (Run this code cell to receive credit!)\n",
    "q3.b.solution()"
   ]
  },
  {
   "cell_type": "markdown",
   "id": "8a13df0b",
   "metadata": {
    "papermill": {
     "duration": 0.011388,
     "end_time": "2023-11-28T04:13:19.379227",
     "exception": false,
     "start_time": "2023-11-28T04:13:19.367839",
     "status": "completed"
    },
    "tags": []
   },
   "source": [
    "<hr/>\n",
    "\n",
    "# 4. \n",
    "Alice, Bob and Carol have agreed to pool their Halloween candy and split it evenly among themselves.\n",
    "For the sake of their friendship, any candies left over will be smashed. For example, if they collectively\n",
    "bring home 91 candies, they'll take 30 each and smash 1.\n",
    "\n",
    "Write an arithmetic expression below to calculate how many candies they must smash for a given haul."
   ]
  },
  {
   "cell_type": "code",
   "execution_count": 16,
   "id": "c3218820",
   "metadata": {
    "execution": {
     "iopub.execute_input": "2023-11-28T04:13:19.404114Z",
     "iopub.status.busy": "2023-11-28T04:13:19.403288Z",
     "iopub.status.idle": "2023-11-28T04:13:19.414750Z",
     "shell.execute_reply": "2023-11-28T04:13:19.413582Z"
    },
    "papermill": {
     "duration": 0.026765,
     "end_time": "2023-11-28T04:13:19.417393",
     "exception": false,
     "start_time": "2023-11-28T04:13:19.390628",
     "status": "completed"
    },
    "tags": []
   },
   "outputs": [
    {
     "data": {
      "application/javascript": [
       "parent.postMessage({\"jupyterEvent\": \"custom.exercise_interaction\", \"data\": {\"outcomeType\": 1, \"valueTowardsCompletion\": 0.25, \"interactionType\": 1, \"questionType\": 1, \"questionId\": \"4_CandySplitting\", \"learnToolsVersion\": \"0.3.4\", \"failureMessage\": \"\", \"exceptionClass\": \"\", \"trace\": \"\"}}, \"*\")"
      ],
      "text/plain": [
       "<IPython.core.display.Javascript object>"
      ]
     },
     "metadata": {},
     "output_type": "display_data"
    },
    {
     "data": {
      "text/markdown": [
       "<span style=\"color:#33cc33\">Correct</span>"
      ],
      "text/plain": [
       "Correct"
      ]
     },
     "metadata": {},
     "output_type": "display_data"
    }
   ],
   "source": [
    "# Variables representing the number of candies collected by alice, bob, and carol\n",
    "alice_candies = 121\n",
    "bob_candies = 77\n",
    "carol_candies = 109\n",
    "\n",
    "# Your code goes here! Replace the right-hand side of this assignment with an expression\n",
    "# involving alice_candies, bob_candies, and carol_candies\n",
    "to_smash = (alice_candies + bob_candies + carol_candies) % 3\n",
    "\n",
    "# Check your answer\n",
    "q4.check()"
   ]
  },
  {
   "cell_type": "code",
   "execution_count": 17,
   "id": "47901aea",
   "metadata": {
    "execution": {
     "iopub.execute_input": "2023-11-28T04:13:19.443618Z",
     "iopub.status.busy": "2023-11-28T04:13:19.443206Z",
     "iopub.status.idle": "2023-11-28T04:13:19.447572Z",
     "shell.execute_reply": "2023-11-28T04:13:19.446426Z"
    },
    "papermill": {
     "duration": 0.019986,
     "end_time": "2023-11-28T04:13:19.449856",
     "exception": false,
     "start_time": "2023-11-28T04:13:19.429870",
     "status": "completed"
    },
    "tags": []
   },
   "outputs": [],
   "source": [
    "#q4.hint()\n",
    "#q4.solution()"
   ]
  },
  {
   "cell_type": "markdown",
   "id": "f38bd078",
   "metadata": {
    "papermill": {
     "duration": 0.011224,
     "end_time": "2023-11-28T04:13:19.472773",
     "exception": false,
     "start_time": "2023-11-28T04:13:19.461549",
     "status": "completed"
    },
    "tags": []
   },
   "source": [
    "# Keep Going\n",
    "\n",
    "Next up, you'll **[learn to write new functions and understand functions others write](https://www.kaggle.com/colinmorris/functions-and-getting-help)**. This will make you at least 10 times more productive as a Python programmer. "
   ]
  },
  {
   "cell_type": "markdown",
   "id": "32d74e31",
   "metadata": {
    "papermill": {
     "duration": 0.011139,
     "end_time": "2023-11-28T04:13:19.495421",
     "exception": false,
     "start_time": "2023-11-28T04:13:19.484282",
     "status": "completed"
    },
    "tags": []
   },
   "source": [
    "---\n",
    "\n",
    "\n",
    "\n",
    "\n",
    "*Have questions or comments? Visit the [course discussion forum](https://www.kaggle.com/learn/python/discussion) to chat with other learners.*"
   ]
  }
 ],
 "metadata": {
  "kaggle": {
   "accelerator": "none",
   "dataSources": [],
   "isGpuEnabled": false,
   "isInternetEnabled": false,
   "language": "python",
   "sourceType": "notebook"
  },
  "kernelspec": {
   "display_name": "Python 3",
   "language": "python",
   "name": "python3"
  },
  "language_info": {
   "codemirror_mode": {
    "name": "ipython",
    "version": 3
   },
   "file_extension": ".py",
   "mimetype": "text/x-python",
   "name": "python",
   "nbconvert_exporter": "python",
   "pygments_lexer": "ipython3",
   "version": "3.10.12"
  },
  "learntools_metadata": {
   "lesson_index": 0,
   "type": "exercise"
  },
  "papermill": {
   "default_parameters": {},
   "duration": 5.414201,
   "end_time": "2023-11-28T04:13:20.028376",
   "environment_variables": {},
   "exception": null,
   "input_path": "__notebook__.ipynb",
   "output_path": "__notebook__.ipynb",
   "parameters": {},
   "start_time": "2023-11-28T04:13:14.614175",
   "version": "2.4.0"
  }
 },
 "nbformat": 4,
 "nbformat_minor": 5
}
