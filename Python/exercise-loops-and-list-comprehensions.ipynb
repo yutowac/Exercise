{
 "cells": [
  {
   "cell_type": "markdown",
   "id": "939e5000",
   "metadata": {
    "papermill": {
     "duration": 0.006092,
     "end_time": "2023-12-02T13:32:25.007599",
     "exception": false,
     "start_time": "2023-12-02T13:32:25.001507",
     "status": "completed"
    },
    "tags": []
   },
   "source": [
    "**This notebook is an exercise in the [Python](https://www.kaggle.com/learn/python) course.  You can reference the tutorial at [this link](https://www.kaggle.com/colinmorris/loops-and-list-comprehensions).**\n",
    "\n",
    "---\n"
   ]
  },
  {
   "cell_type": "markdown",
   "id": "18ba2b25",
   "metadata": {
    "papermill": {
     "duration": 0.003895,
     "end_time": "2023-12-02T13:32:25.015633",
     "exception": false,
     "start_time": "2023-12-02T13:32:25.011738",
     "status": "completed"
    },
    "tags": []
   },
   "source": [
    "With all you've learned, you can start writing much more interesting programs. See if you can solve the problems below.\n",
    "\n",
    "As always, run the setup code below before working on the questions."
   ]
  },
  {
   "cell_type": "code",
   "execution_count": 1,
   "id": "18b4ad2c",
   "metadata": {
    "execution": {
     "iopub.execute_input": "2023-12-02T13:32:25.025149Z",
     "iopub.status.busy": "2023-12-02T13:32:25.024789Z",
     "iopub.status.idle": "2023-12-02T13:32:25.322455Z",
     "shell.execute_reply": "2023-12-02T13:32:25.321584Z"
    },
    "papermill": {
     "duration": 0.304432,
     "end_time": "2023-12-02T13:32:25.324144",
     "exception": false,
     "start_time": "2023-12-02T13:32:25.019712",
     "status": "completed"
    },
    "tags": []
   },
   "outputs": [
    {
     "name": "stdout",
     "output_type": "stream",
     "text": [
      "Setup complete.\n"
     ]
    }
   ],
   "source": [
    "from learntools.core import binder; binder.bind(globals())\n",
    "from learntools.python.ex5 import *\n",
    "print('Setup complete.')"
   ]
  },
  {
   "cell_type": "markdown",
   "id": "56fe7147",
   "metadata": {
    "papermill": {
     "duration": 0.004125,
     "end_time": "2023-12-02T13:32:25.333070",
     "exception": false,
     "start_time": "2023-12-02T13:32:25.328945",
     "status": "completed"
    },
    "tags": []
   },
   "source": [
    "# 1.\n",
    "\n",
    "Have you ever felt debugging involved a bit of luck? The following program has a bug. Try to identify the bug and fix it."
   ]
  },
  {
   "cell_type": "code",
   "execution_count": 2,
   "id": "874fe67d",
   "metadata": {
    "execution": {
     "iopub.execute_input": "2023-12-02T13:32:25.342613Z",
     "iopub.status.busy": "2023-12-02T13:32:25.342066Z",
     "iopub.status.idle": "2023-12-02T13:32:25.346441Z",
     "shell.execute_reply": "2023-12-02T13:32:25.345761Z"
    },
    "papermill": {
     "duration": 0.010772,
     "end_time": "2023-12-02T13:32:25.347921",
     "exception": false,
     "start_time": "2023-12-02T13:32:25.337149",
     "status": "completed"
    },
    "tags": []
   },
   "outputs": [],
   "source": [
    "def has_lucky_number(nums):\n",
    "    \"\"\"Return whether the given list of numbers is lucky. A lucky list contains\n",
    "    at least one number divisible by 7.\n",
    "    \"\"\"\n",
    "    for num in nums:\n",
    "        if num % 7 == 0:\n",
    "            return True\n",
    "        else:\n",
    "            return False"
   ]
  },
  {
   "cell_type": "markdown",
   "id": "43adf1be",
   "metadata": {
    "papermill": {
     "duration": 0.003928,
     "end_time": "2023-12-02T13:32:25.356093",
     "exception": false,
     "start_time": "2023-12-02T13:32:25.352165",
     "status": "completed"
    },
    "tags": []
   },
   "source": [
    "Try to identify the bug and fix it in the cell below:"
   ]
  },
  {
   "cell_type": "code",
   "execution_count": 3,
   "id": "36df08d6",
   "metadata": {
    "execution": {
     "iopub.execute_input": "2023-12-02T13:32:25.365435Z",
     "iopub.status.busy": "2023-12-02T13:32:25.365141Z",
     "iopub.status.idle": "2023-12-02T13:32:25.372703Z",
     "shell.execute_reply": "2023-12-02T13:32:25.371910Z"
    },
    "papermill": {
     "duration": 0.014084,
     "end_time": "2023-12-02T13:32:25.374257",
     "exception": false,
     "start_time": "2023-12-02T13:32:25.360173",
     "status": "completed"
    },
    "tags": []
   },
   "outputs": [
    {
     "data": {
      "application/javascript": [
       "parent.postMessage({\"jupyterEvent\": \"custom.exercise_interaction\", \"data\": {\"outcomeType\": 1, \"valueTowardsCompletion\": 0.25, \"interactionType\": 1, \"questionType\": 2, \"questionId\": \"1_EarlyExitDebugging\", \"learnToolsVersion\": \"0.3.4\", \"failureMessage\": \"\", \"exceptionClass\": \"\", \"trace\": \"\"}}, \"*\")"
      ],
      "text/plain": [
       "<IPython.core.display.Javascript object>"
      ]
     },
     "metadata": {},
     "output_type": "display_data"
    },
    {
     "data": {
      "text/markdown": [
       "<span style=\"color:#33cc33\">Correct:</span> \n",
       "\n",
       "Remember that `return` causes a function to exit immediately. So our original implementation always ran for just one iteration. We can only return `False` if we've looked at every element of the list (and confirmed that none of them are lucky). Though we can return early if the answer is `True`:\n",
       "\n",
       "```python\n",
       "def has_lucky_number(nums):\n",
       "    for num in nums:\n",
       "        if num % 7 == 0:\n",
       "            return True\n",
       "    # We've exhausted the list without finding a lucky number\n",
       "    return False\n",
       "```\n",
       "\n",
       "Here's a one-line version using a list comprehension with Python's `any` function (you can read about what it does by calling `help(any)`):\n",
       "\n",
       "```python\n",
       "def has_lucky_number(nums):\n",
       "    return any([num % 7 == 0 for num in nums])\n",
       "```\n"
      ],
      "text/plain": [
       "Correct: \n",
       "\n",
       "Remember that `return` causes a function to exit immediately. So our original implementation always ran for just one iteration. We can only return `False` if we've looked at every element of the list (and confirmed that none of them are lucky). Though we can return early if the answer is `True`:\n",
       "\n",
       "```python\n",
       "def has_lucky_number(nums):\n",
       "    for num in nums:\n",
       "        if num % 7 == 0:\n",
       "            return True\n",
       "    # We've exhausted the list without finding a lucky number\n",
       "    return False\n",
       "```\n",
       "\n",
       "Here's a one-line version using a list comprehension with Python's `any` function (you can read about what it does by calling `help(any)`):\n",
       "\n",
       "```python\n",
       "def has_lucky_number(nums):\n",
       "    return any([num % 7 == 0 for num in nums])\n",
       "```"
      ]
     },
     "metadata": {},
     "output_type": "display_data"
    }
   ],
   "source": [
    "def has_lucky_number(nums):\n",
    "    \"\"\"Return whether the given list of numbers is lucky. A lucky list contains\n",
    "    at least one number divisible by 7.\n",
    "    \"\"\"\n",
    "    for num in nums:\n",
    "        if num % 7 == 0:\n",
    "            return True\n",
    "        \n",
    "    return False\n",
    "\n",
    "# Check your answer\n",
    "q1.check()"
   ]
  },
  {
   "cell_type": "code",
   "execution_count": 4,
   "id": "b501977d",
   "metadata": {
    "execution": {
     "iopub.execute_input": "2023-12-02T13:32:25.384042Z",
     "iopub.status.busy": "2023-12-02T13:32:25.383828Z",
     "iopub.status.idle": "2023-12-02T13:32:25.386782Z",
     "shell.execute_reply": "2023-12-02T13:32:25.386112Z"
    },
    "papermill": {
     "duration": 0.009741,
     "end_time": "2023-12-02T13:32:25.388404",
     "exception": false,
     "start_time": "2023-12-02T13:32:25.378663",
     "status": "completed"
    },
    "tags": []
   },
   "outputs": [],
   "source": [
    "#q1.hint()\n",
    "#q1.solution()"
   ]
  },
  {
   "cell_type": "markdown",
   "id": "bcdfdba8",
   "metadata": {
    "papermill": {
     "duration": 0.004277,
     "end_time": "2023-12-02T13:32:25.397188",
     "exception": false,
     "start_time": "2023-12-02T13:32:25.392911",
     "status": "completed"
    },
    "tags": []
   },
   "source": [
    "# 2.\n",
    "Look at the Python expression below. What do you think we'll get when we run it? When you've made your prediction, uncomment the code and run the cell to see if you were right."
   ]
  },
  {
   "cell_type": "markdown",
   "id": "c026a022",
   "metadata": {
    "papermill": {
     "duration": 0.004243,
     "end_time": "2023-12-02T13:32:25.405808",
     "exception": false,
     "start_time": "2023-12-02T13:32:25.401565",
     "status": "completed"
    },
    "tags": []
   },
   "source": [
    "R and Python have some libraries (like numpy and pandas) compare each element of the list to 2 (i.e. do an 'element-wise' comparison) and give us a list of booleans like `[False, False, True, True]`. \n",
    "\n",
    "Implement a function that reproduces this behaviour, returning a list of booleans corresponding to whether the corresponding element is greater than n."
   ]
  },
  {
   "cell_type": "code",
   "execution_count": 5,
   "id": "41eae1cb",
   "metadata": {
    "execution": {
     "iopub.execute_input": "2023-12-02T13:32:25.415680Z",
     "iopub.status.busy": "2023-12-02T13:32:25.415202Z",
     "iopub.status.idle": "2023-12-02T13:32:25.422563Z",
     "shell.execute_reply": "2023-12-02T13:32:25.421810Z"
    },
    "papermill": {
     "duration": 0.013931,
     "end_time": "2023-12-02T13:32:25.424090",
     "exception": false,
     "start_time": "2023-12-02T13:32:25.410159",
     "status": "completed"
    },
    "tags": []
   },
   "outputs": [
    {
     "data": {
      "application/javascript": [
       "parent.postMessage({\"jupyterEvent\": \"custom.exercise_interaction\", \"data\": {\"outcomeType\": 1, \"valueTowardsCompletion\": 0.25, \"interactionType\": 1, \"questionType\": 2, \"questionId\": \"2_ElementWiseComparison\", \"learnToolsVersion\": \"0.3.4\", \"failureMessage\": \"\", \"exceptionClass\": \"\", \"trace\": \"\"}}, \"*\")"
      ],
      "text/plain": [
       "<IPython.core.display.Javascript object>"
      ]
     },
     "metadata": {},
     "output_type": "display_data"
    },
    {
     "data": {
      "text/markdown": [
       "<span style=\"color:#33cc33\">Correct:</span> \n",
       "\n",
       "Here's one solution:\n",
       "```python\n",
       "def elementwise_greater_than(L, thresh):\n",
       "    res = []\n",
       "    for ele in L:\n",
       "        res.append(ele > thresh)\n",
       "    return res\n",
       "```\n",
       "\n",
       "And here's the list comprehension version:\n",
       "```python\n",
       "def elementwise_greater_than(L, thresh):\n",
       "    return [ele > thresh for ele in L]\n",
       "```\n"
      ],
      "text/plain": [
       "Correct: \n",
       "\n",
       "Here's one solution:\n",
       "```python\n",
       "def elementwise_greater_than(L, thresh):\n",
       "    res = []\n",
       "    for ele in L:\n",
       "        res.append(ele > thresh)\n",
       "    return res\n",
       "```\n",
       "\n",
       "And here's the list comprehension version:\n",
       "```python\n",
       "def elementwise_greater_than(L, thresh):\n",
       "    return [ele > thresh for ele in L]\n",
       "```"
      ]
     },
     "metadata": {},
     "output_type": "display_data"
    }
   ],
   "source": [
    "def elementwise_greater_than(L, thresh):\n",
    "    \"\"\"Return a list with the same length as L, where the value at index i is \n",
    "    True if L[i] is greater than thresh, and False otherwise.\n",
    "    \n",
    "    >>> elementwise_greater_than([1, 2, 3, 4], 2)\n",
    "    [False, False, True, True]\n",
    "    \"\"\"\n",
    "    res = []\n",
    "    for l in L:\n",
    "        res.append(l>thresh)\n",
    "    return res\n",
    "# Check your answer\n",
    "q2.check()"
   ]
  },
  {
   "cell_type": "code",
   "execution_count": 6,
   "id": "68eef0f4",
   "metadata": {
    "execution": {
     "iopub.execute_input": "2023-12-02T13:32:25.434505Z",
     "iopub.status.busy": "2023-12-02T13:32:25.433967Z",
     "iopub.status.idle": "2023-12-02T13:32:25.436874Z",
     "shell.execute_reply": "2023-12-02T13:32:25.436362Z"
    },
    "papermill": {
     "duration": 0.009412,
     "end_time": "2023-12-02T13:32:25.438182",
     "exception": false,
     "start_time": "2023-12-02T13:32:25.428770",
     "status": "completed"
    },
    "tags": []
   },
   "outputs": [],
   "source": [
    "#q2.solution()"
   ]
  },
  {
   "cell_type": "markdown",
   "id": "13d50eda",
   "metadata": {
    "papermill": {
     "duration": 0.004394,
     "end_time": "2023-12-02T13:32:25.447255",
     "exception": false,
     "start_time": "2023-12-02T13:32:25.442861",
     "status": "completed"
    },
    "tags": []
   },
   "source": [
    "# 3.\n",
    "\n",
    "Complete the body of the function below according to its docstring."
   ]
  },
  {
   "cell_type": "code",
   "execution_count": 7,
   "id": "f248ef1b",
   "metadata": {
    "execution": {
     "iopub.execute_input": "2023-12-02T13:32:25.457567Z",
     "iopub.status.busy": "2023-12-02T13:32:25.457162Z",
     "iopub.status.idle": "2023-12-02T13:32:25.464340Z",
     "shell.execute_reply": "2023-12-02T13:32:25.463497Z"
    },
    "papermill": {
     "duration": 0.014053,
     "end_time": "2023-12-02T13:32:25.465862",
     "exception": false,
     "start_time": "2023-12-02T13:32:25.451809",
     "status": "completed"
    },
    "tags": []
   },
   "outputs": [
    {
     "data": {
      "application/javascript": [
       "parent.postMessage({\"jupyterEvent\": \"custom.exercise_interaction\", \"data\": {\"outcomeType\": 1, \"valueTowardsCompletion\": 0.25, \"interactionType\": 1, \"questionType\": 2, \"questionId\": \"3_BoringMenu\", \"learnToolsVersion\": \"0.3.4\", \"failureMessage\": \"\", \"exceptionClass\": \"\", \"trace\": \"\"}}, \"*\")"
      ],
      "text/plain": [
       "<IPython.core.display.Javascript object>"
      ]
     },
     "metadata": {},
     "output_type": "display_data"
    },
    {
     "data": {
      "text/markdown": [
       "<span style=\"color:#33cc33\">Correct:</span> \n",
       "\n",
       "\n",
       "\n",
       "```python\n",
       "def menu_is_boring(meals):\n",
       "    # Iterate over all indices of the list, except the last one\n",
       "    for i in range(len(meals)-1):\n",
       "        if meals[i] == meals[i+1]:\n",
       "            return True\n",
       "    return False\n",
       "```\n",
       "\n",
       "The key to our solution is the call to `range`. `range(len(meals))` would give us all the indices of `meals`. If we had used that range, the last iteration of the loop would be comparing the last element to the element after it, which is... `IndexError`! `range(len(meals)-1)` gives us all the indices except the index of the last element.\n",
       "\n",
       "But don't we need to check if `meals` is empty? Turns out that `range(0) == range(-1)` - they're both empty. So if `meals` has length 0 or 1, we just won't do any iterations of our for loop.\n"
      ],
      "text/plain": [
       "Correct: \n",
       "\n",
       "\n",
       "\n",
       "```python\n",
       "def menu_is_boring(meals):\n",
       "    # Iterate over all indices of the list, except the last one\n",
       "    for i in range(len(meals)-1):\n",
       "        if meals[i] == meals[i+1]:\n",
       "            return True\n",
       "    return False\n",
       "```\n",
       "\n",
       "The key to our solution is the call to `range`. `range(len(meals))` would give us all the indices of `meals`. If we had used that range, the last iteration of the loop would be comparing the last element to the element after it, which is... `IndexError`! `range(len(meals)-1)` gives us all the indices except the index of the last element.\n",
       "\n",
       "But don't we need to check if `meals` is empty? Turns out that `range(0) == range(-1)` - they're both empty. So if `meals` has length 0 or 1, we just won't do any iterations of our for loop."
      ]
     },
     "metadata": {},
     "output_type": "display_data"
    }
   ],
   "source": [
    "def menu_is_boring(meals):\n",
    "    \"\"\"Given a list of meals served over some period of time, return True if the\n",
    "    same meal has ever been served two days in a row, and False otherwise.\n",
    "    \"\"\"\n",
    "    for i in range(len(meals)-1):\n",
    "        if meals[i]==meals[i+1]:\n",
    "            return True\n",
    "    return False\n",
    "            \n",
    "\n",
    "# Check your answer\n",
    "q3.check()"
   ]
  },
  {
   "cell_type": "code",
   "execution_count": 8,
   "id": "bb9f505c",
   "metadata": {
    "execution": {
     "iopub.execute_input": "2023-12-02T13:32:25.476675Z",
     "iopub.status.busy": "2023-12-02T13:32:25.476221Z",
     "iopub.status.idle": "2023-12-02T13:32:25.480127Z",
     "shell.execute_reply": "2023-12-02T13:32:25.479626Z"
    },
    "papermill": {
     "duration": 0.010967,
     "end_time": "2023-12-02T13:32:25.481634",
     "exception": false,
     "start_time": "2023-12-02T13:32:25.470667",
     "status": "completed"
    },
    "tags": []
   },
   "outputs": [],
   "source": [
    "#q3.hint()\n",
    "#q3.solution()"
   ]
  },
  {
   "cell_type": "markdown",
   "id": "58d81a7b",
   "metadata": {
    "papermill": {
     "duration": 0.004631,
     "end_time": "2023-12-02T13:32:25.491201",
     "exception": false,
     "start_time": "2023-12-02T13:32:25.486570",
     "status": "completed"
    },
    "tags": []
   },
   "source": [
    "# 4. <span title=\"A bit spicy\" style=\"color: darkgreen \">🌶️</span>\n",
    "\n",
    "Next to the Blackjack table, the Python Challenge Casino has a slot machine. You can get a result from the slot machine by calling `play_slot_machine()`. The number it returns is your winnings in dollars. Usually it returns 0.  But sometimes you'll get lucky and get a big payday. Try running it below:"
   ]
  },
  {
   "cell_type": "code",
   "execution_count": 9,
   "id": "b660e315",
   "metadata": {
    "execution": {
     "iopub.execute_input": "2023-12-02T13:32:25.501789Z",
     "iopub.status.busy": "2023-12-02T13:32:25.501578Z",
     "iopub.status.idle": "2023-12-02T13:32:25.506274Z",
     "shell.execute_reply": "2023-12-02T13:32:25.505580Z"
    },
    "papermill": {
     "duration": 0.011769,
     "end_time": "2023-12-02T13:32:25.507864",
     "exception": false,
     "start_time": "2023-12-02T13:32:25.496095",
     "status": "completed"
    },
    "tags": []
   },
   "outputs": [
    {
     "data": {
      "text/plain": [
       "0"
      ]
     },
     "execution_count": 9,
     "metadata": {},
     "output_type": "execute_result"
    }
   ],
   "source": [
    "play_slot_machine()"
   ]
  },
  {
   "cell_type": "markdown",
   "id": "1e04c053",
   "metadata": {
    "papermill": {
     "duration": 0.004742,
     "end_time": "2023-12-02T13:32:25.517594",
     "exception": false,
     "start_time": "2023-12-02T13:32:25.512852",
     "status": "completed"
    },
    "tags": []
   },
   "source": [
    "By the way, did we mention that each play costs $1? Don't worry, we'll send you the bill later.\n",
    "\n",
    "On average, how much money can you expect to gain (or lose) every time you play the machine?  The casino keeps it a secret, but you can estimate the average value of each pull using a technique called the **Monte Carlo method**. To estimate the average outcome, we simulate the scenario many times, and return the average result.\n",
    "\n",
    "Complete the following function to calculate the average value per play of the slot machine."
   ]
  },
  {
   "cell_type": "code",
   "execution_count": 10,
   "id": "7c188188",
   "metadata": {
    "execution": {
     "iopub.execute_input": "2023-12-02T13:32:25.528570Z",
     "iopub.status.busy": "2023-12-02T13:32:25.528312Z",
     "iopub.status.idle": "2023-12-02T13:32:25.532217Z",
     "shell.execute_reply": "2023-12-02T13:32:25.531551Z"
    },
    "papermill": {
     "duration": 0.011313,
     "end_time": "2023-12-02T13:32:25.533819",
     "exception": false,
     "start_time": "2023-12-02T13:32:25.522506",
     "status": "completed"
    },
    "tags": []
   },
   "outputs": [],
   "source": [
    "def estimate_average_slot_payout(n_runs):\n",
    "    \"\"\"Run the slot machine n_runs times and return the average net profit per run.\n",
    "    Example calls (note that return value is nondeterministic!):\n",
    "    >>> estimate_average_slot_payout(1)\n",
    "    -1\n",
    "    >>> estimate_average_slot_payout(1)\n",
    "    0.5\n",
    "    \"\"\"\n",
    "    val = 0\n",
    "    for i in range(n_runs):\n",
    "        val += play_slot_machine()\n",
    "    return val / n_runs"
   ]
  },
  {
   "cell_type": "markdown",
   "id": "b7c725d9",
   "metadata": {
    "papermill": {
     "duration": 0.004802,
     "end_time": "2023-12-02T13:32:25.543648",
     "exception": false,
     "start_time": "2023-12-02T13:32:25.538846",
     "status": "completed"
    },
    "tags": []
   },
   "source": [
    "When you think you know the expected value per spin, run the code cell below to view the solution and get credit for answering the question."
   ]
  },
  {
   "cell_type": "code",
   "execution_count": 11,
   "id": "606327ab",
   "metadata": {
    "execution": {
     "iopub.execute_input": "2023-12-02T13:32:25.554436Z",
     "iopub.status.busy": "2023-12-02T13:32:25.554171Z",
     "iopub.status.idle": "2023-12-02T13:32:25.561579Z",
     "shell.execute_reply": "2023-12-02T13:32:25.560706Z"
    },
    "papermill": {
     "duration": 0.014592,
     "end_time": "2023-12-02T13:32:25.563186",
     "exception": false,
     "start_time": "2023-12-02T13:32:25.548594",
     "status": "completed"
    },
    "tags": []
   },
   "outputs": [
    {
     "data": {
      "application/javascript": [
       "parent.postMessage({\"jupyterEvent\": \"custom.exercise_interaction\", \"data\": {\"interactionType\": 3, \"questionType\": 4, \"questionId\": \"4_ExpectedSlotsPayout\", \"learnToolsVersion\": \"0.3.4\", \"valueTowardsCompletion\": 0.0, \"failureMessage\": \"\", \"exceptionClass\": \"\", \"trace\": \"\", \"outcomeType\": 4}}, \"*\")"
      ],
      "text/plain": [
       "<IPython.core.display.Javascript object>"
      ]
     },
     "metadata": {},
     "output_type": "display_data"
    },
    {
     "data": {
      "text/markdown": [
       "<span style=\"color:#33cc99\">Solution:</span> \n",
       "    \n",
       "The exact expected value of one pull of the slot machine is 0.025 - i.e. a little more than 2 cents.  See?  Not every game in the Python Challenge Casino is rigged against the player!\n",
       "\n",
       "In order to get this answer, you'll need to implement the `estimate_average_slot_payout(n_runs)` function to simulate pulling the slot machine `n_runs` times.  It should return the payout averaged over those `n_runs`.\n",
       "\n",
       "Then, once the function is defined, in order to estimate the average slot payout, we need only call the function.\n",
       "\n",
       "Because of the high variance of the outcome (there are some very rare high payout results that significantly affect the average) you might need to run your function with a very high value of `n_runs` to get a stable answer close to the true expectation.  For instance, you might use a value for `n_runs` of 1000000.\n",
       "\n",
       "Here's an example for how the function could look:\n",
       "```python\n",
       "def estimate_average_slot_payout(n_runs):\n",
       "    # Play slot machine n_runs times, calculate payout of each\n",
       "    payouts = [play_slot_machine()-1 for i in range(n_runs)]\n",
       "    # Calculate the average value\n",
       "    avg_payout = sum(payouts) / n_runs\n",
       "    return avg_payout\n",
       "    \n",
       "estimate_average_slot_payout(10000000)\n",
       "\n",
       "```\n",
       "\n",
       "This should return an answer close to 0.025!\n",
       "            \n"
      ],
      "text/plain": [
       "Solution: \n",
       "    \n",
       "The exact expected value of one pull of the slot machine is 0.025 - i.e. a little more than 2 cents.  See?  Not every game in the Python Challenge Casino is rigged against the player!\n",
       "\n",
       "In order to get this answer, you'll need to implement the `estimate_average_slot_payout(n_runs)` function to simulate pulling the slot machine `n_runs` times.  It should return the payout averaged over those `n_runs`.\n",
       "\n",
       "Then, once the function is defined, in order to estimate the average slot payout, we need only call the function.\n",
       "\n",
       "Because of the high variance of the outcome (there are some very rare high payout results that significantly affect the average) you might need to run your function with a very high value of `n_runs` to get a stable answer close to the true expectation.  For instance, you might use a value for `n_runs` of 1000000.\n",
       "\n",
       "Here's an example for how the function could look:\n",
       "```python\n",
       "def estimate_average_slot_payout(n_runs):\n",
       "    # Play slot machine n_runs times, calculate payout of each\n",
       "    payouts = [play_slot_machine()-1 for i in range(n_runs)]\n",
       "    # Calculate the average value\n",
       "    avg_payout = sum(payouts) / n_runs\n",
       "    return avg_payout\n",
       "    \n",
       "estimate_average_slot_payout(10000000)\n",
       "\n",
       "```\n",
       "\n",
       "This should return an answer close to 0.025!\n",
       "            "
      ]
     },
     "metadata": {},
     "output_type": "display_data"
    }
   ],
   "source": [
    "# Check your answer (Run this code cell to receive credit!)\n",
    "q4.solution()"
   ]
  },
  {
   "cell_type": "markdown",
   "id": "3161a5c8",
   "metadata": {
    "papermill": {
     "duration": 0.004939,
     "end_time": "2023-12-02T13:32:25.573482",
     "exception": false,
     "start_time": "2023-12-02T13:32:25.568543",
     "status": "completed"
    },
    "tags": []
   },
   "source": [
    "# Keep Going\n",
    "\n",
    "Many programmers report that dictionaries are their favorite data structure. You'll get to **[learn about them](https://www.kaggle.com/colinmorris/strings-and-dictionaries)** (as well as strings) in the next lesson."
   ]
  },
  {
   "cell_type": "markdown",
   "id": "e2984735",
   "metadata": {
    "papermill": {
     "duration": 0.005071,
     "end_time": "2023-12-02T13:32:25.583910",
     "exception": false,
     "start_time": "2023-12-02T13:32:25.578839",
     "status": "completed"
    },
    "tags": []
   },
   "source": [
    "---\n",
    "\n",
    "\n",
    "\n",
    "\n",
    "*Have questions or comments? Visit the [course discussion forum](https://www.kaggle.com/learn/python/discussion) to chat with other learners.*"
   ]
  }
 ],
 "metadata": {
  "kaggle": {
   "accelerator": "none",
   "dataSources": [],
   "isGpuEnabled": false,
   "isInternetEnabled": false,
   "language": "python",
   "sourceType": "notebook"
  },
  "kernelspec": {
   "display_name": "Python 3",
   "language": "python",
   "name": "python3"
  },
  "language_info": {
   "codemirror_mode": {
    "name": "ipython",
    "version": 3
   },
   "file_extension": ".py",
   "mimetype": "text/x-python",
   "name": "python",
   "nbconvert_exporter": "python",
   "pygments_lexer": "ipython3",
   "version": "3.10.12"
  },
  "learntools_metadata": {
   "lesson_index": 4,
   "type": "exercise"
  },
  "papermill": {
   "default_parameters": {},
   "duration": 3.139631,
   "end_time": "2023-12-02T13:32:25.906636",
   "environment_variables": {},
   "exception": null,
   "input_path": "__notebook__.ipynb",
   "output_path": "__notebook__.ipynb",
   "parameters": {},
   "start_time": "2023-12-02T13:32:22.767005",
   "version": "2.4.0"
  }
 },
 "nbformat": 4,
 "nbformat_minor": 5
}
