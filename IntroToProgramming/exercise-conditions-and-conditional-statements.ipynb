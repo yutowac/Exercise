{
 "cells": [
  {
   "cell_type": "markdown",
   "id": "84a20579",
   "metadata": {
    "papermill": {
     "duration": 0.008104,
     "end_time": "2023-11-26T14:17:51.572028",
     "exception": false,
     "start_time": "2023-11-26T14:17:51.563924",
     "status": "completed"
    },
    "tags": []
   },
   "source": [
    "**This notebook is an exercise in the [Intro to Programming](https://www.kaggle.com/learn/intro-to-programming) course.  You can reference the tutorial at [this link](https://www.kaggle.com/alexisbcook/conditions-and-conditional-statements).**\n",
    "\n",
    "---\n"
   ]
  },
  {
   "cell_type": "markdown",
   "id": "79712f4e",
   "metadata": {
    "papermill": {
     "duration": 0.00588,
     "end_time": "2023-11-26T14:17:51.584655",
     "exception": false,
     "start_time": "2023-11-26T14:17:51.578775",
     "status": "completed"
    },
    "tags": []
   },
   "source": [
    "In the tutorial, you learned about conditions and conditional statements. In this exercise, you will use what you learned to answer several questions.\n",
    "\n",
    "# Set up the notebook\n",
    "\n",
    "Run the next code cell without changes to set up the notebook."
   ]
  },
  {
   "cell_type": "code",
   "execution_count": 1,
   "id": "744d52fd",
   "metadata": {
    "execution": {
     "iopub.execute_input": "2023-11-26T14:17:51.599091Z",
     "iopub.status.busy": "2023-11-26T14:17:51.598564Z",
     "iopub.status.idle": "2023-11-26T14:17:51.972145Z",
     "shell.execute_reply": "2023-11-26T14:17:51.970623Z"
    },
    "papermill": {
     "duration": 0.384304,
     "end_time": "2023-11-26T14:17:51.974938",
     "exception": false,
     "start_time": "2023-11-26T14:17:51.590634",
     "status": "completed"
    },
    "tags": []
   },
   "outputs": [
    {
     "name": "stdout",
     "output_type": "stream",
     "text": [
      "Setup complete.\n"
     ]
    }
   ],
   "source": [
    "from learntools.core import binder\n",
    "binder.bind(globals())\n",
    "from learntools.intro_to_programming.ex4 import *\n",
    "print('Setup complete.')"
   ]
  },
  {
   "cell_type": "markdown",
   "id": "d6e6514e",
   "metadata": {
    "papermill": {
     "duration": 0.005658,
     "end_time": "2023-11-26T14:17:51.986936",
     "exception": false,
     "start_time": "2023-11-26T14:17:51.981278",
     "status": "completed"
    },
    "tags": []
   },
   "source": [
    "# Question 1\n",
    "\n",
    "You work at a college admissions office.  When inspecting a dataset of college applicants, you notice that some students have represented their grades with letters (`\"A\"`, `\"B\"`, `\"C\"`, `\"D\"`, `\"F\"`), whereas others have represented their grades with a number between 0 and 100.\n",
    "\n",
    "You realize that for consistency, all of the grades should be formatted in the same way, and you decide to format them all as letters.  For the conversion, you decide to assign:\n",
    "- `\"A\"` - any grade 90-100, inclusive\n",
    "- `\"B\"` - any grade 80-89, inclusive\n",
    "- `\"C\"` - any grade 70-79, inclusive\n",
    "- `\"D\"` - any grade 60-69, inclusive\n",
    "- `\"F\"` - any grade <60\n",
    "\n",
    "Write a function `get_grade()` that takes as input:\n",
    "- `score` - an integer 0-100 corresponding to a numerical grade\n",
    "\n",
    "It should return a Python string with the letter grade that it corresponds to.  For instance,\n",
    "- A score of 85 corresponds to a B grade.  In other words, `get_grade(85)` should return `\"B\"`.\n",
    "- A score of 49 corresponds to an F grade.  In other words, `get_grade(49)` should return `\"F\"`.\n",
    "\n",
    "Make sure that when supplying the grade that is returned by the function, it is enclosed in quotes.  (For instance, if you want to return `\"A\"`, you should write `return \"A\"` and not `return A`.)"
   ]
  },
  {
   "cell_type": "code",
   "execution_count": 2,
   "id": "49e65154",
   "metadata": {
    "execution": {
     "iopub.execute_input": "2023-11-26T14:17:52.000740Z",
     "iopub.status.busy": "2023-11-26T14:17:52.000234Z",
     "iopub.status.idle": "2023-11-26T14:17:52.012369Z",
     "shell.execute_reply": "2023-11-26T14:17:52.010557Z"
    },
    "papermill": {
     "duration": 0.022091,
     "end_time": "2023-11-26T14:17:52.015060",
     "exception": false,
     "start_time": "2023-11-26T14:17:51.992969",
     "status": "completed"
    },
    "tags": []
   },
   "outputs": [
    {
     "data": {
      "application/javascript": [
       "parent.postMessage({\"jupyterEvent\": \"custom.exercise_interaction\", \"data\": {\"outcomeType\": 1, \"valueTowardsCompletion\": 0.2, \"interactionType\": 1, \"questionType\": 2, \"questionId\": \"1_GetGrade\", \"learnToolsVersion\": \"0.3.4\", \"failureMessage\": \"\", \"exceptionClass\": \"\", \"trace\": \"\"}}, \"*\")"
      ],
      "text/plain": [
       "<IPython.core.display.Javascript object>"
      ]
     },
     "metadata": {},
     "output_type": "display_data"
    },
    {
     "data": {
      "text/markdown": [
       "<span style=\"color:#33cc33\">Correct</span>"
      ],
      "text/plain": [
       "Correct"
      ]
     },
     "metadata": {},
     "output_type": "display_data"
    }
   ],
   "source": [
    "# TODO: Edit the function to return the correct grade for different scores\n",
    "def get_grade(score):\n",
    "    if score > 89:\n",
    "        grade = \"A\"\n",
    "    elif score > 79:\n",
    "        grade = \"B\"\n",
    "    elif score > 69:\n",
    "        grade = \"C\"\n",
    "    elif score > 59:\n",
    "        grade = \"D\"\n",
    "    else:\n",
    "        grade = \"F\"\n",
    "    return grade\n",
    "    \n",
    "# Check your answer\n",
    "q1.check()"
   ]
  },
  {
   "cell_type": "code",
   "execution_count": 3,
   "id": "885b7467",
   "metadata": {
    "execution": {
     "iopub.execute_input": "2023-11-26T14:17:52.029496Z",
     "iopub.status.busy": "2023-11-26T14:17:52.029108Z",
     "iopub.status.idle": "2023-11-26T14:17:52.034699Z",
     "shell.execute_reply": "2023-11-26T14:17:52.033197Z"
    },
    "papermill": {
     "duration": 0.015718,
     "end_time": "2023-11-26T14:17:52.037392",
     "exception": false,
     "start_time": "2023-11-26T14:17:52.021674",
     "status": "completed"
    },
    "tags": []
   },
   "outputs": [],
   "source": [
    "# Uncomment to see a hint\n",
    "#q1.hint()\n",
    "\n",
    "# Uncomment to see the solution\n",
    "#q1.solution()"
   ]
  },
  {
   "cell_type": "markdown",
   "id": "fb4900dc",
   "metadata": {
    "papermill": {
     "duration": 0.006249,
     "end_time": "2023-11-26T14:17:52.050154",
     "exception": false,
     "start_time": "2023-11-26T14:17:52.043905",
     "status": "completed"
    },
    "tags": []
   },
   "source": [
    "# Question 2\n",
    "\n",
    "In the exercise for the previous lesson, you wrote a function `cost_of_project()` that estimated the price of rings for an online shop that sells rings with custom engravings.  This function did not use conditional statements.  In this exercise, you will rewrite the function to use conditional statements.  Recall that the online shop has the following price structure:\n",
    "- Gold plated rings have a base cost of \\\\$50, and you charge \\\\$7 per engraved unit.  \n",
    "- Solid gold rings have a base cost of \\\\$100, and you charge \\\\$10 per engraved unit.\n",
    "- Spaces and punctuation are counted as engraved units.\n",
    "\n",
    "Your function `cost_of_project()` takes two arguments:\n",
    "- `engraving` - a Python string with the text of the engraving\n",
    "- `solid_gold` - a Boolean that indicates whether the ring is solid gold\n",
    "\n",
    "It should return the cost of the project.  \n",
    "\n",
    "The function has been partially completed for you, and you need to fill in the blanks to complete the function."
   ]
  },
  {
   "cell_type": "code",
   "execution_count": 4,
   "id": "8eeeba5d",
   "metadata": {
    "execution": {
     "iopub.execute_input": "2023-11-26T14:17:52.065243Z",
     "iopub.status.busy": "2023-11-26T14:17:52.064912Z",
     "iopub.status.idle": "2023-11-26T14:17:52.076240Z",
     "shell.execute_reply": "2023-11-26T14:17:52.074598Z"
    },
    "papermill": {
     "duration": 0.022246,
     "end_time": "2023-11-26T14:17:52.079003",
     "exception": false,
     "start_time": "2023-11-26T14:17:52.056757",
     "status": "completed"
    },
    "tags": []
   },
   "outputs": [
    {
     "data": {
      "application/javascript": [
       "parent.postMessage({\"jupyterEvent\": \"custom.exercise_interaction\", \"data\": {\"outcomeType\": 1, \"valueTowardsCompletion\": 0.2, \"interactionType\": 1, \"questionType\": 2, \"questionId\": \"2_CostProjectPartDeux\", \"learnToolsVersion\": \"0.3.4\", \"failureMessage\": \"\", \"exceptionClass\": \"\", \"trace\": \"\"}}, \"*\")"
      ],
      "text/plain": [
       "<IPython.core.display.Javascript object>"
      ]
     },
     "metadata": {},
     "output_type": "display_data"
    },
    {
     "data": {
      "text/markdown": [
       "<span style=\"color:#33cc33\">Correct</span>"
      ],
      "text/plain": [
       "Correct"
      ]
     },
     "metadata": {},
     "output_type": "display_data"
    }
   ],
   "source": [
    "def cost_of_project(engraving, solid_gold):\n",
    "    if solid_gold == True:\n",
    "        cost = len(engraving) * 10 + 100\n",
    "    else:\n",
    "        cost = len(engraving) * 7 + 50\n",
    "    return cost\n",
    "\n",
    "# Check your answer\n",
    "q2.check()"
   ]
  },
  {
   "cell_type": "code",
   "execution_count": 5,
   "id": "6c8939b5",
   "metadata": {
    "execution": {
     "iopub.execute_input": "2023-11-26T14:17:52.097581Z",
     "iopub.status.busy": "2023-11-26T14:17:52.097188Z",
     "iopub.status.idle": "2023-11-26T14:17:52.102184Z",
     "shell.execute_reply": "2023-11-26T14:17:52.101040Z"
    },
    "papermill": {
     "duration": 0.016202,
     "end_time": "2023-11-26T14:17:52.104816",
     "exception": false,
     "start_time": "2023-11-26T14:17:52.088614",
     "status": "completed"
    },
    "tags": []
   },
   "outputs": [],
   "source": [
    "# Uncomment to see a hint\n",
    "#q2.hint()\n",
    "\n",
    "# Uncomment to see the solution\n",
    "#q2.solution()"
   ]
  },
  {
   "cell_type": "markdown",
   "id": "4d7c1efb",
   "metadata": {
    "papermill": {
     "duration": 0.00645,
     "end_time": "2023-11-26T14:17:52.117988",
     "exception": false,
     "start_time": "2023-11-26T14:17:52.111538",
     "status": "completed"
    },
    "tags": []
   },
   "source": [
    "# Question 3\n",
    "\n",
    "You are a programmer at a water agency.  Recently, you have been tasked to write a function `get_water_bill()` that takes as input:\n",
    "- `num_gallons` = the number of gallons of water that a customer used that month.  (This will always be an integer with no decimal part.)\n",
    "\n",
    "It should output the water bill.  \n",
    "\n",
    "The water agency uses this pricing structure:\n",
    "<table style=\"width: 100%;\">\n",
    "<tbody>\n",
    "<tr><th><b>Tier</b></th><th><b>Amount in gallons</b></th><th><b>Price per 1000 gallons</b></th></tr>\n",
    "<tr>\n",
    "<td>Tier 1</td>\n",
    "<td>0 - 8,000</td>\n",
    "<td>\\$5</td>\n",
    "</tr>\n",
    "<tr>\n",
    "<td>Tier 2</td>\n",
    "<td>8,001 - 22,000</td>\n",
    "<td>\\$6</td>\n",
    "</tr>\n",
    "<tr>\n",
    "<td>Tier 3</td>\n",
    "<td>22,001 - 30,000</td>\n",
    "<td>\\$7</td>\n",
    "</tr>\n",
    "<tr>\n",
    "<td>Tier 4</td>\n",
    "<td>30,001+</td>\n",
    "<td>\\$10</td>\n",
    "</tr>\n",
    "</tbody>\n",
    "</table>\n",
    "\n",
    "For example: \n",
    "- Someone who uses 10,000 gallons of water in a month is placed in Tier 2, and needs to pay a water bill of \\\\$6 * 10 = \\\\$60.  In other words, `get_water_bill(10000)` should return `60.0`.\n",
    "- Someone who uses 25,000 gallons of water in a month is placed in Tier 3, and needs to pay a water bill of \\\\$7 * 25 = \\\\$175.  In other words, `get_water_bill(25000)` should return `175.0`.\n",
    "\n",
    "**Do not round your answer.**  So, your answer might return fractions of a penny."
   ]
  },
  {
   "cell_type": "code",
   "execution_count": 6,
   "id": "b6da3d67",
   "metadata": {
    "execution": {
     "iopub.execute_input": "2023-11-26T14:17:52.134683Z",
     "iopub.status.busy": "2023-11-26T14:17:52.134251Z",
     "iopub.status.idle": "2023-11-26T14:17:52.144427Z",
     "shell.execute_reply": "2023-11-26T14:17:52.142550Z"
    },
    "papermill": {
     "duration": 0.022314,
     "end_time": "2023-11-26T14:17:52.147053",
     "exception": false,
     "start_time": "2023-11-26T14:17:52.124739",
     "status": "completed"
    },
    "tags": []
   },
   "outputs": [
    {
     "data": {
      "application/javascript": [
       "parent.postMessage({\"jupyterEvent\": \"custom.exercise_interaction\", \"data\": {\"outcomeType\": 1, \"valueTowardsCompletion\": 0.2, \"interactionType\": 1, \"questionType\": 2, \"questionId\": \"3_GetWaterBill\", \"learnToolsVersion\": \"0.3.4\", \"failureMessage\": \"\", \"exceptionClass\": \"\", \"trace\": \"\"}}, \"*\")"
      ],
      "text/plain": [
       "<IPython.core.display.Javascript object>"
      ]
     },
     "metadata": {},
     "output_type": "display_data"
    },
    {
     "data": {
      "text/markdown": [
       "<span style=\"color:#33cc33\">Correct</span>"
      ],
      "text/plain": [
       "Correct"
      ]
     },
     "metadata": {},
     "output_type": "display_data"
    }
   ],
   "source": [
    "# TODO: Edit the function to return the correct bill for different\n",
    "# values of num_gallons\n",
    "def get_water_bill(num_gallons):\n",
    "    if num_gallons < 8001:\n",
    "        ppg = 5\n",
    "    elif num_gallons < 22001:\n",
    "        ppg = 6\n",
    "    elif num_gallons < 30001:\n",
    "        ppg = 7\n",
    "    else:\n",
    "        ppg = 10\n",
    "    bill = ppg * num_gallons / 1000\n",
    "    return bill\n",
    "\n",
    "# Check your answer\n",
    "q3.check()"
   ]
  },
  {
   "cell_type": "code",
   "execution_count": 7,
   "id": "89e6fc16",
   "metadata": {
    "execution": {
     "iopub.execute_input": "2023-11-26T14:17:52.162612Z",
     "iopub.status.busy": "2023-11-26T14:17:52.162156Z",
     "iopub.status.idle": "2023-11-26T14:17:52.167258Z",
     "shell.execute_reply": "2023-11-26T14:17:52.165916Z"
    },
    "papermill": {
     "duration": 0.015511,
     "end_time": "2023-11-26T14:17:52.169444",
     "exception": false,
     "start_time": "2023-11-26T14:17:52.153933",
     "status": "completed"
    },
    "tags": []
   },
   "outputs": [],
   "source": [
    "# Uncomment to see a hint\n",
    "#q3.hint()\n",
    "\n",
    "# Uncomment to see the solution\n",
    "#q3.solution()"
   ]
  },
  {
   "cell_type": "markdown",
   "id": "64c77673",
   "metadata": {
    "papermill": {
     "duration": 0.008589,
     "end_time": "2023-11-26T14:17:52.184846",
     "exception": false,
     "start_time": "2023-11-26T14:17:52.176257",
     "status": "completed"
    },
    "tags": []
   },
   "source": [
    "# Question 4\n",
    "\n",
    "You work for a company that provides data services.  For \\\\$100/month, your company provides 15 gigabytes (GB) of data.  Then, any additional data is billed at \\\\$0.10/MB (or \\\\$100/GB, since 1,000 MB are in 1 GB).\n",
    "\n",
    "Use the next code cell to write a function `get_phone_bill()` that takes as input:\n",
    "- `gb` = number of GB that the customer used in a month\n",
    "\n",
    "It should return the customer's total phone bill.\n",
    "\n",
    "For instance:\n",
    "- A customer who uses 10 GB of data in one month is billed only \\\\$100, since the usage stayed under 15 GB.  In other words, `get_phone_bill(10)` should return `100`.\n",
    "- A customer who uses 15.1 GB (or 15 GB + 100 MB) of data in one month has gone over by .1 GB, so they must pay \\\\$100 (cost of plan), plus \\\\$0.10 * 100 = \\\\$10, for a total bill of \\\\$110.  In other words, `get_phone_bill(15.1)` should return `110`.\n",
    "\n",
    "Do not round your answer."
   ]
  },
  {
   "cell_type": "code",
   "execution_count": 8,
   "id": "31d880dc",
   "metadata": {
    "execution": {
     "iopub.execute_input": "2023-11-26T14:17:52.201628Z",
     "iopub.status.busy": "2023-11-26T14:17:52.201284Z",
     "iopub.status.idle": "2023-11-26T14:17:52.210011Z",
     "shell.execute_reply": "2023-11-26T14:17:52.208846Z"
    },
    "papermill": {
     "duration": 0.019715,
     "end_time": "2023-11-26T14:17:52.212738",
     "exception": false,
     "start_time": "2023-11-26T14:17:52.193023",
     "status": "completed"
    },
    "tags": []
   },
   "outputs": [
    {
     "data": {
      "application/javascript": [
       "parent.postMessage({\"jupyterEvent\": \"custom.exercise_interaction\", \"data\": {\"outcomeType\": 1, \"valueTowardsCompletion\": 0.2, \"interactionType\": 1, \"questionType\": 2, \"questionId\": \"4_GetPhoneBill\", \"learnToolsVersion\": \"0.3.4\", \"failureMessage\": \"\", \"exceptionClass\": \"\", \"trace\": \"\"}}, \"*\")"
      ],
      "text/plain": [
       "<IPython.core.display.Javascript object>"
      ]
     },
     "metadata": {},
     "output_type": "display_data"
    },
    {
     "data": {
      "text/markdown": [
       "<span style=\"color:#33cc33\">Correct</span>"
      ],
      "text/plain": [
       "Correct"
      ]
     },
     "metadata": {},
     "output_type": "display_data"
    }
   ],
   "source": [
    "# TODO: Edit the function to return the correct bill for different\n",
    "# values of GB\n",
    "def get_phone_bill(gb):\n",
    "    if gb <= 15:\n",
    "        bill = 100\n",
    "    else:\n",
    "        bill = 100 + (gb - 15) * 100\n",
    "    return bill\n",
    "\n",
    "# Check your answer\n",
    "q4.check()"
   ]
  },
  {
   "cell_type": "code",
   "execution_count": 9,
   "id": "4d414918",
   "metadata": {
    "execution": {
     "iopub.execute_input": "2023-11-26T14:17:52.229640Z",
     "iopub.status.busy": "2023-11-26T14:17:52.229243Z",
     "iopub.status.idle": "2023-11-26T14:17:52.234735Z",
     "shell.execute_reply": "2023-11-26T14:17:52.233251Z"
    },
    "papermill": {
     "duration": 0.01772,
     "end_time": "2023-11-26T14:17:52.237728",
     "exception": false,
     "start_time": "2023-11-26T14:17:52.220008",
     "status": "completed"
    },
    "tags": []
   },
   "outputs": [],
   "source": [
    "# Uncomment to see a hint\n",
    "#q4.hint()\n",
    "\n",
    "# Uncomment to see the solution\n",
    "#q4.solution()"
   ]
  },
  {
   "cell_type": "markdown",
   "id": "0f1f99ac",
   "metadata": {
    "papermill": {
     "duration": 0.006867,
     "end_time": "2023-11-26T14:17:52.252127",
     "exception": false,
     "start_time": "2023-11-26T14:17:52.245260",
     "status": "completed"
    },
    "tags": []
   },
   "source": [
    "# 🌶️ Question 5\n",
    "\n",
    "In Mexico, foods and beverages that are high in saturated fat, trans fat, sugar, sodium, and/or calories appear with warning labels that are designed to help consumers make healthy food choices.\n",
    "\n",
    "For instance, the [box of cookies](https://world.openfoodfacts.org/product/7501000673209/florentinas-gamesa) in the image below appears with two labels (in the upper right corner):\n",
    "- EXCESO CALORÍAS (in English, EXCESS CALORIES)\n",
    "- EXCESO AZÚCARES (in English, EXCESS SUGAR)\n",
    "\n",
    "<center><img src=\"https://storage.googleapis.com/kaggle-media/learn/images/VXYKHnM.png\" alt=\"drawing\" width=\"500\"/></center>\n",
    "\n",
    "In this question, you'll work with a function `get_labels()` that takes the nutritional details about a food item and prints the needed warning labels.  This function takes several inputs:\n",
    "- `food_type` = one of `\"solid\"` or `\"liquid\"`\n",
    "- `serving_size` = size of one serving (if solid, in grams; if liquid, in milliliters)\n",
    "- `calories_per_serving` = calories in one serving\n",
    "- `saturated_fat_g` = grams of saturated fat in one serving\n",
    "- `trans_fat_g` = grams of trans fat in one serving\n",
    "- `sodium_mg` = mg of sodium in one serving\n",
    "- `sugars_g` = grams of sugar in one serving\n",
    "\n",
    "Note that some of the code here should feel unfamiliar to you, since we have not shared the details of how some of the functions like `excess_sugar()` or `excess_saturated_fat()` work.  But at a high level, these are functions that return a value of `True` if the food is deemed to have an excess of sugar or saturated fat, respectively.  These functions are used within the `get_labels()` function, and whenever there is an excess (of sugar or saturated fat, but also of trans fat, sodium, or calories), it prints the corresponding label."
   ]
  },
  {
   "cell_type": "code",
   "execution_count": 10,
   "id": "2cb12179",
   "metadata": {
    "execution": {
     "iopub.execute_input": "2023-11-26T14:17:52.268973Z",
     "iopub.status.busy": "2023-11-26T14:17:52.268510Z",
     "iopub.status.idle": "2023-11-26T14:17:52.277918Z",
     "shell.execute_reply": "2023-11-26T14:17:52.276613Z"
    },
    "papermill": {
     "duration": 0.020989,
     "end_time": "2023-11-26T14:17:52.280284",
     "exception": false,
     "start_time": "2023-11-26T14:17:52.259295",
     "status": "completed"
    },
    "tags": []
   },
   "outputs": [],
   "source": [
    "# import functions needed to make get_labels work\n",
    "from learntools.intro_to_programming.ex4q5 import excess_sugar, excess_saturated_fat, excess_trans_fat, excess_sodium, excess_calories\n",
    "\n",
    "def get_labels(food_type, serving_size, calories_per_serving, saturated_fat_g, trans_fat_g, sodium_mg, sugars_g):\n",
    "    # Print messages based on findings\n",
    "    if excess_sugar(sugars_g, calories_per_serving) == True:\n",
    "        print(\"EXCESO AZÚCARES / EXCESS SUGAR\")\n",
    "    if excess_saturated_fat(saturated_fat_g, calories_per_serving) == True:\n",
    "        print(\"EXCESO GRASAS SATURADAS / EXCESS SATURATED FAT\")\n",
    "    if excess_trans_fat(trans_fat_g, calories_per_serving) == True:\n",
    "        print(\"EXCESO GRASAS TRANS / EXCESS TRANS FAT\")\n",
    "    if excess_sodium(calories_per_serving, sodium_mg) == True:\n",
    "        print(\"EXCESO SODIO / EXCESS SODIUM\")\n",
    "    if excess_calories(food_type, calories_per_serving, serving_size) == True:\n",
    "        print(\"EXCESO CALORÍAS / EXCESS CALORIES\")"
   ]
  },
  {
   "cell_type": "markdown",
   "id": "c7aecf62",
   "metadata": {
    "papermill": {
     "duration": 0.006736,
     "end_time": "2023-11-26T14:17:52.294103",
     "exception": false,
     "start_time": "2023-11-26T14:17:52.287367",
     "status": "completed"
    },
    "tags": []
   },
   "source": [
    "The next code cell demonstrates how to use `get_labels()` to get the warning labels that the food item should contain.  We begin with [bologna](https://world.openfoodfacts.org/product/4099100179378/bologna).  Here is [an image](https://storage.googleapis.com/kaggle-media/learn/images/Cfcx72e.png) with all of the nutritional information.  Note that for this food,\n",
    "- `food_type = \"solid\"` (because bologna is a solid and not a liquid)\n",
    "- `serving_size = 32` (the serving size is 32 grams)\n",
    "- `calories_per_serving = 110` (there are 110 calories per serving)\n",
    "- `saturated_fat_g = 2.5` (there are 2.5 grams of saturated fat per serving)\n",
    "- `trans_fat_g = 0` (there are 0 grams of trans fat per serving)\n",
    "- `sodium_mg = 400` (there are 400 mg of sodium per serving)\n",
    "- `sugars_g = 1` (the nutrition facts say <1g, but we will round it up to 1 gram per serving to be safe)\n",
    "\n",
    "By supplying all of these values to the function, we can print the warning labels."
   ]
  },
  {
   "cell_type": "code",
   "execution_count": 11,
   "id": "e303eeba",
   "metadata": {
    "execution": {
     "iopub.execute_input": "2023-11-26T14:17:52.310216Z",
     "iopub.status.busy": "2023-11-26T14:17:52.309794Z",
     "iopub.status.idle": "2023-11-26T14:17:52.320924Z",
     "shell.execute_reply": "2023-11-26T14:17:52.319672Z"
    },
    "papermill": {
     "duration": 0.02331,
     "end_time": "2023-11-26T14:17:52.324285",
     "exception": false,
     "start_time": "2023-11-26T14:17:52.300975",
     "status": "completed"
    },
    "tags": []
   },
   "outputs": [
    {
     "name": "stdout",
     "output_type": "stream",
     "text": [
      "EXCESO GRASAS SATURADAS / EXCESS SATURATED FAT\n",
      "EXCESO SODIO / EXCESS SODIUM\n",
      "EXCESO CALORÍAS / EXCESS CALORIES\n"
     ]
    }
   ],
   "source": [
    "# bologna https://world.openfoodfacts.org/product/4099100179378/bologna\n",
    "get_labels(\"solid\", 32, 110, 2.5, 0, 400, 1)"
   ]
  },
  {
   "cell_type": "markdown",
   "id": "6f77f4c4",
   "metadata": {
    "papermill": {
     "duration": 0.007101,
     "end_time": "2023-11-26T14:17:52.338812",
     "exception": false,
     "start_time": "2023-11-26T14:17:52.331711",
     "status": "completed"
    },
    "tags": []
   },
   "source": [
    "This bologna has three labels, printed in the output above.\n",
    "\n",
    "For the rest of this question, you will use the same `get_labels()` function to determine the labels for more foods.  This question is designed to help you get practice with feeling comfortable with code that other people have written, and where you don't have time to review every single line of code before interacting with it.  For instance, when you take the [Intro to Machine Learning course](http://www.kaggle.com/learn/intro-to-machine-learning), you'll work with a Python package called \"scikit-learn\", which is a large collection of code that you'll learn how to run without reviewing all of the code in detail (as it would take too long, and you can trust that it was implemented correctly).\n",
    "\n",
    "In general, as you continue coding in Python, you will often be running code that other people have written.  This is common practice for advanced programmers.\n",
    "\n",
    "In the next code cell, fill in the values for [this cereal](https://world.openfoodfacts.org/product/7501008023624/zucaritas-kellogg-s).  Here is [an image](https://storage.googleapis.com/kaggle-media/learn/images/MUxzHVU.png) with all of the nutritional information.\n",
    "\n",
    "**Note**: running the line of code below as-is will return an error.  You have to fill in the nutritional values first."
   ]
  },
  {
   "cell_type": "code",
   "execution_count": 12,
   "id": "99a0afdb",
   "metadata": {
    "execution": {
     "iopub.execute_input": "2023-11-26T14:17:52.356392Z",
     "iopub.status.busy": "2023-11-26T14:17:52.356042Z",
     "iopub.status.idle": "2023-11-26T14:17:52.360543Z",
     "shell.execute_reply": "2023-11-26T14:17:52.359166Z"
    },
    "papermill": {
     "duration": 0.015973,
     "end_time": "2023-11-26T14:17:52.362995",
     "exception": false,
     "start_time": "2023-11-26T14:17:52.347022",
     "status": "completed"
    },
    "tags": []
   },
   "outputs": [],
   "source": [
    "# zucaritas cereal https://world.openfoodfacts.org/product/7501008023624/zucaritas-kellogg-s\n",
    "# TODO: Uncomment the line below, fill in the values, and run the function\n",
    "# get_labels()"
   ]
  },
  {
   "cell_type": "markdown",
   "id": "8187308a",
   "metadata": {
    "papermill": {
     "duration": 0.006597,
     "end_time": "2023-11-26T14:17:52.376718",
     "exception": false,
     "start_time": "2023-11-26T14:17:52.370121",
     "status": "completed"
    },
    "tags": []
   },
   "source": [
    "Next, try [these mozzarella sticks](https://world-es.openfoodfacts.org/producto/0062325540104/mozzarella-cheese-sticks).  Here is [an image](https://storage.googleapis.com/kaggle-media/learn/images/rcdB7VH.png) with all of the nutritional information."
   ]
  },
  {
   "cell_type": "code",
   "execution_count": 13,
   "id": "f83d1b92",
   "metadata": {
    "execution": {
     "iopub.execute_input": "2023-11-26T14:17:52.392665Z",
     "iopub.status.busy": "2023-11-26T14:17:52.392054Z",
     "iopub.status.idle": "2023-11-26T14:17:52.397094Z",
     "shell.execute_reply": "2023-11-26T14:17:52.396355Z"
    },
    "papermill": {
     "duration": 0.015159,
     "end_time": "2023-11-26T14:17:52.398931",
     "exception": false,
     "start_time": "2023-11-26T14:17:52.383772",
     "status": "completed"
    },
    "tags": []
   },
   "outputs": [],
   "source": [
    "# mozzarella sticks https://world-es.openfoodfacts.org/producto/0062325540104/mozzarella-cheese-sticks\n",
    "# TODO: Uncomment the line below, fill in the values, and run the function\n",
    "#get_labels()"
   ]
  },
  {
   "cell_type": "markdown",
   "id": "64a120ce",
   "metadata": {
    "papermill": {
     "duration": 0.006427,
     "end_time": "2023-11-26T14:17:52.412392",
     "exception": false,
     "start_time": "2023-11-26T14:17:52.405965",
     "status": "completed"
    },
    "tags": []
   },
   "source": [
    "Feel free to skip to the end of the notebook now and run `q5.check()` to complete the exercise.  If you want to try more foods, \n",
    "- try [these cookies](https://world.openfoodfacts.org/product/0069700118545/biscuits-au-sucre-pretraches).  Here is [an image](https://storage.googleapis.com/kaggle-media/learn/images/2Bc271o.png) with all of the nutritional information.\n",
    "- try [this soda](https://world-es.openfoodfacts.org/producto/0078000113464/orange-soda-sunkist).  Here is [an image](https://storage.googleapis.com/kaggle-media/learn/images/RsBYa8E.png) with all of the nutritional information.\n",
    "\n",
    "Use the two code cells below for this."
   ]
  },
  {
   "cell_type": "code",
   "execution_count": 14,
   "id": "218a6544",
   "metadata": {
    "execution": {
     "iopub.execute_input": "2023-11-26T14:17:52.427846Z",
     "iopub.status.busy": "2023-11-26T14:17:52.427236Z",
     "iopub.status.idle": "2023-11-26T14:17:52.431188Z",
     "shell.execute_reply": "2023-11-26T14:17:52.430095Z"
    },
    "papermill": {
     "duration": 0.014387,
     "end_time": "2023-11-26T14:17:52.433609",
     "exception": false,
     "start_time": "2023-11-26T14:17:52.419222",
     "status": "completed"
    },
    "tags": []
   },
   "outputs": [],
   "source": [
    "# pillsbury cookies https://world.openfoodfacts.org/product/0069700118545/biscuits-au-sucre-pretraches\n",
    "# TODO: Uncomment the line below, fill in the values, and run the function\n",
    "#get_labels()"
   ]
  },
  {
   "cell_type": "code",
   "execution_count": 15,
   "id": "06796b77",
   "metadata": {
    "execution": {
     "iopub.execute_input": "2023-11-26T14:17:52.449771Z",
     "iopub.status.busy": "2023-11-26T14:17:52.449375Z",
     "iopub.status.idle": "2023-11-26T14:17:52.452976Z",
     "shell.execute_reply": "2023-11-26T14:17:52.452352Z"
    },
    "papermill": {
     "duration": 0.014225,
     "end_time": "2023-11-26T14:17:52.455224",
     "exception": false,
     "start_time": "2023-11-26T14:17:52.440999",
     "status": "completed"
    },
    "tags": []
   },
   "outputs": [],
   "source": [
    "# sunkist orange soda https://world-es.openfoodfacts.org/producto/0078000113464/orange-soda-sunkist\n",
    "# TODO: Uncomment the line below, fill in the values, and run the function\n",
    "#get_labels()"
   ]
  },
  {
   "cell_type": "markdown",
   "id": "fc697a11",
   "metadata": {
    "papermill": {
     "duration": 0.007269,
     "end_time": "2023-11-26T14:17:52.469875",
     "exception": false,
     "start_time": "2023-11-26T14:17:52.462606",
     "status": "completed"
    },
    "tags": []
   },
   "source": [
    "Once you have finished investigating the food items in this question, run the final code cell to get credit for completing this problem."
   ]
  },
  {
   "cell_type": "code",
   "execution_count": 16,
   "id": "9e3701e8",
   "metadata": {
    "execution": {
     "iopub.execute_input": "2023-11-26T14:17:52.486682Z",
     "iopub.status.busy": "2023-11-26T14:17:52.486256Z",
     "iopub.status.idle": "2023-11-26T14:17:52.490556Z",
     "shell.execute_reply": "2023-11-26T14:17:52.489442Z"
    },
    "papermill": {
     "duration": 0.015124,
     "end_time": "2023-11-26T14:17:52.492754",
     "exception": false,
     "start_time": "2023-11-26T14:17:52.477630",
     "status": "completed"
    },
    "tags": []
   },
   "outputs": [],
   "source": [
    "# Get credit for completing the problem\n",
    "#q5.check()"
   ]
  },
  {
   "cell_type": "markdown",
   "id": "cb06e3bd",
   "metadata": {
    "papermill": {
     "duration": 0.006941,
     "end_time": "2023-11-26T14:17:52.506945",
     "exception": false,
     "start_time": "2023-11-26T14:17:52.500004",
     "status": "completed"
    },
    "tags": []
   },
   "source": [
    "# Keep going\n",
    "\n",
    "Continue to the next lesson to **[learn about Python lists](https://www.kaggle.com/alexisbcook/intro-to-lists)**."
   ]
  },
  {
   "cell_type": "markdown",
   "id": "b799b6d7",
   "metadata": {
    "papermill": {
     "duration": 0.006832,
     "end_time": "2023-11-26T14:17:52.520776",
     "exception": false,
     "start_time": "2023-11-26T14:17:52.513944",
     "status": "completed"
    },
    "tags": []
   },
   "source": [
    "---\n",
    "\n",
    "\n",
    "\n",
    "\n",
    "*Have questions or comments? Visit the [course discussion forum](https://www.kaggle.com/learn/intro-to-programming/discussion) to chat with other learners.*"
   ]
  }
 ],
 "metadata": {
  "kaggle": {
   "accelerator": "none",
   "dataSources": [],
   "isGpuEnabled": false,
   "isInternetEnabled": true,
   "language": "python",
   "sourceType": "notebook"
  },
  "kernelspec": {
   "display_name": "Python 3",
   "language": "python",
   "name": "python3"
  },
  "language_info": {
   "codemirror_mode": {
    "name": "ipython",
    "version": 3
   },
   "file_extension": ".py",
   "mimetype": "text/x-python",
   "name": "python",
   "nbconvert_exporter": "python",
   "pygments_lexer": "ipython3",
   "version": "3.10.12"
  },
  "papermill": {
   "default_parameters": {},
   "duration": 4.360126,
   "end_time": "2023-11-26T14:17:53.049116",
   "environment_variables": {},
   "exception": null,
   "input_path": "__notebook__.ipynb",
   "output_path": "__notebook__.ipynb",
   "parameters": {},
   "start_time": "2023-11-26T14:17:48.688990",
   "version": "2.4.0"
  }
 },
 "nbformat": 4,
 "nbformat_minor": 5
}
