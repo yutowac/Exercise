{
 "cells": [
  {
   "cell_type": "markdown",
   "id": "88cd0ff6",
   "metadata": {
    "papermill": {
     "duration": 0.009558,
     "end_time": "2023-11-25T13:29:05.169487",
     "exception": false,
     "start_time": "2023-11-25T13:29:05.159929",
     "status": "completed"
    },
    "tags": []
   },
   "source": [
    "**This notebook is an exercise in the [Intro to Programming](https://www.kaggle.com/learn/intro-to-programming) course.  You can reference the tutorial at [this link](https://www.kaggle.com/alexisbcook/data-types).**\n",
    "\n",
    "---\n"
   ]
  },
  {
   "cell_type": "markdown",
   "id": "6eb3272f",
   "metadata": {
    "papermill": {
     "duration": 0.008739,
     "end_time": "2023-11-25T13:29:05.187873",
     "exception": false,
     "start_time": "2023-11-25T13:29:05.179134",
     "status": "completed"
    },
    "tags": []
   },
   "source": [
    "In the tutorial, you learned about four different data types: floats, integers, strings, and booleans.  In this exercise, you'll experiment with them.\n",
    "\n",
    "# Set up the notebook\n",
    "\n",
    "Run the next code cell without changes to set up the notebook."
   ]
  },
  {
   "cell_type": "code",
   "execution_count": 1,
   "id": "65708161",
   "metadata": {
    "execution": {
     "iopub.execute_input": "2023-11-25T13:29:05.209097Z",
     "iopub.status.busy": "2023-11-25T13:29:05.208276Z",
     "iopub.status.idle": "2023-11-25T13:29:06.250881Z",
     "shell.execute_reply": "2023-11-25T13:29:06.249047Z"
    },
    "papermill": {
     "duration": 1.057494,
     "end_time": "2023-11-25T13:29:06.254810",
     "exception": false,
     "start_time": "2023-11-25T13:29:05.197316",
     "status": "completed"
    },
    "tags": []
   },
   "outputs": [
    {
     "name": "stdout",
     "output_type": "stream",
     "text": [
      "Setup complete.\n"
     ]
    }
   ],
   "source": [
    "# Set up the exercise\n",
    "from learntools.core import binder\n",
    "binder.bind(globals())\n",
    "from learntools.intro_to_programming.ex3 import *\n",
    "print('Setup complete.')"
   ]
  },
  {
   "cell_type": "markdown",
   "id": "2772f837",
   "metadata": {
    "papermill": {
     "duration": 0.010566,
     "end_time": "2023-11-25T13:29:06.275800",
     "exception": false,
     "start_time": "2023-11-25T13:29:06.265234",
     "status": "completed"
    },
    "tags": []
   },
   "source": [
    "# Question 1\n",
    "\n",
    "You have seen how to convert a float to an integer with the `int` function.  Try this out yourself by running the code cell below."
   ]
  },
  {
   "cell_type": "code",
   "execution_count": 2,
   "id": "2748ad99",
   "metadata": {
    "execution": {
     "iopub.execute_input": "2023-11-25T13:29:06.298910Z",
     "iopub.status.busy": "2023-11-25T13:29:06.297479Z",
     "iopub.status.idle": "2023-11-25T13:29:06.308684Z",
     "shell.execute_reply": "2023-11-25T13:29:06.306628Z"
    },
    "papermill": {
     "duration": 0.026025,
     "end_time": "2023-11-25T13:29:06.311399",
     "exception": false,
     "start_time": "2023-11-25T13:29:06.285374",
     "status": "completed"
    },
    "tags": []
   },
   "outputs": [
    {
     "name": "stdout",
     "output_type": "stream",
     "text": [
      "1.0\n",
      "<class 'float'>\n",
      "1\n",
      "<class 'int'>\n"
     ]
    }
   ],
   "source": [
    "# Define a float\n",
    "y = 1.\n",
    "print(y)\n",
    "print(type(y))\n",
    "\n",
    "# Convert float to integer with the int function\n",
    "z = int(y)\n",
    "print(z)\n",
    "print(type(z))"
   ]
  },
  {
   "cell_type": "markdown",
   "id": "30aab0fe",
   "metadata": {
    "papermill": {
     "duration": 0.011641,
     "end_time": "2023-11-25T13:29:06.333907",
     "exception": false,
     "start_time": "2023-11-25T13:29:06.322266",
     "status": "completed"
    },
    "tags": []
   },
   "source": [
    "In this case, the float you are using has no numbers after the decimal.  \n",
    "- But what happens when you try to convert a float with a fractional part to an integer?  \n",
    "- How does the outcome of the `int` function change for positive and negative numbers?\n",
    "\n",
    "Use the next code cell to investigate and answer these questions.  Feel free to add or remove any lines of code -- it is your workspace!"
   ]
  },
  {
   "cell_type": "code",
   "execution_count": 3,
   "id": "485cfe06",
   "metadata": {
    "execution": {
     "iopub.execute_input": "2023-11-25T13:29:06.358012Z",
     "iopub.status.busy": "2023-11-25T13:29:06.356476Z",
     "iopub.status.idle": "2023-11-25T13:29:06.363840Z",
     "shell.execute_reply": "2023-11-25T13:29:06.362623Z"
    },
    "papermill": {
     "duration": 0.022488,
     "end_time": "2023-11-25T13:29:06.367568",
     "exception": false,
     "start_time": "2023-11-25T13:29:06.345080",
     "status": "completed"
    },
    "tags": []
   },
   "outputs": [
    {
     "name": "stdout",
     "output_type": "stream",
     "text": [
      "1\n",
      "1\n",
      "-3\n",
      "-2\n"
     ]
    }
   ],
   "source": [
    "# Uncomment and run this code to get started!\n",
    "print(int(1.2321))\n",
    "print(int(1.747))\n",
    "print(int(-3.94535))\n",
    "print(int(-2.19774))"
   ]
  },
  {
   "cell_type": "markdown",
   "id": "40992abe",
   "metadata": {
    "papermill": {
     "duration": 0.009063,
     "end_time": "2023-11-25T13:29:06.386068",
     "exception": false,
     "start_time": "2023-11-25T13:29:06.377005",
     "status": "completed"
    },
    "tags": []
   },
   "source": [
    "Once you have an answer, run the code cell below to see the solution.  Viewing the solution will give you credit for answering the problem."
   ]
  },
  {
   "cell_type": "code",
   "execution_count": 4,
   "id": "106d0630",
   "metadata": {
    "execution": {
     "iopub.execute_input": "2023-11-25T13:29:06.408221Z",
     "iopub.status.busy": "2023-11-25T13:29:06.406810Z",
     "iopub.status.idle": "2023-11-25T13:29:06.418142Z",
     "shell.execute_reply": "2023-11-25T13:29:06.417012Z"
    },
    "papermill": {
     "duration": 0.024728,
     "end_time": "2023-11-25T13:29:06.420501",
     "exception": false,
     "start_time": "2023-11-25T13:29:06.395773",
     "status": "completed"
    },
    "tags": []
   },
   "outputs": [
    {
     "data": {
      "application/javascript": [
       "parent.postMessage({\"jupyterEvent\": \"custom.exercise_interaction\", \"data\": {\"outcomeType\": 1, \"valueTowardsCompletion\": 0.2, \"interactionType\": 1, \"questionType\": 4, \"questionId\": \"1_FloatToInt\", \"learnToolsVersion\": \"0.3.4\", \"failureMessage\": \"\", \"exceptionClass\": \"\", \"trace\": \"\"}}, \"*\")"
      ],
      "text/plain": [
       "<IPython.core.display.Javascript object>"
      ]
     },
     "metadata": {},
     "output_type": "display_data"
    },
    {
     "data": {
      "text/markdown": [
       "<span style=\"color:#33cc33\">Correct:</span> \n",
       "\n",
       "Negative floats are always rounded UP to the closest integer (for instance, both -1.1 and -1.9 are rounded up to -1). Positive floats are always rounded DOWN to the closest integer (for instance, 2.1 and 2.9 are rounded down to 2)."
      ],
      "text/plain": [
       "Correct: \n",
       "\n",
       "Negative floats are always rounded UP to the closest integer (for instance, both -1.1 and -1.9 are rounded up to -1). Positive floats are always rounded DOWN to the closest integer (for instance, 2.1 and 2.9 are rounded down to 2)."
      ]
     },
     "metadata": {},
     "output_type": "display_data"
    }
   ],
   "source": [
    "# Check your answer (Run this code cell to receive credit!)\n",
    "q1.check()"
   ]
  },
  {
   "cell_type": "markdown",
   "id": "7a33c055",
   "metadata": {
    "papermill": {
     "duration": 0.010192,
     "end_time": "2023-11-25T13:29:06.440431",
     "exception": false,
     "start_time": "2023-11-25T13:29:06.430239",
     "status": "completed"
    },
    "tags": []
   },
   "source": [
    "# Question 2\n",
    "\n",
    "In the tutorial, you learned about booleans (which can take a value of `True` or `False`), in addition to integers, floats, and strings.  For this question, your goal is to determine what happens when you multiply a boolean by any of these data types.  Specifically, \n",
    "- What happens when you multiply an integer or float by `True`?  What happens when you multiply them by `False`?  How does the answer change if the numbers are positive or negative?\n",
    "- What happens when you multiply a string by `True`?  By `False`?\n",
    "\n",
    "Use the next code cell for your investigation. "
   ]
  },
  {
   "cell_type": "code",
   "execution_count": 5,
   "id": "f852c06e",
   "metadata": {
    "execution": {
     "iopub.execute_input": "2023-11-25T13:29:06.466023Z",
     "iopub.status.busy": "2023-11-25T13:29:06.465462Z",
     "iopub.status.idle": "2023-11-25T13:29:06.477380Z",
     "shell.execute_reply": "2023-11-25T13:29:06.474950Z"
    },
    "papermill": {
     "duration": 0.030945,
     "end_time": "2023-11-25T13:29:06.481096",
     "exception": false,
     "start_time": "2023-11-25T13:29:06.450151",
     "status": "completed"
    },
    "tags": []
   },
   "outputs": [
    {
     "data": {
      "text/plain": [
       "''"
      ]
     },
     "execution_count": 5,
     "metadata": {},
     "output_type": "execute_result"
    }
   ],
   "source": [
    "\"abc\" * False"
   ]
  },
  {
   "cell_type": "code",
   "execution_count": 6,
   "id": "ac5bdeea",
   "metadata": {
    "execution": {
     "iopub.execute_input": "2023-11-25T13:29:06.511016Z",
     "iopub.status.busy": "2023-11-25T13:29:06.510083Z",
     "iopub.status.idle": "2023-11-25T13:29:06.518239Z",
     "shell.execute_reply": "2023-11-25T13:29:06.517088Z"
    },
    "papermill": {
     "duration": 0.026361,
     "end_time": "2023-11-25T13:29:06.521613",
     "exception": false,
     "start_time": "2023-11-25T13:29:06.495252",
     "status": "completed"
    },
    "tags": []
   },
   "outputs": [
    {
     "name": "stdout",
     "output_type": "stream",
     "text": [
      "3\n",
      "-3.1\n",
      "<class 'str'>\n",
      "0\n"
     ]
    }
   ],
   "source": [
    "# Uncomment and run this code to get started!\n",
    "print(3 * True)\n",
    "print(-3.1 * True)\n",
    "print(type(\"abc\" * False))\n",
    "print(len(\"abc\" * False))"
   ]
  },
  {
   "cell_type": "markdown",
   "id": "cc2a59e3",
   "metadata": {
    "papermill": {
     "duration": 0.01204,
     "end_time": "2023-11-25T13:29:06.549986",
     "exception": false,
     "start_time": "2023-11-25T13:29:06.537946",
     "status": "completed"
    },
    "tags": []
   },
   "source": [
    "Once you have an answer, run the code cell below to see the solution.  Viewing the solution will give you credit for answering the problem."
   ]
  },
  {
   "cell_type": "code",
   "execution_count": 7,
   "id": "a3823986",
   "metadata": {
    "execution": {
     "iopub.execute_input": "2023-11-25T13:29:06.575789Z",
     "iopub.status.busy": "2023-11-25T13:29:06.575014Z",
     "iopub.status.idle": "2023-11-25T13:29:06.583606Z",
     "shell.execute_reply": "2023-11-25T13:29:06.582654Z"
    },
    "papermill": {
     "duration": 0.025595,
     "end_time": "2023-11-25T13:29:06.587471",
     "exception": false,
     "start_time": "2023-11-25T13:29:06.561876",
     "status": "completed"
    },
    "tags": []
   },
   "outputs": [
    {
     "data": {
      "application/javascript": [
       "parent.postMessage({\"jupyterEvent\": \"custom.exercise_interaction\", \"data\": {\"outcomeType\": 1, \"valueTowardsCompletion\": 0.2, \"interactionType\": 1, \"questionType\": 4, \"questionId\": \"2_MultiplyBooleans\", \"learnToolsVersion\": \"0.3.4\", \"failureMessage\": \"\", \"exceptionClass\": \"\", \"trace\": \"\"}}, \"*\")"
      ],
      "text/plain": [
       "<IPython.core.display.Javascript object>"
      ]
     },
     "metadata": {},
     "output_type": "display_data"
    },
    {
     "data": {
      "text/markdown": [
       "<span style=\"color:#33cc33\">Correct:</span> \n",
       "\n",
       "When you multiple an integer or float by a boolean with value `True`, it just returns that same integer or float (and is equivalent to multiplying by 1).  If you multiply an integer or float by a boolean with value `False`, it always returns 0.  This is true for both positive and negative numbers.  If you multiply a string by a boolean with value `True`, it just returns that same string.  And if you multiply a string by a boolean with value `False`, it returns an empty string (or a string with length zero)."
      ],
      "text/plain": [
       "Correct: \n",
       "\n",
       "When you multiple an integer or float by a boolean with value `True`, it just returns that same integer or float (and is equivalent to multiplying by 1).  If you multiply an integer or float by a boolean with value `False`, it always returns 0.  This is true for both positive and negative numbers.  If you multiply a string by a boolean with value `True`, it just returns that same string.  And if you multiply a string by a boolean with value `False`, it returns an empty string (or a string with length zero)."
      ]
     },
     "metadata": {},
     "output_type": "display_data"
    }
   ],
   "source": [
    "# Check your answer (Run this code cell to receive credit!)\n",
    "q2.check()"
   ]
  },
  {
   "cell_type": "markdown",
   "id": "78329db4",
   "metadata": {
    "papermill": {
     "duration": 0.014519,
     "end_time": "2023-11-25T13:29:06.616683",
     "exception": false,
     "start_time": "2023-11-25T13:29:06.602164",
     "status": "completed"
    },
    "tags": []
   },
   "source": [
    "# Question 3\n",
    "\n",
    "In this question, you will build off your work from the previous exercise to write a function that estimates the value of a house.\n",
    "\n",
    "Use the next code cell to create a function `get_expected_cost` that takes as input three variables:\n",
    "- `beds` - number of bedrooms (data type float)\n",
    "- `baths` - number of bathrooms (data type float)\n",
    "- `has_basement` - whether or not the house has a basement (data type boolean)\n",
    "\n",
    "It should return the expected cost of a house with those characteristics. Assume that:\n",
    "- the expected cost for a house with 0 bedrooms and 0 bathrooms, and no basement is 80000, \n",
    "- each bedroom adds 30000 to the expected cost,\n",
    "- each bathroom adds 10000 to the expected cost, and\n",
    "- a basement adds 40000 to the expected cost.\n",
    "\n",
    "For instance,\n",
    "- a house with 1 bedroom, 1 bathroom, and no basement has an expected cost of 80000 + 30000 + 10000 = 120000.  This value will be calculated with `get_expected_cost(1, 1, False)`.\n",
    "- a house with 2 bedrooms, 1 bathroom, and a basement has an expected cost of 80000 + 2*30000 + 10000 + 40000 = 190000.  This value will be calculated with `get_expected_cost(2, 1, True)`.\n",
    "\n",
    "Remember you can always get a hint by uncommenting `q3.hint()` in the code cell following the next!"
   ]
  },
  {
   "cell_type": "code",
   "execution_count": 8,
   "id": "d78caa4c",
   "metadata": {
    "execution": {
     "iopub.execute_input": "2023-11-25T13:29:06.642805Z",
     "iopub.status.busy": "2023-11-25T13:29:06.642377Z",
     "iopub.status.idle": "2023-11-25T13:29:06.652848Z",
     "shell.execute_reply": "2023-11-25T13:29:06.651949Z"
    },
    "papermill": {
     "duration": 0.027823,
     "end_time": "2023-11-25T13:29:06.655594",
     "exception": false,
     "start_time": "2023-11-25T13:29:06.627771",
     "status": "completed"
    },
    "tags": []
   },
   "outputs": [
    {
     "data": {
      "application/javascript": [
       "parent.postMessage({\"jupyterEvent\": \"custom.exercise_interaction\", \"data\": {\"outcomeType\": 1, \"valueTowardsCompletion\": 0.2, \"interactionType\": 1, \"questionType\": 2, \"questionId\": \"3_EstimateHouseValueBool\", \"learnToolsVersion\": \"0.3.4\", \"failureMessage\": \"\", \"exceptionClass\": \"\", \"trace\": \"\"}}, \"*\")"
      ],
      "text/plain": [
       "<IPython.core.display.Javascript object>"
      ]
     },
     "metadata": {},
     "output_type": "display_data"
    },
    {
     "data": {
      "text/markdown": [
       "<span style=\"color:#33cc33\">Correct</span>"
      ],
      "text/plain": [
       "Correct"
      ]
     },
     "metadata": {},
     "output_type": "display_data"
    }
   ],
   "source": [
    "# TODO: Complete the function\n",
    "def get_expected_cost(beds, baths, has_basement):\n",
    "    value = beds *30000 + baths * 10000 + has_basement * 40000 + 80000\n",
    "    return value\n",
    "\n",
    "# Check your answer \n",
    "q3.check()"
   ]
  },
  {
   "cell_type": "code",
   "execution_count": 9,
   "id": "49732e3d",
   "metadata": {
    "execution": {
     "iopub.execute_input": "2023-11-25T13:29:06.680346Z",
     "iopub.status.busy": "2023-11-25T13:29:06.679624Z",
     "iopub.status.idle": "2023-11-25T13:29:06.683898Z",
     "shell.execute_reply": "2023-11-25T13:29:06.682854Z"
    },
    "papermill": {
     "duration": 0.020064,
     "end_time": "2023-11-25T13:29:06.686549",
     "exception": false,
     "start_time": "2023-11-25T13:29:06.666485",
     "status": "completed"
    },
    "tags": []
   },
   "outputs": [],
   "source": [
    "# Uncomment to see a hint\n",
    "#q3.hint()\n",
    "\n",
    "# Uncomment to view the solution\n",
    "#q3.solution()"
   ]
  },
  {
   "cell_type": "markdown",
   "id": "ecb32c40",
   "metadata": {
    "papermill": {
     "duration": 0.011576,
     "end_time": "2023-11-25T13:29:06.709305",
     "exception": false,
     "start_time": "2023-11-25T13:29:06.697729",
     "status": "completed"
    },
    "tags": []
   },
   "source": [
    "# Question 4\n",
    "\n",
    "We'll continue our study of boolean arithmetic.  For this question, your task is to provide a description of what happpens when you add booleans. \n",
    "\n",
    "Use the next code cell for your investigation.  Feel free to add or remove any lines of code - use it as your workspace!"
   ]
  },
  {
   "cell_type": "code",
   "execution_count": 10,
   "id": "ad86e609",
   "metadata": {
    "execution": {
     "iopub.execute_input": "2023-11-25T13:29:06.734080Z",
     "iopub.status.busy": "2023-11-25T13:29:06.733636Z",
     "iopub.status.idle": "2023-11-25T13:29:06.740279Z",
     "shell.execute_reply": "2023-11-25T13:29:06.739124Z"
    },
    "papermill": {
     "duration": 0.022185,
     "end_time": "2023-11-25T13:29:06.742895",
     "exception": false,
     "start_time": "2023-11-25T13:29:06.720710",
     "status": "completed"
    },
    "tags": []
   },
   "outputs": [
    {
     "name": "stdout",
     "output_type": "stream",
     "text": [
      "0\n",
      "1\n",
      "1\n",
      "2\n",
      "3\n"
     ]
    }
   ],
   "source": [
    "print(False + False)\n",
    "print(True + False)\n",
    "print(False + True)\n",
    "print(True + True)\n",
    "print(False + True + True + True)"
   ]
  },
  {
   "cell_type": "markdown",
   "id": "9a7279a1",
   "metadata": {
    "papermill": {
     "duration": 0.013127,
     "end_time": "2023-11-25T13:29:06.767606",
     "exception": false,
     "start_time": "2023-11-25T13:29:06.754479",
     "status": "completed"
    },
    "tags": []
   },
   "source": [
    "Once you have an answer, run the code cell below to see the solution.  Viewing the solution will give you credit for answering the problem."
   ]
  },
  {
   "cell_type": "code",
   "execution_count": 11,
   "id": "61b7129f",
   "metadata": {
    "execution": {
     "iopub.execute_input": "2023-11-25T13:29:06.799040Z",
     "iopub.status.busy": "2023-11-25T13:29:06.798617Z",
     "iopub.status.idle": "2023-11-25T13:29:06.807273Z",
     "shell.execute_reply": "2023-11-25T13:29:06.806086Z"
    },
    "papermill": {
     "duration": 0.031976,
     "end_time": "2023-11-25T13:29:06.814186",
     "exception": false,
     "start_time": "2023-11-25T13:29:06.782210",
     "status": "completed"
    },
    "tags": []
   },
   "outputs": [
    {
     "data": {
      "application/javascript": [
       "parent.postMessage({\"jupyterEvent\": \"custom.exercise_interaction\", \"data\": {\"outcomeType\": 1, \"valueTowardsCompletion\": 0.2, \"interactionType\": 1, \"questionType\": 4, \"questionId\": \"4_AddingBooleans\", \"learnToolsVersion\": \"0.3.4\", \"failureMessage\": \"\", \"exceptionClass\": \"\", \"trace\": \"\"}}, \"*\")"
      ],
      "text/plain": [
       "<IPython.core.display.Javascript object>"
      ]
     },
     "metadata": {},
     "output_type": "display_data"
    },
    {
     "data": {
      "text/markdown": [
       "<span style=\"color:#33cc33\">Correct:</span> \n",
       "\n",
       "When you add booleans, adding `False` is equivalent to adding 0, and adding `True` is equivalent to adding 1."
      ],
      "text/plain": [
       "Correct: \n",
       "\n",
       "When you add booleans, adding `False` is equivalent to adding 0, and adding `True` is equivalent to adding 1."
      ]
     },
     "metadata": {},
     "output_type": "display_data"
    }
   ],
   "source": [
    "# Check your answer (Run this code cell to receive credit!)\n",
    "q4.check()"
   ]
  },
  {
   "cell_type": "markdown",
   "id": "cff14884",
   "metadata": {
    "papermill": {
     "duration": 0.011261,
     "end_time": "2023-11-25T13:29:06.838482",
     "exception": false,
     "start_time": "2023-11-25T13:29:06.827221",
     "status": "completed"
    },
    "tags": []
   },
   "source": [
    "# 🌶️ Question 5\n",
    "\n",
    "You own an online shop where you sell rings with custom engravings.  You offer both gold plated and solid gold rings.\n",
    "- Gold plated rings have a base cost of \\\\$50, and you charge \\\\$7 per engraved unit.  \n",
    "- Solid gold rings have a base cost of \\\\$100, and you charge \\\\$10 per engraved unit.\n",
    "- Spaces and punctuation are counted as engraved units.\n",
    "\n",
    "Write a function `cost_of_project()` that takes two arguments:\n",
    "- `engraving` - a Python string with the text of the engraving\n",
    "- `solid_gold` - a Boolean that indicates whether the ring is solid gold\n",
    "\n",
    "It should return the cost of the project.  This question should be fairly challenging, and you may need a hint."
   ]
  },
  {
   "cell_type": "code",
   "execution_count": 12,
   "id": "b0ffd2b1",
   "metadata": {
    "execution": {
     "iopub.execute_input": "2023-11-25T13:29:06.866685Z",
     "iopub.status.busy": "2023-11-25T13:29:06.866250Z",
     "iopub.status.idle": "2023-11-25T13:29:06.877804Z",
     "shell.execute_reply": "2023-11-25T13:29:06.876241Z"
    },
    "papermill": {
     "duration": 0.028871,
     "end_time": "2023-11-25T13:29:06.880672",
     "exception": false,
     "start_time": "2023-11-25T13:29:06.851801",
     "status": "completed"
    },
    "tags": []
   },
   "outputs": [
    {
     "data": {
      "application/javascript": [
       "parent.postMessage({\"jupyterEvent\": \"custom.exercise_interaction\", \"data\": {\"outcomeType\": 1, \"valueTowardsCompletion\": 0.2, \"interactionType\": 1, \"questionType\": 2, \"questionId\": \"5_CustomEngravings\", \"learnToolsVersion\": \"0.3.4\", \"failureMessage\": \"\", \"exceptionClass\": \"\", \"trace\": \"\"}}, \"*\")"
      ],
      "text/plain": [
       "<IPython.core.display.Javascript object>"
      ]
     },
     "metadata": {},
     "output_type": "display_data"
    },
    {
     "data": {
      "text/markdown": [
       "<span style=\"color:#33cc33\">Correct</span>"
      ],
      "text/plain": [
       "Correct"
      ]
     },
     "metadata": {},
     "output_type": "display_data"
    }
   ],
   "source": [
    "def cost_of_project(engraving, solid_gold):\n",
    "    cost = (len(engraving) * 7 + 50)  + (len(engraving) * 3 + 50) * solid_gold\n",
    "    return cost\n",
    "\n",
    "# Check your answer\n",
    "q5.check()"
   ]
  },
  {
   "cell_type": "code",
   "execution_count": 13,
   "id": "24a0762d",
   "metadata": {
    "execution": {
     "iopub.execute_input": "2023-11-25T13:29:06.907754Z",
     "iopub.status.busy": "2023-11-25T13:29:06.907321Z",
     "iopub.status.idle": "2023-11-25T13:29:06.912316Z",
     "shell.execute_reply": "2023-11-25T13:29:06.911145Z"
    },
    "papermill": {
     "duration": 0.021265,
     "end_time": "2023-11-25T13:29:06.914940",
     "exception": false,
     "start_time": "2023-11-25T13:29:06.893675",
     "status": "completed"
    },
    "tags": []
   },
   "outputs": [],
   "source": [
    "# Uncomment to see a hint\n",
    "#q5.hint()\n",
    "\n",
    "# Uncomment to view the solution\n",
    "#q5.solution()"
   ]
  },
  {
   "cell_type": "markdown",
   "id": "1bb5c6b5",
   "metadata": {
    "papermill": {
     "duration": 0.011789,
     "end_time": "2023-11-25T13:29:06.938612",
     "exception": false,
     "start_time": "2023-11-25T13:29:06.926823",
     "status": "completed"
    },
    "tags": []
   },
   "source": [
    "Run the next code cell to calculate the cost of engraving `Charlie+Denver` on a solid gold ring."
   ]
  },
  {
   "cell_type": "code",
   "execution_count": 14,
   "id": "14fde2ce",
   "metadata": {
    "execution": {
     "iopub.execute_input": "2023-11-25T13:29:06.965653Z",
     "iopub.status.busy": "2023-11-25T13:29:06.964173Z",
     "iopub.status.idle": "2023-11-25T13:29:06.972432Z",
     "shell.execute_reply": "2023-11-25T13:29:06.970755Z"
    },
    "papermill": {
     "duration": 0.02433,
     "end_time": "2023-11-25T13:29:06.975177",
     "exception": false,
     "start_time": "2023-11-25T13:29:06.950847",
     "status": "completed"
    },
    "tags": []
   },
   "outputs": [
    {
     "name": "stdout",
     "output_type": "stream",
     "text": [
      "240\n"
     ]
    }
   ],
   "source": [
    "project_one = cost_of_project(\"Charlie+Denver\", True)\n",
    "print(project_one)"
   ]
  },
  {
   "cell_type": "markdown",
   "id": "2331728a",
   "metadata": {
    "papermill": {
     "duration": 0.011314,
     "end_time": "2023-11-25T13:29:06.998267",
     "exception": false,
     "start_time": "2023-11-25T13:29:06.986953",
     "status": "completed"
    },
    "tags": []
   },
   "source": [
    "Use the next code cell to calculate the cost of engraving `08/10/2000` on a gold plated ring."
   ]
  },
  {
   "cell_type": "code",
   "execution_count": 15,
   "id": "d7b3beb4",
   "metadata": {
    "execution": {
     "iopub.execute_input": "2023-11-25T13:29:07.025871Z",
     "iopub.status.busy": "2023-11-25T13:29:07.025372Z",
     "iopub.status.idle": "2023-11-25T13:29:07.031946Z",
     "shell.execute_reply": "2023-11-25T13:29:07.030897Z"
    },
    "papermill": {
     "duration": 0.023793,
     "end_time": "2023-11-25T13:29:07.034563",
     "exception": false,
     "start_time": "2023-11-25T13:29:07.010770",
     "status": "completed"
    },
    "tags": []
   },
   "outputs": [
    {
     "name": "stdout",
     "output_type": "stream",
     "text": [
      "120\n"
     ]
    }
   ],
   "source": [
    "project_two = cost_of_project(\"08/10/2000\", False)\n",
    "print(project_two)"
   ]
  },
  {
   "cell_type": "markdown",
   "id": "5c26d93e",
   "metadata": {
    "papermill": {
     "duration": 0.011502,
     "end_time": "2023-11-25T13:29:07.057899",
     "exception": false,
     "start_time": "2023-11-25T13:29:07.046397",
     "status": "completed"
    },
    "tags": []
   },
   "source": [
    "# Keep going\n",
    "\n",
    "Continue to the next lesson to **[learn about conditions and conditional statements](https://www.kaggle.com/alexisbcook/conditions-and-conditional-statements)**."
   ]
  },
  {
   "cell_type": "markdown",
   "id": "699532b2",
   "metadata": {
    "papermill": {
     "duration": 0.012238,
     "end_time": "2023-11-25T13:29:07.082059",
     "exception": false,
     "start_time": "2023-11-25T13:29:07.069821",
     "status": "completed"
    },
    "tags": []
   },
   "source": [
    "---\n",
    "\n",
    "\n",
    "\n",
    "\n",
    "*Have questions or comments? Visit the [course discussion forum](https://www.kaggle.com/learn/intro-to-programming/discussion) to chat with other learners.*"
   ]
  }
 ],
 "metadata": {
  "kaggle": {
   "accelerator": "none",
   "dataSources": [],
   "isGpuEnabled": false,
   "isInternetEnabled": false,
   "language": "python",
   "sourceType": "notebook"
  },
  "kernelspec": {
   "display_name": "Python 3",
   "language": "python",
   "name": "python3"
  },
  "language_info": {
   "codemirror_mode": {
    "name": "ipython",
    "version": 3
   },
   "file_extension": ".py",
   "mimetype": "text/x-python",
   "name": "python",
   "nbconvert_exporter": "python",
   "pygments_lexer": "ipython3",
   "version": "3.10.12"
  },
  "papermill": {
   "default_parameters": {},
   "duration": 7.650435,
   "end_time": "2023-11-25T13:29:07.618074",
   "environment_variables": {},
   "exception": null,
   "input_path": "__notebook__.ipynb",
   "output_path": "__notebook__.ipynb",
   "parameters": {},
   "start_time": "2023-11-25T13:28:59.967639",
   "version": "2.3.3"
  }
 },
 "nbformat": 4,
 "nbformat_minor": 5
}
