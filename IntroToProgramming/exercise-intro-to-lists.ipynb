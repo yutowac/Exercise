{
 "cells": [
  {
   "cell_type": "markdown",
   "id": "e45170c5",
   "metadata": {
    "papermill": {
     "duration": 0.010654,
     "end_time": "2023-11-27T00:04:22.186801",
     "exception": false,
     "start_time": "2023-11-27T00:04:22.176147",
     "status": "completed"
    },
    "tags": []
   },
   "source": [
    "**This notebook is an exercise in the [Intro to Programming](https://www.kaggle.com/learn/intro-to-programming) course.  You can reference the tutorial at [this link](https://www.kaggle.com/alexisbcook/intro-to-lists).**\n",
    "\n",
    "---\n"
   ]
  },
  {
   "cell_type": "markdown",
   "id": "c611c97f",
   "metadata": {
    "papermill": {
     "duration": 0.00794,
     "end_time": "2023-11-27T00:04:22.203113",
     "exception": false,
     "start_time": "2023-11-27T00:04:22.195173",
     "status": "completed"
    },
    "tags": []
   },
   "source": [
    "In the tutorial, you learned how to define and modify Python lists.  In this exercise, you will use your new knowledge to solve several problems.\n",
    "\n",
    "# Set up the notebook\n",
    "\n",
    "Run the next code cell without changes to set up the notebook."
   ]
  },
  {
   "cell_type": "code",
   "execution_count": 1,
   "id": "399e0183",
   "metadata": {
    "execution": {
     "iopub.execute_input": "2023-11-27T00:04:22.222192Z",
     "iopub.status.busy": "2023-11-27T00:04:22.221289Z",
     "iopub.status.idle": "2023-11-27T00:04:22.703648Z",
     "shell.execute_reply": "2023-11-27T00:04:22.701366Z"
    },
    "papermill": {
     "duration": 0.495575,
     "end_time": "2023-11-27T00:04:22.706845",
     "exception": false,
     "start_time": "2023-11-27T00:04:22.211270",
     "status": "completed"
    },
    "tags": []
   },
   "outputs": [
    {
     "name": "stdout",
     "output_type": "stream",
     "text": [
      "Setup complete.\n"
     ]
    }
   ],
   "source": [
    "from learntools.core import binder\n",
    "binder.bind(globals())\n",
    "from learntools.intro_to_programming.ex5 import *\n",
    "print('Setup complete.')"
   ]
  },
  {
   "cell_type": "markdown",
   "id": "68b512cb",
   "metadata": {
    "papermill": {
     "duration": 0.008031,
     "end_time": "2023-11-27T00:04:22.723534",
     "exception": false,
     "start_time": "2023-11-27T00:04:22.715503",
     "status": "completed"
    },
    "tags": []
   },
   "source": [
    "# Question 1\n",
    "\n",
    "You own a restaurant with five food dishes, organized in the Python list `menu` below.  One day, you decide to:\n",
    "- remove bean soup (`'bean soup'`) from the menu, and\n",
    "- add roasted beet salad (`'roasted beet salad'`) to the menu.\n",
    "\n",
    "Implement this change to the list below.  While completing this task, \n",
    "- do not change the line that creates the `menu` list.  \n",
    "- your answer should use `.remove()` and `.append()`.  "
   ]
  },
  {
   "cell_type": "code",
   "execution_count": 2,
   "id": "18a1382e",
   "metadata": {
    "execution": {
     "iopub.execute_input": "2023-11-27T00:04:22.742580Z",
     "iopub.status.busy": "2023-11-27T00:04:22.741961Z",
     "iopub.status.idle": "2023-11-27T00:04:22.753044Z",
     "shell.execute_reply": "2023-11-27T00:04:22.751917Z"
    },
    "papermill": {
     "duration": 0.023595,
     "end_time": "2023-11-27T00:04:22.755438",
     "exception": false,
     "start_time": "2023-11-27T00:04:22.731843",
     "status": "completed"
    },
    "tags": []
   },
   "outputs": [
    {
     "data": {
      "application/javascript": [
       "parent.postMessage({\"jupyterEvent\": \"custom.exercise_interaction\", \"data\": {\"outcomeType\": 1, \"valueTowardsCompletion\": 0.2, \"interactionType\": 1, \"questionType\": 2, \"questionId\": \"1_FoodMenu\", \"learnToolsVersion\": \"0.3.4\", \"failureMessage\": \"\", \"exceptionClass\": \"\", \"trace\": \"\"}}, \"*\")"
      ],
      "text/plain": [
       "<IPython.core.display.Javascript object>"
      ]
     },
     "metadata": {},
     "output_type": "display_data"
    },
    {
     "data": {
      "text/markdown": [
       "<span style=\"color:#33cc33\">Correct</span>"
      ],
      "text/plain": [
       "Correct"
      ]
     },
     "metadata": {},
     "output_type": "display_data"
    }
   ],
   "source": [
    "# Do not change: Initial menu for your restaurant\n",
    "menu = ['stewed meat with onions', 'bean soup', 'risotto with trout and shrimp',\n",
    "       'fish soup with cream and onion', 'gyro']\n",
    "\n",
    "# TODO: remove 'bean soup', and add 'roasted beet salad' to the end of the menu\n",
    "menu.remove(\"bean soup\")\n",
    "menu.append(\"roasted beet salad\")\n",
    "\n",
    "# Do not change: Check your answer\n",
    "q1.check()"
   ]
  },
  {
   "cell_type": "code",
   "execution_count": 3,
   "id": "dbbbe5ff",
   "metadata": {
    "execution": {
     "iopub.execute_input": "2023-11-27T00:04:22.776241Z",
     "iopub.status.busy": "2023-11-27T00:04:22.775412Z",
     "iopub.status.idle": "2023-11-27T00:04:22.780612Z",
     "shell.execute_reply": "2023-11-27T00:04:22.779510Z"
    },
    "papermill": {
     "duration": 0.018627,
     "end_time": "2023-11-27T00:04:22.783322",
     "exception": false,
     "start_time": "2023-11-27T00:04:22.764695",
     "status": "completed"
    },
    "tags": []
   },
   "outputs": [],
   "source": [
    "# Uncomment to see a hint\n",
    "#q1.hint()\n",
    "\n",
    "# Uncomment to see the solution\n",
    "#q1.solution()"
   ]
  },
  {
   "cell_type": "markdown",
   "id": "f2e42871",
   "metadata": {
    "papermill": {
     "duration": 0.008734,
     "end_time": "2023-11-27T00:04:22.801528",
     "exception": false,
     "start_time": "2023-11-27T00:04:22.792794",
     "status": "completed"
    },
    "tags": []
   },
   "source": [
    "# Question 2\n",
    "\n",
    "The list `num_customers` contains the number of customers who came into your restaurant every day over the last month (which lasted thirty days).  Fill in values for each of the following:\n",
    "- `avg_first_seven` - average number of customers who visited in the first seven days\n",
    "- `avg_last_seven` - average number of customers who visited in the last seven days\n",
    "- `max_month` - number of customers on the day that got the most customers in the last month\n",
    "- `min_month` - number of customers on the day that got the least customers in the last month\n",
    "\n",
    "Answer this question by writing code.  For instance, if you have to find the minimum value in a list, use `min()` instead of scanning for the smallest value and directly filling in a number."
   ]
  },
  {
   "cell_type": "code",
   "execution_count": 4,
   "id": "92049024",
   "metadata": {
    "execution": {
     "iopub.execute_input": "2023-11-27T00:04:22.821389Z",
     "iopub.status.busy": "2023-11-27T00:04:22.820936Z",
     "iopub.status.idle": "2023-11-27T00:04:22.833456Z",
     "shell.execute_reply": "2023-11-27T00:04:22.832334Z"
    },
    "papermill": {
     "duration": 0.025487,
     "end_time": "2023-11-27T00:04:22.835861",
     "exception": false,
     "start_time": "2023-11-27T00:04:22.810374",
     "status": "completed"
    },
    "tags": []
   },
   "outputs": [
    {
     "data": {
      "application/javascript": [
       "parent.postMessage({\"jupyterEvent\": \"custom.exercise_interaction\", \"data\": {\"outcomeType\": 1, \"valueTowardsCompletion\": 0.2, \"interactionType\": 1, \"questionType\": 1, \"questionId\": \"2_NumCustomers\", \"learnToolsVersion\": \"0.3.4\", \"failureMessage\": \"\", \"exceptionClass\": \"\", \"trace\": \"\"}}, \"*\")"
      ],
      "text/plain": [
       "<IPython.core.display.Javascript object>"
      ]
     },
     "metadata": {},
     "output_type": "display_data"
    },
    {
     "data": {
      "text/markdown": [
       "<span style=\"color:#33cc33\">Correct</span>"
      ],
      "text/plain": [
       "Correct"
      ]
     },
     "metadata": {},
     "output_type": "display_data"
    }
   ],
   "source": [
    "# Do not change: Number of customers each day for the last month\n",
    "num_customers = [137, 147, 135, 128, 170, 174, 165, 146, 126, 159,\n",
    "                 141, 148, 132, 147, 168, 153, 170, 161, 148, 152,\n",
    "                 141, 151, 131, 149, 164, 163, 143, 143, 166, 171]\n",
    "\n",
    "# TODO: Fill in values for the variables below\n",
    "avg_first_seven = sum(num_customers[:7])/7\n",
    "avg_last_seven = sum(num_customers[-7:])/7\n",
    "max_month = max(num_customers)\n",
    "min_month = min(num_customers)\n",
    "\n",
    "# Do not change: Check your answer\n",
    "q2.check()"
   ]
  },
  {
   "cell_type": "code",
   "execution_count": 5,
   "id": "e13c5b04",
   "metadata": {
    "execution": {
     "iopub.execute_input": "2023-11-27T00:04:22.856175Z",
     "iopub.status.busy": "2023-11-27T00:04:22.855719Z",
     "iopub.status.idle": "2023-11-27T00:04:22.861027Z",
     "shell.execute_reply": "2023-11-27T00:04:22.859898Z"
    },
    "papermill": {
     "duration": 0.018488,
     "end_time": "2023-11-27T00:04:22.863478",
     "exception": false,
     "start_time": "2023-11-27T00:04:22.844990",
     "status": "completed"
    },
    "tags": []
   },
   "outputs": [],
   "source": [
    "# Uncomment to see a hint\n",
    "#q2.hint()\n",
    "\n",
    "# Uncomment to see the solution\n",
    "#q2.solution()"
   ]
  },
  {
   "cell_type": "markdown",
   "id": "5aeab3da",
   "metadata": {
    "papermill": {
     "duration": 0.009559,
     "end_time": "2023-11-27T00:04:22.882506",
     "exception": false,
     "start_time": "2023-11-27T00:04:22.872947",
     "status": "completed"
    },
    "tags": []
   },
   "source": [
    "# Question 3\n",
    "\n",
    "In the tutorial, we gave an example of a Python string with information that was better as a list."
   ]
  },
  {
   "cell_type": "code",
   "execution_count": 6,
   "id": "f24e78d1",
   "metadata": {
    "execution": {
     "iopub.execute_input": "2023-11-27T00:04:22.903135Z",
     "iopub.status.busy": "2023-11-27T00:04:22.902699Z",
     "iopub.status.idle": "2023-11-27T00:04:22.908008Z",
     "shell.execute_reply": "2023-11-27T00:04:22.906829Z"
    },
    "papermill": {
     "duration": 0.018378,
     "end_time": "2023-11-27T00:04:22.910534",
     "exception": false,
     "start_time": "2023-11-27T00:04:22.892156",
     "status": "completed"
    },
    "tags": []
   },
   "outputs": [],
   "source": [
    "flowers = \"pink primrose,hard-leaved pocket orchid,canterbury bells,sweet pea,english marigold,tiger lily,moon orchid,bird of paradise,monkshood,globe thistle\""
   ]
  },
  {
   "cell_type": "markdown",
   "id": "0774603c",
   "metadata": {
    "papermill": {
     "duration": 0.009013,
     "end_time": "2023-11-27T00:04:22.928753",
     "exception": false,
     "start_time": "2023-11-27T00:04:22.919740",
     "status": "completed"
    },
    "tags": []
   },
   "source": [
    "You can actually use Python to quickly turn this string into a list with `.split()`.  In the parentheses, we need to provide the character should be used to mark the end of one list item and the beginning of another, and enclose it in quotation marks.  In this case, that character is a comma."
   ]
  },
  {
   "cell_type": "code",
   "execution_count": 7,
   "id": "3910a291",
   "metadata": {
    "execution": {
     "iopub.execute_input": "2023-11-27T00:04:22.949865Z",
     "iopub.status.busy": "2023-11-27T00:04:22.948974Z",
     "iopub.status.idle": "2023-11-27T00:04:22.955182Z",
     "shell.execute_reply": "2023-11-27T00:04:22.954017Z"
    },
    "papermill": {
     "duration": 0.020239,
     "end_time": "2023-11-27T00:04:22.958385",
     "exception": false,
     "start_time": "2023-11-27T00:04:22.938146",
     "status": "completed"
    },
    "tags": []
   },
   "outputs": [
    {
     "name": "stdout",
     "output_type": "stream",
     "text": [
      "['pink primrose', 'hard-leaved pocket orchid', 'canterbury bells', 'sweet pea', 'english marigold', 'tiger lily', 'moon orchid', 'bird of paradise', 'monkshood', 'globe thistle']\n"
     ]
    }
   ],
   "source": [
    " print(flowers.split(\",\"))"
   ]
  },
  {
   "cell_type": "markdown",
   "id": "b350d4e5",
   "metadata": {
    "papermill": {
     "duration": 0.009115,
     "end_time": "2023-11-27T00:04:22.976822",
     "exception": false,
     "start_time": "2023-11-27T00:04:22.967707",
     "status": "completed"
    },
    "tags": []
   },
   "source": [
    "Now it is your turn to try this out!  Create two Python lists:\n",
    "- `letters` should be a Python list where each entry is an uppercase letter of the English alphabet.  For instance, the first two entries should be `\"A\"` and `\"B\"`, and the final two entries should be `\"Y\"` and `\"Z\"`.  Use the string `alphabet` to create this list.\n",
    "- `address` should be a Python list where each row in `address` is a different item in the list.  Currently, each row in `address` is separated by a comma. "
   ]
  },
  {
   "cell_type": "code",
   "execution_count": 8,
   "id": "17f9e66b",
   "metadata": {
    "execution": {
     "iopub.execute_input": "2023-11-27T00:04:22.997491Z",
     "iopub.status.busy": "2023-11-27T00:04:22.997012Z",
     "iopub.status.idle": "2023-11-27T00:04:23.007683Z",
     "shell.execute_reply": "2023-11-27T00:04:23.006513Z"
    },
    "papermill": {
     "duration": 0.023802,
     "end_time": "2023-11-27T00:04:23.010071",
     "exception": false,
     "start_time": "2023-11-27T00:04:22.986269",
     "status": "completed"
    },
    "tags": []
   },
   "outputs": [
    {
     "data": {
      "application/javascript": [
       "parent.postMessage({\"jupyterEvent\": \"custom.exercise_interaction\", \"data\": {\"outcomeType\": 1, \"valueTowardsCompletion\": 0.2, \"interactionType\": 1, \"questionType\": 1, \"questionId\": \"3_SplitString\", \"learnToolsVersion\": \"0.3.4\", \"failureMessage\": \"\", \"exceptionClass\": \"\", \"trace\": \"\"}}, \"*\")"
      ],
      "text/plain": [
       "<IPython.core.display.Javascript object>"
      ]
     },
     "metadata": {},
     "output_type": "display_data"
    },
    {
     "data": {
      "text/markdown": [
       "<span style=\"color:#33cc33\">Correct</span>"
      ],
      "text/plain": [
       "Correct"
      ]
     },
     "metadata": {},
     "output_type": "display_data"
    }
   ],
   "source": [
    "# DO not change: Define two Python strings\n",
    "alphabet = \"A.B.C.D.E.F.G.H.I.J.K.L.M.N.O.P.Q.R.S.T.U.V.W.X.Y.Z\"\n",
    "address = \"Mr. H. Potter,The cupboard under the Stairs,4 Privet Drive,Little Whinging,Surrey\"\n",
    "\n",
    "# TODO: Convert strings into Python lists\n",
    "letters = alphabet.split(\".\")\n",
    "formatted_address = address.split(\",\")\n",
    "\n",
    "# Do not change: Check your answer\n",
    "q3.check()"
   ]
  },
  {
   "cell_type": "code",
   "execution_count": 9,
   "id": "3a577ba2",
   "metadata": {
    "execution": {
     "iopub.execute_input": "2023-11-27T00:04:23.031471Z",
     "iopub.status.busy": "2023-11-27T00:04:23.031039Z",
     "iopub.status.idle": "2023-11-27T00:04:23.036186Z",
     "shell.execute_reply": "2023-11-27T00:04:23.035009Z"
    },
    "papermill": {
     "duration": 0.018802,
     "end_time": "2023-11-27T00:04:23.038668",
     "exception": false,
     "start_time": "2023-11-27T00:04:23.019866",
     "status": "completed"
    },
    "tags": []
   },
   "outputs": [],
   "source": [
    "# Uncomment to see a hint\n",
    "#q3.hint()\n",
    "\n",
    "# Uncomment to see the solution\n",
    "#q3.solution()"
   ]
  },
  {
   "cell_type": "markdown",
   "id": "18e7fa39",
   "metadata": {
    "papermill": {
     "duration": 0.009647,
     "end_time": "2023-11-27T00:04:23.058156",
     "exception": false,
     "start_time": "2023-11-27T00:04:23.048509",
     "status": "completed"
    },
    "tags": []
   },
   "source": [
    "# Question 4\n",
    "\n",
    "In the Python course, you'll learn all about **list comprehensions**, which allow you to create a list based on the values in another list.  In this question, you'll get a brief preview of how they work.\n",
    "\n",
    "Say we're working with the list below."
   ]
  },
  {
   "cell_type": "code",
   "execution_count": 10,
   "id": "5c7e187a",
   "metadata": {
    "execution": {
     "iopub.execute_input": "2023-11-27T00:04:23.080080Z",
     "iopub.status.busy": "2023-11-27T00:04:23.079658Z",
     "iopub.status.idle": "2023-11-27T00:04:23.084802Z",
     "shell.execute_reply": "2023-11-27T00:04:23.083608Z"
    },
    "papermill": {
     "duration": 0.018898,
     "end_time": "2023-11-27T00:04:23.087221",
     "exception": false,
     "start_time": "2023-11-27T00:04:23.068323",
     "status": "completed"
    },
    "tags": []
   },
   "outputs": [],
   "source": [
    "test_ratings = [1, 2, 3, 4, 5]"
   ]
  },
  {
   "cell_type": "markdown",
   "id": "d4128281",
   "metadata": {
    "papermill": {
     "duration": 0.009325,
     "end_time": "2023-11-27T00:04:23.106598",
     "exception": false,
     "start_time": "2023-11-27T00:04:23.097273",
     "status": "completed"
    },
    "tags": []
   },
   "source": [
    "Then we can use this list (`test_ratings`) to create a new list (`test_liked`) where each item has been turned into a boolean, depending on whether or not the item is greater than or equal to four."
   ]
  },
  {
   "cell_type": "code",
   "execution_count": 11,
   "id": "351333a5",
   "metadata": {
    "execution": {
     "iopub.execute_input": "2023-11-27T00:04:23.128344Z",
     "iopub.status.busy": "2023-11-27T00:04:23.127670Z",
     "iopub.status.idle": "2023-11-27T00:04:23.133537Z",
     "shell.execute_reply": "2023-11-27T00:04:23.132399Z"
    },
    "papermill": {
     "duration": 0.019873,
     "end_time": "2023-11-27T00:04:23.136471",
     "exception": false,
     "start_time": "2023-11-27T00:04:23.116598",
     "status": "completed"
    },
    "tags": []
   },
   "outputs": [
    {
     "name": "stdout",
     "output_type": "stream",
     "text": [
      "[False, False, False, True, True]\n"
     ]
    }
   ],
   "source": [
    "test_liked = [i>=4 for i in test_ratings]\n",
    "print(test_liked)"
   ]
  },
  {
   "cell_type": "markdown",
   "id": "9e49d1df",
   "metadata": {
    "papermill": {
     "duration": 0.009701,
     "end_time": "2023-11-27T00:04:23.156101",
     "exception": false,
     "start_time": "2023-11-27T00:04:23.146400",
     "status": "completed"
    },
    "tags": []
   },
   "source": [
    "In this question, you'll use this list comprehension to define a function `percentage_liked()` that takes one argument as input:\n",
    "- `ratings`: list of ratings that people gave to a movie, where each rating is a number between 1-5, inclusive\n",
    "\n",
    "We say someone liked the movie, if they gave a rating of either 4 or 5.  Your function should return the percentage of people who liked the movie.\n",
    "\n",
    "For instance, if we supply a value of `[1, 2, 3, 4, 5, 4, 5, 1]`, then 50% (4/8) of the people liked the movie, and the function should return `0.5`.\n",
    "\n",
    "Part of the function has already been completed for you.  You need only use `list_liked` to calculate `percentage_liked`."
   ]
  },
  {
   "cell_type": "code",
   "execution_count": 12,
   "id": "48b62257",
   "metadata": {
    "execution": {
     "iopub.execute_input": "2023-11-27T00:04:23.178127Z",
     "iopub.status.busy": "2023-11-27T00:04:23.177297Z",
     "iopub.status.idle": "2023-11-27T00:04:23.187946Z",
     "shell.execute_reply": "2023-11-27T00:04:23.187177Z"
    },
    "papermill": {
     "duration": 0.023747,
     "end_time": "2023-11-27T00:04:23.190098",
     "exception": false,
     "start_time": "2023-11-27T00:04:23.166351",
     "status": "completed"
    },
    "tags": []
   },
   "outputs": [
    {
     "data": {
      "application/javascript": [
       "parent.postMessage({\"jupyterEvent\": \"custom.exercise_interaction\", \"data\": {\"outcomeType\": 1, \"valueTowardsCompletion\": 0.2, \"interactionType\": 1, \"questionType\": 2, \"questionId\": \"4_PercentageLiked\", \"learnToolsVersion\": \"0.3.4\", \"failureMessage\": \"\", \"exceptionClass\": \"\", \"trace\": \"\"}}, \"*\")"
      ],
      "text/plain": [
       "<IPython.core.display.Javascript object>"
      ]
     },
     "metadata": {},
     "output_type": "display_data"
    },
    {
     "data": {
      "text/markdown": [
       "<span style=\"color:#33cc33\">Correct</span>"
      ],
      "text/plain": [
       "Correct"
      ]
     },
     "metadata": {},
     "output_type": "display_data"
    }
   ],
   "source": [
    "\n",
    "def percentage_liked(ratings):\n",
    "    list_liked = [i>=4 for i in ratings]\n",
    "    # TODO: Complete the function\n",
    "    percentage_liked = sum(list_liked)/len(list_liked)\n",
    "    return percentage_liked\n",
    "\n",
    "# Do not change: should return 0.5\n",
    "percentage_liked([1, 2, 3, 4, 5, 4, 5, 1])\n",
    "\n",
    "# Do not change: Check your answer\n",
    "q4.check()"
   ]
  },
  {
   "cell_type": "code",
   "execution_count": 13,
   "id": "8885534f",
   "metadata": {
    "execution": {
     "iopub.execute_input": "2023-11-27T00:04:23.212111Z",
     "iopub.status.busy": "2023-11-27T00:04:23.211688Z",
     "iopub.status.idle": "2023-11-27T00:04:23.216522Z",
     "shell.execute_reply": "2023-11-27T00:04:23.215288Z"
    },
    "papermill": {
     "duration": 0.018581,
     "end_time": "2023-11-27T00:04:23.218874",
     "exception": false,
     "start_time": "2023-11-27T00:04:23.200293",
     "status": "completed"
    },
    "tags": []
   },
   "outputs": [],
   "source": [
    "# Uncomment to see a hint\n",
    "#q4.hint()\n",
    "\n",
    "# Uncomment to see the solution\n",
    "#q4.solution()"
   ]
  },
  {
   "cell_type": "markdown",
   "id": "7914ae69",
   "metadata": {
    "papermill": {
     "duration": 0.009744,
     "end_time": "2023-11-27T00:04:23.238678",
     "exception": false,
     "start_time": "2023-11-27T00:04:23.228934",
     "status": "completed"
    },
    "tags": []
   },
   "source": [
    "# 🌶️ Question 5\n",
    " \n",
    "Say you're doing analytics for a website.  You need to write a function that returns the percentage growth in the total number of users relative to a specified number of years ago.\n",
    "\n",
    "Your function `percentage_growth()` should take two arguments as input:\n",
    "- `num_users` = Python list with the total number of users each year.  So `num_users[0]` is the total number of users in the first year, `num_users[1]` is the total number of users in the second year, and so on.  The final entry in the list gives the total number of users in the most recently completed year.\n",
    "- `yrs_ago` = number of years to go back in time when calculating the growth percentage\n",
    "\n",
    "For instance, say `num_users = [920344, 1043553, 1204334, 1458996, 1503323, 1593432, 1623463, 1843064, 1930992, 2001078]`.\n",
    "- if `yrs_ago = 1`, we want the function to return a value of about `0.036`. This corresponds to a percentage growth of approximately 3.6%, calculated as (2001078 - 1930992)/1930992.\n",
    "- if `years_ago = 7`, we would want to return approximately `0.66`.  This corresponds to a percentage growth of approximately 66%, calculated as (2001078 - 1204334)/1204334.\n",
    "\n",
    "Your coworker sent you a draft of a function, but it doesn't seem to be doing the correct calculation.  Can you figure out what has gone wrong and make the needed changes?"
   ]
  },
  {
   "cell_type": "code",
   "execution_count": 14,
   "id": "55f0087f",
   "metadata": {
    "execution": {
     "iopub.execute_input": "2023-11-27T00:04:23.261424Z",
     "iopub.status.busy": "2023-11-27T00:04:23.260999Z",
     "iopub.status.idle": "2023-11-27T00:04:23.273383Z",
     "shell.execute_reply": "2023-11-27T00:04:23.272157Z"
    },
    "papermill": {
     "duration": 0.027025,
     "end_time": "2023-11-27T00:04:23.276299",
     "exception": false,
     "start_time": "2023-11-27T00:04:23.249274",
     "status": "completed"
    },
    "tags": []
   },
   "outputs": [
    {
     "name": "stdout",
     "output_type": "stream",
     "text": [
      "0.03629533421163837\n",
      "0.6615639847417742\n"
     ]
    },
    {
     "data": {
      "application/javascript": [
       "parent.postMessage({\"jupyterEvent\": \"custom.exercise_interaction\", \"data\": {\"outcomeType\": 1, \"valueTowardsCompletion\": 0.2, \"interactionType\": 1, \"questionType\": 2, \"questionId\": \"5_WebsiteAnalytics\", \"learnToolsVersion\": \"0.3.4\", \"failureMessage\": \"\", \"exceptionClass\": \"\", \"trace\": \"\"}}, \"*\")"
      ],
      "text/plain": [
       "<IPython.core.display.Javascript object>"
      ]
     },
     "metadata": {},
     "output_type": "display_data"
    },
    {
     "data": {
      "text/markdown": [
       "<span style=\"color:#33cc33\">Correct</span>"
      ],
      "text/plain": [
       "Correct"
      ]
     },
     "metadata": {},
     "output_type": "display_data"
    }
   ],
   "source": [
    "# TODO: Edit the function\n",
    "def percentage_growth(num_users, yrs_ago):\n",
    "    growth = (num_users[-1]-num_users[-yrs_ago-1])/(num_users[-yrs_ago-1])\n",
    "    return growth\n",
    "\n",
    "# Do not change: Variable for calculating some test examples\n",
    "num_users_test = [920344, 1043553, 1204334, 1458996, 1503323, 1593432, 1623463, 1843064, 1930992, 2001078]\n",
    "\n",
    "# Do not change: Should return .036\n",
    "print(percentage_growth(num_users_test, 1))\n",
    "\n",
    "# Do not change: Should return 0.66\n",
    "print(percentage_growth(num_users_test, 7))\n",
    "\n",
    "# Do not change: Check your answer\n",
    "q5.check()"
   ]
  },
  {
   "cell_type": "code",
   "execution_count": 15,
   "id": "ed2bf2b6",
   "metadata": {
    "execution": {
     "iopub.execute_input": "2023-11-27T00:04:23.301094Z",
     "iopub.status.busy": "2023-11-27T00:04:23.300676Z",
     "iopub.status.idle": "2023-11-27T00:04:23.305603Z",
     "shell.execute_reply": "2023-11-27T00:04:23.304345Z"
    },
    "papermill": {
     "duration": 0.019184,
     "end_time": "2023-11-27T00:04:23.307859",
     "exception": false,
     "start_time": "2023-11-27T00:04:23.288675",
     "status": "completed"
    },
    "tags": []
   },
   "outputs": [],
   "source": [
    "# Uncomment to see a hint\n",
    "#q5.hint()\n",
    "\n",
    "# Uncomment to see the solution\n",
    "#q5.solution()"
   ]
  },
  {
   "cell_type": "markdown",
   "id": "f4992ab2",
   "metadata": {
    "papermill": {
     "duration": 0.010197,
     "end_time": "2023-11-27T00:04:23.328676",
     "exception": false,
     "start_time": "2023-11-27T00:04:23.318479",
     "status": "completed"
    },
    "tags": []
   },
   "source": [
    "# Congratulations!\n",
    "\n",
    "Congratulations for finishing the Intro to Programming course!  You should be proud of your very first steps with learning programming.  As next steps, we recommend taking:\n",
    "- the **[Python course](http://www.kaggle.com/learn/python)**, and \n",
    "- the **[Intro to Machine Learning course](https://www.kaggle.com/learn/intro-to-machine-learning)**."
   ]
  },
  {
   "cell_type": "markdown",
   "id": "124528db",
   "metadata": {
    "papermill": {
     "duration": 0.010124,
     "end_time": "2023-11-27T00:04:23.349587",
     "exception": false,
     "start_time": "2023-11-27T00:04:23.339463",
     "status": "completed"
    },
    "tags": []
   },
   "source": [
    "---\n",
    "\n",
    "\n",
    "\n",
    "\n",
    "*Have questions or comments? Visit the [course discussion forum](https://www.kaggle.com/learn/intro-to-programming/discussion) to chat with other learners.*"
   ]
  }
 ],
 "metadata": {
  "kaggle": {
   "accelerator": "none",
   "dataSources": [],
   "isGpuEnabled": false,
   "isInternetEnabled": false,
   "language": "python",
   "sourceType": "notebook"
  },
  "kernelspec": {
   "display_name": "Python 3",
   "language": "python",
   "name": "python3"
  },
  "language_info": {
   "codemirror_mode": {
    "name": "ipython",
    "version": 3
   },
   "file_extension": ".py",
   "mimetype": "text/x-python",
   "name": "python",
   "nbconvert_exporter": "python",
   "pygments_lexer": "ipython3",
   "version": "3.10.12"
  },
  "papermill": {
   "default_parameters": {},
   "duration": 5.217826,
   "end_time": "2023-11-27T00:04:23.881785",
   "environment_variables": {},
   "exception": null,
   "input_path": "__notebook__.ipynb",
   "output_path": "__notebook__.ipynb",
   "parameters": {},
   "start_time": "2023-11-27T00:04:18.663959",
   "version": "2.4.0"
  }
 },
 "nbformat": 4,
 "nbformat_minor": 5
}
