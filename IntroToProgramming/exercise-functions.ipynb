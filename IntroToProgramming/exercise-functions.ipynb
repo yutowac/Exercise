{
 "cells": [
  {
   "cell_type": "markdown",
   "id": "493d8653",
   "metadata": {
    "papermill": {
     "duration": 0.007029,
     "end_time": "2023-11-24T13:36:21.518908",
     "exception": false,
     "start_time": "2023-11-24T13:36:21.511879",
     "status": "completed"
    },
    "tags": []
   },
   "source": [
    "**This notebook is an exercise in the [Intro to Programming](https://www.kaggle.com/learn/intro-to-programming) course.  You can reference the tutorial at [this link](https://www.kaggle.com/alexisbcook/functions).**\n",
    "\n",
    "---\n"
   ]
  },
  {
   "cell_type": "markdown",
   "id": "239bad30",
   "metadata": {
    "papermill": {
     "duration": 0.004461,
     "end_time": "2023-11-24T13:36:21.528244",
     "exception": false,
     "start_time": "2023-11-24T13:36:21.523783",
     "status": "completed"
    },
    "tags": []
   },
   "source": [
    "In the tutorial, you learned about functions. In this exercise, you'll write some of your own!\n",
    "\n",
    "# Set up the notebook\n",
    "\n",
    "Run the next code cell without changes to set up the notebook."
   ]
  },
  {
   "cell_type": "code",
   "execution_count": 1,
   "id": "e4e1090a",
   "metadata": {
    "execution": {
     "iopub.execute_input": "2023-11-24T13:36:21.539653Z",
     "iopub.status.busy": "2023-11-24T13:36:21.539076Z",
     "iopub.status.idle": "2023-11-24T13:36:21.869266Z",
     "shell.execute_reply": "2023-11-24T13:36:21.868150Z"
    },
    "papermill": {
     "duration": 0.338697,
     "end_time": "2023-11-24T13:36:21.871636",
     "exception": false,
     "start_time": "2023-11-24T13:36:21.532939",
     "status": "completed"
    },
    "tags": []
   },
   "outputs": [
    {
     "name": "stdout",
     "output_type": "stream",
     "text": [
      "Setup complete.\n"
     ]
    }
   ],
   "source": [
    "# Set up the exercise\n",
    "import math\n",
    "from learntools.core import binder\n",
    "binder.bind(globals())\n",
    "from learntools.intro_to_programming.ex2 import *\n",
    "print('Setup complete.')"
   ]
  },
  {
   "cell_type": "markdown",
   "id": "df270433",
   "metadata": {
    "papermill": {
     "duration": 0.005252,
     "end_time": "2023-11-24T13:36:21.882438",
     "exception": false,
     "start_time": "2023-11-24T13:36:21.877186",
     "status": "completed"
    },
    "tags": []
   },
   "source": [
    "# Question 1\n",
    "\n",
    "In the [House Prices - Advanced Regression Techniques competition](https://www.kaggle.com/c/house-prices-advanced-regression-techniques/overview), you need to use information like the number of bedrooms and bathrooms to predict the price of a house.  Inspired by this competition, you'll write your own function to do this.\n",
    "\n",
    "In the next code cell, create a function `get_expected_cost()` that has two arguments:\n",
    "- `beds` - number of bedrooms \n",
    "- `baths` - number of bathrooms\n",
    "\n",
    "It should return the expected cost of a house with that number of bedrooms and bathrooms.  Assume that:\n",
    "- the expected cost for a house with 0 bedrooms and 0 bathrooms is `80000`.  \n",
    "- each bedroom adds `30000` to the expected cost\n",
    "- each bathroom adds `10000` to the expected cost.\n",
    "\n",
    "For instance, \n",
    "- a house with 1 bedroom and 1 bathroom has an expected cost of `120000`, and \n",
    "- a house with 2 bedrooms and 1 bathroom has an expected cost of `150000`."
   ]
  },
  {
   "cell_type": "code",
   "execution_count": 2,
   "id": "690b4980",
   "metadata": {
    "execution": {
     "iopub.execute_input": "2023-11-24T13:36:21.895161Z",
     "iopub.status.busy": "2023-11-24T13:36:21.894557Z",
     "iopub.status.idle": "2023-11-24T13:36:21.905349Z",
     "shell.execute_reply": "2023-11-24T13:36:21.904552Z"
    },
    "papermill": {
     "duration": 0.019439,
     "end_time": "2023-11-24T13:36:21.907057",
     "exception": false,
     "start_time": "2023-11-24T13:36:21.887618",
     "status": "completed"
    },
    "tags": []
   },
   "outputs": [
    {
     "data": {
      "application/javascript": [
       "parent.postMessage({\"jupyterEvent\": \"custom.exercise_interaction\", \"data\": {\"outcomeType\": 1, \"valueTowardsCompletion\": 0.2, \"interactionType\": 1, \"questionType\": 2, \"questionId\": \"1_GetExpectedCost\", \"learnToolsVersion\": \"0.3.4\", \"failureMessage\": \"\", \"exceptionClass\": \"\", \"trace\": \"\"}}, \"*\")"
      ],
      "text/plain": [
       "<IPython.core.display.Javascript object>"
      ]
     },
     "metadata": {},
     "output_type": "display_data"
    },
    {
     "data": {
      "text/markdown": [
       "<span style=\"color:#33cc33\">Correct</span>"
      ],
      "text/plain": [
       "Correct"
      ]
     },
     "metadata": {},
     "output_type": "display_data"
    }
   ],
   "source": [
    "# TODO: Complete the function\n",
    "def get_expected_cost(beds, baths):\n",
    "    value = beds * 30000 + baths * 10000 + 80000\n",
    "    return value\n",
    "\n",
    "# Check your answer \n",
    "q1.check()"
   ]
  },
  {
   "cell_type": "code",
   "execution_count": 3,
   "id": "7ff1344a",
   "metadata": {
    "execution": {
     "iopub.execute_input": "2023-11-24T13:36:21.919817Z",
     "iopub.status.busy": "2023-11-24T13:36:21.918830Z",
     "iopub.status.idle": "2023-11-24T13:36:21.923033Z",
     "shell.execute_reply": "2023-11-24T13:36:21.922133Z"
    },
    "papermill": {
     "duration": 0.012498,
     "end_time": "2023-11-24T13:36:21.924931",
     "exception": false,
     "start_time": "2023-11-24T13:36:21.912433",
     "status": "completed"
    },
    "tags": []
   },
   "outputs": [],
   "source": [
    "# Uncomment to see a hint\n",
    "#q1.hint()\n",
    "\n",
    "# Uncomment to view the solution\n",
    "#q1.solution()"
   ]
  },
  {
   "cell_type": "markdown",
   "id": "3fd96c67",
   "metadata": {
    "papermill": {
     "duration": 0.005058,
     "end_time": "2023-11-24T13:36:21.935831",
     "exception": false,
     "start_time": "2023-11-24T13:36:21.930773",
     "status": "completed"
    },
    "tags": []
   },
   "source": [
    "# Question 2\n",
    "\n",
    "You are thinking about buying a home and want to get an idea of how much you will spend, based on the number of bedrooms and bathrooms.  You are trying to decide between four different options:\n",
    "- Option 1: house with two bedrooms and three bathrooms\n",
    "- Option 2: house with three bedrooms and two bathrooms\n",
    "- Option 3: house with three bedrooms and three bathrooms\n",
    "- Option 4: house with three bedrooms and four bathrooms\n",
    "\n",
    "Use the `get_expected_cost()` function you defined in question 1 to set `option_1`, `option_2`, `option_3`, and `option_4` to the expected cost of each option."
   ]
  },
  {
   "cell_type": "code",
   "execution_count": 4,
   "id": "5eec1e91",
   "metadata": {
    "execution": {
     "iopub.execute_input": "2023-11-24T13:36:21.949111Z",
     "iopub.status.busy": "2023-11-24T13:36:21.948747Z",
     "iopub.status.idle": "2023-11-24T13:36:21.957352Z",
     "shell.execute_reply": "2023-11-24T13:36:21.956041Z"
    },
    "papermill": {
     "duration": 0.018578,
     "end_time": "2023-11-24T13:36:21.960007",
     "exception": false,
     "start_time": "2023-11-24T13:36:21.941429",
     "status": "completed"
    },
    "tags": []
   },
   "outputs": [
    {
     "name": "stdout",
     "output_type": "stream",
     "text": [
      "170000\n",
      "190000\n",
      "200000\n",
      "210000\n"
     ]
    },
    {
     "data": {
      "application/javascript": [
       "parent.postMessage({\"jupyterEvent\": \"custom.exercise_interaction\", \"data\": {\"outcomeType\": 1, \"valueTowardsCompletion\": 0.2, \"interactionType\": 1, \"questionType\": 1, \"questionId\": \"2_RunGetExpectedCost\", \"learnToolsVersion\": \"0.3.4\", \"failureMessage\": \"\", \"exceptionClass\": \"\", \"trace\": \"\"}}, \"*\")"
      ],
      "text/plain": [
       "<IPython.core.display.Javascript object>"
      ]
     },
     "metadata": {},
     "output_type": "display_data"
    },
    {
     "data": {
      "text/markdown": [
       "<span style=\"color:#33cc33\">Correct</span>"
      ],
      "text/plain": [
       "Correct"
      ]
     },
     "metadata": {},
     "output_type": "display_data"
    }
   ],
   "source": [
    "# TODO: Use the get_expected_cost function to fill in each value\n",
    "option_one = get_expected_cost(2, 3)\n",
    "option_two = get_expected_cost(3, 2)\n",
    "option_three = get_expected_cost(3, 3)\n",
    "option_four = get_expected_cost(3, 4)\n",
    "\n",
    "print(option_one)\n",
    "print(option_two)\n",
    "print(option_three)\n",
    "print(option_four)\n",
    "\n",
    "# Check your answer\n",
    "q2.check()"
   ]
  },
  {
   "cell_type": "code",
   "execution_count": 5,
   "id": "533a6455",
   "metadata": {
    "execution": {
     "iopub.execute_input": "2023-11-24T13:36:21.974076Z",
     "iopub.status.busy": "2023-11-24T13:36:21.973733Z",
     "iopub.status.idle": "2023-11-24T13:36:21.978386Z",
     "shell.execute_reply": "2023-11-24T13:36:21.977212Z"
    },
    "papermill": {
     "duration": 0.014276,
     "end_time": "2023-11-24T13:36:21.980663",
     "exception": false,
     "start_time": "2023-11-24T13:36:21.966387",
     "status": "completed"
    },
    "tags": []
   },
   "outputs": [],
   "source": [
    "# Uncomment to see a hint\n",
    "#q2.hint()\n",
    "\n",
    "# Uncomment to view the solution\n",
    "#q2.solution()"
   ]
  },
  {
   "cell_type": "markdown",
   "id": "6ab89d11",
   "metadata": {
    "papermill": {
     "duration": 0.0053,
     "end_time": "2023-11-24T13:36:21.991990",
     "exception": false,
     "start_time": "2023-11-24T13:36:21.986690",
     "status": "completed"
    },
    "tags": []
   },
   "source": [
    "# Question 3\n",
    "\n",
    "You're a home decorator, and you'd like to use Python to streamline some of your work.  Specifically, you're creating a tool that you intend to use to calculate the cost of painting a room.\n",
    "\n",
    "As a first step, define a function `get_cost()` that takes as input:\n",
    "- `sqft_walls` = total square feet of walls to be painted\n",
    "- `sqft_ceiling` = square feet of ceiling to be painted\n",
    "- `sqft_per_gallon` = number of square feet that you can cover with one gallon of paint\n",
    "- `cost_per_gallon` = cost (in dollars) of one gallon of paint\n",
    "\n",
    "It should return the cost (in dollars) of putting one coat of paint on all walls and the ceiling.  Assume you can buy the exact amount of paint that you need, so you can buy partial gallons (e.g., if you need 7.523 gallons, you can buy that exact amount, instead of needing to buy 8 gallons and waste some paint).  Do not round your answer."
   ]
  },
  {
   "cell_type": "code",
   "execution_count": 6,
   "id": "01d0a362",
   "metadata": {
    "execution": {
     "iopub.execute_input": "2023-11-24T13:36:22.006071Z",
     "iopub.status.busy": "2023-11-24T13:36:22.005436Z",
     "iopub.status.idle": "2023-11-24T13:36:22.014199Z",
     "shell.execute_reply": "2023-11-24T13:36:22.013231Z"
    },
    "papermill": {
     "duration": 0.017775,
     "end_time": "2023-11-24T13:36:22.015965",
     "exception": false,
     "start_time": "2023-11-24T13:36:21.998190",
     "status": "completed"
    },
    "tags": []
   },
   "outputs": [
    {
     "data": {
      "application/javascript": [
       "parent.postMessage({\"jupyterEvent\": \"custom.exercise_interaction\", \"data\": {\"outcomeType\": 1, \"valueTowardsCompletion\": 0.2, \"interactionType\": 1, \"questionType\": 2, \"questionId\": \"3_GetCostPaint\", \"learnToolsVersion\": \"0.3.4\", \"failureMessage\": \"\", \"exceptionClass\": \"\", \"trace\": \"\"}}, \"*\")"
      ],
      "text/plain": [
       "<IPython.core.display.Javascript object>"
      ]
     },
     "metadata": {},
     "output_type": "display_data"
    },
    {
     "data": {
      "text/markdown": [
       "<span style=\"color:#33cc33\">Correct</span>"
      ],
      "text/plain": [
       "Correct"
      ]
     },
     "metadata": {},
     "output_type": "display_data"
    }
   ],
   "source": [
    "# TODO: Finish defining the function\n",
    "def get_cost(sqft_walls, sqft_ceiling, sqft_per_gallon, cost_per_gallon):\n",
    "    cost = (sqft_walls + sqft_ceiling) / sqft_per_gallon * cost_per_gallon\n",
    "    return cost\n",
    "\n",
    "# Check your answer\n",
    "q3.check()"
   ]
  },
  {
   "cell_type": "code",
   "execution_count": 7,
   "id": "45b5a954",
   "metadata": {
    "execution": {
     "iopub.execute_input": "2023-11-24T13:36:22.030545Z",
     "iopub.status.busy": "2023-11-24T13:36:22.030212Z",
     "iopub.status.idle": "2023-11-24T13:36:22.034759Z",
     "shell.execute_reply": "2023-11-24T13:36:22.033609Z"
    },
    "papermill": {
     "duration": 0.01393,
     "end_time": "2023-11-24T13:36:22.036653",
     "exception": false,
     "start_time": "2023-11-24T13:36:22.022723",
     "status": "completed"
    },
    "tags": []
   },
   "outputs": [],
   "source": [
    "# Uncomment to see a hint\n",
    "#q3.hint()\n",
    "\n",
    "# Uncomment to view the solution\n",
    "#q3.solution()"
   ]
  },
  {
   "cell_type": "markdown",
   "id": "d6317dce",
   "metadata": {
    "papermill": {
     "duration": 0.005806,
     "end_time": "2023-11-24T13:36:22.048643",
     "exception": false,
     "start_time": "2023-11-24T13:36:22.042837",
     "status": "completed"
    },
    "tags": []
   },
   "source": [
    "# Question 4\n",
    "\n",
    "Use the `get_cost()` function you defined in Question 3 to calculate the cost of applying one coat of paint to a room with:\n",
    "- 432 square feet of walls, and\n",
    "- 144 square feet of ceiling.\n",
    "\n",
    "Assume that one gallon of paint covers 400 square feet and costs $15.  As in Question 3, assume you can buy partial gallons of paint.  Do not round your answer."
   ]
  },
  {
   "cell_type": "code",
   "execution_count": 8,
   "id": "1fbaaa7c",
   "metadata": {
    "execution": {
     "iopub.execute_input": "2023-11-24T13:36:22.062237Z",
     "iopub.status.busy": "2023-11-24T13:36:22.061892Z",
     "iopub.status.idle": "2023-11-24T13:36:22.069958Z",
     "shell.execute_reply": "2023-11-24T13:36:22.068914Z"
    },
    "papermill": {
     "duration": 0.017587,
     "end_time": "2023-11-24T13:36:22.072222",
     "exception": false,
     "start_time": "2023-11-24T13:36:22.054635",
     "status": "completed"
    },
    "tags": []
   },
   "outputs": [
    {
     "data": {
      "application/javascript": [
       "parent.postMessage({\"jupyterEvent\": \"custom.exercise_interaction\", \"data\": {\"outcomeType\": 1, \"valueTowardsCompletion\": 0.2, \"interactionType\": 1, \"questionType\": 1, \"questionId\": \"4_GetCostPaintExample\", \"learnToolsVersion\": \"0.3.4\", \"failureMessage\": \"\", \"exceptionClass\": \"\", \"trace\": \"\"}}, \"*\")"
      ],
      "text/plain": [
       "<IPython.core.display.Javascript object>"
      ]
     },
     "metadata": {},
     "output_type": "display_data"
    },
    {
     "data": {
      "text/markdown": [
       "<span style=\"color:#33cc33\">Correct</span>"
      ],
      "text/plain": [
       "Correct"
      ]
     },
     "metadata": {},
     "output_type": "display_data"
    }
   ],
   "source": [
    "# TODO: Set the project_cost variable to the cost of the project\n",
    "project_cost = get_cost(432, 144, 400, 15)\n",
    "\n",
    "# Check your answer\n",
    "q4.check()"
   ]
  },
  {
   "cell_type": "code",
   "execution_count": 9,
   "id": "58f15578",
   "metadata": {
    "execution": {
     "iopub.execute_input": "2023-11-24T13:36:22.085988Z",
     "iopub.status.busy": "2023-11-24T13:36:22.085630Z",
     "iopub.status.idle": "2023-11-24T13:36:22.089684Z",
     "shell.execute_reply": "2023-11-24T13:36:22.088797Z"
    },
    "papermill": {
     "duration": 0.013514,
     "end_time": "2023-11-24T13:36:22.091980",
     "exception": false,
     "start_time": "2023-11-24T13:36:22.078466",
     "status": "completed"
    },
    "tags": []
   },
   "outputs": [],
   "source": [
    "# Uncomment to see a hint\n",
    "#q4.hint()\n",
    "\n",
    "# Uncomment to view the solution\n",
    "#q4.solution()"
   ]
  },
  {
   "cell_type": "markdown",
   "id": "64184e47",
   "metadata": {
    "papermill": {
     "duration": 0.00588,
     "end_time": "2023-11-24T13:36:22.104665",
     "exception": false,
     "start_time": "2023-11-24T13:36:22.098785",
     "status": "completed"
    },
    "tags": []
   },
   "source": [
    "# 🌶️ Question 5\n",
    "\n",
    "Now say you can no longer buy fractions of a gallon.  (For instance, if you need 4.3 gallons to do a project, then you have to buy 5 gallons of paint.)\n",
    "\n",
    "With this new scenario, you will create a new function `get_actual_cost` that uses the same inputs and calculates the cost of your project.\n",
    "\n",
    "One function that you'll need to use to do this is `math.ceil()`.  We demonstrate usage of this function in the code cell below.  It takes as a number as input and rounds the number up to the nearest integer.  \n",
    "\n",
    "Run the next code cell to test this function for yourself.  Feel free to change the value of `test_value` and make sure `math.ceil()` returns the number you expect."
   ]
  },
  {
   "cell_type": "code",
   "execution_count": 10,
   "id": "d2762fd0",
   "metadata": {
    "execution": {
     "iopub.execute_input": "2023-11-24T13:36:22.118745Z",
     "iopub.status.busy": "2023-11-24T13:36:22.118394Z",
     "iopub.status.idle": "2023-11-24T13:36:22.124182Z",
     "shell.execute_reply": "2023-11-24T13:36:22.122412Z"
    },
    "papermill": {
     "duration": 0.015996,
     "end_time": "2023-11-24T13:36:22.126991",
     "exception": false,
     "start_time": "2023-11-24T13:36:22.110995",
     "status": "completed"
    },
    "tags": []
   },
   "outputs": [
    {
     "name": "stdout",
     "output_type": "stream",
     "text": [
      "3\n"
     ]
    }
   ],
   "source": [
    "test_value = 2.17\n",
    "\n",
    "rounded_value = math.ceil(test_value)\n",
    "print(rounded_value)"
   ]
  },
  {
   "cell_type": "markdown",
   "id": "5ad72316",
   "metadata": {
    "papermill": {
     "duration": 0.006772,
     "end_time": "2023-11-24T13:36:22.140449",
     "exception": false,
     "start_time": "2023-11-24T13:36:22.133677",
     "status": "completed"
    },
    "tags": []
   },
   "source": [
    "Use the next code cell to define the function `get_actual_cost()`.  You'll need to use the `math.ceil()` function to do this.\n",
    "\n",
    "When answering this question, note that it's completely valid to define a function that makes use of another function.  For instance, we can define a function `round_up_and_divide_by_three` that makes use of the `math.ceil` function:\n",
    "```\n",
    "def round_up_and_divide_by_three(num):\n",
    "    new_value = math.ceil(num)\n",
    "    final_value = new_value / 3\n",
    "    return final_value\n",
    "```"
   ]
  },
  {
   "cell_type": "code",
   "execution_count": 11,
   "id": "72ed8f83",
   "metadata": {
    "execution": {
     "iopub.execute_input": "2023-11-24T13:36:22.154064Z",
     "iopub.status.busy": "2023-11-24T13:36:22.153707Z",
     "iopub.status.idle": "2023-11-24T13:36:22.162945Z",
     "shell.execute_reply": "2023-11-24T13:36:22.161780Z"
    },
    "papermill": {
     "duration": 0.018418,
     "end_time": "2023-11-24T13:36:22.164804",
     "exception": false,
     "start_time": "2023-11-24T13:36:22.146386",
     "status": "completed"
    },
    "tags": []
   },
   "outputs": [
    {
     "data": {
      "application/javascript": [
       "parent.postMessage({\"jupyterEvent\": \"custom.exercise_interaction\", \"data\": {\"outcomeType\": 1, \"valueTowardsCompletion\": 0.2, \"interactionType\": 1, \"questionType\": 2, \"questionId\": \"5_NoMoreFractions\", \"learnToolsVersion\": \"0.3.4\", \"failureMessage\": \"\", \"exceptionClass\": \"\", \"trace\": \"\"}}, \"*\")"
      ],
      "text/plain": [
       "<IPython.core.display.Javascript object>"
      ]
     },
     "metadata": {},
     "output_type": "display_data"
    },
    {
     "data": {
      "text/markdown": [
       "<span style=\"color:#33cc33\">Correct</span>"
      ],
      "text/plain": [
       "Correct"
      ]
     },
     "metadata": {},
     "output_type": "display_data"
    }
   ],
   "source": [
    "def get_actual_cost(sqft_walls, sqft_ceiling, sqft_per_gallon, cost_per_gallon):\n",
    "    cost = math.ceil((sqft_walls + sqft_ceiling) / sqft_per_gallon) * cost_per_gallon\n",
    "    return cost\n",
    "\n",
    "# Check your answer\n",
    "q5.check()"
   ]
  },
  {
   "cell_type": "code",
   "execution_count": 12,
   "id": "1df390d7",
   "metadata": {
    "execution": {
     "iopub.execute_input": "2023-11-24T13:36:22.180094Z",
     "iopub.status.busy": "2023-11-24T13:36:22.179657Z",
     "iopub.status.idle": "2023-11-24T13:36:22.184143Z",
     "shell.execute_reply": "2023-11-24T13:36:22.183151Z"
    },
    "papermill": {
     "duration": 0.014941,
     "end_time": "2023-11-24T13:36:22.186046",
     "exception": false,
     "start_time": "2023-11-24T13:36:22.171105",
     "status": "completed"
    },
    "tags": []
   },
   "outputs": [],
   "source": [
    "# Uncomment to see a hint\n",
    "#q5.hint()\n",
    "\n",
    "# Uncomment to view the solution\n",
    "#q5.solution()"
   ]
  },
  {
   "cell_type": "markdown",
   "id": "28828116",
   "metadata": {
    "papermill": {
     "duration": 0.0058,
     "end_time": "2023-11-24T13:36:22.198318",
     "exception": false,
     "start_time": "2023-11-24T13:36:22.192518",
     "status": "completed"
    },
    "tags": []
   },
   "source": [
    "Once your function is verified as correct, run the next code cell to calculate the updated cost of your project."
   ]
  },
  {
   "cell_type": "code",
   "execution_count": 13,
   "id": "bcd069dc",
   "metadata": {
    "execution": {
     "iopub.execute_input": "2023-11-24T13:36:22.212395Z",
     "iopub.status.busy": "2023-11-24T13:36:22.211978Z",
     "iopub.status.idle": "2023-11-24T13:36:22.219062Z",
     "shell.execute_reply": "2023-11-24T13:36:22.217761Z"
    },
    "papermill": {
     "duration": 0.017298,
     "end_time": "2023-11-24T13:36:22.221827",
     "exception": false,
     "start_time": "2023-11-24T13:36:22.204529",
     "status": "completed"
    },
    "tags": []
   },
   "outputs": [
    {
     "data": {
      "text/plain": [
       "30"
      ]
     },
     "execution_count": 13,
     "metadata": {},
     "output_type": "execute_result"
    }
   ],
   "source": [
    "get_actual_cost(432, 144, 400, 15) "
   ]
  },
  {
   "cell_type": "markdown",
   "id": "e84d1a87",
   "metadata": {
    "papermill": {
     "duration": 0.006506,
     "end_time": "2023-11-24T13:36:22.235557",
     "exception": false,
     "start_time": "2023-11-24T13:36:22.229051",
     "status": "completed"
    },
    "tags": []
   },
   "source": [
    "Say you're working with a slightly larger room.  Run the next code cell to calculate the cost of the project."
   ]
  },
  {
   "cell_type": "code",
   "execution_count": 14,
   "id": "80474d41",
   "metadata": {
    "execution": {
     "iopub.execute_input": "2023-11-24T13:36:22.251054Z",
     "iopub.status.busy": "2023-11-24T13:36:22.250731Z",
     "iopub.status.idle": "2023-11-24T13:36:22.256837Z",
     "shell.execute_reply": "2023-11-24T13:36:22.255855Z"
    },
    "papermill": {
     "duration": 0.016163,
     "end_time": "2023-11-24T13:36:22.258845",
     "exception": false,
     "start_time": "2023-11-24T13:36:22.242682",
     "status": "completed"
    },
    "tags": []
   },
   "outputs": [
    {
     "data": {
      "text/plain": [
       "45"
      ]
     },
     "execution_count": 14,
     "metadata": {},
     "output_type": "execute_result"
    }
   ],
   "source": [
    "get_actual_cost(594, 288, 400, 15) "
   ]
  },
  {
   "cell_type": "markdown",
   "id": "b2cc6643",
   "metadata": {
    "papermill": {
     "duration": 0.006105,
     "end_time": "2023-11-24T13:36:22.271380",
     "exception": false,
     "start_time": "2023-11-24T13:36:22.265275",
     "status": "completed"
    },
    "tags": []
   },
   "source": [
    "# Keep going\n",
    "\n",
    "Continue to learn about **[data types](https://www.kaggle.com/alexisbcook/data-types)**."
   ]
  },
  {
   "cell_type": "markdown",
   "id": "c4d6b1e2",
   "metadata": {
    "papermill": {
     "duration": 0.006015,
     "end_time": "2023-11-24T13:36:22.283728",
     "exception": false,
     "start_time": "2023-11-24T13:36:22.277713",
     "status": "completed"
    },
    "tags": []
   },
   "source": [
    "---\n",
    "\n",
    "\n",
    "\n",
    "\n",
    "*Have questions or comments? Visit the [course discussion forum](https://www.kaggle.com/learn/intro-to-programming/discussion) to chat with other learners.*"
   ]
  }
 ],
 "metadata": {
  "kaggle": {
   "accelerator": "none",
   "dataSources": [],
   "isGpuEnabled": false,
   "isInternetEnabled": false,
   "language": "python",
   "sourceType": "notebook"
  },
  "kernelspec": {
   "display_name": "Python 3",
   "language": "python",
   "name": "python3"
  },
  "language_info": {
   "codemirror_mode": {
    "name": "ipython",
    "version": 3
   },
   "file_extension": ".py",
   "mimetype": "text/x-python",
   "name": "python",
   "nbconvert_exporter": "python",
   "pygments_lexer": "ipython3",
   "version": "3.10.12"
  },
  "papermill": {
   "default_parameters": {},
   "duration": 3.833682,
   "end_time": "2023-11-24T13:36:22.710241",
   "environment_variables": {},
   "exception": null,
   "input_path": "__notebook__.ipynb",
   "output_path": "__notebook__.ipynb",
   "parameters": {},
   "start_time": "2023-11-24T13:36:18.876559",
   "version": "2.4.0"
  }
 },
 "nbformat": 4,
 "nbformat_minor": 5
}
