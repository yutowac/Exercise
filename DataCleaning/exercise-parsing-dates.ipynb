{
 "cells": [
  {
   "cell_type": "markdown",
   "id": "0af2c162",
   "metadata": {
    "papermill": {
     "duration": 0.007647,
     "end_time": "2024-04-26T01:06:33.093451",
     "exception": false,
     "start_time": "2024-04-26T01:06:33.085804",
     "status": "completed"
    },
    "tags": []
   },
   "source": [
    "**This notebook is an exercise in the [Data Cleaning](https://www.kaggle.com/learn/data-cleaning) course.  You can reference the tutorial at [this link](https://www.kaggle.com/alexisbcook/parsing-dates).**\n",
    "\n",
    "---\n"
   ]
  },
  {
   "cell_type": "markdown",
   "id": "3f4f486f",
   "metadata": {
    "papermill": {
     "duration": 0.006569,
     "end_time": "2024-04-26T01:06:33.107577",
     "exception": false,
     "start_time": "2024-04-26T01:06:33.101008",
     "status": "completed"
    },
    "tags": []
   },
   "source": [
    "In this exercise, you'll apply what you learned in the **Parsing dates** tutorial.\n",
    "\n",
    "# Setup\n",
    "\n",
    "The questions below will give you feedback on your work. Run the following cell to set up the feedback system."
   ]
  },
  {
   "cell_type": "code",
   "execution_count": 1,
   "id": "f507ed11",
   "metadata": {
    "execution": {
     "iopub.execute_input": "2024-04-26T01:06:33.123216Z",
     "iopub.status.busy": "2024-04-26T01:06:33.122538Z",
     "iopub.status.idle": "2024-04-26T01:06:35.750254Z",
     "shell.execute_reply": "2024-04-26T01:06:35.747699Z"
    },
    "papermill": {
     "duration": 2.638305,
     "end_time": "2024-04-26T01:06:35.752738",
     "exception": false,
     "start_time": "2024-04-26T01:06:33.114433",
     "status": "completed"
    },
    "tags": []
   },
   "outputs": [
    {
     "name": "stdout",
     "output_type": "stream",
     "text": [
      "Setup Complete\n"
     ]
    }
   ],
   "source": [
    "from learntools.core import binder\n",
    "binder.bind(globals())\n",
    "from learntools.data_cleaning.ex3 import *\n",
    "print(\"Setup Complete\")"
   ]
  },
  {
   "cell_type": "markdown",
   "id": "8c656627",
   "metadata": {
    "papermill": {
     "duration": 0.007039,
     "end_time": "2024-04-26T01:06:35.767525",
     "exception": false,
     "start_time": "2024-04-26T01:06:35.760486",
     "status": "completed"
    },
    "tags": []
   },
   "source": [
    "# Get our environment set up\n",
    "\n",
    "The first thing we'll need to do is load in the libraries and dataset we'll be using. We'll be working with a dataset containing information on earthquakes that occured between 1965 and 2016."
   ]
  },
  {
   "cell_type": "code",
   "execution_count": 2,
   "id": "c154c4bf",
   "metadata": {
    "execution": {
     "iopub.execute_input": "2024-04-26T01:06:35.783829Z",
     "iopub.status.busy": "2024-04-26T01:06:35.782714Z",
     "iopub.status.idle": "2024-04-26T01:06:35.879373Z",
     "shell.execute_reply": "2024-04-26T01:06:35.877999Z"
    },
    "papermill": {
     "duration": 0.107364,
     "end_time": "2024-04-26T01:06:35.881840",
     "exception": false,
     "start_time": "2024-04-26T01:06:35.774476",
     "status": "completed"
    },
    "tags": []
   },
   "outputs": [],
   "source": [
    "# modules we'll use\n",
    "import pandas as pd\n",
    "import numpy as np\n",
    "import seaborn as sns\n",
    "import datetime\n",
    "\n",
    "# read in our data\n",
    "earthquakes = pd.read_csv(\"../input/earthquake-database/database.csv\")\n",
    "\n",
    "# set seed for reproducibility\n",
    "np.random.seed(0)"
   ]
  },
  {
   "cell_type": "markdown",
   "id": "5bf1af8a",
   "metadata": {
    "papermill": {
     "duration": 0.006882,
     "end_time": "2024-04-26T01:06:35.897660",
     "exception": false,
     "start_time": "2024-04-26T01:06:35.890778",
     "status": "completed"
    },
    "tags": []
   },
   "source": [
    "# 1) Check the data type of our date column\n",
    "\n",
    "You'll be working with the \"Date\" column from the `earthquakes` dataframe.  Investigate this column now: does it look like it contains dates?  What is the dtype of the column?"
   ]
  },
  {
   "cell_type": "code",
   "execution_count": 3,
   "id": "fb9a35b9",
   "metadata": {
    "execution": {
     "iopub.execute_input": "2024-04-26T01:06:35.915115Z",
     "iopub.status.busy": "2024-04-26T01:06:35.914710Z",
     "iopub.status.idle": "2024-04-26T01:06:35.924924Z",
     "shell.execute_reply": "2024-04-26T01:06:35.923611Z"
    },
    "papermill": {
     "duration": 0.022741,
     "end_time": "2024-04-26T01:06:35.927356",
     "exception": false,
     "start_time": "2024-04-26T01:06:35.904615",
     "status": "completed"
    },
    "tags": []
   },
   "outputs": [
    {
     "data": {
      "text/plain": [
       "0        01/02/1965\n",
       "1        01/04/1965\n",
       "2        01/05/1965\n",
       "3        01/08/1965\n",
       "4        01/09/1965\n",
       "            ...    \n",
       "23407    12/28/2016\n",
       "23408    12/28/2016\n",
       "23409    12/28/2016\n",
       "23410    12/29/2016\n",
       "23411    12/30/2016\n",
       "Name: Date, Length: 23412, dtype: object"
      ]
     },
     "execution_count": 3,
     "metadata": {},
     "output_type": "execute_result"
    }
   ],
   "source": [
    "# TODO: Your code here!\n",
    "earthquakes.Date"
   ]
  },
  {
   "cell_type": "markdown",
   "id": "8e5527df",
   "metadata": {
    "papermill": {
     "duration": 0.007094,
     "end_time": "2024-04-26T01:06:35.941966",
     "exception": false,
     "start_time": "2024-04-26T01:06:35.934872",
     "status": "completed"
    },
    "tags": []
   },
   "source": [
    "Once you have answered the question above, run the code cell below to get credit for your work."
   ]
  },
  {
   "cell_type": "code",
   "execution_count": 4,
   "id": "43948410",
   "metadata": {
    "execution": {
     "iopub.execute_input": "2024-04-26T01:06:35.958002Z",
     "iopub.status.busy": "2024-04-26T01:06:35.957604Z",
     "iopub.status.idle": "2024-04-26T01:06:35.965888Z",
     "shell.execute_reply": "2024-04-26T01:06:35.964794Z"
    },
    "papermill": {
     "duration": 0.019092,
     "end_time": "2024-04-26T01:06:35.968199",
     "exception": false,
     "start_time": "2024-04-26T01:06:35.949107",
     "status": "completed"
    },
    "tags": []
   },
   "outputs": [
    {
     "data": {
      "application/javascript": [
       "parent.postMessage({\"jupyterEvent\": \"custom.exercise_interaction\", \"data\": {\"outcomeType\": 1, \"valueTowardsCompletion\": 0.25, \"interactionType\": 1, \"questionType\": 4, \"questionId\": \"1_CheckDtype\", \"learnToolsVersion\": \"0.3.4\", \"failureMessage\": \"\", \"exceptionClass\": \"\", \"trace\": \"\"}}, \"*\")"
      ],
      "text/plain": [
       "<IPython.core.display.Javascript object>"
      ]
     },
     "metadata": {},
     "output_type": "display_data"
    },
    {
     "data": {
      "text/markdown": [
       "<span style=\"color:#33cc33\">Correct:</span> \n",
       "\n",
       "The \"Date\" column in the `earthquakes` DataFrame does have dates.  The dtype is \"object\"."
      ],
      "text/plain": [
       "Correct: \n",
       "\n",
       "The \"Date\" column in the `earthquakes` DataFrame does have dates.  The dtype is \"object\"."
      ]
     },
     "metadata": {},
     "output_type": "display_data"
    }
   ],
   "source": [
    "# Check your answer (Run this code cell to receive credit!)\n",
    "q1.check()"
   ]
  },
  {
   "cell_type": "code",
   "execution_count": 5,
   "id": "0b462b70",
   "metadata": {
    "execution": {
     "iopub.execute_input": "2024-04-26T01:06:35.985121Z",
     "iopub.status.busy": "2024-04-26T01:06:35.984745Z",
     "iopub.status.idle": "2024-04-26T01:06:35.989304Z",
     "shell.execute_reply": "2024-04-26T01:06:35.988093Z"
    },
    "papermill": {
     "duration": 0.015874,
     "end_time": "2024-04-26T01:06:35.991715",
     "exception": false,
     "start_time": "2024-04-26T01:06:35.975841",
     "status": "completed"
    },
    "tags": []
   },
   "outputs": [],
   "source": [
    "# Line below will give you a hint\n",
    "#q1.hint()"
   ]
  },
  {
   "cell_type": "markdown",
   "id": "0df49ec5",
   "metadata": {
    "papermill": {
     "duration": 0.007409,
     "end_time": "2024-04-26T01:06:36.006605",
     "exception": false,
     "start_time": "2024-04-26T01:06:35.999196",
     "status": "completed"
    },
    "tags": []
   },
   "source": [
    "# 2) Convert our date columns to datetime\n",
    "\n",
    "Most of the entries in the \"Date\" column follow the same format: \"month/day/four-digit year\".  However, the entry at index 3378 follows a completely different pattern.  Run the code cell below to see this."
   ]
  },
  {
   "cell_type": "code",
   "execution_count": 6,
   "id": "68e7e439",
   "metadata": {
    "execution": {
     "iopub.execute_input": "2024-04-26T01:06:36.023926Z",
     "iopub.status.busy": "2024-04-26T01:06:36.023221Z",
     "iopub.status.idle": "2024-04-26T01:06:36.057200Z",
     "shell.execute_reply": "2024-04-26T01:06:36.055973Z"
    },
    "papermill": {
     "duration": 0.045218,
     "end_time": "2024-04-26T01:06:36.059727",
     "exception": false,
     "start_time": "2024-04-26T01:06:36.014509",
     "status": "completed"
    },
    "tags": []
   },
   "outputs": [
    {
     "data": {
      "text/html": [
       "<div>\n",
       "<style scoped>\n",
       "    .dataframe tbody tr th:only-of-type {\n",
       "        vertical-align: middle;\n",
       "    }\n",
       "\n",
       "    .dataframe tbody tr th {\n",
       "        vertical-align: top;\n",
       "    }\n",
       "\n",
       "    .dataframe thead th {\n",
       "        text-align: right;\n",
       "    }\n",
       "</style>\n",
       "<table border=\"1\" class=\"dataframe\">\n",
       "  <thead>\n",
       "    <tr style=\"text-align: right;\">\n",
       "      <th></th>\n",
       "      <th>Date</th>\n",
       "      <th>Time</th>\n",
       "      <th>Latitude</th>\n",
       "      <th>Longitude</th>\n",
       "      <th>Type</th>\n",
       "      <th>Depth</th>\n",
       "      <th>Depth Error</th>\n",
       "      <th>Depth Seismic Stations</th>\n",
       "      <th>Magnitude</th>\n",
       "      <th>Magnitude Type</th>\n",
       "      <th>...</th>\n",
       "      <th>Magnitude Seismic Stations</th>\n",
       "      <th>Azimuthal Gap</th>\n",
       "      <th>Horizontal Distance</th>\n",
       "      <th>Horizontal Error</th>\n",
       "      <th>Root Mean Square</th>\n",
       "      <th>ID</th>\n",
       "      <th>Source</th>\n",
       "      <th>Location Source</th>\n",
       "      <th>Magnitude Source</th>\n",
       "      <th>Status</th>\n",
       "    </tr>\n",
       "  </thead>\n",
       "  <tbody>\n",
       "    <tr>\n",
       "      <th>3378</th>\n",
       "      <td>1975-02-23T02:58:41.000Z</td>\n",
       "      <td>1975-02-23T02:58:41.000Z</td>\n",
       "      <td>8.017</td>\n",
       "      <td>124.075</td>\n",
       "      <td>Earthquake</td>\n",
       "      <td>623.0</td>\n",
       "      <td>NaN</td>\n",
       "      <td>NaN</td>\n",
       "      <td>5.6</td>\n",
       "      <td>MB</td>\n",
       "      <td>...</td>\n",
       "      <td>NaN</td>\n",
       "      <td>NaN</td>\n",
       "      <td>NaN</td>\n",
       "      <td>NaN</td>\n",
       "      <td>NaN</td>\n",
       "      <td>USP0000A09</td>\n",
       "      <td>US</td>\n",
       "      <td>US</td>\n",
       "      <td>US</td>\n",
       "      <td>Reviewed</td>\n",
       "    </tr>\n",
       "    <tr>\n",
       "      <th>3379</th>\n",
       "      <td>02/23/1975</td>\n",
       "      <td>03:53:36</td>\n",
       "      <td>-21.727</td>\n",
       "      <td>-71.356</td>\n",
       "      <td>Earthquake</td>\n",
       "      <td>33.0</td>\n",
       "      <td>NaN</td>\n",
       "      <td>NaN</td>\n",
       "      <td>5.6</td>\n",
       "      <td>MB</td>\n",
       "      <td>...</td>\n",
       "      <td>NaN</td>\n",
       "      <td>NaN</td>\n",
       "      <td>NaN</td>\n",
       "      <td>NaN</td>\n",
       "      <td>NaN</td>\n",
       "      <td>USP0000A0A</td>\n",
       "      <td>US</td>\n",
       "      <td>US</td>\n",
       "      <td>US</td>\n",
       "      <td>Reviewed</td>\n",
       "    </tr>\n",
       "    <tr>\n",
       "      <th>3380</th>\n",
       "      <td>02/23/1975</td>\n",
       "      <td>07:34:11</td>\n",
       "      <td>-10.879</td>\n",
       "      <td>166.667</td>\n",
       "      <td>Earthquake</td>\n",
       "      <td>33.0</td>\n",
       "      <td>NaN</td>\n",
       "      <td>NaN</td>\n",
       "      <td>5.5</td>\n",
       "      <td>MS</td>\n",
       "      <td>...</td>\n",
       "      <td>NaN</td>\n",
       "      <td>NaN</td>\n",
       "      <td>NaN</td>\n",
       "      <td>NaN</td>\n",
       "      <td>NaN</td>\n",
       "      <td>USP0000A0C</td>\n",
       "      <td>US</td>\n",
       "      <td>US</td>\n",
       "      <td>US</td>\n",
       "      <td>Reviewed</td>\n",
       "    </tr>\n",
       "    <tr>\n",
       "      <th>3381</th>\n",
       "      <td>02/25/1975</td>\n",
       "      <td>05:20:05</td>\n",
       "      <td>-7.388</td>\n",
       "      <td>149.798</td>\n",
       "      <td>Earthquake</td>\n",
       "      <td>33.0</td>\n",
       "      <td>NaN</td>\n",
       "      <td>NaN</td>\n",
       "      <td>5.5</td>\n",
       "      <td>MB</td>\n",
       "      <td>...</td>\n",
       "      <td>NaN</td>\n",
       "      <td>NaN</td>\n",
       "      <td>NaN</td>\n",
       "      <td>NaN</td>\n",
       "      <td>NaN</td>\n",
       "      <td>USP0000A12</td>\n",
       "      <td>US</td>\n",
       "      <td>US</td>\n",
       "      <td>US</td>\n",
       "      <td>Reviewed</td>\n",
       "    </tr>\n",
       "    <tr>\n",
       "      <th>3382</th>\n",
       "      <td>02/26/1975</td>\n",
       "      <td>04:48:55</td>\n",
       "      <td>85.047</td>\n",
       "      <td>97.969</td>\n",
       "      <td>Earthquake</td>\n",
       "      <td>33.0</td>\n",
       "      <td>NaN</td>\n",
       "      <td>NaN</td>\n",
       "      <td>5.6</td>\n",
       "      <td>MS</td>\n",
       "      <td>...</td>\n",
       "      <td>NaN</td>\n",
       "      <td>NaN</td>\n",
       "      <td>NaN</td>\n",
       "      <td>NaN</td>\n",
       "      <td>NaN</td>\n",
       "      <td>USP0000A1H</td>\n",
       "      <td>US</td>\n",
       "      <td>US</td>\n",
       "      <td>US</td>\n",
       "      <td>Reviewed</td>\n",
       "    </tr>\n",
       "  </tbody>\n",
       "</table>\n",
       "<p>5 rows × 21 columns</p>\n",
       "</div>"
      ],
      "text/plain": [
       "                          Date                      Time  Latitude  Longitude  \\\n",
       "3378  1975-02-23T02:58:41.000Z  1975-02-23T02:58:41.000Z     8.017    124.075   \n",
       "3379                02/23/1975                  03:53:36   -21.727    -71.356   \n",
       "3380                02/23/1975                  07:34:11   -10.879    166.667   \n",
       "3381                02/25/1975                  05:20:05    -7.388    149.798   \n",
       "3382                02/26/1975                  04:48:55    85.047     97.969   \n",
       "\n",
       "            Type  Depth  Depth Error  Depth Seismic Stations  Magnitude  \\\n",
       "3378  Earthquake  623.0          NaN                     NaN        5.6   \n",
       "3379  Earthquake   33.0          NaN                     NaN        5.6   \n",
       "3380  Earthquake   33.0          NaN                     NaN        5.5   \n",
       "3381  Earthquake   33.0          NaN                     NaN        5.5   \n",
       "3382  Earthquake   33.0          NaN                     NaN        5.6   \n",
       "\n",
       "     Magnitude Type  ...  Magnitude Seismic Stations  Azimuthal Gap  \\\n",
       "3378             MB  ...                         NaN            NaN   \n",
       "3379             MB  ...                         NaN            NaN   \n",
       "3380             MS  ...                         NaN            NaN   \n",
       "3381             MB  ...                         NaN            NaN   \n",
       "3382             MS  ...                         NaN            NaN   \n",
       "\n",
       "      Horizontal Distance  Horizontal Error  Root Mean Square          ID  \\\n",
       "3378                  NaN               NaN               NaN  USP0000A09   \n",
       "3379                  NaN               NaN               NaN  USP0000A0A   \n",
       "3380                  NaN               NaN               NaN  USP0000A0C   \n",
       "3381                  NaN               NaN               NaN  USP0000A12   \n",
       "3382                  NaN               NaN               NaN  USP0000A1H   \n",
       "\n",
       "     Source Location Source Magnitude Source    Status  \n",
       "3378     US              US               US  Reviewed  \n",
       "3379     US              US               US  Reviewed  \n",
       "3380     US              US               US  Reviewed  \n",
       "3381     US              US               US  Reviewed  \n",
       "3382     US              US               US  Reviewed  \n",
       "\n",
       "[5 rows x 21 columns]"
      ]
     },
     "execution_count": 6,
     "metadata": {},
     "output_type": "execute_result"
    }
   ],
   "source": [
    "earthquakes[3378:3383]"
   ]
  },
  {
   "cell_type": "markdown",
   "id": "b31dd131",
   "metadata": {
    "papermill": {
     "duration": 0.007594,
     "end_time": "2024-04-26T01:06:36.075169",
     "exception": false,
     "start_time": "2024-04-26T01:06:36.067575",
     "status": "completed"
    },
    "tags": []
   },
   "source": [
    "This does appear to be an issue with data entry: ideally, all entries in the column have the same format.  We can get an idea of how widespread this issue is by checking the length of each entry in the \"Date\" column."
   ]
  },
  {
   "cell_type": "code",
   "execution_count": 7,
   "id": "cc309223",
   "metadata": {
    "execution": {
     "iopub.execute_input": "2024-04-26T01:06:36.093222Z",
     "iopub.status.busy": "2024-04-26T01:06:36.092038Z",
     "iopub.status.idle": "2024-04-26T01:06:36.112763Z",
     "shell.execute_reply": "2024-04-26T01:06:36.111694Z"
    },
    "papermill": {
     "duration": 0.032187,
     "end_time": "2024-04-26T01:06:36.115050",
     "exception": false,
     "start_time": "2024-04-26T01:06:36.082863",
     "status": "completed"
    },
    "tags": []
   },
   "outputs": [
    {
     "data": {
      "text/plain": [
       "Date\n",
       "10    23409\n",
       "24        3\n",
       "Name: count, dtype: int64"
      ]
     },
     "execution_count": 7,
     "metadata": {},
     "output_type": "execute_result"
    }
   ],
   "source": [
    "date_lengths = earthquakes.Date.str.len()\n",
    "date_lengths.value_counts()"
   ]
  },
  {
   "cell_type": "markdown",
   "id": "3336d425",
   "metadata": {
    "papermill": {
     "duration": 0.007612,
     "end_time": "2024-04-26T01:06:36.131019",
     "exception": false,
     "start_time": "2024-04-26T01:06:36.123407",
     "status": "completed"
    },
    "tags": []
   },
   "source": [
    "Looks like there are two more rows that has a date in a different format.  Run the code cell below to obtain the indices corresponding to those rows and print the data."
   ]
  },
  {
   "cell_type": "code",
   "execution_count": 8,
   "id": "559feb6e",
   "metadata": {
    "execution": {
     "iopub.execute_input": "2024-04-26T01:06:36.149262Z",
     "iopub.status.busy": "2024-04-26T01:06:36.148149Z",
     "iopub.status.idle": "2024-04-26T01:06:36.176078Z",
     "shell.execute_reply": "2024-04-26T01:06:36.174590Z"
    },
    "papermill": {
     "duration": 0.03944,
     "end_time": "2024-04-26T01:06:36.178425",
     "exception": false,
     "start_time": "2024-04-26T01:06:36.138985",
     "status": "completed"
    },
    "tags": []
   },
   "outputs": [
    {
     "name": "stdout",
     "output_type": "stream",
     "text": [
      "Indices with corrupted data: [ 3378  7512 20650]\n"
     ]
    },
    {
     "data": {
      "text/html": [
       "<div>\n",
       "<style scoped>\n",
       "    .dataframe tbody tr th:only-of-type {\n",
       "        vertical-align: middle;\n",
       "    }\n",
       "\n",
       "    .dataframe tbody tr th {\n",
       "        vertical-align: top;\n",
       "    }\n",
       "\n",
       "    .dataframe thead th {\n",
       "        text-align: right;\n",
       "    }\n",
       "</style>\n",
       "<table border=\"1\" class=\"dataframe\">\n",
       "  <thead>\n",
       "    <tr style=\"text-align: right;\">\n",
       "      <th></th>\n",
       "      <th>Date</th>\n",
       "      <th>Time</th>\n",
       "      <th>Latitude</th>\n",
       "      <th>Longitude</th>\n",
       "      <th>Type</th>\n",
       "      <th>Depth</th>\n",
       "      <th>Depth Error</th>\n",
       "      <th>Depth Seismic Stations</th>\n",
       "      <th>Magnitude</th>\n",
       "      <th>Magnitude Type</th>\n",
       "      <th>...</th>\n",
       "      <th>Magnitude Seismic Stations</th>\n",
       "      <th>Azimuthal Gap</th>\n",
       "      <th>Horizontal Distance</th>\n",
       "      <th>Horizontal Error</th>\n",
       "      <th>Root Mean Square</th>\n",
       "      <th>ID</th>\n",
       "      <th>Source</th>\n",
       "      <th>Location Source</th>\n",
       "      <th>Magnitude Source</th>\n",
       "      <th>Status</th>\n",
       "    </tr>\n",
       "  </thead>\n",
       "  <tbody>\n",
       "    <tr>\n",
       "      <th>3378</th>\n",
       "      <td>1975-02-23T02:58:41.000Z</td>\n",
       "      <td>1975-02-23T02:58:41.000Z</td>\n",
       "      <td>8.017</td>\n",
       "      <td>124.075</td>\n",
       "      <td>Earthquake</td>\n",
       "      <td>623.0</td>\n",
       "      <td>NaN</td>\n",
       "      <td>NaN</td>\n",
       "      <td>5.6</td>\n",
       "      <td>MB</td>\n",
       "      <td>...</td>\n",
       "      <td>NaN</td>\n",
       "      <td>NaN</td>\n",
       "      <td>NaN</td>\n",
       "      <td>NaN</td>\n",
       "      <td>NaN</td>\n",
       "      <td>USP0000A09</td>\n",
       "      <td>US</td>\n",
       "      <td>US</td>\n",
       "      <td>US</td>\n",
       "      <td>Reviewed</td>\n",
       "    </tr>\n",
       "    <tr>\n",
       "      <th>7512</th>\n",
       "      <td>1985-04-28T02:53:41.530Z</td>\n",
       "      <td>1985-04-28T02:53:41.530Z</td>\n",
       "      <td>-32.998</td>\n",
       "      <td>-71.766</td>\n",
       "      <td>Earthquake</td>\n",
       "      <td>33.0</td>\n",
       "      <td>NaN</td>\n",
       "      <td>NaN</td>\n",
       "      <td>5.6</td>\n",
       "      <td>MW</td>\n",
       "      <td>...</td>\n",
       "      <td>NaN</td>\n",
       "      <td>NaN</td>\n",
       "      <td>NaN</td>\n",
       "      <td>NaN</td>\n",
       "      <td>1.30</td>\n",
       "      <td>USP0002E81</td>\n",
       "      <td>US</td>\n",
       "      <td>US</td>\n",
       "      <td>HRV</td>\n",
       "      <td>Reviewed</td>\n",
       "    </tr>\n",
       "    <tr>\n",
       "      <th>20650</th>\n",
       "      <td>2011-03-13T02:23:34.520Z</td>\n",
       "      <td>2011-03-13T02:23:34.520Z</td>\n",
       "      <td>36.344</td>\n",
       "      <td>142.344</td>\n",
       "      <td>Earthquake</td>\n",
       "      <td>10.1</td>\n",
       "      <td>13.9</td>\n",
       "      <td>289.0</td>\n",
       "      <td>5.8</td>\n",
       "      <td>MWC</td>\n",
       "      <td>...</td>\n",
       "      <td>NaN</td>\n",
       "      <td>32.3</td>\n",
       "      <td>NaN</td>\n",
       "      <td>NaN</td>\n",
       "      <td>1.06</td>\n",
       "      <td>USP000HWQP</td>\n",
       "      <td>US</td>\n",
       "      <td>US</td>\n",
       "      <td>GCMT</td>\n",
       "      <td>Reviewed</td>\n",
       "    </tr>\n",
       "  </tbody>\n",
       "</table>\n",
       "<p>3 rows × 21 columns</p>\n",
       "</div>"
      ],
      "text/plain": [
       "                           Date                      Time  Latitude  \\\n",
       "3378   1975-02-23T02:58:41.000Z  1975-02-23T02:58:41.000Z     8.017   \n",
       "7512   1985-04-28T02:53:41.530Z  1985-04-28T02:53:41.530Z   -32.998   \n",
       "20650  2011-03-13T02:23:34.520Z  2011-03-13T02:23:34.520Z    36.344   \n",
       "\n",
       "       Longitude        Type  Depth  Depth Error  Depth Seismic Stations  \\\n",
       "3378     124.075  Earthquake  623.0          NaN                     NaN   \n",
       "7512     -71.766  Earthquake   33.0          NaN                     NaN   \n",
       "20650    142.344  Earthquake   10.1         13.9                   289.0   \n",
       "\n",
       "       Magnitude Magnitude Type  ...  Magnitude Seismic Stations  \\\n",
       "3378         5.6             MB  ...                         NaN   \n",
       "7512         5.6             MW  ...                         NaN   \n",
       "20650        5.8            MWC  ...                         NaN   \n",
       "\n",
       "       Azimuthal Gap  Horizontal Distance  Horizontal Error  Root Mean Square  \\\n",
       "3378             NaN                  NaN               NaN               NaN   \n",
       "7512             NaN                  NaN               NaN              1.30   \n",
       "20650           32.3                  NaN               NaN              1.06   \n",
       "\n",
       "               ID Source Location Source Magnitude Source    Status  \n",
       "3378   USP0000A09     US              US               US  Reviewed  \n",
       "7512   USP0002E81     US              US              HRV  Reviewed  \n",
       "20650  USP000HWQP     US              US             GCMT  Reviewed  \n",
       "\n",
       "[3 rows x 21 columns]"
      ]
     },
     "execution_count": 8,
     "metadata": {},
     "output_type": "execute_result"
    }
   ],
   "source": [
    "indices = np.where([date_lengths == 24])[1]\n",
    "print('Indices with corrupted data:', indices)\n",
    "earthquakes.loc[indices]"
   ]
  },
  {
   "cell_type": "markdown",
   "id": "f85e93a0",
   "metadata": {
    "papermill": {
     "duration": 0.008036,
     "end_time": "2024-04-26T01:06:36.194746",
     "exception": false,
     "start_time": "2024-04-26T01:06:36.186710",
     "status": "completed"
    },
    "tags": []
   },
   "source": [
    "Given all of this information, it's your turn to create a new column \"date_parsed\" in the `earthquakes` dataset that has correctly parsed dates in it.  \n",
    "\n",
    "**Note**: When completing this problem, you are allowed to (but are not required to) amend the entries in the \"Date\" and \"Time\" columns.  Do not remove any rows from the dataset."
   ]
  },
  {
   "cell_type": "code",
   "execution_count": 9,
   "id": "0d34d699",
   "metadata": {
    "execution": {
     "iopub.execute_input": "2024-04-26T01:06:36.213014Z",
     "iopub.status.busy": "2024-04-26T01:06:36.212597Z",
     "iopub.status.idle": "2024-04-26T01:06:36.262408Z",
     "shell.execute_reply": "2024-04-26T01:06:36.261292Z"
    },
    "papermill": {
     "duration": 0.06215,
     "end_time": "2024-04-26T01:06:36.265100",
     "exception": false,
     "start_time": "2024-04-26T01:06:36.202950",
     "status": "completed"
    },
    "tags": []
   },
   "outputs": [
    {
     "data": {
      "application/javascript": [
       "parent.postMessage({\"jupyterEvent\": \"custom.exercise_interaction\", \"data\": {\"outcomeType\": 1, \"valueTowardsCompletion\": 0.25, \"interactionType\": 1, \"questionType\": 2, \"questionId\": \"2_ConvertToDatetime\", \"learnToolsVersion\": \"0.3.4\", \"failureMessage\": \"\", \"exceptionClass\": \"\", \"trace\": \"\"}}, \"*\")"
      ],
      "text/plain": [
       "<IPython.core.display.Javascript object>"
      ]
     },
     "metadata": {},
     "output_type": "display_data"
    },
    {
     "data": {
      "text/markdown": [
       "<span style=\"color:#33cc33\">Correct</span>"
      ],
      "text/plain": [
       "Correct"
      ]
     },
     "metadata": {},
     "output_type": "display_data"
    }
   ],
   "source": [
    "# TODO: Your code here\n",
    "earthquakes.loc[3378, \"Date\"] = \"02/23/1975\"\n",
    "earthquakes.loc[7512, \"Date\"] = \"04/28/1985\"\n",
    "earthquakes.loc[20650, \"Date\"] = \"03/13/2011\"\n",
    "earthquakes['date_parsed'] = pd.to_datetime(earthquakes.Date, format=\"%m/%d/%Y\") #Y, not y\n",
    "# Check your answer\n",
    "q2.check()"
   ]
  },
  {
   "cell_type": "code",
   "execution_count": 10,
   "id": "c9fd8ab1",
   "metadata": {
    "execution": {
     "iopub.execute_input": "2024-04-26T01:06:36.284065Z",
     "iopub.status.busy": "2024-04-26T01:06:36.283176Z",
     "iopub.status.idle": "2024-04-26T01:06:36.288151Z",
     "shell.execute_reply": "2024-04-26T01:06:36.287155Z"
    },
    "papermill": {
     "duration": 0.017045,
     "end_time": "2024-04-26T01:06:36.290692",
     "exception": false,
     "start_time": "2024-04-26T01:06:36.273647",
     "status": "completed"
    },
    "tags": []
   },
   "outputs": [],
   "source": [
    "# Lines below will give you a hint or solution code\n",
    "# q2.hint()\n",
    "# q2.solution()"
   ]
  },
  {
   "cell_type": "markdown",
   "id": "0508d738",
   "metadata": {
    "papermill": {
     "duration": 0.008156,
     "end_time": "2024-04-26T01:06:36.307615",
     "exception": false,
     "start_time": "2024-04-26T01:06:36.299459",
     "status": "completed"
    },
    "tags": []
   },
   "source": [
    "# 3) Select the day of the month\n",
    "\n",
    "Create a Pandas Series `day_of_month_earthquakes` containing the day of the month from the \"date_parsed\" column."
   ]
  },
  {
   "cell_type": "code",
   "execution_count": 11,
   "id": "208813da",
   "metadata": {
    "execution": {
     "iopub.execute_input": "2024-04-26T01:06:36.325908Z",
     "iopub.status.busy": "2024-04-26T01:06:36.325513Z",
     "iopub.status.idle": "2024-04-26T01:06:36.334321Z",
     "shell.execute_reply": "2024-04-26T01:06:36.333166Z"
    },
    "papermill": {
     "duration": 0.02063,
     "end_time": "2024-04-26T01:06:36.336531",
     "exception": false,
     "start_time": "2024-04-26T01:06:36.315901",
     "status": "completed"
    },
    "tags": []
   },
   "outputs": [
    {
     "data": {
      "text/plain": [
       "0         1\n",
       "1         1\n",
       "2         1\n",
       "3         1\n",
       "4         1\n",
       "         ..\n",
       "23407    12\n",
       "23408    12\n",
       "23409    12\n",
       "23410    12\n",
       "23411    12\n",
       "Name: date_parsed, Length: 23412, dtype: int32"
      ]
     },
     "execution_count": 11,
     "metadata": {},
     "output_type": "execute_result"
    }
   ],
   "source": [
    "earthquakes.date_parsed.dt.month"
   ]
  },
  {
   "cell_type": "code",
   "execution_count": 12,
   "id": "04aa57a2",
   "metadata": {
    "execution": {
     "iopub.execute_input": "2024-04-26T01:06:36.355467Z",
     "iopub.status.busy": "2024-04-26T01:06:36.354736Z",
     "iopub.status.idle": "2024-04-26T01:06:36.364757Z",
     "shell.execute_reply": "2024-04-26T01:06:36.363699Z"
    },
    "papermill": {
     "duration": 0.02177,
     "end_time": "2024-04-26T01:06:36.366875",
     "exception": false,
     "start_time": "2024-04-26T01:06:36.345105",
     "status": "completed"
    },
    "tags": []
   },
   "outputs": [
    {
     "data": {
      "application/javascript": [
       "parent.postMessage({\"jupyterEvent\": \"custom.exercise_interaction\", \"data\": {\"outcomeType\": 1, \"valueTowardsCompletion\": 0.25, \"interactionType\": 1, \"questionType\": 1, \"questionId\": \"3_DayOfMonth\", \"learnToolsVersion\": \"0.3.4\", \"failureMessage\": \"\", \"exceptionClass\": \"\", \"trace\": \"\"}}, \"*\")"
      ],
      "text/plain": [
       "<IPython.core.display.Javascript object>"
      ]
     },
     "metadata": {},
     "output_type": "display_data"
    },
    {
     "data": {
      "text/markdown": [
       "<span style=\"color:#33cc33\">Correct</span>"
      ],
      "text/plain": [
       "Correct"
      ]
     },
     "metadata": {},
     "output_type": "display_data"
    }
   ],
   "source": [
    "# try to get the day of the month from the date column\n",
    "day_of_month_earthquakes = earthquakes.date_parsed.dt.day\n",
    "\n",
    "# Check your answer\n",
    "q3.check()"
   ]
  },
  {
   "cell_type": "code",
   "execution_count": 13,
   "id": "564751d1",
   "metadata": {
    "execution": {
     "iopub.execute_input": "2024-04-26T01:06:36.386214Z",
     "iopub.status.busy": "2024-04-26T01:06:36.385845Z",
     "iopub.status.idle": "2024-04-26T01:06:36.390197Z",
     "shell.execute_reply": "2024-04-26T01:06:36.389085Z"
    },
    "papermill": {
     "duration": 0.016621,
     "end_time": "2024-04-26T01:06:36.392415",
     "exception": false,
     "start_time": "2024-04-26T01:06:36.375794",
     "status": "completed"
    },
    "tags": []
   },
   "outputs": [],
   "source": [
    "# Lines below will give you a hint or solution code\n",
    "#q3.hint()\n",
    "#q3.solution()"
   ]
  },
  {
   "cell_type": "markdown",
   "id": "a1ed34c8",
   "metadata": {
    "papermill": {
     "duration": 0.008568,
     "end_time": "2024-04-26T01:06:36.410846",
     "exception": false,
     "start_time": "2024-04-26T01:06:36.402278",
     "status": "completed"
    },
    "tags": []
   },
   "source": [
    "# 4) Plot the day of the month to check the date parsing\n",
    "\n",
    "Plot the days of the month from your earthquake dataset."
   ]
  },
  {
   "cell_type": "code",
   "execution_count": 14,
   "id": "d40f2f4c",
   "metadata": {
    "execution": {
     "iopub.execute_input": "2024-04-26T01:06:36.430050Z",
     "iopub.status.busy": "2024-04-26T01:06:36.429672Z",
     "iopub.status.idle": "2024-04-26T01:06:36.819986Z",
     "shell.execute_reply": "2024-04-26T01:06:36.818691Z"
    },
    "papermill": {
     "duration": 0.402556,
     "end_time": "2024-04-26T01:06:36.822240",
     "exception": false,
     "start_time": "2024-04-26T01:06:36.419684",
     "status": "completed"
    },
    "tags": []
   },
   "outputs": [
    {
     "name": "stderr",
     "output_type": "stream",
     "text": [
      "/tmp/ipykernel_18/1813481586.py:2: UserWarning: \n",
      "\n",
      "`distplot` is a deprecated function and will be removed in seaborn v0.14.0.\n",
      "\n",
      "Please adapt your code to use either `displot` (a figure-level function with\n",
      "similar flexibility) or `histplot` (an axes-level function for histograms).\n",
      "\n",
      "For a guide to updating your code to use the new functions, please see\n",
      "https://gist.github.com/mwaskom/de44147ed2974457ad6372750bbe5751\n",
      "\n",
      "  sns.distplot(day_of_month_earthquakes, kde=False, bins=31)\n"
     ]
    },
    {
     "data": {
      "text/plain": [
       "<Axes: xlabel='date_parsed'>"
      ]
     },
     "execution_count": 14,
     "metadata": {},
     "output_type": "execute_result"
    },
    {
     "data": {
      "image/png": "[encoded data removed]",
      "text/plain": [
       "<Figure size 640x480 with 1 Axes>"
      ]
     },
     "metadata": {},
     "output_type": "display_data"
    }
   ],
   "source": [
    "# TODO: Your code here!\n",
    "sns.distplot(day_of_month_earthquakes, kde=False, bins=31)"
   ]
  },
  {
   "cell_type": "markdown",
   "id": "95e5a270",
   "metadata": {
    "papermill": {
     "duration": 0.008999,
     "end_time": "2024-04-26T01:06:36.840688",
     "exception": false,
     "start_time": "2024-04-26T01:06:36.831689",
     "status": "completed"
    },
    "tags": []
   },
   "source": [
    "Does the graph make sense to you?"
   ]
  },
  {
   "cell_type": "code",
   "execution_count": 15,
   "id": "00fa41d6",
   "metadata": {
    "execution": {
     "iopub.execute_input": "2024-04-26T01:06:36.861124Z",
     "iopub.status.busy": "2024-04-26T01:06:36.860736Z",
     "iopub.status.idle": "2024-04-26T01:06:36.869947Z",
     "shell.execute_reply": "2024-04-26T01:06:36.868714Z"
    },
    "papermill": {
     "duration": 0.021979,
     "end_time": "2024-04-26T01:06:36.872010",
     "exception": false,
     "start_time": "2024-04-26T01:06:36.850031",
     "status": "completed"
    },
    "tags": []
   },
   "outputs": [
    {
     "data": {
      "application/javascript": [
       "parent.postMessage({\"jupyterEvent\": \"custom.exercise_interaction\", \"data\": {\"outcomeType\": 1, \"valueTowardsCompletion\": 0.25, \"interactionType\": 1, \"questionType\": 4, \"questionId\": \"4_PlotDayOfMonth\", \"learnToolsVersion\": \"0.3.4\", \"failureMessage\": \"\", \"exceptionClass\": \"\", \"trace\": \"\"}}, \"*\")"
      ],
      "text/plain": [
       "<IPython.core.display.Javascript object>"
      ]
     },
     "metadata": {},
     "output_type": "display_data"
    },
    {
     "data": {
      "text/markdown": [
       "<span style=\"color:#33cc33\">Correct:</span> \n",
       "\n",
       "The graph should make sense: it shows a relatively even distribution in days of the month,which is what we would expect."
      ],
      "text/plain": [
       "Correct: \n",
       "\n",
       "The graph should make sense: it shows a relatively even distribution in days of the month,which is what we would expect."
      ]
     },
     "metadata": {},
     "output_type": "display_data"
    }
   ],
   "source": [
    "# Check your answer (Run this code cell to receive credit!)\n",
    "q4.check()"
   ]
  },
  {
   "cell_type": "code",
   "execution_count": 16,
   "id": "d8eea4eb",
   "metadata": {
    "execution": {
     "iopub.execute_input": "2024-04-26T01:06:36.895440Z",
     "iopub.status.busy": "2024-04-26T01:06:36.893993Z",
     "iopub.status.idle": "2024-04-26T01:06:36.903671Z",
     "shell.execute_reply": "2024-04-26T01:06:36.902566Z"
    },
    "papermill": {
     "duration": 0.02377,
     "end_time": "2024-04-26T01:06:36.905855",
     "exception": false,
     "start_time": "2024-04-26T01:06:36.882085",
     "status": "completed"
    },
    "tags": []
   },
   "outputs": [
    {
     "data": {
      "application/javascript": [
       "parent.postMessage({\"jupyterEvent\": \"custom.exercise_interaction\", \"data\": {\"interactionType\": 2, \"questionType\": 4, \"questionId\": \"4_PlotDayOfMonth\", \"learnToolsVersion\": \"0.3.4\", \"valueTowardsCompletion\": 0.0, \"failureMessage\": \"\", \"exceptionClass\": \"\", \"trace\": \"\", \"outcomeType\": 4}}, \"*\")"
      ],
      "text/plain": [
       "<IPython.core.display.Javascript object>"
      ]
     },
     "metadata": {},
     "output_type": "display_data"
    },
    {
     "data": {
      "text/markdown": [
       "<span style=\"color:#3366cc\">Hint:</span> \n",
       "Remove the missing values, and then use `sns.distplot()` as follows:\n",
       "\n",
       "```python\n",
       "# remove na's\n",
       "day_of_month_earthquakes = day_of_month_earthquakes.dropna()\n",
       "\n",
       "# plot the day of the month\n",
       "sns.distplot(day_of_month_earthquakes, kde=False, bins=31)\n",
       "```\n",
       "\n"
      ],
      "text/plain": [
       "Hint: \n",
       "Remove the missing values, and then use `sns.distplot()` as follows:\n",
       "\n",
       "```python\n",
       "# remove na's\n",
       "day_of_month_earthquakes = day_of_month_earthquakes.dropna()\n",
       "\n",
       "# plot the day of the month\n",
       "sns.distplot(day_of_month_earthquakes, kde=False, bins=31)\n",
       "```\n"
      ]
     },
     "metadata": {},
     "output_type": "display_data"
    }
   ],
   "source": [
    "# Line below will give you a hint\n",
    "q4.hint()"
   ]
  },
  {
   "cell_type": "markdown",
   "id": "8e584f5b",
   "metadata": {
    "papermill": {
     "duration": 0.00955,
     "end_time": "2024-04-26T01:06:36.925605",
     "exception": false,
     "start_time": "2024-04-26T01:06:36.916055",
     "status": "completed"
    },
    "tags": []
   },
   "source": [
    "# (Optional) Bonus Challenge\n",
    "\n",
    "For an extra challenge, you'll work with a [Smithsonian dataset](https://www.kaggle.com/smithsonian/volcanic-eruptions) that documents Earth's volcanoes and their eruptive history over the past 10,000 years \n",
    "\n",
    "Run the next code cell to load the data."
   ]
  },
  {
   "cell_type": "code",
   "execution_count": 17,
   "id": "f319d479",
   "metadata": {
    "execution": {
     "iopub.execute_input": "2024-04-26T01:06:36.947028Z",
     "iopub.status.busy": "2024-04-26T01:06:36.946660Z",
     "iopub.status.idle": "2024-04-26T01:06:36.973670Z",
     "shell.execute_reply": "2024-04-26T01:06:36.972697Z"
    },
    "papermill": {
     "duration": 0.040607,
     "end_time": "2024-04-26T01:06:36.976128",
     "exception": false,
     "start_time": "2024-04-26T01:06:36.935521",
     "status": "completed"
    },
    "tags": []
   },
   "outputs": [],
   "source": [
    "volcanos = pd.read_csv(\"../input/volcanic-eruptions/database.csv\")"
   ]
  },
  {
   "cell_type": "markdown",
   "id": "bdc0df97",
   "metadata": {
    "papermill": {
     "duration": 0.009683,
     "end_time": "2024-04-26T01:06:36.996113",
     "exception": false,
     "start_time": "2024-04-26T01:06:36.986430",
     "status": "completed"
    },
    "tags": []
   },
   "source": [
    "Try parsing the column \"Last Known Eruption\" from the `volcanos` dataframe. This column contains a mixture of text (\"Unknown\") and years both before the common era (BCE, also known as BC) and in the common era (CE, also known as AD)."
   ]
  },
  {
   "cell_type": "code",
   "execution_count": 18,
   "id": "ddcd19c2",
   "metadata": {
    "execution": {
     "iopub.execute_input": "2024-04-26T01:06:37.017722Z",
     "iopub.status.busy": "2024-04-26T01:06:37.017325Z",
     "iopub.status.idle": "2024-04-26T01:06:37.027055Z",
     "shell.execute_reply": "2024-04-26T01:06:37.025773Z"
    },
    "papermill": {
     "duration": 0.023094,
     "end_time": "2024-04-26T01:06:37.029185",
     "exception": false,
     "start_time": "2024-04-26T01:06:37.006091",
     "status": "completed"
    },
    "tags": []
   },
   "outputs": [
    {
     "data": {
      "text/plain": [
       "764     Unknown\n",
       "1069    1996 CE\n",
       "34      1855 CE\n",
       "489     2016 CE\n",
       "9       1302 CE\n",
       "Name: Last Known Eruption, dtype: object"
      ]
     },
     "execution_count": 18,
     "metadata": {},
     "output_type": "execute_result"
    }
   ],
   "source": [
    "volcanos['Last Known Eruption'].sample(5)"
   ]
  },
  {
   "cell_type": "markdown",
   "id": "7fdc42d3",
   "metadata": {
    "papermill": {
     "duration": 0.010649,
     "end_time": "2024-04-26T01:06:37.050032",
     "exception": false,
     "start_time": "2024-04-26T01:06:37.039383",
     "status": "completed"
    },
    "tags": []
   },
   "source": [
    "# (Optional) More practice\n",
    "\n",
    "If you're interested in graphing time series, [check out this tutorial](https://www.kaggle.com/residentmario/time-series-plotting-optional).\n",
    "\n",
    "You can also look into passing columns that you know have dates in them  the `parse_dates` argument in `read_csv`. (The documention [is here](https://pandas.pydata.org/pandas-docs/stable/generated/pandas.read_csv.html).) Do note that this method can be very slow, but depending on your needs it may sometimes be handy to use.\n",
    "\n",
    "# Keep going\n",
    "\n",
    "In the next lesson, learn how to [**work with character encodings**](https://www.kaggle.com/alexisbcook/character-encodings)."
   ]
  },
  {
   "cell_type": "markdown",
   "id": "2035d40f",
   "metadata": {
    "papermill": {
     "duration": 0.009765,
     "end_time": "2024-04-26T01:06:37.070477",
     "exception": false,
     "start_time": "2024-04-26T01:06:37.060712",
     "status": "completed"
    },
    "tags": []
   },
   "source": [
    "---\n",
    "\n",
    "\n",
    "\n",
    "\n",
    "*Have questions or comments? Visit the [course discussion forum](https://www.kaggle.com/learn/data-cleaning/discussion) to chat with other learners.*"
   ]
  }
 ],
 "metadata": {
  "kaggle": {
   "accelerator": "none",
   "dataSources": [
    {
     "datasetId": 705,
     "sourceId": 1325,
     "sourceType": "datasetVersion"
    },
    {
     "datasetId": 732,
     "sourceId": 1360,
     "sourceType": "datasetVersion"
    }
   ],
   "isGpuEnabled": false,
   "isInternetEnabled": false,
   "language": "python",
   "sourceType": "notebook"
  },
  "kernelspec": {
   "display_name": "Python 3",
   "language": "python",
   "name": "python3"
  },
  "language_info": {
   "codemirror_mode": {
    "name": "ipython",
    "version": 3
   },
   "file_extension": ".py",
   "mimetype": "text/x-python",
   "name": "python",
   "nbconvert_exporter": "python",
   "pygments_lexer": "ipython3",
   "version": "3.10.13"
  },
  "papermill": {
   "default_parameters": {},
   "duration": 7.452498,
   "end_time": "2024-04-26T01:06:37.701647",
   "environment_variables": {},
   "exception": null,
   "input_path": "__notebook__.ipynb",
   "output_path": "__notebook__.ipynb",
   "parameters": {},
   "start_time": "2024-04-26T01:06:30.249149",
   "version": "2.5.0"
  }
 },
 "nbformat": 4,
 "nbformat_minor": 5
}
