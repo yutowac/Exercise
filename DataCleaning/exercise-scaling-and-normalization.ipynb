{
 "cells": [
  {
   "cell_type": "markdown",
   "id": "dbd99639",
   "metadata": {
    "papermill": {
     "duration": 0.007951,
     "end_time": "2024-04-23T07:34:09.061701",
     "exception": false,
     "start_time": "2024-04-23T07:34:09.053750",
     "status": "completed"
    },
    "tags": []
   },
   "source": [
    "**This notebook is an exercise in the [Data Cleaning](https://www.kaggle.com/learn/data-cleaning) course.  You can reference the tutorial at [this link](https://www.kaggle.com/alexisbcook/scaling-and-normalization).**\n",
    "\n",
    "---\n"
   ]
  },
  {
   "cell_type": "markdown",
   "id": "01de3628",
   "metadata": {
    "papermill": {
     "duration": 0.007127,
     "end_time": "2024-04-23T07:34:09.076343",
     "exception": false,
     "start_time": "2024-04-23T07:34:09.069216",
     "status": "completed"
    },
    "tags": []
   },
   "source": [
    "In this exercise, you'll apply what you learned in the **Scaling and normalization** tutorial.\n",
    "\n",
    "# Setup\n",
    "\n",
    "The questions below will give you feedback on your work. Run the following cell to set up the feedback system."
   ]
  },
  {
   "cell_type": "code",
   "execution_count": 1,
   "id": "c22fd34a",
   "metadata": {
    "execution": {
     "iopub.execute_input": "2024-04-23T07:34:09.092796Z",
     "iopub.status.busy": "2024-04-23T07:34:09.092376Z",
     "iopub.status.idle": "2024-04-23T07:34:14.432763Z",
     "shell.execute_reply": "2024-04-23T07:34:14.431339Z"
    },
    "papermill": {
     "duration": 5.351623,
     "end_time": "2024-04-23T07:34:14.435287",
     "exception": false,
     "start_time": "2024-04-23T07:34:09.083664",
     "status": "completed"
    },
    "tags": []
   },
   "outputs": [
    {
     "name": "stdout",
     "output_type": "stream",
     "text": [
      "Setup Complete\n"
     ]
    }
   ],
   "source": [
    "from learntools.core import binder\n",
    "binder.bind(globals())\n",
    "from learntools.data_cleaning.ex2 import *\n",
    "print(\"Setup Complete\")"
   ]
  },
  {
   "cell_type": "markdown",
   "id": "e1b96752",
   "metadata": {
    "papermill": {
     "duration": 0.007133,
     "end_time": "2024-04-23T07:34:14.450590",
     "exception": false,
     "start_time": "2024-04-23T07:34:14.443457",
     "status": "completed"
    },
    "tags": []
   },
   "source": [
    "# Get our environment set up\n",
    "\n",
    "To practice scaling and normalization, we're going to use a [dataset of Kickstarter campaigns](https://www.kaggle.com/kemical/kickstarter-projects). (Kickstarter is a website where people can ask people to invest in various projects and concept products.)\n",
    "\n",
    "The next code cell loads in the libraries and dataset we'll be using. "
   ]
  },
  {
   "cell_type": "code",
   "execution_count": 2,
   "id": "8b9bed05",
   "metadata": {
    "execution": {
     "iopub.execute_input": "2024-04-23T07:34:14.467508Z",
     "iopub.status.busy": "2024-04-23T07:34:14.466631Z",
     "iopub.status.idle": "2024-04-23T07:34:16.321775Z",
     "shell.execute_reply": "2024-04-23T07:34:16.320791Z"
    },
    "papermill": {
     "duration": 1.866621,
     "end_time": "2024-04-23T07:34:16.324491",
     "exception": false,
     "start_time": "2024-04-23T07:34:14.457870",
     "status": "completed"
    },
    "tags": []
   },
   "outputs": [],
   "source": [
    "# modules we'll use\n",
    "import pandas as pd\n",
    "import numpy as np\n",
    "\n",
    "# for Box-Cox Transformation\n",
    "from scipy import stats\n",
    "\n",
    "# for min_max scaling\n",
    "from mlxtend.preprocessing import minmax_scaling\n",
    "\n",
    "# plotting modules\n",
    "import seaborn as sns\n",
    "import matplotlib.pyplot as plt\n",
    "\n",
    "# read in all our data\n",
    "kickstarters_2017 = pd.read_csv(\"../input/kickstarter-projects/ks-projects-201801.csv\")\n",
    "\n",
    "# set seed for reproducibility\n",
    "np.random.seed(0)"
   ]
  },
  {
   "cell_type": "markdown",
   "id": "c8620381",
   "metadata": {
    "papermill": {
     "duration": 0.00715,
     "end_time": "2024-04-23T07:34:16.339743",
     "exception": false,
     "start_time": "2024-04-23T07:34:16.332593",
     "status": "completed"
    },
    "tags": []
   },
   "source": [
    "Let's start by scaling the goals of each campaign, which is how much money they were asking for.  After scaling, all values lie between 0 and 1."
   ]
  },
  {
   "cell_type": "code",
   "execution_count": 3,
   "id": "685182c2",
   "metadata": {
    "execution": {
     "iopub.execute_input": "2024-04-23T07:34:16.357035Z",
     "iopub.status.busy": "2024-04-23T07:34:16.356389Z",
     "iopub.status.idle": "2024-04-23T07:34:16.393353Z",
     "shell.execute_reply": "2024-04-23T07:34:16.392342Z"
    },
    "papermill": {
     "duration": 0.049947,
     "end_time": "2024-04-23T07:34:16.397213",
     "exception": false,
     "start_time": "2024-04-23T07:34:16.347266",
     "status": "completed"
    },
    "tags": []
   },
   "outputs": [
    {
     "name": "stdout",
     "output_type": "stream",
     "text": [
      "Original data\n",
      "Preview:\n",
      "    usd_goal_real\n",
      "0        1533.95\n",
      "1       30000.00\n",
      "2       45000.00\n",
      "3        5000.00\n",
      "4       19500.00\n",
      "Minimum value: 0.01 \n",
      "Maximum value: 166361390.71\n",
      "______________________________\n",
      "\n",
      "Scaled data\n",
      "Preview:\n",
      "    usd_goal_real\n",
      "0       0.000009\n",
      "1       0.000180\n",
      "2       0.000270\n",
      "3       0.000030\n",
      "4       0.000117\n",
      "Minimum value: 0.0 \n",
      "Maximum value: 1.0\n"
     ]
    },
    {
     "name": "stderr",
     "output_type": "stream",
     "text": [
      "/tmp/ipykernel_18/93515903.py:8: FutureWarning: Calling float on a single element Series is deprecated and will raise a TypeError in the future. Use float(ser.iloc[0]) instead\n",
      "  print('Minimum value:', float(original_data.min()),\n",
      "/tmp/ipykernel_18/93515903.py:9: FutureWarning: Calling float on a single element Series is deprecated and will raise a TypeError in the future. Use float(ser.iloc[0]) instead\n",
      "  '\\nMaximum value:', float(original_data.max()))\n",
      "/tmp/ipykernel_18/93515903.py:13: FutureWarning: Calling float on a single element Series is deprecated and will raise a TypeError in the future. Use float(ser.iloc[0]) instead\n",
      "  print('Minimum value:', float(scaled_data.min()),\n",
      "/tmp/ipykernel_18/93515903.py:14: FutureWarning: Calling float on a single element Series is deprecated and will raise a TypeError in the future. Use float(ser.iloc[0]) instead\n",
      "  '\\nMaximum value:', float(scaled_data.max()))\n"
     ]
    }
   ],
   "source": [
    "# select the usd_goal_real column\n",
    "original_data = pd.DataFrame(kickstarters_2017.usd_goal_real)\n",
    "\n",
    "# scale the goals from 0 to 1\n",
    "scaled_data = minmax_scaling(original_data, columns=['usd_goal_real'])\n",
    "\n",
    "print('Original data\\nPreview:\\n', original_data.head())\n",
    "print('Minimum value:', float(original_data.min()),\n",
    "      '\\nMaximum value:', float(original_data.max()))\n",
    "print('_'*30)\n",
    "\n",
    "print('\\nScaled data\\nPreview:\\n', scaled_data.head())\n",
    "print('Minimum value:', float(scaled_data.min()),\n",
    "      '\\nMaximum value:', float(scaled_data.max()))"
   ]
  },
  {
   "cell_type": "markdown",
   "id": "573b9639",
   "metadata": {
    "papermill": {
     "duration": 0.007383,
     "end_time": "2024-04-23T07:34:16.412258",
     "exception": false,
     "start_time": "2024-04-23T07:34:16.404875",
     "status": "completed"
    },
    "tags": []
   },
   "source": [
    "# 1) Practice scaling\n",
    "\n",
    "We just scaled the \"usd_goal_real\" column. What about the \"goal\" column?\n",
    "\n",
    "Begin by running the code cell below to create a DataFrame `original_goal_data` containing the \"goal\" column."
   ]
  },
  {
   "cell_type": "code",
   "execution_count": 4,
   "id": "66724274",
   "metadata": {
    "execution": {
     "iopub.execute_input": "2024-04-23T07:34:16.428833Z",
     "iopub.status.busy": "2024-04-23T07:34:16.428438Z",
     "iopub.status.idle": "2024-04-23T07:34:16.434398Z",
     "shell.execute_reply": "2024-04-23T07:34:16.433330Z"
    },
    "papermill": {
     "duration": 0.016929,
     "end_time": "2024-04-23T07:34:16.436674",
     "exception": false,
     "start_time": "2024-04-23T07:34:16.419745",
     "status": "completed"
    },
    "tags": []
   },
   "outputs": [],
   "source": [
    "# select the usd_goal_real column\n",
    "original_goal_data = pd.DataFrame(kickstarters_2017.goal)"
   ]
  },
  {
   "cell_type": "markdown",
   "id": "2c5fdd6f",
   "metadata": {
    "papermill": {
     "duration": 0.007298,
     "end_time": "2024-04-23T07:34:16.452659",
     "exception": false,
     "start_time": "2024-04-23T07:34:16.445361",
     "status": "completed"
    },
    "tags": []
   },
   "source": [
    "Use `original_goal_data` to create a new DataFrame `scaled_goal_data` with values scaled between 0 and 1. You must use the `minmax_scaling()` function."
   ]
  },
  {
   "cell_type": "code",
   "execution_count": 5,
   "id": "84835c9f",
   "metadata": {
    "execution": {
     "iopub.execute_input": "2024-04-23T07:34:16.469627Z",
     "iopub.status.busy": "2024-04-23T07:34:16.469218Z",
     "iopub.status.idle": "2024-04-23T07:34:16.485081Z",
     "shell.execute_reply": "2024-04-23T07:34:16.484066Z"
    },
    "papermill": {
     "duration": 0.027179,
     "end_time": "2024-04-23T07:34:16.487316",
     "exception": false,
     "start_time": "2024-04-23T07:34:16.460137",
     "status": "completed"
    },
    "tags": []
   },
   "outputs": [
    {
     "data": {
      "text/html": [
       "<div>\n",
       "<style scoped>\n",
       "    .dataframe tbody tr th:only-of-type {\n",
       "        vertical-align: middle;\n",
       "    }\n",
       "\n",
       "    .dataframe tbody tr th {\n",
       "        vertical-align: top;\n",
       "    }\n",
       "\n",
       "    .dataframe thead th {\n",
       "        text-align: right;\n",
       "    }\n",
       "</style>\n",
       "<table border=\"1\" class=\"dataframe\">\n",
       "  <thead>\n",
       "    <tr style=\"text-align: right;\">\n",
       "      <th></th>\n",
       "      <th>goal</th>\n",
       "    </tr>\n",
       "  </thead>\n",
       "  <tbody>\n",
       "    <tr>\n",
       "      <th>0</th>\n",
       "      <td>1000.0</td>\n",
       "    </tr>\n",
       "    <tr>\n",
       "      <th>1</th>\n",
       "      <td>30000.0</td>\n",
       "    </tr>\n",
       "    <tr>\n",
       "      <th>2</th>\n",
       "      <td>45000.0</td>\n",
       "    </tr>\n",
       "    <tr>\n",
       "      <th>3</th>\n",
       "      <td>5000.0</td>\n",
       "    </tr>\n",
       "    <tr>\n",
       "      <th>4</th>\n",
       "      <td>19500.0</td>\n",
       "    </tr>\n",
       "    <tr>\n",
       "      <th>...</th>\n",
       "      <td>...</td>\n",
       "    </tr>\n",
       "    <tr>\n",
       "      <th>378656</th>\n",
       "      <td>50000.0</td>\n",
       "    </tr>\n",
       "    <tr>\n",
       "      <th>378657</th>\n",
       "      <td>1500.0</td>\n",
       "    </tr>\n",
       "    <tr>\n",
       "      <th>378658</th>\n",
       "      <td>15000.0</td>\n",
       "    </tr>\n",
       "    <tr>\n",
       "      <th>378659</th>\n",
       "      <td>15000.0</td>\n",
       "    </tr>\n",
       "    <tr>\n",
       "      <th>378660</th>\n",
       "      <td>2000.0</td>\n",
       "    </tr>\n",
       "  </tbody>\n",
       "</table>\n",
       "<p>378661 rows × 1 columns</p>\n",
       "</div>"
      ],
      "text/plain": [
       "           goal\n",
       "0        1000.0\n",
       "1       30000.0\n",
       "2       45000.0\n",
       "3        5000.0\n",
       "4       19500.0\n",
       "...         ...\n",
       "378656  50000.0\n",
       "378657   1500.0\n",
       "378658  15000.0\n",
       "378659  15000.0\n",
       "378660   2000.0\n",
       "\n",
       "[378661 rows x 1 columns]"
      ]
     },
     "execution_count": 5,
     "metadata": {},
     "output_type": "execute_result"
    }
   ],
   "source": [
    "original_goal_data"
   ]
  },
  {
   "cell_type": "code",
   "execution_count": 6,
   "id": "c74d0f2f",
   "metadata": {
    "execution": {
     "iopub.execute_input": "2024-04-23T07:34:16.504516Z",
     "iopub.status.busy": "2024-04-23T07:34:16.504132Z",
     "iopub.status.idle": "2024-04-23T07:34:16.530055Z",
     "shell.execute_reply": "2024-04-23T07:34:16.528862Z"
    },
    "papermill": {
     "duration": 0.037938,
     "end_time": "2024-04-23T07:34:16.533051",
     "exception": false,
     "start_time": "2024-04-23T07:34:16.495113",
     "status": "completed"
    },
    "tags": []
   },
   "outputs": [
    {
     "data": {
      "application/javascript": [
       "parent.postMessage({\"jupyterEvent\": \"custom.exercise_interaction\", \"data\": {\"outcomeType\": 1, \"valueTowardsCompletion\": 0.3333333333333333, \"interactionType\": 1, \"questionType\": 1, \"questionId\": \"1_TryScaling\", \"learnToolsVersion\": \"0.3.4\", \"failureMessage\": \"\", \"exceptionClass\": \"\", \"trace\": \"\"}}, \"*\")"
      ],
      "text/plain": [
       "<IPython.core.display.Javascript object>"
      ]
     },
     "metadata": {},
     "output_type": "display_data"
    },
    {
     "data": {
      "text/markdown": [
       "<span style=\"color:#33cc33\">Correct</span>"
      ],
      "text/plain": [
       "Correct"
      ]
     },
     "metadata": {},
     "output_type": "display_data"
    }
   ],
   "source": [
    "# TODO: Your code here\n",
    "scaled_goal_data = minmax_scaling(original_goal_data, columns=['goal'])\n",
    "\n",
    "# Check your answer\n",
    "q1.check()"
   ]
  },
  {
   "cell_type": "code",
   "execution_count": 7,
   "id": "6704b2d4",
   "metadata": {
    "execution": {
     "iopub.execute_input": "2024-04-23T07:34:16.551576Z",
     "iopub.status.busy": "2024-04-23T07:34:16.551163Z",
     "iopub.status.idle": "2024-04-23T07:34:16.562257Z",
     "shell.execute_reply": "2024-04-23T07:34:16.561457Z"
    },
    "papermill": {
     "duration": 0.023083,
     "end_time": "2024-04-23T07:34:16.564491",
     "exception": false,
     "start_time": "2024-04-23T07:34:16.541408",
     "status": "completed"
    },
    "tags": []
   },
   "outputs": [
    {
     "data": {
      "text/html": [
       "<div>\n",
       "<style scoped>\n",
       "    .dataframe tbody tr th:only-of-type {\n",
       "        vertical-align: middle;\n",
       "    }\n",
       "\n",
       "    .dataframe tbody tr th {\n",
       "        vertical-align: top;\n",
       "    }\n",
       "\n",
       "    .dataframe thead th {\n",
       "        text-align: right;\n",
       "    }\n",
       "</style>\n",
       "<table border=\"1\" class=\"dataframe\">\n",
       "  <thead>\n",
       "    <tr style=\"text-align: right;\">\n",
       "      <th></th>\n",
       "      <th>goal</th>\n",
       "    </tr>\n",
       "  </thead>\n",
       "  <tbody>\n",
       "    <tr>\n",
       "      <th>0</th>\n",
       "      <td>0.000010</td>\n",
       "    </tr>\n",
       "    <tr>\n",
       "      <th>1</th>\n",
       "      <td>0.000300</td>\n",
       "    </tr>\n",
       "    <tr>\n",
       "      <th>2</th>\n",
       "      <td>0.000450</td>\n",
       "    </tr>\n",
       "    <tr>\n",
       "      <th>3</th>\n",
       "      <td>0.000050</td>\n",
       "    </tr>\n",
       "    <tr>\n",
       "      <th>4</th>\n",
       "      <td>0.000195</td>\n",
       "    </tr>\n",
       "    <tr>\n",
       "      <th>...</th>\n",
       "      <td>...</td>\n",
       "    </tr>\n",
       "    <tr>\n",
       "      <th>378656</th>\n",
       "      <td>0.000500</td>\n",
       "    </tr>\n",
       "    <tr>\n",
       "      <th>378657</th>\n",
       "      <td>0.000015</td>\n",
       "    </tr>\n",
       "    <tr>\n",
       "      <th>378658</th>\n",
       "      <td>0.000150</td>\n",
       "    </tr>\n",
       "    <tr>\n",
       "      <th>378659</th>\n",
       "      <td>0.000150</td>\n",
       "    </tr>\n",
       "    <tr>\n",
       "      <th>378660</th>\n",
       "      <td>0.000020</td>\n",
       "    </tr>\n",
       "  </tbody>\n",
       "</table>\n",
       "<p>378661 rows × 1 columns</p>\n",
       "</div>"
      ],
      "text/plain": [
       "            goal\n",
       "0       0.000010\n",
       "1       0.000300\n",
       "2       0.000450\n",
       "3       0.000050\n",
       "4       0.000195\n",
       "...          ...\n",
       "378656  0.000500\n",
       "378657  0.000015\n",
       "378658  0.000150\n",
       "378659  0.000150\n",
       "378660  0.000020\n",
       "\n",
       "[378661 rows x 1 columns]"
      ]
     },
     "execution_count": 7,
     "metadata": {},
     "output_type": "execute_result"
    }
   ],
   "source": [
    "scaled_goal_data"
   ]
  },
  {
   "cell_type": "code",
   "execution_count": 8,
   "id": "8213910a",
   "metadata": {
    "execution": {
     "iopub.execute_input": "2024-04-23T07:34:16.584355Z",
     "iopub.status.busy": "2024-04-23T07:34:16.583307Z",
     "iopub.status.idle": "2024-04-23T07:34:16.587466Z",
     "shell.execute_reply": "2024-04-23T07:34:16.586622Z"
    },
    "papermill": {
     "duration": 0.016708,
     "end_time": "2024-04-23T07:34:16.589800",
     "exception": false,
     "start_time": "2024-04-23T07:34:16.573092",
     "status": "completed"
    },
    "tags": []
   },
   "outputs": [],
   "source": [
    "# Lines below will give you a hint or solution code\n",
    "#q1.hint()\n",
    "#q1.solution()"
   ]
  },
  {
   "cell_type": "markdown",
   "id": "4fb3dfb9",
   "metadata": {
    "papermill": {
     "duration": 0.008435,
     "end_time": "2024-04-23T07:34:16.607193",
     "exception": false,
     "start_time": "2024-04-23T07:34:16.598758",
     "status": "completed"
    },
    "tags": []
   },
   "source": [
    "# 2) Practice normalization\n",
    "\n",
    "Now you'll practice normalization. We begin by normalizing the amount of money pledged to each campaign."
   ]
  },
  {
   "cell_type": "code",
   "execution_count": 9,
   "id": "4c018312",
   "metadata": {
    "execution": {
     "iopub.execute_input": "2024-04-23T07:34:16.626114Z",
     "iopub.status.busy": "2024-04-23T07:34:16.625707Z",
     "iopub.status.idle": "2024-04-23T07:34:16.841538Z",
     "shell.execute_reply": "2024-04-23T07:34:16.840019Z"
    },
    "papermill": {
     "duration": 0.228341,
     "end_time": "2024-04-23T07:34:16.844145",
     "exception": false,
     "start_time": "2024-04-23T07:34:16.615804",
     "status": "completed"
    },
    "tags": []
   },
   "outputs": [
    {
     "name": "stdout",
     "output_type": "stream",
     "text": [
      "Original data\n",
      "Preview:\n",
      " 1     2421.0\n",
      "2      220.0\n",
      "3        1.0\n",
      "4     1283.0\n",
      "5    52375.0\n",
      "Name: usd_pledged_real, dtype: float64\n",
      "Minimum value: 0.45 \n",
      "Maximum value: 20338986.27\n",
      "______________________________\n",
      "\n",
      "Normalized data\n",
      "Preview:\n",
      " 1    10.165142\n",
      "2     6.468598\n",
      "3     0.000000\n",
      "4     9.129277\n",
      "5    15.836853\n",
      "Name: usd_pledged_real, dtype: float64\n",
      "Minimum value: -0.7779954122762203 \n",
      "Maximum value: 30.69054020451361\n"
     ]
    }
   ],
   "source": [
    "# get the index of all positive pledges (Box-Cox only takes positive values)\n",
    "index_of_positive_pledges = kickstarters_2017.usd_pledged_real > 0\n",
    "\n",
    "# get only positive pledges (using their indexes)\n",
    "positive_pledges = kickstarters_2017.usd_pledged_real.loc[index_of_positive_pledges]\n",
    "\n",
    "# normalize the pledges (w/ Box-Cox)\n",
    "normalized_pledges = pd.Series(stats.boxcox(positive_pledges)[0], \n",
    "                               name='usd_pledged_real', index=positive_pledges.index)\n",
    "\n",
    "print('Original data\\nPreview:\\n', positive_pledges.head())\n",
    "print('Minimum value:', float(positive_pledges.min()),\n",
    "      '\\nMaximum value:', float(positive_pledges.max()))\n",
    "print('_'*30)\n",
    "\n",
    "print('\\nNormalized data\\nPreview:\\n', normalized_pledges.head())\n",
    "print('Minimum value:', float(normalized_pledges.min()),\n",
    "      '\\nMaximum value:', float(normalized_pledges.max()))"
   ]
  },
  {
   "cell_type": "markdown",
   "id": "dc51fc33",
   "metadata": {
    "papermill": {
     "duration": 0.008506,
     "end_time": "2024-04-23T07:34:16.861491",
     "exception": false,
     "start_time": "2024-04-23T07:34:16.852985",
     "status": "completed"
    },
    "tags": []
   },
   "source": [
    "The values have changed significantly with normalization!\n",
    "\n",
    "In the next code cell, you'll take a look at the distribution of the normalized data, where it should now resemble a normal distribution."
   ]
  },
  {
   "cell_type": "code",
   "execution_count": 10,
   "id": "7a6c0438",
   "metadata": {
    "execution": {
     "iopub.execute_input": "2024-04-23T07:34:16.881074Z",
     "iopub.status.busy": "2024-04-23T07:34:16.880684Z",
     "iopub.status.idle": "2024-04-23T07:34:19.261840Z",
     "shell.execute_reply": "2024-04-23T07:34:19.260722Z"
    },
    "papermill": {
     "duration": 2.393861,
     "end_time": "2024-04-23T07:34:19.264574",
     "exception": false,
     "start_time": "2024-04-23T07:34:16.870713",
     "status": "completed"
    },
    "tags": []
   },
   "outputs": [
    {
     "name": "stderr",
     "output_type": "stream",
     "text": [
      "/opt/conda/lib/python3.10/site-packages/seaborn/_oldcore.py:1119: FutureWarning: use_inf_as_na option is deprecated and will be removed in a future version. Convert inf values to NaN before operating instead.\n",
      "  with pd.option_context('mode.use_inf_as_na', True):\n"
     ]
    },
    {
     "data": {
      "image/png": "[encoded data removed]",
      "text/plain": [
       "<Figure size 640x480 with 1 Axes>"
      ]
     },
     "metadata": {},
     "output_type": "display_data"
    }
   ],
   "source": [
    "# plot normalized data\n",
    "ax = sns.histplot(normalized_pledges, kde=True)\n",
    "ax.set_title(\"Normalized data\")\n",
    "plt.show()"
   ]
  },
  {
   "cell_type": "markdown",
   "id": "4f42b7aa",
   "metadata": {
    "papermill": {
     "duration": 0.009068,
     "end_time": "2024-04-23T07:34:19.283092",
     "exception": false,
     "start_time": "2024-04-23T07:34:19.274024",
     "status": "completed"
    },
    "tags": []
   },
   "source": [
    "We used the \"usd_pledged_real\" column. Follow the same process to normalize the \"pledged\" column. "
   ]
  },
  {
   "cell_type": "code",
   "execution_count": 11,
   "id": "1967fdc8",
   "metadata": {
    "execution": {
     "iopub.execute_input": "2024-04-23T07:34:19.303374Z",
     "iopub.status.busy": "2024-04-23T07:34:19.302950Z",
     "iopub.status.idle": "2024-04-23T07:34:19.312133Z",
     "shell.execute_reply": "2024-04-23T07:34:19.310979Z"
    },
    "papermill": {
     "duration": 0.022254,
     "end_time": "2024-04-23T07:34:19.314594",
     "exception": false,
     "start_time": "2024-04-23T07:34:19.292340",
     "status": "completed"
    },
    "tags": []
   },
   "outputs": [
    {
     "data": {
      "text/plain": [
       "0            0.0\n",
       "1         2421.0\n",
       "2          220.0\n",
       "3            1.0\n",
       "4         1283.0\n",
       "           ...  \n",
       "378656      25.0\n",
       "378657     155.0\n",
       "378658      20.0\n",
       "378659     200.0\n",
       "378660     524.0\n",
       "Name: usd_pledged_real, Length: 378661, dtype: float64"
      ]
     },
     "execution_count": 11,
     "metadata": {},
     "output_type": "execute_result"
    }
   ],
   "source": [
    "# TODO: Your code here!\n",
    "normalized_pledges\n",
    "kickstarters_2017.usd_pledged_real"
   ]
  },
  {
   "cell_type": "markdown",
   "id": "fb2e2cc6",
   "metadata": {
    "papermill": {
     "duration": 0.009582,
     "end_time": "2024-04-23T07:34:19.333735",
     "exception": false,
     "start_time": "2024-04-23T07:34:19.324153",
     "status": "completed"
    },
    "tags": []
   },
   "source": [
    "How does the normalized \"usd_pledged_real\" column look different from when we normalized the \"pledged\" column?  Or, do they look mostly the same?\n",
    "\n",
    "Once you have an answer, run the code cell below."
   ]
  },
  {
   "cell_type": "code",
   "execution_count": 12,
   "id": "d0151826",
   "metadata": {
    "execution": {
     "iopub.execute_input": "2024-04-23T07:34:19.354366Z",
     "iopub.status.busy": "2024-04-23T07:34:19.353939Z",
     "iopub.status.idle": "2024-04-23T07:34:19.362464Z",
     "shell.execute_reply": "2024-04-23T07:34:19.361416Z"
    },
    "papermill": {
     "duration": 0.021701,
     "end_time": "2024-04-23T07:34:19.364952",
     "exception": false,
     "start_time": "2024-04-23T07:34:19.343251",
     "status": "completed"
    },
    "tags": []
   },
   "outputs": [
    {
     "data": {
      "application/javascript": [
       "parent.postMessage({\"jupyterEvent\": \"custom.exercise_interaction\", \"data\": {\"outcomeType\": 1, \"valueTowardsCompletion\": 0.3333333333333333, \"interactionType\": 1, \"questionType\": 4, \"questionId\": \"2_TryNormalization\", \"learnToolsVersion\": \"0.3.4\", \"failureMessage\": \"\", \"exceptionClass\": \"\", \"trace\": \"\"}}, \"*\")"
      ],
      "text/plain": [
       "<IPython.core.display.Javascript object>"
      ]
     },
     "metadata": {},
     "output_type": "display_data"
    },
    {
     "data": {
      "text/markdown": [
       "<span style=\"color:#33cc33\">Correct:</span> \n",
       "\n",
       "The distributions in the normalized data look mostly the same."
      ],
      "text/plain": [
       "Correct: \n",
       "\n",
       "The distributions in the normalized data look mostly the same."
      ]
     },
     "metadata": {},
     "output_type": "display_data"
    }
   ],
   "source": [
    "# Check your answer (Run this code cell to receive credit!)\n",
    "q2.check()"
   ]
  },
  {
   "cell_type": "code",
   "execution_count": 13,
   "id": "1c66d0d4",
   "metadata": {
    "execution": {
     "iopub.execute_input": "2024-04-23T07:34:19.386384Z",
     "iopub.status.busy": "2024-04-23T07:34:19.385986Z",
     "iopub.status.idle": "2024-04-23T07:34:19.390265Z",
     "shell.execute_reply": "2024-04-23T07:34:19.389182Z"
    },
    "papermill": {
     "duration": 0.017771,
     "end_time": "2024-04-23T07:34:19.392528",
     "exception": false,
     "start_time": "2024-04-23T07:34:19.374757",
     "status": "completed"
    },
    "tags": []
   },
   "outputs": [],
   "source": [
    "# Line below will give you a hint\n",
    "#q2.hint()"
   ]
  },
  {
   "cell_type": "markdown",
   "id": "0705ae80",
   "metadata": {
    "papermill": {
     "duration": 0.009462,
     "end_time": "2024-04-23T07:34:19.412519",
     "exception": false,
     "start_time": "2024-04-23T07:34:19.403057",
     "status": "completed"
    },
    "tags": []
   },
   "source": [
    "# (Optional) More practice\n",
    "\n",
    "Try finding a new dataset and pretend you're preparing to perform a [regression analysis](https://www.kaggle.com/rtatman/the-5-day-regression-challenge). \n",
    "\n",
    "[These datasets are a good start!](https://www.kaggle.com/rtatman/datasets-for-regression-analysis)\n",
    "\n",
    "Pick three or four variables and decide if you need to normalize or scale any of them and, if you think you should, practice applying the correct technique.\n",
    "\n",
    "# Keep going\n",
    "\n",
    "In the next lesson, learn how to [**parse dates**](https://www.kaggle.com/alexisbcook/parsing-dates) in a dataset."
   ]
  },
  {
   "cell_type": "markdown",
   "id": "56e2b18d",
   "metadata": {
    "papermill": {
     "duration": 0.009566,
     "end_time": "2024-04-23T07:34:19.431976",
     "exception": false,
     "start_time": "2024-04-23T07:34:19.422410",
     "status": "completed"
    },
    "tags": []
   },
   "source": [
    "---\n",
    "\n",
    "\n",
    "\n",
    "\n",
    "*Have questions or comments? Visit the [course discussion forum](https://www.kaggle.com/learn/data-cleaning/discussion) to chat with other learners.*"
   ]
  }
 ],
 "metadata": {
  "kaggle": {
   "accelerator": "none",
   "dataSources": [
    {
     "datasetId": 4104,
     "sourceId": 16930,
     "sourceType": "datasetVersion"
    }
   ],
   "isGpuEnabled": false,
   "isInternetEnabled": false,
   "language": "python",
   "sourceType": "notebook"
  },
  "kernelspec": {
   "display_name": "Python 3",
   "language": "python",
   "name": "python3"
  },
  "language_info": {
   "codemirror_mode": {
    "name": "ipython",
    "version": 3
   },
   "file_extension": ".py",
   "mimetype": "text/x-python",
   "name": "python",
   "nbconvert_exporter": "python",
   "pygments_lexer": "ipython3",
   "version": "3.10.13"
  },
  "papermill": {
   "default_parameters": {},
   "duration": 14.193525,
   "end_time": "2024-04-23T07:34:20.162192",
   "environment_variables": {},
   "exception": null,
   "input_path": "__notebook__.ipynb",
   "output_path": "__notebook__.ipynb",
   "parameters": {},
   "start_time": "2024-04-23T07:34:05.968667",
   "version": "2.5.0"
  }
 },
 "nbformat": 4,
 "nbformat_minor": 5
}
