{
 "cells": [
  {
   "cell_type": "markdown",
   "id": "18f20d30",
   "metadata": {
    "papermill": {
     "duration": 0.007404,
     "end_time": "2024-04-29T14:04:13.903289",
     "exception": false,
     "start_time": "2024-04-29T14:04:13.895885",
     "status": "completed"
    },
    "tags": []
   },
   "source": [
    "**This notebook is an exercise in the [Data Cleaning](https://www.kaggle.com/learn/data-cleaning) course.  You can reference the tutorial at [this link](https://www.kaggle.com/alexisbcook/character-encodings).**\n",
    "\n",
    "---\n"
   ]
  },
  {
   "cell_type": "markdown",
   "id": "c73a076b",
   "metadata": {
    "papermill": {
     "duration": 0.006268,
     "end_time": "2024-04-29T14:04:13.916887",
     "exception": false,
     "start_time": "2024-04-29T14:04:13.910619",
     "status": "completed"
    },
    "tags": []
   },
   "source": [
    "In this exercise, you'll apply what you learned in the **Character encodings** tutorial.\n",
    "\n",
    "# Setup\n",
    "\n",
    "The questions below will give you feedback on your work. Run the following cell to set up the feedback system."
   ]
  },
  {
   "cell_type": "code",
   "execution_count": 1,
   "id": "7e35a681",
   "metadata": {
    "execution": {
     "iopub.execute_input": "2024-04-29T14:04:13.932859Z",
     "iopub.status.busy": "2024-04-29T14:04:13.932440Z",
     "iopub.status.idle": "2024-04-29T14:04:15.085327Z",
     "shell.execute_reply": "2024-04-29T14:04:15.083687Z"
    },
    "papermill": {
     "duration": 1.164673,
     "end_time": "2024-04-29T14:04:15.088697",
     "exception": false,
     "start_time": "2024-04-29T14:04:13.924024",
     "status": "completed"
    },
    "tags": []
   },
   "outputs": [
    {
     "name": "stdout",
     "output_type": "stream",
     "text": [
      "Setup Complete\n"
     ]
    }
   ],
   "source": [
    "from learntools.core import binder\n",
    "binder.bind(globals())\n",
    "from learntools.data_cleaning.ex4 import *\n",
    "print(\"Setup Complete\")"
   ]
  },
  {
   "cell_type": "markdown",
   "id": "728abf3f",
   "metadata": {
    "papermill": {
     "duration": 0.006432,
     "end_time": "2024-04-29T14:04:15.102271",
     "exception": false,
     "start_time": "2024-04-29T14:04:15.095839",
     "status": "completed"
    },
    "tags": []
   },
   "source": [
    "# Get our environment set up\n",
    "\n",
    "The first thing we'll need to do is load in the libraries we'll be using."
   ]
  },
  {
   "cell_type": "code",
   "execution_count": 2,
   "id": "c6766d53",
   "metadata": {
    "execution": {
     "iopub.execute_input": "2024-04-29T14:04:15.118601Z",
     "iopub.status.busy": "2024-04-29T14:04:15.118200Z",
     "iopub.status.idle": "2024-04-29T14:04:15.124032Z",
     "shell.execute_reply": "2024-04-29T14:04:15.122796Z"
    },
    "papermill": {
     "duration": 0.016431,
     "end_time": "2024-04-29T14:04:15.126460",
     "exception": false,
     "start_time": "2024-04-29T14:04:15.110029",
     "status": "completed"
    },
    "tags": []
   },
   "outputs": [],
   "source": [
    "# modules we'll use\n",
    "import pandas as pd\n",
    "import numpy as np\n",
    "\n",
    "# helpful character encoding module\n",
    "import charset_normalizer\n",
    "\n",
    "# set seed for reproducibility\n",
    "np.random.seed(0)"
   ]
  },
  {
   "cell_type": "markdown",
   "id": "94cc929d",
   "metadata": {
    "papermill": {
     "duration": 0.00659,
     "end_time": "2024-04-29T14:04:15.139972",
     "exception": false,
     "start_time": "2024-04-29T14:04:15.133382",
     "status": "completed"
    },
    "tags": []
   },
   "source": [
    "# 1) What are encodings?\n",
    "\n",
    "You're working with a dataset composed of bytes.  Run the code cell below to print a sample entry."
   ]
  },
  {
   "cell_type": "code",
   "execution_count": 3,
   "id": "92e0fc8c",
   "metadata": {
    "execution": {
     "iopub.execute_input": "2024-04-29T14:04:15.156671Z",
     "iopub.status.busy": "2024-04-29T14:04:15.155598Z",
     "iopub.status.idle": "2024-04-29T14:04:15.163051Z",
     "shell.execute_reply": "2024-04-29T14:04:15.161878Z"
    },
    "papermill": {
     "duration": 0.018342,
     "end_time": "2024-04-29T14:04:15.165521",
     "exception": false,
     "start_time": "2024-04-29T14:04:15.147179",
     "status": "completed"
    },
    "tags": []
   },
   "outputs": [
    {
     "name": "stdout",
     "output_type": "stream",
     "text": [
      "b'\\xa7A\\xa6n'\n",
      "data type: <class 'bytes'>\n"
     ]
    }
   ],
   "source": [
    "sample_entry = b'\\xa7A\\xa6n'\n",
    "print(sample_entry)\n",
    "print('data type:', type(sample_entry))"
   ]
  },
  {
   "cell_type": "markdown",
   "id": "6812c4ac",
   "metadata": {
    "papermill": {
     "duration": 0.007236,
     "end_time": "2024-04-29T14:04:15.180021",
     "exception": false,
     "start_time": "2024-04-29T14:04:15.172785",
     "status": "completed"
    },
    "tags": []
   },
   "source": [
    "You notice that it doesn't use the standard UTF-8 encoding. \n",
    "\n",
    "Use the next code cell to create a variable `new_entry` that changes the encoding from `\"big5-tw\"` to `\"utf-8\"`.  `new_entry` should have the bytes datatype."
   ]
  },
  {
   "cell_type": "code",
   "execution_count": 4,
   "id": "e7a67cd4",
   "metadata": {
    "execution": {
     "iopub.execute_input": "2024-04-29T14:04:15.196244Z",
     "iopub.status.busy": "2024-04-29T14:04:15.195854Z",
     "iopub.status.idle": "2024-04-29T14:04:15.206565Z",
     "shell.execute_reply": "2024-04-29T14:04:15.205399Z"
    },
    "papermill": {
     "duration": 0.021908,
     "end_time": "2024-04-29T14:04:15.208936",
     "exception": false,
     "start_time": "2024-04-29T14:04:15.187028",
     "status": "completed"
    },
    "tags": []
   },
   "outputs": [
    {
     "data": {
      "application/javascript": [
       "parent.postMessage({\"jupyterEvent\": \"custom.exercise_interaction\", \"data\": {\"outcomeType\": 1, \"valueTowardsCompletion\": 0.3333333333333333, \"interactionType\": 1, \"questionType\": 1, \"questionId\": \"1_EncodingsIntro\", \"learnToolsVersion\": \"0.3.4\", \"failureMessage\": \"\", \"exceptionClass\": \"\", \"trace\": \"\"}}, \"*\")"
      ],
      "text/plain": [
       "<IPython.core.display.Javascript object>"
      ]
     },
     "metadata": {},
     "output_type": "display_data"
    },
    {
     "data": {
      "text/markdown": [
       "<span style=\"color:#33cc33\">Correct</span>"
      ],
      "text/plain": [
       "Correct"
      ]
     },
     "metadata": {},
     "output_type": "display_data"
    }
   ],
   "source": [
    "new_entry = sample_entry.decode(\"big5-tw\").encode()\n",
    "\n",
    "# Check your answer\n",
    "q1.check()"
   ]
  },
  {
   "cell_type": "code",
   "execution_count": 5,
   "id": "40cc2485",
   "metadata": {
    "execution": {
     "iopub.execute_input": "2024-04-29T14:04:15.226600Z",
     "iopub.status.busy": "2024-04-29T14:04:15.225939Z",
     "iopub.status.idle": "2024-04-29T14:04:15.230993Z",
     "shell.execute_reply": "2024-04-29T14:04:15.229636Z"
    },
    "papermill": {
     "duration": 0.017313,
     "end_time": "2024-04-29T14:04:15.233968",
     "exception": false,
     "start_time": "2024-04-29T14:04:15.216655",
     "status": "completed"
    },
    "tags": []
   },
   "outputs": [],
   "source": [
    "# Lines below will give you a hint or solution code\n",
    "#q1.hint()\n",
    "#q1.solution()"
   ]
  },
  {
   "cell_type": "markdown",
   "id": "9a26d197",
   "metadata": {
    "papermill": {
     "duration": 0.007158,
     "end_time": "2024-04-29T14:04:15.248957",
     "exception": false,
     "start_time": "2024-04-29T14:04:15.241799",
     "status": "completed"
    },
    "tags": []
   },
   "source": [
    "# 2) Reading in files with encoding problems\n",
    "\n",
    "Use the code cell below to read in this file at path `\"../input/fatal-police-shootings-in-the-us/PoliceKillingsUS.csv\"`.  \n",
    "\n",
    "Figure out what the correct encoding should be and read in the file to a DataFrame `police_killings`."
   ]
  },
  {
   "cell_type": "code",
   "execution_count": 6,
   "id": "c7cd12e0",
   "metadata": {
    "execution": {
     "iopub.execute_input": "2024-04-29T14:04:15.267747Z",
     "iopub.status.busy": "2024-04-29T14:04:15.267248Z",
     "iopub.status.idle": "2024-04-29T14:04:15.310694Z",
     "shell.execute_reply": "2024-04-29T14:04:15.309159Z"
    },
    "papermill": {
     "duration": 0.055849,
     "end_time": "2024-04-29T14:04:15.313519",
     "exception": false,
     "start_time": "2024-04-29T14:04:15.257670",
     "status": "completed"
    },
    "tags": []
   },
   "outputs": [
    {
     "name": "stdout",
     "output_type": "stream",
     "text": [
      "{'encoding': 'ascii', 'language': 'English', 'confidence': 1.0}\n"
     ]
    }
   ],
   "source": [
    "with open(\"../input/fatal-police-shootings-in-the-us/PoliceKillingsUS.csv\", 'rb') as rawdata:\n",
    "    result = charset_normalizer.detect(rawdata.read(10000))\n",
    "print(result)"
   ]
  },
  {
   "cell_type": "code",
   "execution_count": 7,
   "id": "6f0a3270",
   "metadata": {
    "execution": {
     "iopub.execute_input": "2024-04-29T14:04:15.330909Z",
     "iopub.status.busy": "2024-04-29T14:04:15.329861Z",
     "iopub.status.idle": "2024-04-29T14:04:15.358332Z",
     "shell.execute_reply": "2024-04-29T14:04:15.357079Z"
    },
    "papermill": {
     "duration": 0.040093,
     "end_time": "2024-04-29T14:04:15.360949",
     "exception": false,
     "start_time": "2024-04-29T14:04:15.320856",
     "status": "completed"
    },
    "tags": []
   },
   "outputs": [
    {
     "data": {
      "application/javascript": [
       "parent.postMessage({\"jupyterEvent\": \"custom.exercise_interaction\", \"data\": {\"outcomeType\": 1, \"valueTowardsCompletion\": 0.3333333333333333, \"interactionType\": 1, \"questionType\": 1, \"questionId\": \"2_ReadIn\", \"learnToolsVersion\": \"0.3.4\", \"failureMessage\": \"\", \"exceptionClass\": \"\", \"trace\": \"\"}}, \"*\")"
      ],
      "text/plain": [
       "<IPython.core.display.Javascript object>"
      ]
     },
     "metadata": {},
     "output_type": "display_data"
    },
    {
     "data": {
      "text/markdown": [
       "<span style=\"color:#33cc33\">Correct</span>"
      ],
      "text/plain": [
       "Correct"
      ]
     },
     "metadata": {},
     "output_type": "display_data"
    }
   ],
   "source": [
    "# TODO: Load in the DataFrame correctly.\n",
    "police_killings = pd.read_csv(\"../input/fatal-police-shootings-in-the-us/PoliceKillingsUS.csv\", encoding='Windows-1252')\n",
    "\n",
    "# Check your answer\n",
    "q2.check()"
   ]
  },
  {
   "cell_type": "markdown",
   "id": "f26b2dc5",
   "metadata": {
    "papermill": {
     "duration": 0.010262,
     "end_time": "2024-04-29T14:04:15.379679",
     "exception": false,
     "start_time": "2024-04-29T14:04:15.369417",
     "status": "completed"
    },
    "tags": []
   },
   "source": [
    "Feel free to use any additional code cells for supplemental work.  To get credit for finishing this question, you'll need to run `q2.check()` and get a result of **Correct**."
   ]
  },
  {
   "cell_type": "code",
   "execution_count": 8,
   "id": "bb1ed9fa",
   "metadata": {
    "execution": {
     "iopub.execute_input": "2024-04-29T14:04:15.397068Z",
     "iopub.status.busy": "2024-04-29T14:04:15.396618Z",
     "iopub.status.idle": "2024-04-29T14:04:15.401521Z",
     "shell.execute_reply": "2024-04-29T14:04:15.400272Z"
    },
    "papermill": {
     "duration": 0.016726,
     "end_time": "2024-04-29T14:04:15.404225",
     "exception": false,
     "start_time": "2024-04-29T14:04:15.387499",
     "status": "completed"
    },
    "tags": []
   },
   "outputs": [],
   "source": [
    "# (Optional) Use this code cell for any additional work."
   ]
  },
  {
   "cell_type": "code",
   "execution_count": 9,
   "id": "449dbbba",
   "metadata": {
    "execution": {
     "iopub.execute_input": "2024-04-29T14:04:15.422722Z",
     "iopub.status.busy": "2024-04-29T14:04:15.422300Z",
     "iopub.status.idle": "2024-04-29T14:04:15.426792Z",
     "shell.execute_reply": "2024-04-29T14:04:15.425856Z"
    },
    "papermill": {
     "duration": 0.016637,
     "end_time": "2024-04-29T14:04:15.429079",
     "exception": false,
     "start_time": "2024-04-29T14:04:15.412442",
     "status": "completed"
    },
    "tags": []
   },
   "outputs": [],
   "source": [
    "# Lines below will give you a hint or solution code\n",
    "#q2.hint()\n",
    "#q2.solution()"
   ]
  },
  {
   "cell_type": "markdown",
   "id": "2574e560",
   "metadata": {
    "papermill": {
     "duration": 0.009015,
     "end_time": "2024-04-29T14:04:15.446170",
     "exception": false,
     "start_time": "2024-04-29T14:04:15.437155",
     "status": "completed"
    },
    "tags": []
   },
   "source": [
    "# 3) Saving your files with UTF-8 encoding\n",
    "\n",
    "Save a version of the police killings dataset to CSV with UTF-8 encoding.  Your answer will be marked correct after saving this file.  \n",
    "\n",
    "Note: When using the `to_csv()` method, supply only the name of the file (e.g., `\"my_file.csv\"`).  This saves the file at the filepath `\"/kaggle/working/my_file.csv\"`."
   ]
  },
  {
   "cell_type": "code",
   "execution_count": 10,
   "id": "055d2a06",
   "metadata": {
    "execution": {
     "iopub.execute_input": "2024-04-29T14:04:15.465089Z",
     "iopub.status.busy": "2024-04-29T14:04:15.464659Z",
     "iopub.status.idle": "2024-04-29T14:04:15.519396Z",
     "shell.execute_reply": "2024-04-29T14:04:15.518186Z"
    },
    "papermill": {
     "duration": 0.067275,
     "end_time": "2024-04-29T14:04:15.522122",
     "exception": false,
     "start_time": "2024-04-29T14:04:15.454847",
     "status": "completed"
    },
    "tags": []
   },
   "outputs": [
    {
     "data": {
      "application/javascript": [
       "parent.postMessage({\"jupyterEvent\": \"custom.exercise_interaction\", \"data\": {\"outcomeType\": 1, \"valueTowardsCompletion\": 0.3333333333333333, \"interactionType\": 1, \"questionType\": 2, \"questionId\": \"3_SaveCSV\", \"learnToolsVersion\": \"0.3.4\", \"failureMessage\": \"\", \"exceptionClass\": \"\", \"trace\": \"\"}}, \"*\")"
      ],
      "text/plain": [
       "<IPython.core.display.Javascript object>"
      ]
     },
     "metadata": {},
     "output_type": "display_data"
    },
    {
     "data": {
      "text/markdown": [
       "<span style=\"color:#33cc33\">Correct</span>"
      ],
      "text/plain": [
       "Correct"
      ]
     },
     "metadata": {},
     "output_type": "display_data"
    }
   ],
   "source": [
    "# TODO: Save the police killings dataset to CSV\n",
    "police_killings.to_csv(\"/kaggle/working/my_file.csv\", encoding=\"utf-8\")\n",
    "\n",
    "# Check your answer\n",
    "q3.check()"
   ]
  },
  {
   "cell_type": "code",
   "execution_count": 11,
   "id": "902767cd",
   "metadata": {
    "execution": {
     "iopub.execute_input": "2024-04-29T14:04:15.541216Z",
     "iopub.status.busy": "2024-04-29T14:04:15.540740Z",
     "iopub.status.idle": "2024-04-29T14:04:15.546194Z",
     "shell.execute_reply": "2024-04-29T14:04:15.544957Z"
    },
    "papermill": {
     "duration": 0.017983,
     "end_time": "2024-04-29T14:04:15.548871",
     "exception": false,
     "start_time": "2024-04-29T14:04:15.530888",
     "status": "completed"
    },
    "tags": []
   },
   "outputs": [],
   "source": [
    "# Lines below will give you a hint or solution code\n",
    "#q3.hint()\n",
    "#q3.solution()"
   ]
  },
  {
   "cell_type": "markdown",
   "id": "efffc285",
   "metadata": {
    "papermill": {
     "duration": 0.00766,
     "end_time": "2024-04-29T14:04:15.564580",
     "exception": false,
     "start_time": "2024-04-29T14:04:15.556920",
     "status": "completed"
    },
    "tags": []
   },
   "source": [
    "# (Optional) More practice\n",
    "\n",
    "Check out [this dataset of files in different character encodings](https://www.kaggle.com/rtatman/character-encoding-examples). Can you read in all the files with their original encodings and them save them out as UTF-8 files?\n",
    "\n",
    "If you have a file that's in UTF-8 but has just a couple of weird-looking characters in it, you can try out the [ftfy module](https://ftfy.readthedocs.io/en/latest/#) and see if it helps. \n",
    "\n",
    "# Keep going\n",
    "\n",
    "In the final lesson, learn how to [**clean up inconsistent text entries**](https://www.kaggle.com/alexisbcook/inconsistent-data-entry) in your dataset."
   ]
  },
  {
   "cell_type": "markdown",
   "id": "a17da246",
   "metadata": {
    "papermill": {
     "duration": 0.007653,
     "end_time": "2024-04-29T14:04:15.580236",
     "exception": false,
     "start_time": "2024-04-29T14:04:15.572583",
     "status": "completed"
    },
    "tags": []
   },
   "source": [
    "---\n",
    "\n",
    "\n",
    "\n",
    "\n",
    "*Have questions or comments? Visit the [course discussion forum](https://www.kaggle.com/learn/data-cleaning/discussion) to chat with other learners.*"
   ]
  }
 ],
 "metadata": {
  "kaggle": {
   "accelerator": "none",
   "dataSources": [
    {
     "datasetId": 2647,
     "sourceId": 4395,
     "sourceType": "datasetVersion"
    }
   ],
   "isGpuEnabled": false,
   "isInternetEnabled": false,
   "language": "python",
   "sourceType": "notebook"
  },
  "kernelspec": {
   "display_name": "Python 3",
   "language": "python",
   "name": "python3"
  },
  "language_info": {
   "codemirror_mode": {
    "name": "ipython",
    "version": 3
   },
   "file_extension": ".py",
   "mimetype": "text/x-python",
   "name": "python",
   "nbconvert_exporter": "python",
   "pygments_lexer": "ipython3",
   "version": "3.10.13"
  },
  "papermill": {
   "default_parameters": {},
   "duration": 5.527597,
   "end_time": "2024-04-29T14:04:16.108696",
   "environment_variables": {},
   "exception": null,
   "input_path": "__notebook__.ipynb",
   "output_path": "__notebook__.ipynb",
   "parameters": {},
   "start_time": "2024-04-29T14:04:10.581099",
   "version": "2.5.0"
  }
 },
 "nbformat": 4,
 "nbformat_minor": 5
}
