{
 "cells": [
  {
   "cell_type": "markdown",
   "id": "c79195a2",
   "metadata": {
    "papermill": {
     "duration": 0.009929,
     "end_time": "2024-04-22T14:21:37.867452",
     "exception": false,
     "start_time": "2024-04-22T14:21:37.857523",
     "status": "completed"
    },
    "tags": []
   },
   "source": [
    "**This notebook is an exercise in the [Data Cleaning](https://www.kaggle.com/learn/data-cleaning) course.  You can reference the tutorial at [this link](https://www.kaggle.com/alexisbcook/handling-missing-values).**\n",
    "\n",
    "---\n"
   ]
  },
  {
   "cell_type": "markdown",
   "id": "705f7928",
   "metadata": {
    "papermill": {
     "duration": 0.009104,
     "end_time": "2024-04-22T14:21:37.886125",
     "exception": false,
     "start_time": "2024-04-22T14:21:37.877021",
     "status": "completed"
    },
    "tags": []
   },
   "source": [
    "In this exercise, you'll apply what you learned in the **Handling missing values** tutorial.\n",
    "\n",
    "# Setup\n",
    "\n",
    "The questions below will give you feedback on your work. Run the following cell to set up the feedback system."
   ]
  },
  {
   "cell_type": "code",
   "execution_count": 1,
   "id": "eea19637",
   "metadata": {
    "execution": {
     "iopub.execute_input": "2024-04-22T14:21:37.907384Z",
     "iopub.status.busy": "2024-04-22T14:21:37.906804Z",
     "iopub.status.idle": "2024-04-22T14:21:47.293223Z",
     "shell.execute_reply": "2024-04-22T14:21:47.291425Z"
    },
    "papermill": {
     "duration": 9.400654,
     "end_time": "2024-04-22T14:21:47.296162",
     "exception": false,
     "start_time": "2024-04-22T14:21:37.895508",
     "status": "completed"
    },
    "tags": []
   },
   "outputs": [
    {
     "name": "stderr",
     "output_type": "stream",
     "text": [
      "/opt/conda/lib/python3.10/site-packages/learntools/data_cleaning/ex1.py:6: DtypeWarning: Columns (22,32) have mixed types. Specify dtype option on import or set low_memory=False.\n",
      "  sf_permits = pd.read_csv(\"../input/building-permit-applications-data/Building_Permits.csv\")\n",
      "/tmp/ipykernel_19/3419995878.py:3: DeprecationWarning: `product` is deprecated as of NumPy 1.25.0, and will be removed in NumPy 2.0. Please use `prod` instead.\n",
      "  from learntools.data_cleaning.ex1 import *\n",
      "/opt/conda/lib/python3.10/site-packages/learntools/data_cleaning/ex1.py:69: FutureWarning: DataFrame.fillna with 'method' is deprecated and will raise in a future version. Use obj.ffill() or obj.bfill() instead.\n",
      "  _expected = sf_permits.fillna(method='bfill', axis=0).fillna(0)\n"
     ]
    },
    {
     "name": "stdout",
     "output_type": "stream",
     "text": [
      "Setup Complete\n"
     ]
    }
   ],
   "source": [
    "from learntools.core import binder\n",
    "binder.bind(globals())\n",
    "from learntools.data_cleaning.ex1 import *\n",
    "print(\"Setup Complete\")"
   ]
  },
  {
   "cell_type": "markdown",
   "id": "db4db90a",
   "metadata": {
    "papermill": {
     "duration": 0.00953,
     "end_time": "2024-04-22T14:21:47.315854",
     "exception": false,
     "start_time": "2024-04-22T14:21:47.306324",
     "status": "completed"
    },
    "tags": []
   },
   "source": [
    "# 1) Take a first look at the data\n",
    "\n",
    "Run the next code cell to load in the libraries and dataset you'll use to complete the exercise."
   ]
  },
  {
   "cell_type": "code",
   "execution_count": 2,
   "id": "78db7e95",
   "metadata": {
    "execution": {
     "iopub.execute_input": "2024-04-22T14:21:47.338886Z",
     "iopub.status.busy": "2024-04-22T14:21:47.337986Z",
     "iopub.status.idle": "2024-04-22T14:21:49.638922Z",
     "shell.execute_reply": "2024-04-22T14:21:49.637689Z"
    },
    "papermill": {
     "duration": 2.317533,
     "end_time": "2024-04-22T14:21:49.643289",
     "exception": false,
     "start_time": "2024-04-22T14:21:47.325756",
     "status": "completed"
    },
    "tags": []
   },
   "outputs": [
    {
     "name": "stderr",
     "output_type": "stream",
     "text": [
      "/tmp/ipykernel_19/3534875831.py:6: DtypeWarning: Columns (22,32) have mixed types. Specify dtype option on import or set low_memory=False.\n",
      "  sf_permits = pd.read_csv(\"../input/building-permit-applications-data/Building_Permits.csv\")\n"
     ]
    }
   ],
   "source": [
    "# modules we'll use\n",
    "import pandas as pd\n",
    "import numpy as np\n",
    "\n",
    "# read in all our data\n",
    "sf_permits = pd.read_csv(\"../input/building-permit-applications-data/Building_Permits.csv\")\n",
    "\n",
    "# set seed for reproducibility\n",
    "np.random.seed(0) "
   ]
  },
  {
   "cell_type": "markdown",
   "id": "50a2c408",
   "metadata": {
    "papermill": {
     "duration": 0.011221,
     "end_time": "2024-04-22T14:21:49.665395",
     "exception": false,
     "start_time": "2024-04-22T14:21:49.654174",
     "status": "completed"
    },
    "tags": []
   },
   "source": [
    "Use the code cell below to print the first five rows of the `sf_permits` DataFrame."
   ]
  },
  {
   "cell_type": "code",
   "execution_count": 3,
   "id": "65bbc713",
   "metadata": {
    "execution": {
     "iopub.execute_input": "2024-04-22T14:21:49.694366Z",
     "iopub.status.busy": "2024-04-22T14:21:49.693914Z",
     "iopub.status.idle": "2024-04-22T14:21:49.732918Z",
     "shell.execute_reply": "2024-04-22T14:21:49.731528Z"
    },
    "papermill": {
     "duration": 0.055519,
     "end_time": "2024-04-22T14:21:49.735441",
     "exception": false,
     "start_time": "2024-04-22T14:21:49.679922",
     "status": "completed"
    },
    "tags": []
   },
   "outputs": [
    {
     "data": {
      "text/html": [
       "<div>\n",
       "<style scoped>\n",
       "    .dataframe tbody tr th:only-of-type {\n",
       "        vertical-align: middle;\n",
       "    }\n",
       "\n",
       "    .dataframe tbody tr th {\n",
       "        vertical-align: top;\n",
       "    }\n",
       "\n",
       "    .dataframe thead th {\n",
       "        text-align: right;\n",
       "    }\n",
       "</style>\n",
       "<table border=\"1\" class=\"dataframe\">\n",
       "  <thead>\n",
       "    <tr style=\"text-align: right;\">\n",
       "      <th></th>\n",
       "      <th>Permit Number</th>\n",
       "      <th>Permit Type</th>\n",
       "      <th>Permit Type Definition</th>\n",
       "      <th>Permit Creation Date</th>\n",
       "      <th>Block</th>\n",
       "      <th>Lot</th>\n",
       "      <th>Street Number</th>\n",
       "      <th>Street Number Suffix</th>\n",
       "      <th>Street Name</th>\n",
       "      <th>Street Suffix</th>\n",
       "      <th>...</th>\n",
       "      <th>Existing Construction Type</th>\n",
       "      <th>Existing Construction Type Description</th>\n",
       "      <th>Proposed Construction Type</th>\n",
       "      <th>Proposed Construction Type Description</th>\n",
       "      <th>Site Permit</th>\n",
       "      <th>Supervisor District</th>\n",
       "      <th>Neighborhoods - Analysis Boundaries</th>\n",
       "      <th>Zipcode</th>\n",
       "      <th>Location</th>\n",
       "      <th>Record ID</th>\n",
       "    </tr>\n",
       "  </thead>\n",
       "  <tbody>\n",
       "    <tr>\n",
       "      <th>0</th>\n",
       "      <td>201505065519</td>\n",
       "      <td>4</td>\n",
       "      <td>sign - erect</td>\n",
       "      <td>05/06/2015</td>\n",
       "      <td>0326</td>\n",
       "      <td>023</td>\n",
       "      <td>140</td>\n",
       "      <td>NaN</td>\n",
       "      <td>Ellis</td>\n",
       "      <td>St</td>\n",
       "      <td>...</td>\n",
       "      <td>3.0</td>\n",
       "      <td>constr type 3</td>\n",
       "      <td>NaN</td>\n",
       "      <td>NaN</td>\n",
       "      <td>NaN</td>\n",
       "      <td>3.0</td>\n",
       "      <td>Tenderloin</td>\n",
       "      <td>94102.0</td>\n",
       "      <td>(37.785719256680785, -122.40852313194863)</td>\n",
       "      <td>1380611233945</td>\n",
       "    </tr>\n",
       "    <tr>\n",
       "      <th>1</th>\n",
       "      <td>201604195146</td>\n",
       "      <td>4</td>\n",
       "      <td>sign - erect</td>\n",
       "      <td>04/19/2016</td>\n",
       "      <td>0306</td>\n",
       "      <td>007</td>\n",
       "      <td>440</td>\n",
       "      <td>NaN</td>\n",
       "      <td>Geary</td>\n",
       "      <td>St</td>\n",
       "      <td>...</td>\n",
       "      <td>3.0</td>\n",
       "      <td>constr type 3</td>\n",
       "      <td>NaN</td>\n",
       "      <td>NaN</td>\n",
       "      <td>NaN</td>\n",
       "      <td>3.0</td>\n",
       "      <td>Tenderloin</td>\n",
       "      <td>94102.0</td>\n",
       "      <td>(37.78733980600732, -122.41063199757738)</td>\n",
       "      <td>1420164406718</td>\n",
       "    </tr>\n",
       "    <tr>\n",
       "      <th>2</th>\n",
       "      <td>201605278609</td>\n",
       "      <td>3</td>\n",
       "      <td>additions alterations or repairs</td>\n",
       "      <td>05/27/2016</td>\n",
       "      <td>0595</td>\n",
       "      <td>203</td>\n",
       "      <td>1647</td>\n",
       "      <td>NaN</td>\n",
       "      <td>Pacific</td>\n",
       "      <td>Av</td>\n",
       "      <td>...</td>\n",
       "      <td>1.0</td>\n",
       "      <td>constr type 1</td>\n",
       "      <td>1.0</td>\n",
       "      <td>constr type 1</td>\n",
       "      <td>NaN</td>\n",
       "      <td>3.0</td>\n",
       "      <td>Russian Hill</td>\n",
       "      <td>94109.0</td>\n",
       "      <td>(37.7946573324287, -122.42232562979227)</td>\n",
       "      <td>1424856504716</td>\n",
       "    </tr>\n",
       "    <tr>\n",
       "      <th>3</th>\n",
       "      <td>201611072166</td>\n",
       "      <td>8</td>\n",
       "      <td>otc alterations permit</td>\n",
       "      <td>11/07/2016</td>\n",
       "      <td>0156</td>\n",
       "      <td>011</td>\n",
       "      <td>1230</td>\n",
       "      <td>NaN</td>\n",
       "      <td>Pacific</td>\n",
       "      <td>Av</td>\n",
       "      <td>...</td>\n",
       "      <td>5.0</td>\n",
       "      <td>wood frame (5)</td>\n",
       "      <td>5.0</td>\n",
       "      <td>wood frame (5)</td>\n",
       "      <td>NaN</td>\n",
       "      <td>3.0</td>\n",
       "      <td>Nob Hill</td>\n",
       "      <td>94109.0</td>\n",
       "      <td>(37.79595867909168, -122.41557405519474)</td>\n",
       "      <td>1443574295566</td>\n",
       "    </tr>\n",
       "    <tr>\n",
       "      <th>4</th>\n",
       "      <td>201611283529</td>\n",
       "      <td>6</td>\n",
       "      <td>demolitions</td>\n",
       "      <td>11/28/2016</td>\n",
       "      <td>0342</td>\n",
       "      <td>001</td>\n",
       "      <td>950</td>\n",
       "      <td>NaN</td>\n",
       "      <td>Market</td>\n",
       "      <td>St</td>\n",
       "      <td>...</td>\n",
       "      <td>3.0</td>\n",
       "      <td>constr type 3</td>\n",
       "      <td>NaN</td>\n",
       "      <td>NaN</td>\n",
       "      <td>NaN</td>\n",
       "      <td>6.0</td>\n",
       "      <td>Tenderloin</td>\n",
       "      <td>94102.0</td>\n",
       "      <td>(37.78315261897309, -122.40950883997789)</td>\n",
       "      <td>144548169992</td>\n",
       "    </tr>\n",
       "  </tbody>\n",
       "</table>\n",
       "<p>5 rows × 43 columns</p>\n",
       "</div>"
      ],
      "text/plain": [
       "  Permit Number  Permit Type            Permit Type Definition  \\\n",
       "0  201505065519            4                      sign - erect   \n",
       "1  201604195146            4                      sign - erect   \n",
       "2  201605278609            3  additions alterations or repairs   \n",
       "3  201611072166            8            otc alterations permit   \n",
       "4  201611283529            6                       demolitions   \n",
       "\n",
       "  Permit Creation Date Block  Lot  Street Number Street Number Suffix  \\\n",
       "0           05/06/2015  0326  023            140                  NaN   \n",
       "1           04/19/2016  0306  007            440                  NaN   \n",
       "2           05/27/2016  0595  203           1647                  NaN   \n",
       "3           11/07/2016  0156  011           1230                  NaN   \n",
       "4           11/28/2016  0342  001            950                  NaN   \n",
       "\n",
       "  Street Name Street Suffix  ...  Existing Construction Type  \\\n",
       "0       Ellis            St  ...                         3.0   \n",
       "1       Geary            St  ...                         3.0   \n",
       "2     Pacific            Av  ...                         1.0   \n",
       "3     Pacific            Av  ...                         5.0   \n",
       "4      Market            St  ...                         3.0   \n",
       "\n",
       "  Existing Construction Type Description Proposed Construction Type  \\\n",
       "0                          constr type 3                        NaN   \n",
       "1                          constr type 3                        NaN   \n",
       "2                          constr type 1                        1.0   \n",
       "3                         wood frame (5)                        5.0   \n",
       "4                          constr type 3                        NaN   \n",
       "\n",
       "  Proposed Construction Type Description Site Permit Supervisor District  \\\n",
       "0                                    NaN         NaN                 3.0   \n",
       "1                                    NaN         NaN                 3.0   \n",
       "2                          constr type 1         NaN                 3.0   \n",
       "3                         wood frame (5)         NaN                 3.0   \n",
       "4                                    NaN         NaN                 6.0   \n",
       "\n",
       "  Neighborhoods - Analysis Boundaries  Zipcode  \\\n",
       "0                          Tenderloin  94102.0   \n",
       "1                          Tenderloin  94102.0   \n",
       "2                        Russian Hill  94109.0   \n",
       "3                            Nob Hill  94109.0   \n",
       "4                          Tenderloin  94102.0   \n",
       "\n",
       "                                    Location      Record ID  \n",
       "0  (37.785719256680785, -122.40852313194863)  1380611233945  \n",
       "1   (37.78733980600732, -122.41063199757738)  1420164406718  \n",
       "2    (37.7946573324287, -122.42232562979227)  1424856504716  \n",
       "3   (37.79595867909168, -122.41557405519474)  1443574295566  \n",
       "4   (37.78315261897309, -122.40950883997789)   144548169992  \n",
       "\n",
       "[5 rows x 43 columns]"
      ]
     },
     "execution_count": 3,
     "metadata": {},
     "output_type": "execute_result"
    }
   ],
   "source": [
    "# TODO: Your code here!\n",
    "sf_permits.head(5)"
   ]
  },
  {
   "cell_type": "markdown",
   "id": "027aa955",
   "metadata": {
    "papermill": {
     "duration": 0.011569,
     "end_time": "2024-04-22T14:21:49.759879",
     "exception": false,
     "start_time": "2024-04-22T14:21:49.748310",
     "status": "completed"
    },
    "tags": []
   },
   "source": [
    "Does the dataset have any missing values?  Once you have an answer, run the code cell below to get credit for your work."
   ]
  },
  {
   "cell_type": "code",
   "execution_count": 4,
   "id": "2d282198",
   "metadata": {
    "execution": {
     "iopub.execute_input": "2024-04-22T14:21:49.786575Z",
     "iopub.status.busy": "2024-04-22T14:21:49.786143Z",
     "iopub.status.idle": "2024-04-22T14:21:49.797380Z",
     "shell.execute_reply": "2024-04-22T14:21:49.795878Z"
    },
    "papermill": {
     "duration": 0.028568,
     "end_time": "2024-04-22T14:21:49.801130",
     "exception": false,
     "start_time": "2024-04-22T14:21:49.772562",
     "status": "completed"
    },
    "tags": []
   },
   "outputs": [
    {
     "data": {
      "application/javascript": [
       "parent.postMessage({\"jupyterEvent\": \"custom.exercise_interaction\", \"data\": {\"outcomeType\": 1, \"valueTowardsCompletion\": 0.16666666666666666, \"interactionType\": 1, \"questionType\": 4, \"questionId\": \"1_TakeFirstLook\", \"learnToolsVersion\": \"0.3.4\", \"failureMessage\": \"\", \"exceptionClass\": \"\", \"trace\": \"\"}}, \"*\")"
      ],
      "text/plain": [
       "<IPython.core.display.Javascript object>"
      ]
     },
     "metadata": {},
     "output_type": "display_data"
    },
    {
     "data": {
      "text/markdown": [
       "<span style=\"color:#33cc33\">Correct:</span> \n",
       "\n",
       "The first five rows of the data does show that several columns have missing values.  You can see this in the \"Street Number Suffix\", \"Proposed Construction Type\" and \"Site Permit\" columns, among others."
      ],
      "text/plain": [
       "Correct: \n",
       "\n",
       "The first five rows of the data does show that several columns have missing values.  You can see this in the \"Street Number Suffix\", \"Proposed Construction Type\" and \"Site Permit\" columns, among others."
      ]
     },
     "metadata": {},
     "output_type": "display_data"
    }
   ],
   "source": [
    "# Check your answer (Run this code cell to receive credit!)\n",
    "q1.check()"
   ]
  },
  {
   "cell_type": "code",
   "execution_count": 5,
   "id": "ba76b845",
   "metadata": {
    "execution": {
     "iopub.execute_input": "2024-04-22T14:21:49.829015Z",
     "iopub.status.busy": "2024-04-22T14:21:49.828540Z",
     "iopub.status.idle": "2024-04-22T14:21:49.834374Z",
     "shell.execute_reply": "2024-04-22T14:21:49.832857Z"
    },
    "papermill": {
     "duration": 0.022533,
     "end_time": "2024-04-22T14:21:49.837199",
     "exception": false,
     "start_time": "2024-04-22T14:21:49.814666",
     "status": "completed"
    },
    "tags": []
   },
   "outputs": [],
   "source": [
    "# Line below will give you a hint\n",
    "#q1.hint()"
   ]
  },
  {
   "cell_type": "markdown",
   "id": "f7f8f9e4",
   "metadata": {
    "papermill": {
     "duration": 0.011448,
     "end_time": "2024-04-22T14:21:49.861694",
     "exception": false,
     "start_time": "2024-04-22T14:21:49.850246",
     "status": "completed"
    },
    "tags": []
   },
   "source": [
    "# 2) How many missing data points do we have?\n",
    "\n",
    "What percentage of the values in the dataset are missing?  Your answer should be a number between 0 and 100.  (If 1/4 of the values in the dataset are missing, the answer is 25.)"
   ]
  },
  {
   "cell_type": "code",
   "execution_count": 6,
   "id": "220c07c3",
   "metadata": {
    "execution": {
     "iopub.execute_input": "2024-04-22T14:21:49.889713Z",
     "iopub.status.busy": "2024-04-22T14:21:49.889183Z",
     "iopub.status.idle": "2024-04-22T14:21:50.395239Z",
     "shell.execute_reply": "2024-04-22T14:21:50.393840Z"
    },
    "papermill": {
     "duration": 0.522685,
     "end_time": "2024-04-22T14:21:50.397809",
     "exception": false,
     "start_time": "2024-04-22T14:21:49.875124",
     "status": "completed"
    },
    "tags": []
   },
   "outputs": [
    {
     "data": {
      "text/plain": [
       "Permit Number                                  0\n",
       "Permit Type                                    0\n",
       "Permit Type Definition                         0\n",
       "Permit Creation Date                           0\n",
       "Block                                          0\n",
       "Lot                                            0\n",
       "Street Number                                  0\n",
       "Street Number Suffix                      196684\n",
       "Street Name                                    0\n",
       "Street Suffix                               2768\n",
       "Unit                                      169421\n",
       "Unit Suffix                               196939\n",
       "Description                                  290\n",
       "Current Status                                 0\n",
       "Current Status Date                            0\n",
       "Filed Date                                     0\n",
       "Issued Date                                14940\n",
       "Completed Date                            101709\n",
       "First Construction Document Date           14946\n",
       "Structural Notification                   191978\n",
       "Number of Existing Stories                 42784\n",
       "Number of Proposed Stories                 42868\n",
       "Voluntary Soft-Story Retrofit             198865\n",
       "Fire Only Permit                          180073\n",
       "Permit Expiration Date                     51880\n",
       "Estimated Cost                             38066\n",
       "Revised Cost                                6066\n",
       "Existing Use                               41114\n",
       "Existing Units                             51538\n",
       "Proposed Use                               42439\n",
       "Proposed Units                             50911\n",
       "Plansets                                   37309\n",
       "TIDF Compliance                           198898\n",
       "Existing Construction Type                 43366\n",
       "Existing Construction Type Description     43366\n",
       "Proposed Construction Type                 43162\n",
       "Proposed Construction Type Description     43162\n",
       "Site Permit                               193541\n",
       "Supervisor District                         1717\n",
       "Neighborhoods - Analysis Boundaries         1725\n",
       "Zipcode                                     1716\n",
       "Location                                    1700\n",
       "Record ID                                      0\n",
       "dtype: int64"
      ]
     },
     "execution_count": 6,
     "metadata": {},
     "output_type": "execute_result"
    }
   ],
   "source": [
    "sf_permits.isnull().sum()"
   ]
  },
  {
   "cell_type": "code",
   "execution_count": 7,
   "id": "22daef55",
   "metadata": {
    "execution": {
     "iopub.execute_input": "2024-04-22T14:21:50.423686Z",
     "iopub.status.busy": "2024-04-22T14:21:50.423179Z",
     "iopub.status.idle": "2024-04-22T14:21:50.932813Z",
     "shell.execute_reply": "2024-04-22T14:21:50.931559Z"
    },
    "papermill": {
     "duration": 0.525857,
     "end_time": "2024-04-22T14:21:50.935260",
     "exception": false,
     "start_time": "2024-04-22T14:21:50.409403",
     "status": "completed"
    },
    "tags": []
   },
   "outputs": [
    {
     "data": {
      "application/javascript": [
       "parent.postMessage({\"jupyterEvent\": \"custom.exercise_interaction\", \"data\": {\"outcomeType\": 1, \"valueTowardsCompletion\": 0.16666666666666666, \"interactionType\": 1, \"questionType\": 1, \"questionId\": \"2_PercentMissingValues\", \"learnToolsVersion\": \"0.3.4\", \"failureMessage\": \"\", \"exceptionClass\": \"\", \"trace\": \"\"}}, \"*\")"
      ],
      "text/plain": [
       "<IPython.core.display.Javascript object>"
      ]
     },
     "metadata": {},
     "output_type": "display_data"
    },
    {
     "data": {
      "text/markdown": [
       "<span style=\"color:#33cc33\">Correct</span>"
      ],
      "text/plain": [
       "Correct"
      ]
     },
     "metadata": {},
     "output_type": "display_data"
    }
   ],
   "source": [
    "# TODO: Your code here!\n",
    "percent_missing = sf_permits.isnull().sum().sum() / (sf_permits.shape[0]*sf_permits.shape[1])*100\n",
    "\n",
    "# Check your answer\n",
    "q2.check()"
   ]
  },
  {
   "cell_type": "code",
   "execution_count": 8,
   "id": "0ef525db",
   "metadata": {
    "execution": {
     "iopub.execute_input": "2024-04-22T14:21:50.960216Z",
     "iopub.status.busy": "2024-04-22T14:21:50.959692Z",
     "iopub.status.idle": "2024-04-22T14:21:50.965155Z",
     "shell.execute_reply": "2024-04-22T14:21:50.963739Z"
    },
    "papermill": {
     "duration": 0.020947,
     "end_time": "2024-04-22T14:21:50.967677",
     "exception": false,
     "start_time": "2024-04-22T14:21:50.946730",
     "status": "completed"
    },
    "tags": []
   },
   "outputs": [],
   "source": [
    "# Lines below will give you a hint or solution code\n",
    "#q2.hint()\n",
    "#q2.solution()"
   ]
  },
  {
   "cell_type": "markdown",
   "id": "6905b06d",
   "metadata": {
    "papermill": {
     "duration": 0.011217,
     "end_time": "2024-04-22T14:21:50.990433",
     "exception": false,
     "start_time": "2024-04-22T14:21:50.979216",
     "status": "completed"
    },
    "tags": []
   },
   "source": [
    "# 3) Figure out why the data is missing\n",
    "\n",
    "Look at the columns **\"Street Number Suffix\"** and **\"Zipcode\"** from the [San Francisco Building Permits dataset](https://www.kaggle.com/aparnashastry/building-permit-applications-data). Both of these contain missing values. \n",
    "- Which, if either, are missing because they don't exist? \n",
    "- Which, if either, are missing because they weren't recorded?  \n",
    "\n",
    "Once you have an answer, run the code cell below."
   ]
  },
  {
   "cell_type": "code",
   "execution_count": 9,
   "id": "424aca65",
   "metadata": {
    "execution": {
     "iopub.execute_input": "2024-04-22T14:21:51.015151Z",
     "iopub.status.busy": "2024-04-22T14:21:51.014739Z",
     "iopub.status.idle": "2024-04-22T14:21:51.025293Z",
     "shell.execute_reply": "2024-04-22T14:21:51.023779Z"
    },
    "papermill": {
     "duration": 0.025901,
     "end_time": "2024-04-22T14:21:51.027705",
     "exception": false,
     "start_time": "2024-04-22T14:21:51.001804",
     "status": "completed"
    },
    "tags": []
   },
   "outputs": [
    {
     "data": {
      "application/javascript": [
       "parent.postMessage({\"jupyterEvent\": \"custom.exercise_interaction\", \"data\": {\"outcomeType\": 1, \"valueTowardsCompletion\": 0.16666666666666666, \"interactionType\": 1, \"questionType\": 4, \"questionId\": \"3_WhyDataMissing\", \"learnToolsVersion\": \"0.3.4\", \"failureMessage\": \"\", \"exceptionClass\": \"\", \"trace\": \"\"}}, \"*\")"
      ],
      "text/plain": [
       "<IPython.core.display.Javascript object>"
      ]
     },
     "metadata": {},
     "output_type": "display_data"
    },
    {
     "data": {
      "text/markdown": [
       "<span style=\"color:#33cc33\">Correct:</span> \n",
       "\n",
       "If a value in the \"Street Number Suffix\" column is missing, it is likely because it does not exist. If a value in the \"Zipcode\" column is missing, it was not recorded."
      ],
      "text/plain": [
       "Correct: \n",
       "\n",
       "If a value in the \"Street Number Suffix\" column is missing, it is likely because it does not exist. If a value in the \"Zipcode\" column is missing, it was not recorded."
      ]
     },
     "metadata": {},
     "output_type": "display_data"
    }
   ],
   "source": [
    "# Check your answer (Run this code cell to receive credit!)\n",
    "q3.check()"
   ]
  },
  {
   "cell_type": "code",
   "execution_count": 10,
   "id": "f20b0989",
   "metadata": {
    "execution": {
     "iopub.execute_input": "2024-04-22T14:21:51.053338Z",
     "iopub.status.busy": "2024-04-22T14:21:51.052852Z",
     "iopub.status.idle": "2024-04-22T14:21:51.058289Z",
     "shell.execute_reply": "2024-04-22T14:21:51.057096Z"
    },
    "papermill": {
     "duration": 0.021428,
     "end_time": "2024-04-22T14:21:51.060807",
     "exception": false,
     "start_time": "2024-04-22T14:21:51.039379",
     "status": "completed"
    },
    "tags": []
   },
   "outputs": [],
   "source": [
    "# Line below will give you a hint\n",
    "#q3.hint()"
   ]
  },
  {
   "cell_type": "markdown",
   "id": "12484fad",
   "metadata": {
    "papermill": {
     "duration": 0.011763,
     "end_time": "2024-04-22T14:21:51.084493",
     "exception": false,
     "start_time": "2024-04-22T14:21:51.072730",
     "status": "completed"
    },
    "tags": []
   },
   "source": [
    "# 4) Drop missing values: rows\n",
    "\n",
    "If you removed all of the rows of `sf_permits` with missing values, how many rows are left?\n",
    "\n",
    "**Note**: Do not change the value of `sf_permits` when checking this.  "
   ]
  },
  {
   "cell_type": "code",
   "execution_count": 11,
   "id": "80a782fb",
   "metadata": {
    "execution": {
     "iopub.execute_input": "2024-04-22T14:21:51.110550Z",
     "iopub.status.busy": "2024-04-22T14:21:51.109996Z",
     "iopub.status.idle": "2024-04-22T14:21:51.118393Z",
     "shell.execute_reply": "2024-04-22T14:21:51.116902Z"
    },
    "papermill": {
     "duration": 0.024596,
     "end_time": "2024-04-22T14:21:51.120911",
     "exception": false,
     "start_time": "2024-04-22T14:21:51.096315",
     "status": "completed"
    },
    "tags": []
   },
   "outputs": [
    {
     "data": {
      "text/plain": [
       "(198900, 43)"
      ]
     },
     "execution_count": 11,
     "metadata": {},
     "output_type": "execute_result"
    }
   ],
   "source": [
    "sf_permits.shape"
   ]
  },
  {
   "cell_type": "code",
   "execution_count": 12,
   "id": "7d2bf53f",
   "metadata": {
    "execution": {
     "iopub.execute_input": "2024-04-22T14:21:51.149145Z",
     "iopub.status.busy": "2024-04-22T14:21:51.148656Z",
     "iopub.status.idle": "2024-04-22T14:21:51.711321Z",
     "shell.execute_reply": "2024-04-22T14:21:51.709950Z"
    },
    "papermill": {
     "duration": 0.579831,
     "end_time": "2024-04-22T14:21:51.714146",
     "exception": false,
     "start_time": "2024-04-22T14:21:51.134315",
     "status": "completed"
    },
    "tags": []
   },
   "outputs": [
    {
     "data": {
      "text/html": [
       "<div>\n",
       "<style scoped>\n",
       "    .dataframe tbody tr th:only-of-type {\n",
       "        vertical-align: middle;\n",
       "    }\n",
       "\n",
       "    .dataframe tbody tr th {\n",
       "        vertical-align: top;\n",
       "    }\n",
       "\n",
       "    .dataframe thead th {\n",
       "        text-align: right;\n",
       "    }\n",
       "</style>\n",
       "<table border=\"1\" class=\"dataframe\">\n",
       "  <thead>\n",
       "    <tr style=\"text-align: right;\">\n",
       "      <th></th>\n",
       "      <th>Permit Number</th>\n",
       "      <th>Permit Type</th>\n",
       "      <th>Permit Type Definition</th>\n",
       "      <th>Permit Creation Date</th>\n",
       "      <th>Block</th>\n",
       "      <th>Lot</th>\n",
       "      <th>Street Number</th>\n",
       "      <th>Street Name</th>\n",
       "      <th>Current Status</th>\n",
       "      <th>Current Status Date</th>\n",
       "      <th>Filed Date</th>\n",
       "      <th>Record ID</th>\n",
       "    </tr>\n",
       "  </thead>\n",
       "  <tbody>\n",
       "    <tr>\n",
       "      <th>0</th>\n",
       "      <td>201505065519</td>\n",
       "      <td>4</td>\n",
       "      <td>sign - erect</td>\n",
       "      <td>05/06/2015</td>\n",
       "      <td>0326</td>\n",
       "      <td>023</td>\n",
       "      <td>140</td>\n",
       "      <td>Ellis</td>\n",
       "      <td>expired</td>\n",
       "      <td>12/21/2017</td>\n",
       "      <td>05/06/2015</td>\n",
       "      <td>1380611233945</td>\n",
       "    </tr>\n",
       "    <tr>\n",
       "      <th>1</th>\n",
       "      <td>201604195146</td>\n",
       "      <td>4</td>\n",
       "      <td>sign - erect</td>\n",
       "      <td>04/19/2016</td>\n",
       "      <td>0306</td>\n",
       "      <td>007</td>\n",
       "      <td>440</td>\n",
       "      <td>Geary</td>\n",
       "      <td>issued</td>\n",
       "      <td>08/03/2017</td>\n",
       "      <td>04/19/2016</td>\n",
       "      <td>1420164406718</td>\n",
       "    </tr>\n",
       "    <tr>\n",
       "      <th>2</th>\n",
       "      <td>201605278609</td>\n",
       "      <td>3</td>\n",
       "      <td>additions alterations or repairs</td>\n",
       "      <td>05/27/2016</td>\n",
       "      <td>0595</td>\n",
       "      <td>203</td>\n",
       "      <td>1647</td>\n",
       "      <td>Pacific</td>\n",
       "      <td>withdrawn</td>\n",
       "      <td>09/26/2017</td>\n",
       "      <td>05/27/2016</td>\n",
       "      <td>1424856504716</td>\n",
       "    </tr>\n",
       "    <tr>\n",
       "      <th>3</th>\n",
       "      <td>201611072166</td>\n",
       "      <td>8</td>\n",
       "      <td>otc alterations permit</td>\n",
       "      <td>11/07/2016</td>\n",
       "      <td>0156</td>\n",
       "      <td>011</td>\n",
       "      <td>1230</td>\n",
       "      <td>Pacific</td>\n",
       "      <td>complete</td>\n",
       "      <td>07/24/2017</td>\n",
       "      <td>11/07/2016</td>\n",
       "      <td>1443574295566</td>\n",
       "    </tr>\n",
       "    <tr>\n",
       "      <th>4</th>\n",
       "      <td>201611283529</td>\n",
       "      <td>6</td>\n",
       "      <td>demolitions</td>\n",
       "      <td>11/28/2016</td>\n",
       "      <td>0342</td>\n",
       "      <td>001</td>\n",
       "      <td>950</td>\n",
       "      <td>Market</td>\n",
       "      <td>issued</td>\n",
       "      <td>12/01/2017</td>\n",
       "      <td>11/28/2016</td>\n",
       "      <td>144548169992</td>\n",
       "    </tr>\n",
       "    <tr>\n",
       "      <th>...</th>\n",
       "      <td>...</td>\n",
       "      <td>...</td>\n",
       "      <td>...</td>\n",
       "      <td>...</td>\n",
       "      <td>...</td>\n",
       "      <td>...</td>\n",
       "      <td>...</td>\n",
       "      <td>...</td>\n",
       "      <td>...</td>\n",
       "      <td>...</td>\n",
       "      <td>...</td>\n",
       "      <td>...</td>\n",
       "    </tr>\n",
       "    <tr>\n",
       "      <th>198895</th>\n",
       "      <td>M862628</td>\n",
       "      <td>8</td>\n",
       "      <td>otc alterations permit</td>\n",
       "      <td>12/05/2017</td>\n",
       "      <td>0113</td>\n",
       "      <td>017A</td>\n",
       "      <td>1228</td>\n",
       "      <td>Montgomery</td>\n",
       "      <td>issued</td>\n",
       "      <td>12/05/2017</td>\n",
       "      <td>12/05/2017</td>\n",
       "      <td>1489337276729</td>\n",
       "    </tr>\n",
       "    <tr>\n",
       "      <th>198896</th>\n",
       "      <td>201712055595</td>\n",
       "      <td>8</td>\n",
       "      <td>otc alterations permit</td>\n",
       "      <td>12/05/2017</td>\n",
       "      <td>0271</td>\n",
       "      <td>014</td>\n",
       "      <td>580</td>\n",
       "      <td>Bush</td>\n",
       "      <td>issued</td>\n",
       "      <td>12/06/2017</td>\n",
       "      <td>12/05/2017</td>\n",
       "      <td>1489462354993</td>\n",
       "    </tr>\n",
       "    <tr>\n",
       "      <th>198897</th>\n",
       "      <td>M863507</td>\n",
       "      <td>8</td>\n",
       "      <td>otc alterations permit</td>\n",
       "      <td>12/06/2017</td>\n",
       "      <td>4318</td>\n",
       "      <td>019</td>\n",
       "      <td>1568</td>\n",
       "      <td>Indiana</td>\n",
       "      <td>issued</td>\n",
       "      <td>12/06/2017</td>\n",
       "      <td>12/06/2017</td>\n",
       "      <td>1489539379952</td>\n",
       "    </tr>\n",
       "    <tr>\n",
       "      <th>198898</th>\n",
       "      <td>M863747</td>\n",
       "      <td>8</td>\n",
       "      <td>otc alterations permit</td>\n",
       "      <td>12/06/2017</td>\n",
       "      <td>0298</td>\n",
       "      <td>029</td>\n",
       "      <td>795</td>\n",
       "      <td>Sutter</td>\n",
       "      <td>issued</td>\n",
       "      <td>12/06/2017</td>\n",
       "      <td>12/06/2017</td>\n",
       "      <td>1489608233656</td>\n",
       "    </tr>\n",
       "    <tr>\n",
       "      <th>198899</th>\n",
       "      <td>M864287</td>\n",
       "      <td>8</td>\n",
       "      <td>otc alterations permit</td>\n",
       "      <td>12/07/2017</td>\n",
       "      <td>0160</td>\n",
       "      <td>006</td>\n",
       "      <td>838</td>\n",
       "      <td>Pacific</td>\n",
       "      <td>issued</td>\n",
       "      <td>12/07/2017</td>\n",
       "      <td>12/07/2017</td>\n",
       "      <td>1489796283803</td>\n",
       "    </tr>\n",
       "  </tbody>\n",
       "</table>\n",
       "<p>198900 rows × 12 columns</p>\n",
       "</div>"
      ],
      "text/plain": [
       "       Permit Number  Permit Type            Permit Type Definition  \\\n",
       "0       201505065519            4                      sign - erect   \n",
       "1       201604195146            4                      sign - erect   \n",
       "2       201605278609            3  additions alterations or repairs   \n",
       "3       201611072166            8            otc alterations permit   \n",
       "4       201611283529            6                       demolitions   \n",
       "...              ...          ...                               ...   \n",
       "198895       M862628            8            otc alterations permit   \n",
       "198896  201712055595            8            otc alterations permit   \n",
       "198897       M863507            8            otc alterations permit   \n",
       "198898       M863747            8            otc alterations permit   \n",
       "198899       M864287            8            otc alterations permit   \n",
       "\n",
       "       Permit Creation Date Block   Lot  Street Number Street Name  \\\n",
       "0                05/06/2015  0326   023            140       Ellis   \n",
       "1                04/19/2016  0306   007            440       Geary   \n",
       "2                05/27/2016  0595   203           1647     Pacific   \n",
       "3                11/07/2016  0156   011           1230     Pacific   \n",
       "4                11/28/2016  0342   001            950      Market   \n",
       "...                     ...   ...   ...            ...         ...   \n",
       "198895           12/05/2017  0113  017A           1228  Montgomery   \n",
       "198896           12/05/2017  0271   014            580        Bush   \n",
       "198897           12/06/2017  4318   019           1568     Indiana   \n",
       "198898           12/06/2017  0298   029            795      Sutter   \n",
       "198899           12/07/2017  0160   006            838     Pacific   \n",
       "\n",
       "       Current Status Current Status Date  Filed Date      Record ID  \n",
       "0             expired          12/21/2017  05/06/2015  1380611233945  \n",
       "1              issued          08/03/2017  04/19/2016  1420164406718  \n",
       "2           withdrawn          09/26/2017  05/27/2016  1424856504716  \n",
       "3            complete          07/24/2017  11/07/2016  1443574295566  \n",
       "4              issued          12/01/2017  11/28/2016   144548169992  \n",
       "...               ...                 ...         ...            ...  \n",
       "198895         issued          12/05/2017  12/05/2017  1489337276729  \n",
       "198896         issued          12/06/2017  12/05/2017  1489462354993  \n",
       "198897         issued          12/06/2017  12/06/2017  1489539379952  \n",
       "198898         issued          12/06/2017  12/06/2017  1489608233656  \n",
       "198899         issued          12/07/2017  12/07/2017  1489796283803  \n",
       "\n",
       "[198900 rows x 12 columns]"
      ]
     },
     "execution_count": 12,
     "metadata": {},
     "output_type": "execute_result"
    }
   ],
   "source": [
    "sf_permits.dropna(axis=1)"
   ]
  },
  {
   "cell_type": "code",
   "execution_count": 13,
   "id": "9fa297c3",
   "metadata": {
    "execution": {
     "iopub.execute_input": "2024-04-22T14:21:51.741927Z",
     "iopub.status.busy": "2024-04-22T14:21:51.741349Z",
     "iopub.status.idle": "2024-04-22T14:21:52.283134Z",
     "shell.execute_reply": "2024-04-22T14:21:52.282212Z"
    },
    "papermill": {
     "duration": 0.55878,
     "end_time": "2024-04-22T14:21:52.285557",
     "exception": false,
     "start_time": "2024-04-22T14:21:51.726777",
     "status": "completed"
    },
    "tags": []
   },
   "outputs": [
    {
     "data": {
      "text/plain": [
       "198900"
      ]
     },
     "execution_count": 13,
     "metadata": {},
     "output_type": "execute_result"
    }
   ],
   "source": [
    "# TODO: Your code here!\n",
    "len(sf_permits.dropna(axis=1))"
   ]
  },
  {
   "cell_type": "markdown",
   "id": "c6c43f9e",
   "metadata": {
    "papermill": {
     "duration": 0.013273,
     "end_time": "2024-04-22T14:21:52.312082",
     "exception": false,
     "start_time": "2024-04-22T14:21:52.298809",
     "status": "completed"
    },
    "tags": []
   },
   "source": [
    "Once you have an answer, run the code cell below."
   ]
  },
  {
   "cell_type": "code",
   "execution_count": 14,
   "id": "98841455",
   "metadata": {
    "execution": {
     "iopub.execute_input": "2024-04-22T14:21:52.342277Z",
     "iopub.status.busy": "2024-04-22T14:21:52.341144Z",
     "iopub.status.idle": "2024-04-22T14:21:52.349549Z",
     "shell.execute_reply": "2024-04-22T14:21:52.348678Z"
    },
    "papermill": {
     "duration": 0.027106,
     "end_time": "2024-04-22T14:21:52.352860",
     "exception": false,
     "start_time": "2024-04-22T14:21:52.325754",
     "status": "completed"
    },
    "tags": []
   },
   "outputs": [
    {
     "data": {
      "application/javascript": [
       "parent.postMessage({\"jupyterEvent\": \"custom.exercise_interaction\", \"data\": {\"outcomeType\": 1, \"valueTowardsCompletion\": 0.16666666666666666, \"interactionType\": 1, \"questionType\": 4, \"questionId\": \"4_DropMissingRows\", \"learnToolsVersion\": \"0.3.4\", \"failureMessage\": \"\", \"exceptionClass\": \"\", \"trace\": \"\"}}, \"*\")"
      ],
      "text/plain": [
       "<IPython.core.display.Javascript object>"
      ]
     },
     "metadata": {},
     "output_type": "display_data"
    },
    {
     "data": {
      "text/markdown": [
       "<span style=\"color:#33cc33\">Correct:</span> \n",
       "\n",
       "There are no rows remaining in the dataset!"
      ],
      "text/plain": [
       "Correct: \n",
       "\n",
       "There are no rows remaining in the dataset!"
      ]
     },
     "metadata": {},
     "output_type": "display_data"
    }
   ],
   "source": [
    "# Check your answer (Run this code cell to receive credit!)\n",
    "q4.check()"
   ]
  },
  {
   "cell_type": "code",
   "execution_count": 15,
   "id": "26fb295b",
   "metadata": {
    "execution": {
     "iopub.execute_input": "2024-04-22T14:21:52.384864Z",
     "iopub.status.busy": "2024-04-22T14:21:52.383962Z",
     "iopub.status.idle": "2024-04-22T14:21:52.388861Z",
     "shell.execute_reply": "2024-04-22T14:21:52.387973Z"
    },
    "papermill": {
     "duration": 0.023942,
     "end_time": "2024-04-22T14:21:52.391444",
     "exception": false,
     "start_time": "2024-04-22T14:21:52.367502",
     "status": "completed"
    },
    "tags": []
   },
   "outputs": [],
   "source": [
    "# Line below will give you a hint\n",
    "#q4.hint()"
   ]
  },
  {
   "cell_type": "markdown",
   "id": "46dfaf7f",
   "metadata": {
    "papermill": {
     "duration": 0.014603,
     "end_time": "2024-04-22T14:21:52.420763",
     "exception": false,
     "start_time": "2024-04-22T14:21:52.406160",
     "status": "completed"
    },
    "tags": []
   },
   "source": [
    "# 5) Drop missing values: columns\n",
    "\n",
    "Now try removing all the columns with empty values.  \n",
    "- Create a new DataFrame called `sf_permits_with_na_dropped` that has all of the columns with empty values removed.  \n",
    "- How many columns were removed from the original `sf_permits` DataFrame? Use this number to set the value of the `dropped_columns` variable below."
   ]
  },
  {
   "cell_type": "code",
   "execution_count": 16,
   "id": "7253da6f",
   "metadata": {
    "execution": {
     "iopub.execute_input": "2024-04-22T14:21:52.450138Z",
     "iopub.status.busy": "2024-04-22T14:21:52.449215Z",
     "iopub.status.idle": "2024-04-22T14:21:52.455908Z",
     "shell.execute_reply": "2024-04-22T14:21:52.455056Z"
    },
    "papermill": {
     "duration": 0.024412,
     "end_time": "2024-04-22T14:21:52.458710",
     "exception": false,
     "start_time": "2024-04-22T14:21:52.434298",
     "status": "completed"
    },
    "tags": []
   },
   "outputs": [
    {
     "data": {
      "text/plain": [
       "Index(['Permit Number', 'Permit Type', 'Permit Type Definition',\n",
       "       'Permit Creation Date', 'Block', 'Lot', 'Street Number',\n",
       "       'Street Number Suffix', 'Street Name', 'Street Suffix', 'Unit',\n",
       "       'Unit Suffix', 'Description', 'Current Status', 'Current Status Date',\n",
       "       'Filed Date', 'Issued Date', 'Completed Date',\n",
       "       'First Construction Document Date', 'Structural Notification',\n",
       "       'Number of Existing Stories', 'Number of Proposed Stories',\n",
       "       'Voluntary Soft-Story Retrofit', 'Fire Only Permit',\n",
       "       'Permit Expiration Date', 'Estimated Cost', 'Revised Cost',\n",
       "       'Existing Use', 'Existing Units', 'Proposed Use', 'Proposed Units',\n",
       "       'Plansets', 'TIDF Compliance', 'Existing Construction Type',\n",
       "       'Existing Construction Type Description', 'Proposed Construction Type',\n",
       "       'Proposed Construction Type Description', 'Site Permit',\n",
       "       'Supervisor District', 'Neighborhoods - Analysis Boundaries', 'Zipcode',\n",
       "       'Location', 'Record ID'],\n",
       "      dtype='object')"
      ]
     },
     "execution_count": 16,
     "metadata": {},
     "output_type": "execute_result"
    }
   ],
   "source": [
    "sf_permits.columns"
   ]
  },
  {
   "cell_type": "code",
   "execution_count": 17,
   "id": "431dd146",
   "metadata": {
    "execution": {
     "iopub.execute_input": "2024-04-22T14:21:52.489481Z",
     "iopub.status.busy": "2024-04-22T14:21:52.488722Z",
     "iopub.status.idle": "2024-04-22T14:21:52.996613Z",
     "shell.execute_reply": "2024-04-22T14:21:52.995200Z"
    },
    "papermill": {
     "duration": 0.526979,
     "end_time": "2024-04-22T14:21:52.999426",
     "exception": false,
     "start_time": "2024-04-22T14:21:52.472447",
     "status": "completed"
    },
    "tags": []
   },
   "outputs": [
    {
     "data": {
      "application/javascript": [
       "parent.postMessage({\"jupyterEvent\": \"custom.exercise_interaction\", \"data\": {\"outcomeType\": 1, \"valueTowardsCompletion\": 0.16666666666666666, \"interactionType\": 1, \"questionType\": 1, \"questionId\": \"5_DropMissingCols\", \"learnToolsVersion\": \"0.3.4\", \"failureMessage\": \"\", \"exceptionClass\": \"\", \"trace\": \"\"}}, \"*\")"
      ],
      "text/plain": [
       "<IPython.core.display.Javascript object>"
      ]
     },
     "metadata": {},
     "output_type": "display_data"
    },
    {
     "data": {
      "text/markdown": [
       "<span style=\"color:#33cc33\">Correct</span>"
      ],
      "text/plain": [
       "Correct"
      ]
     },
     "metadata": {},
     "output_type": "display_data"
    }
   ],
   "source": [
    "# TODO: Your code here\n",
    "sf_permits_with_na_dropped = sf_permits.dropna(axis=1)\n",
    "\n",
    "dropped_columns = len(set(sf_permits.columns) -set(sf_permits_with_na_dropped.columns))\n",
    "\n",
    "# Check your answer\n",
    "q5.check()"
   ]
  },
  {
   "cell_type": "code",
   "execution_count": 18,
   "id": "68577727",
   "metadata": {
    "execution": {
     "iopub.execute_input": "2024-04-22T14:21:53.030096Z",
     "iopub.status.busy": "2024-04-22T14:21:53.028614Z",
     "iopub.status.idle": "2024-04-22T14:21:53.034374Z",
     "shell.execute_reply": "2024-04-22T14:21:53.033369Z"
    },
    "papermill": {
     "duration": 0.023116,
     "end_time": "2024-04-22T14:21:53.036432",
     "exception": false,
     "start_time": "2024-04-22T14:21:53.013316",
     "status": "completed"
    },
    "tags": []
   },
   "outputs": [],
   "source": [
    "# Lines below will give you a hint or solution code\n",
    "#q5.hint()\n",
    "#q5.solution()"
   ]
  },
  {
   "cell_type": "markdown",
   "id": "55e22974",
   "metadata": {
    "papermill": {
     "duration": 0.013285,
     "end_time": "2024-04-22T14:21:53.063292",
     "exception": false,
     "start_time": "2024-04-22T14:21:53.050007",
     "status": "completed"
    },
    "tags": []
   },
   "source": [
    "# 6) Fill in missing values automatically\n",
    "\n",
    "Try replacing all the NaN's in the `sf_permits` data with the one that comes directly after it and then replacing any remaining NaN's with 0.  Set the result to a new DataFrame `sf_permits_with_na_imputed`."
   ]
  },
  {
   "cell_type": "code",
   "execution_count": 19,
   "id": "d7d787c6",
   "metadata": {
    "execution": {
     "iopub.execute_input": "2024-04-22T14:21:53.092699Z",
     "iopub.status.busy": "2024-04-22T14:21:53.092215Z",
     "iopub.status.idle": "2024-04-22T14:21:56.594483Z",
     "shell.execute_reply": "2024-04-22T14:21:56.593016Z"
    },
    "papermill": {
     "duration": 3.520335,
     "end_time": "2024-04-22T14:21:56.597253",
     "exception": false,
     "start_time": "2024-04-22T14:21:53.076918",
     "status": "completed"
    },
    "tags": []
   },
   "outputs": [
    {
     "name": "stderr",
     "output_type": "stream",
     "text": [
      "/tmp/ipykernel_19/67066035.py:2: FutureWarning: DataFrame.fillna with 'method' is deprecated and will raise in a future version. Use obj.ffill() or obj.bfill() instead.\n",
      "  sf_permits_with_na_imputed = sf_permits.fillna(method='bfill',axis=0).fillna(0)\n"
     ]
    },
    {
     "data": {
      "application/javascript": [
       "parent.postMessage({\"jupyterEvent\": \"custom.exercise_interaction\", \"data\": {\"outcomeType\": 1, \"valueTowardsCompletion\": 0.16666666666666666, \"interactionType\": 1, \"questionType\": 1, \"questionId\": \"6_ImputeAutomatically\", \"learnToolsVersion\": \"0.3.4\", \"failureMessage\": \"\", \"exceptionClass\": \"\", \"trace\": \"\"}}, \"*\")"
      ],
      "text/plain": [
       "<IPython.core.display.Javascript object>"
      ]
     },
     "metadata": {},
     "output_type": "display_data"
    },
    {
     "data": {
      "text/markdown": [
       "<span style=\"color:#33cc33\">Correct</span>"
      ],
      "text/plain": [
       "Correct"
      ]
     },
     "metadata": {},
     "output_type": "display_data"
    }
   ],
   "source": [
    "# TODO: Your code here\n",
    "sf_permits_with_na_imputed = sf_permits.fillna(method='bfill',axis=0).fillna(0)\n",
    "\n",
    "# Check your answer\n",
    "q6.check()"
   ]
  },
  {
   "cell_type": "code",
   "execution_count": 20,
   "id": "13ba5b22",
   "metadata": {
    "execution": {
     "iopub.execute_input": "2024-04-22T14:21:56.627681Z",
     "iopub.status.busy": "2024-04-22T14:21:56.627173Z",
     "iopub.status.idle": "2024-04-22T14:21:56.632940Z",
     "shell.execute_reply": "2024-04-22T14:21:56.631355Z"
    },
    "papermill": {
     "duration": 0.024554,
     "end_time": "2024-04-22T14:21:56.635616",
     "exception": false,
     "start_time": "2024-04-22T14:21:56.611062",
     "status": "completed"
    },
    "tags": []
   },
   "outputs": [],
   "source": [
    "# Lines below will give you a hint or solution code\n",
    "#q6.hint()\n",
    "#q6.solution()"
   ]
  },
  {
   "cell_type": "markdown",
   "id": "ab15f84b",
   "metadata": {
    "papermill": {
     "duration": 0.013584,
     "end_time": "2024-04-22T14:21:56.663201",
     "exception": false,
     "start_time": "2024-04-22T14:21:56.649617",
     "status": "completed"
    },
    "tags": []
   },
   "source": [
    "# More practice\n",
    "\n",
    "If you're looking for more practice handling missing values:\n",
    "\n",
    "* Check out [this noteboook](https://www.kaggle.com/alexisbcook/missing-values) on handling missing values using scikit-learn's imputer. \n",
    "* Look back at the \"Zipcode\" column in the `sf_permits` dataset, which has some missing values. How would you go about figuring out what the actual zipcode of each address should be? (You might try using another dataset. You can search for datasets about San Fransisco on the [Datasets listing](https://www.kaggle.com/datasets).) \n",
    "\n",
    "# Keep going\n",
    "\n",
    "In the next lesson, learn how to [**apply scaling and normalization**](https://www.kaggle.com/alexisbcook/scaling-and-normalization) to transform your data."
   ]
  },
  {
   "cell_type": "markdown",
   "id": "d0cf71de",
   "metadata": {
    "papermill": {
     "duration": 0.01359,
     "end_time": "2024-04-22T14:21:56.690564",
     "exception": false,
     "start_time": "2024-04-22T14:21:56.676974",
     "status": "completed"
    },
    "tags": []
   },
   "source": [
    "---\n",
    "\n",
    "\n",
    "\n",
    "\n",
    "*Have questions or comments? Visit the [course discussion forum](https://www.kaggle.com/learn/data-cleaning/discussion) to chat with other learners.*"
   ]
  }
 ],
 "metadata": {
  "kaggle": {
   "accelerator": "none",
   "dataSources": [
    {
     "datasetId": 16432,
     "sourceId": 21688,
     "sourceType": "datasetVersion"
    }
   ],
   "isGpuEnabled": false,
   "isInternetEnabled": false,
   "language": "python",
   "sourceType": "notebook"
  },
  "kernelspec": {
   "display_name": "Python 3",
   "language": "python",
   "name": "python3"
  },
  "language_info": {
   "codemirror_mode": {
    "name": "ipython",
    "version": 3
   },
   "file_extension": ".py",
   "mimetype": "text/x-python",
   "name": "python",
   "nbconvert_exporter": "python",
   "pygments_lexer": "ipython3",
   "version": "3.10.13"
  },
  "papermill": {
   "default_parameters": {},
   "duration": 22.985609,
   "end_time": "2024-04-22T14:21:57.530004",
   "environment_variables": {},
   "exception": null,
   "input_path": "__notebook__.ipynb",
   "output_path": "__notebook__.ipynb",
   "parameters": {},
   "start_time": "2024-04-22T14:21:34.544395",
   "version": "2.5.0"
  }
 },
 "nbformat": 4,
 "nbformat_minor": 5
}
