{
 "cells": [
  {
   "cell_type": "markdown",
   "id": "ac357f89",
   "metadata": {
    "papermill": {
     "duration": 0.005986,
     "end_time": "2023-12-11T14:59:19.100885",
     "exception": false,
     "start_time": "2023-12-11T14:59:19.094899",
     "status": "completed"
    },
    "tags": []
   },
   "source": [
    "**This notebook is an exercise in the [Pandas](https://www.kaggle.com/learn/pandas) course.  You can reference the tutorial at [this link](https://www.kaggle.com/residentmario/summary-functions-and-maps).**\n",
    "\n",
    "---\n"
   ]
  },
  {
   "cell_type": "markdown",
   "id": "57244d6d",
   "metadata": {
    "papermill": {
     "duration": 0.005027,
     "end_time": "2023-12-11T14:59:19.111367",
     "exception": false,
     "start_time": "2023-12-11T14:59:19.106340",
     "status": "completed"
    },
    "tags": []
   },
   "source": [
    "# Introduction\n",
    "\n",
    "Now you are ready to get a deeper understanding of your data.\n",
    "\n",
    "Run the following cell to load your data and some utility functions (including code to check your answers)."
   ]
  },
  {
   "cell_type": "code",
   "execution_count": 1,
   "id": "4b8ff8ca",
   "metadata": {
    "execution": {
     "iopub.execute_input": "2023-12-11T14:59:19.123229Z",
     "iopub.status.busy": "2023-12-11T14:59:19.122886Z",
     "iopub.status.idle": "2023-12-11T14:59:25.107998Z",
     "shell.execute_reply": "2023-12-11T14:59:25.106129Z"
    },
    "papermill": {
     "duration": 5.993544,
     "end_time": "2023-12-11T14:59:25.110093",
     "exception": false,
     "start_time": "2023-12-11T14:59:19.116549",
     "status": "completed"
    },
    "tags": []
   },
   "outputs": [
    {
     "name": "stdout",
     "output_type": "stream",
     "text": [
      "Setup complete.\n"
     ]
    },
    {
     "data": {
      "text/html": [
       "<div>\n",
       "<style scoped>\n",
       "    .dataframe tbody tr th:only-of-type {\n",
       "        vertical-align: middle;\n",
       "    }\n",
       "\n",
       "    .dataframe tbody tr th {\n",
       "        vertical-align: top;\n",
       "    }\n",
       "\n",
       "    .dataframe thead th {\n",
       "        text-align: right;\n",
       "    }\n",
       "</style>\n",
       "<table border=\"1\" class=\"dataframe\">\n",
       "  <thead>\n",
       "    <tr style=\"text-align: right;\">\n",
       "      <th></th>\n",
       "      <th>country</th>\n",
       "      <th>description</th>\n",
       "      <th>designation</th>\n",
       "      <th>points</th>\n",
       "      <th>price</th>\n",
       "      <th>province</th>\n",
       "      <th>region_1</th>\n",
       "      <th>region_2</th>\n",
       "      <th>taster_name</th>\n",
       "      <th>taster_twitter_handle</th>\n",
       "      <th>title</th>\n",
       "      <th>variety</th>\n",
       "      <th>winery</th>\n",
       "    </tr>\n",
       "  </thead>\n",
       "  <tbody>\n",
       "    <tr>\n",
       "      <th>0</th>\n",
       "      <td>Italy</td>\n",
       "      <td>Aromas include tropical fruit, broom, brimston...</td>\n",
       "      <td>Vulkà Bianco</td>\n",
       "      <td>87</td>\n",
       "      <td>NaN</td>\n",
       "      <td>Sicily &amp; Sardinia</td>\n",
       "      <td>Etna</td>\n",
       "      <td>NaN</td>\n",
       "      <td>Kerin O’Keefe</td>\n",
       "      <td>@kerinokeefe</td>\n",
       "      <td>Nicosia 2013 Vulkà Bianco  (Etna)</td>\n",
       "      <td>White Blend</td>\n",
       "      <td>Nicosia</td>\n",
       "    </tr>\n",
       "    <tr>\n",
       "      <th>1</th>\n",
       "      <td>Portugal</td>\n",
       "      <td>This is ripe and fruity, a wine that is smooth...</td>\n",
       "      <td>Avidagos</td>\n",
       "      <td>87</td>\n",
       "      <td>15.0</td>\n",
       "      <td>Douro</td>\n",
       "      <td>NaN</td>\n",
       "      <td>NaN</td>\n",
       "      <td>Roger Voss</td>\n",
       "      <td>@vossroger</td>\n",
       "      <td>Quinta dos Avidagos 2011 Avidagos Red (Douro)</td>\n",
       "      <td>Portuguese Red</td>\n",
       "      <td>Quinta dos Avidagos</td>\n",
       "    </tr>\n",
       "    <tr>\n",
       "      <th>2</th>\n",
       "      <td>US</td>\n",
       "      <td>Tart and snappy, the flavors of lime flesh and...</td>\n",
       "      <td>NaN</td>\n",
       "      <td>87</td>\n",
       "      <td>14.0</td>\n",
       "      <td>Oregon</td>\n",
       "      <td>Willamette Valley</td>\n",
       "      <td>Willamette Valley</td>\n",
       "      <td>Paul Gregutt</td>\n",
       "      <td>@paulgwine</td>\n",
       "      <td>Rainstorm 2013 Pinot Gris (Willamette Valley)</td>\n",
       "      <td>Pinot Gris</td>\n",
       "      <td>Rainstorm</td>\n",
       "    </tr>\n",
       "    <tr>\n",
       "      <th>3</th>\n",
       "      <td>US</td>\n",
       "      <td>Pineapple rind, lemon pith and orange blossom ...</td>\n",
       "      <td>Reserve Late Harvest</td>\n",
       "      <td>87</td>\n",
       "      <td>13.0</td>\n",
       "      <td>Michigan</td>\n",
       "      <td>Lake Michigan Shore</td>\n",
       "      <td>NaN</td>\n",
       "      <td>Alexander Peartree</td>\n",
       "      <td>NaN</td>\n",
       "      <td>St. Julian 2013 Reserve Late Harvest Riesling ...</td>\n",
       "      <td>Riesling</td>\n",
       "      <td>St. Julian</td>\n",
       "    </tr>\n",
       "    <tr>\n",
       "      <th>4</th>\n",
       "      <td>US</td>\n",
       "      <td>Much like the regular bottling from 2012, this...</td>\n",
       "      <td>Vintner's Reserve Wild Child Block</td>\n",
       "      <td>87</td>\n",
       "      <td>65.0</td>\n",
       "      <td>Oregon</td>\n",
       "      <td>Willamette Valley</td>\n",
       "      <td>Willamette Valley</td>\n",
       "      <td>Paul Gregutt</td>\n",
       "      <td>@paulgwine</td>\n",
       "      <td>Sweet Cheeks 2012 Vintner's Reserve Wild Child...</td>\n",
       "      <td>Pinot Noir</td>\n",
       "      <td>Sweet Cheeks</td>\n",
       "    </tr>\n",
       "  </tbody>\n",
       "</table>\n",
       "</div>"
      ],
      "text/plain": [
       "    country                                        description  \\\n",
       "0     Italy  Aromas include tropical fruit, broom, brimston...   \n",
       "1  Portugal  This is ripe and fruity, a wine that is smooth...   \n",
       "2        US  Tart and snappy, the flavors of lime flesh and...   \n",
       "3        US  Pineapple rind, lemon pith and orange blossom ...   \n",
       "4        US  Much like the regular bottling from 2012, this...   \n",
       "\n",
       "                          designation  points  price           province  \\\n",
       "0                        Vulkà Bianco      87    NaN  Sicily & Sardinia   \n",
       "1                            Avidagos      87   15.0              Douro   \n",
       "2                                 NaN      87   14.0             Oregon   \n",
       "3                Reserve Late Harvest      87   13.0           Michigan   \n",
       "4  Vintner's Reserve Wild Child Block      87   65.0             Oregon   \n",
       "\n",
       "              region_1           region_2         taster_name  \\\n",
       "0                 Etna                NaN       Kerin O’Keefe   \n",
       "1                  NaN                NaN          Roger Voss   \n",
       "2    Willamette Valley  Willamette Valley        Paul Gregutt   \n",
       "3  Lake Michigan Shore                NaN  Alexander Peartree   \n",
       "4    Willamette Valley  Willamette Valley        Paul Gregutt   \n",
       "\n",
       "  taster_twitter_handle                                              title  \\\n",
       "0          @kerinokeefe                  Nicosia 2013 Vulkà Bianco  (Etna)   \n",
       "1            @vossroger      Quinta dos Avidagos 2011 Avidagos Red (Douro)   \n",
       "2           @paulgwine       Rainstorm 2013 Pinot Gris (Willamette Valley)   \n",
       "3                   NaN  St. Julian 2013 Reserve Late Harvest Riesling ...   \n",
       "4           @paulgwine   Sweet Cheeks 2012 Vintner's Reserve Wild Child...   \n",
       "\n",
       "          variety               winery  \n",
       "0     White Blend              Nicosia  \n",
       "1  Portuguese Red  Quinta dos Avidagos  \n",
       "2      Pinot Gris            Rainstorm  \n",
       "3        Riesling           St. Julian  \n",
       "4      Pinot Noir         Sweet Cheeks  "
      ]
     },
     "execution_count": 1,
     "metadata": {},
     "output_type": "execute_result"
    }
   ],
   "source": [
    "import pandas as pd\n",
    "pd.set_option(\"display.max_rows\", 5)\n",
    "reviews = pd.read_csv(\"../input/wine-reviews/winemag-data-130k-v2.csv\", index_col=0)\n",
    "\n",
    "from learntools.core import binder; binder.bind(globals())\n",
    "from learntools.pandas.summary_functions_and_maps import *\n",
    "print(\"Setup complete.\")\n",
    "\n",
    "reviews.head()"
   ]
  },
  {
   "cell_type": "markdown",
   "id": "ee3d54f9",
   "metadata": {
    "papermill": {
     "duration": 0.005591,
     "end_time": "2023-12-11T14:59:25.121709",
     "exception": false,
     "start_time": "2023-12-11T14:59:25.116118",
     "status": "completed"
    },
    "tags": []
   },
   "source": [
    "# Exercises"
   ]
  },
  {
   "cell_type": "markdown",
   "id": "9d32e8f4",
   "metadata": {
    "papermill": {
     "duration": 0.005249,
     "end_time": "2023-12-11T14:59:25.132592",
     "exception": false,
     "start_time": "2023-12-11T14:59:25.127343",
     "status": "completed"
    },
    "tags": []
   },
   "source": [
    "## 1.\n",
    "\n",
    "What is the median of the `points` column in the `reviews` DataFrame?"
   ]
  },
  {
   "cell_type": "code",
   "execution_count": 2,
   "id": "4cf15f99",
   "metadata": {
    "execution": {
     "iopub.execute_input": "2023-12-11T14:59:25.145890Z",
     "iopub.status.busy": "2023-12-11T14:59:25.145510Z",
     "iopub.status.idle": "2023-12-11T14:59:25.155799Z",
     "shell.execute_reply": "2023-12-11T14:59:25.153936Z"
    },
    "papermill": {
     "duration": 0.020263,
     "end_time": "2023-12-11T14:59:25.158470",
     "exception": false,
     "start_time": "2023-12-11T14:59:25.138207",
     "status": "completed"
    },
    "tags": []
   },
   "outputs": [
    {
     "data": {
      "application/javascript": [
       "parent.postMessage({\"jupyterEvent\": \"custom.exercise_interaction\", \"data\": {\"outcomeType\": 1, \"valueTowardsCompletion\": 0.14285714285714285, \"interactionType\": 1, \"questionType\": 1, \"questionId\": \"1_MedianPoints\", \"learnToolsVersion\": \"0.3.4\", \"failureMessage\": \"\", \"exceptionClass\": \"\", \"trace\": \"\"}}, \"*\")"
      ],
      "text/plain": [
       "<IPython.core.display.Javascript object>"
      ]
     },
     "metadata": {},
     "output_type": "display_data"
    },
    {
     "data": {
      "text/markdown": [
       "<span style=\"color:#33cc33\">Correct</span>"
      ],
      "text/plain": [
       "Correct"
      ]
     },
     "metadata": {},
     "output_type": "display_data"
    }
   ],
   "source": [
    "median_points = reviews.points.median()\n",
    "\n",
    "# Check your answer\n",
    "q1.check()"
   ]
  },
  {
   "cell_type": "code",
   "execution_count": 3,
   "id": "51df3c91",
   "metadata": {
    "execution": {
     "iopub.execute_input": "2023-12-11T14:59:25.173587Z",
     "iopub.status.busy": "2023-12-11T14:59:25.173204Z",
     "iopub.status.idle": "2023-12-11T14:59:25.177288Z",
     "shell.execute_reply": "2023-12-11T14:59:25.176339Z"
    },
    "papermill": {
     "duration": 0.014806,
     "end_time": "2023-12-11T14:59:25.179833",
     "exception": false,
     "start_time": "2023-12-11T14:59:25.165027",
     "status": "completed"
    },
    "tags": []
   },
   "outputs": [],
   "source": [
    "#q1.hint()\n",
    "#q1.solution()"
   ]
  },
  {
   "cell_type": "markdown",
   "id": "4403c9e7",
   "metadata": {
    "papermill": {
     "duration": 0.006067,
     "end_time": "2023-12-11T14:59:25.193306",
     "exception": false,
     "start_time": "2023-12-11T14:59:25.187239",
     "status": "completed"
    },
    "tags": []
   },
   "source": [
    "## 2. \n",
    "What countries are represented in the dataset? (Your answer should not include any duplicates.)"
   ]
  },
  {
   "cell_type": "code",
   "execution_count": 4,
   "id": "781ae4dc",
   "metadata": {
    "execution": {
     "iopub.execute_input": "2023-12-11T14:59:25.209896Z",
     "iopub.status.busy": "2023-12-11T14:59:25.209308Z",
     "iopub.status.idle": "2023-12-11T14:59:25.227806Z",
     "shell.execute_reply": "2023-12-11T14:59:25.226836Z"
    },
    "papermill": {
     "duration": 0.029736,
     "end_time": "2023-12-11T14:59:25.230326",
     "exception": false,
     "start_time": "2023-12-11T14:59:25.200590",
     "status": "completed"
    },
    "tags": []
   },
   "outputs": [
    {
     "data": {
      "application/javascript": [
       "parent.postMessage({\"jupyterEvent\": \"custom.exercise_interaction\", \"data\": {\"outcomeType\": 1, \"valueTowardsCompletion\": 0.14285714285714285, \"interactionType\": 1, \"questionType\": 2, \"questionId\": \"2_UniqueCountries\", \"learnToolsVersion\": \"0.3.4\", \"failureMessage\": \"\", \"exceptionClass\": \"\", \"trace\": \"\"}}, \"*\")"
      ],
      "text/plain": [
       "<IPython.core.display.Javascript object>"
      ]
     },
     "metadata": {},
     "output_type": "display_data"
    },
    {
     "data": {
      "text/markdown": [
       "<span style=\"color:#33cc33\">Correct</span>"
      ],
      "text/plain": [
       "Correct"
      ]
     },
     "metadata": {},
     "output_type": "display_data"
    }
   ],
   "source": [
    "countries = reviews.country.unique()\n",
    "\n",
    "# Check your answer\n",
    "q2.check()"
   ]
  },
  {
   "cell_type": "code",
   "execution_count": 5,
   "id": "aa14c952",
   "metadata": {
    "execution": {
     "iopub.execute_input": "2023-12-11T14:59:25.248638Z",
     "iopub.status.busy": "2023-12-11T14:59:25.248254Z",
     "iopub.status.idle": "2023-12-11T14:59:25.252900Z",
     "shell.execute_reply": "2023-12-11T14:59:25.251837Z"
    },
    "papermill": {
     "duration": 0.015507,
     "end_time": "2023-12-11T14:59:25.254805",
     "exception": false,
     "start_time": "2023-12-11T14:59:25.239298",
     "status": "completed"
    },
    "tags": []
   },
   "outputs": [],
   "source": [
    "#q2.hint()\n",
    "#q2.solution()"
   ]
  },
  {
   "cell_type": "markdown",
   "id": "97a0e958",
   "metadata": {
    "papermill": {
     "duration": 0.005964,
     "end_time": "2023-12-11T14:59:25.267125",
     "exception": false,
     "start_time": "2023-12-11T14:59:25.261161",
     "status": "completed"
    },
    "tags": []
   },
   "source": [
    "## 3.\n",
    "How often does each country appear in the dataset? Create a Series `reviews_per_country` mapping countries to the count of reviews of wines from that country."
   ]
  },
  {
   "cell_type": "code",
   "execution_count": 6,
   "id": "7df713c4",
   "metadata": {
    "execution": {
     "iopub.execute_input": "2023-12-11T14:59:25.281600Z",
     "iopub.status.busy": "2023-12-11T14:59:25.281134Z",
     "iopub.status.idle": "2023-12-11T14:59:25.298309Z",
     "shell.execute_reply": "2023-12-11T14:59:25.296885Z"
    },
    "papermill": {
     "duration": 0.027169,
     "end_time": "2023-12-11T14:59:25.300523",
     "exception": false,
     "start_time": "2023-12-11T14:59:25.273354",
     "status": "completed"
    },
    "tags": []
   },
   "outputs": [
    {
     "data": {
      "application/javascript": [
       "parent.postMessage({\"jupyterEvent\": \"custom.exercise_interaction\", \"data\": {\"outcomeType\": 1, \"valueTowardsCompletion\": 0.14285714285714285, \"interactionType\": 1, \"questionType\": 1, \"questionId\": \"3_ReviewsPerCountry\", \"learnToolsVersion\": \"0.3.4\", \"failureMessage\": \"\", \"exceptionClass\": \"\", \"trace\": \"\"}}, \"*\")"
      ],
      "text/plain": [
       "<IPython.core.display.Javascript object>"
      ]
     },
     "metadata": {},
     "output_type": "display_data"
    },
    {
     "data": {
      "text/markdown": [
       "<span style=\"color:#33cc33\">Correct</span>"
      ],
      "text/plain": [
       "Correct"
      ]
     },
     "metadata": {},
     "output_type": "display_data"
    }
   ],
   "source": [
    "reviews_per_country = reviews.country.value_counts()\n",
    "\n",
    "# Check your answer\n",
    "q3.check()"
   ]
  },
  {
   "cell_type": "code",
   "execution_count": 7,
   "id": "40832954",
   "metadata": {
    "execution": {
     "iopub.execute_input": "2023-12-11T14:59:25.317254Z",
     "iopub.status.busy": "2023-12-11T14:59:25.316556Z",
     "iopub.status.idle": "2023-12-11T14:59:25.321244Z",
     "shell.execute_reply": "2023-12-11T14:59:25.319950Z"
    },
    "papermill": {
     "duration": 0.015353,
     "end_time": "2023-12-11T14:59:25.323455",
     "exception": false,
     "start_time": "2023-12-11T14:59:25.308102",
     "status": "completed"
    },
    "tags": []
   },
   "outputs": [],
   "source": [
    "# q3.hint()\n",
    "# q3.solution()"
   ]
  },
  {
   "cell_type": "markdown",
   "id": "0e5879df",
   "metadata": {
    "papermill": {
     "duration": 0.008099,
     "end_time": "2023-12-11T14:59:25.339463",
     "exception": false,
     "start_time": "2023-12-11T14:59:25.331364",
     "status": "completed"
    },
    "tags": []
   },
   "source": [
    "## 4.\n",
    "Create variable `centered_price` containing a version of the `price` column with the mean price subtracted.\n",
    "\n",
    "(Note: this 'centering' transformation is a common preprocessing step before applying various machine learning algorithms.) "
   ]
  },
  {
   "cell_type": "code",
   "execution_count": 8,
   "id": "1a108833",
   "metadata": {
    "execution": {
     "iopub.execute_input": "2023-12-11T14:59:25.358334Z",
     "iopub.status.busy": "2023-12-11T14:59:25.357591Z",
     "iopub.status.idle": "2023-12-11T14:59:25.370950Z",
     "shell.execute_reply": "2023-12-11T14:59:25.369293Z"
    },
    "papermill": {
     "duration": 0.027007,
     "end_time": "2023-12-11T14:59:25.373934",
     "exception": false,
     "start_time": "2023-12-11T14:59:25.346927",
     "status": "completed"
    },
    "tags": []
   },
   "outputs": [
    {
     "data": {
      "application/javascript": [
       "parent.postMessage({\"jupyterEvent\": \"custom.exercise_interaction\", \"data\": {\"outcomeType\": 1, \"valueTowardsCompletion\": 0.14285714285714285, \"interactionType\": 1, \"questionType\": 1, \"questionId\": \"4_CenteredPrice\", \"learnToolsVersion\": \"0.3.4\", \"failureMessage\": \"\", \"exceptionClass\": \"\", \"trace\": \"\"}}, \"*\")"
      ],
      "text/plain": [
       "<IPython.core.display.Javascript object>"
      ]
     },
     "metadata": {},
     "output_type": "display_data"
    },
    {
     "data": {
      "text/markdown": [
       "<span style=\"color:#33cc33\">Correct</span>"
      ],
      "text/plain": [
       "Correct"
      ]
     },
     "metadata": {},
     "output_type": "display_data"
    }
   ],
   "source": [
    "centered_price = reviews.price - reviews.price.mean()\n",
    "\n",
    "# Check your answer\n",
    "q4.check()"
   ]
  },
  {
   "cell_type": "code",
   "execution_count": 9,
   "id": "71f2cea2",
   "metadata": {
    "execution": {
     "iopub.execute_input": "2023-12-11T14:59:25.391474Z",
     "iopub.status.busy": "2023-12-11T14:59:25.390848Z",
     "iopub.status.idle": "2023-12-11T14:59:25.394683Z",
     "shell.execute_reply": "2023-12-11T14:59:25.394054Z"
    },
    "papermill": {
     "duration": 0.013949,
     "end_time": "2023-12-11T14:59:25.396264",
     "exception": false,
     "start_time": "2023-12-11T14:59:25.382315",
     "status": "completed"
    },
    "tags": []
   },
   "outputs": [],
   "source": [
    "# q4.hint()\n",
    "# q4.solution()"
   ]
  },
  {
   "cell_type": "markdown",
   "id": "9c91b0ce",
   "metadata": {
    "papermill": {
     "duration": 0.007239,
     "end_time": "2023-12-11T14:59:25.411424",
     "exception": false,
     "start_time": "2023-12-11T14:59:25.404185",
     "status": "completed"
    },
    "tags": []
   },
   "source": [
    "## 5.\n",
    "I'm an economical wine buyer. Which wine is the \"best bargain\"? Create a variable `bargain_wine` with the title of the wine with the highest points-to-price ratio in the dataset."
   ]
  },
  {
   "cell_type": "code",
   "execution_count": 10,
   "id": "39ccbeba",
   "metadata": {
    "execution": {
     "iopub.execute_input": "2023-12-11T14:59:25.429866Z",
     "iopub.status.busy": "2023-12-11T14:59:25.428914Z",
     "iopub.status.idle": "2023-12-11T14:59:25.446017Z",
     "shell.execute_reply": "2023-12-11T14:59:25.443887Z"
    },
    "papermill": {
     "duration": 0.029034,
     "end_time": "2023-12-11T14:59:25.448763",
     "exception": false,
     "start_time": "2023-12-11T14:59:25.419729",
     "status": "completed"
    },
    "tags": []
   },
   "outputs": [
    {
     "data": {
      "application/javascript": [
       "parent.postMessage({\"jupyterEvent\": \"custom.exercise_interaction\", \"data\": {\"outcomeType\": 1, \"valueTowardsCompletion\": 0.14285714285714285, \"interactionType\": 1, \"questionType\": 2, \"questionId\": \"5_BargainWine\", \"learnToolsVersion\": \"0.3.4\", \"failureMessage\": \"\", \"exceptionClass\": \"\", \"trace\": \"\"}}, \"*\")"
      ],
      "text/plain": [
       "<IPython.core.display.Javascript object>"
      ]
     },
     "metadata": {},
     "output_type": "display_data"
    },
    {
     "data": {
      "text/markdown": [
       "<span style=\"color:#33cc33\">Correct</span>"
      ],
      "text/plain": [
       "Correct"
      ]
     },
     "metadata": {},
     "output_type": "display_data"
    }
   ],
   "source": [
    "bargain_wine = reviews.loc[(reviews.points / reviews.price).idxmax(),'title']\n",
    "\n",
    "# Check your answer\n",
    "q5.check()"
   ]
  },
  {
   "cell_type": "code",
   "execution_count": 11,
   "id": "e10a2dbf",
   "metadata": {
    "execution": {
     "iopub.execute_input": "2023-12-11T14:59:25.467577Z",
     "iopub.status.busy": "2023-12-11T14:59:25.467188Z",
     "iopub.status.idle": "2023-12-11T14:59:25.473783Z",
     "shell.execute_reply": "2023-12-11T14:59:25.471110Z"
    },
    "papermill": {
     "duration": 0.018152,
     "end_time": "2023-12-11T14:59:25.476298",
     "exception": false,
     "start_time": "2023-12-11T14:59:25.458146",
     "status": "completed"
    },
    "tags": []
   },
   "outputs": [],
   "source": [
    "#q5.hint()\n",
    "# q5.solution()"
   ]
  },
  {
   "cell_type": "markdown",
   "id": "f3b6d4ee",
   "metadata": {
    "papermill": {
     "duration": 0.006431,
     "end_time": "2023-12-11T14:59:25.489981",
     "exception": false,
     "start_time": "2023-12-11T14:59:25.483550",
     "status": "completed"
    },
    "tags": []
   },
   "source": [
    "## 6.\n",
    "There are only so many words you can use when describing a bottle of wine. Is a wine more likely to be \"tropical\" or \"fruity\"? Create a Series `descriptor_counts` counting how many times each of these two words appears in the `description` column in the dataset. (For simplicity, let's ignore the capitalized versions of these words.)"
   ]
  },
  {
   "cell_type": "code",
   "execution_count": 12,
   "id": "88bef242",
   "metadata": {
    "execution": {
     "iopub.execute_input": "2023-12-11T14:59:25.504603Z",
     "iopub.status.busy": "2023-12-11T14:59:25.504264Z",
     "iopub.status.idle": "2023-12-11T14:59:25.512694Z",
     "shell.execute_reply": "2023-12-11T14:59:25.510983Z"
    },
    "papermill": {
     "duration": 0.018154,
     "end_time": "2023-12-11T14:59:25.514654",
     "exception": false,
     "start_time": "2023-12-11T14:59:25.496500",
     "status": "completed"
    },
    "tags": []
   },
   "outputs": [
    {
     "data": {
      "application/javascript": [
       "parent.postMessage({\"jupyterEvent\": \"custom.exercise_interaction\", \"data\": {\"outcomeType\": 4, \"interactionType\": 1, \"questionType\": 1, \"questionId\": \"6_DescriptorCounts\", \"learnToolsVersion\": \"0.3.4\", \"valueTowardsCompletion\": 0.0, \"failureMessage\": \"\", \"exceptionClass\": \"\", \"trace\": \"\"}}, \"*\")"
      ],
      "text/plain": [
       "<IPython.core.display.Javascript object>"
      ]
     },
     "metadata": {},
     "output_type": "display_data"
    },
    {
     "data": {
      "text/markdown": [
       "<span style=\"color:#ccaa33\">Check:</span> When you've updated the starter code, `check()` will tell you whether your code is correct. You need to update the code that creates variable `descriptor_counts`"
      ],
      "text/plain": [
       "Check: When you've updated the starter code, `check()` will tell you whether your code is correct. You need to update the code that creates variable `descriptor_counts`"
      ]
     },
     "metadata": {},
     "output_type": "display_data"
    }
   ],
   "source": [
    "descriptor_counts = ____\n",
    "\n",
    "# Check your answer\n",
    "q6.check()"
   ]
  },
  {
   "cell_type": "code",
   "execution_count": 13,
   "id": "6f129909",
   "metadata": {
    "execution": {
     "iopub.execute_input": "2023-12-11T14:59:25.530593Z",
     "iopub.status.busy": "2023-12-11T14:59:25.529987Z",
     "iopub.status.idle": "2023-12-11T14:59:25.535707Z",
     "shell.execute_reply": "2023-12-11T14:59:25.534333Z"
    },
    "papermill": {
     "duration": 0.016482,
     "end_time": "2023-12-11T14:59:25.538343",
     "exception": false,
     "start_time": "2023-12-11T14:59:25.521861",
     "status": "completed"
    },
    "tags": []
   },
   "outputs": [],
   "source": [
    "#q6.hint()\n",
    "#q6.solution()"
   ]
  },
  {
   "cell_type": "markdown",
   "id": "c50e2003",
   "metadata": {
    "papermill": {
     "duration": 0.006607,
     "end_time": "2023-12-11T14:59:25.552243",
     "exception": false,
     "start_time": "2023-12-11T14:59:25.545636",
     "status": "completed"
    },
    "tags": []
   },
   "source": [
    "## 7.\n",
    "We'd like to host these wine reviews on our website, but a rating system ranging from 80 to 100 points is too hard to understand - we'd like to translate them into simple star ratings. A score of 95 or higher counts as 3 stars, a score of at least 85 but less than 95 is 2 stars. Any other score is 1 star.\n",
    "\n",
    "Also, the Canadian Vintners Association bought a lot of ads on the site, so any wines from Canada should automatically get 3 stars, regardless of points.\n",
    "\n",
    "Create a series `star_ratings` with the number of stars corresponding to each review in the dataset."
   ]
  },
  {
   "cell_type": "code",
   "execution_count": 14,
   "id": "8595dfd9",
   "metadata": {
    "execution": {
     "iopub.execute_input": "2023-12-11T14:59:25.568934Z",
     "iopub.status.busy": "2023-12-11T14:59:25.568461Z",
     "iopub.status.idle": "2023-12-11T14:59:25.580822Z",
     "shell.execute_reply": "2023-12-11T14:59:25.577801Z"
    },
    "papermill": {
     "duration": 0.024814,
     "end_time": "2023-12-11T14:59:25.583880",
     "exception": false,
     "start_time": "2023-12-11T14:59:25.559066",
     "status": "completed"
    },
    "tags": []
   },
   "outputs": [
    {
     "data": {
      "application/javascript": [
       "parent.postMessage({\"jupyterEvent\": \"custom.exercise_interaction\", \"data\": {\"outcomeType\": 4, \"interactionType\": 1, \"questionType\": 1, \"questionId\": \"7_StarRatings\", \"learnToolsVersion\": \"0.3.4\", \"valueTowardsCompletion\": 0.0, \"failureMessage\": \"\", \"exceptionClass\": \"\", \"trace\": \"\"}}, \"*\")"
      ],
      "text/plain": [
       "<IPython.core.display.Javascript object>"
      ]
     },
     "metadata": {},
     "output_type": "display_data"
    },
    {
     "data": {
      "text/markdown": [
       "<span style=\"color:#ccaa33\">Check:</span> When you've updated the starter code, `check()` will tell you whether your code is correct. You need to update the code that creates variable `star_ratings`"
      ],
      "text/plain": [
       "Check: When you've updated the starter code, `check()` will tell you whether your code is correct. You need to update the code that creates variable `star_ratings`"
      ]
     },
     "metadata": {},
     "output_type": "display_data"
    }
   ],
   "source": [
    "star_ratings = ____\n",
    "\n",
    "# Check your answer\n",
    "q7.check()"
   ]
  },
  {
   "cell_type": "code",
   "execution_count": 15,
   "id": "f072e623",
   "metadata": {
    "execution": {
     "iopub.execute_input": "2023-12-11T14:59:25.607297Z",
     "iopub.status.busy": "2023-12-11T14:59:25.606921Z",
     "iopub.status.idle": "2023-12-11T14:59:25.611687Z",
     "shell.execute_reply": "2023-12-11T14:59:25.610427Z"
    },
    "papermill": {
     "duration": 0.018759,
     "end_time": "2023-12-11T14:59:25.613677",
     "exception": false,
     "start_time": "2023-12-11T14:59:25.594918",
     "status": "completed"
    },
    "tags": []
   },
   "outputs": [],
   "source": [
    "#q7.hint()\n",
    "#q7.solution()"
   ]
  },
  {
   "cell_type": "markdown",
   "id": "ed3f6ee7",
   "metadata": {
    "papermill": {
     "duration": 0.00921,
     "end_time": "2023-12-11T14:59:25.632488",
     "exception": false,
     "start_time": "2023-12-11T14:59:25.623278",
     "status": "completed"
    },
    "tags": []
   },
   "source": [
    "# Keep going\n",
    "Continue to **[grouping and sorting](https://www.kaggle.com/residentmario/grouping-and-sorting)**."
   ]
  },
  {
   "cell_type": "markdown",
   "id": "3a889c50",
   "metadata": {
    "papermill": {
     "duration": 0.007251,
     "end_time": "2023-12-11T14:59:25.647815",
     "exception": false,
     "start_time": "2023-12-11T14:59:25.640564",
     "status": "completed"
    },
    "tags": []
   },
   "source": [
    "---\n",
    "\n",
    "\n",
    "\n",
    "\n",
    "*Have questions or comments? Visit the [course discussion forum](https://www.kaggle.com/learn/pandas/discussion) to chat with other learners.*"
   ]
  }
 ],
 "metadata": {
  "kaggle": {
   "accelerator": "none",
   "dataSources": [
    {
     "datasetId": 655,
     "sourceId": 1252,
     "sourceType": "datasetVersion"
    },
    {
     "datasetId": 2321,
     "sourceId": 3919,
     "sourceType": "datasetVersion"
    },
    {
     "datasetId": 2894,
     "sourceId": 4877,
     "sourceType": "datasetVersion"
    },
    {
     "datasetId": 3491,
     "sourceId": 5624,
     "sourceType": "datasetVersion"
    },
    {
     "datasetId": 1442,
     "sourceId": 8172,
     "sourceType": "datasetVersion"
    },
    {
     "datasetId": 9366,
     "sourceId": 13206,
     "sourceType": "datasetVersion"
    },
    {
     "datasetId": 179555,
     "sourceId": 403916,
     "sourceType": "datasetVersion"
    },
    {
     "datasetId": 4549,
     "sourceId": 466349,
     "sourceType": "datasetVersion"
    },
    {
     "datasetId": 2478,
     "sourceId": 1151655,
     "sourceType": "datasetVersion"
    },
    {
     "datasetId": 10128,
     "sourceId": 5438389,
     "sourceType": "datasetVersion"
    }
   ],
   "isGpuEnabled": false,
   "isInternetEnabled": false,
   "language": "python",
   "sourceType": "notebook"
  },
  "kernelspec": {
   "display_name": "Python 3",
   "language": "python",
   "name": "python3"
  },
  "language_info": {
   "codemirror_mode": {
    "name": "ipython",
    "version": 3
   },
   "file_extension": ".py",
   "mimetype": "text/x-python",
   "name": "python",
   "nbconvert_exporter": "python",
   "pygments_lexer": "ipython3",
   "version": "3.10.12"
  },
  "papermill": {
   "default_parameters": {},
   "duration": 9.856966,
   "end_time": "2023-12-11T14:59:26.176116",
   "environment_variables": {},
   "exception": null,
   "input_path": "__notebook__.ipynb",
   "output_path": "__notebook__.ipynb",
   "parameters": {},
   "start_time": "2023-12-11T14:59:16.319150",
   "version": "2.4.0"
  }
 },
 "nbformat": 4,
 "nbformat_minor": 5
}
