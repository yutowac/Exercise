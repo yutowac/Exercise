{
 "cells": [
  {
   "cell_type": "markdown",
   "id": "a426d8a5",
   "metadata": {
    "papermill": {
     "duration": 0.008866,
     "end_time": "2023-12-12T05:51:44.982573",
     "exception": false,
     "start_time": "2023-12-12T05:51:44.973707",
     "status": "completed"
    },
    "tags": []
   },
   "source": [
    "**This notebook is an exercise in the [Pandas](https://www.kaggle.com/learn/pandas) course.  You can reference the tutorial at [this link](https://www.kaggle.com/residentmario/summary-functions-and-maps).**\n",
    "\n",
    "---\n"
   ]
  },
  {
   "cell_type": "markdown",
   "id": "bd9491ec",
   "metadata": {
    "papermill": {
     "duration": 0.008725,
     "end_time": "2023-12-12T05:51:44.999858",
     "exception": false,
     "start_time": "2023-12-12T05:51:44.991133",
     "status": "completed"
    },
    "tags": []
   },
   "source": [
    "# Introduction\n",
    "\n",
    "Now you are ready to get a deeper understanding of your data.\n",
    "\n",
    "Run the following cell to load your data and some utility functions (including code to check your answers)."
   ]
  },
  {
   "cell_type": "code",
   "execution_count": 1,
   "id": "451178b8",
   "metadata": {
    "execution": {
     "iopub.execute_input": "2023-12-12T05:51:45.019215Z",
     "iopub.status.busy": "2023-12-12T05:51:45.018746Z",
     "iopub.status.idle": "2023-12-12T05:51:53.879668Z",
     "shell.execute_reply": "2023-12-12T05:51:53.878316Z"
    },
    "papermill": {
     "duration": 8.874235,
     "end_time": "2023-12-12T05:51:53.882600",
     "exception": false,
     "start_time": "2023-12-12T05:51:45.008365",
     "status": "completed"
    },
    "tags": []
   },
   "outputs": [
    {
     "name": "stdout",
     "output_type": "stream",
     "text": [
      "Setup complete.\n"
     ]
    },
    {
     "data": {
      "text/html": [
       "<div>\n",
       "<style scoped>\n",
       "    .dataframe tbody tr th:only-of-type {\n",
       "        vertical-align: middle;\n",
       "    }\n",
       "\n",
       "    .dataframe tbody tr th {\n",
       "        vertical-align: top;\n",
       "    }\n",
       "\n",
       "    .dataframe thead th {\n",
       "        text-align: right;\n",
       "    }\n",
       "</style>\n",
       "<table border=\"1\" class=\"dataframe\">\n",
       "  <thead>\n",
       "    <tr style=\"text-align: right;\">\n",
       "      <th></th>\n",
       "      <th>country</th>\n",
       "      <th>description</th>\n",
       "      <th>designation</th>\n",
       "      <th>points</th>\n",
       "      <th>price</th>\n",
       "      <th>province</th>\n",
       "      <th>region_1</th>\n",
       "      <th>region_2</th>\n",
       "      <th>taster_name</th>\n",
       "      <th>taster_twitter_handle</th>\n",
       "      <th>title</th>\n",
       "      <th>variety</th>\n",
       "      <th>winery</th>\n",
       "    </tr>\n",
       "  </thead>\n",
       "  <tbody>\n",
       "    <tr>\n",
       "      <th>0</th>\n",
       "      <td>Italy</td>\n",
       "      <td>Aromas include tropical fruit, broom, brimston...</td>\n",
       "      <td>Vulkà Bianco</td>\n",
       "      <td>87</td>\n",
       "      <td>NaN</td>\n",
       "      <td>Sicily &amp; Sardinia</td>\n",
       "      <td>Etna</td>\n",
       "      <td>NaN</td>\n",
       "      <td>Kerin O’Keefe</td>\n",
       "      <td>@kerinokeefe</td>\n",
       "      <td>Nicosia 2013 Vulkà Bianco  (Etna)</td>\n",
       "      <td>White Blend</td>\n",
       "      <td>Nicosia</td>\n",
       "    </tr>\n",
       "    <tr>\n",
       "      <th>1</th>\n",
       "      <td>Portugal</td>\n",
       "      <td>This is ripe and fruity, a wine that is smooth...</td>\n",
       "      <td>Avidagos</td>\n",
       "      <td>87</td>\n",
       "      <td>15.0</td>\n",
       "      <td>Douro</td>\n",
       "      <td>NaN</td>\n",
       "      <td>NaN</td>\n",
       "      <td>Roger Voss</td>\n",
       "      <td>@vossroger</td>\n",
       "      <td>Quinta dos Avidagos 2011 Avidagos Red (Douro)</td>\n",
       "      <td>Portuguese Red</td>\n",
       "      <td>Quinta dos Avidagos</td>\n",
       "    </tr>\n",
       "    <tr>\n",
       "      <th>2</th>\n",
       "      <td>US</td>\n",
       "      <td>Tart and snappy, the flavors of lime flesh and...</td>\n",
       "      <td>NaN</td>\n",
       "      <td>87</td>\n",
       "      <td>14.0</td>\n",
       "      <td>Oregon</td>\n",
       "      <td>Willamette Valley</td>\n",
       "      <td>Willamette Valley</td>\n",
       "      <td>Paul Gregutt</td>\n",
       "      <td>@paulgwine</td>\n",
       "      <td>Rainstorm 2013 Pinot Gris (Willamette Valley)</td>\n",
       "      <td>Pinot Gris</td>\n",
       "      <td>Rainstorm</td>\n",
       "    </tr>\n",
       "    <tr>\n",
       "      <th>3</th>\n",
       "      <td>US</td>\n",
       "      <td>Pineapple rind, lemon pith and orange blossom ...</td>\n",
       "      <td>Reserve Late Harvest</td>\n",
       "      <td>87</td>\n",
       "      <td>13.0</td>\n",
       "      <td>Michigan</td>\n",
       "      <td>Lake Michigan Shore</td>\n",
       "      <td>NaN</td>\n",
       "      <td>Alexander Peartree</td>\n",
       "      <td>NaN</td>\n",
       "      <td>St. Julian 2013 Reserve Late Harvest Riesling ...</td>\n",
       "      <td>Riesling</td>\n",
       "      <td>St. Julian</td>\n",
       "    </tr>\n",
       "    <tr>\n",
       "      <th>4</th>\n",
       "      <td>US</td>\n",
       "      <td>Much like the regular bottling from 2012, this...</td>\n",
       "      <td>Vintner's Reserve Wild Child Block</td>\n",
       "      <td>87</td>\n",
       "      <td>65.0</td>\n",
       "      <td>Oregon</td>\n",
       "      <td>Willamette Valley</td>\n",
       "      <td>Willamette Valley</td>\n",
       "      <td>Paul Gregutt</td>\n",
       "      <td>@paulgwine</td>\n",
       "      <td>Sweet Cheeks 2012 Vintner's Reserve Wild Child...</td>\n",
       "      <td>Pinot Noir</td>\n",
       "      <td>Sweet Cheeks</td>\n",
       "    </tr>\n",
       "  </tbody>\n",
       "</table>\n",
       "</div>"
      ],
      "text/plain": [
       "    country                                        description  \\\n",
       "0     Italy  Aromas include tropical fruit, broom, brimston...   \n",
       "1  Portugal  This is ripe and fruity, a wine that is smooth...   \n",
       "2        US  Tart and snappy, the flavors of lime flesh and...   \n",
       "3        US  Pineapple rind, lemon pith and orange blossom ...   \n",
       "4        US  Much like the regular bottling from 2012, this...   \n",
       "\n",
       "                          designation  points  price           province  \\\n",
       "0                        Vulkà Bianco      87    NaN  Sicily & Sardinia   \n",
       "1                            Avidagos      87   15.0              Douro   \n",
       "2                                 NaN      87   14.0             Oregon   \n",
       "3                Reserve Late Harvest      87   13.0           Michigan   \n",
       "4  Vintner's Reserve Wild Child Block      87   65.0             Oregon   \n",
       "\n",
       "              region_1           region_2         taster_name  \\\n",
       "0                 Etna                NaN       Kerin O’Keefe   \n",
       "1                  NaN                NaN          Roger Voss   \n",
       "2    Willamette Valley  Willamette Valley        Paul Gregutt   \n",
       "3  Lake Michigan Shore                NaN  Alexander Peartree   \n",
       "4    Willamette Valley  Willamette Valley        Paul Gregutt   \n",
       "\n",
       "  taster_twitter_handle                                              title  \\\n",
       "0          @kerinokeefe                  Nicosia 2013 Vulkà Bianco  (Etna)   \n",
       "1            @vossroger      Quinta dos Avidagos 2011 Avidagos Red (Douro)   \n",
       "2           @paulgwine       Rainstorm 2013 Pinot Gris (Willamette Valley)   \n",
       "3                   NaN  St. Julian 2013 Reserve Late Harvest Riesling ...   \n",
       "4           @paulgwine   Sweet Cheeks 2012 Vintner's Reserve Wild Child...   \n",
       "\n",
       "          variety               winery  \n",
       "0     White Blend              Nicosia  \n",
       "1  Portuguese Red  Quinta dos Avidagos  \n",
       "2      Pinot Gris            Rainstorm  \n",
       "3        Riesling           St. Julian  \n",
       "4      Pinot Noir         Sweet Cheeks  "
      ]
     },
     "execution_count": 1,
     "metadata": {},
     "output_type": "execute_result"
    }
   ],
   "source": [
    "import pandas as pd\n",
    "pd.set_option(\"display.max_rows\", 5)\n",
    "reviews = pd.read_csv(\"../input/wine-reviews/winemag-data-130k-v2.csv\", index_col=0)\n",
    "\n",
    "from learntools.core import binder; binder.bind(globals())\n",
    "from learntools.pandas.summary_functions_and_maps import *\n",
    "print(\"Setup complete.\")\n",
    "\n",
    "reviews.head()"
   ]
  },
  {
   "cell_type": "markdown",
   "id": "2d2ea4b0",
   "metadata": {
    "papermill": {
     "duration": 0.008728,
     "end_time": "2023-12-12T05:51:53.900440",
     "exception": false,
     "start_time": "2023-12-12T05:51:53.891712",
     "status": "completed"
    },
    "tags": []
   },
   "source": [
    "# Exercises"
   ]
  },
  {
   "cell_type": "markdown",
   "id": "73d83d0b",
   "metadata": {
    "papermill": {
     "duration": 0.008787,
     "end_time": "2023-12-12T05:51:53.918249",
     "exception": false,
     "start_time": "2023-12-12T05:51:53.909462",
     "status": "completed"
    },
    "tags": []
   },
   "source": [
    "## 1.\n",
    "\n",
    "What is the median of the `points` column in the `reviews` DataFrame?"
   ]
  },
  {
   "cell_type": "code",
   "execution_count": 2,
   "id": "fd47b141",
   "metadata": {
    "execution": {
     "iopub.execute_input": "2023-12-12T05:51:53.938790Z",
     "iopub.status.busy": "2023-12-12T05:51:53.938398Z",
     "iopub.status.idle": "2023-12-12T05:51:53.950754Z",
     "shell.execute_reply": "2023-12-12T05:51:53.949879Z"
    },
    "papermill": {
     "duration": 0.025686,
     "end_time": "2023-12-12T05:51:53.952918",
     "exception": false,
     "start_time": "2023-12-12T05:51:53.927232",
     "status": "completed"
    },
    "tags": []
   },
   "outputs": [
    {
     "data": {
      "application/javascript": [
       "parent.postMessage({\"jupyterEvent\": \"custom.exercise_interaction\", \"data\": {\"outcomeType\": 1, \"valueTowardsCompletion\": 0.14285714285714285, \"interactionType\": 1, \"questionType\": 1, \"questionId\": \"1_MedianPoints\", \"learnToolsVersion\": \"0.3.4\", \"failureMessage\": \"\", \"exceptionClass\": \"\", \"trace\": \"\"}}, \"*\")"
      ],
      "text/plain": [
       "<IPython.core.display.Javascript object>"
      ]
     },
     "metadata": {},
     "output_type": "display_data"
    },
    {
     "data": {
      "text/markdown": [
       "<span style=\"color:#33cc33\">Correct</span>"
      ],
      "text/plain": [
       "Correct"
      ]
     },
     "metadata": {},
     "output_type": "display_data"
    }
   ],
   "source": [
    "median_points = reviews.points.median()\n",
    "\n",
    "# Check your answer\n",
    "q1.check()"
   ]
  },
  {
   "cell_type": "code",
   "execution_count": 3,
   "id": "f492352f",
   "metadata": {
    "execution": {
     "iopub.execute_input": "2023-12-12T05:51:53.974521Z",
     "iopub.status.busy": "2023-12-12T05:51:53.973405Z",
     "iopub.status.idle": "2023-12-12T05:51:53.977981Z",
     "shell.execute_reply": "2023-12-12T05:51:53.977112Z"
    },
    "papermill": {
     "duration": 0.017462,
     "end_time": "2023-12-12T05:51:53.980118",
     "exception": false,
     "start_time": "2023-12-12T05:51:53.962656",
     "status": "completed"
    },
    "tags": []
   },
   "outputs": [],
   "source": [
    "#q1.hint()\n",
    "#q1.solution()"
   ]
  },
  {
   "cell_type": "markdown",
   "id": "6452a0ba",
   "metadata": {
    "papermill": {
     "duration": 0.00906,
     "end_time": "2023-12-12T05:51:53.998454",
     "exception": false,
     "start_time": "2023-12-12T05:51:53.989394",
     "status": "completed"
    },
    "tags": []
   },
   "source": [
    "## 2. \n",
    "What countries are represented in the dataset? (Your answer should not include any duplicates.)"
   ]
  },
  {
   "cell_type": "code",
   "execution_count": 4,
   "id": "de22393c",
   "metadata": {
    "execution": {
     "iopub.execute_input": "2023-12-12T05:51:54.018813Z",
     "iopub.status.busy": "2023-12-12T05:51:54.018417Z",
     "iopub.status.idle": "2023-12-12T05:51:54.040472Z",
     "shell.execute_reply": "2023-12-12T05:51:54.039347Z"
    },
    "papermill": {
     "duration": 0.035201,
     "end_time": "2023-12-12T05:51:54.042921",
     "exception": false,
     "start_time": "2023-12-12T05:51:54.007720",
     "status": "completed"
    },
    "tags": []
   },
   "outputs": [
    {
     "data": {
      "application/javascript": [
       "parent.postMessage({\"jupyterEvent\": \"custom.exercise_interaction\", \"data\": {\"outcomeType\": 1, \"valueTowardsCompletion\": 0.14285714285714285, \"interactionType\": 1, \"questionType\": 2, \"questionId\": \"2_UniqueCountries\", \"learnToolsVersion\": \"0.3.4\", \"failureMessage\": \"\", \"exceptionClass\": \"\", \"trace\": \"\"}}, \"*\")"
      ],
      "text/plain": [
       "<IPython.core.display.Javascript object>"
      ]
     },
     "metadata": {},
     "output_type": "display_data"
    },
    {
     "data": {
      "text/markdown": [
       "<span style=\"color:#33cc33\">Correct</span>"
      ],
      "text/plain": [
       "Correct"
      ]
     },
     "metadata": {},
     "output_type": "display_data"
    }
   ],
   "source": [
    "countries = reviews.country.unique()\n",
    "\n",
    "# Check your answer\n",
    "q2.check()"
   ]
  },
  {
   "cell_type": "code",
   "execution_count": 5,
   "id": "742cfc48",
   "metadata": {
    "execution": {
     "iopub.execute_input": "2023-12-12T05:51:54.064338Z",
     "iopub.status.busy": "2023-12-12T05:51:54.063661Z",
     "iopub.status.idle": "2023-12-12T05:51:54.067968Z",
     "shell.execute_reply": "2023-12-12T05:51:54.067196Z"
    },
    "papermill": {
     "duration": 0.01767,
     "end_time": "2023-12-12T05:51:54.070118",
     "exception": false,
     "start_time": "2023-12-12T05:51:54.052448",
     "status": "completed"
    },
    "tags": []
   },
   "outputs": [],
   "source": [
    "#q2.hint()\n",
    "#q2.solution()"
   ]
  },
  {
   "cell_type": "markdown",
   "id": "f3fcff81",
   "metadata": {
    "papermill": {
     "duration": 0.009549,
     "end_time": "2023-12-12T05:51:54.089384",
     "exception": false,
     "start_time": "2023-12-12T05:51:54.079835",
     "status": "completed"
    },
    "tags": []
   },
   "source": [
    "## 3.\n",
    "How often does each country appear in the dataset? Create a Series `reviews_per_country` mapping countries to the count of reviews of wines from that country."
   ]
  },
  {
   "cell_type": "code",
   "execution_count": 6,
   "id": "c763eac3",
   "metadata": {
    "execution": {
     "iopub.execute_input": "2023-12-12T05:51:54.111266Z",
     "iopub.status.busy": "2023-12-12T05:51:54.110614Z",
     "iopub.status.idle": "2023-12-12T05:51:54.140534Z",
     "shell.execute_reply": "2023-12-12T05:51:54.139113Z"
    },
    "papermill": {
     "duration": 0.04333,
     "end_time": "2023-12-12T05:51:54.143030",
     "exception": false,
     "start_time": "2023-12-12T05:51:54.099700",
     "status": "completed"
    },
    "tags": []
   },
   "outputs": [
    {
     "data": {
      "application/javascript": [
       "parent.postMessage({\"jupyterEvent\": \"custom.exercise_interaction\", \"data\": {\"outcomeType\": 1, \"valueTowardsCompletion\": 0.14285714285714285, \"interactionType\": 1, \"questionType\": 1, \"questionId\": \"3_ReviewsPerCountry\", \"learnToolsVersion\": \"0.3.4\", \"failureMessage\": \"\", \"exceptionClass\": \"\", \"trace\": \"\"}}, \"*\")"
      ],
      "text/plain": [
       "<IPython.core.display.Javascript object>"
      ]
     },
     "metadata": {},
     "output_type": "display_data"
    },
    {
     "data": {
      "text/markdown": [
       "<span style=\"color:#33cc33\">Correct</span>"
      ],
      "text/plain": [
       "Correct"
      ]
     },
     "metadata": {},
     "output_type": "display_data"
    }
   ],
   "source": [
    "reviews_per_country = reviews.country.value_counts()\n",
    "\n",
    "# Check your answer\n",
    "q3.check()"
   ]
  },
  {
   "cell_type": "code",
   "execution_count": 7,
   "id": "32f8b6db",
   "metadata": {
    "execution": {
     "iopub.execute_input": "2023-12-12T05:51:54.165843Z",
     "iopub.status.busy": "2023-12-12T05:51:54.165226Z",
     "iopub.status.idle": "2023-12-12T05:51:54.169004Z",
     "shell.execute_reply": "2023-12-12T05:51:54.168232Z"
    },
    "papermill": {
     "duration": 0.018213,
     "end_time": "2023-12-12T05:51:54.171243",
     "exception": false,
     "start_time": "2023-12-12T05:51:54.153030",
     "status": "completed"
    },
    "tags": []
   },
   "outputs": [],
   "source": [
    "# q3.hint()\n",
    "# q3.solution()"
   ]
  },
  {
   "cell_type": "markdown",
   "id": "b2781732",
   "metadata": {
    "papermill": {
     "duration": 0.009646,
     "end_time": "2023-12-12T05:51:54.190963",
     "exception": false,
     "start_time": "2023-12-12T05:51:54.181317",
     "status": "completed"
    },
    "tags": []
   },
   "source": [
    "## 4.\n",
    "Create variable `centered_price` containing a version of the `price` column with the mean price subtracted.\n",
    "\n",
    "(Note: this 'centering' transformation is a common preprocessing step before applying various machine learning algorithms.) "
   ]
  },
  {
   "cell_type": "code",
   "execution_count": 8,
   "id": "fb60b1c2",
   "metadata": {
    "execution": {
     "iopub.execute_input": "2023-12-12T05:51:54.213304Z",
     "iopub.status.busy": "2023-12-12T05:51:54.212834Z",
     "iopub.status.idle": "2023-12-12T05:51:54.224537Z",
     "shell.execute_reply": "2023-12-12T05:51:54.223792Z"
    },
    "papermill": {
     "duration": 0.02563,
     "end_time": "2023-12-12T05:51:54.226757",
     "exception": false,
     "start_time": "2023-12-12T05:51:54.201127",
     "status": "completed"
    },
    "tags": []
   },
   "outputs": [
    {
     "data": {
      "application/javascript": [
       "parent.postMessage({\"jupyterEvent\": \"custom.exercise_interaction\", \"data\": {\"outcomeType\": 1, \"valueTowardsCompletion\": 0.14285714285714285, \"interactionType\": 1, \"questionType\": 1, \"questionId\": \"4_CenteredPrice\", \"learnToolsVersion\": \"0.3.4\", \"failureMessage\": \"\", \"exceptionClass\": \"\", \"trace\": \"\"}}, \"*\")"
      ],
      "text/plain": [
       "<IPython.core.display.Javascript object>"
      ]
     },
     "metadata": {},
     "output_type": "display_data"
    },
    {
     "data": {
      "text/markdown": [
       "<span style=\"color:#33cc33\">Correct</span>"
      ],
      "text/plain": [
       "Correct"
      ]
     },
     "metadata": {},
     "output_type": "display_data"
    }
   ],
   "source": [
    "centered_price = reviews.price - reviews.price.mean()\n",
    "\n",
    "# Check your answer\n",
    "q4.check()"
   ]
  },
  {
   "cell_type": "code",
   "execution_count": 9,
   "id": "c0d2b4e0",
   "metadata": {
    "execution": {
     "iopub.execute_input": "2023-12-12T05:51:54.249854Z",
     "iopub.status.busy": "2023-12-12T05:51:54.248801Z",
     "iopub.status.idle": "2023-12-12T05:51:54.253609Z",
     "shell.execute_reply": "2023-12-12T05:51:54.252537Z"
    },
    "papermill": {
     "duration": 0.018852,
     "end_time": "2023-12-12T05:51:54.255900",
     "exception": false,
     "start_time": "2023-12-12T05:51:54.237048",
     "status": "completed"
    },
    "tags": []
   },
   "outputs": [],
   "source": [
    "# q4.hint()\n",
    "# q4.solution()"
   ]
  },
  {
   "cell_type": "markdown",
   "id": "4f3256d9",
   "metadata": {
    "papermill": {
     "duration": 0.00979,
     "end_time": "2023-12-12T05:51:54.276041",
     "exception": false,
     "start_time": "2023-12-12T05:51:54.266251",
     "status": "completed"
    },
    "tags": []
   },
   "source": [
    "## 5.\n",
    "I'm an economical wine buyer. Which wine is the \"best bargain\"? Create a variable `bargain_wine` with the title of the wine with the highest points-to-price ratio in the dataset."
   ]
  },
  {
   "cell_type": "code",
   "execution_count": 10,
   "id": "827573cf",
   "metadata": {
    "execution": {
     "iopub.execute_input": "2023-12-12T05:51:54.297930Z",
     "iopub.status.busy": "2023-12-12T05:51:54.297528Z",
     "iopub.status.idle": "2023-12-12T05:51:54.313599Z",
     "shell.execute_reply": "2023-12-12T05:51:54.312492Z"
    },
    "papermill": {
     "duration": 0.029769,
     "end_time": "2023-12-12T05:51:54.315968",
     "exception": false,
     "start_time": "2023-12-12T05:51:54.286199",
     "status": "completed"
    },
    "tags": []
   },
   "outputs": [
    {
     "data": {
      "application/javascript": [
       "parent.postMessage({\"jupyterEvent\": \"custom.exercise_interaction\", \"data\": {\"outcomeType\": 1, \"valueTowardsCompletion\": 0.14285714285714285, \"interactionType\": 1, \"questionType\": 2, \"questionId\": \"5_BargainWine\", \"learnToolsVersion\": \"0.3.4\", \"failureMessage\": \"\", \"exceptionClass\": \"\", \"trace\": \"\"}}, \"*\")"
      ],
      "text/plain": [
       "<IPython.core.display.Javascript object>"
      ]
     },
     "metadata": {},
     "output_type": "display_data"
    },
    {
     "data": {
      "text/markdown": [
       "<span style=\"color:#33cc33\">Correct</span>"
      ],
      "text/plain": [
       "Correct"
      ]
     },
     "metadata": {},
     "output_type": "display_data"
    }
   ],
   "source": [
    "bargain_wine = reviews.loc[(reviews.points / reviews.price).idxmax(),'title']\n",
    "\n",
    "# Check your answer\n",
    "q5.check()"
   ]
  },
  {
   "cell_type": "code",
   "execution_count": 11,
   "id": "04313bd0",
   "metadata": {
    "execution": {
     "iopub.execute_input": "2023-12-12T05:51:54.338942Z",
     "iopub.status.busy": "2023-12-12T05:51:54.338549Z",
     "iopub.status.idle": "2023-12-12T05:51:54.342401Z",
     "shell.execute_reply": "2023-12-12T05:51:54.341494Z"
    },
    "papermill": {
     "duration": 0.018018,
     "end_time": "2023-12-12T05:51:54.344596",
     "exception": false,
     "start_time": "2023-12-12T05:51:54.326578",
     "status": "completed"
    },
    "tags": []
   },
   "outputs": [],
   "source": [
    "#q5.hint()\n",
    "# q5.solution()"
   ]
  },
  {
   "cell_type": "markdown",
   "id": "d89faba9",
   "metadata": {
    "papermill": {
     "duration": 0.010328,
     "end_time": "2023-12-12T05:51:54.365653",
     "exception": false,
     "start_time": "2023-12-12T05:51:54.355325",
     "status": "completed"
    },
    "tags": []
   },
   "source": [
    "## 6.\n",
    "There are only so many words you can use when describing a bottle of wine. Is a wine more likely to be \"tropical\" or \"fruity\"? Create a Series `descriptor_counts` counting how many times each of these two words appears in the `description` column in the dataset. (For simplicity, let's ignore the capitalized versions of these words.)"
   ]
  },
  {
   "cell_type": "code",
   "execution_count": 12,
   "id": "3b565baa",
   "metadata": {
    "execution": {
     "iopub.execute_input": "2023-12-12T05:51:54.388991Z",
     "iopub.status.busy": "2023-12-12T05:51:54.388303Z",
     "iopub.status.idle": "2023-12-12T05:51:54.553214Z",
     "shell.execute_reply": "2023-12-12T05:51:54.552432Z"
    },
    "papermill": {
     "duration": 0.17904,
     "end_time": "2023-12-12T05:51:54.555300",
     "exception": false,
     "start_time": "2023-12-12T05:51:54.376260",
     "status": "completed"
    },
    "tags": []
   },
   "outputs": [
    {
     "data": {
      "application/javascript": [
       "parent.postMessage({\"jupyterEvent\": \"custom.exercise_interaction\", \"data\": {\"outcomeType\": 1, \"valueTowardsCompletion\": 0.14285714285714285, \"interactionType\": 1, \"questionType\": 1, \"questionId\": \"6_DescriptorCounts\", \"learnToolsVersion\": \"0.3.4\", \"failureMessage\": \"\", \"exceptionClass\": \"\", \"trace\": \"\"}}, \"*\")"
      ],
      "text/plain": [
       "<IPython.core.display.Javascript object>"
      ]
     },
     "metadata": {},
     "output_type": "display_data"
    },
    {
     "data": {
      "text/markdown": [
       "<span style=\"color:#33cc33\">Correct</span>"
      ],
      "text/plain": [
       "Correct"
      ]
     },
     "metadata": {},
     "output_type": "display_data"
    }
   ],
   "source": [
    "n_tropical = reviews.description.map(lambda words :\"tropical\" in words).sum()\n",
    "n_fruity = reviews.description.map(lambda words :\"fruity\" in words).sum()\n",
    "descriptor_counts = pd.Series([n_tropical, n_fruity], index=['tropical', 'fruity'])\n",
    "\n",
    "# Check your answer\n",
    "q6.check()"
   ]
  },
  {
   "cell_type": "code",
   "execution_count": 13,
   "id": "7628071b",
   "metadata": {
    "execution": {
     "iopub.execute_input": "2023-12-12T05:51:54.579502Z",
     "iopub.status.busy": "2023-12-12T05:51:54.578737Z",
     "iopub.status.idle": "2023-12-12T05:51:54.582556Z",
     "shell.execute_reply": "2023-12-12T05:51:54.581808Z"
    },
    "papermill": {
     "duration": 0.018394,
     "end_time": "2023-12-12T05:51:54.584690",
     "exception": false,
     "start_time": "2023-12-12T05:51:54.566296",
     "status": "completed"
    },
    "tags": []
   },
   "outputs": [],
   "source": [
    "#q6.hint()\n",
    "#q6.solution()"
   ]
  },
  {
   "cell_type": "markdown",
   "id": "24fcea01",
   "metadata": {
    "papermill": {
     "duration": 0.010899,
     "end_time": "2023-12-12T05:51:54.606593",
     "exception": false,
     "start_time": "2023-12-12T05:51:54.595694",
     "status": "completed"
    },
    "tags": []
   },
   "source": [
    "## 7.\n",
    "We'd like to host these wine reviews on our website, but a rating system ranging from 80 to 100 points is too hard to understand - we'd like to translate them into simple star ratings. A score of 95 or higher counts as 3 stars, a score of at least 85 but less than 95 is 2 stars. Any other score is 1 star.\n",
    "\n",
    "Also, the Canadian Vintners Association bought a lot of ads on the site, so any wines from Canada should automatically get 3 stars, regardless of points.\n",
    "\n",
    "Create a series `star_ratings` with the number of stars corresponding to each review in the dataset."
   ]
  },
  {
   "cell_type": "code",
   "execution_count": 14,
   "id": "0e26ac55",
   "metadata": {
    "execution": {
     "iopub.execute_input": "2023-12-12T05:51:54.630725Z",
     "iopub.status.busy": "2023-12-12T05:51:54.630060Z",
     "iopub.status.idle": "2023-12-12T05:51:54.740912Z",
     "shell.execute_reply": "2023-12-12T05:51:54.739746Z"
    },
    "papermill": {
     "duration": 0.125772,
     "end_time": "2023-12-12T05:51:54.743415",
     "exception": false,
     "start_time": "2023-12-12T05:51:54.617643",
     "status": "completed"
    },
    "tags": []
   },
   "outputs": [
    {
     "data": {
      "application/javascript": [
       "parent.postMessage({\"jupyterEvent\": \"custom.exercise_interaction\", \"data\": {\"outcomeType\": 1, \"valueTowardsCompletion\": 0.14285714285714285, \"interactionType\": 1, \"questionType\": 1, \"questionId\": \"7_StarRatings\", \"learnToolsVersion\": \"0.3.4\", \"failureMessage\": \"\", \"exceptionClass\": \"\", \"trace\": \"\"}}, \"*\")"
      ],
      "text/plain": [
       "<IPython.core.display.Javascript object>"
      ]
     },
     "metadata": {},
     "output_type": "display_data"
    },
    {
     "data": {
      "text/markdown": [
       "<span style=\"color:#33cc33\">Correct</span>"
      ],
      "text/plain": [
       "Correct"
      ]
     },
     "metadata": {},
     "output_type": "display_data"
    }
   ],
   "source": [
    "def star(x):\n",
    "    if x >= 95:\n",
    "        return 3\n",
    "    elif x>=85:\n",
    "        return 2\n",
    "    else:\n",
    "        return 1\n",
    "star_ratings = reviews.points.apply(star)\n",
    "\n",
    "# Check your answer\n",
    "q7.check()"
   ]
  },
  {
   "cell_type": "code",
   "execution_count": 15,
   "id": "43e67bcb",
   "metadata": {
    "execution": {
     "iopub.execute_input": "2023-12-12T05:51:54.767984Z",
     "iopub.status.busy": "2023-12-12T05:51:54.767571Z",
     "iopub.status.idle": "2023-12-12T05:51:54.772324Z",
     "shell.execute_reply": "2023-12-12T05:51:54.771311Z"
    },
    "papermill": {
     "duration": 0.019624,
     "end_time": "2023-12-12T05:51:54.774470",
     "exception": false,
     "start_time": "2023-12-12T05:51:54.754846",
     "status": "completed"
    },
    "tags": []
   },
   "outputs": [],
   "source": [
    "#q7.hint()\n",
    "#q7.solution()"
   ]
  },
  {
   "cell_type": "markdown",
   "id": "216fc333",
   "metadata": {
    "papermill": {
     "duration": 0.010971,
     "end_time": "2023-12-12T05:51:54.796639",
     "exception": false,
     "start_time": "2023-12-12T05:51:54.785668",
     "status": "completed"
    },
    "tags": []
   },
   "source": [
    "# Keep going\n",
    "Continue to **[grouping and sorting](https://www.kaggle.com/residentmario/grouping-and-sorting)**."
   ]
  },
  {
   "cell_type": "markdown",
   "id": "121fa458",
   "metadata": {
    "papermill": {
     "duration": 0.010892,
     "end_time": "2023-12-12T05:51:54.818650",
     "exception": false,
     "start_time": "2023-12-12T05:51:54.807758",
     "status": "completed"
    },
    "tags": []
   },
   "source": [
    "---\n",
    "\n",
    "\n",
    "\n",
    "\n",
    "*Have questions or comments? Visit the [course discussion forum](https://www.kaggle.com/learn/pandas/discussion) to chat with other learners.*"
   ]
  }
 ],
 "metadata": {
  "kaggle": {
   "accelerator": "none",
   "dataSources": [
    {
     "datasetId": 655,
     "sourceId": 1252,
     "sourceType": "datasetVersion"
    },
    {
     "datasetId": 2321,
     "sourceId": 3919,
     "sourceType": "datasetVersion"
    },
    {
     "datasetId": 2894,
     "sourceId": 4877,
     "sourceType": "datasetVersion"
    },
    {
     "datasetId": 3491,
     "sourceId": 5624,
     "sourceType": "datasetVersion"
    },
    {
     "datasetId": 1442,
     "sourceId": 8172,
     "sourceType": "datasetVersion"
    },
    {
     "datasetId": 9366,
     "sourceId": 13206,
     "sourceType": "datasetVersion"
    },
    {
     "datasetId": 179555,
     "sourceId": 403916,
     "sourceType": "datasetVersion"
    },
    {
     "datasetId": 4549,
     "sourceId": 466349,
     "sourceType": "datasetVersion"
    },
    {
     "datasetId": 2478,
     "sourceId": 1151655,
     "sourceType": "datasetVersion"
    },
    {
     "datasetId": 10128,
     "sourceId": 5438389,
     "sourceType": "datasetVersion"
    }
   ],
   "isGpuEnabled": false,
   "isInternetEnabled": false,
   "language": "python",
   "sourceType": "notebook"
  },
  "kernelspec": {
   "display_name": "Python 3",
   "language": "python",
   "name": "python3"
  },
  "language_info": {
   "codemirror_mode": {
    "name": "ipython",
    "version": 3
   },
   "file_extension": ".py",
   "mimetype": "text/x-python",
   "name": "python",
   "nbconvert_exporter": "python",
   "pygments_lexer": "ipython3",
   "version": "3.10.12"
  },
  "papermill": {
   "default_parameters": {},
   "duration": 13.89138,
   "end_time": "2023-12-12T05:51:55.351083",
   "environment_variables": {},
   "exception": null,
   "input_path": "__notebook__.ipynb",
   "output_path": "__notebook__.ipynb",
   "parameters": {},
   "start_time": "2023-12-12T05:51:41.459703",
   "version": "2.4.0"
  }
 },
 "nbformat": 4,
 "nbformat_minor": 5
}
