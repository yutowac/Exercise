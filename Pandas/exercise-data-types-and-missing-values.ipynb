{
 "cells": [
  {
   "cell_type": "markdown",
   "id": "3e7e67c7",
   "metadata": {
    "papermill": {
     "duration": 0.006769,
     "end_time": "2024-01-15T08:49:09.851162",
     "exception": false,
     "start_time": "2024-01-15T08:49:09.844393",
     "status": "completed"
    },
    "tags": []
   },
   "source": [
    "**This notebook is an exercise in the [Pandas](https://www.kaggle.com/learn/pandas) course.  You can reference the tutorial at [this link](https://www.kaggle.com/residentmario/data-types-and-missing-values).**\n",
    "\n",
    "---\n"
   ]
  },
  {
   "cell_type": "markdown",
   "id": "492a9ef7",
   "metadata": {
    "papermill": {
     "duration": 0.005932,
     "end_time": "2024-01-15T08:49:09.863528",
     "exception": false,
     "start_time": "2024-01-15T08:49:09.857596",
     "status": "completed"
    },
    "tags": []
   },
   "source": [
    "# Introduction\n",
    "\n",
    "Run the following cell to load your data and some utility functions."
   ]
  },
  {
   "cell_type": "code",
   "execution_count": 1,
   "id": "1afb7b4b",
   "metadata": {
    "execution": {
     "iopub.execute_input": "2024-01-15T08:49:09.878716Z",
     "iopub.status.busy": "2024-01-15T08:49:09.878047Z",
     "iopub.status.idle": "2024-01-15T08:49:13.439299Z",
     "shell.execute_reply": "2024-01-15T08:49:13.438108Z"
    },
    "papermill": {
     "duration": 3.572276,
     "end_time": "2024-01-15T08:49:13.441982",
     "exception": false,
     "start_time": "2024-01-15T08:49:09.869706",
     "status": "completed"
    },
    "tags": []
   },
   "outputs": [
    {
     "name": "stdout",
     "output_type": "stream",
     "text": [
      "Setup complete.\n"
     ]
    }
   ],
   "source": [
    "import pandas as pd\n",
    "\n",
    "reviews = pd.read_csv(\"../input/wine-reviews/winemag-data-130k-v2.csv\", index_col=0)\n",
    "\n",
    "from learntools.core import binder; binder.bind(globals())\n",
    "from learntools.pandas.data_types_and_missing_data import *\n",
    "print(\"Setup complete.\")"
   ]
  },
  {
   "cell_type": "markdown",
   "id": "ed53497d",
   "metadata": {
    "papermill": {
     "duration": 0.006351,
     "end_time": "2024-01-15T08:49:13.454980",
     "exception": false,
     "start_time": "2024-01-15T08:49:13.448629",
     "status": "completed"
    },
    "tags": []
   },
   "source": [
    "# Exercises"
   ]
  },
  {
   "cell_type": "markdown",
   "id": "5be75c51",
   "metadata": {
    "papermill": {
     "duration": 0.00609,
     "end_time": "2024-01-15T08:49:13.467609",
     "exception": false,
     "start_time": "2024-01-15T08:49:13.461519",
     "status": "completed"
    },
    "tags": []
   },
   "source": [
    "## 1. \n",
    "What is the data type of the `points` column in the dataset?"
   ]
  },
  {
   "cell_type": "code",
   "execution_count": 2,
   "id": "a937a566",
   "metadata": {
    "execution": {
     "iopub.execute_input": "2024-01-15T08:49:13.482452Z",
     "iopub.status.busy": "2024-01-15T08:49:13.481751Z",
     "iopub.status.idle": "2024-01-15T08:49:13.492414Z",
     "shell.execute_reply": "2024-01-15T08:49:13.491284Z"
    },
    "papermill": {
     "duration": 0.020656,
     "end_time": "2024-01-15T08:49:13.494612",
     "exception": false,
     "start_time": "2024-01-15T08:49:13.473956",
     "status": "completed"
    },
    "tags": []
   },
   "outputs": [
    {
     "data": {
      "application/javascript": [
       "parent.postMessage({\"jupyterEvent\": \"custom.exercise_interaction\", \"data\": {\"outcomeType\": 1, \"valueTowardsCompletion\": 0.25, \"interactionType\": 1, \"questionType\": 1, \"questionId\": \"1_PointsDtype\", \"learnToolsVersion\": \"0.3.4\", \"failureMessage\": \"\", \"exceptionClass\": \"\", \"trace\": \"\"}}, \"*\")"
      ],
      "text/plain": [
       "<IPython.core.display.Javascript object>"
      ]
     },
     "metadata": {},
     "output_type": "display_data"
    },
    {
     "data": {
      "text/markdown": [
       "<span style=\"color:#33cc33\">Correct</span>"
      ],
      "text/plain": [
       "Correct"
      ]
     },
     "metadata": {},
     "output_type": "display_data"
    }
   ],
   "source": [
    "# Your code here\n",
    "dtype = reviews.points.dtype\n",
    "\n",
    "# Check your answer\n",
    "q1.check()"
   ]
  },
  {
   "cell_type": "code",
   "execution_count": 3,
   "id": "e6daca91",
   "metadata": {
    "execution": {
     "iopub.execute_input": "2024-01-15T08:49:13.510019Z",
     "iopub.status.busy": "2024-01-15T08:49:13.509581Z",
     "iopub.status.idle": "2024-01-15T08:49:13.514578Z",
     "shell.execute_reply": "2024-01-15T08:49:13.513210Z"
    },
    "papermill": {
     "duration": 0.01534,
     "end_time": "2024-01-15T08:49:13.516776",
     "exception": false,
     "start_time": "2024-01-15T08:49:13.501436",
     "status": "completed"
    },
    "tags": []
   },
   "outputs": [],
   "source": [
    "#q1.hint()\n",
    "#q1.solution()"
   ]
  },
  {
   "cell_type": "markdown",
   "id": "8294026d",
   "metadata": {
    "papermill": {
     "duration": 0.006518,
     "end_time": "2024-01-15T08:49:13.530274",
     "exception": false,
     "start_time": "2024-01-15T08:49:13.523756",
     "status": "completed"
    },
    "tags": []
   },
   "source": [
    "## 2. \n",
    "Create a Series from entries in the `points` column, but convert the entries to strings. Hint: strings are `str` in native Python."
   ]
  },
  {
   "cell_type": "code",
   "execution_count": 4,
   "id": "f79c954e",
   "metadata": {
    "execution": {
     "iopub.execute_input": "2024-01-15T08:49:13.545459Z",
     "iopub.status.busy": "2024-01-15T08:49:13.545016Z",
     "iopub.status.idle": "2024-01-15T08:49:13.646343Z",
     "shell.execute_reply": "2024-01-15T08:49:13.645266Z"
    },
    "papermill": {
     "duration": 0.111553,
     "end_time": "2024-01-15T08:49:13.648621",
     "exception": false,
     "start_time": "2024-01-15T08:49:13.537068",
     "status": "completed"
    },
    "tags": []
   },
   "outputs": [
    {
     "data": {
      "application/javascript": [
       "parent.postMessage({\"jupyterEvent\": \"custom.exercise_interaction\", \"data\": {\"outcomeType\": 1, \"valueTowardsCompletion\": 0.25, \"interactionType\": 1, \"questionType\": 1, \"questionId\": \"2_StrPoints\", \"learnToolsVersion\": \"0.3.4\", \"failureMessage\": \"\", \"exceptionClass\": \"\", \"trace\": \"\"}}, \"*\")"
      ],
      "text/plain": [
       "<IPython.core.display.Javascript object>"
      ]
     },
     "metadata": {},
     "output_type": "display_data"
    },
    {
     "data": {
      "text/markdown": [
       "<span style=\"color:#33cc33\">Correct</span>"
      ],
      "text/plain": [
       "Correct"
      ]
     },
     "metadata": {},
     "output_type": "display_data"
    }
   ],
   "source": [
    "point_strings = reviews.points.astype('str')\n",
    "\n",
    "# Check your answer\n",
    "q2.check()"
   ]
  },
  {
   "cell_type": "code",
   "execution_count": 5,
   "id": "2f8449b9",
   "metadata": {
    "execution": {
     "iopub.execute_input": "2024-01-15T08:49:13.664765Z",
     "iopub.status.busy": "2024-01-15T08:49:13.664366Z",
     "iopub.status.idle": "2024-01-15T08:49:13.669040Z",
     "shell.execute_reply": "2024-01-15T08:49:13.667939Z"
    },
    "papermill": {
     "duration": 0.016097,
     "end_time": "2024-01-15T08:49:13.671886",
     "exception": false,
     "start_time": "2024-01-15T08:49:13.655789",
     "status": "completed"
    },
    "tags": []
   },
   "outputs": [],
   "source": [
    "#q2.hint()\n",
    "#q2.solution()"
   ]
  },
  {
   "cell_type": "markdown",
   "id": "8e11e6e2",
   "metadata": {
    "papermill": {
     "duration": 0.007344,
     "end_time": "2024-01-15T08:49:13.686667",
     "exception": false,
     "start_time": "2024-01-15T08:49:13.679323",
     "status": "completed"
    },
    "tags": []
   },
   "source": [
    "## 3.\n",
    "Sometimes the price column is null. How many reviews in the dataset are missing a price?"
   ]
  },
  {
   "cell_type": "code",
   "execution_count": 6,
   "id": "83c69e91",
   "metadata": {
    "execution": {
     "iopub.execute_input": "2024-01-15T08:49:13.702708Z",
     "iopub.status.busy": "2024-01-15T08:49:13.702313Z",
     "iopub.status.idle": "2024-01-15T08:49:13.712111Z",
     "shell.execute_reply": "2024-01-15T08:49:13.711106Z"
    },
    "papermill": {
     "duration": 0.020241,
     "end_time": "2024-01-15T08:49:13.714120",
     "exception": false,
     "start_time": "2024-01-15T08:49:13.693879",
     "status": "completed"
    },
    "tags": []
   },
   "outputs": [
    {
     "data": {
      "application/javascript": [
       "parent.postMessage({\"jupyterEvent\": \"custom.exercise_interaction\", \"data\": {\"outcomeType\": 1, \"valueTowardsCompletion\": 0.25, \"interactionType\": 1, \"questionType\": 1, \"questionId\": \"3_CountMissingPrices\", \"learnToolsVersion\": \"0.3.4\", \"failureMessage\": \"\", \"exceptionClass\": \"\", \"trace\": \"\"}}, \"*\")"
      ],
      "text/plain": [
       "<IPython.core.display.Javascript object>"
      ]
     },
     "metadata": {},
     "output_type": "display_data"
    },
    {
     "data": {
      "text/markdown": [
       "<span style=\"color:#33cc33\">Correct</span>"
      ],
      "text/plain": [
       "Correct"
      ]
     },
     "metadata": {},
     "output_type": "display_data"
    }
   ],
   "source": [
    "n_missing_prices = reviews.price.isnull().sum()\n",
    "\n",
    "# Check your answer\n",
    "q3.check()"
   ]
  },
  {
   "cell_type": "code",
   "execution_count": 7,
   "id": "84b29bdb",
   "metadata": {
    "execution": {
     "iopub.execute_input": "2024-01-15T08:49:13.730584Z",
     "iopub.status.busy": "2024-01-15T08:49:13.729987Z",
     "iopub.status.idle": "2024-01-15T08:49:13.733818Z",
     "shell.execute_reply": "2024-01-15T08:49:13.733073Z"
    },
    "papermill": {
     "duration": 0.014838,
     "end_time": "2024-01-15T08:49:13.736349",
     "exception": false,
     "start_time": "2024-01-15T08:49:13.721511",
     "status": "completed"
    },
    "tags": []
   },
   "outputs": [],
   "source": [
    "#q3.hint()\n",
    "#q3.solution()"
   ]
  },
  {
   "cell_type": "markdown",
   "id": "cefd7c83",
   "metadata": {
    "papermill": {
     "duration": 0.007275,
     "end_time": "2024-01-15T08:49:13.751454",
     "exception": false,
     "start_time": "2024-01-15T08:49:13.744179",
     "status": "completed"
    },
    "tags": []
   },
   "source": [
    "## 4.\n",
    "What are the most common wine-producing regions? Create a Series counting the number of times each value occurs in the `region_1` field. This field is often missing data, so replace missing values with `Unknown`. Sort in descending order.  Your output should look something like this:\n",
    "\n",
    "```\n",
    "Unknown                    21247\n",
    "Napa Valley                 4480\n",
    "                           ...  \n",
    "Bardolino Superiore            1\n",
    "Primitivo del Tarantino        1\n",
    "Name: region_1, Length: 1230, dtype: int64\n",
    "```"
   ]
  },
  {
   "cell_type": "code",
   "execution_count": 8,
   "id": "d7e86a47",
   "metadata": {
    "execution": {
     "iopub.execute_input": "2024-01-15T08:49:13.768366Z",
     "iopub.status.busy": "2024-01-15T08:49:13.767670Z",
     "iopub.status.idle": "2024-01-15T08:49:13.791560Z",
     "shell.execute_reply": "2024-01-15T08:49:13.790697Z"
    },
    "papermill": {
     "duration": 0.035026,
     "end_time": "2024-01-15T08:49:13.793849",
     "exception": false,
     "start_time": "2024-01-15T08:49:13.758823",
     "status": "completed"
    },
    "tags": []
   },
   "outputs": [
    {
     "data": {
      "text/plain": [
       "0                        Etna\n",
       "1                     Unknown\n",
       "2           Willamette Valley\n",
       "3         Lake Michigan Shore\n",
       "4           Willamette Valley\n",
       "                 ...         \n",
       "129966                Unknown\n",
       "129967                 Oregon\n",
       "129968                 Alsace\n",
       "129969                 Alsace\n",
       "129970                 Alsace\n",
       "Name: region_1, Length: 129971, dtype: object"
      ]
     },
     "execution_count": 8,
     "metadata": {},
     "output_type": "execute_result"
    }
   ],
   "source": [
    "reviews.region_1.fillna('Unknown')"
   ]
  },
  {
   "cell_type": "code",
   "execution_count": 9,
   "id": "eb8841dc",
   "metadata": {
    "execution": {
     "iopub.execute_input": "2024-01-15T08:49:13.811170Z",
     "iopub.status.busy": "2024-01-15T08:49:13.810544Z",
     "iopub.status.idle": "2024-01-15T08:49:13.891208Z",
     "shell.execute_reply": "2024-01-15T08:49:13.890361Z"
    },
    "papermill": {
     "duration": 0.091629,
     "end_time": "2024-01-15T08:49:13.893245",
     "exception": false,
     "start_time": "2024-01-15T08:49:13.801616",
     "status": "completed"
    },
    "tags": []
   },
   "outputs": [
    {
     "data": {
      "application/javascript": [
       "parent.postMessage({\"jupyterEvent\": \"custom.exercise_interaction\", \"data\": {\"outcomeType\": 1, \"valueTowardsCompletion\": 0.25, \"interactionType\": 1, \"questionType\": 2, \"questionId\": \"4_ReviewsPerRegion\", \"learnToolsVersion\": \"0.3.4\", \"failureMessage\": \"\", \"exceptionClass\": \"\", \"trace\": \"\"}}, \"*\")"
      ],
      "text/plain": [
       "<IPython.core.display.Javascript object>"
      ]
     },
     "metadata": {},
     "output_type": "display_data"
    },
    {
     "data": {
      "text/markdown": [
       "<span style=\"color:#33cc33\">Correct</span>"
      ],
      "text/plain": [
       "Correct"
      ]
     },
     "metadata": {},
     "output_type": "display_data"
    }
   ],
   "source": [
    "reviews_per_region = reviews.region_1.fillna('Unknown').value_counts()\n",
    "\n",
    "# Check your answer\n",
    "q4.check()"
   ]
  },
  {
   "cell_type": "code",
   "execution_count": 10,
   "id": "ffd1d9c5",
   "metadata": {
    "execution": {
     "iopub.execute_input": "2024-01-15T08:49:13.910908Z",
     "iopub.status.busy": "2024-01-15T08:49:13.910525Z",
     "iopub.status.idle": "2024-01-15T08:49:13.915263Z",
     "shell.execute_reply": "2024-01-15T08:49:13.914281Z"
    },
    "papermill": {
     "duration": 0.01643,
     "end_time": "2024-01-15T08:49:13.917668",
     "exception": false,
     "start_time": "2024-01-15T08:49:13.901238",
     "status": "completed"
    },
    "tags": []
   },
   "outputs": [],
   "source": [
    "#q4.hint()\n",
    "#q4.solution()"
   ]
  },
  {
   "cell_type": "markdown",
   "id": "c410083e",
   "metadata": {
    "papermill": {
     "duration": 0.007591,
     "end_time": "2024-01-15T08:49:13.933338",
     "exception": false,
     "start_time": "2024-01-15T08:49:13.925747",
     "status": "completed"
    },
    "tags": []
   },
   "source": [
    "# Keep going\n",
    "\n",
    "Move on to **[renaming and combining](https://www.kaggle.com/residentmario/renaming-and-combining)**."
   ]
  },
  {
   "cell_type": "markdown",
   "id": "999051f2",
   "metadata": {
    "papermill": {
     "duration": 0.007612,
     "end_time": "2024-01-15T08:49:13.948751",
     "exception": false,
     "start_time": "2024-01-15T08:49:13.941139",
     "status": "completed"
    },
    "tags": []
   },
   "source": [
    "---\n",
    "\n",
    "\n",
    "\n",
    "\n",
    "*Have questions or comments? Visit the [course discussion forum](https://www.kaggle.com/learn/pandas/discussion) to chat with other learners.*"
   ]
  }
 ],
 "metadata": {
  "kaggle": {
   "accelerator": "none",
   "dataSources": [
    {
     "datasetId": 655,
     "sourceId": 1252,
     "sourceType": "datasetVersion"
    },
    {
     "datasetId": 2321,
     "sourceId": 3919,
     "sourceType": "datasetVersion"
    },
    {
     "datasetId": 2894,
     "sourceId": 4877,
     "sourceType": "datasetVersion"
    },
    {
     "datasetId": 3491,
     "sourceId": 5624,
     "sourceType": "datasetVersion"
    },
    {
     "datasetId": 1442,
     "sourceId": 8172,
     "sourceType": "datasetVersion"
    },
    {
     "datasetId": 9366,
     "sourceId": 13206,
     "sourceType": "datasetVersion"
    },
    {
     "datasetId": 179555,
     "sourceId": 403916,
     "sourceType": "datasetVersion"
    },
    {
     "datasetId": 4549,
     "sourceId": 466349,
     "sourceType": "datasetVersion"
    },
    {
     "datasetId": 2478,
     "sourceId": 1151655,
     "sourceType": "datasetVersion"
    },
    {
     "datasetId": 10128,
     "sourceId": 5438389,
     "sourceType": "datasetVersion"
    }
   ],
   "isGpuEnabled": false,
   "isInternetEnabled": false,
   "language": "python",
   "sourceType": "notebook"
  },
  "kernelspec": {
   "display_name": "Python 3",
   "language": "python",
   "name": "python3"
  },
  "language_info": {
   "codemirror_mode": {
    "name": "ipython",
    "version": 3
   },
   "file_extension": ".py",
   "mimetype": "text/x-python",
   "name": "python",
   "nbconvert_exporter": "python",
   "pygments_lexer": "ipython3",
   "version": "3.10.12"
  },
  "papermill": {
   "default_parameters": {},
   "duration": 8.039651,
   "end_time": "2024-01-15T08:49:14.477350",
   "environment_variables": {},
   "exception": null,
   "input_path": "__notebook__.ipynb",
   "output_path": "__notebook__.ipynb",
   "parameters": {},
   "start_time": "2024-01-15T08:49:06.437699",
   "version": "2.4.0"
  }
 },
 "nbformat": 4,
 "nbformat_minor": 5
}
