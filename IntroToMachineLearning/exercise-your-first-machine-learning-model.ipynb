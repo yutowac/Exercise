{
 "cells": [
  {
   "cell_type": "markdown",
   "id": "97b3e92f",
   "metadata": {
    "papermill": {
     "duration": 0.007991,
     "end_time": "2024-03-16T14:08:45.119874",
     "exception": false,
     "start_time": "2024-03-16T14:08:45.111883",
     "status": "completed"
    },
    "tags": []
   },
   "source": [
    "**This notebook is an exercise in the [Introduction to Machine Learning](https://www.kaggle.com/learn/intro-to-machine-learning) course.  You can reference the tutorial at [this link](https://www.kaggle.com/dansbecker/your-first-machine-learning-model).**\n",
    "\n",
    "---\n"
   ]
  },
  {
   "cell_type": "markdown",
   "id": "7154f011",
   "metadata": {
    "papermill": {
     "duration": 0.006828,
     "end_time": "2024-03-16T14:08:45.134105",
     "exception": false,
     "start_time": "2024-03-16T14:08:45.127277",
     "status": "completed"
    },
    "tags": []
   },
   "source": [
    "## Recap\n",
    "So far, you have loaded your data and reviewed it with the following code. Run this cell to set up your coding environment where the previous step left off."
   ]
  },
  {
   "cell_type": "code",
   "execution_count": 1,
   "id": "38e3b767",
   "metadata": {
    "execution": {
     "iopub.execute_input": "2024-03-16T14:08:45.150514Z",
     "iopub.status.busy": "2024-03-16T14:08:45.150141Z",
     "iopub.status.idle": "2024-03-16T14:08:47.752373Z",
     "shell.execute_reply": "2024-03-16T14:08:47.751037Z"
    },
    "papermill": {
     "duration": 2.613503,
     "end_time": "2024-03-16T14:08:47.754852",
     "exception": false,
     "start_time": "2024-03-16T14:08:45.141349",
     "status": "completed"
    },
    "tags": []
   },
   "outputs": [
    {
     "name": "stdout",
     "output_type": "stream",
     "text": [
      "Setup Complete\n"
     ]
    }
   ],
   "source": [
    "# Code you have previously used to load data\n",
    "import pandas as pd\n",
    "\n",
    "# Path of the file to read\n",
    "iowa_file_path = '../input/home-data-for-ml-course/train.csv'\n",
    "\n",
    "home_data = pd.read_csv(iowa_file_path)\n",
    "\n",
    "# Set up code checking\n",
    "from learntools.core import binder\n",
    "binder.bind(globals())\n",
    "from learntools.machine_learning.ex3 import *\n",
    "\n",
    "print(\"Setup Complete\")"
   ]
  },
  {
   "cell_type": "markdown",
   "id": "322ec3fd",
   "metadata": {
    "papermill": {
     "duration": 0.00703,
     "end_time": "2024-03-16T14:08:47.769188",
     "exception": false,
     "start_time": "2024-03-16T14:08:47.762158",
     "status": "completed"
    },
    "tags": []
   },
   "source": [
    "# Exercises\n",
    "\n",
    "## Step 1: Specify Prediction Target\n",
    "Select the target variable, which corresponds to the sales price. Save this to a new variable called `y`. You'll need to print a list of the columns to find the name of the column you need.\n"
   ]
  },
  {
   "cell_type": "code",
   "execution_count": 2,
   "id": "f13abf02",
   "metadata": {
    "execution": {
     "iopub.execute_input": "2024-03-16T14:08:47.785192Z",
     "iopub.status.busy": "2024-03-16T14:08:47.784732Z",
     "iopub.status.idle": "2024-03-16T14:08:47.794488Z",
     "shell.execute_reply": "2024-03-16T14:08:47.793261Z"
    },
    "papermill": {
     "duration": 0.020814,
     "end_time": "2024-03-16T14:08:47.797060",
     "exception": false,
     "start_time": "2024-03-16T14:08:47.776246",
     "status": "completed"
    },
    "tags": []
   },
   "outputs": [
    {
     "data": {
      "text/plain": [
       "Index(['Id', 'MSSubClass', 'MSZoning', 'LotFrontage', 'LotArea', 'Street',\n",
       "       'Alley', 'LotShape', 'LandContour', 'Utilities', 'LotConfig',\n",
       "       'LandSlope', 'Neighborhood', 'Condition1', 'Condition2', 'BldgType',\n",
       "       'HouseStyle', 'OverallQual', 'OverallCond', 'YearBuilt', 'YearRemodAdd',\n",
       "       'RoofStyle', 'RoofMatl', 'Exterior1st', 'Exterior2nd', 'MasVnrType',\n",
       "       'MasVnrArea', 'ExterQual', 'ExterCond', 'Foundation', 'BsmtQual',\n",
       "       'BsmtCond', 'BsmtExposure', 'BsmtFinType1', 'BsmtFinSF1',\n",
       "       'BsmtFinType2', 'BsmtFinSF2', 'BsmtUnfSF', 'TotalBsmtSF', 'Heating',\n",
       "       'HeatingQC', 'CentralAir', 'Electrical', '1stFlrSF', '2ndFlrSF',\n",
       "       'LowQualFinSF', 'GrLivArea', 'BsmtFullBath', 'BsmtHalfBath', 'FullBath',\n",
       "       'HalfBath', 'BedroomAbvGr', 'KitchenAbvGr', 'KitchenQual',\n",
       "       'TotRmsAbvGrd', 'Functional', 'Fireplaces', 'FireplaceQu', 'GarageType',\n",
       "       'GarageYrBlt', 'GarageFinish', 'GarageCars', 'GarageArea', 'GarageQual',\n",
       "       'GarageCond', 'PavedDrive', 'WoodDeckSF', 'OpenPorchSF',\n",
       "       'EnclosedPorch', '3SsnPorch', 'ScreenPorch', 'PoolArea', 'PoolQC',\n",
       "       'Fence', 'MiscFeature', 'MiscVal', 'MoSold', 'YrSold', 'SaleType',\n",
       "       'SaleCondition', 'SalePrice'],\n",
       "      dtype='object')"
      ]
     },
     "execution_count": 2,
     "metadata": {},
     "output_type": "execute_result"
    }
   ],
   "source": [
    "# print the list of columns in the dataset to find the name of the prediction target\n",
    "home_data.columns"
   ]
  },
  {
   "cell_type": "code",
   "execution_count": 3,
   "id": "55d313b9",
   "metadata": {
    "execution": {
     "iopub.execute_input": "2024-03-16T14:08:47.814108Z",
     "iopub.status.busy": "2024-03-16T14:08:47.813615Z",
     "iopub.status.idle": "2024-03-16T14:08:47.828586Z",
     "shell.execute_reply": "2024-03-16T14:08:47.827398Z"
    },
    "papermill": {
     "duration": 0.02621,
     "end_time": "2024-03-16T14:08:47.831034",
     "exception": false,
     "start_time": "2024-03-16T14:08:47.804824",
     "status": "completed"
    },
    "tags": []
   },
   "outputs": [
    {
     "data": {
      "application/javascript": [
       "parent.postMessage({\"jupyterEvent\": \"custom.exercise_interaction\", \"data\": {\"outcomeType\": 1, \"valueTowardsCompletion\": 0.25, \"interactionType\": 1, \"questionType\": 2, \"questionId\": \"1_SetTarget\", \"learnToolsVersion\": \"0.3.4\", \"failureMessage\": \"\", \"exceptionClass\": \"\", \"trace\": \"\"}}, \"*\")"
      ],
      "text/plain": [
       "<IPython.core.display.Javascript object>"
      ]
     },
     "metadata": {},
     "output_type": "display_data"
    },
    {
     "data": {
      "text/markdown": [
       "<span style=\"color:#33cc33\">Correct</span>"
      ],
      "text/plain": [
       "Correct"
      ]
     },
     "metadata": {},
     "output_type": "display_data"
    }
   ],
   "source": [
    "y = home_data['SalePrice']\n",
    "\n",
    "# Check your answer\n",
    "step_1.check()"
   ]
  },
  {
   "cell_type": "code",
   "execution_count": 4,
   "id": "2d8480d7",
   "metadata": {
    "collapsed": true,
    "execution": {
     "iopub.execute_input": "2024-03-16T14:08:47.848262Z",
     "iopub.status.busy": "2024-03-16T14:08:47.847866Z",
     "iopub.status.idle": "2024-03-16T14:08:47.852491Z",
     "shell.execute_reply": "2024-03-16T14:08:47.851396Z"
    },
    "jupyter": {
     "outputs_hidden": true
    },
    "papermill": {
     "duration": 0.016193,
     "end_time": "2024-03-16T14:08:47.854891",
     "exception": false,
     "start_time": "2024-03-16T14:08:47.838698",
     "status": "completed"
    },
    "tags": []
   },
   "outputs": [],
   "source": [
    "# The lines below will show you a hint or the solution.\n",
    "# step_1.hint() \n",
    "# step_1.solution()"
   ]
  },
  {
   "cell_type": "markdown",
   "id": "24d95f91",
   "metadata": {
    "papermill": {
     "duration": 0.007557,
     "end_time": "2024-03-16T14:08:47.870618",
     "exception": false,
     "start_time": "2024-03-16T14:08:47.863061",
     "status": "completed"
    },
    "tags": []
   },
   "source": [
    "## Step 2: Create X\n",
    "Now you will create a DataFrame called `X` holding the predictive features.\n",
    "\n",
    "Since you want only some columns from the original data, you'll first create a list with the names of the columns you want in `X`.\n",
    "\n",
    "You'll use just the following columns in the list (you can copy and paste the whole list to save some typing, though you'll still need to add quotes):\n",
    "  * LotArea\n",
    "  * YearBuilt\n",
    "  * 1stFlrSF\n",
    "  * 2ndFlrSF\n",
    "  * FullBath\n",
    "  * BedroomAbvGr\n",
    "  * TotRmsAbvGrd\n",
    "\n",
    "After you've created that list of features, use it to create the DataFrame that you'll use to fit the model."
   ]
  },
  {
   "cell_type": "code",
   "execution_count": 5,
   "id": "9dc43098",
   "metadata": {
    "execution": {
     "iopub.execute_input": "2024-03-16T14:08:47.888173Z",
     "iopub.status.busy": "2024-03-16T14:08:47.887709Z",
     "iopub.status.idle": "2024-03-16T14:08:47.904150Z",
     "shell.execute_reply": "2024-03-16T14:08:47.902850Z"
    },
    "papermill": {
     "duration": 0.028183,
     "end_time": "2024-03-16T14:08:47.906802",
     "exception": false,
     "start_time": "2024-03-16T14:08:47.878619",
     "status": "completed"
    },
    "tags": []
   },
   "outputs": [
    {
     "data": {
      "application/javascript": [
       "parent.postMessage({\"jupyterEvent\": \"custom.exercise_interaction\", \"data\": {\"outcomeType\": 1, \"valueTowardsCompletion\": 0.25, \"interactionType\": 1, \"questionType\": 2, \"questionId\": \"2_SelectPredictionData\", \"learnToolsVersion\": \"0.3.4\", \"failureMessage\": \"\", \"exceptionClass\": \"\", \"trace\": \"\"}}, \"*\")"
      ],
      "text/plain": [
       "<IPython.core.display.Javascript object>"
      ]
     },
     "metadata": {},
     "output_type": "display_data"
    },
    {
     "data": {
      "text/markdown": [
       "<span style=\"color:#33cc33\">Correct</span>"
      ],
      "text/plain": [
       "Correct"
      ]
     },
     "metadata": {},
     "output_type": "display_data"
    }
   ],
   "source": [
    "# Create the list of features below\n",
    "feature_names = ['LotArea','YearBuilt','1stFlrSF','2ndFlrSF','FullBath','BedroomAbvGr','TotRmsAbvGrd']\n",
    "\n",
    "# Select data corresponding to features in feature_names\n",
    "X = home_data[feature_names]\n",
    "\n",
    "# Check your answer\n",
    "step_2.check()"
   ]
  },
  {
   "cell_type": "code",
   "execution_count": 6,
   "id": "8003bf1f",
   "metadata": {
    "execution": {
     "iopub.execute_input": "2024-03-16T14:08:47.926556Z",
     "iopub.status.busy": "2024-03-16T14:08:47.926163Z",
     "iopub.status.idle": "2024-03-16T14:08:47.930615Z",
     "shell.execute_reply": "2024-03-16T14:08:47.929537Z"
    },
    "papermill": {
     "duration": 0.016402,
     "end_time": "2024-03-16T14:08:47.933039",
     "exception": false,
     "start_time": "2024-03-16T14:08:47.916637",
     "status": "completed"
    },
    "tags": []
   },
   "outputs": [],
   "source": [
    "# step_2.hint()\n",
    "# step_2.solution()"
   ]
  },
  {
   "cell_type": "markdown",
   "id": "d39da8f9",
   "metadata": {
    "papermill": {
     "duration": 0.007736,
     "end_time": "2024-03-16T14:08:47.949745",
     "exception": false,
     "start_time": "2024-03-16T14:08:47.942009",
     "status": "completed"
    },
    "tags": []
   },
   "source": [
    "## Review Data\n",
    "Before building a model, take a quick look at **X** to verify it looks sensible"
   ]
  },
  {
   "cell_type": "code",
   "execution_count": 7,
   "id": "ae8323ed",
   "metadata": {
    "execution": {
     "iopub.execute_input": "2024-03-16T14:08:47.968876Z",
     "iopub.status.busy": "2024-03-16T14:08:47.968491Z",
     "iopub.status.idle": "2024-03-16T14:08:47.973192Z",
     "shell.execute_reply": "2024-03-16T14:08:47.971961Z"
    },
    "papermill": {
     "duration": 0.017571,
     "end_time": "2024-03-16T14:08:47.975462",
     "exception": false,
     "start_time": "2024-03-16T14:08:47.957891",
     "status": "completed"
    },
    "tags": []
   },
   "outputs": [],
   "source": [
    "# Review data\n",
    "# print description or statistics from X\n",
    "#print(_)\n",
    "\n",
    "# print the top few lines\n",
    "#print(_)"
   ]
  },
  {
   "cell_type": "markdown",
   "id": "6c17c4db",
   "metadata": {
    "papermill": {
     "duration": 0.007775,
     "end_time": "2024-03-16T14:08:47.991353",
     "exception": false,
     "start_time": "2024-03-16T14:08:47.983578",
     "status": "completed"
    },
    "tags": []
   },
   "source": [
    "## Step 3: Specify and Fit Model\n",
    "Create a `DecisionTreeRegressor` and save it iowa_model. Ensure you've done the relevant import from sklearn to run this command.\n",
    "\n",
    "Then fit the model you just created using the data in `X` and `y` that you saved above."
   ]
  },
  {
   "cell_type": "code",
   "execution_count": 8,
   "id": "9515ebb4",
   "metadata": {
    "execution": {
     "iopub.execute_input": "2024-03-16T14:08:48.009798Z",
     "iopub.status.busy": "2024-03-16T14:08:48.008962Z",
     "iopub.status.idle": "2024-03-16T14:08:48.117136Z",
     "shell.execute_reply": "2024-03-16T14:08:48.115913Z"
    },
    "papermill": {
     "duration": 0.120143,
     "end_time": "2024-03-16T14:08:48.119576",
     "exception": false,
     "start_time": "2024-03-16T14:08:47.999433",
     "status": "completed"
    },
    "tags": []
   },
   "outputs": [
    {
     "data": {
      "application/javascript": [
       "parent.postMessage({\"jupyterEvent\": \"custom.exercise_interaction\", \"data\": {\"outcomeType\": 1, \"valueTowardsCompletion\": 0.25, \"interactionType\": 1, \"questionType\": 2, \"questionId\": \"3_CreateModel\", \"learnToolsVersion\": \"0.3.4\", \"failureMessage\": \"\", \"exceptionClass\": \"\", \"trace\": \"\"}}, \"*\")"
      ],
      "text/plain": [
       "<IPython.core.display.Javascript object>"
      ]
     },
     "metadata": {},
     "output_type": "display_data"
    },
    {
     "data": {
      "text/markdown": [
       "<span style=\"color:#33cc33\">Correct</span>"
      ],
      "text/plain": [
       "Correct"
      ]
     },
     "metadata": {},
     "output_type": "display_data"
    }
   ],
   "source": [
    "from sklearn.tree import DecisionTreeRegressor\n",
    "#specify the model. \n",
    "#For model reproducibility, set a numeric value for random_state when specifying the model\n",
    "iowa_model = DecisionTreeRegressor(random_state=0)\n",
    "\n",
    "# Fit the model\n",
    "iowa_model.fit(X, y)\n",
    "\n",
    "# Check your answer\n",
    "step_3.check()"
   ]
  },
  {
   "cell_type": "code",
   "execution_count": 9,
   "id": "2d336c68",
   "metadata": {
    "execution": {
     "iopub.execute_input": "2024-03-16T14:08:48.138174Z",
     "iopub.status.busy": "2024-03-16T14:08:48.137783Z",
     "iopub.status.idle": "2024-03-16T14:08:48.142045Z",
     "shell.execute_reply": "2024-03-16T14:08:48.140845Z"
    },
    "papermill": {
     "duration": 0.016164,
     "end_time": "2024-03-16T14:08:48.144262",
     "exception": false,
     "start_time": "2024-03-16T14:08:48.128098",
     "status": "completed"
    },
    "tags": []
   },
   "outputs": [],
   "source": [
    "# step_3.hint()\n",
    "# step_3.solution()"
   ]
  },
  {
   "cell_type": "markdown",
   "id": "61484da1",
   "metadata": {
    "papermill": {
     "duration": 0.008037,
     "end_time": "2024-03-16T14:08:48.160651",
     "exception": false,
     "start_time": "2024-03-16T14:08:48.152614",
     "status": "completed"
    },
    "tags": []
   },
   "source": [
    "## Step 4: Make Predictions\n",
    "Make predictions with the model's `predict` command using `X` as the data. Save the results to a variable called `predictions`."
   ]
  },
  {
   "cell_type": "code",
   "execution_count": 10,
   "id": "9b50d478",
   "metadata": {
    "execution": {
     "iopub.execute_input": "2024-03-16T14:08:48.179770Z",
     "iopub.status.busy": "2024-03-16T14:08:48.179368Z",
     "iopub.status.idle": "2024-03-16T14:08:48.193746Z",
     "shell.execute_reply": "2024-03-16T14:08:48.192576Z"
    },
    "papermill": {
     "duration": 0.026554,
     "end_time": "2024-03-16T14:08:48.195933",
     "exception": false,
     "start_time": "2024-03-16T14:08:48.169379",
     "status": "completed"
    },
    "tags": []
   },
   "outputs": [
    {
     "name": "stdout",
     "output_type": "stream",
     "text": [
      "[208500. 181500. 223500. ... 266500. 142125. 147500.]\n"
     ]
    },
    {
     "data": {
      "application/javascript": [
       "parent.postMessage({\"jupyterEvent\": \"custom.exercise_interaction\", \"data\": {\"outcomeType\": 1, \"valueTowardsCompletion\": 0.25, \"interactionType\": 1, \"questionType\": 2, \"questionId\": \"4_MakePredictions\", \"learnToolsVersion\": \"0.3.4\", \"failureMessage\": \"\", \"exceptionClass\": \"\", \"trace\": \"\"}}, \"*\")"
      ],
      "text/plain": [
       "<IPython.core.display.Javascript object>"
      ]
     },
     "metadata": {},
     "output_type": "display_data"
    },
    {
     "data": {
      "text/markdown": [
       "<span style=\"color:#33cc33\">Correct</span>"
      ],
      "text/plain": [
       "Correct"
      ]
     },
     "metadata": {},
     "output_type": "display_data"
    }
   ],
   "source": [
    "predictions = iowa_model.predict(X)\n",
    "print(predictions)\n",
    "\n",
    "# Check your answer\n",
    "step_4.check()"
   ]
  },
  {
   "cell_type": "code",
   "execution_count": 11,
   "id": "c9d92fff",
   "metadata": {
    "execution": {
     "iopub.execute_input": "2024-03-16T14:08:48.215866Z",
     "iopub.status.busy": "2024-03-16T14:08:48.215443Z",
     "iopub.status.idle": "2024-03-16T14:08:48.220169Z",
     "shell.execute_reply": "2024-03-16T14:08:48.219135Z"
    },
    "papermill": {
     "duration": 0.016935,
     "end_time": "2024-03-16T14:08:48.222274",
     "exception": false,
     "start_time": "2024-03-16T14:08:48.205339",
     "status": "completed"
    },
    "tags": []
   },
   "outputs": [],
   "source": [
    "# step_4.hint()\n",
    "# step_4.solution()"
   ]
  },
  {
   "cell_type": "markdown",
   "id": "4bce6f51",
   "metadata": {
    "papermill": {
     "duration": 0.008535,
     "end_time": "2024-03-16T14:08:48.239664",
     "exception": false,
     "start_time": "2024-03-16T14:08:48.231129",
     "status": "completed"
    },
    "tags": []
   },
   "source": [
    "## Think About Your Results\n",
    "\n",
    "Use the `head` method to compare the top few predictions to the actual home values (in `y`) for those same homes. Anything surprising?\n"
   ]
  },
  {
   "cell_type": "code",
   "execution_count": 12,
   "id": "ca9a9e1e",
   "metadata": {
    "execution": {
     "iopub.execute_input": "2024-03-16T14:08:48.259205Z",
     "iopub.status.busy": "2024-03-16T14:08:48.258742Z",
     "iopub.status.idle": "2024-03-16T14:08:48.276900Z",
     "shell.execute_reply": "2024-03-16T14:08:48.276119Z"
    },
    "papermill": {
     "duration": 0.030464,
     "end_time": "2024-03-16T14:08:48.279063",
     "exception": false,
     "start_time": "2024-03-16T14:08:48.248599",
     "status": "completed"
    },
    "tags": []
   },
   "outputs": [
    {
     "data": {
      "text/html": [
       "<div>\n",
       "<style scoped>\n",
       "    .dataframe tbody tr th:only-of-type {\n",
       "        vertical-align: middle;\n",
       "    }\n",
       "\n",
       "    .dataframe tbody tr th {\n",
       "        vertical-align: top;\n",
       "    }\n",
       "\n",
       "    .dataframe thead th {\n",
       "        text-align: right;\n",
       "    }\n",
       "</style>\n",
       "<table border=\"1\" class=\"dataframe\">\n",
       "  <thead>\n",
       "    <tr style=\"text-align: right;\">\n",
       "      <th></th>\n",
       "      <th>SalePrice</th>\n",
       "      <th>pred</th>\n",
       "    </tr>\n",
       "  </thead>\n",
       "  <tbody>\n",
       "    <tr>\n",
       "      <th>0</th>\n",
       "      <td>208500</td>\n",
       "      <td>208500.0</td>\n",
       "    </tr>\n",
       "    <tr>\n",
       "      <th>1</th>\n",
       "      <td>181500</td>\n",
       "      <td>181500.0</td>\n",
       "    </tr>\n",
       "    <tr>\n",
       "      <th>2</th>\n",
       "      <td>223500</td>\n",
       "      <td>223500.0</td>\n",
       "    </tr>\n",
       "    <tr>\n",
       "      <th>3</th>\n",
       "      <td>140000</td>\n",
       "      <td>140000.0</td>\n",
       "    </tr>\n",
       "    <tr>\n",
       "      <th>4</th>\n",
       "      <td>250000</td>\n",
       "      <td>250000.0</td>\n",
       "    </tr>\n",
       "  </tbody>\n",
       "</table>\n",
       "</div>"
      ],
      "text/plain": [
       "   SalePrice      pred\n",
       "0     208500  208500.0\n",
       "1     181500  181500.0\n",
       "2     223500  223500.0\n",
       "3     140000  140000.0\n",
       "4     250000  250000.0"
      ]
     },
     "execution_count": 12,
     "metadata": {},
     "output_type": "execute_result"
    }
   ],
   "source": [
    "# You can write code in this cell\n",
    "home_data['pred'] = predictions\n",
    "home_data[['SalePrice','pred']].head()"
   ]
  },
  {
   "cell_type": "markdown",
   "id": "e108f07b",
   "metadata": {
    "papermill": {
     "duration": 0.00862,
     "end_time": "2024-03-16T14:08:48.296702",
     "exception": false,
     "start_time": "2024-03-16T14:08:48.288082",
     "status": "completed"
    },
    "tags": []
   },
   "source": [
    "It's natural to ask how accurate the model's predictions will be and how you can improve that. That will be you're next step.\n",
    "\n",
    "# Keep Going\n",
    "\n",
    "You are ready for **[Model Validation](https://www.kaggle.com/dansbecker/model-validation).**\n"
   ]
  },
  {
   "cell_type": "markdown",
   "id": "6903b607",
   "metadata": {
    "papermill": {
     "duration": 0.008647,
     "end_time": "2024-03-16T14:08:48.314484",
     "exception": false,
     "start_time": "2024-03-16T14:08:48.305837",
     "status": "completed"
    },
    "tags": []
   },
   "source": [
    "---\n",
    "\n",
    "\n",
    "\n",
    "\n",
    "*Have questions or comments? Visit the [course discussion forum](https://www.kaggle.com/learn/intro-to-machine-learning/discussion) to chat with other learners.*"
   ]
  }
 ],
 "metadata": {
  "kaggle": {
   "accelerator": "none",
   "dataSources": [
    {
     "databundleVersionId": 111096,
     "sourceId": 10211,
     "sourceType": "competition"
    },
    {
     "datasetId": 11167,
     "sourceId": 15520,
     "sourceType": "datasetVersion"
    },
    {
     "datasetId": 2709,
     "sourceId": 38454,
     "sourceType": "datasetVersion"
    }
   ],
   "isGpuEnabled": false,
   "isInternetEnabled": false,
   "language": "python",
   "sourceType": "notebook"
  },
  "kernelspec": {
   "display_name": "Python 3",
   "language": "python",
   "name": "python3"
  },
  "language_info": {
   "codemirror_mode": {
    "name": "ipython",
    "version": 3
   },
   "file_extension": ".py",
   "mimetype": "text/x-python",
   "name": "python",
   "nbconvert_exporter": "python",
   "pygments_lexer": "ipython3",
   "version": "3.10.13"
  },
  "papermill": {
   "default_parameters": {},
   "duration": 7.082974,
   "end_time": "2024-03-16T14:08:48.944188",
   "environment_variables": {},
   "exception": null,
   "input_path": "__notebook__.ipynb",
   "output_path": "__notebook__.ipynb",
   "parameters": {},
   "start_time": "2024-03-16T14:08:41.861214",
   "version": "2.5.0"
  }
 },
 "nbformat": 4,
 "nbformat_minor": 5
}
