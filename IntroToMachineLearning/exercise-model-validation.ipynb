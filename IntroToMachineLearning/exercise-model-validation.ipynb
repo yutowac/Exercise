{
 "cells": [
  {
   "cell_type": "markdown",
   "id": "1e39fa9c",
   "metadata": {
    "papermill": {
     "duration": 0.006652,
     "end_time": "2024-03-17T05:34:52.710826",
     "exception": false,
     "start_time": "2024-03-17T05:34:52.704174",
     "status": "completed"
    },
    "tags": []
   },
   "source": [
    "**This notebook is an exercise in the [Introduction to Machine Learning](https://www.kaggle.com/learn/intro-to-machine-learning) course.  You can reference the tutorial at [this link](https://www.kaggle.com/dansbecker/model-validation).**\n",
    "\n",
    "---\n"
   ]
  },
  {
   "cell_type": "markdown",
   "id": "471de7e6",
   "metadata": {
    "papermill": {
     "duration": 0.006409,
     "end_time": "2024-03-17T05:34:52.723729",
     "exception": false,
     "start_time": "2024-03-17T05:34:52.717320",
     "status": "completed"
    },
    "tags": []
   },
   "source": [
    "## Recap\n",
    "You've built a model. In this exercise you will test how good your model is.\n",
    "\n",
    "Run the cell below to set up your coding environment where the previous exercise left off."
   ]
  },
  {
   "cell_type": "code",
   "execution_count": 1,
   "id": "ab566e70",
   "metadata": {
    "execution": {
     "iopub.execute_input": "2024-03-17T05:34:52.738532Z",
     "iopub.status.busy": "2024-03-17T05:34:52.737238Z",
     "iopub.status.idle": "2024-03-17T05:34:55.783712Z",
     "shell.execute_reply": "2024-03-17T05:34:55.782304Z"
    },
    "papermill": {
     "duration": 3.056811,
     "end_time": "2024-03-17T05:34:55.786650",
     "exception": false,
     "start_time": "2024-03-17T05:34:52.729839",
     "status": "completed"
    },
    "tags": []
   },
   "outputs": [
    {
     "name": "stdout",
     "output_type": "stream",
     "text": [
      "First in-sample predictions: [208500. 181500. 223500. 140000. 250000.]\n",
      "Actual target values for those homes: [208500, 181500, 223500, 140000, 250000]\n",
      "Setup Complete\n"
     ]
    }
   ],
   "source": [
    "# Code you have previously used to load data\n",
    "import pandas as pd\n",
    "from sklearn.tree import DecisionTreeRegressor\n",
    "\n",
    "# Path of the file to read\n",
    "iowa_file_path = '../input/home-data-for-ml-course/train.csv'\n",
    "\n",
    "home_data = pd.read_csv(iowa_file_path)\n",
    "y = home_data.SalePrice\n",
    "feature_columns = ['LotArea', 'YearBuilt', '1stFlrSF', '2ndFlrSF', 'FullBath', 'BedroomAbvGr', 'TotRmsAbvGrd']\n",
    "X = home_data[feature_columns]\n",
    "\n",
    "# Specify Model\n",
    "iowa_model = DecisionTreeRegressor()\n",
    "# Fit Model\n",
    "iowa_model.fit(X, y)\n",
    "\n",
    "print(\"First in-sample predictions:\", iowa_model.predict(X.head()))\n",
    "print(\"Actual target values for those homes:\", y.head().tolist())\n",
    "\n",
    "# Set up code checking\n",
    "from learntools.core import binder\n",
    "binder.bind(globals())\n",
    "from learntools.machine_learning.ex4 import *\n",
    "print(\"Setup Complete\")"
   ]
  },
  {
   "cell_type": "markdown",
   "id": "7f0b6528",
   "metadata": {
    "papermill": {
     "duration": 0.005871,
     "end_time": "2024-03-17T05:34:55.798831",
     "exception": false,
     "start_time": "2024-03-17T05:34:55.792960",
     "status": "completed"
    },
    "tags": []
   },
   "source": [
    "# Exercises\n",
    "\n",
    "## Step 1: Split Your Data\n",
    "Use the `train_test_split` function to split up your data.\n",
    "\n",
    "Give it the argument `random_state=1` so the `check` functions know what to expect when verifying your code.\n",
    "\n",
    "Recall, your features are loaded in the DataFrame **X** and your target is loaded in **y**.\n"
   ]
  },
  {
   "cell_type": "code",
   "execution_count": 2,
   "id": "035ce1df",
   "metadata": {
    "execution": {
     "iopub.execute_input": "2024-03-17T05:34:55.813052Z",
     "iopub.status.busy": "2024-03-17T05:34:55.812632Z",
     "iopub.status.idle": "2024-03-17T05:34:55.831063Z",
     "shell.execute_reply": "2024-03-17T05:34:55.829914Z"
    },
    "papermill": {
     "duration": 0.028323,
     "end_time": "2024-03-17T05:34:55.833338",
     "exception": false,
     "start_time": "2024-03-17T05:34:55.805015",
     "status": "completed"
    },
    "tags": []
   },
   "outputs": [
    {
     "data": {
      "application/javascript": [
       "parent.postMessage({\"jupyterEvent\": \"custom.exercise_interaction\", \"data\": {\"outcomeType\": 1, \"valueTowardsCompletion\": 0.25, \"interactionType\": 1, \"questionType\": 2, \"questionId\": \"1_SplitData\", \"learnToolsVersion\": \"0.3.4\", \"failureMessage\": \"\", \"exceptionClass\": \"\", \"trace\": \"\"}}, \"*\")"
      ],
      "text/plain": [
       "<IPython.core.display.Javascript object>"
      ]
     },
     "metadata": {},
     "output_type": "display_data"
    },
    {
     "data": {
      "text/markdown": [
       "<span style=\"color:#33cc33\">Correct</span>"
      ],
      "text/plain": [
       "Correct"
      ]
     },
     "metadata": {},
     "output_type": "display_data"
    }
   ],
   "source": [
    "# Import the train_test_split function and uncomment\n",
    "from sklearn.model_selection import train_test_split\n",
    "\n",
    "# fill in and uncomment\n",
    "train_X, val_X, train_y, val_y = train_test_split(X, y, random_state=1)\n",
    "\n",
    "# Check your answer\n",
    "step_1.check()"
   ]
  },
  {
   "cell_type": "code",
   "execution_count": 3,
   "id": "0693b42e",
   "metadata": {
    "execution": {
     "iopub.execute_input": "2024-03-17T05:34:55.848544Z",
     "iopub.status.busy": "2024-03-17T05:34:55.848120Z",
     "iopub.status.idle": "2024-03-17T05:34:55.853021Z",
     "shell.execute_reply": "2024-03-17T05:34:55.851818Z"
    },
    "papermill": {
     "duration": 0.015168,
     "end_time": "2024-03-17T05:34:55.855187",
     "exception": false,
     "start_time": "2024-03-17T05:34:55.840019",
     "status": "completed"
    },
    "tags": []
   },
   "outputs": [],
   "source": [
    "# The lines below will show you a hint or the solution.\n",
    "# step_1.hint() \n",
    "# step_1.solution()\n"
   ]
  },
  {
   "cell_type": "markdown",
   "id": "2073af44",
   "metadata": {
    "papermill": {
     "duration": 0.006276,
     "end_time": "2024-03-17T05:34:55.868066",
     "exception": false,
     "start_time": "2024-03-17T05:34:55.861790",
     "status": "completed"
    },
    "tags": []
   },
   "source": [
    "## Step 2: Specify and Fit the Model\n",
    "\n",
    "Create a `DecisionTreeRegressor` model and fit it to the relevant data.\n",
    "Set `random_state` to 1 again when creating the model."
   ]
  },
  {
   "cell_type": "code",
   "execution_count": 4,
   "id": "08989901",
   "metadata": {
    "execution": {
     "iopub.execute_input": "2024-03-17T05:34:55.883016Z",
     "iopub.status.busy": "2024-03-17T05:34:55.882605Z",
     "iopub.status.idle": "2024-03-17T05:34:55.911175Z",
     "shell.execute_reply": "2024-03-17T05:34:55.910073Z"
    },
    "papermill": {
     "duration": 0.042069,
     "end_time": "2024-03-17T05:34:55.916744",
     "exception": false,
     "start_time": "2024-03-17T05:34:55.874675",
     "status": "completed"
    },
    "tags": []
   },
   "outputs": [
    {
     "name": "stdout",
     "output_type": "stream",
     "text": [
      "[186500. 184000. 130000.  92000. 164500. 220000. 335000. 144152. 215000.\n",
      " 262000.]\n",
      "[186500. 184000. 130000.  92000. 164500. 220000. 335000. 144152. 215000.\n",
      " 262000.]\n"
     ]
    },
    {
     "data": {
      "application/javascript": [
       "parent.postMessage({\"jupyterEvent\": \"custom.exercise_interaction\", \"data\": {\"outcomeType\": 1, \"valueTowardsCompletion\": 0.25, \"interactionType\": 1, \"questionType\": 2, \"questionId\": \"2_FitModelWithTrain\", \"learnToolsVersion\": \"0.3.4\", \"failureMessage\": \"\", \"exceptionClass\": \"\", \"trace\": \"\"}}, \"*\")"
      ],
      "text/plain": [
       "<IPython.core.display.Javascript object>"
      ]
     },
     "metadata": {},
     "output_type": "display_data"
    },
    {
     "data": {
      "text/markdown": [
       "<span style=\"color:#33cc33\">Correct</span>"
      ],
      "text/plain": [
       "Correct"
      ]
     },
     "metadata": {},
     "output_type": "display_data"
    }
   ],
   "source": [
    "# You imported DecisionTreeRegressor in your last exercise\n",
    "# and that code has been copied to the setup code above. So, no need to\n",
    "# import it again\n",
    "\n",
    "# Specify the model\n",
    "iowa_model = DecisionTreeRegressor(random_state=1)\n",
    "\n",
    "# Fit iowa_model with the training data.\n",
    "iowa_model.fit(train_X, train_y)\n",
    "\n",
    "# Check your answer\n",
    "step_2.check()"
   ]
  },
  {
   "cell_type": "code",
   "execution_count": 5,
   "id": "7fba0aee",
   "metadata": {
    "execution": {
     "iopub.execute_input": "2024-03-17T05:34:55.932786Z",
     "iopub.status.busy": "2024-03-17T05:34:55.932402Z",
     "iopub.status.idle": "2024-03-17T05:34:55.936705Z",
     "shell.execute_reply": "2024-03-17T05:34:55.935581Z"
    },
    "papermill": {
     "duration": 0.015204,
     "end_time": "2024-03-17T05:34:55.938993",
     "exception": false,
     "start_time": "2024-03-17T05:34:55.923789",
     "status": "completed"
    },
    "tags": []
   },
   "outputs": [],
   "source": [
    "# step_2.hint()\n",
    "# step_2.solution()"
   ]
  },
  {
   "cell_type": "markdown",
   "id": "93b012da",
   "metadata": {
    "papermill": {
     "duration": 0.006934,
     "end_time": "2024-03-17T05:34:55.953182",
     "exception": false,
     "start_time": "2024-03-17T05:34:55.946248",
     "status": "completed"
    },
    "tags": []
   },
   "source": [
    "## Step 3: Make Predictions with Validation data\n"
   ]
  },
  {
   "cell_type": "code",
   "execution_count": 6,
   "id": "47e81493",
   "metadata": {
    "execution": {
     "iopub.execute_input": "2024-03-17T05:34:55.969708Z",
     "iopub.status.busy": "2024-03-17T05:34:55.968893Z",
     "iopub.status.idle": "2024-03-17T05:34:55.981635Z",
     "shell.execute_reply": "2024-03-17T05:34:55.980396Z"
    },
    "papermill": {
     "duration": 0.023555,
     "end_time": "2024-03-17T05:34:55.983942",
     "exception": false,
     "start_time": "2024-03-17T05:34:55.960387",
     "status": "completed"
    },
    "tags": []
   },
   "outputs": [
    {
     "data": {
      "application/javascript": [
       "parent.postMessage({\"jupyterEvent\": \"custom.exercise_interaction\", \"data\": {\"outcomeType\": 1, \"valueTowardsCompletion\": 0.25, \"interactionType\": 1, \"questionType\": 2, \"questionId\": \"3_ValPreds\", \"learnToolsVersion\": \"0.3.4\", \"failureMessage\": \"\", \"exceptionClass\": \"\", \"trace\": \"\"}}, \"*\")"
      ],
      "text/plain": [
       "<IPython.core.display.Javascript object>"
      ]
     },
     "metadata": {},
     "output_type": "display_data"
    },
    {
     "data": {
      "text/markdown": [
       "<span style=\"color:#33cc33\">Correct</span>"
      ],
      "text/plain": [
       "Correct"
      ]
     },
     "metadata": {},
     "output_type": "display_data"
    }
   ],
   "source": [
    "# Predict with all validation observations\n",
    "val_predictions = iowa_model.predict(val_X)\n",
    "\n",
    "# Check your answer\n",
    "step_3.check()"
   ]
  },
  {
   "cell_type": "code",
   "execution_count": 7,
   "id": "de4cd762",
   "metadata": {
    "execution": {
     "iopub.execute_input": "2024-03-17T05:34:56.000816Z",
     "iopub.status.busy": "2024-03-17T05:34:56.000068Z",
     "iopub.status.idle": "2024-03-17T05:34:56.004528Z",
     "shell.execute_reply": "2024-03-17T05:34:56.003565Z"
    },
    "papermill": {
     "duration": 0.015553,
     "end_time": "2024-03-17T05:34:56.006830",
     "exception": false,
     "start_time": "2024-03-17T05:34:55.991277",
     "status": "completed"
    },
    "tags": []
   },
   "outputs": [],
   "source": [
    "# step_3.hint()\n",
    "# step_3.solution()"
   ]
  },
  {
   "cell_type": "markdown",
   "id": "5edfc524",
   "metadata": {
    "papermill": {
     "duration": 0.007252,
     "end_time": "2024-03-17T05:34:56.021604",
     "exception": false,
     "start_time": "2024-03-17T05:34:56.014352",
     "status": "completed"
    },
    "tags": []
   },
   "source": [
    "Inspect your predictions and actual values from validation data."
   ]
  },
  {
   "cell_type": "code",
   "execution_count": 8,
   "id": "ce9ca6e7",
   "metadata": {
    "execution": {
     "iopub.execute_input": "2024-03-17T05:34:56.038591Z",
     "iopub.status.busy": "2024-03-17T05:34:56.038213Z",
     "iopub.status.idle": "2024-03-17T05:34:56.044119Z",
     "shell.execute_reply": "2024-03-17T05:34:56.043270Z"
    },
    "papermill": {
     "duration": 0.01788,
     "end_time": "2024-03-17T05:34:56.047015",
     "exception": false,
     "start_time": "2024-03-17T05:34:56.029135",
     "status": "completed"
    },
    "tags": []
   },
   "outputs": [
    {
     "name": "stdout",
     "output_type": "stream",
     "text": [
      "[186500. 184000. 130000.  92000. 164500.]\n",
      "258     231500\n",
      "267     179500\n",
      "288     122000\n",
      "649      84500\n",
      "1233    142000\n",
      "Name: SalePrice, dtype: int64\n"
     ]
    }
   ],
   "source": [
    "# print the top few validation predictions\n",
    "print(val_predictions[0:5])\n",
    "# print the top few actual prices from validation data\n",
    "print(val_y[0:5])"
   ]
  },
  {
   "cell_type": "markdown",
   "id": "50368617",
   "metadata": {
    "papermill": {
     "duration": 0.008289,
     "end_time": "2024-03-17T05:34:56.062754",
     "exception": false,
     "start_time": "2024-03-17T05:34:56.054465",
     "status": "completed"
    },
    "tags": []
   },
   "source": [
    "What do you notice that is different from what you saw with in-sample predictions (which are printed after the top code cell in this page).\n",
    "\n",
    "Do you remember why validation predictions differ from in-sample (or training) predictions? This is an important idea from the last lesson.\n",
    "\n",
    "## Step 4: Calculate the Mean Absolute Error in Validation Data\n"
   ]
  },
  {
   "cell_type": "code",
   "execution_count": 9,
   "id": "e63c9fc7",
   "metadata": {
    "execution": {
     "iopub.execute_input": "2024-03-17T05:34:56.079536Z",
     "iopub.status.busy": "2024-03-17T05:34:56.079094Z",
     "iopub.status.idle": "2024-03-17T05:34:56.089489Z",
     "shell.execute_reply": "2024-03-17T05:34:56.088575Z"
    },
    "papermill": {
     "duration": 0.022145,
     "end_time": "2024-03-17T05:34:56.092421",
     "exception": false,
     "start_time": "2024-03-17T05:34:56.070276",
     "status": "completed"
    },
    "tags": []
   },
   "outputs": [
    {
     "name": "stdout",
     "output_type": "stream",
     "text": [
      "29652.931506849316\n"
     ]
    },
    {
     "data": {
      "application/javascript": [
       "parent.postMessage({\"jupyterEvent\": \"custom.exercise_interaction\", \"data\": {\"outcomeType\": 1, \"valueTowardsCompletion\": 0.25, \"interactionType\": 1, \"questionType\": 1, \"questionId\": \"4_MAE\", \"learnToolsVersion\": \"0.3.4\", \"failureMessage\": \"\", \"exceptionClass\": \"\", \"trace\": \"\"}}, \"*\")"
      ],
      "text/plain": [
       "<IPython.core.display.Javascript object>"
      ]
     },
     "metadata": {},
     "output_type": "display_data"
    },
    {
     "data": {
      "text/markdown": [
       "<span style=\"color:#33cc33\">Correct</span>"
      ],
      "text/plain": [
       "Correct"
      ]
     },
     "metadata": {},
     "output_type": "display_data"
    }
   ],
   "source": [
    "from sklearn.metrics import mean_absolute_error\n",
    "val_mae = mean_absolute_error(val_y,val_predictions)\n",
    "\n",
    "# uncomment following line to see the validation_mae\n",
    "print(val_mae)\n",
    "\n",
    "# Check your answer\n",
    "step_4.check()"
   ]
  },
  {
   "cell_type": "code",
   "execution_count": 10,
   "id": "51dcd1ad",
   "metadata": {
    "execution": {
     "iopub.execute_input": "2024-03-17T05:34:56.111108Z",
     "iopub.status.busy": "2024-03-17T05:34:56.109963Z",
     "iopub.status.idle": "2024-03-17T05:34:56.114800Z",
     "shell.execute_reply": "2024-03-17T05:34:56.113948Z"
    },
    "papermill": {
     "duration": 0.016509,
     "end_time": "2024-03-17T05:34:56.116836",
     "exception": false,
     "start_time": "2024-03-17T05:34:56.100327",
     "status": "completed"
    },
    "tags": []
   },
   "outputs": [],
   "source": [
    "# step_4.hint()\n",
    "# step_4.solution()"
   ]
  },
  {
   "cell_type": "markdown",
   "id": "1168ee04",
   "metadata": {
    "papermill": {
     "duration": 0.007501,
     "end_time": "2024-03-17T05:34:56.132738",
     "exception": false,
     "start_time": "2024-03-17T05:34:56.125237",
     "status": "completed"
    },
    "tags": []
   },
   "source": [
    "Is that MAE good?  There isn't a general rule for what values are good that applies across applications. But you'll see how to use (and improve) this number in the next step.\n",
    "\n",
    "# Keep Going\n",
    "\n",
    "You are ready for **[Underfitting and Overfitting](https://www.kaggle.com/dansbecker/underfitting-and-overfitting).**\n"
   ]
  },
  {
   "cell_type": "markdown",
   "id": "785076ac",
   "metadata": {
    "papermill": {
     "duration": 0.00756,
     "end_time": "2024-03-17T05:34:56.148044",
     "exception": false,
     "start_time": "2024-03-17T05:34:56.140484",
     "status": "completed"
    },
    "tags": []
   },
   "source": [
    "---\n",
    "\n",
    "\n",
    "\n",
    "\n",
    "*Have questions or comments? Visit the [course discussion forum](https://www.kaggle.com/learn/intro-to-machine-learning/discussion) to chat with other learners.*"
   ]
  }
 ],
 "metadata": {
  "kaggle": {
   "accelerator": "none",
   "dataSources": [
    {
     "databundleVersionId": 111096,
     "sourceId": 10211,
     "sourceType": "competition"
    },
    {
     "datasetId": 11167,
     "sourceId": 15520,
     "sourceType": "datasetVersion"
    },
    {
     "datasetId": 2709,
     "sourceId": 38454,
     "sourceType": "datasetVersion"
    }
   ],
   "isGpuEnabled": false,
   "isInternetEnabled": false,
   "language": "python",
   "sourceType": "notebook"
  },
  "kernelspec": {
   "display_name": "Python 3",
   "language": "python",
   "name": "python3"
  },
  "language_info": {
   "codemirror_mode": {
    "name": "ipython",
    "version": 3
   },
   "file_extension": ".py",
   "mimetype": "text/x-python",
   "name": "python",
   "nbconvert_exporter": "python",
   "pygments_lexer": "ipython3",
   "version": "3.10.13"
  },
  "papermill": {
   "default_parameters": {},
   "duration": 7.300144,
   "end_time": "2024-03-17T05:34:56.778170",
   "environment_variables": {},
   "exception": null,
   "input_path": "__notebook__.ipynb",
   "output_path": "__notebook__.ipynb",
   "parameters": {},
   "start_time": "2024-03-17T05:34:49.478026",
   "version": "2.5.0"
  }
 },
 "nbformat": 4,
 "nbformat_minor": 5
}
