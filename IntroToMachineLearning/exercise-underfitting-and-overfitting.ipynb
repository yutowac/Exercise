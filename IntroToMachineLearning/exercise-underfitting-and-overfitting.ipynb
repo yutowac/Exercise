{
 "cells": [
  {
   "cell_type": "markdown",
   "id": "b834f031",
   "metadata": {
    "papermill": {
     "duration": 0.005471,
     "end_time": "2024-03-28T14:15:54.927487",
     "exception": false,
     "start_time": "2024-03-28T14:15:54.922016",
     "status": "completed"
    },
    "tags": []
   },
   "source": [
    "**This notebook is an exercise in the [Introduction to Machine Learning](https://www.kaggle.com/learn/intro-to-machine-learning) course.  You can reference the tutorial at [this link](https://www.kaggle.com/dansbecker/underfitting-and-overfitting).**\n",
    "\n",
    "---\n"
   ]
  },
  {
   "cell_type": "markdown",
   "id": "2ff6c716",
   "metadata": {
    "papermill": {
     "duration": 0.004379,
     "end_time": "2024-03-28T14:15:54.937042",
     "exception": false,
     "start_time": "2024-03-28T14:15:54.932663",
     "status": "completed"
    },
    "tags": []
   },
   "source": [
    "## Recap\n",
    "You've built your first model, and now it's time to optimize the size of the tree to make better predictions. Run this cell to set up your coding environment where the previous step left off."
   ]
  },
  {
   "cell_type": "code",
   "execution_count": 1,
   "id": "093e9827",
   "metadata": {
    "execution": {
     "iopub.execute_input": "2024-03-28T14:15:54.949547Z",
     "iopub.status.busy": "2024-03-28T14:15:54.948519Z",
     "iopub.status.idle": "2024-03-28T14:15:57.797023Z",
     "shell.execute_reply": "2024-03-28T14:15:57.795478Z"
    },
    "papermill": {
     "duration": 2.858978,
     "end_time": "2024-03-28T14:15:57.800613",
     "exception": false,
     "start_time": "2024-03-28T14:15:54.941635",
     "status": "completed"
    },
    "tags": []
   },
   "outputs": [
    {
     "name": "stdout",
     "output_type": "stream",
     "text": [
      "Validation MAE: 29,653\n",
      "\n",
      "Setup complete\n"
     ]
    }
   ],
   "source": [
    "# Code you have previously used to load data\n",
    "import pandas as pd\n",
    "from sklearn.metrics import mean_absolute_error\n",
    "from sklearn.model_selection import train_test_split\n",
    "from sklearn.tree import DecisionTreeRegressor\n",
    "\n",
    "\n",
    "# Path of the file to read\n",
    "iowa_file_path = '../input/home-data-for-ml-course/train.csv'\n",
    "\n",
    "home_data = pd.read_csv(iowa_file_path)\n",
    "# Create target object and call it y\n",
    "y = home_data.SalePrice\n",
    "# Create X\n",
    "features = ['LotArea', 'YearBuilt', '1stFlrSF', '2ndFlrSF', 'FullBath', 'BedroomAbvGr', 'TotRmsAbvGrd']\n",
    "X = home_data[features]\n",
    "\n",
    "# Split into validation and training data\n",
    "train_X, val_X, train_y, val_y = train_test_split(X, y, random_state=1)\n",
    "\n",
    "# Specify Model\n",
    "iowa_model = DecisionTreeRegressor(random_state=1)\n",
    "# Fit Model\n",
    "iowa_model.fit(train_X, train_y)\n",
    "\n",
    "# Make validation predictions and calculate mean absolute error\n",
    "val_predictions = iowa_model.predict(val_X)\n",
    "val_mae = mean_absolute_error(val_predictions, val_y)\n",
    "print(\"Validation MAE: {:,.0f}\".format(val_mae))\n",
    "\n",
    "# Set up code checking\n",
    "from learntools.core import binder\n",
    "binder.bind(globals())\n",
    "from learntools.machine_learning.ex5 import *\n",
    "print(\"\\nSetup complete\")"
   ]
  },
  {
   "cell_type": "markdown",
   "id": "d04aea26",
   "metadata": {
    "papermill": {
     "duration": 0.005175,
     "end_time": "2024-03-28T14:15:57.811278",
     "exception": false,
     "start_time": "2024-03-28T14:15:57.806103",
     "status": "completed"
    },
    "tags": []
   },
   "source": [
    "# Exercises\n",
    "You could write the function `get_mae` yourself. For now, we'll supply it. This is the same function you read about in the previous lesson. Just run the cell below."
   ]
  },
  {
   "cell_type": "code",
   "execution_count": 2,
   "id": "3f7a5779",
   "metadata": {
    "execution": {
     "iopub.execute_input": "2024-03-28T14:15:57.826070Z",
     "iopub.status.busy": "2024-03-28T14:15:57.824697Z",
     "iopub.status.idle": "2024-03-28T14:15:57.834053Z",
     "shell.execute_reply": "2024-03-28T14:15:57.831899Z"
    },
    "papermill": {
     "duration": 0.02152,
     "end_time": "2024-03-28T14:15:57.839025",
     "exception": false,
     "start_time": "2024-03-28T14:15:57.817505",
     "status": "completed"
    },
    "tags": []
   },
   "outputs": [],
   "source": [
    "def get_mae(max_leaf_nodes, train_X, val_X, train_y, val_y):\n",
    "    model = DecisionTreeRegressor(max_leaf_nodes=max_leaf_nodes, random_state=0)\n",
    "    model.fit(train_X, train_y)\n",
    "    preds_val = model.predict(val_X)\n",
    "    mae = mean_absolute_error(val_y, preds_val)\n",
    "    return(mae)"
   ]
  },
  {
   "cell_type": "markdown",
   "id": "60885b1f",
   "metadata": {
    "papermill": {
     "duration": 0.005496,
     "end_time": "2024-03-28T14:15:57.849851",
     "exception": false,
     "start_time": "2024-03-28T14:15:57.844355",
     "status": "completed"
    },
    "tags": []
   },
   "source": [
    "## Step 1: Compare Different Tree Sizes\n",
    "Write a loop that tries the following values for *max_leaf_nodes* from a set of possible values.\n",
    "\n",
    "Call the *get_mae* function on each value of max_leaf_nodes. Store the output in some way that allows you to select the value of `max_leaf_nodes` that gives the most accurate model on your data."
   ]
  },
  {
   "cell_type": "code",
   "execution_count": 3,
   "id": "d158ebc3",
   "metadata": {
    "execution": {
     "iopub.execute_input": "2024-03-28T14:15:57.863437Z",
     "iopub.status.busy": "2024-03-28T14:15:57.862939Z",
     "iopub.status.idle": "2024-03-28T14:15:57.921593Z",
     "shell.execute_reply": "2024-03-28T14:15:57.920529Z"
    },
    "papermill": {
     "duration": 0.07039,
     "end_time": "2024-03-28T14:15:57.926009",
     "exception": false,
     "start_time": "2024-03-28T14:15:57.855619",
     "status": "completed"
    },
    "tags": []
   },
   "outputs": [
    {
     "name": "stdout",
     "output_type": "stream",
     "text": [
      "35044.51299744237\n",
      "29016.41319191076\n",
      "27405.930473214907\n",
      "27282.50803885739\n",
      "27893.822225701646\n",
      "29454.18598068598\n"
     ]
    },
    {
     "data": {
      "application/javascript": [
       "parent.postMessage({\"jupyterEvent\": \"custom.exercise_interaction\", \"data\": {\"outcomeType\": 1, \"valueTowardsCompletion\": 0.5, \"interactionType\": 1, \"questionType\": 1, \"questionId\": \"1_BestTreeSize\", \"learnToolsVersion\": \"0.3.4\", \"failureMessage\": \"\", \"exceptionClass\": \"\", \"trace\": \"\"}}, \"*\")"
      ],
      "text/plain": [
       "<IPython.core.display.Javascript object>"
      ]
     },
     "metadata": {},
     "output_type": "display_data"
    },
    {
     "data": {
      "text/markdown": [
       "<span style=\"color:#33cc33\">Correct</span>"
      ],
      "text/plain": [
       "Correct"
      ]
     },
     "metadata": {},
     "output_type": "display_data"
    }
   ],
   "source": [
    "candidate_max_leaf_nodes = [5, 25, 50, 100, 250, 500]\n",
    "# Write loop to find the ideal tree size from candidate_max_leaf_nodes\n",
    "\n",
    "for leaf_node in candidate_max_leaf_nodes:\n",
    "    print(get_mae(leaf_node, train_X, val_X, train_y, val_y))\n",
    "\n",
    "\n",
    "# Store the best value of max_leaf_nodes (it will be either 5, 25, 50, 100, 250 or 500)\n",
    "best_tree_size = 100\n",
    "\n",
    "# Check your answer\n",
    "step_1.check()"
   ]
  },
  {
   "cell_type": "code",
   "execution_count": 4,
   "id": "5766297c",
   "metadata": {
    "execution": {
     "iopub.execute_input": "2024-03-28T14:15:57.940632Z",
     "iopub.status.busy": "2024-03-28T14:15:57.939108Z",
     "iopub.status.idle": "2024-03-28T14:15:57.945095Z",
     "shell.execute_reply": "2024-03-28T14:15:57.944076Z"
    },
    "papermill": {
     "duration": 0.016244,
     "end_time": "2024-03-28T14:15:57.947672",
     "exception": false,
     "start_time": "2024-03-28T14:15:57.931428",
     "status": "completed"
    },
    "tags": []
   },
   "outputs": [],
   "source": [
    "# The lines below will show you a hint or the solution.\n",
    "# step_1.hint() \n",
    "# step_1.solution()"
   ]
  },
  {
   "cell_type": "markdown",
   "id": "a76e1f2b",
   "metadata": {
    "papermill": {
     "duration": 0.005653,
     "end_time": "2024-03-28T14:15:57.958910",
     "exception": false,
     "start_time": "2024-03-28T14:15:57.953257",
     "status": "completed"
    },
    "tags": []
   },
   "source": [
    "## Step 2: Fit Model Using All Data\n",
    "You know the best tree size. If you were going to deploy this model in practice, you would make it even more accurate by using all of the data and keeping that tree size.  That is, you don't need to hold out the validation data now that you've made all your modeling decisions."
   ]
  },
  {
   "cell_type": "code",
   "execution_count": 5,
   "id": "20361cce",
   "metadata": {
    "execution": {
     "iopub.execute_input": "2024-03-28T14:15:57.972654Z",
     "iopub.status.busy": "2024-03-28T14:15:57.971836Z",
     "iopub.status.idle": "2024-03-28T14:15:57.992546Z",
     "shell.execute_reply": "2024-03-28T14:15:57.991259Z"
    },
    "papermill": {
     "duration": 0.030712,
     "end_time": "2024-03-28T14:15:57.995116",
     "exception": false,
     "start_time": "2024-03-28T14:15:57.964404",
     "status": "completed"
    },
    "tags": []
   },
   "outputs": [
    {
     "data": {
      "application/javascript": [
       "parent.postMessage({\"jupyterEvent\": \"custom.exercise_interaction\", \"data\": {\"outcomeType\": 1, \"valueTowardsCompletion\": 0.5, \"interactionType\": 1, \"questionType\": 2, \"questionId\": \"2_FitModelWithAllData\", \"learnToolsVersion\": \"0.3.4\", \"failureMessage\": \"\", \"exceptionClass\": \"\", \"trace\": \"\"}}, \"*\")"
      ],
      "text/plain": [
       "<IPython.core.display.Javascript object>"
      ]
     },
     "metadata": {},
     "output_type": "display_data"
    },
    {
     "data": {
      "text/markdown": [
       "<span style=\"color:#33cc33\">Correct</span>"
      ],
      "text/plain": [
       "Correct"
      ]
     },
     "metadata": {},
     "output_type": "display_data"
    }
   ],
   "source": [
    "# Fill in argument to make optimal size and uncomment\n",
    "final_model = DecisionTreeRegressor(random_state=1, max_leaf_nodes=best_tree_size)\n",
    "\n",
    "# fit the final model and uncomment the next two lines\n",
    "final_model.fit(X, y)\n",
    "\n",
    "# Check your answer\n",
    "step_2.check()"
   ]
  },
  {
   "cell_type": "code",
   "execution_count": 6,
   "id": "ccc82f9a",
   "metadata": {
    "execution": {
     "iopub.execute_input": "2024-03-28T14:15:58.009497Z",
     "iopub.status.busy": "2024-03-28T14:15:58.009008Z",
     "iopub.status.idle": "2024-03-28T14:15:58.014124Z",
     "shell.execute_reply": "2024-03-28T14:15:58.012652Z"
    },
    "papermill": {
     "duration": 0.01623,
     "end_time": "2024-03-28T14:15:58.017285",
     "exception": false,
     "start_time": "2024-03-28T14:15:58.001055",
     "status": "completed"
    },
    "tags": []
   },
   "outputs": [],
   "source": [
    "# step_2.hint()\n",
    "# step_2.solution()"
   ]
  },
  {
   "cell_type": "markdown",
   "id": "0ae1610a",
   "metadata": {
    "papermill": {
     "duration": 0.00545,
     "end_time": "2024-03-28T14:15:58.028876",
     "exception": false,
     "start_time": "2024-03-28T14:15:58.023426",
     "status": "completed"
    },
    "tags": []
   },
   "source": [
    "You've tuned this model and improved your results. But we are still using Decision Tree models, which are not very sophisticated by modern machine learning standards. In the next step you will learn to use Random Forests to improve your models even more.\n",
    "\n",
    "# Keep Going\n",
    "\n",
    "You are ready for **[Random Forests](https://www.kaggle.com/dansbecker/random-forests).**\n"
   ]
  },
  {
   "cell_type": "markdown",
   "id": "7c23cc9a",
   "metadata": {
    "papermill": {
     "duration": 0.005323,
     "end_time": "2024-03-28T14:15:58.039966",
     "exception": false,
     "start_time": "2024-03-28T14:15:58.034643",
     "status": "completed"
    },
    "tags": []
   },
   "source": [
    "---\n",
    "\n",
    "\n",
    "\n",
    "\n",
    "*Have questions or comments? Visit the [course discussion forum](https://www.kaggle.com/learn/intro-to-machine-learning/discussion) to chat with other learners.*"
   ]
  }
 ],
 "metadata": {
  "kaggle": {
   "accelerator": "none",
   "dataSources": [
    {
     "databundleVersionId": 111096,
     "sourceId": 10211,
     "sourceType": "competition"
    },
    {
     "datasetId": 11167,
     "sourceId": 15520,
     "sourceType": "datasetVersion"
    },
    {
     "datasetId": 2709,
     "sourceId": 38454,
     "sourceType": "datasetVersion"
    }
   ],
   "isGpuEnabled": false,
   "isInternetEnabled": false,
   "language": "python",
   "sourceType": "notebook"
  },
  "kernelspec": {
   "display_name": "Python 3",
   "language": "python",
   "name": "python3"
  },
  "language_info": {
   "codemirror_mode": {
    "name": "ipython",
    "version": 3
   },
   "file_extension": ".py",
   "mimetype": "text/x-python",
   "name": "python",
   "nbconvert_exporter": "python",
   "pygments_lexer": "ipython3",
   "version": "3.10.13"
  },
  "papermill": {
   "default_parameters": {},
   "duration": 7.335264,
   "end_time": "2024-03-28T14:15:58.868871",
   "environment_variables": {},
   "exception": null,
   "input_path": "__notebook__.ipynb",
   "output_path": "__notebook__.ipynb",
   "parameters": {},
   "start_time": "2024-03-28T14:15:51.533607",
   "version": "2.5.0"
  }
 },
 "nbformat": 4,
 "nbformat_minor": 5
}
