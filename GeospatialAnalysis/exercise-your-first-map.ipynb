{
 "cells": [
  {
   "cell_type": "markdown",
   "id": "d8edde00",
   "metadata": {
    "papermill": {
     "duration": 0.007688,
     "end_time": "2024-06-14T09:18:54.002758",
     "exception": false,
     "start_time": "2024-06-14T09:18:53.995070",
     "status": "completed"
    },
    "tags": []
   },
   "source": [
    "**This notebook is an exercise in the [Geospatial Analysis](https://www.kaggle.com/learn/geospatial-analysis) course.  You can reference the tutorial at [this link](https://www.kaggle.com/alexisbcook/your-first-map).**\n",
    "\n",
    "---\n"
   ]
  },
  {
   "cell_type": "markdown",
   "id": "46cd993d",
   "metadata": {
    "papermill": {
     "duration": 0.006721,
     "end_time": "2024-06-14T09:18:54.016850",
     "exception": false,
     "start_time": "2024-06-14T09:18:54.010129",
     "status": "completed"
    },
    "tags": []
   },
   "source": [
    "# Introduction\n",
    "\n",
    "[Kiva.org](https://www.kiva.org/) is an online crowdfunding platform extending financial services to poor people around the world. Kiva lenders have provided over $1 billion dollars in loans to over 2 million people.\n",
    "\n",
    "<center>\n",
    "<img src=\"https://storage.googleapis.com/kaggle-media/learn/images/2G8C53X.png\" width=\"500\"><br/>\n",
    "</center>\n",
    "\n",
    "Kiva reaches some of the most remote places in the world through their global network of \"Field Partners\". These partners are local organizations working in communities to vet borrowers, provide services, and administer loans.\n",
    "\n",
    "In this exercise, you'll investigate Kiva loans in the Philippines.  Can you identify regions that might be outside of Kiva's current network, in order to identify opportunities for recruiting new Field Partners?\n",
    "\n",
    "To get started, run the code cell below to set up our feedback system."
   ]
  },
  {
   "cell_type": "code",
   "execution_count": 1,
   "id": "9c4448fa",
   "metadata": {
    "execution": {
     "iopub.execute_input": "2024-06-14T09:18:54.032947Z",
     "iopub.status.busy": "2024-06-14T09:18:54.032504Z",
     "iopub.status.idle": "2024-06-14T09:18:59.501534Z",
     "shell.execute_reply": "2024-06-14T09:18:59.500420Z"
    },
    "papermill": {
     "duration": 5.480502,
     "end_time": "2024-06-14T09:18:59.504484",
     "exception": false,
     "start_time": "2024-06-14T09:18:54.023982",
     "status": "completed"
    },
    "tags": []
   },
   "outputs": [
    {
     "name": "stderr",
     "output_type": "stream",
     "text": [
      "/opt/conda/lib/python3.10/site-packages/learntools/geospatial/ex1.py:22: FutureWarning: The geopandas.dataset module is deprecated and will be removed in GeoPandas 1.0. You can get the original 'naturalearth_lowres' data from https://www.naturalearthdata.com/downloads/110m-cultural-vectors/.\n",
      "  world = gpd.read_file(gpd.datasets.get_path('naturalearth_lowres'))\n"
     ]
    }
   ],
   "source": [
    "import geopandas as gpd\n",
    "\n",
    "from learntools.core import binder\n",
    "binder.bind(globals())\n",
    "from learntools.geospatial.ex1 import *"
   ]
  },
  {
   "cell_type": "markdown",
   "id": "ca09485d",
   "metadata": {
    "papermill": {
     "duration": 0.007237,
     "end_time": "2024-06-14T09:18:59.519068",
     "exception": false,
     "start_time": "2024-06-14T09:18:59.511831",
     "status": "completed"
    },
    "tags": []
   },
   "source": [
    "### 1) Get the data.\n",
    "\n",
    "Use the next cell to load the shapefile located at `loans_filepath` to create a GeoDataFrame `world_loans`.  "
   ]
  },
  {
   "cell_type": "code",
   "execution_count": 2,
   "id": "6611bd0b",
   "metadata": {
    "execution": {
     "iopub.execute_input": "2024-06-14T09:18:59.535258Z",
     "iopub.status.busy": "2024-06-14T09:18:59.534843Z",
     "iopub.status.idle": "2024-06-14T09:19:03.759101Z",
     "shell.execute_reply": "2024-06-14T09:19:03.757985Z"
    },
    "papermill": {
     "duration": 4.235512,
     "end_time": "2024-06-14T09:19:03.761704",
     "exception": false,
     "start_time": "2024-06-14T09:18:59.526192",
     "status": "completed"
    },
    "tags": []
   },
   "outputs": [
    {
     "data": {
      "application/javascript": [
       "parent.postMessage({\"jupyterEvent\": \"custom.exercise_interaction\", \"data\": {\"outcomeType\": 1, \"valueTowardsCompletion\": 0.3333333333333333, \"interactionType\": 1, \"questionType\": 2, \"questionId\": \"1_Q1\", \"learnToolsVersion\": \"0.3.4\", \"failureMessage\": \"\", \"exceptionClass\": \"\", \"trace\": \"\"}}, \"*\")"
      ],
      "text/plain": [
       "<IPython.core.display.Javascript object>"
      ]
     },
     "metadata": {},
     "output_type": "display_data"
    },
    {
     "data": {
      "text/markdown": [
       "<span style=\"color:#33cc33\">Correct</span>"
      ],
      "text/plain": [
       "Correct"
      ]
     },
     "metadata": {},
     "output_type": "display_data"
    },
    {
     "data": {
      "text/html": [
       "<div>\n",
       "<style scoped>\n",
       "    .dataframe tbody tr th:only-of-type {\n",
       "        vertical-align: middle;\n",
       "    }\n",
       "\n",
       "    .dataframe tbody tr th {\n",
       "        vertical-align: top;\n",
       "    }\n",
       "\n",
       "    .dataframe thead th {\n",
       "        text-align: right;\n",
       "    }\n",
       "</style>\n",
       "<table border=\"1\" class=\"dataframe\">\n",
       "  <thead>\n",
       "    <tr style=\"text-align: right;\">\n",
       "      <th></th>\n",
       "      <th>Partner ID</th>\n",
       "      <th>Field Part</th>\n",
       "      <th>sector</th>\n",
       "      <th>Loan Theme</th>\n",
       "      <th>country</th>\n",
       "      <th>amount</th>\n",
       "      <th>geometry</th>\n",
       "    </tr>\n",
       "  </thead>\n",
       "  <tbody>\n",
       "    <tr>\n",
       "      <th>0</th>\n",
       "      <td>9</td>\n",
       "      <td>KREDIT Microfinance Institution</td>\n",
       "      <td>General Financial Inclusion</td>\n",
       "      <td>Higher Education</td>\n",
       "      <td>Cambodia</td>\n",
       "      <td>450</td>\n",
       "      <td>POINT (102.89751 13.66726)</td>\n",
       "    </tr>\n",
       "    <tr>\n",
       "      <th>1</th>\n",
       "      <td>9</td>\n",
       "      <td>KREDIT Microfinance Institution</td>\n",
       "      <td>General Financial Inclusion</td>\n",
       "      <td>Vulnerable Populations</td>\n",
       "      <td>Cambodia</td>\n",
       "      <td>20275</td>\n",
       "      <td>POINT (102.98962 13.02870)</td>\n",
       "    </tr>\n",
       "    <tr>\n",
       "      <th>2</th>\n",
       "      <td>9</td>\n",
       "      <td>KREDIT Microfinance Institution</td>\n",
       "      <td>General Financial Inclusion</td>\n",
       "      <td>Higher Education</td>\n",
       "      <td>Cambodia</td>\n",
       "      <td>9150</td>\n",
       "      <td>POINT (102.98962 13.02870)</td>\n",
       "    </tr>\n",
       "    <tr>\n",
       "      <th>3</th>\n",
       "      <td>9</td>\n",
       "      <td>KREDIT Microfinance Institution</td>\n",
       "      <td>General Financial Inclusion</td>\n",
       "      <td>Vulnerable Populations</td>\n",
       "      <td>Cambodia</td>\n",
       "      <td>604950</td>\n",
       "      <td>POINT (105.31312 12.09829)</td>\n",
       "    </tr>\n",
       "    <tr>\n",
       "      <th>4</th>\n",
       "      <td>9</td>\n",
       "      <td>KREDIT Microfinance Institution</td>\n",
       "      <td>General Financial Inclusion</td>\n",
       "      <td>Sanitation</td>\n",
       "      <td>Cambodia</td>\n",
       "      <td>275</td>\n",
       "      <td>POINT (105.31312 12.09829)</td>\n",
       "    </tr>\n",
       "  </tbody>\n",
       "</table>\n",
       "</div>"
      ],
      "text/plain": [
       "   Partner ID                       Field Part                       sector  \\\n",
       "0           9  KREDIT Microfinance Institution  General Financial Inclusion   \n",
       "1           9  KREDIT Microfinance Institution  General Financial Inclusion   \n",
       "2           9  KREDIT Microfinance Institution  General Financial Inclusion   \n",
       "3           9  KREDIT Microfinance Institution  General Financial Inclusion   \n",
       "4           9  KREDIT Microfinance Institution  General Financial Inclusion   \n",
       "\n",
       "               Loan Theme   country  amount                    geometry  \n",
       "0        Higher Education  Cambodia     450  POINT (102.89751 13.66726)  \n",
       "1  Vulnerable Populations  Cambodia   20275  POINT (102.98962 13.02870)  \n",
       "2        Higher Education  Cambodia    9150  POINT (102.98962 13.02870)  \n",
       "3  Vulnerable Populations  Cambodia  604950  POINT (105.31312 12.09829)  \n",
       "4              Sanitation  Cambodia     275  POINT (105.31312 12.09829)  "
      ]
     },
     "execution_count": 2,
     "metadata": {},
     "output_type": "execute_result"
    }
   ],
   "source": [
    "loans_filepath = \"../input/geospatial-learn-course-data/kiva_loans/kiva_loans/kiva_loans.shp\"\n",
    "\n",
    "# Your code here: Load the data\n",
    "world_loans = gpd.read_file(loans_filepath)\n",
    "\n",
    "# Check your answer\n",
    "q_1.check()\n",
    "\n",
    "# Uncomment to view the first five rows of the data\n",
    "world_loans.head()"
   ]
  },
  {
   "cell_type": "code",
   "execution_count": 3,
   "id": "f05944ff",
   "metadata": {
    "execution": {
     "iopub.execute_input": "2024-06-14T09:19:03.779996Z",
     "iopub.status.busy": "2024-06-14T09:19:03.779099Z",
     "iopub.status.idle": "2024-06-14T09:19:03.784042Z",
     "shell.execute_reply": "2024-06-14T09:19:03.782870Z"
    },
    "papermill": {
     "duration": 0.016618,
     "end_time": "2024-06-14T09:19:03.786462",
     "exception": false,
     "start_time": "2024-06-14T09:19:03.769844",
     "status": "completed"
    },
    "tags": []
   },
   "outputs": [],
   "source": [
    "# Lines below will give you a hint or solution code\n",
    "#q_1.hint()\n",
    "#q_1.solution()"
   ]
  },
  {
   "cell_type": "markdown",
   "id": "34b9e9f9",
   "metadata": {
    "papermill": {
     "duration": 0.007766,
     "end_time": "2024-06-14T09:19:03.802247",
     "exception": false,
     "start_time": "2024-06-14T09:19:03.794481",
     "status": "completed"
    },
    "tags": []
   },
   "source": [
    "### 2) Plot the data.\n",
    "\n",
    "Run the next code cell without changes to load a GeoDataFrame `world` containing country boundaries."
   ]
  },
  {
   "cell_type": "code",
   "execution_count": 4,
   "id": "931cfe2b",
   "metadata": {
    "execution": {
     "iopub.execute_input": "2024-06-14T09:19:03.820280Z",
     "iopub.status.busy": "2024-06-14T09:19:03.819880Z",
     "iopub.status.idle": "2024-06-14T09:19:03.907413Z",
     "shell.execute_reply": "2024-06-14T09:19:03.906242Z"
    },
    "papermill": {
     "duration": 0.100606,
     "end_time": "2024-06-14T09:19:03.910829",
     "exception": false,
     "start_time": "2024-06-14T09:19:03.810223",
     "status": "completed"
    },
    "tags": []
   },
   "outputs": [
    {
     "name": "stderr",
     "output_type": "stream",
     "text": [
      "/tmp/ipykernel_18/3126548565.py:2: FutureWarning: The geopandas.dataset module is deprecated and will be removed in GeoPandas 1.0. You can get the original 'naturalearth_lowres' data from https://www.naturalearthdata.com/downloads/110m-cultural-vectors/.\n",
      "  world_filepath = gpd.datasets.get_path('naturalearth_lowres')\n"
     ]
    },
    {
     "data": {
      "text/html": [
       "<div>\n",
       "<style scoped>\n",
       "    .dataframe tbody tr th:only-of-type {\n",
       "        vertical-align: middle;\n",
       "    }\n",
       "\n",
       "    .dataframe tbody tr th {\n",
       "        vertical-align: top;\n",
       "    }\n",
       "\n",
       "    .dataframe thead th {\n",
       "        text-align: right;\n",
       "    }\n",
       "</style>\n",
       "<table border=\"1\" class=\"dataframe\">\n",
       "  <thead>\n",
       "    <tr style=\"text-align: right;\">\n",
       "      <th></th>\n",
       "      <th>pop_est</th>\n",
       "      <th>continent</th>\n",
       "      <th>name</th>\n",
       "      <th>iso_a3</th>\n",
       "      <th>gdp_md_est</th>\n",
       "      <th>geometry</th>\n",
       "    </tr>\n",
       "  </thead>\n",
       "  <tbody>\n",
       "    <tr>\n",
       "      <th>0</th>\n",
       "      <td>889953.0</td>\n",
       "      <td>Oceania</td>\n",
       "      <td>Fiji</td>\n",
       "      <td>FJI</td>\n",
       "      <td>5496</td>\n",
       "      <td>MULTIPOLYGON (((180.00000 -16.06713, 180.00000...</td>\n",
       "    </tr>\n",
       "    <tr>\n",
       "      <th>1</th>\n",
       "      <td>58005463.0</td>\n",
       "      <td>Africa</td>\n",
       "      <td>Tanzania</td>\n",
       "      <td>TZA</td>\n",
       "      <td>63177</td>\n",
       "      <td>POLYGON ((33.90371 -0.95000, 34.07262 -1.05982...</td>\n",
       "    </tr>\n",
       "    <tr>\n",
       "      <th>2</th>\n",
       "      <td>603253.0</td>\n",
       "      <td>Africa</td>\n",
       "      <td>W. Sahara</td>\n",
       "      <td>ESH</td>\n",
       "      <td>907</td>\n",
       "      <td>POLYGON ((-8.66559 27.65643, -8.66512 27.58948...</td>\n",
       "    </tr>\n",
       "    <tr>\n",
       "      <th>3</th>\n",
       "      <td>37589262.0</td>\n",
       "      <td>North America</td>\n",
       "      <td>Canada</td>\n",
       "      <td>CAN</td>\n",
       "      <td>1736425</td>\n",
       "      <td>MULTIPOLYGON (((-122.84000 49.00000, -122.9742...</td>\n",
       "    </tr>\n",
       "    <tr>\n",
       "      <th>4</th>\n",
       "      <td>328239523.0</td>\n",
       "      <td>North America</td>\n",
       "      <td>United States of America</td>\n",
       "      <td>USA</td>\n",
       "      <td>21433226</td>\n",
       "      <td>MULTIPOLYGON (((-122.84000 49.00000, -120.0000...</td>\n",
       "    </tr>\n",
       "  </tbody>\n",
       "</table>\n",
       "</div>"
      ],
      "text/plain": [
       "       pop_est      continent                      name iso_a3  gdp_md_est  \\\n",
       "0     889953.0        Oceania                      Fiji    FJI        5496   \n",
       "1   58005463.0         Africa                  Tanzania    TZA       63177   \n",
       "2     603253.0         Africa                 W. Sahara    ESH         907   \n",
       "3   37589262.0  North America                    Canada    CAN     1736425   \n",
       "4  328239523.0  North America  United States of America    USA    21433226   \n",
       "\n",
       "                                            geometry  \n",
       "0  MULTIPOLYGON (((180.00000 -16.06713, 180.00000...  \n",
       "1  POLYGON ((33.90371 -0.95000, 34.07262 -1.05982...  \n",
       "2  POLYGON ((-8.66559 27.65643, -8.66512 27.58948...  \n",
       "3  MULTIPOLYGON (((-122.84000 49.00000, -122.9742...  \n",
       "4  MULTIPOLYGON (((-122.84000 49.00000, -120.0000...  "
      ]
     },
     "execution_count": 4,
     "metadata": {},
     "output_type": "execute_result"
    }
   ],
   "source": [
    "# This dataset is provided in GeoPandas\n",
    "world_filepath = gpd.datasets.get_path('naturalearth_lowres')\n",
    "world = gpd.read_file(world_filepath)\n",
    "world.head()"
   ]
  },
  {
   "cell_type": "markdown",
   "id": "c8fe6532",
   "metadata": {
    "papermill": {
     "duration": 0.007804,
     "end_time": "2024-06-14T09:19:03.926938",
     "exception": false,
     "start_time": "2024-06-14T09:19:03.919134",
     "status": "completed"
    },
    "tags": []
   },
   "source": [
    "Use the `world` and `world_loans` GeoDataFrames to visualize Kiva loan locations across the world."
   ]
  },
  {
   "cell_type": "code",
   "execution_count": 5,
   "id": "d63d6893",
   "metadata": {
    "execution": {
     "iopub.execute_input": "2024-06-14T09:19:03.945393Z",
     "iopub.status.busy": "2024-06-14T09:19:03.944585Z",
     "iopub.status.idle": "2024-06-14T09:19:05.767234Z",
     "shell.execute_reply": "2024-06-14T09:19:05.766073Z"
    },
    "papermill": {
     "duration": 1.835183,
     "end_time": "2024-06-14T09:19:05.770246",
     "exception": false,
     "start_time": "2024-06-14T09:19:03.935063",
     "status": "completed"
    },
    "tags": []
   },
   "outputs": [
    {
     "data": {
      "text/plain": [
       "<Axes: >"
      ]
     },
     "execution_count": 5,
     "metadata": {},
     "output_type": "execute_result"
    },
    {
     "data": {
      "image/png": "[encoded data removed]",
      "text/plain": [
       "<Figure size 640x480 with 1 Axes>"
      ]
     },
     "metadata": {},
     "output_type": "display_data"
    }
   ],
   "source": [
    "# Your code here\n",
    "ax = world.plot()\n",
    "world_loans.plot(ax=ax,markersize=1)\n",
    "\n",
    "# Uncomment to see a hint\n",
    "#q_2.hint()"
   ]
  },
  {
   "cell_type": "code",
   "execution_count": 6,
   "id": "0903b7fc",
   "metadata": {
    "execution": {
     "iopub.execute_input": "2024-06-14T09:19:05.790547Z",
     "iopub.status.busy": "2024-06-14T09:19:05.790172Z",
     "iopub.status.idle": "2024-06-14T09:19:05.799415Z",
     "shell.execute_reply": "2024-06-14T09:19:05.798221Z"
    },
    "papermill": {
     "duration": 0.022264,
     "end_time": "2024-06-14T09:19:05.801786",
     "exception": false,
     "start_time": "2024-06-14T09:19:05.779522",
     "status": "completed"
    },
    "tags": []
   },
   "outputs": [
    {
     "data": {
      "application/javascript": [
       "parent.postMessage({\"jupyterEvent\": \"custom.exercise_interaction\", \"data\": {\"outcomeType\": 1, \"valueTowardsCompletion\": 0.3333333333333333, \"interactionType\": 1, \"questionType\": 2, \"questionId\": \"2_Q2\", \"learnToolsVersion\": \"0.3.4\", \"failureMessage\": \"\", \"exceptionClass\": \"\", \"trace\": \"\"}}, \"*\")"
      ],
      "text/plain": [
       "<IPython.core.display.Javascript object>"
      ]
     },
     "metadata": {},
     "output_type": "display_data"
    },
    {
     "data": {
      "text/markdown": [
       "<span style=\"color:#33cc33\">Thank you for creating a map!</span>"
      ],
      "text/plain": [
       "Thank you for creating a map!"
      ]
     },
     "metadata": {},
     "output_type": "display_data"
    }
   ],
   "source": [
    "# Get credit for your work after you have created a map\n",
    "q_2.check()\n",
    "\n",
    "# Uncomment to see our solution (your code may look different!)\n",
    "# q_2.solution()"
   ]
  },
  {
   "cell_type": "markdown",
   "id": "80c54194",
   "metadata": {
    "papermill": {
     "duration": 0.009376,
     "end_time": "2024-06-14T09:19:05.820963",
     "exception": false,
     "start_time": "2024-06-14T09:19:05.811587",
     "status": "completed"
    },
    "tags": []
   },
   "source": [
    "### 3) Select loans based in the Philippines.\n",
    "\n",
    "Next, you'll focus on loans that are based in the Philippines.  Use the next code cell to create a GeoDataFrame `PHL_loans` which contains all rows from `world_loans` with loans that are based in the Philippines."
   ]
  },
  {
   "cell_type": "code",
   "execution_count": 7,
   "id": "62aab91e",
   "metadata": {
    "execution": {
     "iopub.execute_input": "2024-06-14T09:19:05.842022Z",
     "iopub.status.busy": "2024-06-14T09:19:05.841655Z",
     "iopub.status.idle": "2024-06-14T09:19:06.040314Z",
     "shell.execute_reply": "2024-06-14T09:19:06.039235Z"
    },
    "papermill": {
     "duration": 0.21288,
     "end_time": "2024-06-14T09:19:06.043597",
     "exception": false,
     "start_time": "2024-06-14T09:19:05.830717",
     "status": "completed"
    },
    "tags": []
   },
   "outputs": [
    {
     "data": {
      "application/javascript": [
       "parent.postMessage({\"jupyterEvent\": \"custom.exercise_interaction\", \"data\": {\"outcomeType\": 1, \"valueTowardsCompletion\": 0.3333333333333333, \"interactionType\": 1, \"questionType\": 2, \"questionId\": \"3_Q3\", \"learnToolsVersion\": \"0.3.4\", \"failureMessage\": \"\", \"exceptionClass\": \"\", \"trace\": \"\"}}, \"*\")"
      ],
      "text/plain": [
       "<IPython.core.display.Javascript object>"
      ]
     },
     "metadata": {},
     "output_type": "display_data"
    },
    {
     "data": {
      "text/markdown": [
       "<span style=\"color:#33cc33\">Correct</span>"
      ],
      "text/plain": [
       "Correct"
      ]
     },
     "metadata": {},
     "output_type": "display_data"
    }
   ],
   "source": [
    "# Your code here\n",
    "PHL_loans = world_loans[world_loans.country==\"Philippines\"]\n",
    "\n",
    "# Check your answer\n",
    "q_3.check()"
   ]
  },
  {
   "cell_type": "code",
   "execution_count": 8,
   "id": "a9d35b55",
   "metadata": {
    "execution": {
     "iopub.execute_input": "2024-06-14T09:19:06.065639Z",
     "iopub.status.busy": "2024-06-14T09:19:06.065274Z",
     "iopub.status.idle": "2024-06-14T09:19:06.070197Z",
     "shell.execute_reply": "2024-06-14T09:19:06.069030Z"
    },
    "papermill": {
     "duration": 0.018843,
     "end_time": "2024-06-14T09:19:06.072609",
     "exception": false,
     "start_time": "2024-06-14T09:19:06.053766",
     "status": "completed"
    },
    "tags": []
   },
   "outputs": [],
   "source": [
    "# Lines below will give you a hint or solution code\n",
    "#q_3.hint()\n",
    "#q_3.solution()"
   ]
  },
  {
   "cell_type": "markdown",
   "id": "ea4bc87f",
   "metadata": {
    "papermill": {
     "duration": 0.009933,
     "end_time": "2024-06-14T09:19:06.092652",
     "exception": false,
     "start_time": "2024-06-14T09:19:06.082719",
     "status": "completed"
    },
    "tags": []
   },
   "source": [
    "### 4) Understand loans in the Philippines.\n",
    "\n",
    "Run the next code cell without changes to load a GeoDataFrame `PHL` containing boundaries for all islands in the Philippines."
   ]
  },
  {
   "cell_type": "code",
   "execution_count": 9,
   "id": "78493b66",
   "metadata": {
    "execution": {
     "iopub.execute_input": "2024-06-14T09:19:06.115818Z",
     "iopub.status.busy": "2024-06-14T09:19:06.115455Z",
     "iopub.status.idle": "2024-06-14T09:19:10.345991Z",
     "shell.execute_reply": "2024-06-14T09:19:10.344725Z"
    },
    "papermill": {
     "duration": 4.2452,
     "end_time": "2024-06-14T09:19:10.348592",
     "exception": false,
     "start_time": "2024-06-14T09:19:06.103392",
     "status": "completed"
    },
    "tags": []
   },
   "outputs": [
    {
     "data": {
      "text/html": [
       "<div>\n",
       "<style scoped>\n",
       "    .dataframe tbody tr th:only-of-type {\n",
       "        vertical-align: middle;\n",
       "    }\n",
       "\n",
       "    .dataframe tbody tr th {\n",
       "        vertical-align: top;\n",
       "    }\n",
       "\n",
       "    .dataframe thead th {\n",
       "        text-align: right;\n",
       "    }\n",
       "</style>\n",
       "<table border=\"1\" class=\"dataframe\">\n",
       "  <thead>\n",
       "    <tr style=\"text-align: right;\">\n",
       "      <th></th>\n",
       "      <th>Name</th>\n",
       "      <th>Description</th>\n",
       "      <th>geometry</th>\n",
       "    </tr>\n",
       "  </thead>\n",
       "  <tbody>\n",
       "    <tr>\n",
       "      <th>0</th>\n",
       "      <td>Autonomous Region in Muslim Mindanao</td>\n",
       "      <td></td>\n",
       "      <td>MULTIPOLYGON (((119.46690 4.58718, 119.46653 4...</td>\n",
       "    </tr>\n",
       "    <tr>\n",
       "      <th>1</th>\n",
       "      <td>Bicol Region</td>\n",
       "      <td></td>\n",
       "      <td>MULTIPOLYGON (((124.04577 11.57862, 124.04594 ...</td>\n",
       "    </tr>\n",
       "    <tr>\n",
       "      <th>2</th>\n",
       "      <td>Cagayan Valley</td>\n",
       "      <td></td>\n",
       "      <td>MULTIPOLYGON (((122.51581 17.04436, 122.51568 ...</td>\n",
       "    </tr>\n",
       "    <tr>\n",
       "      <th>3</th>\n",
       "      <td>Calabarzon</td>\n",
       "      <td></td>\n",
       "      <td>MULTIPOLYGON (((120.49202 14.05403, 120.49201 ...</td>\n",
       "    </tr>\n",
       "    <tr>\n",
       "      <th>4</th>\n",
       "      <td>Caraga</td>\n",
       "      <td></td>\n",
       "      <td>MULTIPOLYGON (((126.45401 8.24400, 126.45407 8...</td>\n",
       "    </tr>\n",
       "  </tbody>\n",
       "</table>\n",
       "</div>"
      ],
      "text/plain": [
       "                                   Name Description  \\\n",
       "0  Autonomous Region in Muslim Mindanao               \n",
       "1                          Bicol Region               \n",
       "2                        Cagayan Valley               \n",
       "3                            Calabarzon               \n",
       "4                                Caraga               \n",
       "\n",
       "                                            geometry  \n",
       "0  MULTIPOLYGON (((119.46690 4.58718, 119.46653 4...  \n",
       "1  MULTIPOLYGON (((124.04577 11.57862, 124.04594 ...  \n",
       "2  MULTIPOLYGON (((122.51581 17.04436, 122.51568 ...  \n",
       "3  MULTIPOLYGON (((120.49202 14.05403, 120.49201 ...  \n",
       "4  MULTIPOLYGON (((126.45401 8.24400, 126.45407 8...  "
      ]
     },
     "execution_count": 9,
     "metadata": {},
     "output_type": "execute_result"
    }
   ],
   "source": [
    "# Load a KML file containing island boundaries\n",
    "gpd.io.file.fiona.drvsupport.supported_drivers['KML'] = 'rw'\n",
    "PHL = gpd.read_file(\"../input/geospatial-learn-course-data/Philippines_AL258.kml\", driver='KML')\n",
    "PHL.head()"
   ]
  },
  {
   "cell_type": "markdown",
   "id": "36baee5a",
   "metadata": {
    "papermill": {
     "duration": 0.009887,
     "end_time": "2024-06-14T09:19:10.368743",
     "exception": false,
     "start_time": "2024-06-14T09:19:10.358856",
     "status": "completed"
    },
    "tags": []
   },
   "source": [
    "Use the `PHL` and `PHL_loans` GeoDataFrames to visualize loans in the Philippines."
   ]
  },
  {
   "cell_type": "code",
   "execution_count": 10,
   "id": "bbb1213a",
   "metadata": {
    "execution": {
     "iopub.execute_input": "2024-06-14T09:19:10.390989Z",
     "iopub.status.busy": "2024-06-14T09:19:10.390577Z",
     "iopub.status.idle": "2024-06-14T09:19:12.380027Z",
     "shell.execute_reply": "2024-06-14T09:19:12.378844Z"
    },
    "papermill": {
     "duration": 2.003465,
     "end_time": "2024-06-14T09:19:12.382473",
     "exception": false,
     "start_time": "2024-06-14T09:19:10.379008",
     "status": "completed"
    },
    "tags": []
   },
   "outputs": [
    {
     "data": {
      "text/plain": [
       "<Axes: >"
      ]
     },
     "execution_count": 10,
     "metadata": {},
     "output_type": "execute_result"
    },
    {
     "data": {
      "image/png": "[encoded data removed]",
      "text/plain": [
       "<Figure size 640x480 with 1 Axes>"
      ]
     },
     "metadata": {},
     "output_type": "display_data"
    }
   ],
   "source": [
    "# Your code here\n",
    "ax = PHL.plot()\n",
    "PHL_loans.plot(ax=ax,markersize=1)\n",
    "\n",
    "# Uncomment to see a hint\n",
    "#q_4.a.hint()"
   ]
  },
  {
   "cell_type": "code",
   "execution_count": 11,
   "id": "167b31aa",
   "metadata": {
    "execution": {
     "iopub.execute_input": "2024-06-14T09:19:12.406996Z",
     "iopub.status.busy": "2024-06-14T09:19:12.406578Z",
     "iopub.status.idle": "2024-06-14T09:19:12.415698Z",
     "shell.execute_reply": "2024-06-14T09:19:12.414614Z"
    },
    "papermill": {
     "duration": 0.024218,
     "end_time": "2024-06-14T09:19:12.418161",
     "exception": false,
     "start_time": "2024-06-14T09:19:12.393943",
     "status": "completed"
    },
    "tags": []
   },
   "outputs": [
    {
     "data": {
      "application/javascript": [
       "parent.postMessage({\"jupyterEvent\": \"custom.exercise_interaction\", \"data\": {\"outcomeType\": 1, \"valueTowardsCompletion\": 0.3333333333333333, \"interactionType\": 1, \"questionType\": 2, \"questionId\": \"4.1_Q4P\", \"learnToolsVersion\": \"0.3.4\", \"failureMessage\": \"\", \"exceptionClass\": \"\", \"trace\": \"\"}}, \"*\")"
      ],
      "text/plain": [
       "<IPython.core.display.Javascript object>"
      ]
     },
     "metadata": {},
     "output_type": "display_data"
    },
    {
     "data": {
      "text/markdown": [
       "<span style=\"color:#33cc33\">Thank you for creating a map!</span>"
      ],
      "text/plain": [
       "Thank you for creating a map!"
      ]
     },
     "metadata": {},
     "output_type": "display_data"
    }
   ],
   "source": [
    "# Get credit for your work after you have created a map\n",
    "q_4.a.check()\n",
    "\n",
    "# Uncomment to see our solution (your code may look different!)\n",
    "#q_4.a.solution()"
   ]
  },
  {
   "cell_type": "markdown",
   "id": "207f567e",
   "metadata": {
    "papermill": {
     "duration": 0.011141,
     "end_time": "2024-06-14T09:19:12.440854",
     "exception": false,
     "start_time": "2024-06-14T09:19:12.429713",
     "status": "completed"
    },
    "tags": []
   },
   "source": [
    "Can you identify any islands where it might be useful to recruit new Field Partners?  Do any islands currently look outside of Kiva's reach?\n",
    "\n",
    "You might find [this map](https://bit.ly/2U2G7x7) useful to answer the question."
   ]
  },
  {
   "cell_type": "code",
   "execution_count": 12,
   "id": "10263beb",
   "metadata": {
    "execution": {
     "iopub.execute_input": "2024-06-14T09:19:12.465917Z",
     "iopub.status.busy": "2024-06-14T09:19:12.465535Z",
     "iopub.status.idle": "2024-06-14T09:19:12.474580Z",
     "shell.execute_reply": "2024-06-14T09:19:12.473475Z"
    },
    "papermill": {
     "duration": 0.024869,
     "end_time": "2024-06-14T09:19:12.477148",
     "exception": false,
     "start_time": "2024-06-14T09:19:12.452279",
     "status": "completed"
    },
    "tags": []
   },
   "outputs": [
    {
     "data": {
      "application/javascript": [
       "parent.postMessage({\"jupyterEvent\": \"custom.exercise_interaction\", \"data\": {\"interactionType\": 3, \"questionType\": 4, \"questionId\": \"4.2_Q4T\", \"learnToolsVersion\": \"0.3.4\", \"valueTowardsCompletion\": 0.0, \"failureMessage\": \"\", \"exceptionClass\": \"\", \"trace\": \"\", \"outcomeType\": 4}}, \"*\")"
      ],
      "text/plain": [
       "<IPython.core.display.Javascript object>"
      ]
     },
     "metadata": {},
     "output_type": "display_data"
    },
    {
     "data": {
      "text/markdown": [
       "<span style=\"color:#33cc99\">Solution:</span> There are a number of potential islands, but **Mindoro** (in the central part of the Philippines) stands out as a relatively large island without any loans in the current dataset.  This island is potentially a good location for recruiting new Field Partners!"
      ],
      "text/plain": [
       "Solution: There are a number of potential islands, but **Mindoro** (in the central part of the Philippines) stands out as a relatively large island without any loans in the current dataset.  This island is potentially a good location for recruiting new Field Partners!"
      ]
     },
     "metadata": {},
     "output_type": "display_data"
    }
   ],
   "source": [
    "# View the solution (Run this code cell to receive credit!)\n",
    "q_4.b.solution()"
   ]
  },
  {
   "cell_type": "markdown",
   "id": "aea1a3a3",
   "metadata": {
    "papermill": {
     "duration": 0.011621,
     "end_time": "2024-06-14T09:19:12.500650",
     "exception": false,
     "start_time": "2024-06-14T09:19:12.489029",
     "status": "completed"
    },
    "tags": []
   },
   "source": [
    "# Keep going\n",
    "\n",
    "Continue to learn about **[coordinate reference systems](https://www.kaggle.com/alexisbcook/coordinate-reference-systems)**."
   ]
  },
  {
   "cell_type": "markdown",
   "id": "015757f9",
   "metadata": {
    "papermill": {
     "duration": 0.011241,
     "end_time": "2024-06-14T09:19:12.523667",
     "exception": false,
     "start_time": "2024-06-14T09:19:12.512426",
     "status": "completed"
    },
    "tags": []
   },
   "source": [
    "---\n",
    "\n",
    "\n",
    "\n",
    "\n",
    "*Have questions or comments? Visit the [course discussion forum](https://www.kaggle.com/learn/geospatial-analysis/discussion) to chat with other learners.*"
   ]
  }
 ],
 "metadata": {
  "kaggle": {
   "accelerator": "none",
   "dataSources": [
    {
     "datasetId": 348259,
     "sourceId": 695175,
     "sourceType": "datasetVersion"
    },
    {
     "datasetId": 116573,
     "sourceId": 3551030,
     "sourceType": "datasetVersion"
    }
   ],
   "isGpuEnabled": false,
   "isInternetEnabled": false,
   "language": "python",
   "sourceType": "notebook"
  },
  "kernelspec": {
   "display_name": "Python 3",
   "language": "python",
   "name": "python3"
  },
  "language_info": {
   "codemirror_mode": {
    "name": "ipython",
    "version": 3
   },
   "file_extension": ".py",
   "mimetype": "text/x-python",
   "name": "python",
   "nbconvert_exporter": "python",
   "pygments_lexer": "ipython3",
   "version": "3.10.13"
  },
  "papermill": {
   "default_parameters": {},
   "duration": 22.467069,
   "end_time": "2024-06-14T09:19:13.358352",
   "environment_variables": {},
   "exception": null,
   "input_path": "__notebook__.ipynb",
   "output_path": "__notebook__.ipynb",
   "parameters": {},
   "start_time": "2024-06-14T09:18:50.891283",
   "version": "2.5.0"
  }
 },
 "nbformat": 4,
 "nbformat_minor": 5
}
